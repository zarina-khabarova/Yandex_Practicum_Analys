{
 "cells": [
  {
   "cell_type": "markdown",
   "metadata": {},
   "source": [
    "# Анализ гипотез по увеличению выручки интернет - магазина, а также анализ результатов А/В - теста"
   ]
  },
  {
   "cell_type": "markdown",
   "metadata": {},
   "source": [
    "### Краткое описание проекта\n",
    "\n",
    "По уже имеющимся данным крупного интернет-магазина необходимо провести анализ. Отдел маркетинга совместно с аналитическим отделом подготовили список гипотез для увеличения выручки. Главная задача - приоритизировать гипотезы, запустить A/B-тест и проанализировать результаты.\n",
    "\n",
    "Из открытых источников доступны следующие данные:\n",
    "1. Девять гипотез по увеличению выручки интернет-магазина с указанными параметрами Reach, Impact, Confidence, Effort.\n",
    "\n",
    "Необходимо:\n",
    "\n",
    "1.1. Применить фреймворк ICE для приоритизации гипотез.\n",
    "<br>1.2. Применить фреймворк RICE для приоритизации гипотез.\n",
    "<br>1.3. Указать, как изменилась приоритизация гипотез при применении RICE вместо ICE.\n",
    "\n",
    "2. Результаты анализа А/В -теста.\n",
    "\n",
    "Необходимо:\n",
    "\n",
    "2.1. Проанализировать A/B-тест.\n",
    "<br>2.2. Принять решение по результатам теста.\n",
    "\n",
    "<b>Цель исследования</b> - провести приоритизацию гипотез, проанализировать результаты проведенного  А/В -теста и принять одно из решений (остановить тест, зафиксировать победу одной из групп; остановить тест, зафиксировать отсутствие различий между группами; продолжить тест).\n",
    "\n",
    "<b>Ход исследования</b><br><br>\n",
    "Данные о гипотезах были получены из файла: `/datasets/hypothesis.csv`.\n",
    "<br>Данные с результатами А/В -теста были получены из файлов: `/datasets/orders.csv` , `/datasets/visitors.csv`. О качестве данных ничего неизвестно. Поэтому перед анализом понадобится обзор данных.\n",
    "\n",
    "В ходе исследования результатов  А/В -теста необходимо построить графики кумулятивной выручки и среднего чека по группам, построить точечный график количества заказов по пользователям, выявить границу для определения аномальных заказов и пользователей, посчитать 95-й и 99-й перцентили количества заказов на пользователя, посчитать статистическую значимость различий в среднем количестве заказов между группами по «сырым» и \"очищенным\" данным и др."
   ]
  },
  {
   "cell_type": "markdown",
   "metadata": {},
   "source": [
    "\n",
    "<div>\n",
    "<b>Описание данных</b><br>\n",
    "    \n",
    "<b>Данные для первой части</b><br>\n",
    "    \n",
    "Файл `/datasets/hypothesis.csv`<br>\n",
    "* `Hypothesis` — краткое описание гипотезы;<br>\n",
    "* `Reach` — охват пользователей по 10-балльной шкале;<br>\n",
    "* `Impact` — влияние на пользователей по 10-балльной шкале;<br>\n",
    "* `Confidence` — уверенность в гипотезе по 10-балльной шкале;<br>\n",
    "* `Efforts` — затраты ресурсов на проверку гипотезы по 10-балльной шкале. Чем больше значение Efforts, тем дороже проверка гипотезы.<br>\n",
    "\n",
    "<b>Данные для второй части</b><br>\n",
    "    \n",
    "Файл `/datasets/orders.csv`<br>\n",
    "* `transactionId` — идентификатор заказа; <br>\n",
    "* `visitorId` — идентификатор пользователя, совершившего заказ;<br>\n",
    "* `date` — дата, когда был совершён заказ;<br>\n",
    "* `revenue` — выручка заказа;<br>\n",
    "* `group` — группа A/B-теста, в которую попал заказ.<br>\n",
    "Файл `/datasets/visitors.csv`<br>\n",
    "* `date` — дата;<br>\n",
    "* `group` — группа A/B-теста;<br>\n",
    "* `visitors` — количество пользователей в указанную дату в указанной группе A/B-теста<br>\n",
    "</div>"
   ]
  },
  {
   "cell_type": "markdown",
   "metadata": {},
   "source": [
    "### Часть 1. Приоритизация гипотез"
   ]
  },
  {
   "cell_type": "code",
   "execution_count": 1,
   "metadata": {},
   "outputs": [],
   "source": [
    "import pandas as pd\n",
    "import matplotlib.pyplot as plt"
   ]
  },
  {
   "cell_type": "code",
   "execution_count": 2,
   "metadata": {},
   "outputs": [],
   "source": [
    "try:\n",
    "    data = pd.read_csv('/datasets/hypothesis.csv')\n",
    "except:\n",
    "    data = pd.read_csv('https://code.s3.yandex.net/datasets/hypothesis.csv')"
   ]
  },
  {
   "cell_type": "markdown",
   "metadata": {},
   "source": [
    "#### Знакомство с датафреймом"
   ]
  },
  {
   "cell_type": "code",
   "execution_count": 3,
   "metadata": {},
   "outputs": [
    {
     "data": {
      "text/html": [
       "<div>\n",
       "<style scoped>\n",
       "    .dataframe tbody tr th:only-of-type {\n",
       "        vertical-align: middle;\n",
       "    }\n",
       "\n",
       "    .dataframe tbody tr th {\n",
       "        vertical-align: top;\n",
       "    }\n",
       "\n",
       "    .dataframe thead th {\n",
       "        text-align: right;\n",
       "    }\n",
       "</style>\n",
       "<table border=\"1\" class=\"dataframe\">\n",
       "  <thead>\n",
       "    <tr style=\"text-align: right;\">\n",
       "      <th></th>\n",
       "      <th>Hypothesis</th>\n",
       "      <th>Reach</th>\n",
       "      <th>Impact</th>\n",
       "      <th>Confidence</th>\n",
       "      <th>Efforts</th>\n",
       "    </tr>\n",
       "  </thead>\n",
       "  <tbody>\n",
       "    <tr>\n",
       "      <th>0</th>\n",
       "      <td>Добавить два новых канала привлечения трафика,...</td>\n",
       "      <td>3</td>\n",
       "      <td>10</td>\n",
       "      <td>8</td>\n",
       "      <td>6</td>\n",
       "    </tr>\n",
       "    <tr>\n",
       "      <th>1</th>\n",
       "      <td>Запустить собственную службу доставки, что сок...</td>\n",
       "      <td>2</td>\n",
       "      <td>5</td>\n",
       "      <td>4</td>\n",
       "      <td>10</td>\n",
       "    </tr>\n",
       "    <tr>\n",
       "      <th>2</th>\n",
       "      <td>Добавить блоки рекомендаций товаров на сайт ин...</td>\n",
       "      <td>8</td>\n",
       "      <td>3</td>\n",
       "      <td>7</td>\n",
       "      <td>3</td>\n",
       "    </tr>\n",
       "    <tr>\n",
       "      <th>3</th>\n",
       "      <td>Изменить структура категорий, что увеличит кон...</td>\n",
       "      <td>8</td>\n",
       "      <td>3</td>\n",
       "      <td>3</td>\n",
       "      <td>8</td>\n",
       "    </tr>\n",
       "    <tr>\n",
       "      <th>4</th>\n",
       "      <td>Изменить цвет фона главной страницы, чтобы уве...</td>\n",
       "      <td>3</td>\n",
       "      <td>1</td>\n",
       "      <td>1</td>\n",
       "      <td>1</td>\n",
       "    </tr>\n",
       "    <tr>\n",
       "      <th>5</th>\n",
       "      <td>Добавить страницу отзывов клиентов о магазине,...</td>\n",
       "      <td>3</td>\n",
       "      <td>2</td>\n",
       "      <td>2</td>\n",
       "      <td>3</td>\n",
       "    </tr>\n",
       "    <tr>\n",
       "      <th>6</th>\n",
       "      <td>Показать на главной странице баннеры с актуаль...</td>\n",
       "      <td>5</td>\n",
       "      <td>3</td>\n",
       "      <td>8</td>\n",
       "      <td>3</td>\n",
       "    </tr>\n",
       "    <tr>\n",
       "      <th>7</th>\n",
       "      <td>Добавить форму подписки на все основные страни...</td>\n",
       "      <td>10</td>\n",
       "      <td>7</td>\n",
       "      <td>8</td>\n",
       "      <td>5</td>\n",
       "    </tr>\n",
       "    <tr>\n",
       "      <th>8</th>\n",
       "      <td>Запустить акцию, дающую скидку на товар в день...</td>\n",
       "      <td>1</td>\n",
       "      <td>9</td>\n",
       "      <td>9</td>\n",
       "      <td>5</td>\n",
       "    </tr>\n",
       "  </tbody>\n",
       "</table>\n",
       "</div>"
      ],
      "text/plain": [
       "                                          Hypothesis  Reach  Impact  \\\n",
       "0  Добавить два новых канала привлечения трафика,...      3      10   \n",
       "1  Запустить собственную службу доставки, что сок...      2       5   \n",
       "2  Добавить блоки рекомендаций товаров на сайт ин...      8       3   \n",
       "3  Изменить структура категорий, что увеличит кон...      8       3   \n",
       "4  Изменить цвет фона главной страницы, чтобы уве...      3       1   \n",
       "5  Добавить страницу отзывов клиентов о магазине,...      3       2   \n",
       "6  Показать на главной странице баннеры с актуаль...      5       3   \n",
       "7  Добавить форму подписки на все основные страни...     10       7   \n",
       "8  Запустить акцию, дающую скидку на товар в день...      1       9   \n",
       "\n",
       "   Confidence  Efforts  \n",
       "0           8        6  \n",
       "1           4       10  \n",
       "2           7        3  \n",
       "3           3        8  \n",
       "4           1        1  \n",
       "5           2        3  \n",
       "6           8        3  \n",
       "7           8        5  \n",
       "8           9        5  "
      ]
     },
     "metadata": {},
     "output_type": "display_data"
    }
   ],
   "source": [
    "display(data)"
   ]
  },
  {
   "cell_type": "markdown",
   "metadata": {},
   "source": [
    "Выведем полные названия гипотез, так как сейчас не доступно для чтения окончание, для этого \"расширим\" границы таблицы путем следующей формулы."
   ]
  },
  {
   "cell_type": "code",
   "execution_count": 4,
   "metadata": {},
   "outputs": [
    {
     "data": {
      "text/html": [
       "<div>\n",
       "<style scoped>\n",
       "    .dataframe tbody tr th:only-of-type {\n",
       "        vertical-align: middle;\n",
       "    }\n",
       "\n",
       "    .dataframe tbody tr th {\n",
       "        vertical-align: top;\n",
       "    }\n",
       "\n",
       "    .dataframe thead th {\n",
       "        text-align: right;\n",
       "    }\n",
       "</style>\n",
       "<table border=\"1\" class=\"dataframe\">\n",
       "  <thead>\n",
       "    <tr style=\"text-align: right;\">\n",
       "      <th></th>\n",
       "      <th>Hypothesis</th>\n",
       "      <th>Reach</th>\n",
       "      <th>Impact</th>\n",
       "      <th>Confidence</th>\n",
       "      <th>Efforts</th>\n",
       "    </tr>\n",
       "  </thead>\n",
       "  <tbody>\n",
       "    <tr>\n",
       "      <th>0</th>\n",
       "      <td>Добавить два новых канала привлечения трафика, что позволит привлекать на 30% больше пользователей</td>\n",
       "      <td>3</td>\n",
       "      <td>10</td>\n",
       "      <td>8</td>\n",
       "      <td>6</td>\n",
       "    </tr>\n",
       "    <tr>\n",
       "      <th>1</th>\n",
       "      <td>Запустить собственную службу доставки, что сократит срок доставки заказов</td>\n",
       "      <td>2</td>\n",
       "      <td>5</td>\n",
       "      <td>4</td>\n",
       "      <td>10</td>\n",
       "    </tr>\n",
       "    <tr>\n",
       "      <th>2</th>\n",
       "      <td>Добавить блоки рекомендаций товаров на сайт интернет магазина, чтобы повысить конверсию и средний чек заказа</td>\n",
       "      <td>8</td>\n",
       "      <td>3</td>\n",
       "      <td>7</td>\n",
       "      <td>3</td>\n",
       "    </tr>\n",
       "    <tr>\n",
       "      <th>3</th>\n",
       "      <td>Изменить структура категорий, что увеличит конверсию, т.к. пользователи быстрее найдут нужный товар</td>\n",
       "      <td>8</td>\n",
       "      <td>3</td>\n",
       "      <td>3</td>\n",
       "      <td>8</td>\n",
       "    </tr>\n",
       "    <tr>\n",
       "      <th>4</th>\n",
       "      <td>Изменить цвет фона главной страницы, чтобы увеличить вовлеченность пользователей</td>\n",
       "      <td>3</td>\n",
       "      <td>1</td>\n",
       "      <td>1</td>\n",
       "      <td>1</td>\n",
       "    </tr>\n",
       "  </tbody>\n",
       "</table>\n",
       "</div>"
      ],
      "text/plain": [
       "                                                                                                     Hypothesis  \\\n",
       "0            Добавить два новых канала привлечения трафика, что позволит привлекать на 30% больше пользователей   \n",
       "1                                     Запустить собственную службу доставки, что сократит срок доставки заказов   \n",
       "2  Добавить блоки рекомендаций товаров на сайт интернет магазина, чтобы повысить конверсию и средний чек заказа   \n",
       "3           Изменить структура категорий, что увеличит конверсию, т.к. пользователи быстрее найдут нужный товар   \n",
       "4                              Изменить цвет фона главной страницы, чтобы увеличить вовлеченность пользователей   \n",
       "\n",
       "   Reach  Impact  Confidence  Efforts  \n",
       "0      3      10           8        6  \n",
       "1      2       5           4       10  \n",
       "2      8       3           7        3  \n",
       "3      8       3           3        8  \n",
       "4      3       1           1        1  "
      ]
     },
     "execution_count": 4,
     "metadata": {},
     "output_type": "execute_result"
    }
   ],
   "source": [
    "#расширим границы таблицы для прочтения данных столбца Hypothesis\n",
    "pd.set_option('display.max_colwidth', None)\n",
    "data.head()"
   ]
  },
  {
   "cell_type": "markdown",
   "metadata": {},
   "source": [
    "##### Основная информация о датафрейме"
   ]
  },
  {
   "cell_type": "code",
   "execution_count": 5,
   "metadata": {},
   "outputs": [
    {
     "name": "stdout",
     "output_type": "stream",
     "text": [
      "<class 'pandas.core.frame.DataFrame'>\n",
      "RangeIndex: 9 entries, 0 to 8\n",
      "Data columns (total 5 columns):\n",
      " #   Column      Non-Null Count  Dtype \n",
      "---  ------      --------------  ----- \n",
      " 0   Hypothesis  9 non-null      object\n",
      " 1   Reach       9 non-null      int64 \n",
      " 2   Impact      9 non-null      int64 \n",
      " 3   Confidence  9 non-null      int64 \n",
      " 4   Efforts     9 non-null      int64 \n",
      "dtypes: int64(4), object(1)\n",
      "memory usage: 488.0+ bytes\n"
     ]
    }
   ],
   "source": [
    "data.info()"
   ]
  },
  {
   "cell_type": "markdown",
   "metadata": {},
   "source": [
    "#####  Замена названий столбцов (приведение к нижнему регистру)"
   ]
  },
  {
   "cell_type": "code",
   "execution_count": 6,
   "metadata": {},
   "outputs": [],
   "source": [
    "# переименование столбцов в датафрейме data\n",
    "data = data.rename(columns={'Hypothesis' : 'hypothesis', 'Reach' : 'reach', 'Impact': 'impact', 'Confidence' : 'confidence', 'Efforts': 'efforts'})"
   ]
  },
  {
   "cell_type": "code",
   "execution_count": 7,
   "metadata": {},
   "outputs": [
    {
     "data": {
      "text/plain": [
       "Index(['hypothesis', 'reach', 'impact', 'confidence', 'efforts'], dtype='object')"
      ]
     },
     "execution_count": 7,
     "metadata": {},
     "output_type": "execute_result"
    }
   ],
   "source": [
    "# проверка результатов - перечень названий столбцов\n",
    "data.columns"
   ]
  },
  {
   "cell_type": "markdown",
   "metadata": {},
   "source": [
    "##### Исследование, проверка на пропуски"
   ]
  },
  {
   "cell_type": "code",
   "execution_count": 8,
   "metadata": {},
   "outputs": [
    {
     "data": {
      "text/html": [
       "<style  type=\"text/css\" >\n",
       "#T_a339b_row0_col0,#T_a339b_row1_col0,#T_a339b_row2_col0,#T_a339b_row3_col0,#T_a339b_row4_col0{\n",
       "            background-color:  #3b4cc0;\n",
       "            color:  #f1f1f1;\n",
       "        }</style><table id=\"T_a339b_\" ><thead>    <tr>        <th class=\"blank level0\" ></th>        <th class=\"col_heading level0 col0\" >0</th>    </tr></thead><tbody>\n",
       "                <tr>\n",
       "                        <th id=\"T_a339b_level0_row0\" class=\"row_heading level0 row0\" >hypothesis</th>\n",
       "                        <td id=\"T_a339b_row0_col0\" class=\"data row0 col0\" >0.000000</td>\n",
       "            </tr>\n",
       "            <tr>\n",
       "                        <th id=\"T_a339b_level0_row1\" class=\"row_heading level0 row1\" >reach</th>\n",
       "                        <td id=\"T_a339b_row1_col0\" class=\"data row1 col0\" >0.000000</td>\n",
       "            </tr>\n",
       "            <tr>\n",
       "                        <th id=\"T_a339b_level0_row2\" class=\"row_heading level0 row2\" >impact</th>\n",
       "                        <td id=\"T_a339b_row2_col0\" class=\"data row2 col0\" >0.000000</td>\n",
       "            </tr>\n",
       "            <tr>\n",
       "                        <th id=\"T_a339b_level0_row3\" class=\"row_heading level0 row3\" >confidence</th>\n",
       "                        <td id=\"T_a339b_row3_col0\" class=\"data row3 col0\" >0.000000</td>\n",
       "            </tr>\n",
       "            <tr>\n",
       "                        <th id=\"T_a339b_level0_row4\" class=\"row_heading level0 row4\" >efforts</th>\n",
       "                        <td id=\"T_a339b_row4_col0\" class=\"data row4 col0\" >0.000000</td>\n",
       "            </tr>\n",
       "    </tbody></table>"
      ],
      "text/plain": [
       "<pandas.io.formats.style.Styler at 0x7ff46883b220>"
      ]
     },
     "execution_count": 8,
     "metadata": {},
     "output_type": "execute_result"
    }
   ],
   "source": [
    "#посчитаем количество пропусков в процентах в каждом столбце датафрейма data\n",
    "pd.DataFrame(round(data.isna().mean()*100,)).style.background_gradient('coolwarm')"
   ]
  },
  {
   "cell_type": "code",
   "execution_count": 9,
   "metadata": {},
   "outputs": [
    {
     "data": {
      "text/plain": [
       "0"
      ]
     },
     "execution_count": 9,
     "metadata": {},
     "output_type": "execute_result"
    }
   ],
   "source": [
    "#проверка на дубликаты в таблице data\n",
    "data.duplicated().sum()"
   ]
  },
  {
   "cell_type": "markdown",
   "metadata": {},
   "source": [
    "**Выводы по предобработке данных:**\n",
    "\n",
    "<p></p>\n",
    "\n",
    "<div style=\"border:solid green 2px; padding: 20px\">\n",
    "Пропуски в данных не обнаружены.\n",
    "<div>Дубликаты в датафрейме data также отсутствуют.\n",
    "<div>Была произведена замена названий столбцов (приведение к нижнему регистру)."
   ]
  },
  {
   "cell_type": "markdown",
   "metadata": {},
   "source": [
    "#### Приоритизация гипотез"
   ]
  },
  {
   "attachments": {
    "image-2.png": {
     "image/png": "[encoded data removed]"
    },
    "image-3.png": {
     "image/png": "[encoded data removed]"
    }
   },
   "cell_type": "markdown",
   "metadata": {},
   "source": [
    "Рассмотрим способы приоритизации гипотез.<br>\n",
    "ICE (от англ. impact, confidence, effort / ease «влияние, уверенность, усилия / простота») — один из самых популярных способов приоритизации задач:<br>\n",
    "Расчет будет производиться по следующей формуле:\n",
    "\n",
    "![image-2.png](attachment:image-2.png)\n",
    "\n",
    "У этого метода есть модификация RICE (R от англ. reach, «охват»):\n",
    "\n",
    "![image-3.png](attachment:image-3.png)\n",
    "\n",
    "Фреймворк RICE состоит из четырёх компонент:<br>\n",
    "\n",
    "Reach — скольких пользователей затронет изменение, которое вы хотите внести;<br>\n",
    "\n",
    "Impact — насколько сильно изменение повлияет на пользователей, их опыт и удовлетворение от продукта;<br>\n",
    "\n",
    "Confidence — насколько вы уверены, что это изменение повлияет на пользователей именно так;<br>\n",
    "\n",
    "Efforts — сколько стоит протестировать эту гипотезу.<br>\n",
    "\n",
    "Как и в случае WSJF, параметры фреймворков ICE и RICE оценивают в удобных шкалах: например, от 0 до 10 или в числах ряда Фибоначчи."
   ]
  },
  {
   "cell_type": "markdown",
   "metadata": {},
   "source": [
    "##### Cпособ приоритизации гипотез - ICE"
   ]
  },
  {
   "cell_type": "code",
   "execution_count": 10,
   "metadata": {},
   "outputs": [
    {
     "data": {
      "text/html": [
       "<div>\n",
       "<style scoped>\n",
       "    .dataframe tbody tr th:only-of-type {\n",
       "        vertical-align: middle;\n",
       "    }\n",
       "\n",
       "    .dataframe tbody tr th {\n",
       "        vertical-align: top;\n",
       "    }\n",
       "\n",
       "    .dataframe thead th {\n",
       "        text-align: right;\n",
       "    }\n",
       "</style>\n",
       "<table border=\"1\" class=\"dataframe\">\n",
       "  <thead>\n",
       "    <tr style=\"text-align: right;\">\n",
       "      <th></th>\n",
       "      <th>hypothesis</th>\n",
       "      <th>ICE</th>\n",
       "    </tr>\n",
       "  </thead>\n",
       "  <tbody>\n",
       "    <tr>\n",
       "      <th>8</th>\n",
       "      <td>Запустить акцию, дающую скидку на товар в день рождения</td>\n",
       "      <td>16.2</td>\n",
       "    </tr>\n",
       "    <tr>\n",
       "      <th>0</th>\n",
       "      <td>Добавить два новых канала привлечения трафика, что позволит привлекать на 30% больше пользователей</td>\n",
       "      <td>13.3</td>\n",
       "    </tr>\n",
       "    <tr>\n",
       "      <th>7</th>\n",
       "      <td>Добавить форму подписки на все основные страницы, чтобы собрать базу клиентов для email-рассылок</td>\n",
       "      <td>11.2</td>\n",
       "    </tr>\n",
       "    <tr>\n",
       "      <th>6</th>\n",
       "      <td>Показать на главной странице баннеры с актуальными акциями и распродажами, чтобы увеличить конверсию</td>\n",
       "      <td>8.0</td>\n",
       "    </tr>\n",
       "    <tr>\n",
       "      <th>2</th>\n",
       "      <td>Добавить блоки рекомендаций товаров на сайт интернет магазина, чтобы повысить конверсию и средний чек заказа</td>\n",
       "      <td>7.0</td>\n",
       "    </tr>\n",
       "    <tr>\n",
       "      <th>1</th>\n",
       "      <td>Запустить собственную службу доставки, что сократит срок доставки заказов</td>\n",
       "      <td>2.0</td>\n",
       "    </tr>\n",
       "    <tr>\n",
       "      <th>5</th>\n",
       "      <td>Добавить страницу отзывов клиентов о магазине, что позволит увеличить количество заказов</td>\n",
       "      <td>1.3</td>\n",
       "    </tr>\n",
       "    <tr>\n",
       "      <th>3</th>\n",
       "      <td>Изменить структура категорий, что увеличит конверсию, т.к. пользователи быстрее найдут нужный товар</td>\n",
       "      <td>1.1</td>\n",
       "    </tr>\n",
       "    <tr>\n",
       "      <th>4</th>\n",
       "      <td>Изменить цвет фона главной страницы, чтобы увеличить вовлеченность пользователей</td>\n",
       "      <td>1.0</td>\n",
       "    </tr>\n",
       "  </tbody>\n",
       "</table>\n",
       "</div>"
      ],
      "text/plain": [
       "                                                                                                     hypothesis   ICE\n",
       "8                                                       Запустить акцию, дающую скидку на товар в день рождения  16.2\n",
       "0            Добавить два новых канала привлечения трафика, что позволит привлекать на 30% больше пользователей  13.3\n",
       "7              Добавить форму подписки на все основные страницы, чтобы собрать базу клиентов для email-рассылок  11.2\n",
       "6          Показать на главной странице баннеры с актуальными акциями и распродажами, чтобы увеличить конверсию   8.0\n",
       "2  Добавить блоки рекомендаций товаров на сайт интернет магазина, чтобы повысить конверсию и средний чек заказа   7.0\n",
       "1                                     Запустить собственную службу доставки, что сократит срок доставки заказов   2.0\n",
       "5                      Добавить страницу отзывов клиентов о магазине, что позволит увеличить количество заказов   1.3\n",
       "3           Изменить структура категорий, что увеличит конверсию, т.к. пользователи быстрее найдут нужный товар   1.1\n",
       "4                              Изменить цвет фона главной страницы, чтобы увеличить вовлеченность пользователей   1.0"
      ]
     },
     "metadata": {},
     "output_type": "display_data"
    }
   ],
   "source": [
    "#посчитаем ICE по формуле и округлим значения до десятых долей\n",
    "data['ICE'] = round(data['impact'] * data['confidence'] / data['efforts'], 1)\n",
    "\n",
    "#расширим границы таблицы для прочтения данных столбца Hypothesis\n",
    "pd.set_option('display.width', 2000)\n",
    "\n",
    "display((data[['hypothesis', 'ICE']]).sort_values(by='ICE', ascending=False))"
   ]
  },
  {
   "cell_type": "markdown",
   "metadata": {},
   "source": [
    "**Вывод**\n",
    "\n",
    "<p></p>\n",
    "\n",
    "<div style=\"border:solid green 2px; padding: 20px\">\n",
    "Наиболее перспективные гипотезы по ICE: 8 (Запустить акцию, дающую скидку на товар), 0 (Добавить два новых канала привлечения трафика), 7 (Добавить форму подписки на все основные странички), 6 (Показать на главной странице баннеры с актуальными товарами). \n",
    "<div>На первом месте гипотеза 8. \n",
    "<div>Так получилось, потому что ее параметр Impact = 9 и Confidence = 9, а Efforts = 5. То есть изменение \"запустить акцию, дающую скидку на товар\" -  сильно повлияет на пользователей, уверенность от внедрения данной гипотезы тоже высокая, а затраты на тестирование средние. Самой дорогостоящей гипотезой будет являться гипотеза \"Запустить собственную службу доставки\", так как Efforts = 10.\n",
    "    "
   ]
  },
  {
   "cell_type": "markdown",
   "metadata": {},
   "source": [
    "##### Cпособ приоритизации гипотез - RICE"
   ]
  },
  {
   "cell_type": "code",
   "execution_count": 11,
   "metadata": {},
   "outputs": [
    {
     "data": {
      "text/html": [
       "<div>\n",
       "<style scoped>\n",
       "    .dataframe tbody tr th:only-of-type {\n",
       "        vertical-align: middle;\n",
       "    }\n",
       "\n",
       "    .dataframe tbody tr th {\n",
       "        vertical-align: top;\n",
       "    }\n",
       "\n",
       "    .dataframe thead th {\n",
       "        text-align: right;\n",
       "    }\n",
       "</style>\n",
       "<table border=\"1\" class=\"dataframe\">\n",
       "  <thead>\n",
       "    <tr style=\"text-align: right;\">\n",
       "      <th></th>\n",
       "      <th>hypothesis</th>\n",
       "      <th>RICE</th>\n",
       "    </tr>\n",
       "  </thead>\n",
       "  <tbody>\n",
       "    <tr>\n",
       "      <th>7</th>\n",
       "      <td>Добавить форму подписки на все основные страницы, чтобы собрать базу клиентов для email-рассылок</td>\n",
       "      <td>112.0</td>\n",
       "    </tr>\n",
       "    <tr>\n",
       "      <th>2</th>\n",
       "      <td>Добавить блоки рекомендаций товаров на сайт интернет магазина, чтобы повысить конверсию и средний чек заказа</td>\n",
       "      <td>56.0</td>\n",
       "    </tr>\n",
       "    <tr>\n",
       "      <th>0</th>\n",
       "      <td>Добавить два новых канала привлечения трафика, что позволит привлекать на 30% больше пользователей</td>\n",
       "      <td>40.0</td>\n",
       "    </tr>\n",
       "    <tr>\n",
       "      <th>6</th>\n",
       "      <td>Показать на главной странице баннеры с актуальными акциями и распродажами, чтобы увеличить конверсию</td>\n",
       "      <td>40.0</td>\n",
       "    </tr>\n",
       "    <tr>\n",
       "      <th>8</th>\n",
       "      <td>Запустить акцию, дающую скидку на товар в день рождения</td>\n",
       "      <td>16.2</td>\n",
       "    </tr>\n",
       "    <tr>\n",
       "      <th>3</th>\n",
       "      <td>Изменить структура категорий, что увеличит конверсию, т.к. пользователи быстрее найдут нужный товар</td>\n",
       "      <td>9.0</td>\n",
       "    </tr>\n",
       "    <tr>\n",
       "      <th>1</th>\n",
       "      <td>Запустить собственную службу доставки, что сократит срок доставки заказов</td>\n",
       "      <td>4.0</td>\n",
       "    </tr>\n",
       "    <tr>\n",
       "      <th>5</th>\n",
       "      <td>Добавить страницу отзывов клиентов о магазине, что позволит увеличить количество заказов</td>\n",
       "      <td>4.0</td>\n",
       "    </tr>\n",
       "    <tr>\n",
       "      <th>4</th>\n",
       "      <td>Изменить цвет фона главной страницы, чтобы увеличить вовлеченность пользователей</td>\n",
       "      <td>3.0</td>\n",
       "    </tr>\n",
       "  </tbody>\n",
       "</table>\n",
       "</div>"
      ],
      "text/plain": [
       "                                                                                                     hypothesis   RICE\n",
       "7              Добавить форму подписки на все основные страницы, чтобы собрать базу клиентов для email-рассылок  112.0\n",
       "2  Добавить блоки рекомендаций товаров на сайт интернет магазина, чтобы повысить конверсию и средний чек заказа   56.0\n",
       "0            Добавить два новых канала привлечения трафика, что позволит привлекать на 30% больше пользователей   40.0\n",
       "6          Показать на главной странице баннеры с актуальными акциями и распродажами, чтобы увеличить конверсию   40.0\n",
       "8                                                       Запустить акцию, дающую скидку на товар в день рождения   16.2\n",
       "3           Изменить структура категорий, что увеличит конверсию, т.к. пользователи быстрее найдут нужный товар    9.0\n",
       "1                                     Запустить собственную службу доставки, что сократит срок доставки заказов    4.0\n",
       "5                      Добавить страницу отзывов клиентов о магазине, что позволит увеличить количество заказов    4.0\n",
       "4                              Изменить цвет фона главной страницы, чтобы увеличить вовлеченность пользователей    3.0"
      ]
     },
     "metadata": {},
     "output_type": "display_data"
    }
   ],
   "source": [
    "#посчитаем RICE по формуле\n",
    "data['RICE'] = data['reach'] * data['impact'] * data['confidence'] / data['efforts']\n",
    "\n",
    "#расширим границы таблицы для прочтения данных столбца Hypothesis\n",
    "pd.set_option('display.width', 1000)\n",
    "\n",
    "display((data[['hypothesis', 'RICE']]).sort_values(by='RICE', ascending=False))"
   ]
  },
  {
   "cell_type": "markdown",
   "metadata": {},
   "source": [
    "**Вывод**\n",
    "\n",
    "<p></p>\n",
    "\n",
    "<div style=\"border:solid green 2px; padding: 20px\">\n",
    "Наиболее перспективные гипотезы по RICE: 7 (Добавить форму подписки на все основные страницы) , 2 (Добавить блоки рекомендаций товаров на сайт интернет - магазина) , 0 (Добавить два новых канала привлечения трафика), 6 (Показать на главной странице баннеры с актуальными товарами). "
   ]
  },
  {
   "cell_type": "markdown",
   "metadata": {},
   "source": [
    "##### Укажите, как изменилась приоритизация гипотез при применении RICE вместо ICE. Объясните, почему так произошло."
   ]
  },
  {
   "cell_type": "markdown",
   "metadata": {},
   "source": [
    "**Вывод**\n",
    "\n",
    "<p></p>\n",
    "\n",
    "<div style=\"border:solid green 2px; padding: 20px\">\n",
    "<div>На первом месте уже гипотеза под номером 7, а не 8 (как по оценке гипотез по методу ICE).\n",
    "<div>Так получилось, потому что ее параметр Reach равен 10, в то время как у других гипотез он меньше (у гипотезы 2 - параметр Reach = 8, у гипотезы 0 - 3, у гипотезы 6 -  5).\n",
    "<div>Кроме силы гипотез необходимо учитывать и то, как много пользователей она затронет. Так, гипотеза 7 затронет максимальное число пользователей 10 из 10 (так как параметры фреймворков оценивались по шкале от 0 до 10)"
   ]
  },
  {
   "cell_type": "code",
   "execution_count": 12,
   "metadata": {},
   "outputs": [
    {
     "data": {
      "image/png": "[encoded data removed]",
      "text/plain": [
       "<Figure size 864x504 with 1 Axes>"
      ]
     },
     "metadata": {
      "needs_background": "light"
     },
     "output_type": "display_data"
    }
   ],
   "source": [
    "data[['hypothesis', 'ICE', 'RICE']].sort_values(by='RICE', ascending=False)\n",
    "plt.figure(figsize=(12,7))\n",
    "plt.grid()\n",
    "x1 = data['ICE']\n",
    "x2 = data['RICE']\n",
    "y = data['hypothesis']\n",
    "plt.xlabel('Значения ICE и RICE')\n",
    "plt.ylabel('Гипотезы')\n",
    "plt.scatter(x1, y, color = 'red', label = 'ICE')\n",
    "plt.scatter(x2, y, color = 'blue', label = 'RICE')\n",
    "plt.legend(loc = 'upper left')\n",
    "plt.title('Точечная диаграмма для каждой гипотезы по двум метрикам ICE и RICE');"
   ]
  },
  {
   "cell_type": "markdown",
   "metadata": {},
   "source": [
    "### Часть 2. Анализ A/B-теста"
   ]
  },
  {
   "cell_type": "code",
   "execution_count": 13,
   "metadata": {},
   "outputs": [],
   "source": [
    "from scipy import stats as st\n",
    "import numpy as np\n",
    "import scipy.stats as stats\n",
    "import math as mth\n",
    "import pandas as pd\n",
    "import datetime as dt\n",
    "import matplotlib.pyplot as plt\n",
    "from pandas.plotting import register_matplotlib_converters\n",
    "import warnings\n",
    "from matplotlib import pyplot as plt, dates\n",
    "# конвертеры, которые позволяют использовать типы pandas в matplotlib  \n",
    "register_matplotlib_converters()"
   ]
  },
  {
   "cell_type": "markdown",
   "metadata": {},
   "source": [
    "#### Знакомство с датафреймами"
   ]
  },
  {
   "cell_type": "code",
   "execution_count": 14,
   "metadata": {},
   "outputs": [],
   "source": [
    "orders = pd.read_csv('/datasets/orders.csv')\n",
    "visitors = pd.read_csv('/datasets/visitors.csv')"
   ]
  },
  {
   "cell_type": "code",
   "execution_count": 15,
   "metadata": {},
   "outputs": [
    {
     "data": {
      "text/html": [
       "<div>\n",
       "<style scoped>\n",
       "    .dataframe tbody tr th:only-of-type {\n",
       "        vertical-align: middle;\n",
       "    }\n",
       "\n",
       "    .dataframe tbody tr th {\n",
       "        vertical-align: top;\n",
       "    }\n",
       "\n",
       "    .dataframe thead th {\n",
       "        text-align: right;\n",
       "    }\n",
       "</style>\n",
       "<table border=\"1\" class=\"dataframe\">\n",
       "  <thead>\n",
       "    <tr style=\"text-align: right;\">\n",
       "      <th></th>\n",
       "      <th>transactionId</th>\n",
       "      <th>visitorId</th>\n",
       "      <th>date</th>\n",
       "      <th>revenue</th>\n",
       "      <th>group</th>\n",
       "    </tr>\n",
       "  </thead>\n",
       "  <tbody>\n",
       "    <tr>\n",
       "      <th>0</th>\n",
       "      <td>3667963787</td>\n",
       "      <td>3312258926</td>\n",
       "      <td>2019-08-15</td>\n",
       "      <td>1650</td>\n",
       "      <td>B</td>\n",
       "    </tr>\n",
       "    <tr>\n",
       "      <th>1</th>\n",
       "      <td>2804400009</td>\n",
       "      <td>3642806036</td>\n",
       "      <td>2019-08-15</td>\n",
       "      <td>730</td>\n",
       "      <td>B</td>\n",
       "    </tr>\n",
       "    <tr>\n",
       "      <th>2</th>\n",
       "      <td>2961555356</td>\n",
       "      <td>4069496402</td>\n",
       "      <td>2019-08-15</td>\n",
       "      <td>400</td>\n",
       "      <td>A</td>\n",
       "    </tr>\n",
       "    <tr>\n",
       "      <th>3</th>\n",
       "      <td>3797467345</td>\n",
       "      <td>1196621759</td>\n",
       "      <td>2019-08-15</td>\n",
       "      <td>9759</td>\n",
       "      <td>B</td>\n",
       "    </tr>\n",
       "    <tr>\n",
       "      <th>4</th>\n",
       "      <td>2282983706</td>\n",
       "      <td>2322279887</td>\n",
       "      <td>2019-08-15</td>\n",
       "      <td>2308</td>\n",
       "      <td>B</td>\n",
       "    </tr>\n",
       "    <tr>\n",
       "      <th>...</th>\n",
       "      <td>...</td>\n",
       "      <td>...</td>\n",
       "      <td>...</td>\n",
       "      <td>...</td>\n",
       "      <td>...</td>\n",
       "    </tr>\n",
       "    <tr>\n",
       "      <th>1192</th>\n",
       "      <td>2662137336</td>\n",
       "      <td>3733762160</td>\n",
       "      <td>2019-08-14</td>\n",
       "      <td>6490</td>\n",
       "      <td>B</td>\n",
       "    </tr>\n",
       "    <tr>\n",
       "      <th>1193</th>\n",
       "      <td>2203539145</td>\n",
       "      <td>370388673</td>\n",
       "      <td>2019-08-14</td>\n",
       "      <td>3190</td>\n",
       "      <td>A</td>\n",
       "    </tr>\n",
       "    <tr>\n",
       "      <th>1194</th>\n",
       "      <td>1807773912</td>\n",
       "      <td>573423106</td>\n",
       "      <td>2019-08-14</td>\n",
       "      <td>10550</td>\n",
       "      <td>A</td>\n",
       "    </tr>\n",
       "    <tr>\n",
       "      <th>1195</th>\n",
       "      <td>1947021204</td>\n",
       "      <td>1614305549</td>\n",
       "      <td>2019-08-14</td>\n",
       "      <td>100</td>\n",
       "      <td>A</td>\n",
       "    </tr>\n",
       "    <tr>\n",
       "      <th>1196</th>\n",
       "      <td>3936777065</td>\n",
       "      <td>2108080724</td>\n",
       "      <td>2019-08-15</td>\n",
       "      <td>202740</td>\n",
       "      <td>B</td>\n",
       "    </tr>\n",
       "  </tbody>\n",
       "</table>\n",
       "<p>1197 rows × 5 columns</p>\n",
       "</div>"
      ],
      "text/plain": [
       "      transactionId   visitorId        date  revenue group\n",
       "0        3667963787  3312258926  2019-08-15     1650     B\n",
       "1        2804400009  3642806036  2019-08-15      730     B\n",
       "2        2961555356  4069496402  2019-08-15      400     A\n",
       "3        3797467345  1196621759  2019-08-15     9759     B\n",
       "4        2282983706  2322279887  2019-08-15     2308     B\n",
       "...             ...         ...         ...      ...   ...\n",
       "1192     2662137336  3733762160  2019-08-14     6490     B\n",
       "1193     2203539145   370388673  2019-08-14     3190     A\n",
       "1194     1807773912   573423106  2019-08-14    10550     A\n",
       "1195     1947021204  1614305549  2019-08-14      100     A\n",
       "1196     3936777065  2108080724  2019-08-15   202740     B\n",
       "\n",
       "[1197 rows x 5 columns]"
      ]
     },
     "metadata": {},
     "output_type": "display_data"
    },
    {
     "data": {
      "text/html": [
       "<div>\n",
       "<style scoped>\n",
       "    .dataframe tbody tr th:only-of-type {\n",
       "        vertical-align: middle;\n",
       "    }\n",
       "\n",
       "    .dataframe tbody tr th {\n",
       "        vertical-align: top;\n",
       "    }\n",
       "\n",
       "    .dataframe thead th {\n",
       "        text-align: right;\n",
       "    }\n",
       "</style>\n",
       "<table border=\"1\" class=\"dataframe\">\n",
       "  <thead>\n",
       "    <tr style=\"text-align: right;\">\n",
       "      <th></th>\n",
       "      <th>date</th>\n",
       "      <th>group</th>\n",
       "      <th>visitors</th>\n",
       "    </tr>\n",
       "  </thead>\n",
       "  <tbody>\n",
       "    <tr>\n",
       "      <th>0</th>\n",
       "      <td>2019-08-01</td>\n",
       "      <td>A</td>\n",
       "      <td>719</td>\n",
       "    </tr>\n",
       "    <tr>\n",
       "      <th>1</th>\n",
       "      <td>2019-08-02</td>\n",
       "      <td>A</td>\n",
       "      <td>619</td>\n",
       "    </tr>\n",
       "    <tr>\n",
       "      <th>2</th>\n",
       "      <td>2019-08-03</td>\n",
       "      <td>A</td>\n",
       "      <td>507</td>\n",
       "    </tr>\n",
       "    <tr>\n",
       "      <th>3</th>\n",
       "      <td>2019-08-04</td>\n",
       "      <td>A</td>\n",
       "      <td>717</td>\n",
       "    </tr>\n",
       "    <tr>\n",
       "      <th>4</th>\n",
       "      <td>2019-08-05</td>\n",
       "      <td>A</td>\n",
       "      <td>756</td>\n",
       "    </tr>\n",
       "    <tr>\n",
       "      <th>...</th>\n",
       "      <td>...</td>\n",
       "      <td>...</td>\n",
       "      <td>...</td>\n",
       "    </tr>\n",
       "    <tr>\n",
       "      <th>57</th>\n",
       "      <td>2019-08-27</td>\n",
       "      <td>B</td>\n",
       "      <td>720</td>\n",
       "    </tr>\n",
       "    <tr>\n",
       "      <th>58</th>\n",
       "      <td>2019-08-28</td>\n",
       "      <td>B</td>\n",
       "      <td>654</td>\n",
       "    </tr>\n",
       "    <tr>\n",
       "      <th>59</th>\n",
       "      <td>2019-08-29</td>\n",
       "      <td>B</td>\n",
       "      <td>531</td>\n",
       "    </tr>\n",
       "    <tr>\n",
       "      <th>60</th>\n",
       "      <td>2019-08-30</td>\n",
       "      <td>B</td>\n",
       "      <td>490</td>\n",
       "    </tr>\n",
       "    <tr>\n",
       "      <th>61</th>\n",
       "      <td>2019-08-31</td>\n",
       "      <td>B</td>\n",
       "      <td>718</td>\n",
       "    </tr>\n",
       "  </tbody>\n",
       "</table>\n",
       "<p>62 rows × 3 columns</p>\n",
       "</div>"
      ],
      "text/plain": [
       "          date group  visitors\n",
       "0   2019-08-01     A       719\n",
       "1   2019-08-02     A       619\n",
       "2   2019-08-03     A       507\n",
       "3   2019-08-04     A       717\n",
       "4   2019-08-05     A       756\n",
       "..         ...   ...       ...\n",
       "57  2019-08-27     B       720\n",
       "58  2019-08-28     B       654\n",
       "59  2019-08-29     B       531\n",
       "60  2019-08-30     B       490\n",
       "61  2019-08-31     B       718\n",
       "\n",
       "[62 rows x 3 columns]"
      ]
     },
     "metadata": {},
     "output_type": "display_data"
    }
   ],
   "source": [
    "display(orders, visitors)"
   ]
  },
  {
   "cell_type": "markdown",
   "metadata": {},
   "source": [
    "##### Основная информация о датафреймах"
   ]
  },
  {
   "cell_type": "code",
   "execution_count": 16,
   "metadata": {},
   "outputs": [
    {
     "name": "stdout",
     "output_type": "stream",
     "text": [
      "<class 'pandas.core.frame.DataFrame'>\n",
      "RangeIndex: 1197 entries, 0 to 1196\n",
      "Data columns (total 5 columns):\n",
      " #   Column         Non-Null Count  Dtype \n",
      "---  ------         --------------  ----- \n",
      " 0   transactionId  1197 non-null   int64 \n",
      " 1   visitorId      1197 non-null   int64 \n",
      " 2   date           1197 non-null   object\n",
      " 3   revenue        1197 non-null   int64 \n",
      " 4   group          1197 non-null   object\n",
      "dtypes: int64(3), object(2)\n",
      "memory usage: 46.9+ KB\n"
     ]
    }
   ],
   "source": [
    "orders.info()"
   ]
  },
  {
   "cell_type": "code",
   "execution_count": 17,
   "metadata": {},
   "outputs": [
    {
     "name": "stdout",
     "output_type": "stream",
     "text": [
      "<class 'pandas.core.frame.DataFrame'>\n",
      "RangeIndex: 62 entries, 0 to 61\n",
      "Data columns (total 3 columns):\n",
      " #   Column    Non-Null Count  Dtype \n",
      "---  ------    --------------  ----- \n",
      " 0   date      62 non-null     object\n",
      " 1   group     62 non-null     object\n",
      " 2   visitors  62 non-null     int64 \n",
      "dtypes: int64(1), object(2)\n",
      "memory usage: 1.6+ KB\n"
     ]
    }
   ],
   "source": [
    "visitors.info()"
   ]
  },
  {
   "cell_type": "markdown",
   "metadata": {},
   "source": [
    "#####  Замена названий столбцов (приведение к нижнему регистру)"
   ]
  },
  {
   "cell_type": "code",
   "execution_count": 18,
   "metadata": {},
   "outputs": [],
   "source": [
    "# переименование столбцов в датафрейме data\n",
    "orders = orders.rename(columns={'transactionId' : 'transaction_id', 'visitorId' : 'visitor_id'})"
   ]
  },
  {
   "cell_type": "code",
   "execution_count": 19,
   "metadata": {},
   "outputs": [
    {
     "data": {
      "text/plain": [
       "Index(['transaction_id', 'visitor_id', 'date', 'revenue', 'group'], dtype='object')"
      ]
     },
     "execution_count": 19,
     "metadata": {},
     "output_type": "execute_result"
    }
   ],
   "source": [
    "# проверка результатов - перечень названий столбцов\n",
    "orders.columns"
   ]
  },
  {
   "cell_type": "markdown",
   "metadata": {},
   "source": [
    "##### Исследование, проверка на пропуски в данных и изменение типов данных"
   ]
  },
  {
   "cell_type": "code",
   "execution_count": 20,
   "metadata": {},
   "outputs": [
    {
     "data": {
      "text/html": [
       "<style  type=\"text/css\" >\n",
       "#T_90add_row0_col0,#T_90add_row1_col0,#T_90add_row2_col0,#T_90add_row3_col0,#T_90add_row4_col0{\n",
       "            background-color:  #3b4cc0;\n",
       "            color:  #f1f1f1;\n",
       "        }</style><table id=\"T_90add_\" ><thead>    <tr>        <th class=\"blank level0\" ></th>        <th class=\"col_heading level0 col0\" >0</th>    </tr></thead><tbody>\n",
       "                <tr>\n",
       "                        <th id=\"T_90add_level0_row0\" class=\"row_heading level0 row0\" >transaction_id</th>\n",
       "                        <td id=\"T_90add_row0_col0\" class=\"data row0 col0\" >0.000000</td>\n",
       "            </tr>\n",
       "            <tr>\n",
       "                        <th id=\"T_90add_level0_row1\" class=\"row_heading level0 row1\" >visitor_id</th>\n",
       "                        <td id=\"T_90add_row1_col0\" class=\"data row1 col0\" >0.000000</td>\n",
       "            </tr>\n",
       "            <tr>\n",
       "                        <th id=\"T_90add_level0_row2\" class=\"row_heading level0 row2\" >date</th>\n",
       "                        <td id=\"T_90add_row2_col0\" class=\"data row2 col0\" >0.000000</td>\n",
       "            </tr>\n",
       "            <tr>\n",
       "                        <th id=\"T_90add_level0_row3\" class=\"row_heading level0 row3\" >revenue</th>\n",
       "                        <td id=\"T_90add_row3_col0\" class=\"data row3 col0\" >0.000000</td>\n",
       "            </tr>\n",
       "            <tr>\n",
       "                        <th id=\"T_90add_level0_row4\" class=\"row_heading level0 row4\" >group</th>\n",
       "                        <td id=\"T_90add_row4_col0\" class=\"data row4 col0\" >0.000000</td>\n",
       "            </tr>\n",
       "    </tbody></table>"
      ],
      "text/plain": [
       "<pandas.io.formats.style.Styler at 0x7ff4499b37c0>"
      ]
     },
     "execution_count": 20,
     "metadata": {},
     "output_type": "execute_result"
    }
   ],
   "source": [
    "#посчитаем количество пропусков в процентах в каждом столбце датафрейма orders\n",
    "pd.DataFrame(round(orders.isna().mean()*100,)).style.background_gradient('coolwarm')"
   ]
  },
  {
   "cell_type": "code",
   "execution_count": 21,
   "metadata": {},
   "outputs": [
    {
     "data": {
      "text/html": [
       "<style  type=\"text/css\" >\n",
       "#T_367c8_row0_col0,#T_367c8_row1_col0,#T_367c8_row2_col0{\n",
       "            background-color:  #3b4cc0;\n",
       "            color:  #f1f1f1;\n",
       "        }</style><table id=\"T_367c8_\" ><thead>    <tr>        <th class=\"blank level0\" ></th>        <th class=\"col_heading level0 col0\" >0</th>    </tr></thead><tbody>\n",
       "                <tr>\n",
       "                        <th id=\"T_367c8_level0_row0\" class=\"row_heading level0 row0\" >date</th>\n",
       "                        <td id=\"T_367c8_row0_col0\" class=\"data row0 col0\" >0.000000</td>\n",
       "            </tr>\n",
       "            <tr>\n",
       "                        <th id=\"T_367c8_level0_row1\" class=\"row_heading level0 row1\" >group</th>\n",
       "                        <td id=\"T_367c8_row1_col0\" class=\"data row1 col0\" >0.000000</td>\n",
       "            </tr>\n",
       "            <tr>\n",
       "                        <th id=\"T_367c8_level0_row2\" class=\"row_heading level0 row2\" >visitors</th>\n",
       "                        <td id=\"T_367c8_row2_col0\" class=\"data row2 col0\" >0.000000</td>\n",
       "            </tr>\n",
       "    </tbody></table>"
      ],
      "text/plain": [
       "<pandas.io.formats.style.Styler at 0x7ff44999bf70>"
      ]
     },
     "execution_count": 21,
     "metadata": {},
     "output_type": "execute_result"
    }
   ],
   "source": [
    "#посчитаем количество пропусков в процентах в каждом столбце датафрейма visitors\n",
    "pd.DataFrame(round(visitors.isna().mean()*100,)).style.background_gradient('coolwarm')"
   ]
  },
  {
   "cell_type": "code",
   "execution_count": 22,
   "metadata": {},
   "outputs": [
    {
     "data": {
      "text/plain": [
       "0"
      ]
     },
     "execution_count": 22,
     "metadata": {},
     "output_type": "execute_result"
    }
   ],
   "source": [
    "#проверка на дубликаты в таблице orders\n",
    "orders.duplicated().sum()"
   ]
  },
  {
   "cell_type": "code",
   "execution_count": 23,
   "metadata": {},
   "outputs": [
    {
     "data": {
      "text/plain": [
       "0"
      ]
     },
     "execution_count": 23,
     "metadata": {},
     "output_type": "execute_result"
    }
   ],
   "source": [
    "#проверка на дубликаты в таблице visitors\n",
    "visitors.duplicated().sum()"
   ]
  },
  {
   "cell_type": "markdown",
   "metadata": {},
   "source": [
    "**Выводы по предобработке данных**\n",
    "\n",
    "<p></p>\n",
    "\n",
    "<div style=\"border:solid green 2px; padding: 20px\">\n",
    "Пропуски в данных не обнаружены.<br>\n",
    "Дубликаты в датафреймах (orders и visitors) также отсутствуют.\n",
    "<div>Cтолбцы с датой и временем переведены в соответствующий тип данных."
   ]
  },
  {
   "cell_type": "markdown",
   "metadata": {},
   "source": [
    "#### Анализ А/В - теста"
   ]
  },
  {
   "cell_type": "markdown",
   "metadata": {},
   "source": [
    "Для проведения А/В-теста необходимо проверить есть ли пользователи, которые попали и в группу A и в группу В.<br>\n",
    "Согласно теории, для проведения А/В-теста попавший в одну из групп посетитель остаётся в этой группе до конца теста. Если пользователь видит разные версии исследуемой страницы в ходе одного исследования, неизвестно, какая именно повлияла на его решения. Значит, и результаты такого теста нельзя интерпретировать однозначно.<br>\n",
    "В случае, если такие пользователи будут выявлены, их необходимо исключить до проведения анализа результатов теста. "
   ]
  },
  {
   "cell_type": "code",
   "execution_count": 24,
   "metadata": {},
   "outputs": [],
   "source": [
    "id_a = list(orders.query('group ==\"A\"')['visitor_id'])\n",
    "id_b = orders.query('group == \"B\"')\n",
    "id_ab = id_b[id_b['visitor_id'].isin(id_a)]\n",
    "exclude_id = (id_ab['visitor_id'].unique())"
   ]
  },
  {
   "cell_type": "code",
   "execution_count": 25,
   "metadata": {},
   "outputs": [],
   "source": [
    "#исключим из исходного датафрейма visitor_id, которые попали и в группу A и в группу B\n",
    "orders = orders.query('visitor_id not in @exclude_id')"
   ]
  },
  {
   "cell_type": "code",
   "execution_count": 26,
   "metadata": {},
   "outputs": [
    {
     "data": {
      "text/html": [
       "<div>\n",
       "<style scoped>\n",
       "    .dataframe tbody tr th:only-of-type {\n",
       "        vertical-align: middle;\n",
       "    }\n",
       "\n",
       "    .dataframe tbody tr th {\n",
       "        vertical-align: top;\n",
       "    }\n",
       "\n",
       "    .dataframe thead th {\n",
       "        text-align: right;\n",
       "    }\n",
       "</style>\n",
       "<table border=\"1\" class=\"dataframe\">\n",
       "  <thead>\n",
       "    <tr style=\"text-align: right;\">\n",
       "      <th></th>\n",
       "      <th>transaction_id</th>\n",
       "      <th>visitor_id</th>\n",
       "      <th>date</th>\n",
       "      <th>revenue</th>\n",
       "      <th>group</th>\n",
       "    </tr>\n",
       "  </thead>\n",
       "  <tbody>\n",
       "    <tr>\n",
       "      <th>0</th>\n",
       "      <td>3667963787</td>\n",
       "      <td>3312258926</td>\n",
       "      <td>2019-08-15</td>\n",
       "      <td>1650</td>\n",
       "      <td>B</td>\n",
       "    </tr>\n",
       "    <tr>\n",
       "      <th>1</th>\n",
       "      <td>2804400009</td>\n",
       "      <td>3642806036</td>\n",
       "      <td>2019-08-15</td>\n",
       "      <td>730</td>\n",
       "      <td>B</td>\n",
       "    </tr>\n",
       "    <tr>\n",
       "      <th>3</th>\n",
       "      <td>3797467345</td>\n",
       "      <td>1196621759</td>\n",
       "      <td>2019-08-15</td>\n",
       "      <td>9759</td>\n",
       "      <td>B</td>\n",
       "    </tr>\n",
       "    <tr>\n",
       "      <th>4</th>\n",
       "      <td>2282983706</td>\n",
       "      <td>2322279887</td>\n",
       "      <td>2019-08-15</td>\n",
       "      <td>2308</td>\n",
       "      <td>B</td>\n",
       "    </tr>\n",
       "    <tr>\n",
       "      <th>5</th>\n",
       "      <td>182168103</td>\n",
       "      <td>935554773</td>\n",
       "      <td>2019-08-15</td>\n",
       "      <td>2210</td>\n",
       "      <td>B</td>\n",
       "    </tr>\n",
       "    <tr>\n",
       "      <th>...</th>\n",
       "      <td>...</td>\n",
       "      <td>...</td>\n",
       "      <td>...</td>\n",
       "      <td>...</td>\n",
       "      <td>...</td>\n",
       "    </tr>\n",
       "    <tr>\n",
       "      <th>1191</th>\n",
       "      <td>3592955527</td>\n",
       "      <td>608641596</td>\n",
       "      <td>2019-08-14</td>\n",
       "      <td>16490</td>\n",
       "      <td>B</td>\n",
       "    </tr>\n",
       "    <tr>\n",
       "      <th>1192</th>\n",
       "      <td>2662137336</td>\n",
       "      <td>3733762160</td>\n",
       "      <td>2019-08-14</td>\n",
       "      <td>6490</td>\n",
       "      <td>B</td>\n",
       "    </tr>\n",
       "    <tr>\n",
       "      <th>1193</th>\n",
       "      <td>2203539145</td>\n",
       "      <td>370388673</td>\n",
       "      <td>2019-08-14</td>\n",
       "      <td>3190</td>\n",
       "      <td>A</td>\n",
       "    </tr>\n",
       "    <tr>\n",
       "      <th>1194</th>\n",
       "      <td>1807773912</td>\n",
       "      <td>573423106</td>\n",
       "      <td>2019-08-14</td>\n",
       "      <td>10550</td>\n",
       "      <td>A</td>\n",
       "    </tr>\n",
       "    <tr>\n",
       "      <th>1196</th>\n",
       "      <td>3936777065</td>\n",
       "      <td>2108080724</td>\n",
       "      <td>2019-08-15</td>\n",
       "      <td>202740</td>\n",
       "      <td>B</td>\n",
       "    </tr>\n",
       "  </tbody>\n",
       "</table>\n",
       "<p>1016 rows × 5 columns</p>\n",
       "</div>"
      ],
      "text/plain": [
       "      transaction_id  visitor_id        date  revenue group\n",
       "0         3667963787  3312258926  2019-08-15     1650     B\n",
       "1         2804400009  3642806036  2019-08-15      730     B\n",
       "3         3797467345  1196621759  2019-08-15     9759     B\n",
       "4         2282983706  2322279887  2019-08-15     2308     B\n",
       "5          182168103   935554773  2019-08-15     2210     B\n",
       "...              ...         ...         ...      ...   ...\n",
       "1191      3592955527   608641596  2019-08-14    16490     B\n",
       "1192      2662137336  3733762160  2019-08-14     6490     B\n",
       "1193      2203539145   370388673  2019-08-14     3190     A\n",
       "1194      1807773912   573423106  2019-08-14    10550     A\n",
       "1196      3936777065  2108080724  2019-08-15   202740     B\n",
       "\n",
       "[1016 rows x 5 columns]"
      ]
     },
     "metadata": {},
     "output_type": "display_data"
    }
   ],
   "source": [
    "#проверим количество строк в очищенном датафрейме orders\n",
    "display(orders)"
   ]
  },
  {
   "cell_type": "markdown",
   "metadata": {},
   "source": [
    "##### Постройте график кумулятивной выручки по группам. Сделайте выводы и предположения."
   ]
  },
  {
   "cell_type": "code",
   "execution_count": 27,
   "metadata": {},
   "outputs": [
    {
     "data": {
      "text/html": [
       "<div>\n",
       "<style scoped>\n",
       "    .dataframe tbody tr th:only-of-type {\n",
       "        vertical-align: middle;\n",
       "    }\n",
       "\n",
       "    .dataframe tbody tr th {\n",
       "        vertical-align: top;\n",
       "    }\n",
       "\n",
       "    .dataframe thead th {\n",
       "        text-align: right;\n",
       "    }\n",
       "</style>\n",
       "<table border=\"1\" class=\"dataframe\">\n",
       "  <thead>\n",
       "    <tr style=\"text-align: right;\">\n",
       "      <th></th>\n",
       "      <th>date</th>\n",
       "      <th>group</th>\n",
       "      <th>orders</th>\n",
       "      <th>buyers</th>\n",
       "      <th>revenue</th>\n",
       "      <th>visitors</th>\n",
       "    </tr>\n",
       "  </thead>\n",
       "  <tbody>\n",
       "    <tr>\n",
       "      <th>0</th>\n",
       "      <td>2019-08-01</td>\n",
       "      <td>A</td>\n",
       "      <td>23</td>\n",
       "      <td>19</td>\n",
       "      <td>142779</td>\n",
       "      <td>719</td>\n",
       "    </tr>\n",
       "    <tr>\n",
       "      <th>1</th>\n",
       "      <td>2019-08-01</td>\n",
       "      <td>B</td>\n",
       "      <td>17</td>\n",
       "      <td>17</td>\n",
       "      <td>59758</td>\n",
       "      <td>713</td>\n",
       "    </tr>\n",
       "    <tr>\n",
       "      <th>2</th>\n",
       "      <td>2019-08-02</td>\n",
       "      <td>A</td>\n",
       "      <td>42</td>\n",
       "      <td>36</td>\n",
       "      <td>234381</td>\n",
       "      <td>1338</td>\n",
       "    </tr>\n",
       "    <tr>\n",
       "      <th>3</th>\n",
       "      <td>2019-08-02</td>\n",
       "      <td>B</td>\n",
       "      <td>40</td>\n",
       "      <td>39</td>\n",
       "      <td>221801</td>\n",
       "      <td>1294</td>\n",
       "    </tr>\n",
       "    <tr>\n",
       "      <th>4</th>\n",
       "      <td>2019-08-03</td>\n",
       "      <td>A</td>\n",
       "      <td>66</td>\n",
       "      <td>60</td>\n",
       "      <td>346854</td>\n",
       "      <td>1845</td>\n",
       "    </tr>\n",
       "  </tbody>\n",
       "</table>\n",
       "</div>"
      ],
      "text/plain": [
       "        date group  orders  buyers  revenue  visitors\n",
       "0 2019-08-01     A      23      19   142779       719\n",
       "1 2019-08-01     B      17      17    59758       713\n",
       "2 2019-08-02     A      42      36   234381      1338\n",
       "3 2019-08-02     B      40      39   221801      1294\n",
       "4 2019-08-03     A      66      60   346854      1845"
      ]
     },
     "metadata": {},
     "output_type": "display_data"
    }
   ],
   "source": [
    "orders['date'] = pd.to_datetime(orders['date'], format = '%Y-%m-%d')\n",
    "visitors['date'] = pd.to_datetime(visitors['date'], format = '%Y-%m-%d')\n",
    "\n",
    "#создадим датафрейм datesGroups с уникальными парами значений 'date' и 'group', таблицы orders и удалим дубликаты\n",
    "datesGroups = orders[['date', 'group']].drop_duplicates()\n",
    "\n",
    "#oбъявим переменную ordersAggregated\n",
    "ordersAggregated = datesGroups.apply(lambda x: orders[np.logical_and(orders['date'] <= x['date'], orders['group'] == x['group'])]\\\n",
    ".agg({'date' : 'max', 'group' : 'max', 'transaction_id' : 'nunique', 'visitor_id' : 'nunique', 'revenue' : 'sum'}), axis=1)\\\n",
    ".sort_values(by=['date', 'group'])\n",
    "\n",
    "#oбъявим переменную visitorsAggregated\n",
    "visitorsAggregated = datesGroups.apply(lambda x: visitors[np.logical_and(visitors['date'] <= x['date'], visitors['group'] == x['group'])]\\\n",
    ".agg({'date' : 'max', 'group' : 'max', 'visitors' : 'sum'}), axis=1)\\\n",
    ".sort_values(by=['date', 'group'])\n",
    "\n",
    "#определим переменную cumulativeData\n",
    "cumulativeData = ordersAggregated.merge(visitorsAggregated, left_on=['date', 'group'], right_on=['date', 'group'])\n",
    "\n",
    "#переименуем столбцы\n",
    "cumulativeData.columns=['date', 'group', 'orders', 'buyers' , 'revenue', 'visitors']\n",
    "\n",
    "display(cumulativeData.head(5))"
   ]
  },
  {
   "cell_type": "code",
   "execution_count": 28,
   "metadata": {},
   "outputs": [
    {
     "data": {
      "image/png": "[encoded data removed]",
      "text/plain": [
       "<Figure size 864x360 with 1 Axes>"
      ]
     },
     "metadata": {
      "needs_background": "light"
     },
     "output_type": "display_data"
    }
   ],
   "source": [
    "#oбъявим переменные cumulativeRevenueA\n",
    "cumulativeRevenueA = cumulativeData[cumulativeData['group'] == 'A'][['date', 'revenue', 'orders']]\n",
    "\n",
    "#oбъявим переменные cumulativeRevenueB\n",
    "cumulativeRevenueB = cumulativeData[cumulativeData['group'] == 'B'][['date', 'revenue', 'orders']]\n",
    "\n",
    "#построим графики кумулятивной выручки по дням по группам\n",
    "plt.figure(figsize=(12,5))\n",
    "plt.grid()\n",
    "plt.xlabel('Дата')\n",
    "plt.ylabel('Выручка')\n",
    "plt.plot(cumulativeRevenueA['date'], cumulativeRevenueA['revenue'], label = 'A')\n",
    "plt.plot(cumulativeRevenueB['date'], cumulativeRevenueB['revenue'], label = 'B')\n",
    "plt.legend()\n",
    "plt.title('График кумулятивной выручки по дням по группам')\n",
    "plt.show();"
   ]
  },
  {
   "cell_type": "markdown",
   "metadata": {},
   "source": [
    "**Выводы**\n",
    "\n",
    "<p></p>\n",
    "\n",
    "<div style=\"border:solid green 2px; padding: 20px\">\n",
    "Сегмент В практически у истоков теста показывает положительную динамику, примерно в середине значительно вырывается вперед и продолжает лидировать весь остаток теста. Можно сделать предположение, что аномально большие заказы всё-таки влияют на результаты. При заключительном анализе нужно их будет обязательно удалить. "
   ]
  },
  {
   "cell_type": "markdown",
   "metadata": {},
   "source": [
    "##### Постройте график кумулятивного среднего чека по группам. Сделайте выводы и предположения."
   ]
  },
  {
   "cell_type": "code",
   "execution_count": 29,
   "metadata": {},
   "outputs": [
    {
     "data": {
      "image/png": "[encoded data removed]",
      "text/plain": [
       "<Figure size 864x360 with 1 Axes>"
      ]
     },
     "metadata": {
      "needs_background": "light"
     },
     "output_type": "display_data"
    }
   ],
   "source": [
    "plt.figure(figsize=(12,5))\n",
    "plt.grid()\n",
    "plt.xlabel('Дата')\n",
    "plt.ylabel('Средний чек')\n",
    "plt.plot(cumulativeRevenueA['date'], cumulativeRevenueA['revenue']/cumulativeRevenueA['orders'], label = 'A')\n",
    "plt.plot(cumulativeRevenueB['date'], cumulativeRevenueB['revenue']/cumulativeRevenueB['orders'], label = 'B')\n",
    "plt.legend()\n",
    "plt.title('График кумулятивного среднего чека по группам');"
   ]
  },
  {
   "cell_type": "markdown",
   "metadata": {},
   "source": [
    "**Выводы**\n",
    "\n",
    "<p></p>\n",
    "\n",
    "<div style=\"border:solid green 2px; padding: 20px\">\n",
    "Кумулятивное значение среднего чека по сегментам колеблется в первую половину проведения теста. Уже во вторую половину теста становится заметно, что, возможно, в группу В попали крупные заказы, поэтому на графике резкий всплеск по среднему чеку. Следовательно, группе В нужно больше данных, чтобы прийти к реальному среднему чеку и установиться на его уровне. Скорее всего принимать решение по этой метрике рано. Требуется дополнительный анализ выбросов, которые так сильно искажают результаты."
   ]
  },
  {
   "cell_type": "markdown",
   "metadata": {},
   "source": [
    "##### Постройте график относительного изменения кумулятивного среднего чека группы B к группе A. Сделайте выводы и предположения."
   ]
  },
  {
   "cell_type": "markdown",
   "metadata": {},
   "source": [
    "Построим график относительного различия для среднего чека. Добавим горизонтальную ось методом axhline() (от англ. horizontal line across the axis*, «горизонтальная линия поперек оси»):"
   ]
  },
  {
   "cell_type": "code",
   "execution_count": 30,
   "metadata": {},
   "outputs": [
    {
     "data": {
      "image/png": "[encoded data removed]",
      "text/plain": [
       "<Figure size 864x360 with 1 Axes>"
      ]
     },
     "metadata": {
      "needs_background": "light"
     },
     "output_type": "display_data"
    }
   ],
   "source": [
    "# собираем данные в одном датафрейме\n",
    "mergedCumulativeRevenue = cumulativeRevenueA.merge(cumulativeRevenueB, left_on = 'date', right_on='date', how='left', suffixes=['A', 'B'])\n",
    "\n",
    "# cтроим отношение средних чеков\n",
    "plt.figure(figsize=(12,5))\n",
    "plt.grid()\n",
    "plt.xlabel('Дата')\n",
    "plt.ylabel('Средний чек')\n",
    "plt.plot(mergedCumulativeRevenue['date'], (mergedCumulativeRevenue['revenueB']/mergedCumulativeRevenue['ordersB'])/(mergedCumulativeRevenue['revenueA']/mergedCumulativeRevenue['ordersA'])-1)\n",
    "\n",
    "# добавляем ось X\n",
    "plt.axhline(y=0, color ='black', linestyle = '--')\n",
    "plt.title('График относительного изменения кумулятивного среднего чека группы B к группе A');"
   ]
  },
  {
   "cell_type": "markdown",
   "metadata": {},
   "source": [
    "**Выводы**\n",
    "\n",
    "<p></p>\n",
    "\n",
    "<div style=\"border:solid green 2px; padding: 20px\">\n",
    "Результаты теста значительно и резко менялись в несколько дат. Видимо, именно тогда были совершены аномальные заказы.  "
   ]
  },
  {
   "cell_type": "markdown",
   "metadata": {},
   "source": [
    "##### Постройте график кумулятивного среднего количества заказов на посетителя по группам. Сделайте выводы и предположения."
   ]
  },
  {
   "cell_type": "markdown",
   "metadata": {},
   "source": [
    "Аналогично проанализируем график кумулятивной конверсии."
   ]
  },
  {
   "cell_type": "code",
   "execution_count": 31,
   "metadata": {},
   "outputs": [
    {
     "data": {
      "image/png": "[encoded data removed]",
      "text/plain": [
       "<Figure size 864x360 with 1 Axes>"
      ]
     },
     "metadata": {
      "needs_background": "light"
     },
     "output_type": "display_data"
    }
   ],
   "source": [
    "# считаем кумулятивную конверсию\n",
    "cumulativeData['conversion'] = cumulativeData['orders']/cumulativeData['visitors']\n",
    "\n",
    "# отделяем данные по группе A\n",
    "cumulativeDataA = cumulativeData[cumulativeData['group'] == 'A']\n",
    "\n",
    "# отделяем данные по группе B\n",
    "cumulativeDataB = cumulativeData[cumulativeData['group'] == 'B']\n",
    "\n",
    "# строим графики\n",
    "plt.figure(figsize=(12,5))\n",
    "plt.grid()\n",
    "plt.xlabel('Дата')\n",
    "plt.ylabel('Среднее количество заказов')\n",
    "plt.plot(cumulativeDataA['date'], cumulativeDataA['conversion'], label = 'A')\n",
    "plt.plot(cumulativeDataB['date'], cumulativeDataB['conversion'], label = 'B')\n",
    "plt.legend()\n",
    "plt.title('График кумулятивного среднего количества заказов на посетителя по группам')\n",
    "\n",
    "# задаем масштаб осей\n",
    "plt.axis([\"2019-08-01\", '2019-08-31', 0, 0.037]);"
   ]
  },
  {
   "cell_type": "markdown",
   "metadata": {},
   "source": [
    "**Выводы**\n",
    "\n",
    "<p></p>\n",
    "\n",
    "<div style=\"border:solid green 2px; padding: 20px\">\n",
    "В начале теста группа А имела большую конверсию, но постепенно группа В выровнялась и зафиксировалась примерно около одного значения, больше значения группы А. Я изменила масштаб графика, чтобы было видно, что абсолютное значение колебания в начале и в конце теста не слишком большое: от 2,5% до 3,5%. Если убрать масштаб осей, будет казаться, что колебания продолжаются, и конверсия не установилась около своего среднего значения. "
   ]
  },
  {
   "cell_type": "markdown",
   "metadata": {},
   "source": [
    "##### Постройте график относительного изменения кумулятивного среднего количества заказов на посетителя группы B к группе A. Сделайте выводы и предположения."
   ]
  },
  {
   "cell_type": "markdown",
   "metadata": {},
   "source": [
    "Построим график относительного различия кумулятивных конверсий."
   ]
  },
  {
   "cell_type": "code",
   "execution_count": 32,
   "metadata": {},
   "outputs": [
    {
     "data": {
      "image/png": "[encoded data removed]",
      "text/plain": [
       "<Figure size 864x360 with 1 Axes>"
      ]
     },
     "metadata": {
      "needs_background": "light"
     },
     "output_type": "display_data"
    }
   ],
   "source": [
    "mergedCumulativeConversions = cumulativeDataA[['date', 'conversion']].merge(cumulativeDataB[['date', 'conversion']], \\\n",
    "left_on='date', right_on='date', how='left', suffixes=['A', 'B'])\n",
    "\n",
    "# строим графики\n",
    "plt.figure(figsize=(12,5))\n",
    "plt.grid()\n",
    "plt.xlabel('Дата')\n",
    "plt.ylabel('Среднее количество заказов')\n",
    "plt.plot(mergedCumulativeConversions['date'], mergedCumulativeConversions['conversionB']/mergedCumulativeConversions['conversionA']-1)\n",
    "\n",
    "# задаем масштаб осей\n",
    "plt.axhline(y=0, color='black', linestyle='--')\n",
    "plt.axhline(y=0.2, color='grey', linestyle='--')\n",
    "plt.axis([\"2019-08-01\", '2019-08-31', -0.4, 0.4])\n",
    "plt.title('Oтносительное изменение кумулятивного среднего количества заказов на посетителя группы B к группе A');"
   ]
  },
  {
   "cell_type": "markdown",
   "metadata": {},
   "source": [
    "**Выводы**\n",
    "\n",
    "<p></p>\n",
    "\n",
    "<div style=\"border:solid green 2px; padding: 20px\">\n",
    "Почти с самого начала теста группа В лидирует по конверсии: становится лучше и лучше относительно группы А. В целом отношение конверсии ещё не установилось, и сейчас делать какие-либо выводы по тесту нельзя. Впрочем, сперва стоит проанализировать аномалии, возможно, они изменят картину."
   ]
  },
  {
   "cell_type": "markdown",
   "metadata": {},
   "source": [
    "##### Постройте точечный график количества заказов по пользователям. Сделайте выводы и предположения."
   ]
  },
  {
   "cell_type": "markdown",
   "metadata": {},
   "source": [
    "Подсчитаем количество заказов по пользователям и посмотрим на результат:"
   ]
  },
  {
   "cell_type": "code",
   "execution_count": 33,
   "metadata": {},
   "outputs": [
    {
     "data": {
      "image/png": "[encoded data removed]",
      "text/plain": [
       "<Figure size 864x360 with 1 Axes>"
      ]
     },
     "metadata": {
      "needs_background": "light"
     },
     "output_type": "display_data"
    }
   ],
   "source": [
    "#подсчитаем число уникальных заказов по сгруппированным данным\n",
    "ordersByUsers = orders.groupby('visitor_id', as_index=False).agg({'transaction_id' : 'nunique'})\n",
    "\n",
    "#oтсортируем по убыванию количества заказов пользователей\n",
    "ordersByUsers.sort_values(by='transaction_id', ascending=False)\n",
    "\n",
    "# серия из чисел от 0 до количества наблюдений в ordersByUsers\n",
    "x_values = pd.Series(range(0, len(ordersByUsers)))\n",
    "plt.figure(figsize=(12,5))\n",
    "plt.grid()\n",
    "plt.xlabel('Пользователи')\n",
    "plt.ylabel('Количество заказов')\n",
    "plt.scatter(x_values, ordersByUsers['transaction_id'])\n",
    "plt.title('Точечный график количества заказов по пользователям');\n"
   ]
  },
  {
   "cell_type": "markdown",
   "metadata": {},
   "source": [
    "**Выводы**\n",
    "\n",
    "<p></p>\n",
    "\n",
    "<div style=\"border:solid green 2px; padding: 20px\">\n",
    "Пользователей, заказавших более двух раз совсем мало. Они вполне могут быть аномальными. "
   ]
  },
  {
   "cell_type": "markdown",
   "metadata": {},
   "source": [
    "##### Посчитайте 95-й и 99-й перцентили количества заказов на пользователя. Выберите границу для определения аномальных пользователей."
   ]
  },
  {
   "cell_type": "code",
   "execution_count": 34,
   "metadata": {},
   "outputs": [
    {
     "name": "stdout",
     "output_type": "stream",
     "text": [
      "[1. 2.]\n"
     ]
    }
   ],
   "source": [
    "#через метод np.percentile('column', [percentile1, percentile2, percentile3]) найдем перцентили\n",
    "print(np.percentile(ordersByUsers['transaction_id'], [95,99]))"
   ]
  },
  {
   "cell_type": "markdown",
   "metadata": {},
   "source": [
    "**Выводы**\n",
    "\n",
    "<p></p>\n",
    "\n",
    "<div style=\"border:solid green 2px; padding: 20px\">\n",
    "Не более 5% пользователей совершали больше одного заказа. И не более 1% пользователей - больше двух заказов."
   ]
  },
  {
   "cell_type": "markdown",
   "metadata": {},
   "source": [
    "##### Постройте точечный график стоимостей заказов. Сделайте выводы и предположения."
   ]
  },
  {
   "cell_type": "code",
   "execution_count": 35,
   "metadata": {},
   "outputs": [
    {
     "data": {
      "image/png": "[encoded data removed]",
      "text/plain": [
       "<Figure size 864x360 with 1 Axes>"
      ]
     },
     "metadata": {
      "needs_background": "light"
     },
     "output_type": "display_data"
    }
   ],
   "source": [
    "x_values = pd.Series(range(0, len(orders['revenue'])))\n",
    "plt.figure(figsize=(12,5))\n",
    "plt.grid()\n",
    "plt.xlabel('Пользователи')\n",
    "plt.ylabel('Стоимость заказов')\n",
    "plt.scatter(x_values, orders['revenue'])\n",
    "plt.title('Tочечный график стоимостей заказов');"
   ]
  },
  {
   "cell_type": "markdown",
   "metadata": {},
   "source": [
    "**Выводы**\n",
    "\n",
    "<p></p>\n",
    "\n",
    "<div style=\"border:solid green 2px; padding: 20px\">\n",
    "Большинство заказов всё-таки имеет нормальную выручку. Есть один заказ стоимостью 200 000 руб. Также есть выброс в районе 1 250 000 руб. Заказ на такую сумму в интернет-магазине выглядит весьма аномально. Посмотрим на выбросы в следующем блоке анализа. <br>\n",
    "Если такой дорогой заказ попадёт в одну из групп теста, он сразу же исказит результаты и сделает победителем ту группу, где оказался. При этом такие покупки — редкость, исключение, которое проявилось не из-за тестирования гипотезы, а случайно.<br>\n",
    "Такие аномально дорогие заказы следует удалять из теста. Можно провести и анализ самых дешёвых заказов. Однако из-за маленькой стоимости они слабо влияют на средний чек."
   ]
  },
  {
   "cell_type": "code",
   "execution_count": 36,
   "metadata": {},
   "outputs": [
    {
     "data": {
      "image/png": "[encoded data removed]",
      "text/plain": [
       "<Figure size 864x360 with 1 Axes>"
      ]
     },
     "metadata": {
      "needs_background": "light"
     },
     "output_type": "display_data"
    }
   ],
   "source": [
    "x_values = pd.Series(range(0, len(orders['revenue'])))\n",
    "plt.figure(figsize=(12,5))\n",
    "plt.grid()\n",
    "plt.xlabel('Пользователи')\n",
    "plt.ylabel('Стоимость заказов')\n",
    "plt.scatter(x_values, orders['revenue'])\n",
    "plt.title('Tочечный график стоимостей заказов')\n",
    "plt.ylim([0, 0.2]);"
   ]
  },
  {
   "cell_type": "code",
   "execution_count": 37,
   "metadata": {},
   "outputs": [
    {
     "data": {
      "image/png": "[encoded data removed]",
      "text/plain": [
       "<Figure size 1080x360 with 1 Axes>"
      ]
     },
     "metadata": {
      "needs_background": "light"
     },
     "output_type": "display_data"
    }
   ],
   "source": [
    "import seaborn as sns\n",
    "\n",
    "orders_without_anomal = orders[orders['revenue'] < int(np.percentile(orders['revenue'], [95]))]\n",
    "x_values = pd.Series(range(0,len(orders_without_anomal['revenue'])))\n",
    "\n",
    "plt.figure(figsize=(15,5))\n",
    "sns.scatterplot(data=orders_without_anomal, x=x_values, y='revenue', hue='group', palette='YlGnBu')\n",
    "plt.xlabel('Количество пользователей')\n",
    "plt.ylabel('Стоимость заказа')\n",
    "plt.title('График стоимостей заказов по пользователям по очищенным данным')\n",
    "plt.show() "
   ]
  },
  {
   "cell_type": "markdown",
   "metadata": {},
   "source": [
    "##### Посчитайте 95-й и 99-й перцентили стоимости заказов. Выберите границу для определения аномальных заказов."
   ]
  },
  {
   "cell_type": "code",
   "execution_count": 38,
   "metadata": {},
   "outputs": [
    {
     "name": "stdout",
     "output_type": "stream",
     "text": [
      "[26785. 53904.]\n"
     ]
    }
   ],
   "source": [
    "#через метод np.percentile('column', [percentile1, percentile2, percentile3]) найдем перцентили\n",
    "print(np.percentile(orders['revenue'], [95,99]))"
   ]
  },
  {
   "cell_type": "markdown",
   "metadata": {},
   "source": [
    "**Выводы**\n",
    "\n",
    "<p></p>\n",
    "\n",
    "<div style=\"border:solid green 2px; padding: 20px\">\n",
    "Не более, чем у 5% заказов чек дороже 26785 руб. И не больше, чем у 1% заказов - дороже 53904 руб."
   ]
  },
  {
   "cell_type": "markdown",
   "metadata": {},
   "source": [
    "##### Посчитайте статистическую значимость различий в среднем количестве заказов на посетителя между группами по «сырым» данным. Сделайте выводы и предположения."
   ]
  },
  {
   "cell_type": "markdown",
   "metadata": {},
   "source": [
    "Сформулируем гипотезы. Нулевая: различий в среднем количестве заказов между группами нет. Альтернативная: различия в среднем между группами есть."
   ]
  },
  {
   "cell_type": "code",
   "execution_count": 39,
   "metadata": {},
   "outputs": [
    {
     "data": {
      "text/html": [
       "<div>\n",
       "<style scoped>\n",
       "    .dataframe tbody tr th:only-of-type {\n",
       "        vertical-align: middle;\n",
       "    }\n",
       "\n",
       "    .dataframe tbody tr th {\n",
       "        vertical-align: top;\n",
       "    }\n",
       "\n",
       "    .dataframe thead th {\n",
       "        text-align: right;\n",
       "    }\n",
       "</style>\n",
       "<table border=\"1\" class=\"dataframe\">\n",
       "  <thead>\n",
       "    <tr style=\"text-align: right;\">\n",
       "      <th></th>\n",
       "      <th>date</th>\n",
       "      <th>ordersPerDateA</th>\n",
       "      <th>revenuePerDateA</th>\n",
       "      <th>ordersPerDateB</th>\n",
       "      <th>revenuePerDateB</th>\n",
       "      <th>ordersCummulativeA</th>\n",
       "      <th>revenueCummulativeA</th>\n",
       "      <th>ordersBCummulativeB</th>\n",
       "      <th>revenueCummulativeB</th>\n",
       "      <th>visitorsPerDateA</th>\n",
       "      <th>visitorsPerDateB</th>\n",
       "      <th>visitorsCumulativeA</th>\n",
       "      <th>visitorsCummulativeB</th>\n",
       "    </tr>\n",
       "  </thead>\n",
       "  <tbody>\n",
       "    <tr>\n",
       "      <th>0</th>\n",
       "      <td>2019-08-01</td>\n",
       "      <td>23</td>\n",
       "      <td>142779</td>\n",
       "      <td>17</td>\n",
       "      <td>59758</td>\n",
       "      <td>23</td>\n",
       "      <td>142779</td>\n",
       "      <td>17</td>\n",
       "      <td>59758</td>\n",
       "      <td>719</td>\n",
       "      <td>713</td>\n",
       "      <td>719</td>\n",
       "      <td>713</td>\n",
       "    </tr>\n",
       "    <tr>\n",
       "      <th>1</th>\n",
       "      <td>2019-08-02</td>\n",
       "      <td>19</td>\n",
       "      <td>91602</td>\n",
       "      <td>23</td>\n",
       "      <td>162043</td>\n",
       "      <td>42</td>\n",
       "      <td>234381</td>\n",
       "      <td>40</td>\n",
       "      <td>221801</td>\n",
       "      <td>619</td>\n",
       "      <td>581</td>\n",
       "      <td>1338</td>\n",
       "      <td>1294</td>\n",
       "    </tr>\n",
       "    <tr>\n",
       "      <th>2</th>\n",
       "      <td>2019-08-03</td>\n",
       "      <td>24</td>\n",
       "      <td>112473</td>\n",
       "      <td>14</td>\n",
       "      <td>67049</td>\n",
       "      <td>66</td>\n",
       "      <td>346854</td>\n",
       "      <td>54</td>\n",
       "      <td>288850</td>\n",
       "      <td>507</td>\n",
       "      <td>509</td>\n",
       "      <td>1845</td>\n",
       "      <td>1803</td>\n",
       "    </tr>\n",
       "    <tr>\n",
       "      <th>3</th>\n",
       "      <td>2019-08-04</td>\n",
       "      <td>11</td>\n",
       "      <td>41176</td>\n",
       "      <td>14</td>\n",
       "      <td>96890</td>\n",
       "      <td>77</td>\n",
       "      <td>388030</td>\n",
       "      <td>68</td>\n",
       "      <td>385740</td>\n",
       "      <td>717</td>\n",
       "      <td>770</td>\n",
       "      <td>2562</td>\n",
       "      <td>2573</td>\n",
       "    </tr>\n",
       "    <tr>\n",
       "      <th>4</th>\n",
       "      <td>2019-08-05</td>\n",
       "      <td>22</td>\n",
       "      <td>86383</td>\n",
       "      <td>21</td>\n",
       "      <td>89908</td>\n",
       "      <td>99</td>\n",
       "      <td>474413</td>\n",
       "      <td>89</td>\n",
       "      <td>475648</td>\n",
       "      <td>756</td>\n",
       "      <td>707</td>\n",
       "      <td>3318</td>\n",
       "      <td>3280</td>\n",
       "    </tr>\n",
       "  </tbody>\n",
       "</table>\n",
       "</div>"
      ],
      "text/plain": [
       "        date  ordersPerDateA  revenuePerDateA  ordersPerDateB  revenuePerDateB  ordersCummulativeA  revenueCummulativeA  ordersBCummulativeB  revenueCummulativeB  visitorsPerDateA  visitorsPerDateB  visitorsCumulativeA  visitorsCummulativeB\n",
       "0 2019-08-01              23           142779              17            59758                  23               142779                   17                59758               719               713                  719                   713\n",
       "1 2019-08-02              19            91602              23           162043                  42               234381                   40               221801               619               581                 1338                  1294\n",
       "2 2019-08-03              24           112473              14            67049                  66               346854                   54               288850               507               509                 1845                  1803\n",
       "3 2019-08-04              11            41176              14            96890                  77               388030                   68               385740               717               770                 2562                  2573\n",
       "4 2019-08-05              22            86383              21            89908                  99               474413                   89               475648               756               707                 3318                  3280"
      ]
     },
     "metadata": {},
     "output_type": "display_data"
    }
   ],
   "source": [
    "visitorsADaily = visitors[visitors['group'] == 'A'][['date', 'visitors']]\n",
    "visitorsADaily.columns = ['date', 'visitorsPerDateA']\n",
    "visitorsACummulative = visitorsADaily.apply(\n",
    "    lambda x: visitorsADaily[visitorsADaily['date'] <= x['date']].agg(\n",
    "        {'date': 'max', 'visitorsPerDateA': 'sum'}), axis=1,)\n",
    "visitorsACummulative.columns = ['date', 'visitorsCumulativeA']\n",
    "\n",
    "visitorsBDaily = visitors[visitors['group']=='B'][['date', 'visitors']]\n",
    "visitorsBDaily.columns = ['date', 'visitorsPerDateB']\n",
    "visitorsBCummulative = visitorsBDaily.apply(\n",
    "    lambda x: visitorsBDaily[visitorsBDaily['date'] <=x['date']].agg(\n",
    "        {'date' : 'max', 'visitorsPerDateB' : 'sum'}), axis=1,)\n",
    "visitorsBCummulative.columns = ['date', 'visitorsCummulativeB']\n",
    "\n",
    "ordersADaily = (orders[orders['group'] == 'A'][['date', 'transaction_id', 'visitor_id', 'revenue']]\\\n",
    "    .groupby('date', as_index=False).agg({'transaction_id':pd.Series.nunique, 'revenue':'sum'}))\n",
    "ordersADaily.columns = ['date', 'ordersPerDateA', 'revenuePerDateA']\n",
    "ordersACummulative = ordersADaily.apply(\n",
    "     lambda x: ordersADaily[ordersADaily['date'] <= x['date']].agg(\n",
    "     {'date' : 'max', 'ordersPerDateA' : 'sum', 'revenuePerDateA' : 'sum'}), axis=1,).sort_values(by=['date'])\n",
    "ordersACummulative.columns=['date', 'ordersCummulativeA', 'revenueCummulativeA']\n",
    "\n",
    "ordersBDaily=(orders[orders['group'] == 'B'][['date', 'transaction_id', 'visitor_id', 'revenue']]\\\n",
    "    .groupby('date', as_index=False).agg({'transaction_id':pd.Series.nunique, 'revenue':'sum'}))\n",
    "ordersBDaily.columns=['date', 'ordersPerDateB', 'revenuePerDateB']\n",
    "ordersBCummulative = ordersBDaily.apply(\n",
    "    lambda x: ordersBDaily[ordersBDaily['date'] <=x['date']].agg(\n",
    "    {'date':'max', 'ordersPerDateB' : 'sum', 'revenuePerDateB':'sum'}),axis=1,).sort_values(by=['date'])\n",
    "ordersBCummulative.columns=['date', 'ordersBCummulativeB', 'revenueCummulativeB']\n",
    "\n",
    "data_2 = (\n",
    "    ordersADaily.merge(\n",
    "        ordersBDaily, left_on='date', right_on='date', how='left')\n",
    "    .merge(ordersACummulative, left_on='date', right_on='date', how='left')\n",
    "    .merge(ordersBCummulative, left_on='date', right_on='date', how='left')\n",
    "    .merge(visitorsADaily, left_on='date', right_on='date', how='left')\n",
    "    .merge(visitorsBDaily, left_on='date', right_on='date', how='left')\n",
    "    .merge(visitorsACummulative, left_on='date', right_on='date', how='left')\n",
    "    .merge(visitorsBCummulative, left_on='date', right_on='date', how='left'))\n",
    "\n",
    "display(data_2.head(5))"
   ]
  },
  {
   "cell_type": "markdown",
   "metadata": {},
   "source": [
    "Посчитаем статистическую значимость различия в среднем количестве заказов между группами.\n",
    "Создадим переменные `ordersByUsersA` и `ordersByUsersB` со столбцами `['userId', 'orders']`. В них для пользователей, которые заказывали хотя бы 1 раз, укажем число совершённых заказов.\n",
    "\n"
   ]
  },
  {
   "cell_type": "code",
   "execution_count": 40,
   "metadata": {},
   "outputs": [],
   "source": [
    "ordersByUsersA = (orders[orders['group'] == 'A'].groupby('visitor_id', as_index=False).agg({'transaction_id':pd.Series.nunique}))\n",
    "ordersByUsersA.columns=['visitor_id', 'transaction_id']\n",
    "\n",
    "ordersByUsersB=(orders[orders['group'] == 'A'].groupby('visitor_id', as_index=False).agg({'transaction_id':pd.Series.nunique}))\n",
    "ordersByUsersB.columns=['visitor_id', 'transaction_id']"
   ]
  },
  {
   "cell_type": "markdown",
   "metadata": {},
   "source": [
    "Объявим переменные `sampleA` и `sampleB`, в которых пользователям из разных групп будет соответствовать количество заказов. Тем, кто ничего не заказал, будут соответствовать нули. Это нужно, чтобы подготовить выборки к проверке критерием Манна-Уитни."
   ]
  },
  {
   "cell_type": "code",
   "execution_count": 41,
   "metadata": {},
   "outputs": [
    {
     "name": "stdout",
     "output_type": "stream",
     "text": [
      "p-value 0.8852382482379827\n",
      "Oтносительное различие среднего числа заказов группы B = -0.010\n"
     ]
    }
   ],
   "source": [
    "sampleA = pd.concat([ordersByUsersA['transaction_id'],pd.Series(0, index=np.arange(data_2['visitorsPerDateA'].sum()\\\n",
    "        - len(ordersByUsersA['transaction_id'])), name='transaction_id')],axis=0)\n",
    "sampleB = pd.concat([ordersByUsersB['transaction_id'], pd.Series(0,index=np.arange(data_2['visitorsPerDateB'].sum()\\\n",
    "        - len(ordersByUsersB['transaction_id'])), name='transaction_id')], axis=0)\n",
    "\n",
    "print('p-value', format(stats.mannwhitneyu(sampleA,sampleB)[1]))\n",
    "print('Oтносительное различие среднего числа заказов группы B =', \"{0:.3f}\".format(sampleB.mean()/ sampleA.mean()-1))"
   ]
  },
  {
   "cell_type": "markdown",
   "metadata": {},
   "source": [
    "**Выводы**\n",
    "\n",
    "<p></p>\n",
    "\n",
    "<div style=\"border:solid green 2px; padding: 20px\">\n",
    "По «сырым» данным различий в среднем числе заказов групп A и B нет.\n",
    "Первое число — p-value = 0.885 больше 0.05. Значит, нулевую гипотезу о том, что статистически значимых различий в среднем числе заказов между группами нет, не отвергаем. Однако относительный проигрыш группы B равен 1% — второе число в выводе."
   ]
  },
  {
   "cell_type": "markdown",
   "metadata": {},
   "source": [
    "##### Посчитайте статистическую значимость различий в среднем чеке заказа между группами по «сырым» данным. Сделайте выводы и предположения."
   ]
  },
  {
   "cell_type": "markdown",
   "metadata": {},
   "source": [
    "Проверим статистическую значимость различий в среднем чеке между сегментами. Нулевая гипотеза: различий в среднем чеке между группами нет. Альтернативная гипотеза: различия в среднем чеке между группами есть."
   ]
  },
  {
   "cell_type": "markdown",
   "metadata": {},
   "source": [
    "Чтобы рассчитать статистическую значимость различий в среднем чеке, передадим критерию `mannwhitneyu()` данные о выручке с заказов.\n",
    "А ещё найдём относительные различия в среднем чеке между группами:"
   ]
  },
  {
   "cell_type": "code",
   "execution_count": 42,
   "metadata": {},
   "outputs": [
    {
     "name": "stdout",
     "output_type": "stream",
     "text": [
      "p-value 0.8294908998149533\n",
      "Oтносительное различие среднего чека между сегментами = 0.287\n"
     ]
    }
   ],
   "source": [
    "print('p-value', format(stats.mannwhitneyu(orders[orders['group']=='A']['revenue'], orders[orders['group']=='B']['revenue'])[1]))\n",
    "print('Oтносительное различие среднего чека между сегментами =', \"{0:.3f}\".format(orders[orders['group']=='B']['revenue'].mean()/orders[orders['group']=='A']['revenue'].mean()-1))"
   ]
  },
  {
   "cell_type": "markdown",
   "metadata": {},
   "source": [
    "**Выводы**\n",
    "\n",
    "<p></p>\n",
    "\n",
    "<div style=\"border:solid green 2px; padding: 20px\">\n",
    "P-value значительно больше 0.05. Значит, причин отвергать нулевую гипотезу и считать, что в среднем чеке есть различия, нет. Кроме того, относительное различие среднего чека между сегментами составляет 28,7%. "
   ]
  },
  {
   "cell_type": "markdown",
   "metadata": {},
   "source": [
    "##### Посчитайте статистическую значимость различий в среднем количестве заказов на посетителя между группами по «очищенным» данным. Сделайте выводы и предположения."
   ]
  },
  {
   "cell_type": "markdown",
   "metadata": {},
   "source": [
    "Найденные выше 95-й и 99-й перцентили средних чеков равны 26 785 и 53 904 рубля. А 95-й и 99-й перцентили количества заказов на одного пользователя равны 1 и 2 заказа на пользователя.\n",
    "Примем за аномальных пользователей тех, кто совершил от 2 заказов или совершил заказ дороже 30 000 рублей. Так мы уберём 5% пользователей с наибольшим числом заказов и от 1% до 5% пользователей с дорогими заказами. Сделаем срезы пользователей с числом заказов больше 1 — `usersWithManyOrders` и пользователей, совершивших заказы дороже 30 000 — `usersWithExpensiveOrders`. Объединим их в таблице `abnormalUsers`."
   ]
  },
  {
   "cell_type": "code",
   "execution_count": 43,
   "metadata": {},
   "outputs": [
    {
     "name": "stdout",
     "output_type": "stream",
     "text": [
      "1099    148427295\n",
      "928     204675465\n",
      "684     358944393\n",
      "36      366673373\n",
      "648     382846391\n",
      "Name: visitor_id, dtype: int64\n",
      "59\n"
     ]
    }
   ],
   "source": [
    "usersWithManyOrders = pd.concat(\n",
    "    [\n",
    "        ordersByUsersA[ordersByUsersA['transaction_id'] > 1]['visitor_id'],\n",
    "        ordersByUsersB[ordersByUsersB['transaction_id'] > 1]['visitor_id'],\n",
    "    ],\n",
    "    axis=0,\n",
    ")\n",
    "usersWithExpensiveOrders = orders[orders['revenue'] > 30000]['visitor_id']\n",
    "abnormalUsers = (\n",
    "    pd.concat([usersWithManyOrders, usersWithExpensiveOrders], axis=0)\n",
    "    .drop_duplicates()\n",
    "    .sort_values()\n",
    ")\n",
    "print(abnormalUsers.head(5))\n",
    "print(abnormalUsers.shape[0]) "
   ]
  },
  {
   "cell_type": "markdown",
   "metadata": {},
   "source": [
    "**Выводы**\n",
    "\n",
    "<p></p>\n",
    "\n",
    "<div style=\"border:solid green 2px; padding: 20px\">Всего 59 аномальных пользователей.\n",
    "Узнаем, как их действия повлияли на результаты теста. Посчитаем статистическую значимость различий в среднем количестве заказов между группами теста по очищенным данным."
   ]
  },
  {
   "cell_type": "markdown",
   "metadata": {},
   "source": [
    "Подготовим выборки количества заказов по пользователям по группам теста:"
   ]
  },
  {
   "cell_type": "code",
   "execution_count": 44,
   "metadata": {},
   "outputs": [],
   "source": [
    "sampleAFiltered = pd.concat(\n",
    "    [\n",
    "        ordersByUsersA[\n",
    "            np.logical_not(ordersByUsersA['visitor_id'].isin(abnormalUsers))\n",
    "        ]['transaction_id'],\n",
    "        pd.Series(\n",
    "            0,\n",
    "            index=np.arange(\n",
    "                data_2['visitorsPerDateA'].sum() - len(ordersByUsersA['transaction_id'])\n",
    "            ),\n",
    "            name='transaction_id',\n",
    "        ),\n",
    "    ],\n",
    "    axis=0,\n",
    ")\n",
    "\n",
    "sampleBFiltered = pd.concat(\n",
    "    [\n",
    "        ordersByUsersB[\n",
    "            np.logical_not(ordersByUsersB['visitor_id'].isin(abnormalUsers))\n",
    "        ]['transaction_id'],\n",
    "        pd.Series(\n",
    "            0,\n",
    "            index=np.arange(\n",
    "                data_2['visitorsPerDateB'].sum() - len(ordersByUsersB['transaction_id'])\n",
    "            ),\n",
    "            name='transaction_id',\n",
    "        ),\n",
    "    ],\n",
    "    axis=0,\n",
    ") "
   ]
  },
  {
   "cell_type": "markdown",
   "metadata": {},
   "source": [
    "Применим статистический критерий Манна-Уитни к полученным выборкам:"
   ]
  },
  {
   "cell_type": "code",
   "execution_count": 45,
   "metadata": {},
   "outputs": [
    {
     "name": "stdout",
     "output_type": "stream",
     "text": [
      "p-value 0.8898415560891251\n",
      "Oтносительное различие среднего числа заказов группы B = -0.010\n"
     ]
    }
   ],
   "source": [
    "print('p-value', format(stats.mannwhitneyu(sampleAFiltered, sampleBFiltered)[1]))\n",
    "print('Oтносительное различие среднего числа заказов группы B =', '{0:.3f}'.format(sampleBFiltered.mean()/sampleAFiltered.mean()-1)) "
   ]
  },
  {
   "cell_type": "markdown",
   "metadata": {},
   "source": [
    "**Выводы**\n",
    "\n",
    "<p></p>\n",
    "\n",
    "<div style=\"border:solid green 2px; padding: 20px\">\n",
    "Результаты по среднему количеству заказов практически не изменились."
   ]
  },
  {
   "cell_type": "markdown",
   "metadata": {},
   "source": [
    "##### Посчитайте статистическую значимость различий в среднем чеке заказа между группами по «очищенным» данным. Сделайте выводы и предположения."
   ]
  },
  {
   "cell_type": "code",
   "execution_count": 46,
   "metadata": {},
   "outputs": [
    {
     "name": "stdout",
     "output_type": "stream",
     "text": [
      "p-value 0.945909948762009\n",
      "Относительное различие между сегментами -0.011\n"
     ]
    }
   ],
   "source": [
    "print(\n",
    "    'p-value', format(\n",
    "        stats.mannwhitneyu(\n",
    "            orders[\n",
    "                np.logical_and(\n",
    "                    orders['group'] == 'A',\n",
    "                    np.logical_not(orders['visitor_id'].isin(abnormalUsers)),\n",
    "                )\n",
    "            ]['revenue'],\n",
    "            orders[\n",
    "                np.logical_and(\n",
    "                    orders['group'] == 'B',\n",
    "                    np.logical_not(orders['visitor_id'].isin(abnormalUsers)),\n",
    "                )\n",
    "            ]['revenue'],\n",
    "        )[1]\n",
    "    )\n",
    ")\n",
    "\n",
    "print('Относительное различие между сегментами','{0:.3f}'.format(\n",
    "        orders[\n",
    "            np.logical_and(\n",
    "                orders['group'] == 'B',\n",
    "                np.logical_not(orders['visitor_id'].isin(abnormalUsers)),\n",
    "            )\n",
    "        ]['revenue'].mean()\n",
    "        / orders[\n",
    "            np.logical_and(\n",
    "                orders['group'] == 'A',\n",
    "                np.logical_not(orders['visitor_id'].isin(abnormalUsers)),\n",
    "            )\n",
    "        ]['revenue'].mean()\n",
    "        - 1\n",
    "    )\n",
    ") "
   ]
  },
  {
   "cell_type": "markdown",
   "metadata": {},
   "source": [
    "**Выводы**\n",
    "\n",
    "<p></p>\n",
    "\n",
    "<div style=\"border:solid green 2px; padding: 20px\">\n",
    "P-value увеличился, но и разница между сегментами сократилась с 28,7% до 1,1%. Хотя общие выводы по результатам теста не изменились."
   ]
  },
  {
   "cell_type": "markdown",
   "metadata": {},
   "source": [
    "##### Примите решение по результатам теста и объясните его. Варианты решений: 1. Остановить тест, зафиксировать победу одной из групп. 2. Остановить тест, зафиксировать отсутствие различий между группами. 3. Продолжить тест."
   ]
  },
  {
   "cell_type": "markdown",
   "metadata": {},
   "source": [
    "По результатам проведенного А/В-теста можно сделать следующие выводы:\n",
    "\n",
    "1. Oтносительное различие среднего чека между группами составляет 28,7% по «сырым» данным. После фильтрации аномалий относительное различие среднего чека между группами сократилось с 28,7% до 1,1% ;\n",
    "2. Нет статистически значимого различия по среднему количеству заказов между группами ни по «сырым», ни по данным после фильтрации аномалий. Относительный проигрыш группы B равен 1% и по «сырым» данным и по «очищенным»;\n",
    "3. График различия конверсии между группами сообщает, что результаты группы А хуже группы В и нет значительной тенденции к улучшению. Почти с самого начала теста группа В лидирует по конверсии: становится лучше и лучше относительно группы А. \n",
    "4. График различия среднего чека говорит о том, что результаты группы B улучшаются день ото дня и сейчас почти на 30% лучше;<br><br>\n",
    "Исходя из обнаруженных фактов, тест следует остановить и признать его успешным. Продолжать смысла нет, потому как вероятность, что при имеющихся данных сегмент В на самом деле хуже сегмента A — практически нулевая."
   ]
  },
  {
   "cell_type": "markdown",
   "metadata": {},
   "source": [
    "### Выводы и рекомендации"
   ]
  },
  {
   "cell_type": "markdown",
   "metadata": {},
   "source": [
    "<p></p>\n",
    "<div style=\"border:solid green 2px; padding: 20px\">\n",
    "<div> <b>1. Приоритизация гипотез:</b>  <br><br>\n",
    "<div><div>1.1. Наиболее перспективные гипотезы по ICE: 8 (Запустить акцию, дающую скидку на товар), 0 (Добавить два новых канала привлечения трафика), 7 (Добавить форму подписки на все основные странички), 6 (Показать на главной странице баннеры с актуальными товарами). \n",
    "<div>На первом месте гипотеза 8. \n",
    "<div>Так получилось, потому что ее параметр Impact = 9 и Confidence = 9, а Efforts = 5. То есть изменение \"запустить акцию, дающую скидку на товар\" -  сильно повлияет на пользователей, уверенность от внедрения данной гипотезы тоже высокая, а затраты на тестирование средние. Самой дорогостоящей гипотезой будет являться гипотеза \"Запустить собственную службу доставки\", так как Efforts = 10.<br><br>\n",
    "<div> 1.2.Наиболее перспективные гипотезы по RICE: 7 (Добавить форму подписки на все основные страницы) , 2 (Добавить блоки рекомендаций товаров на сайт интернет - магазина) , 0 (Добавить два новых канала привлечения трафика), 6 (Показать на главной странице баннеры с актуальными товарами).<br><br>\n",
    "<div> 1.3. Как изменилась приоритизация гипотез при применении RICE вместо ICE? <br><br> На первом месте уже гипотеза под номером 7, а не 8 (как по оценке гипотез по методу ICE).\n",
    "<div>Так получилось, потому что ее параметр Reach равен 10, в то время как у других гипотез он меньше (у гипотезы 2 - параметр Reach = 8, у гипотезы 0 - 3, у гипотезы 6 -  5).\n",
    "<div>Кроме силы гипотез необходимо учитывать и то, как много пользователей она затронет. Так, гипотеза 7 затронет максимальное число пользователей 10 из 10 (так как параметры фреймворков оценивались по шкале от 0 до 10)\n",
    "<br><br>\n",
    "<div> <b>2. Рекомендации для отдела маркетинга по результатам проведенного А/В - теста:</b>   <br><br>\n",
    "<div><div> 2.1. Тест следует остановить и признать его успешным. Продолжать смысла нет, потому как вероятность, что при имеющихся данных сегмент В на самом деле хуже сегмента A — практически нулевая.<br><br>\n",
    "    2.2. Перед анализом результатов А/В-теста необходимо проверять есть ли пользователи, которые попали и в группу А и в группу В. Таких пользователей было 58 в данном проекте, что не является нормой, поэтому они были исключены из анализа. \n",
    "    "
   ]
  }
 ],
 "metadata": {
  "ExecuteTimeLog": [
   {
    "duration": 93,
    "start_time": "2022-12-05T16:56:33.063Z"
   },
   {
    "duration": 472,
    "start_time": "2022-12-05T16:59:21.719Z"
   },
   {
    "duration": 86,
    "start_time": "2022-12-05T17:00:20.943Z"
   },
   {
    "duration": 39,
    "start_time": "2022-12-05T17:00:30.142Z"
   },
   {
    "duration": 27,
    "start_time": "2022-12-05T17:01:15.422Z"
   },
   {
    "duration": 8,
    "start_time": "2022-12-05T17:01:41.195Z"
   },
   {
    "duration": 15,
    "start_time": "2022-12-05T17:02:19.188Z"
   },
   {
    "duration": 473,
    "start_time": "2022-12-05T17:04:28.366Z"
   },
   {
    "duration": 5,
    "start_time": "2022-12-05T17:05:10.733Z"
   },
   {
    "duration": 6,
    "start_time": "2022-12-05T17:05:25.523Z"
   },
   {
    "duration": 412,
    "start_time": "2022-12-05T17:49:21.769Z"
   },
   {
    "duration": 29,
    "start_time": "2022-12-05T17:49:22.183Z"
   },
   {
    "duration": 20,
    "start_time": "2022-12-05T17:49:22.214Z"
   },
   {
    "duration": 11,
    "start_time": "2022-12-05T17:49:22.237Z"
   },
   {
    "duration": 326,
    "start_time": "2022-12-05T17:49:22.250Z"
   },
   {
    "duration": 5,
    "start_time": "2022-12-05T17:49:22.578Z"
   },
   {
    "duration": 1258,
    "start_time": "2022-12-05T18:00:21.662Z"
   },
   {
    "duration": 1155,
    "start_time": "2022-12-05T18:01:51.966Z"
   },
   {
    "duration": 97,
    "start_time": "2022-12-05T18:05:12.056Z"
   },
   {
    "duration": 17,
    "start_time": "2022-12-05T18:05:19.124Z"
   },
   {
    "duration": 5,
    "start_time": "2022-12-05T18:05:24.800Z"
   },
   {
    "duration": 4,
    "start_time": "2022-12-05T18:05:57.665Z"
   },
   {
    "duration": 6,
    "start_time": "2022-12-05T18:06:21.738Z"
   },
   {
    "duration": 17,
    "start_time": "2022-12-05T18:06:36.952Z"
   },
   {
    "duration": 468,
    "start_time": "2022-12-05T18:09:09.121Z"
   },
   {
    "duration": 28,
    "start_time": "2022-12-05T18:09:09.591Z"
   },
   {
    "duration": 15,
    "start_time": "2022-12-05T18:09:09.621Z"
   },
   {
    "duration": 26,
    "start_time": "2022-12-05T18:09:09.639Z"
   },
   {
    "duration": 7,
    "start_time": "2022-12-05T18:09:09.667Z"
   },
   {
    "duration": 13,
    "start_time": "2022-12-05T18:09:09.676Z"
   },
   {
    "duration": 320,
    "start_time": "2022-12-05T18:09:09.691Z"
   },
   {
    "duration": 6,
    "start_time": "2022-12-05T18:09:10.013Z"
   },
   {
    "duration": 102,
    "start_time": "2022-12-05T18:09:10.022Z"
   },
   {
    "duration": 19,
    "start_time": "2022-12-05T18:09:26.806Z"
   },
   {
    "duration": 16,
    "start_time": "2022-12-05T18:10:17.376Z"
   },
   {
    "duration": 13,
    "start_time": "2022-12-05T18:11:08.501Z"
   },
   {
    "duration": 438,
    "start_time": "2022-12-05T18:19:52.658Z"
   },
   {
    "duration": 29,
    "start_time": "2022-12-05T18:19:53.098Z"
   },
   {
    "duration": 48,
    "start_time": "2022-12-05T18:19:53.129Z"
   },
   {
    "duration": 12,
    "start_time": "2022-12-05T18:19:53.179Z"
   },
   {
    "duration": 9,
    "start_time": "2022-12-05T18:19:53.192Z"
   },
   {
    "duration": 10,
    "start_time": "2022-12-05T18:19:53.203Z"
   },
   {
    "duration": 318,
    "start_time": "2022-12-05T18:19:53.215Z"
   },
   {
    "duration": 21,
    "start_time": "2022-12-05T18:19:53.535Z"
   },
   {
    "duration": 114,
    "start_time": "2022-12-05T18:19:53.560Z"
   },
   {
    "duration": 13,
    "start_time": "2022-12-05T18:20:14.381Z"
   },
   {
    "duration": 15,
    "start_time": "2022-12-05T18:20:25.518Z"
   },
   {
    "duration": 9,
    "start_time": "2022-12-05T18:30:45.665Z"
   },
   {
    "duration": 19,
    "start_time": "2022-12-05T18:30:54.173Z"
   },
   {
    "duration": 385,
    "start_time": "2022-12-05T18:32:50.866Z"
   },
   {
    "duration": 27,
    "start_time": "2022-12-05T18:32:51.253Z"
   },
   {
    "duration": 14,
    "start_time": "2022-12-05T18:32:51.282Z"
   },
   {
    "duration": 11,
    "start_time": "2022-12-05T18:32:51.298Z"
   },
   {
    "duration": 8,
    "start_time": "2022-12-05T18:32:51.310Z"
   },
   {
    "duration": 11,
    "start_time": "2022-12-05T18:32:51.319Z"
   },
   {
    "duration": 301,
    "start_time": "2022-12-05T18:32:51.332Z"
   },
   {
    "duration": 6,
    "start_time": "2022-12-05T18:32:51.635Z"
   },
   {
    "duration": 79,
    "start_time": "2022-12-05T18:32:51.642Z"
   },
   {
    "duration": 0,
    "start_time": "2022-12-05T18:32:51.723Z"
   },
   {
    "duration": 15,
    "start_time": "2022-12-05T18:33:21.961Z"
   },
   {
    "duration": 14,
    "start_time": "2022-12-05T18:33:29.262Z"
   },
   {
    "duration": 10,
    "start_time": "2022-12-05T18:33:43.987Z"
   },
   {
    "duration": 4,
    "start_time": "2022-12-05T18:34:09.858Z"
   },
   {
    "duration": 16,
    "start_time": "2022-12-05T18:34:16.143Z"
   },
   {
    "duration": 22,
    "start_time": "2022-12-05T18:34:49.567Z"
   },
   {
    "duration": 15,
    "start_time": "2022-12-05T18:35:51.990Z"
   },
   {
    "duration": 7,
    "start_time": "2022-12-05T18:36:01.555Z"
   },
   {
    "duration": 11,
    "start_time": "2022-12-05T18:36:20.314Z"
   },
   {
    "duration": 17,
    "start_time": "2022-12-05T18:36:43.635Z"
   },
   {
    "duration": 15,
    "start_time": "2022-12-05T18:37:02.874Z"
   },
   {
    "duration": 11,
    "start_time": "2022-12-05T18:37:11.687Z"
   },
   {
    "duration": 10,
    "start_time": "2022-12-05T18:37:26.120Z"
   },
   {
    "duration": 69,
    "start_time": "2022-12-05T18:40:12.927Z"
   },
   {
    "duration": 379,
    "start_time": "2022-12-05T19:25:04.778Z"
   },
   {
    "duration": 27,
    "start_time": "2022-12-05T19:25:05.160Z"
   },
   {
    "duration": 13,
    "start_time": "2022-12-05T19:25:05.189Z"
   },
   {
    "duration": 11,
    "start_time": "2022-12-05T19:25:05.204Z"
   },
   {
    "duration": 7,
    "start_time": "2022-12-05T19:25:05.216Z"
   },
   {
    "duration": 6,
    "start_time": "2022-12-05T19:25:05.225Z"
   },
   {
    "duration": 309,
    "start_time": "2022-12-05T19:25:05.232Z"
   },
   {
    "duration": 5,
    "start_time": "2022-12-05T19:25:05.543Z"
   },
   {
    "duration": 14,
    "start_time": "2022-12-05T19:25:05.550Z"
   },
   {
    "duration": 16,
    "start_time": "2022-12-05T19:25:05.566Z"
   },
   {
    "duration": 528,
    "start_time": "2022-12-05T19:34:38.514Z"
   },
   {
    "duration": 137,
    "start_time": "2022-12-05T19:36:25.985Z"
   },
   {
    "duration": 119,
    "start_time": "2022-12-05T19:37:09.937Z"
   },
   {
    "duration": 13,
    "start_time": "2022-12-05T19:38:01.224Z"
   },
   {
    "duration": 20,
    "start_time": "2022-12-05T19:38:27.605Z"
   },
   {
    "duration": 14,
    "start_time": "2022-12-05T19:39:08.885Z"
   },
   {
    "duration": 10,
    "start_time": "2022-12-05T19:39:27.058Z"
   },
   {
    "duration": 12,
    "start_time": "2022-12-05T19:40:33.788Z"
   },
   {
    "duration": 12,
    "start_time": "2022-12-05T19:40:53.198Z"
   },
   {
    "duration": 8,
    "start_time": "2022-12-05T19:41:35.024Z"
   },
   {
    "duration": 5,
    "start_time": "2022-12-05T19:41:42.725Z"
   },
   {
    "duration": 5,
    "start_time": "2022-12-05T19:42:07.535Z"
   },
   {
    "duration": 12,
    "start_time": "2022-12-05T19:44:47.517Z"
   },
   {
    "duration": 7,
    "start_time": "2022-12-05T19:45:00.114Z"
   },
   {
    "duration": 7,
    "start_time": "2022-12-05T19:45:16.514Z"
   },
   {
    "duration": 10,
    "start_time": "2022-12-05T20:00:50.109Z"
   },
   {
    "duration": 401,
    "start_time": "2022-12-05T20:00:57.381Z"
   },
   {
    "duration": 33,
    "start_time": "2022-12-05T20:00:57.784Z"
   },
   {
    "duration": 22,
    "start_time": "2022-12-05T20:00:57.819Z"
   },
   {
    "duration": 12,
    "start_time": "2022-12-05T20:00:57.844Z"
   },
   {
    "duration": 12,
    "start_time": "2022-12-05T20:00:57.857Z"
   },
   {
    "duration": 11,
    "start_time": "2022-12-05T20:00:57.871Z"
   },
   {
    "duration": 310,
    "start_time": "2022-12-05T20:00:57.884Z"
   },
   {
    "duration": 5,
    "start_time": "2022-12-05T20:00:58.196Z"
   },
   {
    "duration": 17,
    "start_time": "2022-12-05T20:00:58.202Z"
   },
   {
    "duration": 24,
    "start_time": "2022-12-05T20:00:58.222Z"
   },
   {
    "duration": 512,
    "start_time": "2022-12-05T20:00:58.248Z"
   },
   {
    "duration": 52,
    "start_time": "2022-12-05T20:00:58.762Z"
   },
   {
    "duration": 22,
    "start_time": "2022-12-05T20:00:58.816Z"
   },
   {
    "duration": 18,
    "start_time": "2022-12-05T20:00:58.850Z"
   },
   {
    "duration": 18,
    "start_time": "2022-12-05T20:00:58.871Z"
   },
   {
    "duration": 19,
    "start_time": "2022-12-05T20:00:58.892Z"
   },
   {
    "duration": 27,
    "start_time": "2022-12-05T20:00:58.913Z"
   },
   {
    "duration": 14,
    "start_time": "2022-12-05T20:00:58.942Z"
   },
   {
    "duration": 12,
    "start_time": "2022-12-05T20:00:58.958Z"
   },
   {
    "duration": 374,
    "start_time": "2022-12-05T20:05:27.201Z"
   },
   {
    "duration": 6,
    "start_time": "2022-12-05T20:09:51.047Z"
   },
   {
    "duration": 14,
    "start_time": "2022-12-05T20:11:09.597Z"
   },
   {
    "duration": 6,
    "start_time": "2022-12-05T20:11:18.459Z"
   },
   {
    "duration": 9,
    "start_time": "2022-12-05T20:13:13.102Z"
   },
   {
    "duration": 10,
    "start_time": "2022-12-05T20:14:23.288Z"
   },
   {
    "duration": 9,
    "start_time": "2022-12-05T20:14:29.503Z"
   },
   {
    "duration": 10,
    "start_time": "2022-12-05T20:14:32.231Z"
   },
   {
    "duration": 9,
    "start_time": "2022-12-05T20:14:45.473Z"
   },
   {
    "duration": 27,
    "start_time": "2022-12-05T20:14:47.801Z"
   },
   {
    "duration": 25,
    "start_time": "2022-12-05T20:19:58.057Z"
   },
   {
    "duration": 175,
    "start_time": "2022-12-05T20:20:18.745Z"
   },
   {
    "duration": 173,
    "start_time": "2022-12-05T20:24:17.471Z"
   },
   {
    "duration": 178,
    "start_time": "2022-12-05T20:24:54.161Z"
   },
   {
    "duration": 166,
    "start_time": "2022-12-05T20:25:11.980Z"
   },
   {
    "duration": 125,
    "start_time": "2022-12-05T20:29:24.071Z"
   },
   {
    "duration": 7,
    "start_time": "2022-12-05T20:32:18.806Z"
   },
   {
    "duration": 289,
    "start_time": "2022-12-05T20:33:52.480Z"
   },
   {
    "duration": 282,
    "start_time": "2022-12-05T20:34:43.270Z"
   },
   {
    "duration": 308,
    "start_time": "2022-12-05T20:35:03.342Z"
   },
   {
    "duration": 5,
    "start_time": "2022-12-05T20:39:29.625Z"
   },
   {
    "duration": 6,
    "start_time": "2022-12-05T20:40:16.360Z"
   },
   {
    "duration": 270,
    "start_time": "2022-12-05T20:41:17.245Z"
   },
   {
    "duration": 195,
    "start_time": "2022-12-05T20:42:28.903Z"
   },
   {
    "duration": 184,
    "start_time": "2022-12-05T20:42:55.296Z"
   },
   {
    "duration": 186,
    "start_time": "2022-12-05T20:43:21.075Z"
   },
   {
    "duration": 171,
    "start_time": "2022-12-05T20:43:36.470Z"
   },
   {
    "duration": 11,
    "start_time": "2022-12-05T20:51:55.863Z"
   },
   {
    "duration": 10,
    "start_time": "2022-12-05T20:53:00.251Z"
   },
   {
    "duration": 4,
    "start_time": "2022-12-05T20:53:18.669Z"
   },
   {
    "duration": 270,
    "start_time": "2022-12-05T20:53:35.155Z"
   },
   {
    "duration": 229,
    "start_time": "2022-12-05T20:54:57.801Z"
   },
   {
    "duration": 203,
    "start_time": "2022-12-05T20:56:20.139Z"
   },
   {
    "duration": 202,
    "start_time": "2022-12-05T20:56:37.060Z"
   },
   {
    "duration": 196,
    "start_time": "2022-12-05T20:56:43.600Z"
   },
   {
    "duration": 187,
    "start_time": "2022-12-05T20:56:50.506Z"
   },
   {
    "duration": 189,
    "start_time": "2022-12-05T20:57:31.121Z"
   },
   {
    "duration": 195,
    "start_time": "2022-12-05T20:57:38.944Z"
   },
   {
    "duration": 75,
    "start_time": "2022-12-05T20:58:20.237Z"
   },
   {
    "duration": 83,
    "start_time": "2022-12-05T21:37:57.801Z"
   },
   {
    "duration": 153,
    "start_time": "2022-12-05T21:39:41.808Z"
   },
   {
    "duration": 169,
    "start_time": "2022-12-05T21:40:29.806Z"
   },
   {
    "duration": 193,
    "start_time": "2022-12-05T21:40:45.678Z"
   },
   {
    "duration": 176,
    "start_time": "2022-12-05T21:43:08.413Z"
   },
   {
    "duration": 264,
    "start_time": "2022-12-05T21:43:34.722Z"
   },
   {
    "duration": 427,
    "start_time": "2022-12-05T21:44:28.929Z"
   },
   {
    "duration": 27,
    "start_time": "2022-12-05T21:44:29.358Z"
   },
   {
    "duration": 15,
    "start_time": "2022-12-05T21:44:29.387Z"
   },
   {
    "duration": 11,
    "start_time": "2022-12-05T21:44:29.404Z"
   },
   {
    "duration": 5,
    "start_time": "2022-12-05T21:44:29.417Z"
   },
   {
    "duration": 6,
    "start_time": "2022-12-05T21:44:29.424Z"
   },
   {
    "duration": 281,
    "start_time": "2022-12-05T21:44:29.438Z"
   },
   {
    "duration": 5,
    "start_time": "2022-12-05T21:44:29.720Z"
   },
   {
    "duration": 13,
    "start_time": "2022-12-05T21:44:29.737Z"
   },
   {
    "duration": 13,
    "start_time": "2022-12-05T21:44:29.753Z"
   },
   {
    "duration": 497,
    "start_time": "2022-12-05T21:44:29.767Z"
   },
   {
    "duration": 53,
    "start_time": "2022-12-05T21:44:30.266Z"
   },
   {
    "duration": 20,
    "start_time": "2022-12-05T21:44:30.321Z"
   },
   {
    "duration": 25,
    "start_time": "2022-12-05T21:44:30.342Z"
   },
   {
    "duration": 22,
    "start_time": "2022-12-05T21:44:30.368Z"
   },
   {
    "duration": 22,
    "start_time": "2022-12-05T21:44:30.391Z"
   },
   {
    "duration": 20,
    "start_time": "2022-12-05T21:44:30.414Z"
   },
   {
    "duration": 26,
    "start_time": "2022-12-05T21:44:30.436Z"
   },
   {
    "duration": 9,
    "start_time": "2022-12-05T21:44:30.464Z"
   },
   {
    "duration": 292,
    "start_time": "2022-12-05T21:44:30.474Z"
   },
   {
    "duration": 281,
    "start_time": "2022-12-05T21:44:30.767Z"
   },
   {
    "duration": 184,
    "start_time": "2022-12-05T21:44:31.050Z"
   },
   {
    "duration": 175,
    "start_time": "2022-12-05T21:58:56.902Z"
   },
   {
    "duration": 200,
    "start_time": "2022-12-05T21:59:05.237Z"
   },
   {
    "duration": 376,
    "start_time": "2022-12-05T22:00:02.588Z"
   },
   {
    "duration": 31,
    "start_time": "2022-12-05T22:00:02.966Z"
   },
   {
    "duration": 14,
    "start_time": "2022-12-05T22:00:02.998Z"
   },
   {
    "duration": 12,
    "start_time": "2022-12-05T22:00:03.014Z"
   },
   {
    "duration": 7,
    "start_time": "2022-12-05T22:00:03.028Z"
   },
   {
    "duration": 6,
    "start_time": "2022-12-05T22:00:03.036Z"
   },
   {
    "duration": 307,
    "start_time": "2022-12-05T22:00:03.044Z"
   },
   {
    "duration": 6,
    "start_time": "2022-12-05T22:00:03.353Z"
   },
   {
    "duration": 18,
    "start_time": "2022-12-05T22:00:03.361Z"
   },
   {
    "duration": 24,
    "start_time": "2022-12-05T22:00:03.381Z"
   },
   {
    "duration": 505,
    "start_time": "2022-12-05T22:00:03.407Z"
   },
   {
    "duration": 52,
    "start_time": "2022-12-05T22:00:03.914Z"
   },
   {
    "duration": 19,
    "start_time": "2022-12-05T22:00:03.968Z"
   },
   {
    "duration": 10,
    "start_time": "2022-12-05T22:00:03.989Z"
   },
   {
    "duration": 23,
    "start_time": "2022-12-05T22:00:04.001Z"
   },
   {
    "duration": 11,
    "start_time": "2022-12-05T22:00:04.026Z"
   },
   {
    "duration": 10,
    "start_time": "2022-12-05T22:00:04.039Z"
   },
   {
    "duration": 5,
    "start_time": "2022-12-05T22:00:04.050Z"
   },
   {
    "duration": 4,
    "start_time": "2022-12-05T22:00:04.056Z"
   },
   {
    "duration": 313,
    "start_time": "2022-12-05T22:00:04.062Z"
   },
   {
    "duration": 284,
    "start_time": "2022-12-05T22:00:04.377Z"
   },
   {
    "duration": 192,
    "start_time": "2022-12-05T22:00:04.662Z"
   },
   {
    "duration": 384,
    "start_time": "2022-12-05T22:02:38.688Z"
   },
   {
    "duration": 28,
    "start_time": "2022-12-05T22:02:39.074Z"
   },
   {
    "duration": 14,
    "start_time": "2022-12-05T22:02:39.103Z"
   },
   {
    "duration": 15,
    "start_time": "2022-12-05T22:02:39.119Z"
   },
   {
    "duration": 5,
    "start_time": "2022-12-05T22:02:39.136Z"
   },
   {
    "duration": 7,
    "start_time": "2022-12-05T22:02:39.143Z"
   },
   {
    "duration": 303,
    "start_time": "2022-12-05T22:02:39.151Z"
   },
   {
    "duration": 6,
    "start_time": "2022-12-05T22:02:39.455Z"
   },
   {
    "duration": 13,
    "start_time": "2022-12-05T22:02:39.463Z"
   },
   {
    "duration": 28,
    "start_time": "2022-12-05T22:02:39.480Z"
   },
   {
    "duration": 505,
    "start_time": "2022-12-05T22:02:39.510Z"
   },
   {
    "duration": 53,
    "start_time": "2022-12-05T22:02:40.017Z"
   },
   {
    "duration": 18,
    "start_time": "2022-12-05T22:02:40.072Z"
   },
   {
    "duration": 11,
    "start_time": "2022-12-05T22:02:40.092Z"
   },
   {
    "duration": 12,
    "start_time": "2022-12-05T22:02:40.104Z"
   },
   {
    "duration": 14,
    "start_time": "2022-12-05T22:02:40.118Z"
   },
   {
    "duration": 11,
    "start_time": "2022-12-05T22:02:40.134Z"
   },
   {
    "duration": 7,
    "start_time": "2022-12-05T22:02:40.147Z"
   },
   {
    "duration": 6,
    "start_time": "2022-12-05T22:02:40.155Z"
   },
   {
    "duration": 301,
    "start_time": "2022-12-05T22:02:40.163Z"
   },
   {
    "duration": 279,
    "start_time": "2022-12-05T22:02:40.466Z"
   },
   {
    "duration": 181,
    "start_time": "2022-12-05T22:02:40.747Z"
   },
   {
    "duration": 184,
    "start_time": "2022-12-05T22:04:43.627Z"
   },
   {
    "duration": 189,
    "start_time": "2022-12-05T22:05:16.959Z"
   },
   {
    "duration": 285,
    "start_time": "2022-12-05T22:06:22.577Z"
   },
   {
    "duration": 195,
    "start_time": "2022-12-05T22:06:45.387Z"
   },
   {
    "duration": 203,
    "start_time": "2022-12-05T22:07:25.823Z"
   },
   {
    "duration": 261,
    "start_time": "2022-12-05T22:07:50.846Z"
   },
   {
    "duration": 205,
    "start_time": "2022-12-05T22:08:07.728Z"
   },
   {
    "duration": 195,
    "start_time": "2022-12-05T22:08:57.755Z"
   },
   {
    "duration": 416,
    "start_time": "2022-12-05T22:15:05.553Z"
   },
   {
    "duration": 28,
    "start_time": "2022-12-05T22:15:05.971Z"
   },
   {
    "duration": 13,
    "start_time": "2022-12-05T22:15:06.000Z"
   },
   {
    "duration": 11,
    "start_time": "2022-12-05T22:15:06.015Z"
   },
   {
    "duration": 6,
    "start_time": "2022-12-05T22:15:06.028Z"
   },
   {
    "duration": 7,
    "start_time": "2022-12-05T22:15:06.035Z"
   },
   {
    "duration": 294,
    "start_time": "2022-12-05T22:15:06.044Z"
   },
   {
    "duration": 5,
    "start_time": "2022-12-05T22:15:06.340Z"
   },
   {
    "duration": 15,
    "start_time": "2022-12-05T22:15:06.346Z"
   },
   {
    "duration": 11,
    "start_time": "2022-12-05T22:15:06.363Z"
   },
   {
    "duration": 478,
    "start_time": "2022-12-05T22:15:06.376Z"
   },
   {
    "duration": 53,
    "start_time": "2022-12-05T22:15:06.856Z"
   },
   {
    "duration": 21,
    "start_time": "2022-12-05T22:15:06.910Z"
   },
   {
    "duration": 11,
    "start_time": "2022-12-05T22:15:06.933Z"
   },
   {
    "duration": 18,
    "start_time": "2022-12-05T22:15:06.945Z"
   },
   {
    "duration": 14,
    "start_time": "2022-12-05T22:15:06.965Z"
   },
   {
    "duration": 11,
    "start_time": "2022-12-05T22:15:06.980Z"
   },
   {
    "duration": 9,
    "start_time": "2022-12-05T22:15:06.992Z"
   },
   {
    "duration": 5,
    "start_time": "2022-12-05T22:15:07.003Z"
   },
   {
    "duration": 293,
    "start_time": "2022-12-05T22:15:07.010Z"
   },
   {
    "duration": 296,
    "start_time": "2022-12-05T22:15:07.305Z"
   },
   {
    "duration": 201,
    "start_time": "2022-12-05T22:15:07.603Z"
   },
   {
    "duration": 45,
    "start_time": "2022-12-06T17:51:33.142Z"
   },
   {
    "duration": 418,
    "start_time": "2022-12-06T17:51:48.963Z"
   },
   {
    "duration": 81,
    "start_time": "2022-12-06T17:51:49.383Z"
   },
   {
    "duration": 13,
    "start_time": "2022-12-06T17:51:49.466Z"
   },
   {
    "duration": 20,
    "start_time": "2022-12-06T17:51:49.481Z"
   },
   {
    "duration": 6,
    "start_time": "2022-12-06T17:51:49.504Z"
   },
   {
    "duration": 11,
    "start_time": "2022-12-06T17:51:49.512Z"
   },
   {
    "duration": 468,
    "start_time": "2022-12-06T17:51:49.525Z"
   },
   {
    "duration": 6,
    "start_time": "2022-12-06T17:51:49.995Z"
   },
   {
    "duration": 24,
    "start_time": "2022-12-06T17:51:50.002Z"
   },
   {
    "duration": 16,
    "start_time": "2022-12-06T17:51:50.027Z"
   },
   {
    "duration": 498,
    "start_time": "2022-12-06T17:51:50.044Z"
   },
   {
    "duration": 164,
    "start_time": "2022-12-06T17:51:50.544Z"
   },
   {
    "duration": 19,
    "start_time": "2022-12-06T17:51:50.709Z"
   },
   {
    "duration": 11,
    "start_time": "2022-12-06T17:51:50.731Z"
   },
   {
    "duration": 15,
    "start_time": "2022-12-06T17:51:50.744Z"
   },
   {
    "duration": 5,
    "start_time": "2022-12-06T17:51:50.761Z"
   },
   {
    "duration": 19,
    "start_time": "2022-12-06T17:51:50.767Z"
   },
   {
    "duration": 14,
    "start_time": "2022-12-06T17:51:50.788Z"
   },
   {
    "duration": 10,
    "start_time": "2022-12-06T17:51:50.804Z"
   },
   {
    "duration": 7,
    "start_time": "2022-12-06T17:51:50.816Z"
   },
   {
    "duration": 158,
    "start_time": "2022-12-06T17:51:50.825Z"
   },
   {
    "duration": 0,
    "start_time": "2022-12-06T17:51:50.985Z"
   },
   {
    "duration": 0,
    "start_time": "2022-12-06T17:51:50.986Z"
   },
   {
    "duration": 5,
    "start_time": "2022-12-06T17:52:26.312Z"
   },
   {
    "duration": 3,
    "start_time": "2022-12-06T17:52:49.050Z"
   },
   {
    "duration": 355,
    "start_time": "2022-12-06T17:53:33.178Z"
   },
   {
    "duration": 1235,
    "start_time": "2022-12-06T18:01:51.783Z"
   },
   {
    "duration": 1208,
    "start_time": "2022-12-06T18:02:04.184Z"
   },
   {
    "duration": 11,
    "start_time": "2022-12-06T18:02:13.543Z"
   },
   {
    "duration": 38,
    "start_time": "2022-12-06T18:04:37.043Z"
   },
   {
    "duration": 6,
    "start_time": "2022-12-06T18:04:48.548Z"
   },
   {
    "duration": 14,
    "start_time": "2022-12-06T18:05:00.623Z"
   },
   {
    "duration": 394,
    "start_time": "2022-12-06T18:05:27.430Z"
   },
   {
    "duration": 27,
    "start_time": "2022-12-06T18:05:27.826Z"
   },
   {
    "duration": 14,
    "start_time": "2022-12-06T18:05:27.855Z"
   },
   {
    "duration": 11,
    "start_time": "2022-12-06T18:05:27.871Z"
   },
   {
    "duration": 7,
    "start_time": "2022-12-06T18:05:27.883Z"
   },
   {
    "duration": 10,
    "start_time": "2022-12-06T18:05:27.892Z"
   },
   {
    "duration": 287,
    "start_time": "2022-12-06T18:05:27.904Z"
   },
   {
    "duration": 6,
    "start_time": "2022-12-06T18:05:28.192Z"
   },
   {
    "duration": 19,
    "start_time": "2022-12-06T18:05:28.199Z"
   },
   {
    "duration": 17,
    "start_time": "2022-12-06T18:05:28.220Z"
   },
   {
    "duration": 506,
    "start_time": "2022-12-06T18:05:28.238Z"
   },
   {
    "duration": 50,
    "start_time": "2022-12-06T18:05:28.746Z"
   },
   {
    "duration": 20,
    "start_time": "2022-12-06T18:05:28.797Z"
   },
   {
    "duration": 11,
    "start_time": "2022-12-06T18:05:28.819Z"
   },
   {
    "duration": 13,
    "start_time": "2022-12-06T18:05:28.832Z"
   },
   {
    "duration": 6,
    "start_time": "2022-12-06T18:05:28.847Z"
   },
   {
    "duration": 7,
    "start_time": "2022-12-06T18:05:28.855Z"
   },
   {
    "duration": 24,
    "start_time": "2022-12-06T18:05:28.864Z"
   },
   {
    "duration": 19,
    "start_time": "2022-12-06T18:05:28.890Z"
   },
   {
    "duration": 12,
    "start_time": "2022-12-06T18:05:28.910Z"
   },
   {
    "duration": 15,
    "start_time": "2022-12-06T18:05:28.924Z"
   },
   {
    "duration": 19,
    "start_time": "2022-12-06T18:05:28.942Z"
   },
   {
    "duration": 16,
    "start_time": "2022-12-06T18:05:28.964Z"
   },
   {
    "duration": 18,
    "start_time": "2022-12-06T18:05:28.982Z"
   },
   {
    "duration": 287,
    "start_time": "2022-12-06T18:05:29.001Z"
   },
   {
    "duration": 300,
    "start_time": "2022-12-06T18:05:29.290Z"
   },
   {
    "duration": 192,
    "start_time": "2022-12-06T18:05:29.592Z"
   },
   {
    "duration": 13,
    "start_time": "2022-12-06T18:06:05.146Z"
   },
   {
    "duration": 5,
    "start_time": "2022-12-06T18:07:09.117Z"
   },
   {
    "duration": 13,
    "start_time": "2022-12-06T18:07:14.732Z"
   },
   {
    "duration": 6,
    "start_time": "2022-12-06T18:07:21.131Z"
   },
   {
    "duration": 13,
    "start_time": "2022-12-06T18:07:23.424Z"
   },
   {
    "duration": 433,
    "start_time": "2022-12-06T18:07:31.080Z"
   },
   {
    "duration": 27,
    "start_time": "2022-12-06T18:07:31.515Z"
   },
   {
    "duration": 15,
    "start_time": "2022-12-06T18:07:31.544Z"
   },
   {
    "duration": 15,
    "start_time": "2022-12-06T18:07:31.561Z"
   },
   {
    "duration": 10,
    "start_time": "2022-12-06T18:07:31.578Z"
   },
   {
    "duration": 12,
    "start_time": "2022-12-06T18:07:31.590Z"
   },
   {
    "duration": 292,
    "start_time": "2022-12-06T18:07:31.604Z"
   },
   {
    "duration": 6,
    "start_time": "2022-12-06T18:07:31.898Z"
   },
   {
    "duration": 16,
    "start_time": "2022-12-06T18:07:31.905Z"
   },
   {
    "duration": 14,
    "start_time": "2022-12-06T18:07:31.924Z"
   },
   {
    "duration": 490,
    "start_time": "2022-12-06T18:07:31.940Z"
   },
   {
    "duration": 52,
    "start_time": "2022-12-06T18:07:32.432Z"
   },
   {
    "duration": 18,
    "start_time": "2022-12-06T18:07:32.486Z"
   },
   {
    "duration": 12,
    "start_time": "2022-12-06T18:07:32.505Z"
   },
   {
    "duration": 14,
    "start_time": "2022-12-06T18:07:32.519Z"
   },
   {
    "duration": 7,
    "start_time": "2022-12-06T18:07:32.534Z"
   },
   {
    "duration": 9,
    "start_time": "2022-12-06T18:07:32.543Z"
   },
   {
    "duration": 32,
    "start_time": "2022-12-06T18:07:32.554Z"
   },
   {
    "duration": 12,
    "start_time": "2022-12-06T18:07:32.587Z"
   },
   {
    "duration": 12,
    "start_time": "2022-12-06T18:07:32.600Z"
   },
   {
    "duration": 8,
    "start_time": "2022-12-06T18:07:32.614Z"
   },
   {
    "duration": 13,
    "start_time": "2022-12-06T18:07:32.623Z"
   },
   {
    "duration": 5,
    "start_time": "2022-12-06T18:07:32.637Z"
   },
   {
    "duration": 41,
    "start_time": "2022-12-06T18:07:32.644Z"
   },
   {
    "duration": 287,
    "start_time": "2022-12-06T18:07:32.687Z"
   },
   {
    "duration": 262,
    "start_time": "2022-12-06T18:07:32.978Z"
   },
   {
    "duration": 208,
    "start_time": "2022-12-06T18:07:33.242Z"
   },
   {
    "duration": 13,
    "start_time": "2022-12-06T18:18:36.357Z"
   },
   {
    "duration": 18,
    "start_time": "2022-12-06T18:19:15.665Z"
   },
   {
    "duration": 112,
    "start_time": "2022-12-06T18:19:59.775Z"
   },
   {
    "duration": 17,
    "start_time": "2022-12-06T18:20:37.257Z"
   },
   {
    "duration": 5,
    "start_time": "2022-12-06T18:21:13.503Z"
   },
   {
    "duration": 6,
    "start_time": "2022-12-06T18:21:17.553Z"
   },
   {
    "duration": 15,
    "start_time": "2022-12-06T18:22:13.273Z"
   },
   {
    "duration": 11,
    "start_time": "2022-12-06T18:23:32.225Z"
   },
   {
    "duration": 5,
    "start_time": "2022-12-06T18:24:07.551Z"
   },
   {
    "duration": 13,
    "start_time": "2022-12-06T18:25:30.454Z"
   },
   {
    "duration": 5,
    "start_time": "2022-12-06T18:25:34.524Z"
   },
   {
    "duration": 6,
    "start_time": "2022-12-06T18:27:39.353Z"
   },
   {
    "duration": 29,
    "start_time": "2022-12-06T18:27:58.311Z"
   },
   {
    "duration": 27,
    "start_time": "2022-12-06T18:29:10.282Z"
   },
   {
    "duration": 9,
    "start_time": "2022-12-06T18:29:15.569Z"
   },
   {
    "duration": 5,
    "start_time": "2022-12-06T18:29:41.605Z"
   },
   {
    "duration": 13,
    "start_time": "2022-12-06T18:31:59.579Z"
   },
   {
    "duration": 390,
    "start_time": "2022-12-06T18:32:15.408Z"
   },
   {
    "duration": 27,
    "start_time": "2022-12-06T18:32:15.800Z"
   },
   {
    "duration": 14,
    "start_time": "2022-12-06T18:32:15.829Z"
   },
   {
    "duration": 29,
    "start_time": "2022-12-06T18:32:15.845Z"
   },
   {
    "duration": 18,
    "start_time": "2022-12-06T18:32:15.875Z"
   },
   {
    "duration": 36,
    "start_time": "2022-12-06T18:32:15.894Z"
   },
   {
    "duration": 335,
    "start_time": "2022-12-06T18:32:15.932Z"
   },
   {
    "duration": 10,
    "start_time": "2022-12-06T18:32:16.269Z"
   },
   {
    "duration": 37,
    "start_time": "2022-12-06T18:32:16.281Z"
   },
   {
    "duration": 23,
    "start_time": "2022-12-06T18:32:16.320Z"
   },
   {
    "duration": 518,
    "start_time": "2022-12-06T18:32:16.344Z"
   },
   {
    "duration": 62,
    "start_time": "2022-12-06T18:32:16.864Z"
   },
   {
    "duration": 19,
    "start_time": "2022-12-06T18:32:16.929Z"
   },
   {
    "duration": 24,
    "start_time": "2022-12-06T18:32:16.950Z"
   },
   {
    "duration": 19,
    "start_time": "2022-12-06T18:32:16.976Z"
   },
   {
    "duration": 30,
    "start_time": "2022-12-06T18:32:16.996Z"
   },
   {
    "duration": 19,
    "start_time": "2022-12-06T18:32:17.028Z"
   },
   {
    "duration": 28,
    "start_time": "2022-12-06T18:32:17.049Z"
   },
   {
    "duration": 39,
    "start_time": "2022-12-06T18:32:17.079Z"
   },
   {
    "duration": 47,
    "start_time": "2022-12-06T18:32:17.119Z"
   },
   {
    "duration": 14,
    "start_time": "2022-12-06T18:32:17.168Z"
   },
   {
    "duration": 24,
    "start_time": "2022-12-06T18:32:17.184Z"
   },
   {
    "duration": 25,
    "start_time": "2022-12-06T18:32:17.210Z"
   },
   {
    "duration": 29,
    "start_time": "2022-12-06T18:32:17.237Z"
   },
   {
    "duration": 298,
    "start_time": "2022-12-06T18:32:17.269Z"
   },
   {
    "duration": 285,
    "start_time": "2022-12-06T18:32:17.569Z"
   },
   {
    "duration": 223,
    "start_time": "2022-12-06T18:32:17.856Z"
   },
   {
    "duration": 7,
    "start_time": "2022-12-06T18:32:41.506Z"
   },
   {
    "duration": 13,
    "start_time": "2022-12-06T18:33:10.771Z"
   },
   {
    "duration": 115,
    "start_time": "2022-12-06T18:35:02.793Z"
   },
   {
    "duration": 21,
    "start_time": "2022-12-06T18:35:11.970Z"
   },
   {
    "duration": 5,
    "start_time": "2022-12-06T18:35:15.089Z"
   },
   {
    "duration": 28,
    "start_time": "2022-12-06T18:35:39.410Z"
   },
   {
    "duration": 6,
    "start_time": "2022-12-06T18:35:45.092Z"
   },
   {
    "duration": 11,
    "start_time": "2022-12-06T18:36:55.509Z"
   },
   {
    "duration": 12,
    "start_time": "2022-12-06T18:37:53.923Z"
   },
   {
    "duration": 19,
    "start_time": "2022-12-06T18:38:48.490Z"
   },
   {
    "duration": 14,
    "start_time": "2022-12-06T18:39:18.881Z"
   },
   {
    "duration": 11,
    "start_time": "2022-12-06T18:39:28.600Z"
   },
   {
    "duration": 12,
    "start_time": "2022-12-06T18:42:11.385Z"
   },
   {
    "duration": 9,
    "start_time": "2022-12-06T18:42:49.832Z"
   },
   {
    "duration": 382,
    "start_time": "2022-12-06T18:43:00.896Z"
   },
   {
    "duration": 26,
    "start_time": "2022-12-06T18:43:01.280Z"
   },
   {
    "duration": 21,
    "start_time": "2022-12-06T18:43:01.308Z"
   },
   {
    "duration": 40,
    "start_time": "2022-12-06T18:43:01.331Z"
   },
   {
    "duration": 29,
    "start_time": "2022-12-06T18:43:01.373Z"
   },
   {
    "duration": 30,
    "start_time": "2022-12-06T18:43:01.404Z"
   },
   {
    "duration": 310,
    "start_time": "2022-12-06T18:43:01.436Z"
   },
   {
    "duration": 4,
    "start_time": "2022-12-06T18:43:01.748Z"
   },
   {
    "duration": 42,
    "start_time": "2022-12-06T18:43:01.754Z"
   },
   {
    "duration": 17,
    "start_time": "2022-12-06T18:43:01.798Z"
   },
   {
    "duration": 519,
    "start_time": "2022-12-06T18:43:01.817Z"
   },
   {
    "duration": 62,
    "start_time": "2022-12-06T18:43:02.337Z"
   },
   {
    "duration": 19,
    "start_time": "2022-12-06T18:43:02.400Z"
   },
   {
    "duration": 29,
    "start_time": "2022-12-06T18:43:02.421Z"
   },
   {
    "duration": 40,
    "start_time": "2022-12-06T18:43:02.451Z"
   },
   {
    "duration": 46,
    "start_time": "2022-12-06T18:43:02.493Z"
   },
   {
    "duration": 38,
    "start_time": "2022-12-06T18:43:02.541Z"
   },
   {
    "duration": 28,
    "start_time": "2022-12-06T18:43:02.580Z"
   },
   {
    "duration": 44,
    "start_time": "2022-12-06T18:43:02.610Z"
   },
   {
    "duration": 9,
    "start_time": "2022-12-06T18:43:02.656Z"
   },
   {
    "duration": 12,
    "start_time": "2022-12-06T18:43:02.667Z"
   },
   {
    "duration": 13,
    "start_time": "2022-12-06T18:43:02.680Z"
   },
   {
    "duration": 112,
    "start_time": "2022-12-06T18:43:02.694Z"
   },
   {
    "duration": 0,
    "start_time": "2022-12-06T18:43:02.808Z"
   },
   {
    "duration": 0,
    "start_time": "2022-12-06T18:43:02.809Z"
   },
   {
    "duration": 0,
    "start_time": "2022-12-06T18:43:02.810Z"
   },
   {
    "duration": 0,
    "start_time": "2022-12-06T18:43:02.811Z"
   },
   {
    "duration": 9,
    "start_time": "2022-12-06T18:43:25.975Z"
   },
   {
    "duration": 11,
    "start_time": "2022-12-06T18:44:00.877Z"
   },
   {
    "duration": 5,
    "start_time": "2022-12-06T18:44:10.533Z"
   },
   {
    "duration": 12,
    "start_time": "2022-12-06T18:44:16.452Z"
   },
   {
    "duration": 9,
    "start_time": "2022-12-06T18:46:08.610Z"
   },
   {
    "duration": 7,
    "start_time": "2022-12-06T18:47:13.707Z"
   },
   {
    "duration": 5,
    "start_time": "2022-12-06T18:49:02.970Z"
   },
   {
    "duration": 13,
    "start_time": "2022-12-06T18:49:06.036Z"
   },
   {
    "duration": 13,
    "start_time": "2022-12-06T18:49:21.440Z"
   },
   {
    "duration": 14,
    "start_time": "2022-12-06T19:03:32.277Z"
   },
   {
    "duration": 12,
    "start_time": "2022-12-06T20:09:27.158Z"
   },
   {
    "duration": 403,
    "start_time": "2022-12-06T20:12:26.387Z"
   },
   {
    "duration": 27,
    "start_time": "2022-12-06T20:12:26.792Z"
   },
   {
    "duration": 14,
    "start_time": "2022-12-06T20:12:26.820Z"
   },
   {
    "duration": 10,
    "start_time": "2022-12-06T20:12:26.836Z"
   },
   {
    "duration": 6,
    "start_time": "2022-12-06T20:12:26.847Z"
   },
   {
    "duration": 12,
    "start_time": "2022-12-06T20:12:26.854Z"
   },
   {
    "duration": 316,
    "start_time": "2022-12-06T20:12:26.868Z"
   },
   {
    "duration": 4,
    "start_time": "2022-12-06T20:12:27.186Z"
   },
   {
    "duration": 17,
    "start_time": "2022-12-06T20:12:27.191Z"
   },
   {
    "duration": 17,
    "start_time": "2022-12-06T20:12:27.211Z"
   },
   {
    "duration": 472,
    "start_time": "2022-12-06T20:12:27.229Z"
   },
   {
    "duration": 51,
    "start_time": "2022-12-06T20:12:27.703Z"
   },
   {
    "duration": 17,
    "start_time": "2022-12-06T20:12:27.756Z"
   },
   {
    "duration": 10,
    "start_time": "2022-12-06T20:12:27.774Z"
   },
   {
    "duration": 14,
    "start_time": "2022-12-06T20:12:27.786Z"
   },
   {
    "duration": 7,
    "start_time": "2022-12-06T20:12:27.802Z"
   },
   {
    "duration": 8,
    "start_time": "2022-12-06T20:12:27.810Z"
   },
   {
    "duration": 14,
    "start_time": "2022-12-06T20:12:27.820Z"
   },
   {
    "duration": 10,
    "start_time": "2022-12-06T20:12:27.836Z"
   },
   {
    "duration": 33,
    "start_time": "2022-12-06T20:12:27.847Z"
   },
   {
    "duration": 10,
    "start_time": "2022-12-06T20:12:27.881Z"
   },
   {
    "duration": 11,
    "start_time": "2022-12-06T20:12:27.892Z"
   },
   {
    "duration": 7,
    "start_time": "2022-12-06T20:12:27.904Z"
   },
   {
    "duration": 16,
    "start_time": "2022-12-06T20:12:27.912Z"
   },
   {
    "duration": 286,
    "start_time": "2022-12-06T20:12:27.930Z"
   },
   {
    "duration": 252,
    "start_time": "2022-12-06T20:12:28.218Z"
   },
   {
    "duration": 173,
    "start_time": "2022-12-06T20:12:28.472Z"
   },
   {
    "duration": 10,
    "start_time": "2022-12-06T20:12:50.144Z"
   },
   {
    "duration": 6,
    "start_time": "2022-12-06T20:12:51.859Z"
   },
   {
    "duration": 15,
    "start_time": "2022-12-06T20:12:54.178Z"
   },
   {
    "duration": 41,
    "start_time": "2022-12-06T20:13:06.006Z"
   },
   {
    "duration": 5,
    "start_time": "2022-12-06T20:13:17.424Z"
   },
   {
    "duration": 11,
    "start_time": "2022-12-06T20:13:25.388Z"
   },
   {
    "duration": 417,
    "start_time": "2022-12-06T20:13:29.555Z"
   },
   {
    "duration": 26,
    "start_time": "2022-12-06T20:13:29.974Z"
   },
   {
    "duration": 14,
    "start_time": "2022-12-06T20:13:30.002Z"
   },
   {
    "duration": 24,
    "start_time": "2022-12-06T20:13:30.018Z"
   },
   {
    "duration": 33,
    "start_time": "2022-12-06T20:13:30.044Z"
   },
   {
    "duration": 48,
    "start_time": "2022-12-06T20:13:30.079Z"
   },
   {
    "duration": 321,
    "start_time": "2022-12-06T20:13:30.129Z"
   },
   {
    "duration": 6,
    "start_time": "2022-12-06T20:13:30.452Z"
   },
   {
    "duration": 49,
    "start_time": "2022-12-06T20:13:30.460Z"
   },
   {
    "duration": 43,
    "start_time": "2022-12-06T20:13:30.512Z"
   },
   {
    "duration": 480,
    "start_time": "2022-12-06T20:13:30.557Z"
   },
   {
    "duration": 62,
    "start_time": "2022-12-06T20:13:31.039Z"
   },
   {
    "duration": 20,
    "start_time": "2022-12-06T20:13:31.102Z"
   },
   {
    "duration": 19,
    "start_time": "2022-12-06T20:13:31.123Z"
   },
   {
    "duration": 37,
    "start_time": "2022-12-06T20:13:31.143Z"
   },
   {
    "duration": 23,
    "start_time": "2022-12-06T20:13:31.182Z"
   },
   {
    "duration": 35,
    "start_time": "2022-12-06T20:13:31.207Z"
   },
   {
    "duration": 35,
    "start_time": "2022-12-06T20:13:31.243Z"
   },
   {
    "duration": 44,
    "start_time": "2022-12-06T20:13:31.279Z"
   },
   {
    "duration": 26,
    "start_time": "2022-12-06T20:13:31.325Z"
   },
   {
    "duration": 43,
    "start_time": "2022-12-06T20:13:31.353Z"
   },
   {
    "duration": 37,
    "start_time": "2022-12-06T20:13:31.397Z"
   },
   {
    "duration": 19,
    "start_time": "2022-12-06T20:13:31.436Z"
   },
   {
    "duration": 28,
    "start_time": "2022-12-06T20:13:31.456Z"
   },
   {
    "duration": 268,
    "start_time": "2022-12-06T20:13:31.485Z"
   },
   {
    "duration": 239,
    "start_time": "2022-12-06T20:13:31.755Z"
   },
   {
    "duration": 194,
    "start_time": "2022-12-06T20:13:31.995Z"
   },
   {
    "duration": 260,
    "start_time": "2022-12-06T20:41:51.018Z"
   },
   {
    "duration": 205,
    "start_time": "2022-12-06T20:41:58.337Z"
   },
   {
    "duration": 299,
    "start_time": "2022-12-06T20:47:49.055Z"
   },
   {
    "duration": 190,
    "start_time": "2022-12-06T20:54:14.676Z"
   },
   {
    "duration": 198,
    "start_time": "2022-12-06T20:54:39.492Z"
   },
   {
    "duration": 283,
    "start_time": "2022-12-06T20:54:45.519Z"
   },
   {
    "duration": 222,
    "start_time": "2022-12-06T20:58:14.017Z"
   },
   {
    "duration": 172,
    "start_time": "2022-12-06T20:58:50.206Z"
   },
   {
    "duration": 213,
    "start_time": "2022-12-06T20:59:00.652Z"
   },
   {
    "duration": 5,
    "start_time": "2022-12-06T21:01:20.287Z"
   },
   {
    "duration": 4,
    "start_time": "2022-12-06T21:01:35.352Z"
   },
   {
    "duration": 183,
    "start_time": "2022-12-06T21:01:40.687Z"
   },
   {
    "duration": 5,
    "start_time": "2022-12-06T21:01:49.634Z"
   },
   {
    "duration": 5,
    "start_time": "2022-12-06T21:01:57.204Z"
   },
   {
    "duration": 172,
    "start_time": "2022-12-06T21:05:45.170Z"
   },
   {
    "duration": 180,
    "start_time": "2022-12-06T21:05:53.490Z"
   },
   {
    "duration": 168,
    "start_time": "2022-12-06T21:06:07.092Z"
   },
   {
    "duration": 175,
    "start_time": "2022-12-06T21:06:22.292Z"
   },
   {
    "duration": 199,
    "start_time": "2022-12-06T21:06:33.203Z"
   },
   {
    "duration": 80,
    "start_time": "2022-12-06T21:18:32.372Z"
   },
   {
    "duration": 98,
    "start_time": "2022-12-06T21:19:07.434Z"
   },
   {
    "duration": 11,
    "start_time": "2022-12-06T21:19:37.705Z"
   },
   {
    "duration": 7,
    "start_time": "2022-12-06T21:20:08.553Z"
   },
   {
    "duration": 167,
    "start_time": "2022-12-06T21:21:49.076Z"
   },
   {
    "duration": 144,
    "start_time": "2022-12-06T21:22:08.413Z"
   },
   {
    "duration": 248,
    "start_time": "2022-12-06T21:22:22.291Z"
   },
   {
    "duration": 248,
    "start_time": "2022-12-06T21:22:37.029Z"
   },
   {
    "duration": 298,
    "start_time": "2022-12-06T21:22:59.751Z"
   },
   {
    "duration": 264,
    "start_time": "2022-12-06T21:23:11.277Z"
   },
   {
    "duration": 192,
    "start_time": "2022-12-06T21:23:31.776Z"
   },
   {
    "duration": 292,
    "start_time": "2022-12-06T21:24:42.081Z"
   },
   {
    "duration": 318,
    "start_time": "2022-12-06T21:25:46.186Z"
   },
   {
    "duration": 278,
    "start_time": "2022-12-06T21:26:02.438Z"
   },
   {
    "duration": 315,
    "start_time": "2022-12-06T21:26:18.432Z"
   },
   {
    "duration": 326,
    "start_time": "2022-12-06T21:33:18.193Z"
   },
   {
    "duration": 330,
    "start_time": "2022-12-06T21:34:18.954Z"
   },
   {
    "duration": 315,
    "start_time": "2022-12-06T21:34:26.657Z"
   },
   {
    "duration": 386,
    "start_time": "2022-12-06T21:34:52.808Z"
   },
   {
    "duration": 27,
    "start_time": "2022-12-06T21:34:53.196Z"
   },
   {
    "duration": 13,
    "start_time": "2022-12-06T21:34:53.225Z"
   },
   {
    "duration": 15,
    "start_time": "2022-12-06T21:34:53.239Z"
   },
   {
    "duration": 8,
    "start_time": "2022-12-06T21:34:53.256Z"
   },
   {
    "duration": 8,
    "start_time": "2022-12-06T21:34:53.265Z"
   },
   {
    "duration": 280,
    "start_time": "2022-12-06T21:34:53.278Z"
   },
   {
    "duration": 5,
    "start_time": "2022-12-06T21:34:53.560Z"
   },
   {
    "duration": 19,
    "start_time": "2022-12-06T21:34:53.567Z"
   },
   {
    "duration": 19,
    "start_time": "2022-12-06T21:34:53.588Z"
   },
   {
    "duration": 549,
    "start_time": "2022-12-06T21:34:53.609Z"
   },
   {
    "duration": 52,
    "start_time": "2022-12-06T21:34:54.160Z"
   },
   {
    "duration": 23,
    "start_time": "2022-12-06T21:34:54.213Z"
   },
   {
    "duration": 12,
    "start_time": "2022-12-06T21:34:54.238Z"
   },
   {
    "duration": 17,
    "start_time": "2022-12-06T21:34:54.251Z"
   },
   {
    "duration": 12,
    "start_time": "2022-12-06T21:34:54.270Z"
   },
   {
    "duration": 13,
    "start_time": "2022-12-06T21:34:54.284Z"
   },
   {
    "duration": 18,
    "start_time": "2022-12-06T21:34:54.299Z"
   },
   {
    "duration": 19,
    "start_time": "2022-12-06T21:34:54.319Z"
   },
   {
    "duration": 38,
    "start_time": "2022-12-06T21:34:54.340Z"
   },
   {
    "duration": 5,
    "start_time": "2022-12-06T21:34:54.380Z"
   },
   {
    "duration": 12,
    "start_time": "2022-12-06T21:34:54.388Z"
   },
   {
    "duration": 8,
    "start_time": "2022-12-06T21:34:54.402Z"
   },
   {
    "duration": 15,
    "start_time": "2022-12-06T21:34:54.412Z"
   },
   {
    "duration": 332,
    "start_time": "2022-12-06T21:34:54.429Z"
   },
   {
    "duration": 280,
    "start_time": "2022-12-06T21:34:54.762Z"
   },
   {
    "duration": 204,
    "start_time": "2022-12-06T21:34:55.044Z"
   },
   {
    "duration": 294,
    "start_time": "2022-12-06T21:34:55.251Z"
   },
   {
    "duration": 213,
    "start_time": "2022-12-06T21:34:55.547Z"
   },
   {
    "duration": 298,
    "start_time": "2022-12-06T21:34:55.761Z"
   },
   {
    "duration": 384,
    "start_time": "2022-12-06T21:37:39.618Z"
   },
   {
    "duration": 27,
    "start_time": "2022-12-06T21:37:40.004Z"
   },
   {
    "duration": 14,
    "start_time": "2022-12-06T21:37:40.033Z"
   },
   {
    "duration": 17,
    "start_time": "2022-12-06T21:37:40.049Z"
   },
   {
    "duration": 11,
    "start_time": "2022-12-06T21:37:40.068Z"
   },
   {
    "duration": 7,
    "start_time": "2022-12-06T21:37:40.081Z"
   },
   {
    "duration": 281,
    "start_time": "2022-12-06T21:37:40.090Z"
   },
   {
    "duration": 8,
    "start_time": "2022-12-06T21:37:40.372Z"
   },
   {
    "duration": 13,
    "start_time": "2022-12-06T21:37:40.381Z"
   },
   {
    "duration": 11,
    "start_time": "2022-12-06T21:37:40.397Z"
   },
   {
    "duration": 460,
    "start_time": "2022-12-06T21:37:40.411Z"
   },
   {
    "duration": 50,
    "start_time": "2022-12-06T21:37:40.873Z"
   },
   {
    "duration": 20,
    "start_time": "2022-12-06T21:37:40.925Z"
   },
   {
    "duration": 24,
    "start_time": "2022-12-06T21:37:40.947Z"
   },
   {
    "duration": 12,
    "start_time": "2022-12-06T21:37:40.973Z"
   },
   {
    "duration": 6,
    "start_time": "2022-12-06T21:37:40.986Z"
   },
   {
    "duration": 7,
    "start_time": "2022-12-06T21:37:40.993Z"
   },
   {
    "duration": 16,
    "start_time": "2022-12-06T21:37:41.001Z"
   },
   {
    "duration": 13,
    "start_time": "2022-12-06T21:37:41.019Z"
   },
   {
    "duration": 10,
    "start_time": "2022-12-06T21:37:41.033Z"
   },
   {
    "duration": 35,
    "start_time": "2022-12-06T21:37:41.044Z"
   },
   {
    "duration": 8,
    "start_time": "2022-12-06T21:37:41.081Z"
   },
   {
    "duration": 10,
    "start_time": "2022-12-06T21:37:41.091Z"
   },
   {
    "duration": 15,
    "start_time": "2022-12-06T21:37:41.103Z"
   },
   {
    "duration": 304,
    "start_time": "2022-12-06T21:37:41.119Z"
   },
   {
    "duration": 242,
    "start_time": "2022-12-06T21:37:41.424Z"
   },
   {
    "duration": 176,
    "start_time": "2022-12-06T21:37:41.668Z"
   },
   {
    "duration": 292,
    "start_time": "2022-12-06T21:37:41.846Z"
   },
   {
    "duration": 191,
    "start_time": "2022-12-06T21:37:42.139Z"
   },
   {
    "duration": 273,
    "start_time": "2022-12-06T21:37:42.332Z"
   },
   {
    "duration": 133,
    "start_time": "2022-12-06T21:53:19.162Z"
   },
   {
    "duration": 11,
    "start_time": "2022-12-06T21:53:26.823Z"
   },
   {
    "duration": 1085,
    "start_time": "2022-12-06T21:56:40.085Z"
   },
   {
    "duration": 175,
    "start_time": "2022-12-06T21:56:57.427Z"
   },
   {
    "duration": 124,
    "start_time": "2022-12-06T21:57:36.960Z"
   },
   {
    "duration": 193,
    "start_time": "2022-12-06T21:57:44.575Z"
   },
   {
    "duration": 124,
    "start_time": "2022-12-06T21:57:49.308Z"
   },
   {
    "duration": 119,
    "start_time": "2022-12-06T21:58:45.253Z"
   },
   {
    "duration": 141,
    "start_time": "2022-12-06T21:59:13.247Z"
   },
   {
    "duration": 9,
    "start_time": "2022-12-06T22:01:44.173Z"
   },
   {
    "duration": 4,
    "start_time": "2022-12-06T22:05:18.760Z"
   },
   {
    "duration": 449,
    "start_time": "2022-12-06T22:06:19.852Z"
   },
   {
    "duration": 28,
    "start_time": "2022-12-06T22:06:20.303Z"
   },
   {
    "duration": 16,
    "start_time": "2022-12-06T22:06:20.333Z"
   },
   {
    "duration": 17,
    "start_time": "2022-12-06T22:06:20.351Z"
   },
   {
    "duration": 8,
    "start_time": "2022-12-06T22:06:20.370Z"
   },
   {
    "duration": 8,
    "start_time": "2022-12-06T22:06:20.380Z"
   },
   {
    "duration": 332,
    "start_time": "2022-12-06T22:06:20.390Z"
   },
   {
    "duration": 5,
    "start_time": "2022-12-06T22:06:20.724Z"
   },
   {
    "duration": 19,
    "start_time": "2022-12-06T22:06:20.731Z"
   },
   {
    "duration": 30,
    "start_time": "2022-12-06T22:06:20.753Z"
   },
   {
    "duration": 445,
    "start_time": "2022-12-06T22:06:20.785Z"
   },
   {
    "duration": 51,
    "start_time": "2022-12-06T22:06:21.231Z"
   },
   {
    "duration": 18,
    "start_time": "2022-12-06T22:06:21.283Z"
   },
   {
    "duration": 11,
    "start_time": "2022-12-06T22:06:21.303Z"
   },
   {
    "duration": 10,
    "start_time": "2022-12-06T22:06:21.316Z"
   },
   {
    "duration": 10,
    "start_time": "2022-12-06T22:06:21.328Z"
   },
   {
    "duration": 6,
    "start_time": "2022-12-06T22:06:21.339Z"
   },
   {
    "duration": 39,
    "start_time": "2022-12-06T22:06:21.346Z"
   },
   {
    "duration": 10,
    "start_time": "2022-12-06T22:06:21.386Z"
   },
   {
    "duration": 7,
    "start_time": "2022-12-06T22:06:21.398Z"
   },
   {
    "duration": 8,
    "start_time": "2022-12-06T22:06:21.407Z"
   },
   {
    "duration": 10,
    "start_time": "2022-12-06T22:06:21.416Z"
   },
   {
    "duration": 5,
    "start_time": "2022-12-06T22:06:21.428Z"
   },
   {
    "duration": 44,
    "start_time": "2022-12-06T22:06:21.435Z"
   },
   {
    "duration": 278,
    "start_time": "2022-12-06T22:06:21.480Z"
   },
   {
    "duration": 260,
    "start_time": "2022-12-06T22:06:21.759Z"
   },
   {
    "duration": 179,
    "start_time": "2022-12-06T22:06:22.021Z"
   },
   {
    "duration": 268,
    "start_time": "2022-12-06T22:06:22.203Z"
   },
   {
    "duration": 192,
    "start_time": "2022-12-06T22:06:22.473Z"
   },
   {
    "duration": 295,
    "start_time": "2022-12-06T22:06:22.667Z"
   },
   {
    "duration": 145,
    "start_time": "2022-12-06T22:06:22.964Z"
   },
   {
    "duration": 4,
    "start_time": "2022-12-06T22:06:23.111Z"
   },
   {
    "duration": 1258,
    "start_time": "2022-12-06T22:11:57.265Z"
   },
   {
    "duration": 1185,
    "start_time": "2022-12-06T22:12:14.212Z"
   },
   {
    "duration": 115,
    "start_time": "2022-12-06T22:12:28.727Z"
   },
   {
    "duration": 195,
    "start_time": "2022-12-06T22:12:50.612Z"
   },
   {
    "duration": 4,
    "start_time": "2022-12-06T22:14:56.793Z"
   },
   {
    "duration": 71,
    "start_time": "2022-12-06T22:21:13.981Z"
   },
   {
    "duration": 1091,
    "start_time": "2022-12-06T22:21:27.065Z"
   },
   {
    "duration": 132,
    "start_time": "2022-12-06T22:21:40.671Z"
   },
   {
    "duration": 120,
    "start_time": "2022-12-06T22:21:45.996Z"
   },
   {
    "duration": 6,
    "start_time": "2022-12-06T22:23:41.553Z"
   },
   {
    "duration": 8,
    "start_time": "2022-12-06T22:23:48.643Z"
   },
   {
    "duration": 12,
    "start_time": "2022-12-06T22:23:58.617Z"
   },
   {
    "duration": 68,
    "start_time": "2022-12-06T22:25:57.923Z"
   },
   {
    "duration": 74,
    "start_time": "2022-12-06T22:27:44.147Z"
   },
   {
    "duration": 415,
    "start_time": "2022-12-06T22:33:31.349Z"
   },
   {
    "duration": 28,
    "start_time": "2022-12-06T22:33:31.766Z"
   },
   {
    "duration": 14,
    "start_time": "2022-12-06T22:33:31.795Z"
   },
   {
    "duration": 12,
    "start_time": "2022-12-06T22:33:31.811Z"
   },
   {
    "duration": 6,
    "start_time": "2022-12-06T22:33:31.824Z"
   },
   {
    "duration": 9,
    "start_time": "2022-12-06T22:33:31.832Z"
   },
   {
    "duration": 277,
    "start_time": "2022-12-06T22:33:31.843Z"
   },
   {
    "duration": 6,
    "start_time": "2022-12-06T22:33:32.122Z"
   },
   {
    "duration": 12,
    "start_time": "2022-12-06T22:33:32.130Z"
   },
   {
    "duration": 35,
    "start_time": "2022-12-06T22:33:32.145Z"
   },
   {
    "duration": 441,
    "start_time": "2022-12-06T22:33:32.181Z"
   },
   {
    "duration": 51,
    "start_time": "2022-12-06T22:33:32.624Z"
   },
   {
    "duration": 22,
    "start_time": "2022-12-06T22:33:32.677Z"
   },
   {
    "duration": 13,
    "start_time": "2022-12-06T22:33:32.700Z"
   },
   {
    "duration": 11,
    "start_time": "2022-12-06T22:33:32.715Z"
   },
   {
    "duration": 8,
    "start_time": "2022-12-06T22:33:32.729Z"
   },
   {
    "duration": 41,
    "start_time": "2022-12-06T22:33:32.738Z"
   },
   {
    "duration": 12,
    "start_time": "2022-12-06T22:33:32.780Z"
   },
   {
    "duration": 13,
    "start_time": "2022-12-06T22:33:32.793Z"
   },
   {
    "duration": 8,
    "start_time": "2022-12-06T22:33:32.808Z"
   },
   {
    "duration": 9,
    "start_time": "2022-12-06T22:33:32.818Z"
   },
   {
    "duration": 12,
    "start_time": "2022-12-06T22:33:32.828Z"
   },
   {
    "duration": 6,
    "start_time": "2022-12-06T22:33:32.842Z"
   },
   {
    "duration": 37,
    "start_time": "2022-12-06T22:33:32.850Z"
   },
   {
    "duration": 275,
    "start_time": "2022-12-06T22:33:32.889Z"
   },
   {
    "duration": 245,
    "start_time": "2022-12-06T22:33:33.166Z"
   },
   {
    "duration": 180,
    "start_time": "2022-12-06T22:33:33.413Z"
   },
   {
    "duration": 265,
    "start_time": "2022-12-06T22:33:33.596Z"
   },
   {
    "duration": 228,
    "start_time": "2022-12-06T22:33:33.863Z"
   },
   {
    "duration": 269,
    "start_time": "2022-12-06T22:33:34.093Z"
   },
   {
    "duration": 136,
    "start_time": "2022-12-06T22:33:34.363Z"
   },
   {
    "duration": 4,
    "start_time": "2022-12-06T22:33:34.500Z"
   },
   {
    "duration": 142,
    "start_time": "2022-12-06T22:33:34.506Z"
   },
   {
    "duration": 4,
    "start_time": "2022-12-06T22:33:34.650Z"
   },
   {
    "duration": 357,
    "start_time": "2022-12-06T22:34:08.224Z"
   },
   {
    "duration": 27,
    "start_time": "2022-12-06T22:34:08.583Z"
   },
   {
    "duration": 14,
    "start_time": "2022-12-06T22:34:08.611Z"
   },
   {
    "duration": 12,
    "start_time": "2022-12-06T22:34:08.627Z"
   },
   {
    "duration": 6,
    "start_time": "2022-12-06T22:34:08.641Z"
   },
   {
    "duration": 7,
    "start_time": "2022-12-06T22:34:08.649Z"
   },
   {
    "duration": 322,
    "start_time": "2022-12-06T22:34:08.658Z"
   },
   {
    "duration": 5,
    "start_time": "2022-12-06T22:34:08.981Z"
   },
   {
    "duration": 15,
    "start_time": "2022-12-06T22:34:08.988Z"
   },
   {
    "duration": 12,
    "start_time": "2022-12-06T22:34:09.005Z"
   },
   {
    "duration": 422,
    "start_time": "2022-12-06T22:34:09.019Z"
   },
   {
    "duration": 50,
    "start_time": "2022-12-06T22:34:09.443Z"
   },
   {
    "duration": 17,
    "start_time": "2022-12-06T22:34:09.495Z"
   },
   {
    "duration": 10,
    "start_time": "2022-12-06T22:34:09.514Z"
   },
   {
    "duration": 12,
    "start_time": "2022-12-06T22:34:09.526Z"
   },
   {
    "duration": 8,
    "start_time": "2022-12-06T22:34:09.539Z"
   },
   {
    "duration": 11,
    "start_time": "2022-12-06T22:34:09.548Z"
   },
   {
    "duration": 25,
    "start_time": "2022-12-06T22:34:09.560Z"
   },
   {
    "duration": 10,
    "start_time": "2022-12-06T22:34:09.586Z"
   },
   {
    "duration": 8,
    "start_time": "2022-12-06T22:34:09.598Z"
   },
   {
    "duration": 5,
    "start_time": "2022-12-06T22:34:09.607Z"
   },
   {
    "duration": 11,
    "start_time": "2022-12-06T22:34:09.614Z"
   },
   {
    "duration": 11,
    "start_time": "2022-12-06T22:34:09.626Z"
   },
   {
    "duration": 46,
    "start_time": "2022-12-06T22:34:09.639Z"
   },
   {
    "duration": 281,
    "start_time": "2022-12-06T22:34:09.686Z"
   },
   {
    "duration": 269,
    "start_time": "2022-12-06T22:34:09.968Z"
   },
   {
    "duration": 183,
    "start_time": "2022-12-06T22:34:10.239Z"
   },
   {
    "duration": 256,
    "start_time": "2022-12-06T22:34:10.425Z"
   },
   {
    "duration": 195,
    "start_time": "2022-12-06T22:34:10.683Z"
   },
   {
    "duration": 291,
    "start_time": "2022-12-06T22:34:10.880Z"
   },
   {
    "duration": 133,
    "start_time": "2022-12-06T22:34:11.177Z"
   },
   {
    "duration": 4,
    "start_time": "2022-12-06T22:34:11.312Z"
   },
   {
    "duration": 143,
    "start_time": "2022-12-06T22:34:11.317Z"
   },
   {
    "duration": 4,
    "start_time": "2022-12-06T22:34:11.462Z"
   },
   {
    "duration": 49,
    "start_time": "2022-12-07T16:25:42.223Z"
   },
   {
    "duration": 461,
    "start_time": "2022-12-07T16:25:55.869Z"
   },
   {
    "duration": 68,
    "start_time": "2022-12-07T16:25:56.332Z"
   },
   {
    "duration": 18,
    "start_time": "2022-12-07T16:25:56.402Z"
   },
   {
    "duration": 14,
    "start_time": "2022-12-07T16:25:56.422Z"
   },
   {
    "duration": 4,
    "start_time": "2022-12-07T16:25:56.438Z"
   },
   {
    "duration": 11,
    "start_time": "2022-12-07T16:25:56.444Z"
   },
   {
    "duration": 477,
    "start_time": "2022-12-07T16:25:56.457Z"
   },
   {
    "duration": 6,
    "start_time": "2022-12-07T16:25:56.937Z"
   },
   {
    "duration": 19,
    "start_time": "2022-12-07T16:25:56.946Z"
   },
   {
    "duration": 31,
    "start_time": "2022-12-07T16:25:56.968Z"
   },
   {
    "duration": 473,
    "start_time": "2022-12-07T16:25:57.001Z"
   },
   {
    "duration": 154,
    "start_time": "2022-12-07T16:25:57.476Z"
   },
   {
    "duration": 23,
    "start_time": "2022-12-07T16:25:57.632Z"
   },
   {
    "duration": 15,
    "start_time": "2022-12-07T16:25:57.656Z"
   },
   {
    "duration": 20,
    "start_time": "2022-12-07T16:25:57.673Z"
   },
   {
    "duration": 8,
    "start_time": "2022-12-07T16:25:57.694Z"
   },
   {
    "duration": 6,
    "start_time": "2022-12-07T16:25:57.704Z"
   },
   {
    "duration": 15,
    "start_time": "2022-12-07T16:25:57.711Z"
   },
   {
    "duration": 14,
    "start_time": "2022-12-07T16:25:57.728Z"
   },
   {
    "duration": 8,
    "start_time": "2022-12-07T16:25:57.744Z"
   },
   {
    "duration": 5,
    "start_time": "2022-12-07T16:25:57.754Z"
   },
   {
    "duration": 39,
    "start_time": "2022-12-07T16:25:57.761Z"
   },
   {
    "duration": 5,
    "start_time": "2022-12-07T16:25:57.802Z"
   },
   {
    "duration": 13,
    "start_time": "2022-12-07T16:25:57.809Z"
   },
   {
    "duration": 326,
    "start_time": "2022-12-07T16:25:57.825Z"
   },
   {
    "duration": 377,
    "start_time": "2022-12-07T16:25:58.153Z"
   },
   {
    "duration": 196,
    "start_time": "2022-12-07T16:25:58.531Z"
   },
   {
    "duration": 334,
    "start_time": "2022-12-07T16:25:58.731Z"
   },
   {
    "duration": 204,
    "start_time": "2022-12-07T16:25:59.067Z"
   },
   {
    "duration": 329,
    "start_time": "2022-12-07T16:25:59.273Z"
   },
   {
    "duration": 151,
    "start_time": "2022-12-07T16:25:59.604Z"
   },
   {
    "duration": 5,
    "start_time": "2022-12-07T16:25:59.757Z"
   },
   {
    "duration": 227,
    "start_time": "2022-12-07T16:25:59.764Z"
   },
   {
    "duration": 5,
    "start_time": "2022-12-07T16:25:59.995Z"
   },
   {
    "duration": 171,
    "start_time": "2022-12-07T17:08:12.059Z"
   },
   {
    "duration": 6,
    "start_time": "2022-12-07T18:07:01.395Z"
   },
   {
    "duration": 102,
    "start_time": "2022-12-07T18:11:27.596Z"
   },
   {
    "duration": 12,
    "start_time": "2022-12-07T18:13:13.602Z"
   },
   {
    "duration": 11,
    "start_time": "2022-12-07T18:15:37.733Z"
   },
   {
    "duration": 21,
    "start_time": "2022-12-07T18:17:03.252Z"
   },
   {
    "duration": 49,
    "start_time": "2022-12-07T18:17:33.171Z"
   },
   {
    "duration": 53,
    "start_time": "2022-12-07T18:17:55.387Z"
   },
   {
    "duration": 65,
    "start_time": "2022-12-07T18:22:22.411Z"
   },
   {
    "duration": 67,
    "start_time": "2022-12-07T18:22:34.061Z"
   },
   {
    "duration": 66,
    "start_time": "2022-12-07T18:23:44.333Z"
   },
   {
    "duration": 127,
    "start_time": "2022-12-07T18:28:18.298Z"
   },
   {
    "duration": 97,
    "start_time": "2022-12-07T18:31:27.290Z"
   },
   {
    "duration": 100,
    "start_time": "2022-12-07T18:32:17.649Z"
   },
   {
    "duration": 135,
    "start_time": "2022-12-07T18:34:37.157Z"
   },
   {
    "duration": 179,
    "start_time": "2022-12-07T18:35:26.065Z"
   },
   {
    "duration": 152,
    "start_time": "2022-12-07T18:39:11.408Z"
   },
   {
    "duration": 195,
    "start_time": "2022-12-07T18:39:25.926Z"
   },
   {
    "duration": 159,
    "start_time": "2022-12-07T18:41:41.618Z"
   },
   {
    "duration": 171,
    "start_time": "2022-12-07T18:43:43.861Z"
   },
   {
    "duration": 210,
    "start_time": "2022-12-07T18:45:02.194Z"
   },
   {
    "duration": 197,
    "start_time": "2022-12-07T18:45:10.891Z"
   },
   {
    "duration": 299,
    "start_time": "2022-12-07T18:45:55.976Z"
   },
   {
    "duration": 52,
    "start_time": "2022-12-07T18:51:09.633Z"
   },
   {
    "duration": 223,
    "start_time": "2022-12-07T18:51:47.850Z"
   },
   {
    "duration": 218,
    "start_time": "2022-12-07T18:52:03.948Z"
   },
   {
    "duration": 13,
    "start_time": "2022-12-07T18:57:30.974Z"
   },
   {
    "duration": 51,
    "start_time": "2022-12-07T18:57:57.797Z"
   },
   {
    "duration": 72,
    "start_time": "2022-12-07T18:58:10.251Z"
   },
   {
    "duration": 120,
    "start_time": "2022-12-07T18:59:56.377Z"
   },
   {
    "duration": 681,
    "start_time": "2022-12-07T19:03:54.160Z"
   },
   {
    "duration": 670,
    "start_time": "2022-12-07T19:04:42.751Z"
   },
   {
    "duration": 696,
    "start_time": "2022-12-07T19:05:09.858Z"
   },
   {
    "duration": 781,
    "start_time": "2022-12-07T19:05:25.264Z"
   },
   {
    "duration": 4,
    "start_time": "2022-12-07T19:05:49.992Z"
   },
   {
    "duration": 4,
    "start_time": "2022-12-07T19:06:07.306Z"
   },
   {
    "duration": 4,
    "start_time": "2022-12-07T19:08:35.430Z"
   },
   {
    "duration": 6,
    "start_time": "2022-12-07T19:09:07.863Z"
   },
   {
    "duration": 6,
    "start_time": "2022-12-07T19:09:18.736Z"
   },
   {
    "duration": 13,
    "start_time": "2022-12-07T19:10:47.827Z"
   },
   {
    "duration": 387,
    "start_time": "2022-12-07T19:12:02.514Z"
   },
   {
    "duration": 26,
    "start_time": "2022-12-07T19:12:02.903Z"
   },
   {
    "duration": 15,
    "start_time": "2022-12-07T19:12:02.931Z"
   },
   {
    "duration": 13,
    "start_time": "2022-12-07T19:12:02.948Z"
   },
   {
    "duration": 14,
    "start_time": "2022-12-07T19:12:02.962Z"
   },
   {
    "duration": 10,
    "start_time": "2022-12-07T19:12:02.977Z"
   },
   {
    "duration": 256,
    "start_time": "2022-12-07T19:12:02.988Z"
   },
   {
    "duration": 6,
    "start_time": "2022-12-07T19:12:03.246Z"
   },
   {
    "duration": 14,
    "start_time": "2022-12-07T19:12:03.253Z"
   },
   {
    "duration": 27,
    "start_time": "2022-12-07T19:12:03.270Z"
   },
   {
    "duration": 442,
    "start_time": "2022-12-07T19:12:03.299Z"
   },
   {
    "duration": 48,
    "start_time": "2022-12-07T19:12:03.743Z"
   },
   {
    "duration": 18,
    "start_time": "2022-12-07T19:12:03.793Z"
   },
   {
    "duration": 9,
    "start_time": "2022-12-07T19:12:03.813Z"
   },
   {
    "duration": 11,
    "start_time": "2022-12-07T19:12:03.824Z"
   },
   {
    "duration": 6,
    "start_time": "2022-12-07T19:12:03.836Z"
   },
   {
    "duration": 6,
    "start_time": "2022-12-07T19:12:03.844Z"
   },
   {
    "duration": 13,
    "start_time": "2022-12-07T19:12:03.853Z"
   },
   {
    "duration": 39,
    "start_time": "2022-12-07T19:12:03.867Z"
   },
   {
    "duration": 9,
    "start_time": "2022-12-07T19:12:03.908Z"
   },
   {
    "duration": 6,
    "start_time": "2022-12-07T19:12:03.918Z"
   },
   {
    "duration": 14,
    "start_time": "2022-12-07T19:12:03.925Z"
   },
   {
    "duration": 9,
    "start_time": "2022-12-07T19:12:03.941Z"
   },
   {
    "duration": 18,
    "start_time": "2022-12-07T19:12:03.951Z"
   },
   {
    "duration": 297,
    "start_time": "2022-12-07T19:12:03.970Z"
   },
   {
    "duration": 264,
    "start_time": "2022-12-07T19:12:04.268Z"
   },
   {
    "duration": 187,
    "start_time": "2022-12-07T19:12:04.534Z"
   },
   {
    "duration": 290,
    "start_time": "2022-12-07T19:12:04.724Z"
   },
   {
    "duration": 213,
    "start_time": "2022-12-07T19:12:05.015Z"
   },
   {
    "duration": 282,
    "start_time": "2022-12-07T19:12:05.230Z"
   },
   {
    "duration": 150,
    "start_time": "2022-12-07T19:12:05.514Z"
   },
   {
    "duration": 4,
    "start_time": "2022-12-07T19:12:05.666Z"
   },
   {
    "duration": 139,
    "start_time": "2022-12-07T19:12:05.671Z"
   },
   {
    "duration": 4,
    "start_time": "2022-12-07T19:12:05.811Z"
   },
   {
    "duration": 314,
    "start_time": "2022-12-07T19:12:05.817Z"
   },
   {
    "duration": 121,
    "start_time": "2022-12-07T19:12:06.133Z"
   },
   {
    "duration": 125,
    "start_time": "2022-12-07T19:12:06.256Z"
   },
   {
    "duration": 23,
    "start_time": "2022-12-07T19:12:30.668Z"
   },
   {
    "duration": 10,
    "start_time": "2022-12-07T19:18:12.405Z"
   },
   {
    "duration": 16,
    "start_time": "2022-12-07T19:55:25.126Z"
   },
   {
    "duration": 12,
    "start_time": "2022-12-07T19:55:45.661Z"
   },
   {
    "duration": 422,
    "start_time": "2022-12-07T20:03:54.307Z"
   },
   {
    "duration": 26,
    "start_time": "2022-12-07T20:03:54.731Z"
   },
   {
    "duration": 15,
    "start_time": "2022-12-07T20:03:54.758Z"
   },
   {
    "duration": 11,
    "start_time": "2022-12-07T20:03:54.775Z"
   },
   {
    "duration": 20,
    "start_time": "2022-12-07T20:03:54.788Z"
   },
   {
    "duration": 6,
    "start_time": "2022-12-07T20:03:54.811Z"
   },
   {
    "duration": 291,
    "start_time": "2022-12-07T20:03:54.819Z"
   },
   {
    "duration": 6,
    "start_time": "2022-12-07T20:03:55.111Z"
   },
   {
    "duration": 14,
    "start_time": "2022-12-07T20:03:55.119Z"
   },
   {
    "duration": 14,
    "start_time": "2022-12-07T20:03:55.136Z"
   },
   {
    "duration": 479,
    "start_time": "2022-12-07T20:03:55.152Z"
   },
   {
    "duration": 48,
    "start_time": "2022-12-07T20:03:55.633Z"
   },
   {
    "duration": 19,
    "start_time": "2022-12-07T20:03:55.683Z"
   },
   {
    "duration": 21,
    "start_time": "2022-12-07T20:03:55.705Z"
   },
   {
    "duration": 13,
    "start_time": "2022-12-07T20:03:55.727Z"
   },
   {
    "duration": 8,
    "start_time": "2022-12-07T20:03:55.742Z"
   },
   {
    "duration": 17,
    "start_time": "2022-12-07T20:03:55.751Z"
   },
   {
    "duration": 17,
    "start_time": "2022-12-07T20:03:55.770Z"
   },
   {
    "duration": 33,
    "start_time": "2022-12-07T20:03:55.789Z"
   },
   {
    "duration": 8,
    "start_time": "2022-12-07T20:03:55.824Z"
   },
   {
    "duration": 5,
    "start_time": "2022-12-07T20:03:55.834Z"
   },
   {
    "duration": 12,
    "start_time": "2022-12-07T20:03:55.841Z"
   },
   {
    "duration": 5,
    "start_time": "2022-12-07T20:03:55.855Z"
   },
   {
    "duration": 16,
    "start_time": "2022-12-07T20:03:55.862Z"
   },
   {
    "duration": 340,
    "start_time": "2022-12-07T20:03:55.880Z"
   },
   {
    "duration": 290,
    "start_time": "2022-12-07T20:03:56.222Z"
   },
   {
    "duration": 244,
    "start_time": "2022-12-07T20:03:56.515Z"
   },
   {
    "duration": 340,
    "start_time": "2022-12-07T20:03:56.763Z"
   },
   {
    "duration": 210,
    "start_time": "2022-12-07T20:03:57.105Z"
   },
   {
    "duration": 291,
    "start_time": "2022-12-07T20:03:57.317Z"
   },
   {
    "duration": 140,
    "start_time": "2022-12-07T20:03:57.609Z"
   },
   {
    "duration": 4,
    "start_time": "2022-12-07T20:03:57.750Z"
   },
   {
    "duration": 199,
    "start_time": "2022-12-07T20:03:57.756Z"
   },
   {
    "duration": 5,
    "start_time": "2022-12-07T20:03:57.956Z"
   },
   {
    "duration": 358,
    "start_time": "2022-12-07T20:03:57.963Z"
   },
   {
    "duration": 149,
    "start_time": "2022-12-07T20:03:58.322Z"
   },
   {
    "duration": 42,
    "start_time": "2022-12-07T20:03:58.473Z"
   },
   {
    "duration": 10,
    "start_time": "2022-12-07T20:03:58.517Z"
   },
   {
    "duration": 9,
    "start_time": "2022-12-07T20:11:45.959Z"
   },
   {
    "duration": 10,
    "start_time": "2022-12-07T20:12:08.183Z"
   },
   {
    "duration": 15,
    "start_time": "2022-12-07T20:12:42.591Z"
   },
   {
    "duration": 874,
    "start_time": "2022-12-07T20:14:10.410Z"
   },
   {
    "duration": 806,
    "start_time": "2022-12-07T20:15:11.914Z"
   },
   {
    "duration": 8,
    "start_time": "2022-12-07T20:15:37.877Z"
   },
   {
    "duration": 31,
    "start_time": "2022-12-07T20:16:37.084Z"
   },
   {
    "duration": 871,
    "start_time": "2022-12-07T20:18:00.465Z"
   },
   {
    "duration": 17,
    "start_time": "2022-12-07T20:18:53.461Z"
   },
   {
    "duration": 10,
    "start_time": "2022-12-07T20:27:32.725Z"
   },
   {
    "duration": 42,
    "start_time": "2022-12-07T20:27:39.786Z"
   },
   {
    "duration": 113,
    "start_time": "2022-12-07T20:29:15.818Z"
   },
   {
    "duration": 403,
    "start_time": "2022-12-07T20:32:01.848Z"
   },
   {
    "duration": 27,
    "start_time": "2022-12-07T20:32:02.253Z"
   },
   {
    "duration": 19,
    "start_time": "2022-12-07T20:32:02.282Z"
   },
   {
    "duration": 14,
    "start_time": "2022-12-07T20:32:02.305Z"
   },
   {
    "duration": 19,
    "start_time": "2022-12-07T20:32:02.322Z"
   },
   {
    "duration": 8,
    "start_time": "2022-12-07T20:32:02.343Z"
   },
   {
    "duration": 317,
    "start_time": "2022-12-07T20:32:02.352Z"
   },
   {
    "duration": 5,
    "start_time": "2022-12-07T20:32:02.671Z"
   },
   {
    "duration": 22,
    "start_time": "2022-12-07T20:32:02.677Z"
   },
   {
    "duration": 38,
    "start_time": "2022-12-07T20:32:02.701Z"
   },
   {
    "duration": 508,
    "start_time": "2022-12-07T20:32:02.741Z"
   },
   {
    "duration": 86,
    "start_time": "2022-12-07T20:32:03.251Z"
   },
   {
    "duration": 20,
    "start_time": "2022-12-07T20:32:03.339Z"
   },
   {
    "duration": 10,
    "start_time": "2022-12-07T20:32:03.361Z"
   },
   {
    "duration": 11,
    "start_time": "2022-12-07T20:32:03.373Z"
   },
   {
    "duration": 5,
    "start_time": "2022-12-07T20:32:03.386Z"
   },
   {
    "duration": 36,
    "start_time": "2022-12-07T20:32:03.393Z"
   },
   {
    "duration": 12,
    "start_time": "2022-12-07T20:32:03.431Z"
   },
   {
    "duration": 14,
    "start_time": "2022-12-07T20:32:03.445Z"
   },
   {
    "duration": 8,
    "start_time": "2022-12-07T20:32:03.460Z"
   },
   {
    "duration": 5,
    "start_time": "2022-12-07T20:32:03.469Z"
   },
   {
    "duration": 9,
    "start_time": "2022-12-07T20:32:03.476Z"
   },
   {
    "duration": 14,
    "start_time": "2022-12-07T20:32:03.486Z"
   },
   {
    "duration": 37,
    "start_time": "2022-12-07T20:32:03.501Z"
   },
   {
    "duration": 315,
    "start_time": "2022-12-07T20:32:03.540Z"
   },
   {
    "duration": 324,
    "start_time": "2022-12-07T20:32:03.857Z"
   },
   {
    "duration": 215,
    "start_time": "2022-12-07T20:32:04.183Z"
   },
   {
    "duration": 314,
    "start_time": "2022-12-07T20:32:04.402Z"
   },
   {
    "duration": 207,
    "start_time": "2022-12-07T20:32:04.719Z"
   },
   {
    "duration": 310,
    "start_time": "2022-12-07T20:32:04.928Z"
   },
   {
    "duration": 178,
    "start_time": "2022-12-07T20:32:05.240Z"
   },
   {
    "duration": 7,
    "start_time": "2022-12-07T20:32:05.419Z"
   },
   {
    "duration": 149,
    "start_time": "2022-12-07T20:32:05.433Z"
   },
   {
    "duration": 13,
    "start_time": "2022-12-07T20:32:05.584Z"
   },
   {
    "duration": 333,
    "start_time": "2022-12-07T20:32:05.607Z"
   },
   {
    "duration": 136,
    "start_time": "2022-12-07T20:32:05.943Z"
   },
   {
    "duration": 44,
    "start_time": "2022-12-07T20:32:06.081Z"
   },
   {
    "duration": 12,
    "start_time": "2022-12-07T20:32:06.126Z"
   },
   {
    "duration": 9,
    "start_time": "2022-12-07T20:32:06.140Z"
   },
   {
    "duration": 8,
    "start_time": "2022-12-07T20:32:06.151Z"
   },
   {
    "duration": 47,
    "start_time": "2022-12-07T20:32:06.161Z"
   },
   {
    "duration": 21,
    "start_time": "2022-12-07T20:32:06.210Z"
   },
   {
    "duration": 440,
    "start_time": "2022-12-07T21:06:14.264Z"
   },
   {
    "duration": 63,
    "start_time": "2022-12-07T21:06:14.706Z"
   },
   {
    "duration": 18,
    "start_time": "2022-12-07T21:06:14.771Z"
   },
   {
    "duration": 50,
    "start_time": "2022-12-07T21:06:14.792Z"
   },
   {
    "duration": 6,
    "start_time": "2022-12-07T21:06:14.844Z"
   },
   {
    "duration": 7,
    "start_time": "2022-12-07T21:06:14.852Z"
   },
   {
    "duration": 414,
    "start_time": "2022-12-07T21:06:14.861Z"
   },
   {
    "duration": 5,
    "start_time": "2022-12-07T21:06:15.277Z"
   },
   {
    "duration": 24,
    "start_time": "2022-12-07T21:06:15.284Z"
   },
   {
    "duration": 36,
    "start_time": "2022-12-07T21:06:15.311Z"
   },
   {
    "duration": 809,
    "start_time": "2022-12-07T21:06:15.348Z"
   },
   {
    "duration": 96,
    "start_time": "2022-12-07T21:06:16.160Z"
   },
   {
    "duration": 26,
    "start_time": "2022-12-07T21:06:16.258Z"
   },
   {
    "duration": 33,
    "start_time": "2022-12-07T21:06:16.286Z"
   },
   {
    "duration": 40,
    "start_time": "2022-12-07T21:06:16.324Z"
   },
   {
    "duration": 14,
    "start_time": "2022-12-07T21:06:16.367Z"
   },
   {
    "duration": 22,
    "start_time": "2022-12-07T21:06:16.384Z"
   },
   {
    "duration": 53,
    "start_time": "2022-12-07T21:06:16.411Z"
   },
   {
    "duration": 23,
    "start_time": "2022-12-07T21:06:16.466Z"
   },
   {
    "duration": 11,
    "start_time": "2022-12-07T21:06:16.491Z"
   },
   {
    "duration": 47,
    "start_time": "2022-12-07T21:06:16.504Z"
   },
   {
    "duration": 11,
    "start_time": "2022-12-07T21:06:16.553Z"
   },
   {
    "duration": 8,
    "start_time": "2022-12-07T21:06:16.566Z"
   },
   {
    "duration": 13,
    "start_time": "2022-12-07T21:06:16.576Z"
   },
   {
    "duration": 364,
    "start_time": "2022-12-07T21:06:16.591Z"
   },
   {
    "duration": 420,
    "start_time": "2022-12-07T21:06:16.957Z"
   },
   {
    "duration": 257,
    "start_time": "2022-12-07T21:06:17.379Z"
   },
   {
    "duration": 275,
    "start_time": "2022-12-07T21:06:17.641Z"
   },
   {
    "duration": 242,
    "start_time": "2022-12-07T21:06:17.918Z"
   },
   {
    "duration": 285,
    "start_time": "2022-12-07T21:06:18.162Z"
   },
   {
    "duration": 159,
    "start_time": "2022-12-07T21:06:18.449Z"
   },
   {
    "duration": 9,
    "start_time": "2022-12-07T21:06:18.610Z"
   },
   {
    "duration": 168,
    "start_time": "2022-12-07T21:06:18.621Z"
   },
   {
    "duration": 4,
    "start_time": "2022-12-07T21:06:18.791Z"
   },
   {
    "duration": 388,
    "start_time": "2022-12-07T21:06:18.797Z"
   },
   {
    "duration": 175,
    "start_time": "2022-12-07T21:06:19.187Z"
   },
   {
    "duration": 25,
    "start_time": "2022-12-07T21:06:19.364Z"
   },
   {
    "duration": 15,
    "start_time": "2022-12-07T21:06:19.390Z"
   },
   {
    "duration": 49,
    "start_time": "2022-12-07T21:06:19.407Z"
   },
   {
    "duration": 8,
    "start_time": "2022-12-07T21:06:19.458Z"
   },
   {
    "duration": 41,
    "start_time": "2022-12-07T21:06:19.468Z"
   },
   {
    "duration": 18,
    "start_time": "2022-12-07T21:06:19.510Z"
   },
   {
    "duration": 504,
    "start_time": "2022-12-07T21:15:01.538Z"
   },
   {
    "duration": 35,
    "start_time": "2022-12-07T21:15:02.044Z"
   },
   {
    "duration": 33,
    "start_time": "2022-12-07T21:15:02.081Z"
   },
   {
    "duration": 37,
    "start_time": "2022-12-07T21:15:02.119Z"
   },
   {
    "duration": 9,
    "start_time": "2022-12-07T21:15:02.158Z"
   },
   {
    "duration": 11,
    "start_time": "2022-12-07T21:15:02.169Z"
   },
   {
    "duration": 479,
    "start_time": "2022-12-07T21:15:02.182Z"
   },
   {
    "duration": 7,
    "start_time": "2022-12-07T21:15:02.663Z"
   },
   {
    "duration": 32,
    "start_time": "2022-12-07T21:15:02.672Z"
   },
   {
    "duration": 40,
    "start_time": "2022-12-07T21:15:02.714Z"
   },
   {
    "duration": 588,
    "start_time": "2022-12-07T21:15:02.756Z"
   },
   {
    "duration": 87,
    "start_time": "2022-12-07T21:15:03.346Z"
   },
   {
    "duration": 26,
    "start_time": "2022-12-07T21:15:03.435Z"
   },
   {
    "duration": 13,
    "start_time": "2022-12-07T21:15:03.462Z"
   },
   {
    "duration": 17,
    "start_time": "2022-12-07T21:15:03.477Z"
   },
   {
    "duration": 57,
    "start_time": "2022-12-07T21:15:03.497Z"
   },
   {
    "duration": 8,
    "start_time": "2022-12-07T21:15:03.557Z"
   },
   {
    "duration": 15,
    "start_time": "2022-12-07T21:15:03.567Z"
   },
   {
    "duration": 19,
    "start_time": "2022-12-07T21:15:03.584Z"
   },
   {
    "duration": 47,
    "start_time": "2022-12-07T21:15:03.604Z"
   },
   {
    "duration": 9,
    "start_time": "2022-12-07T21:15:03.654Z"
   },
   {
    "duration": 13,
    "start_time": "2022-12-07T21:15:03.665Z"
   },
   {
    "duration": 11,
    "start_time": "2022-12-07T21:15:03.680Z"
   },
   {
    "duration": 60,
    "start_time": "2022-12-07T21:15:03.693Z"
   },
   {
    "duration": 408,
    "start_time": "2022-12-07T21:15:03.756Z"
   },
   {
    "duration": 384,
    "start_time": "2022-12-07T21:15:04.166Z"
   },
   {
    "duration": 226,
    "start_time": "2022-12-07T21:15:04.552Z"
   },
   {
    "duration": 337,
    "start_time": "2022-12-07T21:15:04.782Z"
   },
   {
    "duration": 293,
    "start_time": "2022-12-07T21:15:05.121Z"
   },
   {
    "duration": 324,
    "start_time": "2022-12-07T21:15:05.419Z"
   },
   {
    "duration": 195,
    "start_time": "2022-12-07T21:15:05.747Z"
   },
   {
    "duration": 17,
    "start_time": "2022-12-07T21:15:05.944Z"
   },
   {
    "duration": 278,
    "start_time": "2022-12-07T21:15:05.963Z"
   },
   {
    "duration": 4,
    "start_time": "2022-12-07T21:15:06.242Z"
   },
   {
    "duration": 399,
    "start_time": "2022-12-07T21:15:06.247Z"
   },
   {
    "duration": 205,
    "start_time": "2022-12-07T21:15:06.647Z"
   },
   {
    "duration": 39,
    "start_time": "2022-12-07T21:15:06.856Z"
   },
   {
    "duration": 36,
    "start_time": "2022-12-07T21:15:06.902Z"
   },
   {
    "duration": 27,
    "start_time": "2022-12-07T21:15:06.941Z"
   },
   {
    "duration": 12,
    "start_time": "2022-12-07T21:15:06.970Z"
   },
   {
    "duration": 45,
    "start_time": "2022-12-07T21:15:06.984Z"
   },
   {
    "duration": 36,
    "start_time": "2022-12-07T21:15:07.032Z"
   },
   {
    "duration": 26,
    "start_time": "2022-12-07T21:29:41.416Z"
   },
   {
    "duration": 376,
    "start_time": "2022-12-07T21:29:49.551Z"
   },
   {
    "duration": 27,
    "start_time": "2022-12-07T21:29:49.929Z"
   },
   {
    "duration": 14,
    "start_time": "2022-12-07T21:29:49.958Z"
   },
   {
    "duration": 11,
    "start_time": "2022-12-07T21:29:49.974Z"
   },
   {
    "duration": 5,
    "start_time": "2022-12-07T21:29:49.986Z"
   },
   {
    "duration": 18,
    "start_time": "2022-12-07T21:29:49.995Z"
   },
   {
    "duration": 275,
    "start_time": "2022-12-07T21:29:50.014Z"
   },
   {
    "duration": 18,
    "start_time": "2022-12-07T21:29:50.296Z"
   },
   {
    "duration": 12,
    "start_time": "2022-12-07T21:29:50.316Z"
   },
   {
    "duration": 13,
    "start_time": "2022-12-07T21:29:50.331Z"
   },
   {
    "duration": 511,
    "start_time": "2022-12-07T21:29:50.346Z"
   },
   {
    "duration": 56,
    "start_time": "2022-12-07T21:29:50.859Z"
   },
   {
    "duration": 20,
    "start_time": "2022-12-07T21:29:50.916Z"
   },
   {
    "duration": 13,
    "start_time": "2022-12-07T21:29:50.937Z"
   },
   {
    "duration": 22,
    "start_time": "2022-12-07T21:29:50.951Z"
   },
   {
    "duration": 5,
    "start_time": "2022-12-07T21:29:50.975Z"
   },
   {
    "duration": 13,
    "start_time": "2022-12-07T21:29:50.982Z"
   },
   {
    "duration": 26,
    "start_time": "2022-12-07T21:29:50.998Z"
   },
   {
    "duration": 26,
    "start_time": "2022-12-07T21:29:51.025Z"
   },
   {
    "duration": 8,
    "start_time": "2022-12-07T21:29:51.053Z"
   },
   {
    "duration": 7,
    "start_time": "2022-12-07T21:29:51.063Z"
   },
   {
    "duration": 16,
    "start_time": "2022-12-07T21:29:51.071Z"
   },
   {
    "duration": 18,
    "start_time": "2022-12-07T21:29:51.088Z"
   },
   {
    "duration": 20,
    "start_time": "2022-12-07T21:29:51.107Z"
   },
   {
    "duration": 314,
    "start_time": "2022-12-07T21:29:51.129Z"
   },
   {
    "duration": 279,
    "start_time": "2022-12-07T21:29:51.445Z"
   },
   {
    "duration": 212,
    "start_time": "2022-12-07T21:29:51.726Z"
   },
   {
    "duration": 275,
    "start_time": "2022-12-07T21:29:51.942Z"
   },
   {
    "duration": 213,
    "start_time": "2022-12-07T21:29:52.218Z"
   },
   {
    "duration": 308,
    "start_time": "2022-12-07T21:29:52.432Z"
   },
   {
    "duration": 173,
    "start_time": "2022-12-07T21:29:52.742Z"
   },
   {
    "duration": 4,
    "start_time": "2022-12-07T21:29:52.918Z"
   },
   {
    "duration": 151,
    "start_time": "2022-12-07T21:29:52.925Z"
   },
   {
    "duration": 32,
    "start_time": "2022-12-07T21:29:53.079Z"
   },
   {
    "duration": 330,
    "start_time": "2022-12-07T21:29:53.112Z"
   },
   {
    "duration": 136,
    "start_time": "2022-12-07T21:29:53.444Z"
   },
   {
    "duration": 39,
    "start_time": "2022-12-07T21:29:53.582Z"
   },
   {
    "duration": 11,
    "start_time": "2022-12-07T21:29:53.622Z"
   },
   {
    "duration": 10,
    "start_time": "2022-12-07T21:29:53.635Z"
   },
   {
    "duration": 8,
    "start_time": "2022-12-07T21:29:53.646Z"
   },
   {
    "duration": 58,
    "start_time": "2022-12-07T21:29:53.655Z"
   },
   {
    "duration": 16,
    "start_time": "2022-12-07T21:29:53.715Z"
   },
   {
    "duration": 56,
    "start_time": "2022-12-08T18:03:22.745Z"
   },
   {
    "duration": 44,
    "start_time": "2022-12-08T18:03:37.590Z"
   },
   {
    "duration": 430,
    "start_time": "2022-12-08T18:04:04.185Z"
   },
   {
    "duration": 72,
    "start_time": "2022-12-08T18:04:04.617Z"
   },
   {
    "duration": 19,
    "start_time": "2022-12-08T18:04:04.691Z"
   },
   {
    "duration": 19,
    "start_time": "2022-12-08T18:04:04.713Z"
   },
   {
    "duration": 6,
    "start_time": "2022-12-08T18:04:04.734Z"
   },
   {
    "duration": 7,
    "start_time": "2022-12-08T18:04:04.742Z"
   },
   {
    "duration": 490,
    "start_time": "2022-12-08T18:04:04.750Z"
   },
   {
    "duration": 5,
    "start_time": "2022-12-08T18:04:05.242Z"
   },
   {
    "duration": 32,
    "start_time": "2022-12-08T18:04:05.249Z"
   },
   {
    "duration": 47,
    "start_time": "2022-12-08T18:04:05.285Z"
   },
   {
    "duration": 494,
    "start_time": "2022-12-08T18:04:05.334Z"
   },
   {
    "duration": 294,
    "start_time": "2022-12-08T18:04:05.830Z"
   },
   {
    "duration": 25,
    "start_time": "2022-12-08T18:04:06.126Z"
   },
   {
    "duration": 15,
    "start_time": "2022-12-08T18:04:06.153Z"
   },
   {
    "duration": 27,
    "start_time": "2022-12-08T18:04:06.170Z"
   },
   {
    "duration": 32,
    "start_time": "2022-12-08T18:04:06.199Z"
   },
   {
    "duration": 25,
    "start_time": "2022-12-08T18:04:06.234Z"
   },
   {
    "duration": 28,
    "start_time": "2022-12-08T18:04:06.261Z"
   },
   {
    "duration": 26,
    "start_time": "2022-12-08T18:04:06.291Z"
   },
   {
    "duration": 48,
    "start_time": "2022-12-08T18:04:06.319Z"
   },
   {
    "duration": 31,
    "start_time": "2022-12-08T18:04:06.370Z"
   },
   {
    "duration": 26,
    "start_time": "2022-12-08T18:04:06.403Z"
   },
   {
    "duration": 10,
    "start_time": "2022-12-08T18:04:06.431Z"
   },
   {
    "duration": 25,
    "start_time": "2022-12-08T18:04:06.444Z"
   },
   {
    "duration": 279,
    "start_time": "2022-12-08T18:04:06.470Z"
   },
   {
    "duration": 334,
    "start_time": "2022-12-08T18:04:06.751Z"
   },
   {
    "duration": 190,
    "start_time": "2022-12-08T18:04:07.086Z"
   },
   {
    "duration": 342,
    "start_time": "2022-12-08T18:04:07.279Z"
   },
   {
    "duration": 284,
    "start_time": "2022-12-08T18:04:07.623Z"
   },
   {
    "duration": 364,
    "start_time": "2022-12-08T18:04:07.909Z"
   },
   {
    "duration": 153,
    "start_time": "2022-12-08T18:04:08.274Z"
   },
   {
    "duration": 5,
    "start_time": "2022-12-08T18:04:08.429Z"
   },
   {
    "duration": 162,
    "start_time": "2022-12-08T18:04:08.437Z"
   },
   {
    "duration": 7,
    "start_time": "2022-12-08T18:04:08.601Z"
   },
   {
    "duration": 371,
    "start_time": "2022-12-08T18:04:08.609Z"
   },
   {
    "duration": 142,
    "start_time": "2022-12-08T18:04:08.982Z"
   },
   {
    "duration": 34,
    "start_time": "2022-12-08T18:04:09.126Z"
   },
   {
    "duration": 34,
    "start_time": "2022-12-08T18:04:09.163Z"
   },
   {
    "duration": 11,
    "start_time": "2022-12-08T18:04:09.199Z"
   },
   {
    "duration": 11,
    "start_time": "2022-12-08T18:04:09.212Z"
   },
   {
    "duration": 25,
    "start_time": "2022-12-08T18:04:09.225Z"
   },
   {
    "duration": 15,
    "start_time": "2022-12-08T18:04:09.252Z"
   },
   {
    "duration": 316,
    "start_time": "2022-12-08T18:05:15.371Z"
   },
   {
    "duration": 284,
    "start_time": "2022-12-08T18:06:15.856Z"
   },
   {
    "duration": 239,
    "start_time": "2022-12-08T18:06:59.443Z"
   },
   {
    "duration": 506,
    "start_time": "2022-12-08T18:09:11.614Z"
   },
   {
    "duration": 35,
    "start_time": "2022-12-08T18:09:12.122Z"
   },
   {
    "duration": 22,
    "start_time": "2022-12-08T18:09:12.159Z"
   },
   {
    "duration": 13,
    "start_time": "2022-12-08T18:09:12.185Z"
   },
   {
    "duration": 21,
    "start_time": "2022-12-08T18:09:12.199Z"
   },
   {
    "duration": 26,
    "start_time": "2022-12-08T18:09:12.222Z"
   },
   {
    "duration": 402,
    "start_time": "2022-12-08T18:09:12.250Z"
   },
   {
    "duration": 6,
    "start_time": "2022-12-08T18:09:12.654Z"
   },
   {
    "duration": 16,
    "start_time": "2022-12-08T18:09:12.661Z"
   },
   {
    "duration": 22,
    "start_time": "2022-12-08T18:09:12.680Z"
   },
   {
    "duration": 508,
    "start_time": "2022-12-08T18:09:12.704Z"
   },
   {
    "duration": 62,
    "start_time": "2022-12-08T18:09:13.214Z"
   },
   {
    "duration": 24,
    "start_time": "2022-12-08T18:09:13.279Z"
   },
   {
    "duration": 14,
    "start_time": "2022-12-08T18:09:13.305Z"
   },
   {
    "duration": 13,
    "start_time": "2022-12-08T18:09:13.321Z"
   },
   {
    "duration": 10,
    "start_time": "2022-12-08T18:09:13.336Z"
   },
   {
    "duration": 10,
    "start_time": "2022-12-08T18:09:13.348Z"
   },
   {
    "duration": 16,
    "start_time": "2022-12-08T18:09:13.360Z"
   },
   {
    "duration": 18,
    "start_time": "2022-12-08T18:09:13.397Z"
   },
   {
    "duration": 11,
    "start_time": "2022-12-08T18:09:13.417Z"
   },
   {
    "duration": 6,
    "start_time": "2022-12-08T18:09:13.430Z"
   },
   {
    "duration": 14,
    "start_time": "2022-12-08T18:09:13.438Z"
   },
   {
    "duration": 8,
    "start_time": "2022-12-08T18:09:13.454Z"
   },
   {
    "duration": 38,
    "start_time": "2022-12-08T18:09:13.464Z"
   },
   {
    "duration": 294,
    "start_time": "2022-12-08T18:09:13.504Z"
   },
   {
    "duration": 295,
    "start_time": "2022-12-08T18:09:13.801Z"
   },
   {
    "duration": 239,
    "start_time": "2022-12-08T18:09:14.098Z"
   },
   {
    "duration": 312,
    "start_time": "2022-12-08T18:09:14.341Z"
   },
   {
    "duration": 260,
    "start_time": "2022-12-08T18:09:14.655Z"
   },
   {
    "duration": 320,
    "start_time": "2022-12-08T18:09:14.917Z"
   },
   {
    "duration": 180,
    "start_time": "2022-12-08T18:09:15.240Z"
   },
   {
    "duration": 6,
    "start_time": "2022-12-08T18:09:15.422Z"
   },
   {
    "duration": 195,
    "start_time": "2022-12-08T18:09:15.430Z"
   },
   {
    "duration": 5,
    "start_time": "2022-12-08T18:09:15.626Z"
   },
   {
    "duration": 342,
    "start_time": "2022-12-08T18:09:15.633Z"
   },
   {
    "duration": 149,
    "start_time": "2022-12-08T18:09:15.977Z"
   },
   {
    "duration": 37,
    "start_time": "2022-12-08T18:09:16.128Z"
   },
   {
    "duration": 14,
    "start_time": "2022-12-08T18:09:16.167Z"
   },
   {
    "duration": 18,
    "start_time": "2022-12-08T18:09:16.184Z"
   },
   {
    "duration": 17,
    "start_time": "2022-12-08T18:09:16.205Z"
   },
   {
    "duration": 74,
    "start_time": "2022-12-08T18:09:16.224Z"
   },
   {
    "duration": 23,
    "start_time": "2022-12-08T18:09:16.303Z"
   },
   {
    "duration": 377,
    "start_time": "2022-12-08T18:09:53.526Z"
   },
   {
    "duration": 380,
    "start_time": "2022-12-08T18:10:10.553Z"
   },
   {
    "duration": 197,
    "start_time": "2022-12-08T18:26:49.901Z"
   },
   {
    "duration": 198,
    "start_time": "2022-12-08T18:27:04.008Z"
   },
   {
    "duration": 197,
    "start_time": "2022-12-08T18:27:17.140Z"
   },
   {
    "duration": 215,
    "start_time": "2022-12-08T18:28:35.392Z"
   },
   {
    "duration": 200,
    "start_time": "2022-12-08T18:28:56.898Z"
   },
   {
    "duration": 305,
    "start_time": "2022-12-08T18:29:24.007Z"
   },
   {
    "duration": 206,
    "start_time": "2022-12-08T18:29:47.293Z"
   },
   {
    "duration": 216,
    "start_time": "2022-12-08T18:30:00.089Z"
   },
   {
    "duration": 279,
    "start_time": "2022-12-08T18:30:25.333Z"
   },
   {
    "duration": 243,
    "start_time": "2022-12-08T18:31:02.239Z"
   },
   {
    "duration": 204,
    "start_time": "2022-12-08T18:31:27.394Z"
   },
   {
    "duration": 224,
    "start_time": "2022-12-08T18:32:08.481Z"
   },
   {
    "duration": 139,
    "start_time": "2022-12-08T18:36:17.428Z"
   },
   {
    "duration": 469,
    "start_time": "2022-12-08T19:32:39.561Z"
   },
   {
    "duration": 28,
    "start_time": "2022-12-08T19:32:40.032Z"
   },
   {
    "duration": 16,
    "start_time": "2022-12-08T19:32:40.062Z"
   },
   {
    "duration": 11,
    "start_time": "2022-12-08T19:32:40.080Z"
   },
   {
    "duration": 29,
    "start_time": "2022-12-08T19:32:40.092Z"
   },
   {
    "duration": 8,
    "start_time": "2022-12-08T19:32:40.123Z"
   },
   {
    "duration": 280,
    "start_time": "2022-12-08T19:32:40.133Z"
   },
   {
    "duration": 6,
    "start_time": "2022-12-08T19:32:40.415Z"
   },
   {
    "duration": 12,
    "start_time": "2022-12-08T19:32:40.423Z"
   },
   {
    "duration": 16,
    "start_time": "2022-12-08T19:32:40.439Z"
   },
   {
    "duration": 497,
    "start_time": "2022-12-08T19:32:40.456Z"
   },
   {
    "duration": 52,
    "start_time": "2022-12-08T19:32:40.955Z"
   },
   {
    "duration": 20,
    "start_time": "2022-12-08T19:32:41.008Z"
   },
   {
    "duration": 10,
    "start_time": "2022-12-08T19:32:41.030Z"
   },
   {
    "duration": 9,
    "start_time": "2022-12-08T19:32:41.042Z"
   },
   {
    "duration": 6,
    "start_time": "2022-12-08T19:32:41.053Z"
   },
   {
    "duration": 6,
    "start_time": "2022-12-08T19:32:41.061Z"
   },
   {
    "duration": 38,
    "start_time": "2022-12-08T19:32:41.068Z"
   },
   {
    "duration": 13,
    "start_time": "2022-12-08T19:32:41.108Z"
   },
   {
    "duration": 7,
    "start_time": "2022-12-08T19:32:41.123Z"
   },
   {
    "duration": 5,
    "start_time": "2022-12-08T19:32:41.131Z"
   },
   {
    "duration": 9,
    "start_time": "2022-12-08T19:32:41.138Z"
   },
   {
    "duration": 7,
    "start_time": "2022-12-08T19:32:41.149Z"
   },
   {
    "duration": 52,
    "start_time": "2022-12-08T19:32:41.158Z"
   },
   {
    "duration": 287,
    "start_time": "2022-12-08T19:32:41.212Z"
   },
   {
    "duration": 292,
    "start_time": "2022-12-08T19:32:41.500Z"
   },
   {
    "duration": 225,
    "start_time": "2022-12-08T19:32:41.796Z"
   },
   {
    "duration": 291,
    "start_time": "2022-12-08T19:32:42.025Z"
   },
   {
    "duration": 214,
    "start_time": "2022-12-08T19:32:42.318Z"
   },
   {
    "duration": 287,
    "start_time": "2022-12-08T19:32:42.534Z"
   },
   {
    "duration": 194,
    "start_time": "2022-12-08T19:32:42.823Z"
   },
   {
    "duration": 4,
    "start_time": "2022-12-08T19:32:43.019Z"
   },
   {
    "duration": 164,
    "start_time": "2022-12-08T19:32:43.025Z"
   },
   {
    "duration": 8,
    "start_time": "2022-12-08T19:32:43.190Z"
   },
   {
    "duration": 318,
    "start_time": "2022-12-08T19:32:43.200Z"
   },
   {
    "duration": 215,
    "start_time": "2022-12-08T19:32:43.520Z"
   },
   {
    "duration": 79,
    "start_time": "2022-12-08T19:32:43.737Z"
   },
   {
    "duration": 11,
    "start_time": "2022-12-08T19:32:43.818Z"
   },
   {
    "duration": 12,
    "start_time": "2022-12-08T19:32:43.831Z"
   },
   {
    "duration": 10,
    "start_time": "2022-12-08T19:32:43.897Z"
   },
   {
    "duration": 31,
    "start_time": "2022-12-08T19:32:43.909Z"
   },
   {
    "duration": 70,
    "start_time": "2022-12-08T19:32:43.942Z"
   },
   {
    "duration": 3,
    "start_time": "2022-12-08T19:36:54.687Z"
   },
   {
    "duration": 5,
    "start_time": "2022-12-08T19:37:01.507Z"
   },
   {
    "duration": 149,
    "start_time": "2022-12-08T19:37:26.219Z"
   },
   {
    "duration": 8,
    "start_time": "2022-12-08T19:37:38.095Z"
   },
   {
    "duration": 8,
    "start_time": "2022-12-08T19:39:16.408Z"
   },
   {
    "duration": 14,
    "start_time": "2022-12-08T19:39:21.094Z"
   },
   {
    "duration": 7,
    "start_time": "2022-12-08T19:39:45.049Z"
   },
   {
    "duration": 9,
    "start_time": "2022-12-08T19:39:58.758Z"
   },
   {
    "duration": 9,
    "start_time": "2022-12-08T19:42:07.775Z"
   },
   {
    "duration": 14,
    "start_time": "2022-12-08T19:42:19.296Z"
   },
   {
    "duration": 16,
    "start_time": "2022-12-08T19:42:39.690Z"
   },
   {
    "duration": 11,
    "start_time": "2022-12-08T19:42:53.337Z"
   },
   {
    "duration": 426,
    "start_time": "2022-12-08T19:43:03.189Z"
   },
   {
    "duration": 28,
    "start_time": "2022-12-08T19:43:03.617Z"
   },
   {
    "duration": 19,
    "start_time": "2022-12-08T19:43:03.647Z"
   },
   {
    "duration": 9,
    "start_time": "2022-12-08T19:43:03.670Z"
   },
   {
    "duration": 31,
    "start_time": "2022-12-08T19:43:03.681Z"
   },
   {
    "duration": 7,
    "start_time": "2022-12-08T19:43:03.714Z"
   },
   {
    "duration": 7,
    "start_time": "2022-12-08T19:43:03.723Z"
   },
   {
    "duration": 291,
    "start_time": "2022-12-08T19:43:03.732Z"
   },
   {
    "duration": 4,
    "start_time": "2022-12-08T19:43:04.025Z"
   },
   {
    "duration": 15,
    "start_time": "2022-12-08T19:43:04.032Z"
   },
   {
    "duration": 28,
    "start_time": "2022-12-08T19:43:04.049Z"
   },
   {
    "duration": 466,
    "start_time": "2022-12-08T19:43:04.080Z"
   },
   {
    "duration": 53,
    "start_time": "2022-12-08T19:43:04.547Z"
   },
   {
    "duration": 19,
    "start_time": "2022-12-08T19:43:04.607Z"
   },
   {
    "duration": 10,
    "start_time": "2022-12-08T19:43:04.627Z"
   },
   {
    "duration": 12,
    "start_time": "2022-12-08T19:43:04.638Z"
   },
   {
    "duration": 5,
    "start_time": "2022-12-08T19:43:04.651Z"
   },
   {
    "duration": 10,
    "start_time": "2022-12-08T19:43:04.657Z"
   },
   {
    "duration": 17,
    "start_time": "2022-12-08T19:43:04.668Z"
   },
   {
    "duration": 14,
    "start_time": "2022-12-08T19:43:04.699Z"
   },
   {
    "duration": 8,
    "start_time": "2022-12-08T19:43:04.715Z"
   },
   {
    "duration": 4,
    "start_time": "2022-12-08T19:43:04.725Z"
   },
   {
    "duration": 10,
    "start_time": "2022-12-08T19:43:04.730Z"
   },
   {
    "duration": 6,
    "start_time": "2022-12-08T19:43:04.741Z"
   },
   {
    "duration": 15,
    "start_time": "2022-12-08T19:43:04.748Z"
   },
   {
    "duration": 322,
    "start_time": "2022-12-08T19:43:04.764Z"
   },
   {
    "duration": 300,
    "start_time": "2022-12-08T19:43:05.088Z"
   },
   {
    "duration": 232,
    "start_time": "2022-12-08T19:43:05.396Z"
   },
   {
    "duration": 307,
    "start_time": "2022-12-08T19:43:05.629Z"
   },
   {
    "duration": 247,
    "start_time": "2022-12-08T19:43:05.938Z"
   },
   {
    "duration": 334,
    "start_time": "2022-12-08T19:43:06.187Z"
   },
   {
    "duration": 170,
    "start_time": "2022-12-08T19:43:06.522Z"
   },
   {
    "duration": 9,
    "start_time": "2022-12-08T19:43:06.701Z"
   },
   {
    "duration": 148,
    "start_time": "2022-12-08T19:43:06.714Z"
   },
   {
    "duration": 4,
    "start_time": "2022-12-08T19:43:06.864Z"
   },
   {
    "duration": 314,
    "start_time": "2022-12-08T19:43:06.869Z"
   },
   {
    "duration": 123,
    "start_time": "2022-12-08T19:43:07.184Z"
   },
   {
    "duration": 23,
    "start_time": "2022-12-08T19:43:07.309Z"
   },
   {
    "duration": 9,
    "start_time": "2022-12-08T19:43:07.333Z"
   },
   {
    "duration": 8,
    "start_time": "2022-12-08T19:43:07.344Z"
   },
   {
    "duration": 20,
    "start_time": "2022-12-08T19:43:07.354Z"
   },
   {
    "duration": 44,
    "start_time": "2022-12-08T19:43:07.376Z"
   },
   {
    "duration": 15,
    "start_time": "2022-12-08T19:43:07.422Z"
   },
   {
    "duration": 10,
    "start_time": "2022-12-08T19:44:32.519Z"
   },
   {
    "duration": 402,
    "start_time": "2022-12-08T19:45:56.965Z"
   },
   {
    "duration": 30,
    "start_time": "2022-12-08T19:45:57.369Z"
   },
   {
    "duration": 15,
    "start_time": "2022-12-08T19:45:57.405Z"
   },
   {
    "duration": 8,
    "start_time": "2022-12-08T19:45:57.423Z"
   },
   {
    "duration": 16,
    "start_time": "2022-12-08T19:45:57.432Z"
   },
   {
    "duration": 5,
    "start_time": "2022-12-08T19:45:57.450Z"
   },
   {
    "duration": 7,
    "start_time": "2022-12-08T19:45:57.457Z"
   },
   {
    "duration": 293,
    "start_time": "2022-12-08T19:45:57.465Z"
   },
   {
    "duration": 6,
    "start_time": "2022-12-08T19:45:57.760Z"
   },
   {
    "duration": 12,
    "start_time": "2022-12-08T19:45:57.768Z"
   },
   {
    "duration": 16,
    "start_time": "2022-12-08T19:45:57.796Z"
   },
   {
    "duration": 478,
    "start_time": "2022-12-08T19:45:57.813Z"
   },
   {
    "duration": 59,
    "start_time": "2022-12-08T19:45:58.293Z"
   },
   {
    "duration": 23,
    "start_time": "2022-12-08T19:45:58.354Z"
   },
   {
    "duration": 11,
    "start_time": "2022-12-08T19:45:58.379Z"
   },
   {
    "duration": 15,
    "start_time": "2022-12-08T19:45:58.392Z"
   },
   {
    "duration": 6,
    "start_time": "2022-12-08T19:45:58.412Z"
   },
   {
    "duration": 7,
    "start_time": "2022-12-08T19:45:58.420Z"
   },
   {
    "duration": 14,
    "start_time": "2022-12-08T19:45:58.428Z"
   },
   {
    "duration": 16,
    "start_time": "2022-12-08T19:45:58.444Z"
   },
   {
    "duration": 6,
    "start_time": "2022-12-08T19:45:58.462Z"
   },
   {
    "duration": 5,
    "start_time": "2022-12-08T19:45:58.469Z"
   },
   {
    "duration": 34,
    "start_time": "2022-12-08T19:45:58.476Z"
   },
   {
    "duration": 25,
    "start_time": "2022-12-08T19:45:58.511Z"
   },
   {
    "duration": 16,
    "start_time": "2022-12-08T19:45:58.538Z"
   },
   {
    "duration": 335,
    "start_time": "2022-12-08T19:45:58.555Z"
   },
   {
    "duration": 288,
    "start_time": "2022-12-08T19:45:58.891Z"
   },
   {
    "duration": 225,
    "start_time": "2022-12-08T19:45:59.183Z"
   },
   {
    "duration": 304,
    "start_time": "2022-12-08T19:45:59.410Z"
   },
   {
    "duration": 214,
    "start_time": "2022-12-08T19:45:59.715Z"
   },
   {
    "duration": 318,
    "start_time": "2022-12-08T19:45:59.931Z"
   },
   {
    "duration": 191,
    "start_time": "2022-12-08T19:46:00.252Z"
   },
   {
    "duration": 4,
    "start_time": "2022-12-08T19:46:00.445Z"
   },
   {
    "duration": 185,
    "start_time": "2022-12-08T19:46:00.451Z"
   },
   {
    "duration": 5,
    "start_time": "2022-12-08T19:46:00.637Z"
   },
   {
    "duration": 304,
    "start_time": "2022-12-08T19:46:00.644Z"
   },
   {
    "duration": 121,
    "start_time": "2022-12-08T19:46:00.950Z"
   },
   {
    "duration": 41,
    "start_time": "2022-12-08T19:46:01.073Z"
   },
   {
    "duration": 11,
    "start_time": "2022-12-08T19:46:01.116Z"
   },
   {
    "duration": 26,
    "start_time": "2022-12-08T19:46:01.129Z"
   },
   {
    "duration": 30,
    "start_time": "2022-12-08T19:46:01.157Z"
   },
   {
    "duration": 66,
    "start_time": "2022-12-08T19:46:01.189Z"
   },
   {
    "duration": 24,
    "start_time": "2022-12-08T19:46:01.257Z"
   },
   {
    "duration": 9,
    "start_time": "2022-12-08T19:46:46.572Z"
   },
   {
    "duration": 18,
    "start_time": "2022-12-08T19:47:01.793Z"
   },
   {
    "duration": 23,
    "start_time": "2022-12-08T19:47:06.389Z"
   },
   {
    "duration": 9,
    "start_time": "2022-12-08T19:47:17.535Z"
   },
   {
    "duration": 10,
    "start_time": "2022-12-08T19:47:22.239Z"
   },
   {
    "duration": 411,
    "start_time": "2022-12-08T19:47:47.410Z"
   },
   {
    "duration": 28,
    "start_time": "2022-12-08T19:47:47.823Z"
   },
   {
    "duration": 14,
    "start_time": "2022-12-08T19:47:47.853Z"
   },
   {
    "duration": 7,
    "start_time": "2022-12-08T19:47:47.869Z"
   },
   {
    "duration": 30,
    "start_time": "2022-12-08T19:47:47.878Z"
   },
   {
    "duration": 10,
    "start_time": "2022-12-08T19:47:47.911Z"
   },
   {
    "duration": 30,
    "start_time": "2022-12-08T19:47:47.923Z"
   },
   {
    "duration": 283,
    "start_time": "2022-12-08T19:47:47.955Z"
   },
   {
    "duration": 5,
    "start_time": "2022-12-08T19:47:48.240Z"
   },
   {
    "duration": 15,
    "start_time": "2022-12-08T19:47:48.247Z"
   },
   {
    "duration": 12,
    "start_time": "2022-12-08T19:47:48.263Z"
   },
   {
    "duration": 477,
    "start_time": "2022-12-08T19:47:48.277Z"
   },
   {
    "duration": 55,
    "start_time": "2022-12-08T19:47:48.756Z"
   },
   {
    "duration": 21,
    "start_time": "2022-12-08T19:47:48.813Z"
   },
   {
    "duration": 12,
    "start_time": "2022-12-08T19:47:48.836Z"
   },
   {
    "duration": 13,
    "start_time": "2022-12-08T19:47:48.850Z"
   },
   {
    "duration": 5,
    "start_time": "2022-12-08T19:47:48.865Z"
   },
   {
    "duration": 7,
    "start_time": "2022-12-08T19:47:48.871Z"
   },
   {
    "duration": 26,
    "start_time": "2022-12-08T19:47:48.880Z"
   },
   {
    "duration": 16,
    "start_time": "2022-12-08T19:47:48.908Z"
   },
   {
    "duration": 10,
    "start_time": "2022-12-08T19:47:48.926Z"
   },
   {
    "duration": 7,
    "start_time": "2022-12-08T19:47:48.937Z"
   },
   {
    "duration": 12,
    "start_time": "2022-12-08T19:47:48.946Z"
   },
   {
    "duration": 7,
    "start_time": "2022-12-08T19:47:48.960Z"
   },
   {
    "duration": 40,
    "start_time": "2022-12-08T19:47:48.969Z"
   },
   {
    "duration": 309,
    "start_time": "2022-12-08T19:47:49.010Z"
   },
   {
    "duration": 291,
    "start_time": "2022-12-08T19:47:49.320Z"
   },
   {
    "duration": 216,
    "start_time": "2022-12-08T19:47:49.613Z"
   },
   {
    "duration": 303,
    "start_time": "2022-12-08T19:47:49.830Z"
   },
   {
    "duration": 236,
    "start_time": "2022-12-08T19:47:50.135Z"
   },
   {
    "duration": 358,
    "start_time": "2022-12-08T19:47:50.373Z"
   },
   {
    "duration": 189,
    "start_time": "2022-12-08T19:47:50.732Z"
   },
   {
    "duration": 5,
    "start_time": "2022-12-08T19:47:50.922Z"
   },
   {
    "duration": 191,
    "start_time": "2022-12-08T19:47:50.929Z"
   },
   {
    "duration": 4,
    "start_time": "2022-12-08T19:47:51.122Z"
   },
   {
    "duration": 320,
    "start_time": "2022-12-08T19:47:51.128Z"
   },
   {
    "duration": 129,
    "start_time": "2022-12-08T19:47:51.450Z"
   },
   {
    "duration": 37,
    "start_time": "2022-12-08T19:47:51.581Z"
   },
   {
    "duration": 10,
    "start_time": "2022-12-08T19:47:51.619Z"
   },
   {
    "duration": 11,
    "start_time": "2022-12-08T19:47:51.631Z"
   },
   {
    "duration": 9,
    "start_time": "2022-12-08T19:47:51.645Z"
   },
   {
    "duration": 47,
    "start_time": "2022-12-08T19:47:51.655Z"
   },
   {
    "duration": 18,
    "start_time": "2022-12-08T19:47:51.703Z"
   },
   {
    "duration": 15,
    "start_time": "2022-12-08T19:47:59.494Z"
   },
   {
    "duration": 11,
    "start_time": "2022-12-08T19:48:09.071Z"
   },
   {
    "duration": 14,
    "start_time": "2022-12-08T19:48:13.438Z"
   },
   {
    "duration": 11,
    "start_time": "2022-12-08T19:48:52.892Z"
   },
   {
    "duration": 9,
    "start_time": "2022-12-08T19:48:58.259Z"
   },
   {
    "duration": 2,
    "start_time": "2022-12-08T19:49:11.035Z"
   },
   {
    "duration": 412,
    "start_time": "2022-12-08T19:49:16.261Z"
   },
   {
    "duration": 36,
    "start_time": "2022-12-08T19:49:16.675Z"
   },
   {
    "duration": 13,
    "start_time": "2022-12-08T19:49:16.713Z"
   },
   {
    "duration": 9,
    "start_time": "2022-12-08T19:49:16.727Z"
   },
   {
    "duration": 12,
    "start_time": "2022-12-08T19:49:16.737Z"
   },
   {
    "duration": 5,
    "start_time": "2022-12-08T19:49:16.751Z"
   },
   {
    "duration": 5,
    "start_time": "2022-12-08T19:49:16.758Z"
   },
   {
    "duration": 289,
    "start_time": "2022-12-08T19:49:16.765Z"
   },
   {
    "duration": 6,
    "start_time": "2022-12-08T19:49:17.055Z"
   },
   {
    "duration": 13,
    "start_time": "2022-12-08T19:49:17.064Z"
   },
   {
    "duration": 29,
    "start_time": "2022-12-08T19:49:17.078Z"
   },
   {
    "duration": 455,
    "start_time": "2022-12-08T19:49:17.109Z"
   },
   {
    "duration": 58,
    "start_time": "2022-12-08T19:49:17.566Z"
   },
   {
    "duration": 19,
    "start_time": "2022-12-08T19:49:17.625Z"
   },
   {
    "duration": 12,
    "start_time": "2022-12-08T19:49:17.646Z"
   },
   {
    "duration": 11,
    "start_time": "2022-12-08T19:49:17.660Z"
   },
   {
    "duration": 4,
    "start_time": "2022-12-08T19:49:17.673Z"
   },
   {
    "duration": 6,
    "start_time": "2022-12-08T19:49:17.679Z"
   },
   {
    "duration": 18,
    "start_time": "2022-12-08T19:49:17.687Z"
   },
   {
    "duration": 18,
    "start_time": "2022-12-08T19:49:17.713Z"
   },
   {
    "duration": 9,
    "start_time": "2022-12-08T19:49:17.733Z"
   },
   {
    "duration": 5,
    "start_time": "2022-12-08T19:49:17.743Z"
   },
   {
    "duration": 10,
    "start_time": "2022-12-08T19:49:17.750Z"
   },
   {
    "duration": 14,
    "start_time": "2022-12-08T19:49:17.762Z"
   },
   {
    "duration": 34,
    "start_time": "2022-12-08T19:49:17.778Z"
   },
   {
    "duration": 309,
    "start_time": "2022-12-08T19:49:17.814Z"
   },
   {
    "duration": 295,
    "start_time": "2022-12-08T19:49:18.124Z"
   },
   {
    "duration": 205,
    "start_time": "2022-12-08T19:49:18.423Z"
   },
   {
    "duration": 293,
    "start_time": "2022-12-08T19:49:18.630Z"
   },
   {
    "duration": 235,
    "start_time": "2022-12-08T19:49:18.925Z"
   },
   {
    "duration": 358,
    "start_time": "2022-12-08T19:49:19.161Z"
   },
   {
    "duration": 175,
    "start_time": "2022-12-08T19:49:19.521Z"
   },
   {
    "duration": 13,
    "start_time": "2022-12-08T19:49:19.697Z"
   },
   {
    "duration": 163,
    "start_time": "2022-12-08T19:49:19.713Z"
   },
   {
    "duration": 3,
    "start_time": "2022-12-08T19:49:19.878Z"
   },
   {
    "duration": 330,
    "start_time": "2022-12-08T19:49:19.883Z"
   },
   {
    "duration": 130,
    "start_time": "2022-12-08T19:49:20.215Z"
   },
   {
    "duration": 23,
    "start_time": "2022-12-08T19:49:20.347Z"
   },
   {
    "duration": 40,
    "start_time": "2022-12-08T19:49:20.372Z"
   },
   {
    "duration": 10,
    "start_time": "2022-12-08T19:49:20.414Z"
   },
   {
    "duration": 31,
    "start_time": "2022-12-08T19:49:20.425Z"
   },
   {
    "duration": 51,
    "start_time": "2022-12-08T19:49:20.458Z"
   },
   {
    "duration": 16,
    "start_time": "2022-12-08T19:49:20.510Z"
   },
   {
    "duration": 9,
    "start_time": "2022-12-08T19:49:35.429Z"
   },
   {
    "duration": 2,
    "start_time": "2022-12-08T19:49:41.062Z"
   },
   {
    "duration": 32,
    "start_time": "2022-12-08T19:49:42.880Z"
   },
   {
    "duration": 9,
    "start_time": "2022-12-08T19:49:45.180Z"
   },
   {
    "duration": 8,
    "start_time": "2022-12-08T19:49:48.646Z"
   },
   {
    "duration": 3,
    "start_time": "2022-12-08T19:50:13.318Z"
   },
   {
    "duration": 3,
    "start_time": "2022-12-08T19:50:17.209Z"
   },
   {
    "duration": 9,
    "start_time": "2022-12-08T19:50:23.348Z"
   },
   {
    "duration": 4,
    "start_time": "2022-12-08T19:51:33.671Z"
   },
   {
    "duration": 96,
    "start_time": "2022-12-08T19:51:38.112Z"
   },
   {
    "duration": 16,
    "start_time": "2022-12-08T19:52:13.594Z"
   },
   {
    "duration": 8,
    "start_time": "2022-12-08T19:52:22.763Z"
   },
   {
    "duration": 4,
    "start_time": "2022-12-08T19:52:54.113Z"
   },
   {
    "duration": 3,
    "start_time": "2022-12-08T19:52:58.649Z"
   },
   {
    "duration": 9,
    "start_time": "2022-12-08T19:53:08.403Z"
   },
   {
    "duration": 4,
    "start_time": "2022-12-08T19:53:14.015Z"
   },
   {
    "duration": 5,
    "start_time": "2022-12-08T19:53:19.555Z"
   },
   {
    "duration": 380,
    "start_time": "2022-12-08T19:53:27.140Z"
   },
   {
    "duration": 28,
    "start_time": "2022-12-08T19:53:27.522Z"
   },
   {
    "duration": 17,
    "start_time": "2022-12-08T19:53:27.551Z"
   },
   {
    "duration": 7,
    "start_time": "2022-12-08T19:53:27.570Z"
   },
   {
    "duration": 21,
    "start_time": "2022-12-08T19:53:27.579Z"
   },
   {
    "duration": 9,
    "start_time": "2022-12-08T19:53:27.602Z"
   },
   {
    "duration": 7,
    "start_time": "2022-12-08T19:53:27.612Z"
   },
   {
    "duration": 266,
    "start_time": "2022-12-08T19:53:27.621Z"
   },
   {
    "duration": 9,
    "start_time": "2022-12-08T19:53:27.888Z"
   },
   {
    "duration": 15,
    "start_time": "2022-12-08T19:53:27.900Z"
   },
   {
    "duration": 13,
    "start_time": "2022-12-08T19:53:27.916Z"
   },
   {
    "duration": 533,
    "start_time": "2022-12-08T19:53:27.931Z"
   },
   {
    "duration": 51,
    "start_time": "2022-12-08T19:53:28.466Z"
   },
   {
    "duration": 18,
    "start_time": "2022-12-08T19:53:28.519Z"
   },
   {
    "duration": 11,
    "start_time": "2022-12-08T19:53:28.538Z"
   },
   {
    "duration": 9,
    "start_time": "2022-12-08T19:53:28.550Z"
   },
   {
    "duration": 6,
    "start_time": "2022-12-08T19:53:28.560Z"
   },
   {
    "duration": 6,
    "start_time": "2022-12-08T19:53:28.567Z"
   },
   {
    "duration": 23,
    "start_time": "2022-12-08T19:53:28.574Z"
   },
   {
    "duration": 12,
    "start_time": "2022-12-08T19:53:28.598Z"
   },
   {
    "duration": 8,
    "start_time": "2022-12-08T19:53:28.611Z"
   },
   {
    "duration": 8,
    "start_time": "2022-12-08T19:53:28.621Z"
   },
   {
    "duration": 12,
    "start_time": "2022-12-08T19:53:28.631Z"
   },
   {
    "duration": 10,
    "start_time": "2022-12-08T19:53:28.645Z"
   },
   {
    "duration": 17,
    "start_time": "2022-12-08T19:53:28.657Z"
   },
   {
    "duration": 312,
    "start_time": "2022-12-08T19:53:28.676Z"
   },
   {
    "duration": 317,
    "start_time": "2022-12-08T19:53:28.990Z"
   },
   {
    "duration": 216,
    "start_time": "2022-12-08T19:53:29.311Z"
   },
   {
    "duration": 279,
    "start_time": "2022-12-08T19:53:29.529Z"
   },
   {
    "duration": 213,
    "start_time": "2022-12-08T19:53:29.809Z"
   },
   {
    "duration": 308,
    "start_time": "2022-12-08T19:53:30.023Z"
   },
   {
    "duration": 176,
    "start_time": "2022-12-08T19:53:30.333Z"
   },
   {
    "duration": 4,
    "start_time": "2022-12-08T19:53:30.511Z"
   },
   {
    "duration": 177,
    "start_time": "2022-12-08T19:53:30.517Z"
   },
   {
    "duration": 5,
    "start_time": "2022-12-08T19:53:30.696Z"
   },
   {
    "duration": 314,
    "start_time": "2022-12-08T19:53:30.702Z"
   },
   {
    "duration": 137,
    "start_time": "2022-12-08T19:53:31.018Z"
   },
   {
    "duration": 24,
    "start_time": "2022-12-08T19:53:31.157Z"
   },
   {
    "duration": 10,
    "start_time": "2022-12-08T19:53:31.197Z"
   },
   {
    "duration": 16,
    "start_time": "2022-12-08T19:53:31.208Z"
   },
   {
    "duration": 26,
    "start_time": "2022-12-08T19:53:31.226Z"
   },
   {
    "duration": 56,
    "start_time": "2022-12-08T19:53:31.254Z"
   },
   {
    "duration": 18,
    "start_time": "2022-12-08T19:53:31.311Z"
   },
   {
    "duration": 9,
    "start_time": "2022-12-08T19:55:44.967Z"
   },
   {
    "duration": 9,
    "start_time": "2022-12-08T19:55:48.280Z"
   },
   {
    "duration": 9,
    "start_time": "2022-12-08T19:55:53.465Z"
   },
   {
    "duration": 27,
    "start_time": "2022-12-08T20:07:40.636Z"
   },
   {
    "duration": 449,
    "start_time": "2022-12-08T20:07:48.975Z"
   },
   {
    "duration": 27,
    "start_time": "2022-12-08T20:07:49.426Z"
   },
   {
    "duration": 15,
    "start_time": "2022-12-08T20:07:49.455Z"
   },
   {
    "duration": 8,
    "start_time": "2022-12-08T20:07:49.472Z"
   },
   {
    "duration": 19,
    "start_time": "2022-12-08T20:07:49.481Z"
   },
   {
    "duration": 5,
    "start_time": "2022-12-08T20:07:49.502Z"
   },
   {
    "duration": 6,
    "start_time": "2022-12-08T20:07:49.509Z"
   },
   {
    "duration": 285,
    "start_time": "2022-12-08T20:07:49.517Z"
   },
   {
    "duration": 6,
    "start_time": "2022-12-08T20:07:49.803Z"
   },
   {
    "duration": 13,
    "start_time": "2022-12-08T20:07:49.811Z"
   },
   {
    "duration": 12,
    "start_time": "2022-12-08T20:07:49.826Z"
   },
   {
    "duration": 528,
    "start_time": "2022-12-08T20:07:49.841Z"
   },
   {
    "duration": 51,
    "start_time": "2022-12-08T20:07:50.370Z"
   },
   {
    "duration": 19,
    "start_time": "2022-12-08T20:07:50.423Z"
   },
   {
    "duration": 10,
    "start_time": "2022-12-08T20:07:50.444Z"
   },
   {
    "duration": 12,
    "start_time": "2022-12-08T20:07:50.456Z"
   },
   {
    "duration": 7,
    "start_time": "2022-12-08T20:07:50.470Z"
   },
   {
    "duration": 21,
    "start_time": "2022-12-08T20:07:50.478Z"
   },
   {
    "duration": 18,
    "start_time": "2022-12-08T20:07:50.502Z"
   },
   {
    "duration": 13,
    "start_time": "2022-12-08T20:07:50.522Z"
   },
   {
    "duration": 7,
    "start_time": "2022-12-08T20:07:50.536Z"
   },
   {
    "duration": 7,
    "start_time": "2022-12-08T20:07:50.545Z"
   },
   {
    "duration": 43,
    "start_time": "2022-12-08T20:07:50.553Z"
   },
   {
    "duration": 5,
    "start_time": "2022-12-08T20:07:50.598Z"
   },
   {
    "duration": 20,
    "start_time": "2022-12-08T20:07:50.605Z"
   },
   {
    "duration": 287,
    "start_time": "2022-12-08T20:07:50.626Z"
   },
   {
    "duration": 301,
    "start_time": "2022-12-08T20:07:50.915Z"
   },
   {
    "duration": 215,
    "start_time": "2022-12-08T20:07:51.219Z"
   },
   {
    "duration": 283,
    "start_time": "2022-12-08T20:07:51.436Z"
   },
   {
    "duration": 224,
    "start_time": "2022-12-08T20:07:51.722Z"
   },
   {
    "duration": 362,
    "start_time": "2022-12-08T20:07:51.949Z"
   },
   {
    "duration": 169,
    "start_time": "2022-12-08T20:07:52.313Z"
   },
   {
    "duration": 13,
    "start_time": "2022-12-08T20:07:52.484Z"
   },
   {
    "duration": 164,
    "start_time": "2022-12-08T20:07:52.499Z"
   },
   {
    "duration": 4,
    "start_time": "2022-12-08T20:07:52.665Z"
   },
   {
    "duration": 299,
    "start_time": "2022-12-08T20:07:52.670Z"
   },
   {
    "duration": 121,
    "start_time": "2022-12-08T20:07:52.970Z"
   },
   {
    "duration": 24,
    "start_time": "2022-12-08T20:07:53.096Z"
   },
   {
    "duration": 9,
    "start_time": "2022-12-08T20:07:53.122Z"
   },
   {
    "duration": 8,
    "start_time": "2022-12-08T20:07:53.133Z"
   },
   {
    "duration": 7,
    "start_time": "2022-12-08T20:07:53.143Z"
   },
   {
    "duration": 61,
    "start_time": "2022-12-08T20:07:53.151Z"
   },
   {
    "duration": 13,
    "start_time": "2022-12-08T20:07:53.214Z"
   },
   {
    "duration": 9,
    "start_time": "2022-12-08T20:08:07.816Z"
   },
   {
    "duration": 11,
    "start_time": "2022-12-08T20:08:27.290Z"
   },
   {
    "duration": 11,
    "start_time": "2022-12-08T20:08:33.611Z"
   },
   {
    "duration": 10,
    "start_time": "2022-12-08T20:09:57.287Z"
   },
   {
    "duration": 10,
    "start_time": "2022-12-08T20:10:02.108Z"
   },
   {
    "duration": 15,
    "start_time": "2022-12-08T20:11:41.648Z"
   },
   {
    "duration": 3,
    "start_time": "2022-12-08T20:13:04.801Z"
   },
   {
    "duration": 10,
    "start_time": "2022-12-08T20:13:10.024Z"
   },
   {
    "duration": 96,
    "start_time": "2022-12-08T20:13:20.636Z"
   },
   {
    "duration": 9,
    "start_time": "2022-12-08T20:13:44.720Z"
   },
   {
    "duration": 9,
    "start_time": "2022-12-08T20:13:50.199Z"
   },
   {
    "duration": 11,
    "start_time": "2022-12-08T20:13:55.127Z"
   },
   {
    "duration": 9,
    "start_time": "2022-12-08T20:14:03.129Z"
   },
   {
    "duration": 11,
    "start_time": "2022-12-08T20:14:15.419Z"
   },
   {
    "duration": 13,
    "start_time": "2022-12-08T20:14:27.113Z"
   },
   {
    "duration": 9,
    "start_time": "2022-12-08T20:14:37.598Z"
   },
   {
    "duration": 10,
    "start_time": "2022-12-08T20:15:28.481Z"
   },
   {
    "duration": 358,
    "start_time": "2022-12-08T20:15:41.050Z"
   },
   {
    "duration": 27,
    "start_time": "2022-12-08T20:15:41.410Z"
   },
   {
    "duration": 13,
    "start_time": "2022-12-08T20:15:41.439Z"
   },
   {
    "duration": 7,
    "start_time": "2022-12-08T20:15:41.454Z"
   },
   {
    "duration": 34,
    "start_time": "2022-12-08T20:15:41.463Z"
   },
   {
    "duration": 3,
    "start_time": "2022-12-08T20:15:41.499Z"
   },
   {
    "duration": 12,
    "start_time": "2022-12-08T20:15:41.503Z"
   },
   {
    "duration": 284,
    "start_time": "2022-12-08T20:15:41.516Z"
   },
   {
    "duration": 5,
    "start_time": "2022-12-08T20:15:41.801Z"
   },
   {
    "duration": 24,
    "start_time": "2022-12-08T20:15:41.809Z"
   },
   {
    "duration": 14,
    "start_time": "2022-12-08T20:15:41.834Z"
   },
   {
    "duration": 490,
    "start_time": "2022-12-08T20:15:41.849Z"
   },
   {
    "duration": 50,
    "start_time": "2022-12-08T20:15:42.341Z"
   },
   {
    "duration": 17,
    "start_time": "2022-12-08T20:15:42.393Z"
   },
   {
    "duration": 14,
    "start_time": "2022-12-08T20:15:42.412Z"
   },
   {
    "duration": 13,
    "start_time": "2022-12-08T20:15:42.428Z"
   },
   {
    "duration": 6,
    "start_time": "2022-12-08T20:15:42.443Z"
   },
   {
    "duration": 7,
    "start_time": "2022-12-08T20:15:42.450Z"
   },
   {
    "duration": 51,
    "start_time": "2022-12-08T20:15:42.459Z"
   },
   {
    "duration": 15,
    "start_time": "2022-12-08T20:15:42.513Z"
   },
   {
    "duration": 11,
    "start_time": "2022-12-08T20:15:42.529Z"
   },
   {
    "duration": 4,
    "start_time": "2022-12-08T20:15:42.542Z"
   },
   {
    "duration": 10,
    "start_time": "2022-12-08T20:15:42.548Z"
   },
   {
    "duration": 40,
    "start_time": "2022-12-08T20:15:42.559Z"
   },
   {
    "duration": 13,
    "start_time": "2022-12-08T20:15:42.601Z"
   },
   {
    "duration": 295,
    "start_time": "2022-12-08T20:15:42.615Z"
   },
   {
    "duration": 281,
    "start_time": "2022-12-08T20:15:42.913Z"
   },
   {
    "duration": 209,
    "start_time": "2022-12-08T20:15:43.198Z"
   },
   {
    "duration": 305,
    "start_time": "2022-12-08T20:15:43.408Z"
   },
   {
    "duration": 215,
    "start_time": "2022-12-08T20:15:43.715Z"
   },
   {
    "duration": 295,
    "start_time": "2022-12-08T20:15:43.932Z"
   },
   {
    "duration": 161,
    "start_time": "2022-12-08T20:15:44.228Z"
   },
   {
    "duration": 8,
    "start_time": "2022-12-08T20:15:44.391Z"
   },
   {
    "duration": 162,
    "start_time": "2022-12-08T20:15:44.400Z"
   },
   {
    "duration": 5,
    "start_time": "2022-12-08T20:15:44.563Z"
   },
   {
    "duration": 310,
    "start_time": "2022-12-08T20:15:44.569Z"
   },
   {
    "duration": 130,
    "start_time": "2022-12-08T20:15:44.881Z"
   },
   {
    "duration": 27,
    "start_time": "2022-12-08T20:15:45.013Z"
   },
   {
    "duration": 12,
    "start_time": "2022-12-08T20:15:45.042Z"
   },
   {
    "duration": 9,
    "start_time": "2022-12-08T20:15:45.055Z"
   },
   {
    "duration": 37,
    "start_time": "2022-12-08T20:15:45.066Z"
   },
   {
    "duration": 31,
    "start_time": "2022-12-08T20:15:45.105Z"
   },
   {
    "duration": 14,
    "start_time": "2022-12-08T20:15:45.139Z"
   },
   {
    "duration": 419,
    "start_time": "2022-12-08T20:17:25.954Z"
   },
   {
    "duration": 28,
    "start_time": "2022-12-08T20:17:26.375Z"
   },
   {
    "duration": 15,
    "start_time": "2022-12-08T20:17:26.404Z"
   },
   {
    "duration": 8,
    "start_time": "2022-12-08T20:17:26.421Z"
   },
   {
    "duration": 14,
    "start_time": "2022-12-08T20:17:26.430Z"
   },
   {
    "duration": 6,
    "start_time": "2022-12-08T20:17:26.445Z"
   },
   {
    "duration": 6,
    "start_time": "2022-12-08T20:17:26.452Z"
   },
   {
    "duration": 330,
    "start_time": "2022-12-08T20:17:26.459Z"
   },
   {
    "duration": 9,
    "start_time": "2022-12-08T20:17:26.791Z"
   },
   {
    "duration": 12,
    "start_time": "2022-12-08T20:17:26.802Z"
   },
   {
    "duration": 11,
    "start_time": "2022-12-08T20:17:26.815Z"
   },
   {
    "duration": 508,
    "start_time": "2022-12-08T20:17:26.828Z"
   },
   {
    "duration": 51,
    "start_time": "2022-12-08T20:17:27.338Z"
   },
   {
    "duration": 22,
    "start_time": "2022-12-08T20:17:27.390Z"
   },
   {
    "duration": 14,
    "start_time": "2022-12-08T20:17:27.414Z"
   },
   {
    "duration": 13,
    "start_time": "2022-12-08T20:17:27.429Z"
   },
   {
    "duration": 3,
    "start_time": "2022-12-08T20:17:27.443Z"
   },
   {
    "duration": 6,
    "start_time": "2022-12-08T20:17:27.448Z"
   },
   {
    "duration": 49,
    "start_time": "2022-12-08T20:17:27.455Z"
   },
   {
    "duration": 11,
    "start_time": "2022-12-08T20:17:27.506Z"
   },
   {
    "duration": 7,
    "start_time": "2022-12-08T20:17:27.519Z"
   },
   {
    "duration": 16,
    "start_time": "2022-12-08T20:17:27.528Z"
   },
   {
    "duration": 24,
    "start_time": "2022-12-08T20:17:27.546Z"
   },
   {
    "duration": 27,
    "start_time": "2022-12-08T20:17:27.572Z"
   },
   {
    "duration": 14,
    "start_time": "2022-12-08T20:17:27.601Z"
   },
   {
    "duration": 305,
    "start_time": "2022-12-08T20:17:27.617Z"
   },
   {
    "duration": 292,
    "start_time": "2022-12-08T20:17:27.927Z"
   },
   {
    "duration": 234,
    "start_time": "2022-12-08T20:17:28.222Z"
   },
   {
    "duration": 345,
    "start_time": "2022-12-08T20:17:28.458Z"
   },
   {
    "duration": 222,
    "start_time": "2022-12-08T20:17:28.805Z"
   },
   {
    "duration": 301,
    "start_time": "2022-12-08T20:17:29.028Z"
   },
   {
    "duration": 186,
    "start_time": "2022-12-08T20:17:29.331Z"
   },
   {
    "duration": 4,
    "start_time": "2022-12-08T20:17:29.519Z"
   },
   {
    "duration": 184,
    "start_time": "2022-12-08T20:17:29.524Z"
   },
   {
    "duration": 5,
    "start_time": "2022-12-08T20:17:29.709Z"
   },
   {
    "duration": 328,
    "start_time": "2022-12-08T20:17:29.715Z"
   },
   {
    "duration": 127,
    "start_time": "2022-12-08T20:17:30.045Z"
   },
   {
    "duration": 30,
    "start_time": "2022-12-08T20:17:30.174Z"
   },
   {
    "duration": 10,
    "start_time": "2022-12-08T20:17:30.206Z"
   },
   {
    "duration": 22,
    "start_time": "2022-12-08T20:17:30.217Z"
   },
   {
    "duration": 33,
    "start_time": "2022-12-08T20:17:30.241Z"
   },
   {
    "duration": 97,
    "start_time": "2022-12-08T20:17:30.276Z"
   },
   {
    "duration": 23,
    "start_time": "2022-12-08T20:17:30.375Z"
   },
   {
    "duration": 424,
    "start_time": "2022-12-08T20:20:24.202Z"
   },
   {
    "duration": 28,
    "start_time": "2022-12-08T20:20:24.628Z"
   },
   {
    "duration": 15,
    "start_time": "2022-12-08T20:20:24.658Z"
   },
   {
    "duration": 8,
    "start_time": "2022-12-08T20:20:24.676Z"
   },
   {
    "duration": 15,
    "start_time": "2022-12-08T20:20:24.696Z"
   },
   {
    "duration": 6,
    "start_time": "2022-12-08T20:20:24.713Z"
   },
   {
    "duration": 8,
    "start_time": "2022-12-08T20:20:24.720Z"
   },
   {
    "duration": 295,
    "start_time": "2022-12-08T20:20:24.730Z"
   },
   {
    "duration": 6,
    "start_time": "2022-12-08T20:20:25.026Z"
   },
   {
    "duration": 14,
    "start_time": "2022-12-08T20:20:25.034Z"
   },
   {
    "duration": 14,
    "start_time": "2022-12-08T20:20:25.049Z"
   },
   {
    "duration": 489,
    "start_time": "2022-12-08T20:20:25.064Z"
   },
   {
    "duration": 55,
    "start_time": "2022-12-08T20:20:25.554Z"
   },
   {
    "duration": 18,
    "start_time": "2022-12-08T20:20:25.610Z"
   },
   {
    "duration": 11,
    "start_time": "2022-12-08T20:20:25.630Z"
   },
   {
    "duration": 12,
    "start_time": "2022-12-08T20:20:25.643Z"
   },
   {
    "duration": 7,
    "start_time": "2022-12-08T20:20:25.657Z"
   },
   {
    "duration": 12,
    "start_time": "2022-12-08T20:20:25.666Z"
   },
   {
    "duration": 29,
    "start_time": "2022-12-08T20:20:25.680Z"
   },
   {
    "duration": 12,
    "start_time": "2022-12-08T20:20:25.710Z"
   },
   {
    "duration": 8,
    "start_time": "2022-12-08T20:20:25.724Z"
   },
   {
    "duration": 6,
    "start_time": "2022-12-08T20:20:25.734Z"
   },
   {
    "duration": 12,
    "start_time": "2022-12-08T20:20:25.741Z"
   },
   {
    "duration": 9,
    "start_time": "2022-12-08T20:20:25.754Z"
   },
   {
    "duration": 11,
    "start_time": "2022-12-08T20:20:25.797Z"
   },
   {
    "duration": 300,
    "start_time": "2022-12-08T20:20:25.810Z"
   },
   {
    "duration": 389,
    "start_time": "2022-12-08T20:20:26.112Z"
   },
   {
    "duration": 222,
    "start_time": "2022-12-08T20:20:26.506Z"
   },
   {
    "duration": 289,
    "start_time": "2022-12-08T20:20:26.730Z"
   },
   {
    "duration": 225,
    "start_time": "2022-12-08T20:20:27.021Z"
   },
   {
    "duration": 307,
    "start_time": "2022-12-08T20:20:27.247Z"
   },
   {
    "duration": 169,
    "start_time": "2022-12-08T20:20:27.555Z"
   },
   {
    "duration": 4,
    "start_time": "2022-12-08T20:20:27.726Z"
   },
   {
    "duration": 162,
    "start_time": "2022-12-08T20:20:27.732Z"
   },
   {
    "duration": 5,
    "start_time": "2022-12-08T20:20:27.897Z"
   },
   {
    "duration": 308,
    "start_time": "2022-12-08T20:20:27.904Z"
   },
   {
    "duration": 144,
    "start_time": "2022-12-08T20:20:28.213Z"
   },
   {
    "duration": 41,
    "start_time": "2022-12-08T20:20:28.358Z"
   },
   {
    "duration": 14,
    "start_time": "2022-12-08T20:20:28.401Z"
   },
   {
    "duration": 12,
    "start_time": "2022-12-08T20:20:28.417Z"
   },
   {
    "duration": 10,
    "start_time": "2022-12-08T20:20:28.431Z"
   },
   {
    "duration": 67,
    "start_time": "2022-12-08T20:20:28.443Z"
   },
   {
    "duration": 14,
    "start_time": "2022-12-08T20:20:28.512Z"
   },
   {
    "duration": 269,
    "start_time": "2022-12-08T20:25:17.676Z"
   },
   {
    "duration": 409,
    "start_time": "2022-12-08T20:27:46.010Z"
   },
   {
    "duration": 27,
    "start_time": "2022-12-08T20:27:46.421Z"
   },
   {
    "duration": 13,
    "start_time": "2022-12-08T20:27:46.450Z"
   },
   {
    "duration": 8,
    "start_time": "2022-12-08T20:27:46.465Z"
   },
   {
    "duration": 22,
    "start_time": "2022-12-08T20:27:46.474Z"
   },
   {
    "duration": 3,
    "start_time": "2022-12-08T20:27:46.500Z"
   },
   {
    "duration": 7,
    "start_time": "2022-12-08T20:27:46.505Z"
   },
   {
    "duration": 287,
    "start_time": "2022-12-08T20:27:46.513Z"
   },
   {
    "duration": 5,
    "start_time": "2022-12-08T20:27:46.802Z"
   },
   {
    "duration": 12,
    "start_time": "2022-12-08T20:27:46.810Z"
   },
   {
    "duration": 13,
    "start_time": "2022-12-08T20:27:46.824Z"
   },
   {
    "duration": 514,
    "start_time": "2022-12-08T20:27:46.839Z"
   },
   {
    "duration": 52,
    "start_time": "2022-12-08T20:27:47.355Z"
   },
   {
    "duration": 19,
    "start_time": "2022-12-08T20:27:47.408Z"
   },
   {
    "duration": 10,
    "start_time": "2022-12-08T20:27:47.429Z"
   },
   {
    "duration": 13,
    "start_time": "2022-12-08T20:27:47.440Z"
   },
   {
    "duration": 6,
    "start_time": "2022-12-08T20:27:47.454Z"
   },
   {
    "duration": 36,
    "start_time": "2022-12-08T20:27:47.461Z"
   },
   {
    "duration": 15,
    "start_time": "2022-12-08T20:27:47.499Z"
   },
   {
    "duration": 12,
    "start_time": "2022-12-08T20:27:47.516Z"
   },
   {
    "duration": 6,
    "start_time": "2022-12-08T20:27:47.530Z"
   },
   {
    "duration": 5,
    "start_time": "2022-12-08T20:27:47.538Z"
   },
   {
    "duration": 54,
    "start_time": "2022-12-08T20:27:47.545Z"
   },
   {
    "duration": 5,
    "start_time": "2022-12-08T20:27:47.601Z"
   },
   {
    "duration": 13,
    "start_time": "2022-12-08T20:27:47.608Z"
   },
   {
    "duration": 298,
    "start_time": "2022-12-08T20:27:47.623Z"
   },
   {
    "duration": 305,
    "start_time": "2022-12-08T20:27:47.922Z"
   },
   {
    "duration": 225,
    "start_time": "2022-12-08T20:27:48.231Z"
   },
   {
    "duration": 328,
    "start_time": "2022-12-08T20:27:48.458Z"
   },
   {
    "duration": 228,
    "start_time": "2022-12-08T20:27:48.788Z"
   },
   {
    "duration": 328,
    "start_time": "2022-12-08T20:27:49.018Z"
   },
   {
    "duration": 171,
    "start_time": "2022-12-08T20:27:49.348Z"
   },
   {
    "duration": 4,
    "start_time": "2022-12-08T20:27:49.521Z"
   },
   {
    "duration": 172,
    "start_time": "2022-12-08T20:27:49.526Z"
   },
   {
    "duration": 4,
    "start_time": "2022-12-08T20:27:49.700Z"
   },
   {
    "duration": 320,
    "start_time": "2022-12-08T20:27:49.706Z"
   },
   {
    "duration": 152,
    "start_time": "2022-12-08T20:27:50.028Z"
   },
   {
    "duration": 35,
    "start_time": "2022-12-08T20:27:50.182Z"
   },
   {
    "duration": 13,
    "start_time": "2022-12-08T20:27:50.220Z"
   },
   {
    "duration": 10,
    "start_time": "2022-12-08T20:27:50.235Z"
   },
   {
    "duration": 17,
    "start_time": "2022-12-08T20:27:50.247Z"
   },
   {
    "duration": 23,
    "start_time": "2022-12-08T20:27:50.297Z"
   },
   {
    "duration": 17,
    "start_time": "2022-12-08T20:27:50.322Z"
   },
   {
    "duration": 381,
    "start_time": "2022-12-09T17:20:36.977Z"
   },
   {
    "duration": 28,
    "start_time": "2022-12-09T17:20:37.361Z"
   },
   {
    "duration": 17,
    "start_time": "2022-12-09T17:20:37.391Z"
   },
   {
    "duration": 17,
    "start_time": "2022-12-09T17:20:37.410Z"
   },
   {
    "duration": 19,
    "start_time": "2022-12-09T17:20:37.430Z"
   },
   {
    "duration": 7,
    "start_time": "2022-12-09T17:20:37.451Z"
   },
   {
    "duration": 10,
    "start_time": "2022-12-09T17:20:37.460Z"
   },
   {
    "duration": 314,
    "start_time": "2022-12-09T17:20:37.472Z"
   },
   {
    "duration": 6,
    "start_time": "2022-12-09T17:20:37.787Z"
   },
   {
    "duration": 21,
    "start_time": "2022-12-09T17:20:37.795Z"
   },
   {
    "duration": 35,
    "start_time": "2022-12-09T17:20:37.819Z"
   },
   {
    "duration": 522,
    "start_time": "2022-12-09T17:20:37.857Z"
   },
   {
    "duration": 69,
    "start_time": "2022-12-09T17:20:38.381Z"
   },
   {
    "duration": 27,
    "start_time": "2022-12-09T17:20:38.455Z"
   },
   {
    "duration": 11,
    "start_time": "2022-12-09T17:20:38.484Z"
   },
   {
    "duration": 28,
    "start_time": "2022-12-09T17:20:38.497Z"
   },
   {
    "duration": 16,
    "start_time": "2022-12-09T17:20:38.529Z"
   },
   {
    "duration": 10,
    "start_time": "2022-12-09T17:20:38.547Z"
   },
   {
    "duration": 24,
    "start_time": "2022-12-09T17:20:38.559Z"
   },
   {
    "duration": 23,
    "start_time": "2022-12-09T17:20:38.585Z"
   },
   {
    "duration": 11,
    "start_time": "2022-12-09T17:20:38.610Z"
   },
   {
    "duration": 6,
    "start_time": "2022-12-09T17:20:38.623Z"
   },
   {
    "duration": 10,
    "start_time": "2022-12-09T17:20:38.635Z"
   },
   {
    "duration": 10,
    "start_time": "2022-12-09T17:20:38.646Z"
   },
   {
    "duration": 18,
    "start_time": "2022-12-09T17:20:38.658Z"
   },
   {
    "duration": 352,
    "start_time": "2022-12-09T17:20:38.678Z"
   },
   {
    "duration": 320,
    "start_time": "2022-12-09T17:20:39.034Z"
   },
   {
    "duration": 248,
    "start_time": "2022-12-09T17:20:39.357Z"
   },
   {
    "duration": 348,
    "start_time": "2022-12-09T17:20:39.606Z"
   },
   {
    "duration": 246,
    "start_time": "2022-12-09T17:20:39.956Z"
   },
   {
    "duration": 350,
    "start_time": "2022-12-09T17:20:40.204Z"
   },
   {
    "duration": 182,
    "start_time": "2022-12-09T17:20:40.555Z"
   },
   {
    "duration": 5,
    "start_time": "2022-12-09T17:20:40.739Z"
   },
   {
    "duration": 172,
    "start_time": "2022-12-09T17:20:40.746Z"
   },
   {
    "duration": 5,
    "start_time": "2022-12-09T17:20:40.920Z"
   },
   {
    "duration": 345,
    "start_time": "2022-12-09T17:20:40.936Z"
   },
   {
    "duration": 134,
    "start_time": "2022-12-09T17:20:41.284Z"
   },
   {
    "duration": 41,
    "start_time": "2022-12-09T17:20:41.420Z"
   },
   {
    "duration": 25,
    "start_time": "2022-12-09T17:20:41.463Z"
   },
   {
    "duration": 37,
    "start_time": "2022-12-09T17:20:41.490Z"
   },
   {
    "duration": 26,
    "start_time": "2022-12-09T17:20:41.532Z"
   },
   {
    "duration": 63,
    "start_time": "2022-12-09T17:20:41.560Z"
   },
   {
    "duration": 25,
    "start_time": "2022-12-09T17:20:41.625Z"
   },
   {
    "duration": 7,
    "start_time": "2022-12-09T17:24:14.142Z"
   },
   {
    "duration": 6,
    "start_time": "2022-12-09T17:24:18.541Z"
   },
   {
    "duration": 9,
    "start_time": "2022-12-09T17:26:38.269Z"
   },
   {
    "duration": 13,
    "start_time": "2022-12-09T17:27:43.080Z"
   },
   {
    "duration": 10,
    "start_time": "2022-12-09T17:27:46.812Z"
   },
   {
    "duration": 5,
    "start_time": "2022-12-09T17:29:58.386Z"
   },
   {
    "duration": 7,
    "start_time": "2022-12-09T17:30:12.281Z"
   },
   {
    "duration": 52,
    "start_time": "2022-12-11T16:22:11.597Z"
   },
   {
    "duration": 411,
    "start_time": "2022-12-11T16:22:21.117Z"
   },
   {
    "duration": 73,
    "start_time": "2022-12-11T16:22:21.530Z"
   },
   {
    "duration": 18,
    "start_time": "2022-12-11T16:22:21.605Z"
   },
   {
    "duration": 18,
    "start_time": "2022-12-11T16:22:21.626Z"
   },
   {
    "duration": 13,
    "start_time": "2022-12-11T16:22:21.646Z"
   },
   {
    "duration": 12,
    "start_time": "2022-12-11T16:22:21.661Z"
   },
   {
    "duration": 11,
    "start_time": "2022-12-11T16:22:21.675Z"
   },
   {
    "duration": 485,
    "start_time": "2022-12-11T16:22:21.688Z"
   },
   {
    "duration": 6,
    "start_time": "2022-12-11T16:22:22.176Z"
   },
   {
    "duration": 15,
    "start_time": "2022-12-11T16:22:22.186Z"
   },
   {
    "duration": 14,
    "start_time": "2022-12-11T16:22:22.203Z"
   },
   {
    "duration": 558,
    "start_time": "2022-12-11T16:22:22.219Z"
   },
   {
    "duration": 160,
    "start_time": "2022-12-11T16:22:22.779Z"
   },
   {
    "duration": 20,
    "start_time": "2022-12-11T16:22:22.941Z"
   },
   {
    "duration": 30,
    "start_time": "2022-12-11T16:22:22.962Z"
   },
   {
    "duration": 24,
    "start_time": "2022-12-11T16:22:22.994Z"
   },
   {
    "duration": 20,
    "start_time": "2022-12-11T16:22:23.020Z"
   },
   {
    "duration": 17,
    "start_time": "2022-12-11T16:22:23.042Z"
   },
   {
    "duration": 45,
    "start_time": "2022-12-11T16:22:23.061Z"
   },
   {
    "duration": 18,
    "start_time": "2022-12-11T16:22:23.108Z"
   },
   {
    "duration": 9,
    "start_time": "2022-12-11T16:22:23.128Z"
   },
   {
    "duration": 7,
    "start_time": "2022-12-11T16:22:23.139Z"
   },
   {
    "duration": 11,
    "start_time": "2022-12-11T16:22:23.148Z"
   },
   {
    "duration": 9,
    "start_time": "2022-12-11T16:22:23.162Z"
   },
   {
    "duration": 15,
    "start_time": "2022-12-11T16:22:23.172Z"
   },
   {
    "duration": 310,
    "start_time": "2022-12-11T16:22:23.188Z"
   },
   {
    "duration": 303,
    "start_time": "2022-12-11T16:22:23.500Z"
   },
   {
    "duration": 249,
    "start_time": "2022-12-11T16:22:23.807Z"
   },
   {
    "duration": 381,
    "start_time": "2022-12-11T16:22:24.058Z"
   },
   {
    "duration": 238,
    "start_time": "2022-12-11T16:22:24.441Z"
   },
   {
    "duration": 331,
    "start_time": "2022-12-11T16:22:24.682Z"
   },
   {
    "duration": 193,
    "start_time": "2022-12-11T16:22:25.016Z"
   },
   {
    "duration": 6,
    "start_time": "2022-12-11T16:22:25.211Z"
   },
   {
    "duration": 192,
    "start_time": "2022-12-11T16:22:25.219Z"
   },
   {
    "duration": 5,
    "start_time": "2022-12-11T16:22:25.413Z"
   },
   {
    "duration": 330,
    "start_time": "2022-12-11T16:22:25.420Z"
   },
   {
    "duration": 136,
    "start_time": "2022-12-11T16:22:25.752Z"
   },
   {
    "duration": 33,
    "start_time": "2022-12-11T16:22:25.890Z"
   },
   {
    "duration": 11,
    "start_time": "2022-12-11T16:22:25.925Z"
   },
   {
    "duration": 10,
    "start_time": "2022-12-11T16:22:25.938Z"
   },
   {
    "duration": 9,
    "start_time": "2022-12-11T16:22:25.977Z"
   },
   {
    "duration": 26,
    "start_time": "2022-12-11T16:22:25.988Z"
   },
   {
    "duration": 14,
    "start_time": "2022-12-11T16:22:26.016Z"
   },
   {
    "duration": 441,
    "start_time": "2022-12-11T16:31:39.655Z"
   },
   {
    "duration": 29,
    "start_time": "2022-12-11T16:31:40.098Z"
   },
   {
    "duration": 24,
    "start_time": "2022-12-11T16:31:40.128Z"
   },
   {
    "duration": 18,
    "start_time": "2022-12-11T16:31:40.155Z"
   },
   {
    "duration": 22,
    "start_time": "2022-12-11T16:31:40.174Z"
   },
   {
    "duration": 26,
    "start_time": "2022-12-11T16:31:40.198Z"
   },
   {
    "duration": 26,
    "start_time": "2022-12-11T16:31:40.226Z"
   },
   {
    "duration": 323,
    "start_time": "2022-12-11T16:31:40.254Z"
   },
   {
    "duration": 7,
    "start_time": "2022-12-11T16:31:40.579Z"
   },
   {
    "duration": 20,
    "start_time": "2022-12-11T16:31:40.588Z"
   },
   {
    "duration": 23,
    "start_time": "2022-12-11T16:31:40.610Z"
   },
   {
    "duration": 550,
    "start_time": "2022-12-11T16:31:40.635Z"
   },
   {
    "duration": 63,
    "start_time": "2022-12-11T16:31:41.187Z"
   },
   {
    "duration": 22,
    "start_time": "2022-12-11T16:31:41.252Z"
   },
   {
    "duration": 12,
    "start_time": "2022-12-11T16:31:41.276Z"
   },
   {
    "duration": 11,
    "start_time": "2022-12-11T16:31:41.290Z"
   },
   {
    "duration": 7,
    "start_time": "2022-12-11T16:31:41.303Z"
   },
   {
    "duration": 9,
    "start_time": "2022-12-11T16:31:41.312Z"
   },
   {
    "duration": 14,
    "start_time": "2022-12-11T16:31:41.323Z"
   },
   {
    "duration": 40,
    "start_time": "2022-12-11T16:31:41.338Z"
   },
   {
    "duration": 6,
    "start_time": "2022-12-11T16:31:41.380Z"
   },
   {
    "duration": 10,
    "start_time": "2022-12-11T16:31:41.388Z"
   },
   {
    "duration": 12,
    "start_time": "2022-12-11T16:31:41.400Z"
   },
   {
    "duration": 9,
    "start_time": "2022-12-11T16:31:41.413Z"
   },
   {
    "duration": 15,
    "start_time": "2022-12-11T16:31:41.424Z"
   },
   {
    "duration": 317,
    "start_time": "2022-12-11T16:31:41.441Z"
   },
   {
    "duration": 319,
    "start_time": "2022-12-11T16:31:41.760Z"
   },
   {
    "duration": 233,
    "start_time": "2022-12-11T16:31:42.083Z"
   },
   {
    "duration": 291,
    "start_time": "2022-12-11T16:31:42.318Z"
   },
   {
    "duration": 240,
    "start_time": "2022-12-11T16:31:42.611Z"
   },
   {
    "duration": 350,
    "start_time": "2022-12-11T16:31:42.852Z"
   },
   {
    "duration": 189,
    "start_time": "2022-12-11T16:31:43.204Z"
   },
   {
    "duration": 4,
    "start_time": "2022-12-11T16:31:43.395Z"
   },
   {
    "duration": 215,
    "start_time": "2022-12-11T16:31:43.401Z"
   },
   {
    "duration": 4,
    "start_time": "2022-12-11T16:31:43.618Z"
   },
   {
    "duration": 345,
    "start_time": "2022-12-11T16:31:43.624Z"
   },
   {
    "duration": 128,
    "start_time": "2022-12-11T16:31:43.971Z"
   },
   {
    "duration": 26,
    "start_time": "2022-12-11T16:31:44.101Z"
   },
   {
    "duration": 10,
    "start_time": "2022-12-11T16:31:44.129Z"
   },
   {
    "duration": 9,
    "start_time": "2022-12-11T16:31:44.141Z"
   },
   {
    "duration": 32,
    "start_time": "2022-12-11T16:31:44.151Z"
   },
   {
    "duration": 26,
    "start_time": "2022-12-11T16:31:44.185Z"
   },
   {
    "duration": 16,
    "start_time": "2022-12-11T16:31:44.213Z"
   },
   {
    "duration": 108,
    "start_time": "2022-12-11T16:39:27.991Z"
   },
   {
    "duration": 12,
    "start_time": "2022-12-11T16:39:39.103Z"
   },
   {
    "duration": 206,
    "start_time": "2022-12-11T16:43:08.208Z"
   },
   {
    "duration": 138,
    "start_time": "2022-12-11T16:43:24.397Z"
   },
   {
    "duration": 260,
    "start_time": "2022-12-11T16:45:21.558Z"
   },
   {
    "duration": 278,
    "start_time": "2022-12-11T16:47:21.343Z"
   },
   {
    "duration": 860,
    "start_time": "2022-12-11T16:47:46.306Z"
   },
   {
    "duration": 259,
    "start_time": "2022-12-11T16:48:01.771Z"
   },
   {
    "duration": 281,
    "start_time": "2022-12-11T16:48:25.860Z"
   },
   {
    "duration": 295,
    "start_time": "2022-12-11T16:49:55.177Z"
   },
   {
    "duration": 269,
    "start_time": "2022-12-11T16:50:52.452Z"
   },
   {
    "duration": 4,
    "start_time": "2022-12-11T16:51:56.753Z"
   },
   {
    "duration": 177,
    "start_time": "2022-12-11T16:52:03.873Z"
   },
   {
    "duration": 296,
    "start_time": "2022-12-11T16:52:33.884Z"
   },
   {
    "duration": 287,
    "start_time": "2022-12-11T16:52:40.861Z"
   },
   {
    "duration": 10,
    "start_time": "2022-12-11T16:55:08.654Z"
   },
   {
    "duration": 363,
    "start_time": "2022-12-11T16:55:26.788Z"
   },
   {
    "duration": 267,
    "start_time": "2022-12-11T17:04:22.807Z"
   },
   {
    "duration": 275,
    "start_time": "2022-12-11T17:05:05.152Z"
   },
   {
    "duration": 270,
    "start_time": "2022-12-11T17:05:29.420Z"
   },
   {
    "duration": 294,
    "start_time": "2022-12-11T17:05:45.471Z"
   },
   {
    "duration": 284,
    "start_time": "2022-12-11T17:06:29.256Z"
   },
   {
    "duration": 308,
    "start_time": "2022-12-11T17:08:09.983Z"
   },
   {
    "duration": 353,
    "start_time": "2022-12-11T17:08:25.809Z"
   },
   {
    "duration": 326,
    "start_time": "2022-12-11T17:08:36.480Z"
   },
   {
    "duration": 406,
    "start_time": "2022-12-11T17:13:10.832Z"
   },
   {
    "duration": 28,
    "start_time": "2022-12-11T17:13:11.240Z"
   },
   {
    "duration": 16,
    "start_time": "2022-12-11T17:13:11.270Z"
   },
   {
    "duration": 12,
    "start_time": "2022-12-11T17:13:11.289Z"
   },
   {
    "duration": 20,
    "start_time": "2022-12-11T17:13:11.304Z"
   },
   {
    "duration": 5,
    "start_time": "2022-12-11T17:13:11.327Z"
   },
   {
    "duration": 7,
    "start_time": "2022-12-11T17:13:11.334Z"
   },
   {
    "duration": 385,
    "start_time": "2022-12-11T17:13:11.342Z"
   },
   {
    "duration": 6,
    "start_time": "2022-12-11T17:13:11.729Z"
   },
   {
    "duration": 13,
    "start_time": "2022-12-11T17:13:11.738Z"
   },
   {
    "duration": 29,
    "start_time": "2022-12-11T17:13:11.753Z"
   },
   {
    "duration": 115,
    "start_time": "2022-12-11T17:13:11.784Z"
   },
   {
    "duration": 0,
    "start_time": "2022-12-11T17:13:11.901Z"
   },
   {
    "duration": 0,
    "start_time": "2022-12-11T17:13:11.903Z"
   },
   {
    "duration": 0,
    "start_time": "2022-12-11T17:13:11.904Z"
   },
   {
    "duration": 0,
    "start_time": "2022-12-11T17:13:11.907Z"
   },
   {
    "duration": 0,
    "start_time": "2022-12-11T17:13:11.908Z"
   },
   {
    "duration": 0,
    "start_time": "2022-12-11T17:13:11.909Z"
   },
   {
    "duration": 0,
    "start_time": "2022-12-11T17:13:11.910Z"
   },
   {
    "duration": 0,
    "start_time": "2022-12-11T17:13:11.915Z"
   },
   {
    "duration": 0,
    "start_time": "2022-12-11T17:13:11.916Z"
   },
   {
    "duration": 0,
    "start_time": "2022-12-11T17:13:11.918Z"
   },
   {
    "duration": 0,
    "start_time": "2022-12-11T17:13:11.919Z"
   },
   {
    "duration": 0,
    "start_time": "2022-12-11T17:13:11.920Z"
   },
   {
    "duration": 0,
    "start_time": "2022-12-11T17:13:11.921Z"
   },
   {
    "duration": 0,
    "start_time": "2022-12-11T17:13:11.922Z"
   },
   {
    "duration": 0,
    "start_time": "2022-12-11T17:13:11.923Z"
   },
   {
    "duration": 0,
    "start_time": "2022-12-11T17:13:11.924Z"
   },
   {
    "duration": 0,
    "start_time": "2022-12-11T17:13:11.925Z"
   },
   {
    "duration": 0,
    "start_time": "2022-12-11T17:13:11.926Z"
   },
   {
    "duration": 0,
    "start_time": "2022-12-11T17:13:11.927Z"
   },
   {
    "duration": 0,
    "start_time": "2022-12-11T17:13:11.928Z"
   },
   {
    "duration": 0,
    "start_time": "2022-12-11T17:13:11.929Z"
   },
   {
    "duration": 0,
    "start_time": "2022-12-11T17:13:11.930Z"
   },
   {
    "duration": 0,
    "start_time": "2022-12-11T17:13:11.931Z"
   },
   {
    "duration": 0,
    "start_time": "2022-12-11T17:13:11.978Z"
   },
   {
    "duration": 0,
    "start_time": "2022-12-11T17:13:11.980Z"
   },
   {
    "duration": 0,
    "start_time": "2022-12-11T17:13:11.983Z"
   },
   {
    "duration": 0,
    "start_time": "2022-12-11T17:13:11.984Z"
   },
   {
    "duration": 0,
    "start_time": "2022-12-11T17:13:11.986Z"
   },
   {
    "duration": 0,
    "start_time": "2022-12-11T17:13:11.988Z"
   },
   {
    "duration": 0,
    "start_time": "2022-12-11T17:13:11.991Z"
   },
   {
    "duration": 0,
    "start_time": "2022-12-11T17:13:11.992Z"
   },
   {
    "duration": 0,
    "start_time": "2022-12-11T17:13:11.994Z"
   },
   {
    "duration": 3,
    "start_time": "2022-12-11T17:14:46.347Z"
   },
   {
    "duration": 670,
    "start_time": "2022-12-11T17:14:51.513Z"
   },
   {
    "duration": 28,
    "start_time": "2022-12-11T17:14:52.185Z"
   },
   {
    "duration": 12,
    "start_time": "2022-12-11T17:14:52.215Z"
   },
   {
    "duration": 10,
    "start_time": "2022-12-11T17:14:52.229Z"
   },
   {
    "duration": 16,
    "start_time": "2022-12-11T17:14:52.240Z"
   },
   {
    "duration": 14,
    "start_time": "2022-12-11T17:14:52.258Z"
   },
   {
    "duration": 8,
    "start_time": "2022-12-11T17:14:52.274Z"
   },
   {
    "duration": 55,
    "start_time": "2022-12-11T17:14:52.284Z"
   },
   {
    "duration": 5,
    "start_time": "2022-12-11T17:14:52.341Z"
   },
   {
    "duration": 20,
    "start_time": "2022-12-11T17:14:52.349Z"
   },
   {
    "duration": 19,
    "start_time": "2022-12-11T17:14:52.371Z"
   },
   {
    "duration": 332,
    "start_time": "2022-12-11T17:14:52.391Z"
   },
   {
    "duration": 497,
    "start_time": "2022-12-11T17:14:52.725Z"
   },
   {
    "duration": 63,
    "start_time": "2022-12-11T17:14:53.224Z"
   },
   {
    "duration": 19,
    "start_time": "2022-12-11T17:14:53.289Z"
   },
   {
    "duration": 10,
    "start_time": "2022-12-11T17:14:53.310Z"
   },
   {
    "duration": 13,
    "start_time": "2022-12-11T17:14:53.322Z"
   },
   {
    "duration": 9,
    "start_time": "2022-12-11T17:14:53.336Z"
   },
   {
    "duration": 12,
    "start_time": "2022-12-11T17:14:53.347Z"
   },
   {
    "duration": 21,
    "start_time": "2022-12-11T17:14:53.360Z"
   },
   {
    "duration": 12,
    "start_time": "2022-12-11T17:14:53.382Z"
   },
   {
    "duration": 8,
    "start_time": "2022-12-11T17:14:53.396Z"
   },
   {
    "duration": 11,
    "start_time": "2022-12-11T17:14:53.406Z"
   },
   {
    "duration": 13,
    "start_time": "2022-12-11T17:14:53.419Z"
   },
   {
    "duration": 5,
    "start_time": "2022-12-11T17:14:53.434Z"
   },
   {
    "duration": 14,
    "start_time": "2022-12-11T17:14:53.441Z"
   },
   {
    "duration": 300,
    "start_time": "2022-12-11T17:14:53.477Z"
   },
   {
    "duration": 304,
    "start_time": "2022-12-11T17:14:53.780Z"
   },
   {
    "duration": 228,
    "start_time": "2022-12-11T17:14:54.086Z"
   },
   {
    "duration": 297,
    "start_time": "2022-12-11T17:14:54.316Z"
   },
   {
    "duration": 240,
    "start_time": "2022-12-11T17:14:54.614Z"
   },
   {
    "duration": 344,
    "start_time": "2022-12-11T17:14:54.856Z"
   },
   {
    "duration": 184,
    "start_time": "2022-12-11T17:14:55.202Z"
   },
   {
    "duration": 5,
    "start_time": "2022-12-11T17:14:55.388Z"
   },
   {
    "duration": 264,
    "start_time": "2022-12-11T17:14:55.395Z"
   },
   {
    "duration": 5,
    "start_time": "2022-12-11T17:14:55.661Z"
   },
   {
    "duration": 265,
    "start_time": "2022-12-11T17:14:55.677Z"
   },
   {
    "duration": 121,
    "start_time": "2022-12-11T17:14:55.944Z"
   },
   {
    "duration": 30,
    "start_time": "2022-12-11T17:14:56.067Z"
   },
   {
    "duration": 11,
    "start_time": "2022-12-11T17:14:56.099Z"
   },
   {
    "duration": 9,
    "start_time": "2022-12-11T17:14:56.112Z"
   },
   {
    "duration": 13,
    "start_time": "2022-12-11T17:14:56.123Z"
   },
   {
    "duration": 44,
    "start_time": "2022-12-11T17:14:56.137Z"
   },
   {
    "duration": 14,
    "start_time": "2022-12-11T17:14:56.183Z"
   },
   {
    "duration": 311,
    "start_time": "2022-12-11T17:16:06.495Z"
   },
   {
    "duration": 310,
    "start_time": "2022-12-11T17:16:13.200Z"
   },
   {
    "duration": 304,
    "start_time": "2022-12-11T17:19:43.125Z"
   },
   {
    "duration": 310,
    "start_time": "2022-12-11T17:20:05.865Z"
   },
   {
    "duration": 303,
    "start_time": "2022-12-11T17:20:27.574Z"
   },
   {
    "duration": 344,
    "start_time": "2022-12-11T17:22:41.866Z"
   },
   {
    "duration": 328,
    "start_time": "2022-12-11T17:22:58.007Z"
   },
   {
    "duration": 329,
    "start_time": "2022-12-11T17:23:04.159Z"
   },
   {
    "duration": 787,
    "start_time": "2022-12-11T17:24:20.770Z"
   },
   {
    "duration": 732,
    "start_time": "2022-12-11T17:24:35.224Z"
   },
   {
    "duration": 11,
    "start_time": "2022-12-11T17:24:42.792Z"
   },
   {
    "duration": 10,
    "start_time": "2022-12-11T17:26:54.172Z"
   },
   {
    "duration": 665,
    "start_time": "2022-12-11T17:27:00.917Z"
   },
   {
    "duration": 30,
    "start_time": "2022-12-11T17:27:01.584Z"
   },
   {
    "duration": 13,
    "start_time": "2022-12-11T17:27:01.615Z"
   },
   {
    "duration": 25,
    "start_time": "2022-12-11T17:27:01.630Z"
   },
   {
    "duration": 22,
    "start_time": "2022-12-11T17:27:01.657Z"
   },
   {
    "duration": 30,
    "start_time": "2022-12-11T17:27:01.681Z"
   },
   {
    "duration": 19,
    "start_time": "2022-12-11T17:27:01.713Z"
   },
   {
    "duration": 60,
    "start_time": "2022-12-11T17:27:01.734Z"
   },
   {
    "duration": 6,
    "start_time": "2022-12-11T17:27:01.796Z"
   },
   {
    "duration": 12,
    "start_time": "2022-12-11T17:27:01.805Z"
   },
   {
    "duration": 29,
    "start_time": "2022-12-11T17:27:01.819Z"
   },
   {
    "duration": 354,
    "start_time": "2022-12-11T17:27:01.850Z"
   },
   {
    "duration": 501,
    "start_time": "2022-12-11T17:27:02.206Z"
   },
   {
    "duration": 65,
    "start_time": "2022-12-11T17:27:02.708Z"
   },
   {
    "duration": 21,
    "start_time": "2022-12-11T17:27:02.775Z"
   },
   {
    "duration": 11,
    "start_time": "2022-12-11T17:27:02.797Z"
   },
   {
    "duration": 14,
    "start_time": "2022-12-11T17:27:02.810Z"
   },
   {
    "duration": 7,
    "start_time": "2022-12-11T17:27:02.826Z"
   },
   {
    "duration": 7,
    "start_time": "2022-12-11T17:27:02.835Z"
   },
   {
    "duration": 38,
    "start_time": "2022-12-11T17:27:02.844Z"
   },
   {
    "duration": 16,
    "start_time": "2022-12-11T17:27:02.884Z"
   },
   {
    "duration": 10,
    "start_time": "2022-12-11T17:27:02.901Z"
   },
   {
    "duration": 6,
    "start_time": "2022-12-11T17:27:02.912Z"
   },
   {
    "duration": 12,
    "start_time": "2022-12-11T17:27:02.920Z"
   },
   {
    "duration": 9,
    "start_time": "2022-12-11T17:27:02.934Z"
   },
   {
    "duration": 35,
    "start_time": "2022-12-11T17:27:02.944Z"
   },
   {
    "duration": 14,
    "start_time": "2022-12-11T17:27:02.981Z"
   },
   {
    "duration": 322,
    "start_time": "2022-12-11T17:27:02.999Z"
   },
   {
    "duration": 319,
    "start_time": "2022-12-11T17:27:03.323Z"
   },
   {
    "duration": 236,
    "start_time": "2022-12-11T17:27:03.645Z"
   },
   {
    "duration": 319,
    "start_time": "2022-12-11T17:27:03.883Z"
   },
   {
    "duration": 246,
    "start_time": "2022-12-11T17:27:04.204Z"
   },
   {
    "duration": 351,
    "start_time": "2022-12-11T17:27:04.451Z"
   },
   {
    "duration": 185,
    "start_time": "2022-12-11T17:27:04.804Z"
   },
   {
    "duration": 5,
    "start_time": "2022-12-11T17:27:04.991Z"
   },
   {
    "duration": 262,
    "start_time": "2022-12-11T17:27:04.998Z"
   },
   {
    "duration": 14,
    "start_time": "2022-12-11T17:27:05.263Z"
   },
   {
    "duration": 256,
    "start_time": "2022-12-11T17:27:05.280Z"
   },
   {
    "duration": 150,
    "start_time": "2022-12-11T17:27:05.538Z"
   },
   {
    "duration": 26,
    "start_time": "2022-12-11T17:27:05.690Z"
   },
   {
    "duration": 11,
    "start_time": "2022-12-11T17:27:05.719Z"
   },
   {
    "duration": 10,
    "start_time": "2022-12-11T17:27:05.732Z"
   },
   {
    "duration": 40,
    "start_time": "2022-12-11T17:27:05.744Z"
   },
   {
    "duration": 24,
    "start_time": "2022-12-11T17:27:05.786Z"
   },
   {
    "duration": 15,
    "start_time": "2022-12-11T17:27:05.812Z"
   },
   {
    "duration": 10,
    "start_time": "2022-12-11T17:28:18.087Z"
   },
   {
    "duration": 164,
    "start_time": "2022-12-11T17:39:31.040Z"
   },
   {
    "duration": 216,
    "start_time": "2022-12-11T17:41:28.272Z"
   },
   {
    "duration": 171,
    "start_time": "2022-12-11T17:41:49.817Z"
   },
   {
    "duration": 170,
    "start_time": "2022-12-11T17:42:13.356Z"
   },
   {
    "duration": 163,
    "start_time": "2022-12-11T17:42:24.492Z"
   },
   {
    "duration": 157,
    "start_time": "2022-12-11T17:42:49.893Z"
   },
   {
    "duration": 191,
    "start_time": "2022-12-11T17:43:01.519Z"
   },
   {
    "duration": 169,
    "start_time": "2022-12-11T17:43:38.609Z"
   },
   {
    "duration": 167,
    "start_time": "2022-12-11T17:43:45.550Z"
   },
   {
    "duration": 169,
    "start_time": "2022-12-11T17:43:52.424Z"
   },
   {
    "duration": 177,
    "start_time": "2022-12-11T17:44:13.135Z"
   },
   {
    "duration": 286,
    "start_time": "2022-12-11T17:44:23.752Z"
   },
   {
    "duration": 174,
    "start_time": "2022-12-11T17:44:57.478Z"
   },
   {
    "duration": 159,
    "start_time": "2022-12-11T17:45:15.246Z"
   },
   {
    "duration": 155,
    "start_time": "2022-12-11T17:45:52.784Z"
   },
   {
    "duration": 180,
    "start_time": "2022-12-11T17:45:59.729Z"
   },
   {
    "duration": 155,
    "start_time": "2022-12-11T17:47:59.982Z"
   },
   {
    "duration": 167,
    "start_time": "2022-12-11T17:48:45.257Z"
   },
   {
    "duration": 163,
    "start_time": "2022-12-11T17:48:54.150Z"
   },
   {
    "duration": 662,
    "start_time": "2022-12-11T17:49:04.700Z"
   },
   {
    "duration": 29,
    "start_time": "2022-12-11T17:49:05.364Z"
   },
   {
    "duration": 12,
    "start_time": "2022-12-11T17:49:05.395Z"
   },
   {
    "duration": 10,
    "start_time": "2022-12-11T17:49:05.408Z"
   },
   {
    "duration": 14,
    "start_time": "2022-12-11T17:49:05.419Z"
   },
   {
    "duration": 7,
    "start_time": "2022-12-11T17:49:05.435Z"
   },
   {
    "duration": 18,
    "start_time": "2022-12-11T17:49:05.443Z"
   },
   {
    "duration": 57,
    "start_time": "2022-12-11T17:49:05.462Z"
   },
   {
    "duration": 5,
    "start_time": "2022-12-11T17:49:05.520Z"
   },
   {
    "duration": 21,
    "start_time": "2022-12-11T17:49:05.528Z"
   },
   {
    "duration": 26,
    "start_time": "2022-12-11T17:49:05.551Z"
   },
   {
    "duration": 349,
    "start_time": "2022-12-11T17:49:05.579Z"
   },
   {
    "duration": 538,
    "start_time": "2022-12-11T17:49:05.930Z"
   },
   {
    "duration": 64,
    "start_time": "2022-12-11T17:49:06.469Z"
   },
   {
    "duration": 20,
    "start_time": "2022-12-11T17:49:06.535Z"
   },
   {
    "duration": 11,
    "start_time": "2022-12-11T17:49:06.557Z"
   },
   {
    "duration": 13,
    "start_time": "2022-12-11T17:49:06.570Z"
   },
   {
    "duration": 16,
    "start_time": "2022-12-11T17:49:06.584Z"
   },
   {
    "duration": 15,
    "start_time": "2022-12-11T17:49:06.602Z"
   },
   {
    "duration": 14,
    "start_time": "2022-12-11T17:49:06.619Z"
   },
   {
    "duration": 17,
    "start_time": "2022-12-11T17:49:06.635Z"
   },
   {
    "duration": 8,
    "start_time": "2022-12-11T17:49:06.653Z"
   },
   {
    "duration": 16,
    "start_time": "2022-12-11T17:49:06.662Z"
   },
   {
    "duration": 10,
    "start_time": "2022-12-11T17:49:06.679Z"
   },
   {
    "duration": 8,
    "start_time": "2022-12-11T17:49:06.690Z"
   },
   {
    "duration": 13,
    "start_time": "2022-12-11T17:49:06.700Z"
   },
   {
    "duration": 323,
    "start_time": "2022-12-11T17:49:06.715Z"
   },
   {
    "duration": 304,
    "start_time": "2022-12-11T17:49:07.042Z"
   },
   {
    "duration": 229,
    "start_time": "2022-12-11T17:49:07.349Z"
   },
   {
    "duration": 330,
    "start_time": "2022-12-11T17:49:07.580Z"
   },
   {
    "duration": 242,
    "start_time": "2022-12-11T17:49:07.912Z"
   },
   {
    "duration": 388,
    "start_time": "2022-12-11T17:49:08.156Z"
   },
   {
    "duration": 185,
    "start_time": "2022-12-11T17:49:08.546Z"
   },
   {
    "duration": 5,
    "start_time": "2022-12-11T17:49:08.733Z"
   },
   {
    "duration": 259,
    "start_time": "2022-12-11T17:49:08.739Z"
   },
   {
    "duration": 177,
    "start_time": "2022-12-11T17:49:09.000Z"
   },
   {
    "duration": 4,
    "start_time": "2022-12-11T17:49:09.179Z"
   },
   {
    "duration": 248,
    "start_time": "2022-12-11T17:49:09.185Z"
   },
   {
    "duration": 156,
    "start_time": "2022-12-11T17:49:09.436Z"
   },
   {
    "duration": 28,
    "start_time": "2022-12-11T17:49:09.594Z"
   },
   {
    "duration": 14,
    "start_time": "2022-12-11T17:49:09.624Z"
   },
   {
    "duration": 49,
    "start_time": "2022-12-11T17:49:09.640Z"
   },
   {
    "duration": 34,
    "start_time": "2022-12-11T17:49:09.691Z"
   },
   {
    "duration": 41,
    "start_time": "2022-12-11T17:49:09.727Z"
   },
   {
    "duration": 15,
    "start_time": "2022-12-11T17:49:09.769Z"
   },
   {
    "duration": 167,
    "start_time": "2022-12-11T17:49:35.341Z"
   },
   {
    "duration": 157,
    "start_time": "2022-12-11T17:49:54.205Z"
   },
   {
    "duration": 161,
    "start_time": "2022-12-11T17:49:58.640Z"
   },
   {
    "duration": 165,
    "start_time": "2022-12-11T17:50:10.456Z"
   },
   {
    "duration": 165,
    "start_time": "2022-12-11T17:50:33.273Z"
   },
   {
    "duration": 159,
    "start_time": "2022-12-11T17:50:41.214Z"
   },
   {
    "duration": 171,
    "start_time": "2022-12-11T17:51:01.533Z"
   },
   {
    "duration": 267,
    "start_time": "2022-12-11T17:51:28.974Z"
   },
   {
    "duration": 162,
    "start_time": "2022-12-11T17:51:41.113Z"
   },
   {
    "duration": 171,
    "start_time": "2022-12-11T17:53:16.196Z"
   },
   {
    "duration": 259,
    "start_time": "2022-12-11T17:53:56.569Z"
   },
   {
    "duration": 159,
    "start_time": "2022-12-11T17:54:06.212Z"
   },
   {
    "duration": 161,
    "start_time": "2022-12-11T17:56:28.641Z"
   },
   {
    "duration": 804,
    "start_time": "2022-12-11T17:58:04.762Z"
   },
   {
    "duration": 30,
    "start_time": "2022-12-11T17:58:05.570Z"
   },
   {
    "duration": 13,
    "start_time": "2022-12-11T17:58:05.602Z"
   },
   {
    "duration": 11,
    "start_time": "2022-12-11T17:58:05.618Z"
   },
   {
    "duration": 16,
    "start_time": "2022-12-11T17:58:05.632Z"
   },
   {
    "duration": 8,
    "start_time": "2022-12-11T17:58:05.650Z"
   },
   {
    "duration": 7,
    "start_time": "2022-12-11T17:58:05.660Z"
   },
   {
    "duration": 63,
    "start_time": "2022-12-11T17:58:05.669Z"
   },
   {
    "duration": 6,
    "start_time": "2022-12-11T17:58:05.734Z"
   },
   {
    "duration": 37,
    "start_time": "2022-12-11T17:58:05.743Z"
   },
   {
    "duration": 15,
    "start_time": "2022-12-11T17:58:05.782Z"
   },
   {
    "duration": 382,
    "start_time": "2022-12-11T17:58:05.799Z"
   },
   {
    "duration": 595,
    "start_time": "2022-12-11T17:58:06.183Z"
   },
   {
    "duration": 64,
    "start_time": "2022-12-11T17:58:06.783Z"
   },
   {
    "duration": 23,
    "start_time": "2022-12-11T17:58:06.850Z"
   },
   {
    "duration": 20,
    "start_time": "2022-12-11T17:58:06.874Z"
   },
   {
    "duration": 19,
    "start_time": "2022-12-11T17:58:06.896Z"
   },
   {
    "duration": 27,
    "start_time": "2022-12-11T17:58:06.918Z"
   },
   {
    "duration": 23,
    "start_time": "2022-12-11T17:58:06.948Z"
   },
   {
    "duration": 20,
    "start_time": "2022-12-11T17:58:06.974Z"
   },
   {
    "duration": 15,
    "start_time": "2022-12-11T17:58:06.996Z"
   },
   {
    "duration": 10,
    "start_time": "2022-12-11T17:58:07.014Z"
   },
   {
    "duration": 8,
    "start_time": "2022-12-11T17:58:07.027Z"
   },
   {
    "duration": 19,
    "start_time": "2022-12-11T17:58:07.037Z"
   },
   {
    "duration": 6,
    "start_time": "2022-12-11T17:58:07.079Z"
   },
   {
    "duration": 23,
    "start_time": "2022-12-11T17:58:07.087Z"
   },
   {
    "duration": 357,
    "start_time": "2022-12-11T17:58:07.112Z"
   },
   {
    "duration": 336,
    "start_time": "2022-12-11T17:58:07.473Z"
   },
   {
    "duration": 251,
    "start_time": "2022-12-11T17:58:07.811Z"
   },
   {
    "duration": 386,
    "start_time": "2022-12-11T17:58:08.064Z"
   },
   {
    "duration": 287,
    "start_time": "2022-12-11T17:58:08.452Z"
   },
   {
    "duration": 377,
    "start_time": "2022-12-11T17:58:08.741Z"
   },
   {
    "duration": 179,
    "start_time": "2022-12-11T17:58:09.120Z"
   },
   {
    "duration": 4,
    "start_time": "2022-12-11T17:58:09.301Z"
   },
   {
    "duration": 266,
    "start_time": "2022-12-11T17:58:09.307Z"
   },
   {
    "duration": 179,
    "start_time": "2022-12-11T17:58:09.578Z"
   },
   {
    "duration": 17,
    "start_time": "2022-12-11T17:58:09.760Z"
   },
   {
    "duration": 258,
    "start_time": "2022-12-11T17:58:09.780Z"
   },
   {
    "duration": 128,
    "start_time": "2022-12-11T17:58:10.040Z"
   },
   {
    "duration": 41,
    "start_time": "2022-12-11T17:58:10.170Z"
   },
   {
    "duration": 12,
    "start_time": "2022-12-11T17:58:10.215Z"
   },
   {
    "duration": 11,
    "start_time": "2022-12-11T17:58:10.229Z"
   },
   {
    "duration": 17,
    "start_time": "2022-12-11T17:58:10.241Z"
   },
   {
    "duration": 35,
    "start_time": "2022-12-11T17:58:10.260Z"
   },
   {
    "duration": 16,
    "start_time": "2022-12-11T17:58:10.297Z"
   },
   {
    "duration": 702,
    "start_time": "2022-12-11T17:59:01.249Z"
   },
   {
    "duration": 29,
    "start_time": "2022-12-11T17:59:01.953Z"
   },
   {
    "duration": 11,
    "start_time": "2022-12-11T17:59:01.984Z"
   },
   {
    "duration": 21,
    "start_time": "2022-12-11T17:59:01.997Z"
   },
   {
    "duration": 37,
    "start_time": "2022-12-11T17:59:02.020Z"
   },
   {
    "duration": 13,
    "start_time": "2022-12-11T17:59:02.059Z"
   },
   {
    "duration": 12,
    "start_time": "2022-12-11T17:59:02.074Z"
   },
   {
    "duration": 62,
    "start_time": "2022-12-11T17:59:02.088Z"
   },
   {
    "duration": 6,
    "start_time": "2022-12-11T17:59:02.152Z"
   },
   {
    "duration": 15,
    "start_time": "2022-12-11T17:59:02.160Z"
   },
   {
    "duration": 13,
    "start_time": "2022-12-11T17:59:02.177Z"
   },
   {
    "duration": 342,
    "start_time": "2022-12-11T17:59:02.192Z"
   },
   {
    "duration": 515,
    "start_time": "2022-12-11T17:59:02.536Z"
   },
   {
    "duration": 62,
    "start_time": "2022-12-11T17:59:03.054Z"
   },
   {
    "duration": 20,
    "start_time": "2022-12-11T17:59:03.118Z"
   },
   {
    "duration": 11,
    "start_time": "2022-12-11T17:59:03.139Z"
   },
   {
    "duration": 15,
    "start_time": "2022-12-11T17:59:03.152Z"
   },
   {
    "duration": 5,
    "start_time": "2022-12-11T17:59:03.169Z"
   },
   {
    "duration": 8,
    "start_time": "2022-12-11T17:59:03.176Z"
   },
   {
    "duration": 18,
    "start_time": "2022-12-11T17:59:03.185Z"
   },
   {
    "duration": 20,
    "start_time": "2022-12-11T17:59:03.204Z"
   },
   {
    "duration": 15,
    "start_time": "2022-12-11T17:59:03.225Z"
   },
   {
    "duration": 6,
    "start_time": "2022-12-11T17:59:03.241Z"
   },
   {
    "duration": 11,
    "start_time": "2022-12-11T17:59:03.249Z"
   },
   {
    "duration": 8,
    "start_time": "2022-12-11T17:59:03.262Z"
   },
   {
    "duration": 17,
    "start_time": "2022-12-11T17:59:03.271Z"
   },
   {
    "duration": 304,
    "start_time": "2022-12-11T17:59:03.290Z"
   },
   {
    "duration": 309,
    "start_time": "2022-12-11T17:59:03.596Z"
   },
   {
    "duration": 237,
    "start_time": "2022-12-11T17:59:03.907Z"
   },
   {
    "duration": 350,
    "start_time": "2022-12-11T17:59:04.146Z"
   },
   {
    "duration": 250,
    "start_time": "2022-12-11T17:59:04.498Z"
   },
   {
    "duration": 352,
    "start_time": "2022-12-11T17:59:04.749Z"
   },
   {
    "duration": 270,
    "start_time": "2022-12-11T17:59:05.103Z"
   },
   {
    "duration": 4,
    "start_time": "2022-12-11T17:59:05.375Z"
   },
   {
    "duration": 182,
    "start_time": "2022-12-11T17:59:05.381Z"
   },
   {
    "duration": 180,
    "start_time": "2022-12-11T17:59:05.566Z"
   },
   {
    "duration": 5,
    "start_time": "2022-12-11T17:59:05.748Z"
   },
   {
    "duration": 265,
    "start_time": "2022-12-11T17:59:05.755Z"
   },
   {
    "duration": 134,
    "start_time": "2022-12-11T17:59:06.023Z"
   },
   {
    "duration": 38,
    "start_time": "2022-12-11T17:59:06.159Z"
   },
   {
    "duration": 11,
    "start_time": "2022-12-11T17:59:06.201Z"
   },
   {
    "duration": 10,
    "start_time": "2022-12-11T17:59:06.214Z"
   },
   {
    "duration": 12,
    "start_time": "2022-12-11T17:59:06.226Z"
   },
   {
    "duration": 50,
    "start_time": "2022-12-11T17:59:06.239Z"
   },
   {
    "duration": 14,
    "start_time": "2022-12-11T17:59:06.291Z"
   },
   {
    "duration": 28,
    "start_time": "2022-12-11T18:01:35.151Z"
   },
   {
    "duration": 49,
    "start_time": "2022-12-11T18:01:42.595Z"
   },
   {
    "duration": 27,
    "start_time": "2022-12-11T18:01:46.023Z"
   },
   {
    "duration": 32,
    "start_time": "2022-12-11T18:05:42.619Z"
   },
   {
    "duration": 26,
    "start_time": "2022-12-11T18:07:25.650Z"
   },
   {
    "duration": 28,
    "start_time": "2022-12-11T18:07:37.518Z"
   },
   {
    "duration": 28,
    "start_time": "2022-12-11T18:08:31.405Z"
   },
   {
    "duration": 25,
    "start_time": "2022-12-11T18:09:31.050Z"
   },
   {
    "duration": 28,
    "start_time": "2022-12-11T18:12:36.651Z"
   },
   {
    "duration": 14,
    "start_time": "2022-12-11T18:14:31.213Z"
   },
   {
    "duration": 52,
    "start_time": "2022-12-11T18:15:06.773Z"
   },
   {
    "duration": 47,
    "start_time": "2022-12-11T18:15:18.169Z"
   },
   {
    "duration": 15,
    "start_time": "2022-12-11T18:15:43.671Z"
   },
   {
    "duration": 12,
    "start_time": "2022-12-11T18:15:48.050Z"
   },
   {
    "duration": 14,
    "start_time": "2022-12-11T18:15:50.888Z"
   },
   {
    "duration": 27,
    "start_time": "2022-12-11T18:16:27.335Z"
   },
   {
    "duration": 23,
    "start_time": "2022-12-11T18:17:51.272Z"
   },
   {
    "duration": 25,
    "start_time": "2022-12-11T18:18:21.393Z"
   },
   {
    "duration": 16,
    "start_time": "2022-12-11T18:19:01.740Z"
   },
   {
    "duration": 18,
    "start_time": "2022-12-11T18:19:26.313Z"
   },
   {
    "duration": 14,
    "start_time": "2022-12-11T18:19:38.625Z"
   },
   {
    "duration": 17,
    "start_time": "2022-12-11T18:19:47.190Z"
   },
   {
    "duration": 700,
    "start_time": "2022-12-11T18:21:15.508Z"
   },
   {
    "duration": 29,
    "start_time": "2022-12-11T18:21:16.210Z"
   },
   {
    "duration": 13,
    "start_time": "2022-12-11T18:21:16.241Z"
   },
   {
    "duration": 8,
    "start_time": "2022-12-11T18:21:16.256Z"
   },
   {
    "duration": 14,
    "start_time": "2022-12-11T18:21:16.265Z"
   },
   {
    "duration": 7,
    "start_time": "2022-12-11T18:21:16.281Z"
   },
   {
    "duration": 7,
    "start_time": "2022-12-11T18:21:16.290Z"
   },
   {
    "duration": 57,
    "start_time": "2022-12-11T18:21:16.299Z"
   },
   {
    "duration": 23,
    "start_time": "2022-12-11T18:21:16.357Z"
   },
   {
    "duration": 15,
    "start_time": "2022-12-11T18:21:16.383Z"
   },
   {
    "duration": 14,
    "start_time": "2022-12-11T18:21:16.400Z"
   },
   {
    "duration": 372,
    "start_time": "2022-12-11T18:21:16.416Z"
   },
   {
    "duration": 494,
    "start_time": "2022-12-11T18:21:16.790Z"
   },
   {
    "duration": 65,
    "start_time": "2022-12-11T18:21:17.285Z"
   },
   {
    "duration": 22,
    "start_time": "2022-12-11T18:21:17.352Z"
   },
   {
    "duration": 13,
    "start_time": "2022-12-11T18:21:17.376Z"
   },
   {
    "duration": 22,
    "start_time": "2022-12-11T18:21:17.391Z"
   },
   {
    "duration": 13,
    "start_time": "2022-12-11T18:21:17.415Z"
   },
   {
    "duration": 11,
    "start_time": "2022-12-11T18:21:17.430Z"
   },
   {
    "duration": 15,
    "start_time": "2022-12-11T18:21:17.443Z"
   },
   {
    "duration": 22,
    "start_time": "2022-12-11T18:21:17.460Z"
   },
   {
    "duration": 25,
    "start_time": "2022-12-11T18:21:17.484Z"
   },
   {
    "duration": 10,
    "start_time": "2022-12-11T18:21:17.511Z"
   },
   {
    "duration": 17,
    "start_time": "2022-12-11T18:21:17.522Z"
   },
   {
    "duration": 10,
    "start_time": "2022-12-11T18:21:17.541Z"
   },
   {
    "duration": 19,
    "start_time": "2022-12-11T18:21:17.553Z"
   },
   {
    "duration": 323,
    "start_time": "2022-12-11T18:21:17.574Z"
   },
   {
    "duration": 320,
    "start_time": "2022-12-11T18:21:17.901Z"
   },
   {
    "duration": 313,
    "start_time": "2022-12-11T18:21:18.223Z"
   },
   {
    "duration": 344,
    "start_time": "2022-12-11T18:21:18.538Z"
   },
   {
    "duration": 247,
    "start_time": "2022-12-11T18:21:18.884Z"
   },
   {
    "duration": 374,
    "start_time": "2022-12-11T18:21:19.133Z"
   },
   {
    "duration": 186,
    "start_time": "2022-12-11T18:21:19.509Z"
   },
   {
    "duration": 4,
    "start_time": "2022-12-11T18:21:19.697Z"
   },
   {
    "duration": 279,
    "start_time": "2022-12-11T18:21:19.703Z"
   },
   {
    "duration": 179,
    "start_time": "2022-12-11T18:21:19.984Z"
   },
   {
    "duration": 5,
    "start_time": "2022-12-11T18:21:20.165Z"
   },
   {
    "duration": 254,
    "start_time": "2022-12-11T18:21:20.178Z"
   },
   {
    "duration": 146,
    "start_time": "2022-12-11T18:21:20.434Z"
   },
   {
    "duration": 27,
    "start_time": "2022-12-11T18:21:20.582Z"
   },
   {
    "duration": 11,
    "start_time": "2022-12-11T18:21:20.612Z"
   },
   {
    "duration": 10,
    "start_time": "2022-12-11T18:21:20.625Z"
   },
   {
    "duration": 16,
    "start_time": "2022-12-11T18:21:20.636Z"
   },
   {
    "duration": 45,
    "start_time": "2022-12-11T18:21:20.653Z"
   },
   {
    "duration": 15,
    "start_time": "2022-12-11T18:21:20.700Z"
   },
   {
    "duration": 15,
    "start_time": "2022-12-11T18:26:59.261Z"
   },
   {
    "duration": 872,
    "start_time": "2022-12-12T15:30:06.433Z"
   },
   {
    "duration": 72,
    "start_time": "2022-12-12T15:30:07.308Z"
   },
   {
    "duration": 13,
    "start_time": "2022-12-12T15:30:07.382Z"
   },
   {
    "duration": 9,
    "start_time": "2022-12-12T15:30:07.396Z"
   },
   {
    "duration": 13,
    "start_time": "2022-12-12T15:30:07.407Z"
   },
   {
    "duration": 6,
    "start_time": "2022-12-12T15:30:07.422Z"
   },
   {
    "duration": 7,
    "start_time": "2022-12-12T15:30:07.430Z"
   },
   {
    "duration": 60,
    "start_time": "2022-12-12T15:30:07.439Z"
   },
   {
    "duration": 15,
    "start_time": "2022-12-12T15:30:07.501Z"
   },
   {
    "duration": 19,
    "start_time": "2022-12-12T15:30:07.518Z"
   },
   {
    "duration": 12,
    "start_time": "2022-12-12T15:30:07.539Z"
   },
   {
    "duration": 372,
    "start_time": "2022-12-12T15:30:07.553Z"
   },
   {
    "duration": 475,
    "start_time": "2022-12-12T15:30:07.927Z"
   },
   {
    "duration": 172,
    "start_time": "2022-12-12T15:30:08.405Z"
   },
   {
    "duration": 21,
    "start_time": "2022-12-12T15:30:08.579Z"
   },
   {
    "duration": 10,
    "start_time": "2022-12-12T15:30:08.602Z"
   },
   {
    "duration": 12,
    "start_time": "2022-12-12T15:30:08.614Z"
   },
   {
    "duration": 6,
    "start_time": "2022-12-12T15:30:08.627Z"
   },
   {
    "duration": 8,
    "start_time": "2022-12-12T15:30:08.635Z"
   },
   {
    "duration": 19,
    "start_time": "2022-12-12T15:30:08.645Z"
   },
   {
    "duration": 48,
    "start_time": "2022-12-12T15:30:08.666Z"
   },
   {
    "duration": 10,
    "start_time": "2022-12-12T15:30:08.716Z"
   },
   {
    "duration": 9,
    "start_time": "2022-12-12T15:30:08.728Z"
   },
   {
    "duration": 14,
    "start_time": "2022-12-12T15:30:08.739Z"
   },
   {
    "duration": 8,
    "start_time": "2022-12-12T15:30:08.754Z"
   },
   {
    "duration": 17,
    "start_time": "2022-12-12T15:30:08.764Z"
   },
   {
    "duration": 320,
    "start_time": "2022-12-12T15:30:08.812Z"
   },
   {
    "duration": 332,
    "start_time": "2022-12-12T15:30:09.134Z"
   },
   {
    "duration": 249,
    "start_time": "2022-12-12T15:30:09.468Z"
   },
   {
    "duration": 356,
    "start_time": "2022-12-12T15:30:09.719Z"
   },
   {
    "duration": 244,
    "start_time": "2022-12-12T15:30:10.077Z"
   },
   {
    "duration": 330,
    "start_time": "2022-12-12T15:30:10.323Z"
   },
   {
    "duration": 257,
    "start_time": "2022-12-12T15:30:10.655Z"
   },
   {
    "duration": 4,
    "start_time": "2022-12-12T15:30:10.914Z"
   },
   {
    "duration": 181,
    "start_time": "2022-12-12T15:30:10.919Z"
   },
   {
    "duration": 171,
    "start_time": "2022-12-12T15:30:11.101Z"
   },
   {
    "duration": 3,
    "start_time": "2022-12-12T15:30:11.274Z"
   },
   {
    "duration": 252,
    "start_time": "2022-12-12T15:30:11.279Z"
   },
   {
    "duration": 142,
    "start_time": "2022-12-12T15:30:11.533Z"
   },
   {
    "duration": 25,
    "start_time": "2022-12-12T15:30:11.676Z"
   },
   {
    "duration": 10,
    "start_time": "2022-12-12T15:30:11.715Z"
   },
   {
    "duration": 10,
    "start_time": "2022-12-12T15:30:11.727Z"
   },
   {
    "duration": 19,
    "start_time": "2022-12-12T15:30:11.739Z"
   },
   {
    "duration": 25,
    "start_time": "2022-12-12T15:30:11.760Z"
   },
   {
    "duration": 36,
    "start_time": "2022-12-12T15:30:11.787Z"
   },
   {
    "duration": 129,
    "start_time": "2022-12-12T15:42:03.133Z"
   },
   {
    "duration": 356,
    "start_time": "2022-12-12T15:42:11.957Z"
   },
   {
    "duration": 669,
    "start_time": "2022-12-13T17:41:21.323Z"
   },
   {
    "duration": 84,
    "start_time": "2022-12-13T18:10:49.200Z"
   },
   {
    "duration": 10,
    "start_time": "2022-12-13T20:09:04.590Z"
   },
   {
    "duration": 621,
    "start_time": "2022-12-13T20:09:11.293Z"
   },
   {
    "duration": 70,
    "start_time": "2022-12-13T20:09:11.917Z"
   },
   {
    "duration": 15,
    "start_time": "2022-12-13T20:09:11.989Z"
   },
   {
    "duration": 19,
    "start_time": "2022-12-13T20:09:12.007Z"
   },
   {
    "duration": 37,
    "start_time": "2022-12-13T20:09:12.028Z"
   },
   {
    "duration": 20,
    "start_time": "2022-12-13T20:09:12.066Z"
   },
   {
    "duration": 30,
    "start_time": "2022-12-13T20:09:12.088Z"
   },
   {
    "duration": 65,
    "start_time": "2022-12-13T20:09:12.121Z"
   },
   {
    "duration": 5,
    "start_time": "2022-12-13T20:09:12.189Z"
   },
   {
    "duration": 14,
    "start_time": "2022-12-13T20:09:12.428Z"
   },
   {
    "duration": 27,
    "start_time": "2022-12-13T20:09:12.451Z"
   },
   {
    "duration": 401,
    "start_time": "2022-12-13T20:09:12.481Z"
   },
   {
    "duration": 491,
    "start_time": "2022-12-13T20:09:12.883Z"
   },
   {
    "duration": 205,
    "start_time": "2022-12-13T20:09:13.376Z"
   },
   {
    "duration": 17,
    "start_time": "2022-12-13T20:09:13.583Z"
   },
   {
    "duration": 9,
    "start_time": "2022-12-13T20:09:13.602Z"
   },
   {
    "duration": 14,
    "start_time": "2022-12-13T20:09:13.613Z"
   },
   {
    "duration": 9,
    "start_time": "2022-12-13T20:09:13.629Z"
   },
   {
    "duration": 10,
    "start_time": "2022-12-13T20:09:13.639Z"
   },
   {
    "duration": 13,
    "start_time": "2022-12-13T20:09:13.650Z"
   },
   {
    "duration": 21,
    "start_time": "2022-12-13T20:09:13.666Z"
   },
   {
    "duration": 7,
    "start_time": "2022-12-13T20:09:13.689Z"
   },
   {
    "duration": 11,
    "start_time": "2022-12-13T20:09:13.697Z"
   },
   {
    "duration": 18,
    "start_time": "2022-12-13T20:09:13.710Z"
   },
   {
    "duration": 20,
    "start_time": "2022-12-13T20:09:13.730Z"
   },
   {
    "duration": 13,
    "start_time": "2022-12-13T20:09:13.751Z"
   },
   {
    "duration": 299,
    "start_time": "2022-12-13T20:09:13.766Z"
   },
   {
    "duration": 294,
    "start_time": "2022-12-13T20:09:14.066Z"
   },
   {
    "duration": 222,
    "start_time": "2022-12-13T20:09:14.362Z"
   },
   {
    "duration": 372,
    "start_time": "2022-12-13T20:09:14.585Z"
   },
   {
    "duration": 378,
    "start_time": "2022-12-13T20:09:14.960Z"
   },
   {
    "duration": 341,
    "start_time": "2022-12-13T20:09:15.339Z"
   },
   {
    "duration": 245,
    "start_time": "2022-12-13T20:09:15.681Z"
   },
   {
    "duration": 8,
    "start_time": "2022-12-13T20:09:15.928Z"
   },
   {
    "duration": 165,
    "start_time": "2022-12-13T20:09:15.938Z"
   },
   {
    "duration": 173,
    "start_time": "2022-12-13T20:09:16.105Z"
   },
   {
    "duration": 4,
    "start_time": "2022-12-13T20:09:16.280Z"
   },
   {
    "duration": 245,
    "start_time": "2022-12-13T20:09:16.285Z"
   },
   {
    "duration": 134,
    "start_time": "2022-12-13T20:09:16.537Z"
   },
   {
    "duration": 29,
    "start_time": "2022-12-13T20:09:16.673Z"
   },
   {
    "duration": 31,
    "start_time": "2022-12-13T20:09:16.704Z"
   },
   {
    "duration": 14,
    "start_time": "2022-12-13T20:09:16.737Z"
   },
   {
    "duration": 23,
    "start_time": "2022-12-13T20:09:16.753Z"
   },
   {
    "duration": 47,
    "start_time": "2022-12-13T20:09:16.778Z"
   },
   {
    "duration": 18,
    "start_time": "2022-12-13T20:09:16.828Z"
   },
   {
    "duration": 1153,
    "start_time": "2022-12-14T14:53:22.356Z"
   },
   {
    "duration": 626,
    "start_time": "2022-12-14T14:53:29.007Z"
   },
   {
    "duration": 68,
    "start_time": "2022-12-14T14:53:29.635Z"
   },
   {
    "duration": 11,
    "start_time": "2022-12-14T14:53:29.705Z"
   },
   {
    "duration": 14,
    "start_time": "2022-12-14T14:53:29.718Z"
   },
   {
    "duration": 25,
    "start_time": "2022-12-14T14:53:29.734Z"
   },
   {
    "duration": 12,
    "start_time": "2022-12-14T14:53:29.760Z"
   },
   {
    "duration": 18,
    "start_time": "2022-12-14T14:53:29.773Z"
   },
   {
    "duration": 58,
    "start_time": "2022-12-14T14:53:29.793Z"
   },
   {
    "duration": 4,
    "start_time": "2022-12-14T14:53:29.853Z"
   },
   {
    "duration": 26,
    "start_time": "2022-12-14T14:53:29.860Z"
   },
   {
    "duration": 38,
    "start_time": "2022-12-14T14:53:29.888Z"
   },
   {
    "duration": 297,
    "start_time": "2022-12-14T14:53:29.928Z"
   },
   {
    "duration": 460,
    "start_time": "2022-12-14T14:53:30.227Z"
   },
   {
    "duration": 155,
    "start_time": "2022-12-14T14:53:30.689Z"
   },
   {
    "duration": 20,
    "start_time": "2022-12-14T14:53:30.845Z"
   },
   {
    "duration": 46,
    "start_time": "2022-12-14T14:53:30.866Z"
   },
   {
    "duration": 63,
    "start_time": "2022-12-14T14:53:30.914Z"
   },
   {
    "duration": 108,
    "start_time": "2022-12-14T14:53:30.979Z"
   },
   {
    "duration": 36,
    "start_time": "2022-12-14T14:53:31.089Z"
   },
   {
    "duration": 61,
    "start_time": "2022-12-14T14:53:31.127Z"
   },
   {
    "duration": 38,
    "start_time": "2022-12-14T14:53:31.190Z"
   },
   {
    "duration": 32,
    "start_time": "2022-12-14T14:53:31.229Z"
   },
   {
    "duration": 19,
    "start_time": "2022-12-14T14:53:31.263Z"
   },
   {
    "duration": 25,
    "start_time": "2022-12-14T14:53:31.284Z"
   },
   {
    "duration": 37,
    "start_time": "2022-12-14T14:53:31.311Z"
   },
   {
    "duration": 36,
    "start_time": "2022-12-14T14:53:31.349Z"
   },
   {
    "duration": 327,
    "start_time": "2022-12-14T14:53:31.386Z"
   },
   {
    "duration": 264,
    "start_time": "2022-12-14T14:53:31.716Z"
   },
   {
    "duration": 211,
    "start_time": "2022-12-14T14:53:31.981Z"
   },
   {
    "duration": 318,
    "start_time": "2022-12-14T14:53:32.194Z"
   },
   {
    "duration": 239,
    "start_time": "2022-12-14T14:53:32.513Z"
   },
   {
    "duration": 295,
    "start_time": "2022-12-14T14:53:32.754Z"
   },
   {
    "duration": 159,
    "start_time": "2022-12-14T14:53:33.050Z"
   },
   {
    "duration": 3,
    "start_time": "2022-12-14T14:53:33.211Z"
   },
   {
    "duration": 245,
    "start_time": "2022-12-14T14:53:33.221Z"
   },
   {
    "duration": 156,
    "start_time": "2022-12-14T14:53:33.467Z"
   },
   {
    "duration": 296,
    "start_time": "2022-12-14T14:53:33.624Z"
   },
   {
    "duration": 6,
    "start_time": "2022-12-14T14:53:33.921Z"
   },
   {
    "duration": 227,
    "start_time": "2022-12-14T14:53:33.929Z"
   },
   {
    "duration": 117,
    "start_time": "2022-12-14T14:53:34.157Z"
   },
   {
    "duration": 25,
    "start_time": "2022-12-14T14:53:34.275Z"
   },
   {
    "duration": 21,
    "start_time": "2022-12-14T14:53:34.302Z"
   },
   {
    "duration": 9,
    "start_time": "2022-12-14T14:53:34.324Z"
   },
   {
    "duration": 21,
    "start_time": "2022-12-14T14:53:34.335Z"
   },
   {
    "duration": 50,
    "start_time": "2022-12-14T14:53:34.357Z"
   },
   {
    "duration": 13,
    "start_time": "2022-12-14T14:53:34.408Z"
   },
   {
    "duration": 45,
    "start_time": "2022-12-15T16:12:11.473Z"
   },
   {
    "duration": 748,
    "start_time": "2022-12-16T22:38:56.597Z"
   },
   {
    "duration": 74,
    "start_time": "2022-12-16T22:38:57.347Z"
   },
   {
    "duration": 15,
    "start_time": "2022-12-16T22:38:57.423Z"
   },
   {
    "duration": 15,
    "start_time": "2022-12-16T22:38:57.440Z"
   },
   {
    "duration": 13,
    "start_time": "2022-12-16T22:38:57.457Z"
   },
   {
    "duration": 17,
    "start_time": "2022-12-16T22:38:57.515Z"
   },
   {
    "duration": 6,
    "start_time": "2022-12-16T22:38:57.534Z"
   },
   {
    "duration": 100,
    "start_time": "2022-12-16T22:38:57.541Z"
   },
   {
    "duration": 4,
    "start_time": "2022-12-16T22:38:57.643Z"
   },
   {
    "duration": 12,
    "start_time": "2022-12-16T22:38:57.649Z"
   },
   {
    "duration": 15,
    "start_time": "2022-12-16T22:38:57.663Z"
   },
   {
    "duration": 488,
    "start_time": "2022-12-16T22:38:57.679Z"
   },
   {
    "duration": 490,
    "start_time": "2022-12-16T22:38:58.169Z"
   },
   {
    "duration": 173,
    "start_time": "2022-12-16T22:38:58.663Z"
   },
   {
    "duration": 17,
    "start_time": "2022-12-16T22:38:58.837Z"
   },
   {
    "duration": 10,
    "start_time": "2022-12-16T22:38:58.855Z"
   },
   {
    "duration": 10,
    "start_time": "2022-12-16T22:38:58.867Z"
   },
   {
    "duration": 4,
    "start_time": "2022-12-16T22:38:58.878Z"
   },
   {
    "duration": 7,
    "start_time": "2022-12-16T22:38:58.883Z"
   },
   {
    "duration": 27,
    "start_time": "2022-12-16T22:38:58.892Z"
   },
   {
    "duration": 10,
    "start_time": "2022-12-16T22:38:58.920Z"
   },
   {
    "duration": 6,
    "start_time": "2022-12-16T22:38:58.932Z"
   },
   {
    "duration": 5,
    "start_time": "2022-12-16T22:38:58.939Z"
   },
   {
    "duration": 10,
    "start_time": "2022-12-16T22:38:58.945Z"
   },
   {
    "duration": 8,
    "start_time": "2022-12-16T22:38:58.957Z"
   },
   {
    "duration": 13,
    "start_time": "2022-12-16T22:38:58.966Z"
   },
   {
    "duration": 290,
    "start_time": "2022-12-16T22:38:58.980Z"
   },
   {
    "duration": 275,
    "start_time": "2022-12-16T22:38:59.272Z"
   },
   {
    "duration": 202,
    "start_time": "2022-12-16T22:38:59.549Z"
   },
   {
    "duration": 282,
    "start_time": "2022-12-16T22:38:59.753Z"
   },
   {
    "duration": 219,
    "start_time": "2022-12-16T22:39:00.036Z"
   },
   {
    "duration": 294,
    "start_time": "2022-12-16T22:39:00.257Z"
   },
   {
    "duration": 242,
    "start_time": "2022-12-16T22:39:00.553Z"
   },
   {
    "duration": 4,
    "start_time": "2022-12-16T22:39:00.797Z"
   },
   {
    "duration": 158,
    "start_time": "2022-12-16T22:39:00.815Z"
   },
   {
    "duration": 153,
    "start_time": "2022-12-16T22:39:00.975Z"
   },
   {
    "duration": 290,
    "start_time": "2022-12-16T22:39:01.129Z"
   },
   {
    "duration": 5,
    "start_time": "2022-12-16T22:39:01.421Z"
   },
   {
    "duration": 225,
    "start_time": "2022-12-16T22:39:01.428Z"
   },
   {
    "duration": 127,
    "start_time": "2022-12-16T22:39:01.656Z"
   },
   {
    "duration": 40,
    "start_time": "2022-12-16T22:39:01.788Z"
   },
   {
    "duration": 10,
    "start_time": "2022-12-16T22:39:01.829Z"
   },
   {
    "duration": 8,
    "start_time": "2022-12-16T22:39:01.841Z"
   },
   {
    "duration": 8,
    "start_time": "2022-12-16T22:39:01.851Z"
   },
   {
    "duration": 24,
    "start_time": "2022-12-16T22:39:01.860Z"
   },
   {
    "duration": 40,
    "start_time": "2022-12-16T22:39:01.885Z"
   }
  ],
  "kernelspec": {
   "display_name": "Python 3 (ipykernel)",
   "language": "python",
   "name": "python3"
  },
  "language_info": {
   "codemirror_mode": {
    "name": "ipython",
    "version": 3
   },
   "file_extension": ".py",
   "mimetype": "text/x-python",
   "name": "python",
   "nbconvert_exporter": "python",
   "pygments_lexer": "ipython3",
   "version": "3.9.12"
  },
  "toc": {
   "base_numbering": 1,
   "nav_menu": {},
   "number_sections": true,
   "sideBar": true,
   "skip_h1_title": true,
   "title_cell": "Table of Contents",
   "title_sidebar": "Contents",
   "toc_cell": false,
   "toc_position": {
    "height": "calc(100% - 180px)",
    "left": "10px",
    "top": "150px",
    "width": "255.391px"
   },
   "toc_section_display": true,
   "toc_window_display": false
  }
 },
 "nbformat": 4,
 "nbformat_minor": 2
}
