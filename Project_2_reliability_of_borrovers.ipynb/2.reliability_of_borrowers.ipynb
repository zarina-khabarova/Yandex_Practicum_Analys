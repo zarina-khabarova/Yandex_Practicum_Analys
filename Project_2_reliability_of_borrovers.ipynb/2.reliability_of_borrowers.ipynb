{
 "cells": [
  {
   "cell_type": "markdown",
   "id": "0683e13e",
   "metadata": {
    "deletable": false,
    "editable": false,
    "id": "c81daeeb"
   },
   "source": [
    "# Исследование надежности заемщиков\n"
   ]
  },
  {
   "cell_type": "markdown",
   "id": "74000a29",
   "metadata": {
    "deletable": false,
    "editable": false,
    "id": "827c20bf"
   },
   "source": [
    "Во второй части проекта вы выполните шаги 3 и 4. Их вручную проверит ревьюер.\n",
    "Чтобы вам не пришлось писать код заново для шагов 1 и 2, мы добавили авторские решения в ячейки с кодом. \n",
    "\n"
   ]
  },
  {
   "cell_type": "markdown",
   "id": "2e32b35c",
   "metadata": {
    "deletable": false,
    "editable": false,
    "id": "744d7639"
   },
   "source": [
    "## Откройте таблицу и изучите общую информацию о данных"
   ]
  },
  {
   "cell_type": "markdown",
   "id": "5a05bccb",
   "metadata": {
    "deletable": false,
    "editable": false,
    "id": "e7a14c31"
   },
   "source": [
    "**Задание 1. Импортируйте библиотеку pandas. Считайте данные из csv-файла в датафрейм и сохраните в переменную `data`. Путь к файлу:**\n",
    "\n",
    "`/datasets/data.csv`"
   ]
  },
  {
   "cell_type": "code",
   "execution_count": 1,
   "id": "93695c0b",
   "metadata": {
    "deletable": false,
    "id": "7bcf75c9"
   },
   "outputs": [],
   "source": [
    "import pandas as pd\n",
    "\n",
    "try:\n",
    "    data = pd.read_csv('/datasets/data.csv')\n",
    "except:\n",
    "    data = pd.read_csv('https://code.s3.yandex.net/datasets/data.csv')"
   ]
  },
  {
   "cell_type": "markdown",
   "id": "c835247b",
   "metadata": {
    "deletable": false,
    "editable": false,
    "id": "b8038fe3"
   },
   "source": [
    "**Задание 2. Выведите первые 20 строчек датафрейма `data` на экран.**"
   ]
  },
  {
   "cell_type": "code",
   "execution_count": 2,
   "id": "61ac9572",
   "metadata": {
    "deletable": false,
    "id": "2a7cab99",
    "outputId": "1a8f3ef2-d323-4ec2-ddf7-89670b5944c4"
   },
   "outputs": [
    {
     "data": {
      "text/html": [
       "<div>\n",
       "<style scoped>\n",
       "    .dataframe tbody tr th:only-of-type {\n",
       "        vertical-align: middle;\n",
       "    }\n",
       "\n",
       "    .dataframe tbody tr th {\n",
       "        vertical-align: top;\n",
       "    }\n",
       "\n",
       "    .dataframe thead th {\n",
       "        text-align: right;\n",
       "    }\n",
       "</style>\n",
       "<table border=\"1\" class=\"dataframe\">\n",
       "  <thead>\n",
       "    <tr style=\"text-align: right;\">\n",
       "      <th></th>\n",
       "      <th>children</th>\n",
       "      <th>days_employed</th>\n",
       "      <th>dob_years</th>\n",
       "      <th>education</th>\n",
       "      <th>education_id</th>\n",
       "      <th>family_status</th>\n",
       "      <th>family_status_id</th>\n",
       "      <th>gender</th>\n",
       "      <th>income_type</th>\n",
       "      <th>debt</th>\n",
       "      <th>total_income</th>\n",
       "      <th>purpose</th>\n",
       "    </tr>\n",
       "  </thead>\n",
       "  <tbody>\n",
       "    <tr>\n",
       "      <th>0</th>\n",
       "      <td>1</td>\n",
       "      <td>-8437.673028</td>\n",
       "      <td>42</td>\n",
       "      <td>высшее</td>\n",
       "      <td>0</td>\n",
       "      <td>женат / замужем</td>\n",
       "      <td>0</td>\n",
       "      <td>F</td>\n",
       "      <td>сотрудник</td>\n",
       "      <td>0</td>\n",
       "      <td>253875.639453</td>\n",
       "      <td>покупка жилья</td>\n",
       "    </tr>\n",
       "    <tr>\n",
       "      <th>1</th>\n",
       "      <td>1</td>\n",
       "      <td>-4024.803754</td>\n",
       "      <td>36</td>\n",
       "      <td>среднее</td>\n",
       "      <td>1</td>\n",
       "      <td>женат / замужем</td>\n",
       "      <td>0</td>\n",
       "      <td>F</td>\n",
       "      <td>сотрудник</td>\n",
       "      <td>0</td>\n",
       "      <td>112080.014102</td>\n",
       "      <td>приобретение автомобиля</td>\n",
       "    </tr>\n",
       "    <tr>\n",
       "      <th>2</th>\n",
       "      <td>0</td>\n",
       "      <td>-5623.422610</td>\n",
       "      <td>33</td>\n",
       "      <td>Среднее</td>\n",
       "      <td>1</td>\n",
       "      <td>женат / замужем</td>\n",
       "      <td>0</td>\n",
       "      <td>M</td>\n",
       "      <td>сотрудник</td>\n",
       "      <td>0</td>\n",
       "      <td>145885.952297</td>\n",
       "      <td>покупка жилья</td>\n",
       "    </tr>\n",
       "    <tr>\n",
       "      <th>3</th>\n",
       "      <td>3</td>\n",
       "      <td>-4124.747207</td>\n",
       "      <td>32</td>\n",
       "      <td>среднее</td>\n",
       "      <td>1</td>\n",
       "      <td>женат / замужем</td>\n",
       "      <td>0</td>\n",
       "      <td>M</td>\n",
       "      <td>сотрудник</td>\n",
       "      <td>0</td>\n",
       "      <td>267628.550329</td>\n",
       "      <td>дополнительное образование</td>\n",
       "    </tr>\n",
       "    <tr>\n",
       "      <th>4</th>\n",
       "      <td>0</td>\n",
       "      <td>340266.072047</td>\n",
       "      <td>53</td>\n",
       "      <td>среднее</td>\n",
       "      <td>1</td>\n",
       "      <td>гражданский брак</td>\n",
       "      <td>1</td>\n",
       "      <td>F</td>\n",
       "      <td>пенсионер</td>\n",
       "      <td>0</td>\n",
       "      <td>158616.077870</td>\n",
       "      <td>сыграть свадьбу</td>\n",
       "    </tr>\n",
       "    <tr>\n",
       "      <th>5</th>\n",
       "      <td>0</td>\n",
       "      <td>-926.185831</td>\n",
       "      <td>27</td>\n",
       "      <td>высшее</td>\n",
       "      <td>0</td>\n",
       "      <td>гражданский брак</td>\n",
       "      <td>1</td>\n",
       "      <td>M</td>\n",
       "      <td>компаньон</td>\n",
       "      <td>0</td>\n",
       "      <td>255763.565419</td>\n",
       "      <td>покупка жилья</td>\n",
       "    </tr>\n",
       "    <tr>\n",
       "      <th>6</th>\n",
       "      <td>0</td>\n",
       "      <td>-2879.202052</td>\n",
       "      <td>43</td>\n",
       "      <td>высшее</td>\n",
       "      <td>0</td>\n",
       "      <td>женат / замужем</td>\n",
       "      <td>0</td>\n",
       "      <td>F</td>\n",
       "      <td>компаньон</td>\n",
       "      <td>0</td>\n",
       "      <td>240525.971920</td>\n",
       "      <td>операции с жильем</td>\n",
       "    </tr>\n",
       "    <tr>\n",
       "      <th>7</th>\n",
       "      <td>0</td>\n",
       "      <td>-152.779569</td>\n",
       "      <td>50</td>\n",
       "      <td>СРЕДНЕЕ</td>\n",
       "      <td>1</td>\n",
       "      <td>женат / замужем</td>\n",
       "      <td>0</td>\n",
       "      <td>M</td>\n",
       "      <td>сотрудник</td>\n",
       "      <td>0</td>\n",
       "      <td>135823.934197</td>\n",
       "      <td>образование</td>\n",
       "    </tr>\n",
       "    <tr>\n",
       "      <th>8</th>\n",
       "      <td>2</td>\n",
       "      <td>-6929.865299</td>\n",
       "      <td>35</td>\n",
       "      <td>ВЫСШЕЕ</td>\n",
       "      <td>0</td>\n",
       "      <td>гражданский брак</td>\n",
       "      <td>1</td>\n",
       "      <td>F</td>\n",
       "      <td>сотрудник</td>\n",
       "      <td>0</td>\n",
       "      <td>95856.832424</td>\n",
       "      <td>на проведение свадьбы</td>\n",
       "    </tr>\n",
       "    <tr>\n",
       "      <th>9</th>\n",
       "      <td>0</td>\n",
       "      <td>-2188.756445</td>\n",
       "      <td>41</td>\n",
       "      <td>среднее</td>\n",
       "      <td>1</td>\n",
       "      <td>женат / замужем</td>\n",
       "      <td>0</td>\n",
       "      <td>M</td>\n",
       "      <td>сотрудник</td>\n",
       "      <td>0</td>\n",
       "      <td>144425.938277</td>\n",
       "      <td>покупка жилья для семьи</td>\n",
       "    </tr>\n",
       "    <tr>\n",
       "      <th>10</th>\n",
       "      <td>2</td>\n",
       "      <td>-4171.483647</td>\n",
       "      <td>36</td>\n",
       "      <td>высшее</td>\n",
       "      <td>0</td>\n",
       "      <td>женат / замужем</td>\n",
       "      <td>0</td>\n",
       "      <td>M</td>\n",
       "      <td>компаньон</td>\n",
       "      <td>0</td>\n",
       "      <td>113943.491460</td>\n",
       "      <td>покупка недвижимости</td>\n",
       "    </tr>\n",
       "    <tr>\n",
       "      <th>11</th>\n",
       "      <td>0</td>\n",
       "      <td>-792.701887</td>\n",
       "      <td>40</td>\n",
       "      <td>среднее</td>\n",
       "      <td>1</td>\n",
       "      <td>женат / замужем</td>\n",
       "      <td>0</td>\n",
       "      <td>F</td>\n",
       "      <td>сотрудник</td>\n",
       "      <td>0</td>\n",
       "      <td>77069.234271</td>\n",
       "      <td>покупка коммерческой недвижимости</td>\n",
       "    </tr>\n",
       "    <tr>\n",
       "      <th>12</th>\n",
       "      <td>0</td>\n",
       "      <td>NaN</td>\n",
       "      <td>65</td>\n",
       "      <td>среднее</td>\n",
       "      <td>1</td>\n",
       "      <td>гражданский брак</td>\n",
       "      <td>1</td>\n",
       "      <td>M</td>\n",
       "      <td>пенсионер</td>\n",
       "      <td>0</td>\n",
       "      <td>NaN</td>\n",
       "      <td>сыграть свадьбу</td>\n",
       "    </tr>\n",
       "    <tr>\n",
       "      <th>13</th>\n",
       "      <td>0</td>\n",
       "      <td>-1846.641941</td>\n",
       "      <td>54</td>\n",
       "      <td>неоконченное высшее</td>\n",
       "      <td>2</td>\n",
       "      <td>женат / замужем</td>\n",
       "      <td>0</td>\n",
       "      <td>F</td>\n",
       "      <td>сотрудник</td>\n",
       "      <td>0</td>\n",
       "      <td>130458.228857</td>\n",
       "      <td>приобретение автомобиля</td>\n",
       "    </tr>\n",
       "    <tr>\n",
       "      <th>14</th>\n",
       "      <td>0</td>\n",
       "      <td>-1844.956182</td>\n",
       "      <td>56</td>\n",
       "      <td>высшее</td>\n",
       "      <td>0</td>\n",
       "      <td>гражданский брак</td>\n",
       "      <td>1</td>\n",
       "      <td>F</td>\n",
       "      <td>компаньон</td>\n",
       "      <td>1</td>\n",
       "      <td>165127.911772</td>\n",
       "      <td>покупка жилой недвижимости</td>\n",
       "    </tr>\n",
       "    <tr>\n",
       "      <th>15</th>\n",
       "      <td>1</td>\n",
       "      <td>-972.364419</td>\n",
       "      <td>26</td>\n",
       "      <td>среднее</td>\n",
       "      <td>1</td>\n",
       "      <td>женат / замужем</td>\n",
       "      <td>0</td>\n",
       "      <td>F</td>\n",
       "      <td>сотрудник</td>\n",
       "      <td>0</td>\n",
       "      <td>116820.904450</td>\n",
       "      <td>строительство собственной недвижимости</td>\n",
       "    </tr>\n",
       "    <tr>\n",
       "      <th>16</th>\n",
       "      <td>0</td>\n",
       "      <td>-1719.934226</td>\n",
       "      <td>35</td>\n",
       "      <td>среднее</td>\n",
       "      <td>1</td>\n",
       "      <td>женат / замужем</td>\n",
       "      <td>0</td>\n",
       "      <td>F</td>\n",
       "      <td>сотрудник</td>\n",
       "      <td>0</td>\n",
       "      <td>289202.704229</td>\n",
       "      <td>недвижимость</td>\n",
       "    </tr>\n",
       "    <tr>\n",
       "      <th>17</th>\n",
       "      <td>0</td>\n",
       "      <td>-2369.999720</td>\n",
       "      <td>33</td>\n",
       "      <td>высшее</td>\n",
       "      <td>0</td>\n",
       "      <td>гражданский брак</td>\n",
       "      <td>1</td>\n",
       "      <td>M</td>\n",
       "      <td>сотрудник</td>\n",
       "      <td>0</td>\n",
       "      <td>90410.586745</td>\n",
       "      <td>строительство недвижимости</td>\n",
       "    </tr>\n",
       "    <tr>\n",
       "      <th>18</th>\n",
       "      <td>0</td>\n",
       "      <td>400281.136913</td>\n",
       "      <td>53</td>\n",
       "      <td>среднее</td>\n",
       "      <td>1</td>\n",
       "      <td>вдовец / вдова</td>\n",
       "      <td>2</td>\n",
       "      <td>F</td>\n",
       "      <td>пенсионер</td>\n",
       "      <td>0</td>\n",
       "      <td>56823.777243</td>\n",
       "      <td>на покупку подержанного автомобиля</td>\n",
       "    </tr>\n",
       "    <tr>\n",
       "      <th>19</th>\n",
       "      <td>0</td>\n",
       "      <td>-10038.818549</td>\n",
       "      <td>48</td>\n",
       "      <td>СРЕДНЕЕ</td>\n",
       "      <td>1</td>\n",
       "      <td>в разводе</td>\n",
       "      <td>3</td>\n",
       "      <td>F</td>\n",
       "      <td>сотрудник</td>\n",
       "      <td>0</td>\n",
       "      <td>242831.107982</td>\n",
       "      <td>на покупку своего автомобиля</td>\n",
       "    </tr>\n",
       "  </tbody>\n",
       "</table>\n",
       "</div>"
      ],
      "text/plain": [
       "    children  days_employed  dob_years            education  education_id  \\\n",
       "0          1   -8437.673028         42               высшее             0   \n",
       "1          1   -4024.803754         36              среднее             1   \n",
       "2          0   -5623.422610         33              Среднее             1   \n",
       "3          3   -4124.747207         32              среднее             1   \n",
       "4          0  340266.072047         53              среднее             1   \n",
       "5          0    -926.185831         27               высшее             0   \n",
       "6          0   -2879.202052         43               высшее             0   \n",
       "7          0    -152.779569         50              СРЕДНЕЕ             1   \n",
       "8          2   -6929.865299         35               ВЫСШЕЕ             0   \n",
       "9          0   -2188.756445         41              среднее             1   \n",
       "10         2   -4171.483647         36               высшее             0   \n",
       "11         0    -792.701887         40              среднее             1   \n",
       "12         0            NaN         65              среднее             1   \n",
       "13         0   -1846.641941         54  неоконченное высшее             2   \n",
       "14         0   -1844.956182         56               высшее             0   \n",
       "15         1    -972.364419         26              среднее             1   \n",
       "16         0   -1719.934226         35              среднее             1   \n",
       "17         0   -2369.999720         33               высшее             0   \n",
       "18         0  400281.136913         53              среднее             1   \n",
       "19         0  -10038.818549         48              СРЕДНЕЕ             1   \n",
       "\n",
       "       family_status  family_status_id gender income_type  debt  \\\n",
       "0    женат / замужем                 0      F   сотрудник     0   \n",
       "1    женат / замужем                 0      F   сотрудник     0   \n",
       "2    женат / замужем                 0      M   сотрудник     0   \n",
       "3    женат / замужем                 0      M   сотрудник     0   \n",
       "4   гражданский брак                 1      F   пенсионер     0   \n",
       "5   гражданский брак                 1      M   компаньон     0   \n",
       "6    женат / замужем                 0      F   компаньон     0   \n",
       "7    женат / замужем                 0      M   сотрудник     0   \n",
       "8   гражданский брак                 1      F   сотрудник     0   \n",
       "9    женат / замужем                 0      M   сотрудник     0   \n",
       "10   женат / замужем                 0      M   компаньон     0   \n",
       "11   женат / замужем                 0      F   сотрудник     0   \n",
       "12  гражданский брак                 1      M   пенсионер     0   \n",
       "13   женат / замужем                 0      F   сотрудник     0   \n",
       "14  гражданский брак                 1      F   компаньон     1   \n",
       "15   женат / замужем                 0      F   сотрудник     0   \n",
       "16   женат / замужем                 0      F   сотрудник     0   \n",
       "17  гражданский брак                 1      M   сотрудник     0   \n",
       "18    вдовец / вдова                 2      F   пенсионер     0   \n",
       "19         в разводе                 3      F   сотрудник     0   \n",
       "\n",
       "     total_income                                 purpose  \n",
       "0   253875.639453                           покупка жилья  \n",
       "1   112080.014102                 приобретение автомобиля  \n",
       "2   145885.952297                           покупка жилья  \n",
       "3   267628.550329              дополнительное образование  \n",
       "4   158616.077870                         сыграть свадьбу  \n",
       "5   255763.565419                           покупка жилья  \n",
       "6   240525.971920                       операции с жильем  \n",
       "7   135823.934197                             образование  \n",
       "8    95856.832424                   на проведение свадьбы  \n",
       "9   144425.938277                 покупка жилья для семьи  \n",
       "10  113943.491460                    покупка недвижимости  \n",
       "11   77069.234271       покупка коммерческой недвижимости  \n",
       "12            NaN                         сыграть свадьбу  \n",
       "13  130458.228857                 приобретение автомобиля  \n",
       "14  165127.911772              покупка жилой недвижимости  \n",
       "15  116820.904450  строительство собственной недвижимости  \n",
       "16  289202.704229                            недвижимость  \n",
       "17   90410.586745              строительство недвижимости  \n",
       "18   56823.777243      на покупку подержанного автомобиля  \n",
       "19  242831.107982            на покупку своего автомобиля  "
      ]
     },
     "execution_count": 2,
     "metadata": {},
     "output_type": "execute_result"
    }
   ],
   "source": [
    "data.head(20)"
   ]
  },
  {
   "cell_type": "markdown",
   "id": "dda272da",
   "metadata": {
    "deletable": false,
    "editable": false,
    "id": "1c12e233"
   },
   "source": [
    "**Задание 3. Выведите основную информацию о датафрейме с помощью метода `info()`.**"
   ]
  },
  {
   "cell_type": "code",
   "execution_count": 3,
   "id": "e93a85f9",
   "metadata": {
    "deletable": false,
    "id": "2b757bca",
    "outputId": "15376089-8dad-46c9-b520-c05248d43158"
   },
   "outputs": [
    {
     "name": "stdout",
     "output_type": "stream",
     "text": [
      "<class 'pandas.core.frame.DataFrame'>\n",
      "RangeIndex: 21525 entries, 0 to 21524\n",
      "Data columns (total 12 columns):\n",
      " #   Column            Non-Null Count  Dtype  \n",
      "---  ------            --------------  -----  \n",
      " 0   children          21525 non-null  int64  \n",
      " 1   days_employed     19351 non-null  float64\n",
      " 2   dob_years         21525 non-null  int64  \n",
      " 3   education         21525 non-null  object \n",
      " 4   education_id      21525 non-null  int64  \n",
      " 5   family_status     21525 non-null  object \n",
      " 6   family_status_id  21525 non-null  int64  \n",
      " 7   gender            21525 non-null  object \n",
      " 8   income_type       21525 non-null  object \n",
      " 9   debt              21525 non-null  int64  \n",
      " 10  total_income      19351 non-null  float64\n",
      " 11  purpose           21525 non-null  object \n",
      "dtypes: float64(2), int64(5), object(5)\n",
      "memory usage: 2.0+ MB\n"
     ]
    }
   ],
   "source": [
    "data.info()"
   ]
  },
  {
   "cell_type": "markdown",
   "id": "f3f969c4",
   "metadata": {
    "deletable": false,
    "editable": false,
    "id": "333ec665"
   },
   "source": [
    "## Предобработка данных"
   ]
  },
  {
   "cell_type": "markdown",
   "id": "1ac4a9eb",
   "metadata": {
    "deletable": false,
    "editable": false,
    "id": "02d92d53"
   },
   "source": [
    "### Удаление пропусков"
   ]
  },
  {
   "cell_type": "markdown",
   "id": "70cedbbd",
   "metadata": {
    "deletable": false,
    "editable": false,
    "id": "cd84967c"
   },
   "source": [
    "**Задание 4. Выведите количество пропущенных значений для каждого столбца. Используйте комбинацию двух методов.**"
   ]
  },
  {
   "cell_type": "code",
   "execution_count": 4,
   "id": "0c480967",
   "metadata": {
    "deletable": false,
    "id": "7f9b2309",
    "outputId": "81f4d817-781c-465c-ed15-91ce4446810d"
   },
   "outputs": [
    {
     "data": {
      "text/plain": [
       "children               0\n",
       "days_employed       2174\n",
       "dob_years              0\n",
       "education              0\n",
       "education_id           0\n",
       "family_status          0\n",
       "family_status_id       0\n",
       "gender                 0\n",
       "income_type            0\n",
       "debt                   0\n",
       "total_income        2174\n",
       "purpose                0\n",
       "dtype: int64"
      ]
     },
     "execution_count": 4,
     "metadata": {},
     "output_type": "execute_result"
    }
   ],
   "source": [
    "data.isna().sum()"
   ]
  },
  {
   "cell_type": "markdown",
   "id": "319b6a4c",
   "metadata": {
    "deletable": false,
    "editable": false,
    "id": "db86e27b"
   },
   "source": [
    "**Задание 5. В двух столбцах есть пропущенные значения. Один из них — `days_employed`. Пропуски в этом столбце вы обработаете на следующем этапе. Другой столбец с пропущенными значениями — `total_income` — хранит данные о доходах. На сумму дохода сильнее всего влияет тип занятости, поэтому заполнить пропуски в этом столбце нужно медианным значением по каждому типу из столбца `income_type`. Например, у человека с типом занятости `сотрудник` пропуск в столбце `total_income` должен быть заполнен медианным доходом среди всех записей с тем же типом.**"
   ]
  },
  {
   "cell_type": "code",
   "execution_count": 5,
   "id": "86034974",
   "metadata": {
    "deletable": false,
    "id": "42006a93"
   },
   "outputs": [],
   "source": [
    "for t in data['income_type'].unique():\n",
    "    data.loc[(data['income_type'] == t) & (data['total_income'].isna()), 'total_income'] = \\\n",
    "    data.loc[(data['income_type'] == t), 'total_income'].median()"
   ]
  },
  {
   "cell_type": "markdown",
   "id": "c86fd19e",
   "metadata": {
    "deletable": false,
    "editable": false,
    "id": "89da5ece"
   },
   "source": [
    "### Обработка аномальных значений"
   ]
  },
  {
   "cell_type": "markdown",
   "id": "b60a04a3",
   "metadata": {
    "deletable": false,
    "editable": false,
    "id": "57964554"
   },
   "source": [
    "**Задание 6. В данных могут встречаться артефакты (аномалии) — значения, которые не отражают действительность и появились по какой-то ошибке. таким артефактом будет отрицательное количество дней трудового стажа в столбце `days_employed`. Для реальных данных это нормально. Обработайте значения в этом столбце: замените все отрицательные значения положительными с помощью метода `abs()`.**"
   ]
  },
  {
   "cell_type": "code",
   "execution_count": 6,
   "id": "6ade2c94",
   "metadata": {
    "deletable": false,
    "id": "f6f055bf"
   },
   "outputs": [],
   "source": [
    "data['days_employed'] = data['days_employed'].abs()"
   ]
  },
  {
   "cell_type": "markdown",
   "id": "d3bd0435",
   "metadata": {
    "deletable": false,
    "editable": false,
    "id": "6107dd2f"
   },
   "source": [
    "**Задание 7. Для каждого типа занятости выведите медианное значение трудового стажа `days_employed` в днях.**"
   ]
  },
  {
   "cell_type": "code",
   "execution_count": 7,
   "id": "0a8a511c",
   "metadata": {
    "deletable": false,
    "id": "85a5faf6",
    "outputId": "801ef80e-522b-4668-f34e-565af7432bcf"
   },
   "outputs": [
    {
     "data": {
      "text/plain": [
       "income_type\n",
       "безработный        366413.652744\n",
       "в декрете            3296.759962\n",
       "госслужащий          2689.368353\n",
       "компаньон            1547.382223\n",
       "пенсионер          365213.306266\n",
       "предприниматель       520.848083\n",
       "сотрудник            1574.202821\n",
       "студент               578.751554\n",
       "Name: days_employed, dtype: float64"
      ]
     },
     "execution_count": 7,
     "metadata": {},
     "output_type": "execute_result"
    }
   ],
   "source": [
    "data.groupby('income_type')['days_employed'].agg('median')"
   ]
  },
  {
   "cell_type": "markdown",
   "id": "369249df",
   "metadata": {
    "deletable": false,
    "editable": false,
    "id": "38d1a030"
   },
   "source": [
    "У двух типов (безработные и пенсионеры) получатся аномально большие значения. Исправить такие значения сложно, поэтому оставьте их как есть. Тем более этот столбец не понадобится вам для исследования."
   ]
  },
  {
   "cell_type": "markdown",
   "id": "b1f0be1a",
   "metadata": {
    "deletable": false,
    "editable": false,
    "id": "d8a9f147"
   },
   "source": [
    "**Задание 8. Выведите перечень уникальных значений столбца `children`.**"
   ]
  },
  {
   "cell_type": "code",
   "execution_count": 8,
   "id": "d516f578",
   "metadata": {
    "deletable": false,
    "id": "ef5056eb",
    "outputId": "6975b15c-7f95-4697-d16d-a0c79b657b03"
   },
   "outputs": [
    {
     "data": {
      "text/plain": [
       "array([ 1,  0,  3,  2, -1,  4, 20,  5], dtype=int64)"
      ]
     },
     "execution_count": 8,
     "metadata": {},
     "output_type": "execute_result"
    }
   ],
   "source": [
    "data['children'].unique()"
   ]
  },
  {
   "cell_type": "markdown",
   "id": "27df28d9",
   "metadata": {
    "deletable": false,
    "editable": false,
    "id": "40b9ebf2"
   },
   "source": [
    "**Задание 9. В столбце `children` есть два аномальных значения. Удалите строки, в которых встречаются такие аномальные значения из датафрейма `data`.**"
   ]
  },
  {
   "cell_type": "code",
   "execution_count": 9,
   "id": "04064bea",
   "metadata": {
    "deletable": false,
    "id": "3ff9801d"
   },
   "outputs": [],
   "source": [
    "data = data[(data['children'] != -1) & (data['children'] != 20)]"
   ]
  },
  {
   "cell_type": "markdown",
   "id": "c4ae60ed",
   "metadata": {
    "deletable": false,
    "editable": false,
    "id": "bbc4d0ce"
   },
   "source": [
    "**Задание 10. Ещё раз выведите перечень уникальных значений столбца `children`, чтобы убедиться, что артефакты удалены.**"
   ]
  },
  {
   "cell_type": "code",
   "execution_count": 10,
   "id": "bb50475f",
   "metadata": {
    "deletable": false,
    "id": "ad4fa8b7",
    "outputId": "b2097101-d49d-44d9-901b-32a65c9463d1"
   },
   "outputs": [
    {
     "data": {
      "text/plain": [
       "array([1, 0, 3, 2, 4, 5], dtype=int64)"
      ]
     },
     "execution_count": 10,
     "metadata": {},
     "output_type": "execute_result"
    }
   ],
   "source": [
    "data['children'].unique()"
   ]
  },
  {
   "cell_type": "markdown",
   "id": "1bc78412",
   "metadata": {
    "deletable": false,
    "editable": false,
    "id": "75440b63"
   },
   "source": [
    "### Удаление пропусков (продолжение)"
   ]
  },
  {
   "cell_type": "markdown",
   "id": "e6b24260",
   "metadata": {
    "deletable": false,
    "editable": false,
    "id": "f4ea573f"
   },
   "source": [
    "**Задание 11. Заполните пропуски в столбце `days_employed` медианными значениями по каждого типа занятости `income_type`.**"
   ]
  },
  {
   "cell_type": "code",
   "execution_count": 11,
   "id": "192b5f5f",
   "metadata": {
    "deletable": false,
    "id": "af6b1a7e"
   },
   "outputs": [],
   "source": [
    "for t in data['income_type'].unique():\n",
    "    data.loc[(data['income_type'] == t) & (data['days_employed'].isna()), 'days_employed'] = \\\n",
    "    data.loc[(data['income_type'] == t), 'days_employed'].median()"
   ]
  },
  {
   "cell_type": "markdown",
   "id": "fb52ebb1",
   "metadata": {
    "deletable": false,
    "editable": false,
    "id": "2753f40d"
   },
   "source": [
    "**Задание 12. Убедитесь, что все пропуски заполнены. Проверьте себя и ещё раз выведите количество пропущенных значений для каждого столбца с помощью двух методов.**"
   ]
  },
  {
   "cell_type": "code",
   "execution_count": 12,
   "id": "65c6cf9e",
   "metadata": {
    "deletable": false,
    "id": "55f78bc2",
    "outputId": "8da1e4e1-358e-4e87-98c9-f261bce0a7b2"
   },
   "outputs": [
    {
     "data": {
      "text/plain": [
       "children            0\n",
       "days_employed       0\n",
       "dob_years           0\n",
       "education           0\n",
       "education_id        0\n",
       "family_status       0\n",
       "family_status_id    0\n",
       "gender              0\n",
       "income_type         0\n",
       "debt                0\n",
       "total_income        0\n",
       "purpose             0\n",
       "dtype: int64"
      ]
     },
     "execution_count": 12,
     "metadata": {},
     "output_type": "execute_result"
    }
   ],
   "source": [
    "data.isna().sum()"
   ]
  },
  {
   "cell_type": "markdown",
   "id": "d57858f2",
   "metadata": {
    "deletable": false,
    "editable": false,
    "id": "ddc81e43"
   },
   "source": [
    "### Изменение типов данных"
   ]
  },
  {
   "cell_type": "markdown",
   "id": "7fca2ec6",
   "metadata": {
    "deletable": false,
    "editable": false,
    "id": "42d19d24"
   },
   "source": [
    "**Задание 13. Замените вещественный тип данных в столбце `total_income` на целочисленный с помощью метода `astype()`.**"
   ]
  },
  {
   "cell_type": "code",
   "execution_count": 13,
   "id": "21c36b4f",
   "metadata": {
    "deletable": false,
    "id": "920b65ad"
   },
   "outputs": [],
   "source": [
    "data['total_income'] = data['total_income'].astype(int)"
   ]
  },
  {
   "cell_type": "markdown",
   "id": "a2b3dd18",
   "metadata": {
    "deletable": false,
    "editable": false,
    "id": "80c420ba"
   },
   "source": [
    "### Обработка дубликатов"
   ]
  },
  {
   "cell_type": "markdown",
   "id": "5e160350",
   "metadata": {
    "deletable": false,
    "editable": false
   },
   "source": [
    "**Задание 14. Обработайте неявные дубликаты в столбце `education`. В этом столбце есть одни и те же значения, но записанные по-разному: с использованием заглавных и строчных букв. Приведите их к нижнему регистру. Проверьте остальные столбцы.**"
   ]
  },
  {
   "cell_type": "code",
   "execution_count": 14,
   "id": "d1caf991",
   "metadata": {
    "deletable": false
   },
   "outputs": [],
   "source": [
    "data['education'] = data['education'].str.lower()"
   ]
  },
  {
   "cell_type": "markdown",
   "id": "a4181f9d",
   "metadata": {
    "deletable": false,
    "editable": false,
    "id": "dc587695"
   },
   "source": [
    "**Задание 15. Выведите на экран количество строк-дубликатов в данных. Если такие строки присутствуют, удалите их.**"
   ]
  },
  {
   "cell_type": "code",
   "execution_count": 15,
   "id": "a8108302",
   "metadata": {
    "deletable": false,
    "id": "3ee445e4",
    "outputId": "9684deba-1934-42d1-99e1-cda61740f822"
   },
   "outputs": [
    {
     "data": {
      "text/plain": [
       "71"
      ]
     },
     "execution_count": 15,
     "metadata": {},
     "output_type": "execute_result"
    }
   ],
   "source": [
    "data.duplicated().sum()"
   ]
  },
  {
   "cell_type": "code",
   "execution_count": 16,
   "id": "85859be3",
   "metadata": {
    "deletable": false,
    "id": "8575fe05"
   },
   "outputs": [],
   "source": [
    "data = data.drop_duplicates()"
   ]
  },
  {
   "cell_type": "markdown",
   "id": "5d5a2ca3",
   "metadata": {
    "deletable": false,
    "editable": false,
    "id": "9904cf55"
   },
   "source": [
    "### Категоризация данных"
   ]
  },
  {
   "cell_type": "markdown",
   "id": "a65f191b",
   "metadata": {
    "deletable": false,
    "editable": false,
    "id": "72fcc8a2"
   },
   "source": [
    "**Задание 16. На основании диапазонов, указанных ниже, создайте в датафрейме `data` столбец `total_income_category` с категориями:**\n",
    "\n",
    "- 0–30000 — `'E'`;\n",
    "- 30001–50000 — `'D'`;\n",
    "- 50001–200000 — `'C'`;\n",
    "- 200001–1000000 — `'B'`;\n",
    "- 1000001 и выше — `'A'`.\n",
    "\n",
    "\n",
    "**Например, кредитополучателю с доходом 25000 нужно назначить категорию `'E'`, а клиенту, получающему 235000, — `'B'`. Используйте собственную функцию с именем `categorize_income()` и метод `apply()`.**"
   ]
  },
  {
   "cell_type": "code",
   "execution_count": 17,
   "id": "302b0640",
   "metadata": {
    "deletable": false,
    "id": "e1771346"
   },
   "outputs": [],
   "source": [
    "def categorize_income(income):\n",
    "    try:\n",
    "        if 0 <= income <= 30000:\n",
    "            return '0–30000'\n",
    "        elif 30001 <= income <= 50000:\n",
    "            return '30001–50000'\n",
    "        elif 50001 <= income <= 200000:\n",
    "            return '50001–200000'\n",
    "        elif 200001 <= income <= 1000000:\n",
    "            return '200001–1000000'\n",
    "        elif income >= 1000001:\n",
    "            return '1000001 и выше'\n",
    "    except:\n",
    "        pass"
   ]
  },
  {
   "cell_type": "code",
   "execution_count": 18,
   "id": "de6f1817",
   "metadata": {
    "deletable": false,
    "id": "d5f3586d"
   },
   "outputs": [],
   "source": [
    "data['total_income_category'] = data['total_income'].apply(categorize_income)"
   ]
  },
  {
   "cell_type": "markdown",
   "id": "a54460b1",
   "metadata": {
    "deletable": false,
    "editable": false,
    "id": "dde49b5c"
   },
   "source": [
    "**Задание 17. Выведите на экран перечень уникальных целей взятия кредита из столбца `purpose`.**"
   ]
  },
  {
   "cell_type": "code",
   "execution_count": 19,
   "id": "1eda5fde",
   "metadata": {
    "deletable": false,
    "id": "f67ce9b3",
    "outputId": "673c12d9-7d7e-4ae0-9812-c622c89dd244"
   },
   "outputs": [
    {
     "data": {
      "text/plain": [
       "array(['покупка жилья', 'приобретение автомобиля',\n",
       "       'дополнительное образование', 'сыграть свадьбу',\n",
       "       'операции с жильем', 'образование', 'на проведение свадьбы',\n",
       "       'покупка жилья для семьи', 'покупка недвижимости',\n",
       "       'покупка коммерческой недвижимости', 'покупка жилой недвижимости',\n",
       "       'строительство собственной недвижимости', 'недвижимость',\n",
       "       'строительство недвижимости', 'на покупку подержанного автомобиля',\n",
       "       'на покупку своего автомобиля',\n",
       "       'операции с коммерческой недвижимостью',\n",
       "       'строительство жилой недвижимости', 'жилье',\n",
       "       'операции со своей недвижимостью', 'автомобили',\n",
       "       'заняться образованием', 'сделка с подержанным автомобилем',\n",
       "       'получение образования', 'автомобиль', 'свадьба',\n",
       "       'получение дополнительного образования', 'покупка своего жилья',\n",
       "       'операции с недвижимостью', 'получение высшего образования',\n",
       "       'свой автомобиль', 'сделка с автомобилем',\n",
       "       'профильное образование', 'высшее образование',\n",
       "       'покупка жилья для сдачи', 'на покупку автомобиля', 'ремонт жилью',\n",
       "       'заняться высшим образованием'], dtype=object)"
      ]
     },
     "execution_count": 19,
     "metadata": {},
     "output_type": "execute_result"
    }
   ],
   "source": [
    "data['purpose'].unique()"
   ]
  },
  {
   "cell_type": "markdown",
   "id": "7d90a311",
   "metadata": {
    "deletable": false,
    "editable": false,
    "id": "85d0aef0"
   },
   "source": [
    "**Задание 18. Создайте функцию, которая на основании данных из столбца `purpose` сформирует новый столбец `purpose_category`, в который войдут следующие категории:**\n",
    "\n",
    "- `'операции с автомобилем'`,\n",
    "- `'операции с недвижимостью'`,\n",
    "- `'проведение свадьбы'`,\n",
    "- `'получение образования'`.\n",
    "\n",
    "**Например, если в столбце `purpose` находится подстрока `'на покупку автомобиля'`, то в столбце `purpose_category` должна появиться строка `'операции с автомобилем'`.**\n",
    "\n",
    "**Используйте собственную функцию с именем `categorize_purpose()` и метод `apply()`. Изучите данные в столбце `purpose` и определите, какие подстроки помогут вам правильно определить категорию.**"
   ]
  },
  {
   "cell_type": "code",
   "execution_count": 20,
   "id": "3254b4d0",
   "metadata": {
    "deletable": false,
    "id": "e149fab4"
   },
   "outputs": [],
   "source": [
    "def categorize_purpose(row):\n",
    "    try:\n",
    "        if 'автом' in row:\n",
    "            return 'операции с автомобилем'\n",
    "        elif 'жил' in row or 'недвиж' in row:\n",
    "            return 'операции с недвижимостью'\n",
    "        elif 'свад' in row:\n",
    "            return 'проведение свадьбы'\n",
    "        elif 'образов' in row:\n",
    "            return 'получение образования'\n",
    "    except:\n",
    "        return 'нет категории'"
   ]
  },
  {
   "cell_type": "code",
   "execution_count": 21,
   "id": "c8777c3a",
   "metadata": {
    "deletable": false,
    "id": "bf36e69b"
   },
   "outputs": [],
   "source": [
    "data['purpose_category'] = data['purpose'].apply(categorize_purpose)"
   ]
  },
  {
   "cell_type": "markdown",
   "id": "c0c1216c",
   "metadata": {
    "deletable": false,
    "editable": false,
    "id": "09b242bf"
   },
   "source": [
    "### Шаг 3. Исследуйте данные и ответьте на вопросы"
   ]
  },
  {
   "cell_type": "markdown",
   "id": "0b5919e0",
   "metadata": {
    "deletable": false,
    "editable": false,
    "id": "c5d66278"
   },
   "source": [
    "#### 3.1 Есть ли зависимость между количеством детей и возвратом кредита в срок?"
   ]
  },
  {
   "cell_type": "code",
   "execution_count": 22,
   "id": "d3173ee3",
   "metadata": {
    "deletable": false,
    "id": "2cacfc4a"
   },
   "outputs": [
    {
     "data": {
      "text/html": [
       "<div>\n",
       "<style scoped>\n",
       "    .dataframe tbody tr th:only-of-type {\n",
       "        vertical-align: middle;\n",
       "    }\n",
       "\n",
       "    .dataframe tbody tr th {\n",
       "        vertical-align: top;\n",
       "    }\n",
       "\n",
       "    .dataframe thead th {\n",
       "        text-align: right;\n",
       "    }\n",
       "</style>\n",
       "<table border=\"1\" class=\"dataframe\">\n",
       "  <thead>\n",
       "    <tr style=\"text-align: right;\">\n",
       "      <th></th>\n",
       "      <th>Сумма по должникам</th>\n",
       "      <th>Количество должников</th>\n",
       "      <th>Отношение суммы к количеству</th>\n",
       "    </tr>\n",
       "    <tr>\n",
       "      <th>children</th>\n",
       "      <th></th>\n",
       "      <th></th>\n",
       "      <th></th>\n",
       "    </tr>\n",
       "  </thead>\n",
       "  <tbody>\n",
       "    <tr>\n",
       "      <th>0</th>\n",
       "      <td>1063</td>\n",
       "      <td>14091</td>\n",
       "      <td>0.075438</td>\n",
       "    </tr>\n",
       "    <tr>\n",
       "      <th>1</th>\n",
       "      <td>444</td>\n",
       "      <td>4808</td>\n",
       "      <td>0.092346</td>\n",
       "    </tr>\n",
       "    <tr>\n",
       "      <th>2</th>\n",
       "      <td>194</td>\n",
       "      <td>2052</td>\n",
       "      <td>0.094542</td>\n",
       "    </tr>\n",
       "    <tr>\n",
       "      <th>3</th>\n",
       "      <td>27</td>\n",
       "      <td>330</td>\n",
       "      <td>0.081818</td>\n",
       "    </tr>\n",
       "    <tr>\n",
       "      <th>4</th>\n",
       "      <td>4</td>\n",
       "      <td>41</td>\n",
       "      <td>0.097561</td>\n",
       "    </tr>\n",
       "    <tr>\n",
       "      <th>5</th>\n",
       "      <td>0</td>\n",
       "      <td>9</td>\n",
       "      <td>0.000000</td>\n",
       "    </tr>\n",
       "  </tbody>\n",
       "</table>\n",
       "</div>"
      ],
      "text/plain": [
       "          Сумма по должникам  Количество должников  \\\n",
       "children                                             \n",
       "0                       1063                 14091   \n",
       "1                        444                  4808   \n",
       "2                        194                  2052   \n",
       "3                         27                   330   \n",
       "4                          4                    41   \n",
       "5                          0                     9   \n",
       "\n",
       "          Отношение суммы к количеству  \n",
       "children                                \n",
       "0                             0.075438  \n",
       "1                             0.092346  \n",
       "2                             0.094542  \n",
       "3                             0.081818  \n",
       "4                             0.097561  \n",
       "5                             0.000000  "
      ]
     },
     "execution_count": 22,
     "metadata": {},
     "output_type": "execute_result"
    }
   ],
   "source": [
    "s1 = data.groupby('children')['debt'].sum()\n",
    "s2 = data.groupby('children')['debt'].count()\n",
    "s3 = (data.groupby('children')['debt'].sum() / data.groupby('children')['debt'].count())\n",
    "\n",
    "df = pd.DataFrame({'Сумма по должникам':s1, 'Количество должников':s2, 'Отношение суммы к количеству':s3})\n",
    "df"
   ]
  },
  {
   "cell_type": "markdown",
   "id": "d576f966",
   "metadata": {
    "deletable": false,
    "id": "3a6b99ec"
   },
   "source": [
    "**Вывод**\n",
    "\n",
    "<p></p>\n",
    "\n",
    "<div style=\"border:solid green 2px; padding: 20px\">\n",
    "\n",
    "Посчитав отношение между суммой должников и их количеством можно сделать следующий вывод: при количестве детей от 0 до 4 включительно зависимость между количеством детей и возвратом кредита в срок отсутствует. Также стоит обратить внимание, что семьи, в которых по 5 детей - не являются должниками банков.\n",
    "\n",
    "</div>"
   ]
  },
  {
   "cell_type": "markdown",
   "id": "9e9bb2cf",
   "metadata": {
    "deletable": false,
    "editable": false,
    "id": "97be82ca"
   },
   "source": [
    "#### 3.2 Есть ли зависимость между семейным положением и возвратом кредита в срок?"
   ]
  },
  {
   "cell_type": "code",
   "execution_count": 23,
   "id": "4f3bbf47",
   "metadata": {
    "deletable": false,
    "id": "dc3f7ee8"
   },
   "outputs": [
    {
     "data": {
      "text/html": [
       "<div>\n",
       "<style scoped>\n",
       "    .dataframe tbody tr th:only-of-type {\n",
       "        vertical-align: middle;\n",
       "    }\n",
       "\n",
       "    .dataframe tbody tr th {\n",
       "        vertical-align: top;\n",
       "    }\n",
       "\n",
       "    .dataframe thead th {\n",
       "        text-align: right;\n",
       "    }\n",
       "</style>\n",
       "<table border=\"1\" class=\"dataframe\">\n",
       "  <thead>\n",
       "    <tr style=\"text-align: right;\">\n",
       "      <th></th>\n",
       "      <th>Количество семей по статусу</th>\n",
       "      <th>Отношение между суммой и количеством</th>\n",
       "    </tr>\n",
       "    <tr>\n",
       "      <th>family_status</th>\n",
       "      <th></th>\n",
       "      <th></th>\n",
       "    </tr>\n",
       "  </thead>\n",
       "  <tbody>\n",
       "    <tr>\n",
       "      <th>Не женат / не замужем</th>\n",
       "      <td>2796</td>\n",
       "      <td>0.097639</td>\n",
       "    </tr>\n",
       "    <tr>\n",
       "      <th>в разводе</th>\n",
       "      <td>1189</td>\n",
       "      <td>0.070648</td>\n",
       "    </tr>\n",
       "    <tr>\n",
       "      <th>вдовец / вдова</th>\n",
       "      <td>951</td>\n",
       "      <td>0.066246</td>\n",
       "    </tr>\n",
       "    <tr>\n",
       "      <th>гражданский брак</th>\n",
       "      <td>4134</td>\n",
       "      <td>0.093130</td>\n",
       "    </tr>\n",
       "    <tr>\n",
       "      <th>женат / замужем</th>\n",
       "      <td>12261</td>\n",
       "      <td>0.075606</td>\n",
       "    </tr>\n",
       "  </tbody>\n",
       "</table>\n",
       "</div>"
      ],
      "text/plain": [
       "                       Количество семей по статусу  \\\n",
       "family_status                                        \n",
       "Не женат / не замужем                         2796   \n",
       "в разводе                                     1189   \n",
       "вдовец / вдова                                 951   \n",
       "гражданский брак                              4134   \n",
       "женат / замужем                              12261   \n",
       "\n",
       "                       Отношение между суммой и количеством  \n",
       "family_status                                                \n",
       "Не женат / не замужем                              0.097639  \n",
       "в разводе                                          0.070648  \n",
       "вдовец / вдова                                     0.066246  \n",
       "гражданский брак                                   0.093130  \n",
       "женат / замужем                                    0.075606  "
      ]
     },
     "execution_count": 23,
     "metadata": {},
     "output_type": "execute_result"
    }
   ],
   "source": [
    "s1 = (data.groupby('family_status')['debt'].sum() / data.groupby('family_status')['debt'].count()) #считаем отношение между суммой должников и их количеством по семейному положению\n",
    "s2 = data.groupby('family_status')['debt'].count()\n",
    "\n",
    "df = pd.DataFrame({'Количество семей по статусу':s2, 'Отношение между суммой и количеством':s1})\n",
    "df"
   ]
  },
  {
   "cell_type": "markdown",
   "id": "a5502f70",
   "metadata": {
    "deletable": false,
    "id": "1cef7837"
   },
   "source": [
    "**Вывод**\n",
    "\n",
    "<p></p>\n",
    "\n",
    "<div style=\"border:solid green 2px; padding: 20px\">\n",
    "    Посчитав отношение между суммой должников и их количеством в разрезе семейного положения, можно сделать следующий вывод: зависимости между семейным положением и возвратом кредита в срок нет. Также стоит обратить внимание, что у групппы семей со статусом \"не женат/не замужем\" и \"гражданский брак\" более склонны к просрочкам по кредитам. \n",
    "<br>\n",
    "    Самая ответственная категория людей \"вдовец/вдова\".\n",
    "\n",
    "</div>"
   ]
  },
  {
   "cell_type": "markdown",
   "id": "f6ca3c77",
   "metadata": {
    "deletable": false,
    "editable": false,
    "id": "1e8b2fca"
   },
   "source": [
    "#### 3.3 Есть ли зависимость между уровнем дохода и возвратом кредита в срок?"
   ]
  },
  {
   "cell_type": "code",
   "execution_count": 24,
   "id": "ffc305dd",
   "metadata": {
    "deletable": false,
    "id": "cd7e3720"
   },
   "outputs": [
    {
     "data": {
      "text/html": [
       "<div>\n",
       "<style scoped>\n",
       "    .dataframe tbody tr th:only-of-type {\n",
       "        vertical-align: middle;\n",
       "    }\n",
       "\n",
       "    .dataframe tbody tr th {\n",
       "        vertical-align: top;\n",
       "    }\n",
       "\n",
       "    .dataframe thead th {\n",
       "        text-align: right;\n",
       "    }\n",
       "</style>\n",
       "<table border=\"1\" class=\"dataframe\">\n",
       "  <thead>\n",
       "    <tr style=\"text-align: right;\">\n",
       "      <th></th>\n",
       "      <th>Количество семей по доходу</th>\n",
       "      <th>Отношение дохода к возврату в срок</th>\n",
       "    </tr>\n",
       "    <tr>\n",
       "      <th>total_income_category</th>\n",
       "      <th></th>\n",
       "      <th></th>\n",
       "    </tr>\n",
       "  </thead>\n",
       "  <tbody>\n",
       "    <tr>\n",
       "      <th>0–30000</th>\n",
       "      <td>22</td>\n",
       "      <td>0.090909</td>\n",
       "    </tr>\n",
       "    <tr>\n",
       "      <th>1000001 и выше</th>\n",
       "      <td>25</td>\n",
       "      <td>0.080000</td>\n",
       "    </tr>\n",
       "    <tr>\n",
       "      <th>200001–1000000</th>\n",
       "      <td>5014</td>\n",
       "      <td>0.070602</td>\n",
       "    </tr>\n",
       "    <tr>\n",
       "      <th>30001–50000</th>\n",
       "      <td>349</td>\n",
       "      <td>0.060172</td>\n",
       "    </tr>\n",
       "    <tr>\n",
       "      <th>50001–200000</th>\n",
       "      <td>15921</td>\n",
       "      <td>0.084982</td>\n",
       "    </tr>\n",
       "  </tbody>\n",
       "</table>\n",
       "</div>"
      ],
      "text/plain": [
       "                       Количество семей по доходу  \\\n",
       "total_income_category                               \n",
       "0–30000                                        22   \n",
       "1000001 и выше                                 25   \n",
       "200001–1000000                               5014   \n",
       "30001–50000                                   349   \n",
       "50001–200000                                15921   \n",
       "\n",
       "                       Отношение дохода к возврату в срок  \n",
       "total_income_category                                      \n",
       "0–30000                                          0.090909  \n",
       "1000001 и выше                                   0.080000  \n",
       "200001–1000000                                   0.070602  \n",
       "30001–50000                                      0.060172  \n",
       "50001–200000                                     0.084982  "
      ]
     },
     "execution_count": 24,
     "metadata": {},
     "output_type": "execute_result"
    }
   ],
   "source": [
    "s1 = data.groupby('total_income_category')['debt'].count()\n",
    "s2 = (data.groupby('total_income_category')['debt'].sum() / data.groupby('total_income_category')['debt'].count()).sort_values()\n",
    "\n",
    "df = pd.DataFrame({'Количество семей по доходу':s1, 'Отношение дохода к возврату в срок':s2})\n",
    "df"
   ]
  },
  {
   "cell_type": "markdown",
   "id": "ea5f4544",
   "metadata": {
    "deletable": false,
    "id": "e8593def"
   },
   "source": [
    "**Вывод**\n",
    "\n",
    "<p></p>\n",
    "\n",
    "<div style=\"border:solid green 2px; padding: 20px\">\n",
    "    Зависимость между уровнем дохода и возвратом кредита в срок имеется. В ходе проведенного исследования можно сделать следующие выводы: граждане с низким уровнем дохода (0–30000) наиболее склонны к задержкам в выплате по кредитам, чем остальные. <br> \n",
    "    Среднестатистическую ответственность по выплате кредитов в срок наблюдаем у граждан  категории В (200001–1000000), A (1000001 и выше) и C (50001–200000). <br>\n",
    "    Самыми ответственными гражданами является категория D (30001–50000).\n",
    "</div>"
   ]
  },
  {
   "cell_type": "markdown",
   "id": "90434ef7",
   "metadata": {
    "deletable": false,
    "editable": false,
    "id": "99ecbd1f"
   },
   "source": [
    "#### 3.4 Как разные цели кредита влияют на его возврат в срок?"
   ]
  },
  {
   "cell_type": "code",
   "execution_count": 25,
   "id": "12c9d215",
   "metadata": {
    "deletable": false,
    "id": "2b687290"
   },
   "outputs": [
    {
     "data": {
      "text/html": [
       "<div>\n",
       "<style scoped>\n",
       "    .dataframe tbody tr th:only-of-type {\n",
       "        vertical-align: middle;\n",
       "    }\n",
       "\n",
       "    .dataframe tbody tr th {\n",
       "        vertical-align: top;\n",
       "    }\n",
       "\n",
       "    .dataframe thead th {\n",
       "        text-align: right;\n",
       "    }\n",
       "</style>\n",
       "<table border=\"1\" class=\"dataframe\">\n",
       "  <thead>\n",
       "    <tr style=\"text-align: right;\">\n",
       "      <th></th>\n",
       "      <th>Количество семей по цели кредита</th>\n",
       "      <th>Влияние цели на возврат в срок</th>\n",
       "    </tr>\n",
       "    <tr>\n",
       "      <th>purpose_category</th>\n",
       "      <th></th>\n",
       "      <th></th>\n",
       "    </tr>\n",
       "  </thead>\n",
       "  <tbody>\n",
       "    <tr>\n",
       "      <th>операции с автомобилем</th>\n",
       "      <td>4279</td>\n",
       "      <td>0.093480</td>\n",
       "    </tr>\n",
       "    <tr>\n",
       "      <th>операции с недвижимостью</th>\n",
       "      <td>10751</td>\n",
       "      <td>0.072551</td>\n",
       "    </tr>\n",
       "    <tr>\n",
       "      <th>получение образования</th>\n",
       "      <td>3988</td>\n",
       "      <td>0.092528</td>\n",
       "    </tr>\n",
       "    <tr>\n",
       "      <th>проведение свадьбы</th>\n",
       "      <td>2313</td>\n",
       "      <td>0.079118</td>\n",
       "    </tr>\n",
       "  </tbody>\n",
       "</table>\n",
       "</div>"
      ],
      "text/plain": [
       "                          Количество семей по цели кредита  \\\n",
       "purpose_category                                             \n",
       "операции с автомобилем                                4279   \n",
       "операции с недвижимостью                             10751   \n",
       "получение образования                                 3988   \n",
       "проведение свадьбы                                    2313   \n",
       "\n",
       "                          Влияние цели на возврат в срок  \n",
       "purpose_category                                          \n",
       "операции с автомобилем                          0.093480  \n",
       "операции с недвижимостью                        0.072551  \n",
       "получение образования                           0.092528  \n",
       "проведение свадьбы                              0.079118  "
      ]
     },
     "execution_count": 25,
     "metadata": {},
     "output_type": "execute_result"
    }
   ],
   "source": [
    "s1 = data.groupby('purpose_category')['debt'].count()\n",
    "s2 = data.groupby('purpose_category')['debt'].sum() / data.groupby('purpose_category')['debt'].count()\n",
    "\n",
    "df = pd.DataFrame({'Количество семей по цели кредита':s1, 'Влияние цели на возврат в срок':s2})\n",
    "df"
   ]
  },
  {
   "cell_type": "markdown",
   "id": "f5ea39f5",
   "metadata": {
    "deletable": false,
    "id": "b4bb2ce6"
   },
   "source": [
    "**Вывод**\n",
    "\n",
    "<p></p>\n",
    "\n",
    "<div style=\"border:solid green 2px; padding: 20px\">\n",
    "Разные цели кредита влияют на его возврат в срок. Согласно результату выше, можно заметить, что покупка в кредит автомобиля и получение образования наиболее вероятно будут выплачены с просрочкой. А категории покупок, связанных с недвижимостью и свадьбой, более вероятно будут выплачены в срок, относительно остальных категорий. \n",
    "\n",
    "\n",
    "</div>"
   ]
  },
  {
   "cell_type": "markdown",
   "id": "22ca380c",
   "metadata": {
    "deletable": false,
    "editable": false,
    "id": "09c3ac4c"
   },
   "source": [
    "#### 3.5 Приведите возможные причины появления пропусков в исходных данных."
   ]
  },
  {
   "cell_type": "markdown",
   "id": "a677d0ad",
   "metadata": {
    "deletable": false,
    "id": "9da2ceda"
   },
   "source": [
    "**Ответ**\n",
    "\n",
    "<p></p>\n",
    "\n",
    "<div style=\"border:solid green 2px; padding: 20px\">\n",
    "К возможным причинам появления пропусков в исходных данных можно отнести: человеческий фактор (например при внесении данных, могли случайно нажать пробел, скопировать лишние символы, удалить значения ячеек). \n",
    "<br>   \n",
    "Также могут быть технические причины появления пропусков (например, неудачно написанный код, по которому происходила загрузка данных с сервера). \n",
    "<br>   \n",
    "Также, например, пользователь не указал о себе какие-нибудь сведения или автоматизированная система сбора информации дала сбой. Иногда пропуски оставляют умышленно, рассчитывая на автозаполнение спецсимволами. \n",
    "<br> \n",
    "Также пользователи могут заполнить в анкетах не все данные. \n",
    "\n",
    "</div>"
   ]
  },
  {
   "cell_type": "markdown",
   "id": "b97569b6",
   "metadata": {
    "deletable": false,
    "editable": false,
    "id": "7b0487d6"
   },
   "source": [
    "#### 3.6 Объясните, почему заполнить пропуски медианным значением — лучшее решение для количественных переменных."
   ]
  },
  {
   "cell_type": "markdown",
   "id": "e6b4cbc2",
   "metadata": {
    "deletable": false,
    "id": "7ecf2b8e"
   },
   "source": [
    "**Ответ**\n",
    "\n",
    "<p></p>\n",
    "\n",
    "<div style=\"border:solid green 2px; padding: 20px\">\n",
    "При выявлении пропусков в количественных переменных - их необходимо заполнить характернымыми значениями (средним арифметическим или медианой). В нашем проекте необходимо было заполнить медианным значением пропуски по общему трудовому стажу в днях. Заполнять пропуски в количественных переменных нужно именно медианным значением, так как среднее значение некорректно характеризует данные, когда некоторые значения сильно выделяются среди большинства. Например, в старом коллективе 5 сотрудников компании получают зарплату по 800 000 рублей. Затем на работу взяли нового руководителя отдела продаж с зарплатой 2 000 000 руб. Была средняя и медианная запрплата 800 000 руб, а стала средняя 1 000 000 руб, медианная 800 000 руб. Когда в выборке присутствуют выдающиеся значения (300 против 100), лучше использовать медиану.\n",
    "\n",
    "\n",
    "</div>"
   ]
  },
  {
   "cell_type": "markdown",
   "id": "aca8b1ca",
   "metadata": {
    "deletable": false,
    "editable": false,
    "id": "6db5255a"
   },
   "source": [
    "### Шаг 4: общий вывод."
   ]
  },
  {
   "cell_type": "markdown",
   "id": "a5052dd1",
   "metadata": {
    "deletable": false,
    "id": "bad65432"
   },
   "source": [
    "**Общий вывод**\n",
    "\n",
    "<p></p>\n",
    "\n",
    "<div style=\"border:solid green 2px; padding: 20px\">\n",
    "\n",
    "При построении модели кредитного скоринга — специальной системы, которая оценивает способность потенциального заёмщика вернуть кредит банку, результатов проведенных исследований надежности заемщиков будет достаточно. Самым платежеспособным клиентом будет: \"вдовец/вдова\" с пятью детьми со средним достатком. Самым рискованным клиентом будет клиент с низким достатком (0–30000) и без детей. Вероятность не выплаты задолженности по возврату кредита у клиента с низким достатком более высокая. Семейное положение и количество детей клиента влияет на факт погашения кредита в срок. Категории покупок, связанных с недвижимостью и свадьбой, более вероятно будут выплачены в срок, относительно остальных категорий. \n",
    "    \n",
    "\n",
    "</div>"
   ]
  }
 ],
 "metadata": {
  "ExecuteTimeLog": [
   {
    "duration": 675,
    "start_time": "2022-08-29T15:32:15.711Z"
   },
   {
    "duration": 416,
    "start_time": "2022-08-29T15:40:36.757Z"
   },
   {
    "duration": 20,
    "start_time": "2022-08-29T15:40:37.175Z"
   },
   {
    "duration": 14,
    "start_time": "2022-08-29T15:40:37.196Z"
   },
   {
    "duration": 9,
    "start_time": "2022-08-29T15:40:37.213Z"
   },
   {
    "duration": 28,
    "start_time": "2022-08-29T15:40:37.224Z"
   },
   {
    "duration": 4,
    "start_time": "2022-08-29T15:40:37.253Z"
   },
   {
    "duration": 9,
    "start_time": "2022-08-29T15:40:37.258Z"
   },
   {
    "duration": 32,
    "start_time": "2022-08-29T15:40:37.268Z"
   },
   {
    "duration": 6,
    "start_time": "2022-08-29T15:40:37.302Z"
   },
   {
    "duration": 5,
    "start_time": "2022-08-29T15:40:37.310Z"
   },
   {
    "duration": 29,
    "start_time": "2022-08-29T15:40:37.316Z"
   },
   {
    "duration": 8,
    "start_time": "2022-08-29T15:40:37.346Z"
   },
   {
    "duration": 3,
    "start_time": "2022-08-29T15:40:37.355Z"
   },
   {
    "duration": 40,
    "start_time": "2022-08-29T15:40:37.359Z"
   },
   {
    "duration": 20,
    "start_time": "2022-08-29T15:40:37.400Z"
   },
   {
    "duration": 15,
    "start_time": "2022-08-29T15:40:37.421Z"
   },
   {
    "duration": 3,
    "start_time": "2022-08-29T15:40:37.437Z"
   },
   {
    "duration": 9,
    "start_time": "2022-08-29T15:40:37.441Z"
   },
   {
    "duration": 8,
    "start_time": "2022-08-29T15:40:37.451Z"
   },
   {
    "duration": 3,
    "start_time": "2022-08-29T15:40:37.460Z"
   },
   {
    "duration": 13,
    "start_time": "2022-08-29T15:40:37.464Z"
   },
   {
    "duration": 3,
    "start_time": "2022-08-29T15:40:37.497Z"
   },
   {
    "duration": 6,
    "start_time": "2022-08-29T15:40:37.501Z"
   },
   {
    "duration": 5,
    "start_time": "2022-08-29T15:40:37.508Z"
   },
   {
    "duration": 4,
    "start_time": "2022-08-29T15:40:37.514Z"
   },
   {
    "duration": 5,
    "start_time": "2022-08-29T15:52:16.926Z"
   },
   {
    "duration": 461,
    "start_time": "2022-08-29T15:52:41.116Z"
   },
   {
    "duration": 18,
    "start_time": "2022-08-29T15:52:41.579Z"
   },
   {
    "duration": 21,
    "start_time": "2022-08-29T15:52:41.598Z"
   },
   {
    "duration": 13,
    "start_time": "2022-08-29T15:52:41.621Z"
   },
   {
    "duration": 44,
    "start_time": "2022-08-29T15:52:41.635Z"
   },
   {
    "duration": 4,
    "start_time": "2022-08-29T15:52:41.680Z"
   },
   {
    "duration": 21,
    "start_time": "2022-08-29T15:52:41.685Z"
   },
   {
    "duration": 18,
    "start_time": "2022-08-29T15:52:41.708Z"
   },
   {
    "duration": 22,
    "start_time": "2022-08-29T15:52:41.727Z"
   },
   {
    "duration": 18,
    "start_time": "2022-08-29T15:52:41.751Z"
   },
   {
    "duration": 50,
    "start_time": "2022-08-29T15:52:41.770Z"
   },
   {
    "duration": 8,
    "start_time": "2022-08-29T15:52:41.821Z"
   },
   {
    "duration": 24,
    "start_time": "2022-08-29T15:52:41.830Z"
   },
   {
    "duration": 25,
    "start_time": "2022-08-29T15:52:41.855Z"
   },
   {
    "duration": 36,
    "start_time": "2022-08-29T15:52:41.881Z"
   },
   {
    "duration": 15,
    "start_time": "2022-08-29T15:52:41.919Z"
   },
   {
    "duration": 12,
    "start_time": "2022-08-29T15:52:41.935Z"
   },
   {
    "duration": 22,
    "start_time": "2022-08-29T15:52:41.949Z"
   },
   {
    "duration": 21,
    "start_time": "2022-08-29T15:52:41.973Z"
   },
   {
    "duration": 14,
    "start_time": "2022-08-29T15:52:41.995Z"
   },
   {
    "duration": 21,
    "start_time": "2022-08-29T15:52:42.011Z"
   },
   {
    "duration": 16,
    "start_time": "2022-08-29T15:52:42.034Z"
   },
   {
    "duration": 14,
    "start_time": "2022-08-29T15:52:42.051Z"
   },
   {
    "duration": 17,
    "start_time": "2022-08-29T15:52:42.066Z"
   },
   {
    "duration": 28,
    "start_time": "2022-08-29T15:52:42.084Z"
   },
   {
    "duration": 4,
    "start_time": "2022-08-29T15:53:29.390Z"
   },
   {
    "duration": 4,
    "start_time": "2022-08-29T15:54:57.702Z"
   },
   {
    "duration": 5,
    "start_time": "2022-08-29T15:58:11.313Z"
   },
   {
    "duration": 6,
    "start_time": "2022-08-29T15:58:37.104Z"
   },
   {
    "duration": 5,
    "start_time": "2022-08-29T15:58:48.939Z"
   },
   {
    "duration": 5,
    "start_time": "2022-08-29T16:07:47.905Z"
   },
   {
    "duration": 5,
    "start_time": "2022-08-29T16:07:56.748Z"
   },
   {
    "duration": 7,
    "start_time": "2022-08-29T16:09:33.384Z"
   },
   {
    "duration": 5,
    "start_time": "2022-08-29T16:09:52.970Z"
   },
   {
    "duration": 479,
    "start_time": "2022-08-29T16:24:43.698Z"
   },
   {
    "duration": 21,
    "start_time": "2022-08-29T16:24:44.179Z"
   },
   {
    "duration": 14,
    "start_time": "2022-08-29T16:24:44.202Z"
   },
   {
    "duration": 8,
    "start_time": "2022-08-29T16:24:44.218Z"
   },
   {
    "duration": 30,
    "start_time": "2022-08-29T16:24:44.227Z"
   },
   {
    "duration": 4,
    "start_time": "2022-08-29T16:24:44.258Z"
   },
   {
    "duration": 11,
    "start_time": "2022-08-29T16:24:44.263Z"
   },
   {
    "duration": 4,
    "start_time": "2022-08-29T16:24:44.299Z"
   },
   {
    "duration": 9,
    "start_time": "2022-08-29T16:24:44.305Z"
   },
   {
    "duration": 4,
    "start_time": "2022-08-29T16:24:44.317Z"
   },
   {
    "duration": 31,
    "start_time": "2022-08-29T16:24:44.323Z"
   },
   {
    "duration": 10,
    "start_time": "2022-08-29T16:24:44.355Z"
   },
   {
    "duration": 32,
    "start_time": "2022-08-29T16:24:44.366Z"
   },
   {
    "duration": 24,
    "start_time": "2022-08-29T16:24:44.400Z"
   },
   {
    "duration": 33,
    "start_time": "2022-08-29T16:24:44.426Z"
   },
   {
    "duration": 19,
    "start_time": "2022-08-29T16:24:44.461Z"
   },
   {
    "duration": 5,
    "start_time": "2022-08-29T16:24:44.482Z"
   },
   {
    "duration": 23,
    "start_time": "2022-08-29T16:24:44.489Z"
   },
   {
    "duration": 20,
    "start_time": "2022-08-29T16:24:44.514Z"
   },
   {
    "duration": 5,
    "start_time": "2022-08-29T16:24:44.535Z"
   },
   {
    "duration": 13,
    "start_time": "2022-08-29T16:24:44.541Z"
   },
   {
    "duration": 6,
    "start_time": "2022-08-29T16:24:44.556Z"
   },
   {
    "duration": 5,
    "start_time": "2022-08-29T16:24:44.564Z"
   },
   {
    "duration": 11,
    "start_time": "2022-08-29T16:24:44.571Z"
   },
   {
    "duration": 16,
    "start_time": "2022-08-29T16:24:44.584Z"
   },
   {
    "duration": 472,
    "start_time": "2022-08-29T16:36:27.771Z"
   },
   {
    "duration": 18,
    "start_time": "2022-08-29T16:36:28.245Z"
   },
   {
    "duration": 12,
    "start_time": "2022-08-29T16:36:28.265Z"
   },
   {
    "duration": 20,
    "start_time": "2022-08-29T16:36:28.279Z"
   },
   {
    "duration": 27,
    "start_time": "2022-08-29T16:36:28.300Z"
   },
   {
    "duration": 3,
    "start_time": "2022-08-29T16:36:28.328Z"
   },
   {
    "duration": 9,
    "start_time": "2022-08-29T16:36:28.333Z"
   },
   {
    "duration": 7,
    "start_time": "2022-08-29T16:36:28.343Z"
   },
   {
    "duration": 13,
    "start_time": "2022-08-29T16:36:28.351Z"
   },
   {
    "duration": 4,
    "start_time": "2022-08-29T16:36:28.367Z"
   },
   {
    "duration": 45,
    "start_time": "2022-08-29T16:36:28.372Z"
   },
   {
    "duration": 9,
    "start_time": "2022-08-29T16:36:28.419Z"
   },
   {
    "duration": 17,
    "start_time": "2022-08-29T16:36:28.430Z"
   },
   {
    "duration": 16,
    "start_time": "2022-08-29T16:36:28.449Z"
   },
   {
    "duration": 19,
    "start_time": "2022-08-29T16:36:28.467Z"
   },
   {
    "duration": 21,
    "start_time": "2022-08-29T16:36:28.487Z"
   },
   {
    "duration": 4,
    "start_time": "2022-08-29T16:36:28.510Z"
   },
   {
    "duration": 10,
    "start_time": "2022-08-29T16:36:28.515Z"
   },
   {
    "duration": 5,
    "start_time": "2022-08-29T16:36:28.526Z"
   },
   {
    "duration": 3,
    "start_time": "2022-08-29T16:36:28.532Z"
   },
   {
    "duration": 9,
    "start_time": "2022-08-29T16:36:28.537Z"
   },
   {
    "duration": 5,
    "start_time": "2022-08-29T16:36:28.547Z"
   },
   {
    "duration": 8,
    "start_time": "2022-08-29T16:36:28.553Z"
   },
   {
    "duration": 4,
    "start_time": "2022-08-29T16:36:28.563Z"
   },
   {
    "duration": 4,
    "start_time": "2022-08-29T16:36:28.568Z"
   },
   {
    "duration": 431,
    "start_time": "2022-08-29T16:45:28.821Z"
   },
   {
    "duration": 19,
    "start_time": "2022-08-29T16:45:29.254Z"
   },
   {
    "duration": 12,
    "start_time": "2022-08-29T16:45:29.274Z"
   },
   {
    "duration": 11,
    "start_time": "2022-08-29T16:45:29.288Z"
   },
   {
    "duration": 29,
    "start_time": "2022-08-29T16:45:29.300Z"
   },
   {
    "duration": 3,
    "start_time": "2022-08-29T16:45:29.330Z"
   },
   {
    "duration": 9,
    "start_time": "2022-08-29T16:45:29.334Z"
   },
   {
    "duration": 7,
    "start_time": "2022-08-29T16:45:29.345Z"
   },
   {
    "duration": 8,
    "start_time": "2022-08-29T16:45:29.353Z"
   },
   {
    "duration": 5,
    "start_time": "2022-08-29T16:45:29.363Z"
   },
   {
    "duration": 52,
    "start_time": "2022-08-29T16:45:29.369Z"
   },
   {
    "duration": 8,
    "start_time": "2022-08-29T16:45:29.422Z"
   },
   {
    "duration": 3,
    "start_time": "2022-08-29T16:45:29.432Z"
   },
   {
    "duration": 10,
    "start_time": "2022-08-29T16:45:29.436Z"
   },
   {
    "duration": 18,
    "start_time": "2022-08-29T16:45:29.447Z"
   },
   {
    "duration": 36,
    "start_time": "2022-08-29T16:45:29.467Z"
   },
   {
    "duration": 3,
    "start_time": "2022-08-29T16:45:29.504Z"
   },
   {
    "duration": 11,
    "start_time": "2022-08-29T16:45:29.508Z"
   },
   {
    "duration": 9,
    "start_time": "2022-08-29T16:45:29.520Z"
   },
   {
    "duration": 4,
    "start_time": "2022-08-29T16:45:29.530Z"
   },
   {
    "duration": 8,
    "start_time": "2022-08-29T16:45:29.535Z"
   },
   {
    "duration": 6,
    "start_time": "2022-08-29T16:45:29.545Z"
   },
   {
    "duration": 2,
    "start_time": "2022-08-29T16:45:29.552Z"
   },
   {
    "duration": 6,
    "start_time": "2022-08-29T16:45:29.555Z"
   },
   {
    "duration": 4,
    "start_time": "2022-08-29T16:45:29.562Z"
   },
   {
    "duration": 7,
    "start_time": "2022-08-29T16:51:32.357Z"
   },
   {
    "duration": 6,
    "start_time": "2022-08-29T16:54:36.950Z"
   },
   {
    "duration": 7,
    "start_time": "2022-08-29T16:56:40.810Z"
   },
   {
    "duration": 7,
    "start_time": "2022-08-29T16:58:10.705Z"
   },
   {
    "duration": 8,
    "start_time": "2022-08-29T16:59:57.108Z"
   },
   {
    "duration": 8,
    "start_time": "2022-08-29T17:00:12.060Z"
   },
   {
    "duration": 9,
    "start_time": "2022-08-29T17:00:29.392Z"
   },
   {
    "duration": 9,
    "start_time": "2022-08-29T17:00:36.768Z"
   },
   {
    "duration": 7,
    "start_time": "2022-08-29T17:00:51.274Z"
   },
   {
    "duration": 63,
    "start_time": "2022-08-29T17:01:46.601Z"
   },
   {
    "duration": 46,
    "start_time": "2022-08-29T17:01:53.513Z"
   },
   {
    "duration": 8,
    "start_time": "2022-08-29T17:01:58.651Z"
   },
   {
    "duration": 10,
    "start_time": "2022-08-29T17:02:04.411Z"
   },
   {
    "duration": 7,
    "start_time": "2022-08-29T17:04:32.438Z"
   },
   {
    "duration": 12,
    "start_time": "2022-08-29T17:06:46.611Z"
   },
   {
    "duration": 8,
    "start_time": "2022-08-29T17:07:17.063Z"
   },
   {
    "duration": 10,
    "start_time": "2022-08-29T17:09:48.752Z"
   },
   {
    "duration": 10,
    "start_time": "2022-08-29T17:09:54.824Z"
   },
   {
    "duration": 8,
    "start_time": "2022-08-29T17:12:03.713Z"
   },
   {
    "duration": 6,
    "start_time": "2022-08-29T17:12:26.439Z"
   },
   {
    "duration": 13,
    "start_time": "2022-08-29T17:13:51.059Z"
   },
   {
    "duration": 11,
    "start_time": "2022-08-29T17:14:53.482Z"
   },
   {
    "duration": 11,
    "start_time": "2022-08-29T17:15:59.547Z"
   },
   {
    "duration": 13,
    "start_time": "2022-08-29T17:16:56.124Z"
   },
   {
    "duration": 7,
    "start_time": "2022-08-29T17:17:38.853Z"
   },
   {
    "duration": 7,
    "start_time": "2022-08-29T17:31:33.864Z"
   },
   {
    "duration": 7,
    "start_time": "2022-08-29T17:31:39.254Z"
   },
   {
    "duration": 9,
    "start_time": "2022-08-29T17:31:49.182Z"
   },
   {
    "duration": 9,
    "start_time": "2022-08-29T17:33:31.705Z"
   },
   {
    "duration": 11,
    "start_time": "2022-08-29T17:43:16.788Z"
   },
   {
    "duration": 8,
    "start_time": "2022-08-29T17:44:07.651Z"
   },
   {
    "duration": 15,
    "start_time": "2022-08-29T17:44:35.954Z"
   },
   {
    "duration": 9,
    "start_time": "2022-08-29T17:59:36.798Z"
   },
   {
    "duration": 10,
    "start_time": "2022-08-29T17:59:57.292Z"
   },
   {
    "duration": 16,
    "start_time": "2022-08-29T18:03:01.561Z"
   },
   {
    "duration": 10,
    "start_time": "2022-08-29T18:03:18.268Z"
   },
   {
    "duration": 12,
    "start_time": "2022-08-29T18:03:25.687Z"
   },
   {
    "duration": 12,
    "start_time": "2022-08-29T18:03:49.603Z"
   },
   {
    "duration": 10,
    "start_time": "2022-08-29T18:04:36.582Z"
   },
   {
    "duration": 14,
    "start_time": "2022-08-29T18:05:38.888Z"
   },
   {
    "duration": 11,
    "start_time": "2022-08-29T18:06:40.991Z"
   },
   {
    "duration": 10,
    "start_time": "2022-08-29T18:11:43.562Z"
   },
   {
    "duration": 9,
    "start_time": "2022-08-29T18:16:49.719Z"
   },
   {
    "duration": 11,
    "start_time": "2022-08-29T18:16:59.969Z"
   },
   {
    "duration": 3,
    "start_time": "2022-08-29T18:21:32.117Z"
   },
   {
    "duration": 4,
    "start_time": "2022-08-29T18:21:51.833Z"
   },
   {
    "duration": 5,
    "start_time": "2022-08-29T18:22:16.119Z"
   },
   {
    "duration": 4,
    "start_time": "2022-08-29T18:22:23.661Z"
   },
   {
    "duration": 8,
    "start_time": "2022-08-29T18:22:36.047Z"
   },
   {
    "duration": 10,
    "start_time": "2022-08-29T18:22:48.060Z"
   },
   {
    "duration": 11,
    "start_time": "2022-08-29T18:23:53.364Z"
   },
   {
    "duration": 9,
    "start_time": "2022-08-29T18:24:34.806Z"
   },
   {
    "duration": 10,
    "start_time": "2022-08-29T18:24:45.708Z"
   },
   {
    "duration": 16,
    "start_time": "2022-08-29T18:26:13.440Z"
   },
   {
    "duration": 7,
    "start_time": "2022-08-29T18:26:58.779Z"
   },
   {
    "duration": 15,
    "start_time": "2022-08-29T18:27:50.335Z"
   },
   {
    "duration": 18,
    "start_time": "2022-08-29T18:41:39.261Z"
   },
   {
    "duration": 18,
    "start_time": "2022-08-29T18:41:50.509Z"
   },
   {
    "duration": 11,
    "start_time": "2022-08-29T18:42:39.409Z"
   },
   {
    "duration": 8,
    "start_time": "2022-08-29T18:43:04.215Z"
   },
   {
    "duration": 13,
    "start_time": "2022-08-29T18:43:34.455Z"
   },
   {
    "duration": 11,
    "start_time": "2022-08-29T18:44:14.361Z"
   },
   {
    "duration": 5,
    "start_time": "2022-08-29T18:44:59.085Z"
   },
   {
    "duration": 427,
    "start_time": "2022-08-29T18:45:22.532Z"
   },
   {
    "duration": 20,
    "start_time": "2022-08-29T18:45:22.961Z"
   },
   {
    "duration": 22,
    "start_time": "2022-08-29T18:45:22.983Z"
   },
   {
    "duration": 9,
    "start_time": "2022-08-29T18:45:23.007Z"
   },
   {
    "duration": 31,
    "start_time": "2022-08-29T18:45:23.017Z"
   },
   {
    "duration": 3,
    "start_time": "2022-08-29T18:45:23.049Z"
   },
   {
    "duration": 13,
    "start_time": "2022-08-29T18:45:23.054Z"
   },
   {
    "duration": 30,
    "start_time": "2022-08-29T18:45:23.069Z"
   },
   {
    "duration": 32,
    "start_time": "2022-08-29T18:45:23.101Z"
   },
   {
    "duration": 4,
    "start_time": "2022-08-29T18:45:23.137Z"
   },
   {
    "duration": 34,
    "start_time": "2022-08-29T18:45:23.143Z"
   },
   {
    "duration": 13,
    "start_time": "2022-08-29T18:45:23.178Z"
   },
   {
    "duration": 4,
    "start_time": "2022-08-29T18:45:23.193Z"
   },
   {
    "duration": 18,
    "start_time": "2022-08-29T18:45:23.199Z"
   },
   {
    "duration": 18,
    "start_time": "2022-08-29T18:45:23.218Z"
   },
   {
    "duration": 16,
    "start_time": "2022-08-29T18:45:23.237Z"
   },
   {
    "duration": 3,
    "start_time": "2022-08-29T18:45:23.254Z"
   },
   {
    "duration": 30,
    "start_time": "2022-08-29T18:45:23.259Z"
   },
   {
    "duration": 10,
    "start_time": "2022-08-29T18:45:23.291Z"
   },
   {
    "duration": 6,
    "start_time": "2022-08-29T18:45:23.303Z"
   },
   {
    "duration": 17,
    "start_time": "2022-08-29T18:45:23.310Z"
   },
   {
    "duration": 10,
    "start_time": "2022-08-29T18:45:23.329Z"
   },
   {
    "duration": 16,
    "start_time": "2022-08-29T18:45:23.341Z"
   },
   {
    "duration": 16,
    "start_time": "2022-08-29T18:45:23.359Z"
   },
   {
    "duration": 22,
    "start_time": "2022-08-29T18:45:23.376Z"
   },
   {
    "duration": 11,
    "start_time": "2022-08-29T18:46:26.754Z"
   },
   {
    "duration": 12,
    "start_time": "2022-08-29T18:46:49.717Z"
   },
   {
    "duration": 39,
    "start_time": "2022-08-29T18:49:40.365Z"
   },
   {
    "duration": 43,
    "start_time": "2022-08-29T18:50:21.807Z"
   },
   {
    "duration": 419,
    "start_time": "2022-08-29T18:50:35.051Z"
   },
   {
    "duration": 18,
    "start_time": "2022-08-29T18:50:35.472Z"
   },
   {
    "duration": 13,
    "start_time": "2022-08-29T18:50:35.494Z"
   },
   {
    "duration": 8,
    "start_time": "2022-08-29T18:50:35.508Z"
   },
   {
    "duration": 37,
    "start_time": "2022-08-29T18:50:35.517Z"
   },
   {
    "duration": 3,
    "start_time": "2022-08-29T18:50:35.556Z"
   },
   {
    "duration": 10,
    "start_time": "2022-08-29T18:50:35.561Z"
   },
   {
    "duration": 3,
    "start_time": "2022-08-29T18:50:35.573Z"
   },
   {
    "duration": 6,
    "start_time": "2022-08-29T18:50:35.599Z"
   },
   {
    "duration": 6,
    "start_time": "2022-08-29T18:50:35.606Z"
   },
   {
    "duration": 37,
    "start_time": "2022-08-29T18:50:35.613Z"
   },
   {
    "duration": 8,
    "start_time": "2022-08-29T18:50:35.651Z"
   },
   {
    "duration": 6,
    "start_time": "2022-08-29T18:50:35.660Z"
   },
   {
    "duration": 12,
    "start_time": "2022-08-29T18:50:35.667Z"
   },
   {
    "duration": 34,
    "start_time": "2022-08-29T18:50:35.680Z"
   },
   {
    "duration": 15,
    "start_time": "2022-08-29T18:50:35.715Z"
   },
   {
    "duration": 3,
    "start_time": "2022-08-29T18:50:35.731Z"
   },
   {
    "duration": 10,
    "start_time": "2022-08-29T18:50:35.736Z"
   },
   {
    "duration": 5,
    "start_time": "2022-08-29T18:50:35.747Z"
   },
   {
    "duration": 3,
    "start_time": "2022-08-29T18:50:35.753Z"
   },
   {
    "duration": 9,
    "start_time": "2022-08-29T18:50:35.757Z"
   },
   {
    "duration": 43,
    "start_time": "2022-08-29T18:50:35.767Z"
   },
   {
    "duration": 0,
    "start_time": "2022-08-29T18:50:35.812Z"
   },
   {
    "duration": 0,
    "start_time": "2022-08-29T18:50:35.812Z"
   },
   {
    "duration": 0,
    "start_time": "2022-08-29T18:50:35.813Z"
   },
   {
    "duration": 52,
    "start_time": "2022-08-29T18:50:55.192Z"
   },
   {
    "duration": 57,
    "start_time": "2022-08-29T18:51:32.409Z"
   },
   {
    "duration": 58,
    "start_time": "2022-08-29T18:51:47.414Z"
   },
   {
    "duration": 62,
    "start_time": "2022-08-29T18:52:04.254Z"
   },
   {
    "duration": 62,
    "start_time": "2022-08-29T18:53:03.912Z"
   },
   {
    "duration": 4,
    "start_time": "2022-08-29T18:53:19.220Z"
   },
   {
    "duration": 17,
    "start_time": "2022-08-29T18:53:42.439Z"
   },
   {
    "duration": 14,
    "start_time": "2022-08-29T18:54:23.315Z"
   },
   {
    "duration": 12,
    "start_time": "2022-08-29T18:55:40.428Z"
   },
   {
    "duration": 13,
    "start_time": "2022-08-29T18:56:42.000Z"
   },
   {
    "duration": 707,
    "start_time": "2022-08-29T18:57:59.683Z"
   },
   {
    "duration": 730,
    "start_time": "2022-08-29T18:58:30.281Z"
   },
   {
    "duration": 11,
    "start_time": "2022-08-29T18:59:16.883Z"
   },
   {
    "duration": 13,
    "start_time": "2022-08-29T19:00:22.619Z"
   },
   {
    "duration": 816,
    "start_time": "2022-08-29T19:00:49.561Z"
   },
   {
    "duration": 13,
    "start_time": "2022-08-29T19:01:01.867Z"
   },
   {
    "duration": 12,
    "start_time": "2022-08-29T19:02:08.112Z"
   },
   {
    "duration": 13,
    "start_time": "2022-08-29T19:03:06.945Z"
   },
   {
    "duration": 8,
    "start_time": "2022-08-29T19:04:22.618Z"
   },
   {
    "duration": 8,
    "start_time": "2022-08-29T19:05:12.825Z"
   },
   {
    "duration": 14,
    "start_time": "2022-08-29T19:07:45.720Z"
   },
   {
    "duration": 15,
    "start_time": "2022-08-29T19:08:37.868Z"
   },
   {
    "duration": 13,
    "start_time": "2022-08-29T19:09:35.754Z"
   },
   {
    "duration": 15,
    "start_time": "2022-08-29T19:11:17.107Z"
   },
   {
    "duration": 28,
    "start_time": "2022-08-29T19:11:52.133Z"
   },
   {
    "duration": 41,
    "start_time": "2022-08-29T19:18:54.494Z"
   },
   {
    "duration": 13,
    "start_time": "2022-08-29T19:19:48.369Z"
   },
   {
    "duration": 13,
    "start_time": "2022-08-29T19:20:08.161Z"
   },
   {
    "duration": 13,
    "start_time": "2022-08-29T19:21:36.019Z"
   },
   {
    "duration": 710,
    "start_time": "2022-08-29T19:21:59.283Z"
   },
   {
    "duration": 828,
    "start_time": "2022-08-29T19:22:39.642Z"
   },
   {
    "duration": 13,
    "start_time": "2022-08-29T19:22:58.724Z"
   },
   {
    "duration": 13,
    "start_time": "2022-08-29T19:23:03.736Z"
   },
   {
    "duration": 11,
    "start_time": "2022-08-29T19:24:17.866Z"
   },
   {
    "duration": 12,
    "start_time": "2022-08-29T19:24:34.994Z"
   },
   {
    "duration": 11,
    "start_time": "2022-08-29T19:24:41.607Z"
   },
   {
    "duration": 13,
    "start_time": "2022-08-29T19:25:14.452Z"
   },
   {
    "duration": 19,
    "start_time": "2022-08-29T19:26:44.471Z"
   },
   {
    "duration": 23,
    "start_time": "2022-08-29T19:29:08.353Z"
   },
   {
    "duration": 22,
    "start_time": "2022-08-29T19:29:50.856Z"
   },
   {
    "duration": 12,
    "start_time": "2022-08-29T19:31:15.047Z"
   },
   {
    "duration": 15,
    "start_time": "2022-08-29T19:34:27.967Z"
   },
   {
    "duration": 10,
    "start_time": "2022-08-29T19:34:45.591Z"
   },
   {
    "duration": 9,
    "start_time": "2022-08-29T19:35:34.987Z"
   },
   {
    "duration": 16,
    "start_time": "2022-08-29T19:37:06.045Z"
   },
   {
    "duration": 15,
    "start_time": "2022-08-29T19:37:47.848Z"
   },
   {
    "duration": 17,
    "start_time": "2022-08-29T19:37:56.928Z"
   },
   {
    "duration": 12,
    "start_time": "2022-08-29T19:38:47.493Z"
   },
   {
    "duration": 7,
    "start_time": "2022-08-29T19:40:00.087Z"
   },
   {
    "duration": 533,
    "start_time": "2022-08-29T19:40:14.187Z"
   },
   {
    "duration": 19,
    "start_time": "2022-08-29T19:40:14.721Z"
   },
   {
    "duration": 14,
    "start_time": "2022-08-29T19:40:14.742Z"
   },
   {
    "duration": 9,
    "start_time": "2022-08-29T19:40:14.758Z"
   },
   {
    "duration": 50,
    "start_time": "2022-08-29T19:40:14.769Z"
   },
   {
    "duration": 3,
    "start_time": "2022-08-29T19:40:14.821Z"
   },
   {
    "duration": 8,
    "start_time": "2022-08-29T19:40:14.825Z"
   },
   {
    "duration": 4,
    "start_time": "2022-08-29T19:40:14.834Z"
   },
   {
    "duration": 6,
    "start_time": "2022-08-29T19:40:14.839Z"
   },
   {
    "duration": 4,
    "start_time": "2022-08-29T19:40:14.848Z"
   },
   {
    "duration": 55,
    "start_time": "2022-08-29T19:40:14.853Z"
   },
   {
    "duration": 10,
    "start_time": "2022-08-29T19:40:14.910Z"
   },
   {
    "duration": 7,
    "start_time": "2022-08-29T19:40:14.921Z"
   },
   {
    "duration": 11,
    "start_time": "2022-08-29T19:40:14.930Z"
   },
   {
    "duration": 20,
    "start_time": "2022-08-29T19:40:14.943Z"
   },
   {
    "duration": 34,
    "start_time": "2022-08-29T19:40:14.964Z"
   },
   {
    "duration": 3,
    "start_time": "2022-08-29T19:40:15.000Z"
   },
   {
    "duration": 21,
    "start_time": "2022-08-29T19:40:15.004Z"
   },
   {
    "duration": 9,
    "start_time": "2022-08-29T19:40:15.027Z"
   },
   {
    "duration": 3,
    "start_time": "2022-08-29T19:40:15.037Z"
   },
   {
    "duration": 11,
    "start_time": "2022-08-29T19:40:15.042Z"
   },
   {
    "duration": 70,
    "start_time": "2022-08-29T19:40:15.054Z"
   },
   {
    "duration": 0,
    "start_time": "2022-08-29T19:40:15.125Z"
   },
   {
    "duration": 0,
    "start_time": "2022-08-29T19:40:15.126Z"
   },
   {
    "duration": 0,
    "start_time": "2022-08-29T19:40:15.127Z"
   },
   {
    "duration": 4,
    "start_time": "2022-08-29T19:40:26.767Z"
   },
   {
    "duration": 11,
    "start_time": "2022-08-29T19:40:34.538Z"
   },
   {
    "duration": 5,
    "start_time": "2022-08-29T19:41:37.274Z"
   },
   {
    "duration": 5,
    "start_time": "2022-08-29T19:41:43.996Z"
   },
   {
    "duration": 8,
    "start_time": "2022-08-29T19:43:30.767Z"
   },
   {
    "duration": 7,
    "start_time": "2022-08-29T19:43:57.908Z"
   },
   {
    "duration": 7,
    "start_time": "2022-08-29T19:44:02.636Z"
   },
   {
    "duration": 10,
    "start_time": "2022-08-29T19:44:08.694Z"
   },
   {
    "duration": 16,
    "start_time": "2022-08-29T19:45:59.315Z"
   },
   {
    "duration": 11,
    "start_time": "2022-08-29T20:14:33.193Z"
   },
   {
    "duration": 4,
    "start_time": "2022-08-29T20:16:07.454Z"
   },
   {
    "duration": 29,
    "start_time": "2022-08-29T20:17:31.324Z"
   },
   {
    "duration": 25,
    "start_time": "2022-08-29T20:17:33.799Z"
   },
   {
    "duration": 27,
    "start_time": "2022-08-29T20:17:43.479Z"
   },
   {
    "duration": 31,
    "start_time": "2022-08-29T20:18:04.908Z"
   },
   {
    "duration": 27,
    "start_time": "2022-08-29T20:18:28.620Z"
   },
   {
    "duration": 29,
    "start_time": "2022-08-29T20:18:36.128Z"
   },
   {
    "duration": 10,
    "start_time": "2022-08-29T20:20:39.958Z"
   },
   {
    "duration": 7,
    "start_time": "2022-08-29T20:21:10.718Z"
   },
   {
    "duration": 4,
    "start_time": "2022-08-29T20:21:24.886Z"
   },
   {
    "duration": 11,
    "start_time": "2022-08-29T20:21:48.150Z"
   },
   {
    "duration": 11,
    "start_time": "2022-08-29T20:28:49.574Z"
   },
   {
    "duration": 9,
    "start_time": "2022-08-29T20:29:30.094Z"
   },
   {
    "duration": 11,
    "start_time": "2022-08-29T20:49:33.827Z"
   },
   {
    "duration": 12,
    "start_time": "2022-08-29T20:49:46.421Z"
   },
   {
    "duration": 9,
    "start_time": "2022-08-29T20:50:37.566Z"
   },
   {
    "duration": 426,
    "start_time": "2022-08-29T21:25:39.336Z"
   },
   {
    "duration": 20,
    "start_time": "2022-08-29T21:25:39.765Z"
   },
   {
    "duration": 15,
    "start_time": "2022-08-29T21:25:39.786Z"
   },
   {
    "duration": 9,
    "start_time": "2022-08-29T21:25:39.803Z"
   },
   {
    "duration": 30,
    "start_time": "2022-08-29T21:25:39.813Z"
   },
   {
    "duration": 3,
    "start_time": "2022-08-29T21:25:39.845Z"
   },
   {
    "duration": 10,
    "start_time": "2022-08-29T21:25:39.849Z"
   },
   {
    "duration": 3,
    "start_time": "2022-08-29T21:25:39.861Z"
   },
   {
    "duration": 10,
    "start_time": "2022-08-29T21:25:39.866Z"
   },
   {
    "duration": 5,
    "start_time": "2022-08-29T21:25:39.897Z"
   },
   {
    "duration": 31,
    "start_time": "2022-08-29T21:25:39.903Z"
   },
   {
    "duration": 14,
    "start_time": "2022-08-29T21:25:39.935Z"
   },
   {
    "duration": 7,
    "start_time": "2022-08-29T21:25:39.951Z"
   },
   {
    "duration": 18,
    "start_time": "2022-08-29T21:25:39.960Z"
   },
   {
    "duration": 28,
    "start_time": "2022-08-29T21:25:39.998Z"
   },
   {
    "duration": 22,
    "start_time": "2022-08-29T21:25:40.028Z"
   },
   {
    "duration": 4,
    "start_time": "2022-08-29T21:25:40.051Z"
   },
   {
    "duration": 14,
    "start_time": "2022-08-29T21:25:40.056Z"
   },
   {
    "duration": 6,
    "start_time": "2022-08-29T21:25:40.071Z"
   },
   {
    "duration": 28,
    "start_time": "2022-08-29T21:25:40.078Z"
   },
   {
    "duration": 21,
    "start_time": "2022-08-29T21:25:40.108Z"
   },
   {
    "duration": 7,
    "start_time": "2022-08-29T21:25:40.131Z"
   },
   {
    "duration": 10,
    "start_time": "2022-08-29T21:25:40.140Z"
   },
   {
    "duration": 9,
    "start_time": "2022-08-29T21:25:40.152Z"
   },
   {
    "duration": 10,
    "start_time": "2022-08-29T21:25:40.162Z"
   },
   {
    "duration": 428,
    "start_time": "2022-08-29T21:28:43.953Z"
   },
   {
    "duration": 25,
    "start_time": "2022-08-29T21:28:44.383Z"
   },
   {
    "duration": 16,
    "start_time": "2022-08-29T21:28:44.410Z"
   },
   {
    "duration": 12,
    "start_time": "2022-08-29T21:28:44.428Z"
   },
   {
    "duration": 60,
    "start_time": "2022-08-29T21:28:44.442Z"
   },
   {
    "duration": 4,
    "start_time": "2022-08-29T21:28:44.504Z"
   },
   {
    "duration": 20,
    "start_time": "2022-08-29T21:28:44.510Z"
   },
   {
    "duration": 11,
    "start_time": "2022-08-29T21:28:44.532Z"
   },
   {
    "duration": 18,
    "start_time": "2022-08-29T21:28:44.545Z"
   },
   {
    "duration": 5,
    "start_time": "2022-08-29T21:28:44.566Z"
   },
   {
    "duration": 51,
    "start_time": "2022-08-29T21:28:44.573Z"
   },
   {
    "duration": 9,
    "start_time": "2022-08-29T21:28:44.625Z"
   },
   {
    "duration": 3,
    "start_time": "2022-08-29T21:28:44.636Z"
   },
   {
    "duration": 12,
    "start_time": "2022-08-29T21:28:44.641Z"
   },
   {
    "duration": 19,
    "start_time": "2022-08-29T21:28:44.654Z"
   },
   {
    "duration": 34,
    "start_time": "2022-08-29T21:28:44.675Z"
   },
   {
    "duration": 3,
    "start_time": "2022-08-29T21:28:44.710Z"
   },
   {
    "duration": 11,
    "start_time": "2022-08-29T21:28:44.715Z"
   },
   {
    "duration": 5,
    "start_time": "2022-08-29T21:28:44.728Z"
   },
   {
    "duration": 4,
    "start_time": "2022-08-29T21:28:44.734Z"
   },
   {
    "duration": 9,
    "start_time": "2022-08-29T21:28:44.739Z"
   },
   {
    "duration": 6,
    "start_time": "2022-08-29T21:28:44.750Z"
   },
   {
    "duration": 11,
    "start_time": "2022-08-29T21:28:44.757Z"
   },
   {
    "duration": 10,
    "start_time": "2022-08-29T21:28:44.798Z"
   },
   {
    "duration": 11,
    "start_time": "2022-08-29T21:28:44.809Z"
   },
   {
    "duration": 814,
    "start_time": "2022-08-29T21:31:50.839Z"
   },
   {
    "duration": 109,
    "start_time": "2022-08-29T21:33:55.157Z"
   },
   {
    "duration": 39,
    "start_time": "2022-08-29T21:34:09.543Z"
   },
   {
    "duration": 9,
    "start_time": "2022-08-29T21:36:41.194Z"
   },
   {
    "duration": 25,
    "start_time": "2022-08-29T21:37:41.263Z"
   },
   {
    "duration": 417,
    "start_time": "2022-08-29T21:38:37.433Z"
   },
   {
    "duration": 19,
    "start_time": "2022-08-29T21:38:37.852Z"
   },
   {
    "duration": 13,
    "start_time": "2022-08-29T21:38:37.872Z"
   },
   {
    "duration": 13,
    "start_time": "2022-08-29T21:38:37.887Z"
   },
   {
    "duration": 34,
    "start_time": "2022-08-29T21:38:37.901Z"
   },
   {
    "duration": 4,
    "start_time": "2022-08-29T21:38:37.936Z"
   },
   {
    "duration": 14,
    "start_time": "2022-08-29T21:38:37.941Z"
   },
   {
    "duration": 6,
    "start_time": "2022-08-29T21:38:37.956Z"
   },
   {
    "duration": 10,
    "start_time": "2022-08-29T21:38:37.963Z"
   },
   {
    "duration": 7,
    "start_time": "2022-08-29T21:38:37.976Z"
   },
   {
    "duration": 41,
    "start_time": "2022-08-29T21:38:37.984Z"
   },
   {
    "duration": 10,
    "start_time": "2022-08-29T21:38:38.026Z"
   },
   {
    "duration": 3,
    "start_time": "2022-08-29T21:38:38.038Z"
   },
   {
    "duration": 11,
    "start_time": "2022-08-29T21:38:38.043Z"
   },
   {
    "duration": 49,
    "start_time": "2022-08-29T21:38:38.055Z"
   },
   {
    "duration": 17,
    "start_time": "2022-08-29T21:38:38.105Z"
   },
   {
    "duration": 4,
    "start_time": "2022-08-29T21:38:38.123Z"
   },
   {
    "duration": 13,
    "start_time": "2022-08-29T21:38:38.128Z"
   },
   {
    "duration": 7,
    "start_time": "2022-08-29T21:38:38.142Z"
   },
   {
    "duration": 4,
    "start_time": "2022-08-29T21:38:38.150Z"
   },
   {
    "duration": 9,
    "start_time": "2022-08-29T21:38:38.156Z"
   },
   {
    "duration": 54,
    "start_time": "2022-08-29T21:38:38.167Z"
   },
   {
    "duration": 17,
    "start_time": "2022-08-29T21:38:38.222Z"
   },
   {
    "duration": 7,
    "start_time": "2022-08-29T21:38:38.241Z"
   },
   {
    "duration": 19,
    "start_time": "2022-08-29T21:38:38.250Z"
   },
   {
    "duration": 467,
    "start_time": "2022-08-30T08:00:18.633Z"
   },
   {
    "duration": 24,
    "start_time": "2022-08-30T08:00:19.102Z"
   },
   {
    "duration": 16,
    "start_time": "2022-08-30T08:00:19.128Z"
   },
   {
    "duration": 12,
    "start_time": "2022-08-30T08:00:19.146Z"
   },
   {
    "duration": 63,
    "start_time": "2022-08-30T08:00:19.160Z"
   },
   {
    "duration": 3,
    "start_time": "2022-08-30T08:00:19.225Z"
   },
   {
    "duration": 21,
    "start_time": "2022-08-30T08:00:19.230Z"
   },
   {
    "duration": 5,
    "start_time": "2022-08-30T08:00:19.253Z"
   },
   {
    "duration": 11,
    "start_time": "2022-08-30T08:00:19.259Z"
   },
   {
    "duration": 5,
    "start_time": "2022-08-30T08:00:19.273Z"
   },
   {
    "duration": 48,
    "start_time": "2022-08-30T08:00:19.280Z"
   },
   {
    "duration": 10,
    "start_time": "2022-08-30T08:00:19.330Z"
   },
   {
    "duration": 12,
    "start_time": "2022-08-30T08:00:19.341Z"
   },
   {
    "duration": 16,
    "start_time": "2022-08-30T08:00:19.354Z"
   },
   {
    "duration": 33,
    "start_time": "2022-08-30T08:00:19.372Z"
   },
   {
    "duration": 17,
    "start_time": "2022-08-30T08:00:19.408Z"
   },
   {
    "duration": 3,
    "start_time": "2022-08-30T08:00:19.427Z"
   },
   {
    "duration": 13,
    "start_time": "2022-08-30T08:00:19.432Z"
   },
   {
    "duration": 11,
    "start_time": "2022-08-30T08:00:19.447Z"
   },
   {
    "duration": 3,
    "start_time": "2022-08-30T08:00:19.460Z"
   },
   {
    "duration": 14,
    "start_time": "2022-08-30T08:00:19.465Z"
   },
   {
    "duration": 31,
    "start_time": "2022-08-30T08:00:19.481Z"
   },
   {
    "duration": 17,
    "start_time": "2022-08-30T08:00:19.514Z"
   },
   {
    "duration": 10,
    "start_time": "2022-08-30T08:00:19.533Z"
   },
   {
    "duration": 12,
    "start_time": "2022-08-30T08:00:19.544Z"
   },
   {
    "duration": 47,
    "start_time": "2022-09-02T19:12:27.955Z"
   },
   {
    "duration": 734,
    "start_time": "2022-09-02T19:12:37.498Z"
   },
   {
    "duration": 20,
    "start_time": "2022-09-02T19:12:38.233Z"
   },
   {
    "duration": 28,
    "start_time": "2022-09-02T19:12:38.254Z"
   },
   {
    "duration": 10,
    "start_time": "2022-09-02T19:12:38.284Z"
   },
   {
    "duration": 32,
    "start_time": "2022-09-02T19:12:38.295Z"
   },
   {
    "duration": 4,
    "start_time": "2022-09-02T19:12:38.328Z"
   },
   {
    "duration": 15,
    "start_time": "2022-09-02T19:12:38.333Z"
   },
   {
    "duration": 12,
    "start_time": "2022-09-02T19:12:38.350Z"
   },
   {
    "duration": 8,
    "start_time": "2022-09-02T19:12:38.363Z"
   },
   {
    "duration": 4,
    "start_time": "2022-09-02T19:12:38.375Z"
   },
   {
    "duration": 54,
    "start_time": "2022-09-02T19:12:38.381Z"
   },
   {
    "duration": 8,
    "start_time": "2022-09-02T19:12:38.437Z"
   },
   {
    "duration": 3,
    "start_time": "2022-09-02T19:12:38.447Z"
   },
   {
    "duration": 21,
    "start_time": "2022-09-02T19:12:38.451Z"
   },
   {
    "duration": 26,
    "start_time": "2022-09-02T19:12:38.473Z"
   },
   {
    "duration": 15,
    "start_time": "2022-09-02T19:12:38.500Z"
   },
   {
    "duration": 4,
    "start_time": "2022-09-02T19:12:38.517Z"
   },
   {
    "duration": 10,
    "start_time": "2022-09-02T19:12:38.522Z"
   },
   {
    "duration": 7,
    "start_time": "2022-09-02T19:12:38.533Z"
   },
   {
    "duration": 4,
    "start_time": "2022-09-02T19:12:38.542Z"
   },
   {
    "duration": 10,
    "start_time": "2022-09-02T19:12:38.548Z"
   },
   {
    "duration": 9,
    "start_time": "2022-09-02T19:12:38.559Z"
   },
   {
    "duration": 37,
    "start_time": "2022-09-02T19:12:38.570Z"
   },
   {
    "duration": 10,
    "start_time": "2022-09-02T19:12:38.609Z"
   },
   {
    "duration": 10,
    "start_time": "2022-09-02T19:12:38.620Z"
   },
   {
    "duration": 4,
    "start_time": "2022-09-02T19:19:45.575Z"
   },
   {
    "duration": 6,
    "start_time": "2022-09-02T19:19:52.956Z"
   },
   {
    "duration": 74,
    "start_time": "2022-09-02T19:20:15.407Z"
   },
   {
    "duration": 11,
    "start_time": "2022-09-02T19:23:52.542Z"
   },
   {
    "duration": 11,
    "start_time": "2022-09-02T19:23:58.684Z"
   },
   {
    "duration": 12,
    "start_time": "2022-09-02T19:24:20.333Z"
   },
   {
    "duration": 6,
    "start_time": "2022-09-02T19:24:44.150Z"
   },
   {
    "duration": 7,
    "start_time": "2022-09-02T19:25:31.352Z"
   },
   {
    "duration": 7,
    "start_time": "2022-09-02T19:25:40.801Z"
   },
   {
    "duration": 14,
    "start_time": "2022-09-02T19:26:07.448Z"
   },
   {
    "duration": 7,
    "start_time": "2022-09-02T19:26:15.523Z"
   },
   {
    "duration": 43,
    "start_time": "2022-09-02T19:33:40.546Z"
   },
   {
    "duration": 5,
    "start_time": "2022-09-02T19:33:50.755Z"
   },
   {
    "duration": 10,
    "start_time": "2022-09-02T19:34:07.770Z"
   },
   {
    "duration": 15,
    "start_time": "2022-09-02T19:34:14.748Z"
   },
   {
    "duration": 16,
    "start_time": "2022-09-02T19:34:54.163Z"
   },
   {
    "duration": 16,
    "start_time": "2022-09-02T19:35:07.216Z"
   },
   {
    "duration": 15,
    "start_time": "2022-09-02T19:35:39.007Z"
   },
   {
    "duration": 15,
    "start_time": "2022-09-02T19:36:10.186Z"
   },
   {
    "duration": 12,
    "start_time": "2022-09-02T19:37:34.276Z"
   },
   {
    "duration": 12,
    "start_time": "2022-09-02T19:39:01.298Z"
   },
   {
    "duration": 11,
    "start_time": "2022-09-02T19:39:28.661Z"
   },
   {
    "duration": 50,
    "start_time": "2022-09-02T19:42:21.085Z"
   },
   {
    "duration": 15,
    "start_time": "2022-09-02T20:00:53.857Z"
   },
   {
    "duration": 14,
    "start_time": "2022-09-02T20:01:17.903Z"
   },
   {
    "duration": 14,
    "start_time": "2022-09-02T20:01:50.565Z"
   },
   {
    "duration": 4,
    "start_time": "2022-09-02T20:03:45.421Z"
   },
   {
    "duration": 3,
    "start_time": "2022-09-02T20:04:49.053Z"
   },
   {
    "duration": 10,
    "start_time": "2022-09-02T20:05:15.113Z"
   },
   {
    "duration": 487,
    "start_time": "2022-09-02T20:05:29.777Z"
   },
   {
    "duration": 21,
    "start_time": "2022-09-02T20:05:30.265Z"
   },
   {
    "duration": 49,
    "start_time": "2022-09-02T20:05:30.288Z"
   },
   {
    "duration": 29,
    "start_time": "2022-09-02T20:05:30.339Z"
   },
   {
    "duration": 40,
    "start_time": "2022-09-02T20:05:30.370Z"
   },
   {
    "duration": 3,
    "start_time": "2022-09-02T20:05:30.412Z"
   },
   {
    "duration": 16,
    "start_time": "2022-09-02T20:05:30.417Z"
   },
   {
    "duration": 15,
    "start_time": "2022-09-02T20:05:30.435Z"
   },
   {
    "duration": 31,
    "start_time": "2022-09-02T20:05:30.451Z"
   },
   {
    "duration": 17,
    "start_time": "2022-09-02T20:05:30.485Z"
   },
   {
    "duration": 60,
    "start_time": "2022-09-02T20:05:30.503Z"
   },
   {
    "duration": 10,
    "start_time": "2022-09-02T20:05:30.565Z"
   },
   {
    "duration": 22,
    "start_time": "2022-09-02T20:05:30.576Z"
   },
   {
    "duration": 49,
    "start_time": "2022-09-02T20:05:30.599Z"
   },
   {
    "duration": 80,
    "start_time": "2022-09-02T20:05:30.650Z"
   },
   {
    "duration": 53,
    "start_time": "2022-09-02T20:05:30.731Z"
   },
   {
    "duration": 15,
    "start_time": "2022-09-02T20:05:30.786Z"
   },
   {
    "duration": 66,
    "start_time": "2022-09-02T20:05:30.803Z"
   },
   {
    "duration": 31,
    "start_time": "2022-09-02T20:05:30.870Z"
   },
   {
    "duration": 31,
    "start_time": "2022-09-02T20:05:30.903Z"
   },
   {
    "duration": 36,
    "start_time": "2022-09-02T20:05:30.935Z"
   },
   {
    "duration": 76,
    "start_time": "2022-09-02T20:05:30.973Z"
   },
   {
    "duration": 38,
    "start_time": "2022-09-02T20:05:31.050Z"
   },
   {
    "duration": 35,
    "start_time": "2022-09-02T20:05:31.090Z"
   },
   {
    "duration": 55,
    "start_time": "2022-09-02T20:05:31.126Z"
   },
   {
    "duration": 17,
    "start_time": "2022-09-02T20:19:20.528Z"
   },
   {
    "duration": 16,
    "start_time": "2022-09-02T20:19:44.691Z"
   },
   {
    "duration": 17,
    "start_time": "2022-09-02T20:20:03.401Z"
   },
   {
    "duration": 15,
    "start_time": "2022-09-02T20:27:41.237Z"
   },
   {
    "duration": 15,
    "start_time": "2022-09-02T20:40:08.200Z"
   },
   {
    "duration": 24,
    "start_time": "2022-09-02T20:43:34.682Z"
   },
   {
    "duration": 468,
    "start_time": "2022-09-02T20:46:21.490Z"
   },
   {
    "duration": 23,
    "start_time": "2022-09-02T20:46:21.960Z"
   },
   {
    "duration": 13,
    "start_time": "2022-09-02T20:46:21.985Z"
   },
   {
    "duration": 8,
    "start_time": "2022-09-02T20:46:22.000Z"
   },
   {
    "duration": 30,
    "start_time": "2022-09-02T20:46:22.010Z"
   },
   {
    "duration": 3,
    "start_time": "2022-09-02T20:46:22.041Z"
   },
   {
    "duration": 14,
    "start_time": "2022-09-02T20:46:22.046Z"
   },
   {
    "duration": 6,
    "start_time": "2022-09-02T20:46:22.062Z"
   },
   {
    "duration": 10,
    "start_time": "2022-09-02T20:46:22.069Z"
   },
   {
    "duration": 3,
    "start_time": "2022-09-02T20:46:22.098Z"
   },
   {
    "duration": 31,
    "start_time": "2022-09-02T20:46:22.103Z"
   },
   {
    "duration": 9,
    "start_time": "2022-09-02T20:46:22.135Z"
   },
   {
    "duration": 5,
    "start_time": "2022-09-02T20:46:22.145Z"
   },
   {
    "duration": 19,
    "start_time": "2022-09-02T20:46:22.152Z"
   },
   {
    "duration": 31,
    "start_time": "2022-09-02T20:46:22.172Z"
   },
   {
    "duration": 16,
    "start_time": "2022-09-02T20:46:22.205Z"
   },
   {
    "duration": 4,
    "start_time": "2022-09-02T20:46:22.223Z"
   },
   {
    "duration": 17,
    "start_time": "2022-09-02T20:46:22.228Z"
   },
   {
    "duration": 7,
    "start_time": "2022-09-02T20:46:22.246Z"
   },
   {
    "duration": 12,
    "start_time": "2022-09-02T20:46:22.254Z"
   },
   {
    "duration": 19,
    "start_time": "2022-09-02T20:46:22.267Z"
   },
   {
    "duration": 15,
    "start_time": "2022-09-02T20:46:22.288Z"
   },
   {
    "duration": 16,
    "start_time": "2022-09-02T20:46:22.305Z"
   },
   {
    "duration": 14,
    "start_time": "2022-09-02T20:46:22.323Z"
   },
   {
    "duration": 15,
    "start_time": "2022-09-02T20:46:22.339Z"
   },
   {
    "duration": 447,
    "start_time": "2022-09-02T20:51:31.639Z"
   },
   {
    "duration": 20,
    "start_time": "2022-09-02T20:51:32.088Z"
   },
   {
    "duration": 29,
    "start_time": "2022-09-02T20:51:32.109Z"
   },
   {
    "duration": 9,
    "start_time": "2022-09-02T20:51:32.139Z"
   },
   {
    "duration": 45,
    "start_time": "2022-09-02T20:51:32.149Z"
   },
   {
    "duration": 3,
    "start_time": "2022-09-02T20:51:32.196Z"
   },
   {
    "duration": 15,
    "start_time": "2022-09-02T20:51:32.200Z"
   },
   {
    "duration": 12,
    "start_time": "2022-09-02T20:51:32.217Z"
   },
   {
    "duration": 12,
    "start_time": "2022-09-02T20:51:32.230Z"
   },
   {
    "duration": 6,
    "start_time": "2022-09-02T20:51:32.245Z"
   },
   {
    "duration": 51,
    "start_time": "2022-09-02T20:51:32.252Z"
   },
   {
    "duration": 8,
    "start_time": "2022-09-02T20:51:32.304Z"
   },
   {
    "duration": 8,
    "start_time": "2022-09-02T20:51:32.313Z"
   },
   {
    "duration": 21,
    "start_time": "2022-09-02T20:51:32.322Z"
   },
   {
    "duration": 21,
    "start_time": "2022-09-02T20:51:32.344Z"
   },
   {
    "duration": 34,
    "start_time": "2022-09-02T20:51:32.367Z"
   },
   {
    "duration": 3,
    "start_time": "2022-09-02T20:51:32.402Z"
   },
   {
    "duration": 19,
    "start_time": "2022-09-02T20:51:32.406Z"
   },
   {
    "duration": 9,
    "start_time": "2022-09-02T20:51:32.427Z"
   },
   {
    "duration": 5,
    "start_time": "2022-09-02T20:51:32.437Z"
   },
   {
    "duration": 11,
    "start_time": "2022-09-02T20:51:32.444Z"
   },
   {
    "duration": 14,
    "start_time": "2022-09-02T20:51:32.457Z"
   },
   {
    "duration": 28,
    "start_time": "2022-09-02T20:51:32.472Z"
   },
   {
    "duration": 14,
    "start_time": "2022-09-02T20:51:32.501Z"
   },
   {
    "duration": 22,
    "start_time": "2022-09-02T20:51:32.516Z"
   },
   {
    "duration": 529,
    "start_time": "2022-09-03T12:36:49.361Z"
   },
   {
    "duration": 29,
    "start_time": "2022-09-03T12:36:49.892Z"
   },
   {
    "duration": 18,
    "start_time": "2022-09-03T12:36:49.922Z"
   },
   {
    "duration": 13,
    "start_time": "2022-09-03T12:36:49.942Z"
   },
   {
    "duration": 61,
    "start_time": "2022-09-03T12:36:49.957Z"
   },
   {
    "duration": 4,
    "start_time": "2022-09-03T12:36:50.019Z"
   },
   {
    "duration": 16,
    "start_time": "2022-09-03T12:36:50.025Z"
   },
   {
    "duration": 5,
    "start_time": "2022-09-03T12:36:50.043Z"
   },
   {
    "duration": 18,
    "start_time": "2022-09-03T12:36:50.049Z"
   },
   {
    "duration": 22,
    "start_time": "2022-09-03T12:36:50.070Z"
   },
   {
    "duration": 49,
    "start_time": "2022-09-03T12:36:50.097Z"
   },
   {
    "duration": 11,
    "start_time": "2022-09-03T12:36:50.148Z"
   },
   {
    "duration": 10,
    "start_time": "2022-09-03T12:36:50.161Z"
   },
   {
    "duration": 28,
    "start_time": "2022-09-03T12:36:50.173Z"
   },
   {
    "duration": 23,
    "start_time": "2022-09-03T12:36:50.202Z"
   },
   {
    "duration": 18,
    "start_time": "2022-09-03T12:36:50.227Z"
   },
   {
    "duration": 4,
    "start_time": "2022-09-03T12:36:50.247Z"
   },
   {
    "duration": 19,
    "start_time": "2022-09-03T12:36:50.253Z"
   },
   {
    "duration": 13,
    "start_time": "2022-09-03T12:36:50.285Z"
   },
   {
    "duration": 7,
    "start_time": "2022-09-03T12:36:50.303Z"
   },
   {
    "duration": 12,
    "start_time": "2022-09-03T12:36:50.312Z"
   },
   {
    "duration": 20,
    "start_time": "2022-09-03T12:36:50.326Z"
   },
   {
    "duration": 17,
    "start_time": "2022-09-03T12:36:50.348Z"
   },
   {
    "duration": 23,
    "start_time": "2022-09-03T12:36:50.386Z"
   },
   {
    "duration": 32,
    "start_time": "2022-09-03T12:36:50.411Z"
   },
   {
    "duration": 12,
    "start_time": "2022-09-03T12:38:56.713Z"
   },
   {
    "duration": 48,
    "start_time": "2022-09-12T20:39:55.479Z"
   },
   {
    "duration": 4,
    "start_time": "2022-09-12T21:03:41.108Z"
   }
  ],
  "colab": {
   "name": "dpp_template_part2.ipynb",
   "provenance": []
  },
  "kernelspec": {
   "display_name": "Python 3 (ipykernel)",
   "language": "python",
   "name": "python3"
  },
  "language_info": {
   "codemirror_mode": {
    "name": "ipython",
    "version": 3
   },
   "file_extension": ".py",
   "mimetype": "text/x-python",
   "name": "python",
   "nbconvert_exporter": "python",
   "pygments_lexer": "ipython3",
   "version": "3.9.12"
  },
  "toc": {
   "base_numbering": 1,
   "nav_menu": {},
   "number_sections": true,
   "sideBar": true,
   "skip_h1_title": true,
   "title_cell": "Table of Contents",
   "title_sidebar": "Contents",
   "toc_cell": false,
   "toc_position": {},
   "toc_section_display": true,
   "toc_window_display": false
  }
 },
 "nbformat": 4,
 "nbformat_minor": 5
}
