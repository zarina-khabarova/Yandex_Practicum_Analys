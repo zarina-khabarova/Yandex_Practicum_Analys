{
 "cells": [
  {
   "cell_type": "markdown",
   "metadata": {
    "deletable": false,
    "editable": false,
    "id": "E0vqbgi9ay0H"
   },
   "source": [
    "# Яндекс Музыка"
   ]
  },
  {
   "cell_type": "markdown",
   "metadata": {
    "deletable": false,
    "editable": false,
    "id": "VUC88oWjTJw2"
   },
   "source": [
    "Сравнение Москвы и Петербурга окружено мифами. Например:\n",
    " * Москва — мегаполис, подчинённый жёсткому ритму рабочей недели;\n",
    " * Петербург — культурная столица, со своими вкусами.\n",
    "\n",
    "На данных Яндекс Музыки вы сравните поведение пользователей двух столиц.\n",
    "\n",
    "**Цель исследования** — проверьте три гипотезы:\n",
    "1. Активность пользователей зависит от дня недели. Причём в Москве и Петербурге это проявляется по-разному.\n",
    "2. В понедельник утром в Москве преобладают одни жанры, а в Петербурге — другие. Так же и вечером пятницы преобладают разные жанры — в зависимости от города. \n",
    "3. Москва и Петербург предпочитают разные жанры музыки. В Москве чаще слушают поп-музыку, в Петербурге — русский рэп.\n",
    "\n",
    "**Ход исследования**\n",
    "\n",
    "Данные о поведении пользователей вы получите из файла `yandex_music_project.csv`. О качестве данных ничего не известно. Поэтому перед проверкой гипотез понадобится обзор данных. \n",
    "\n",
    "Вы проверите данные на ошибки и оцените их влияние на исследование. Затем, на этапе предобработки вы поищете возможность исправить самые критичные ошибки данных.\n",
    " \n",
    "Таким образом, исследование пройдёт в три этапа:\n",
    " 1. Обзор данных.\n",
    " 2. Предобработка данных.\n",
    " 3. Проверка гипотез.\n",
    "\n"
   ]
  },
  {
   "cell_type": "markdown",
   "metadata": {
    "deletable": false,
    "editable": false,
    "id": "Ml1hmfXC_Zcs"
   },
   "source": [
    "## Обзор данных\n",
    "\n",
    "Составьте первое представление о данных Яндекс Музыки.\n",
    "\n",
    "\n"
   ]
  },
  {
   "cell_type": "markdown",
   "metadata": {
    "deletable": false,
    "editable": false,
    "id": "57eAOGIz_Zcs",
    "tags": [
     "start_task"
    ]
   },
   "source": [
    "**Задание 1**\n",
    "\n",
    "Основной инструмент аналитика — `pandas`. Импортируйте эту библиотеку."
   ]
  },
  {
   "cell_type": "code",
   "execution_count": 1,
   "metadata": {
    "deletable": false,
    "id": "AXN7PHPN_Zcs"
   },
   "outputs": [],
   "source": [
    "# импорт библиотеки pandas\n",
    "import pandas as pd"
   ]
  },
  {
   "cell_type": "markdown",
   "metadata": {
    "deletable": false,
    "editable": false,
    "id": "SG23P8tt_Zcs",
    "tags": [
     "start_task"
    ]
   },
   "source": [
    "**Задание 2**\n",
    "\n",
    "Прочитайте файл `yandex_music_project.csv` из папки `/datasets` и сохраните его в переменной `df`:"
   ]
  },
  {
   "cell_type": "code",
   "execution_count": 2,
   "metadata": {
    "deletable": false,
    "id": "fFVu7vqh_Zct"
   },
   "outputs": [],
   "source": [
    "# чтение файла с данными и сохранение в df\n",
    "df = pd.read_csv('/datasets/yandex_music_project.csv')\n"
   ]
  },
  {
   "cell_type": "markdown",
   "metadata": {
    "deletable": false,
    "editable": false,
    "id": "rDoOMd3uTqnZ",
    "tags": [
     "start_task"
    ]
   },
   "source": [
    "**Задание 3**\n",
    "\n",
    "\n",
    "Выведите на экран первые десять строк таблицы:"
   ]
  },
  {
   "cell_type": "code",
   "execution_count": 3,
   "metadata": {
    "deletable": false,
    "id": "oWTVX3gW_Zct"
   },
   "outputs": [
    {
     "name": "stdout",
     "output_type": "stream",
     "text": [
      "     userID                        Track            artist   genre  \\\n",
      "0  FFB692EC            Kamigata To Boots  The Mass Missile    rock   \n",
      "1  55204538  Delayed Because of Accident  Andreas Rönnberg    rock   \n",
      "2    20EC38            Funiculì funiculà       Mario Lanza     pop   \n",
      "3  A3DD03C9        Dragons in the Sunset        Fire + Ice    folk   \n",
      "4  E2DC1FAE                  Soul People        Space Echo   dance   \n",
      "5  842029A1                    Преданная         IMPERVTOR  rusrap   \n",
      "6  4CB90AA5                         True      Roman Messer   dance   \n",
      "7  F03E1C1F             Feeling This Way   Polina Griffith   dance   \n",
      "8  8FA1D3BE     И вновь продолжается бой               NaN  ruspop   \n",
      "9  E772D5C0                    Pessimist               NaN   dance   \n",
      "\n",
      "             City        time        Day  \n",
      "0  Saint-Petersburg  20:28:33  Wednesday  \n",
      "1            Moscow  14:07:09     Friday  \n",
      "2  Saint-Petersburg  20:58:07  Wednesday  \n",
      "3  Saint-Petersburg  08:37:09     Monday  \n",
      "4            Moscow  08:34:34     Monday  \n",
      "5  Saint-Petersburg  13:09:41     Friday  \n",
      "6            Moscow  13:00:07  Wednesday  \n",
      "7            Moscow  20:47:49  Wednesday  \n",
      "8            Moscow  09:17:40     Friday  \n",
      "9  Saint-Petersburg  21:20:49  Wednesday  \n"
     ]
    }
   ],
   "source": [
    "# получение первых 10 строк таблицы df\n",
    "print(df.head(10))"
   ]
  },
  {
   "cell_type": "markdown",
   "metadata": {
    "deletable": false,
    "editable": false,
    "id": "EO73Kwic_Zct",
    "tags": [
     "start_task"
    ]
   },
   "source": [
    "**Задание 4**\n",
    "\n",
    "\n",
    "Одной командой получить общую информацию о таблице c помощью метода `info()`:"
   ]
  },
  {
   "cell_type": "code",
   "execution_count": 4,
   "metadata": {
    "deletable": false,
    "id": "DSf2kIb-_Zct"
   },
   "outputs": [
    {
     "name": "stdout",
     "output_type": "stream",
     "text": [
      "<class 'pandas.core.frame.DataFrame'>\n",
      "RangeIndex: 65079 entries, 0 to 65078\n",
      "Data columns (total 7 columns):\n",
      " #   Column    Non-Null Count  Dtype \n",
      "---  ------    --------------  ----- \n",
      " 0     userID  65079 non-null  object\n",
      " 1   Track     63848 non-null  object\n",
      " 2   artist    57876 non-null  object\n",
      " 3   genre     63881 non-null  object\n",
      " 4     City    65079 non-null  object\n",
      " 5   time      65079 non-null  object\n",
      " 6   Day       65079 non-null  object\n",
      "dtypes: object(7)\n",
      "memory usage: 3.5+ MB\n"
     ]
    }
   ],
   "source": [
    "# получение общей информации о данных в таблице df\n",
    "df.info()"
   ]
  },
  {
   "cell_type": "markdown",
   "metadata": {
    "deletable": false,
    "editable": false,
    "id": "TaQ2Iwbr_Zct"
   },
   "source": [
    "Итак, в таблице семь столбцов. Тип данных во всех столбцах — `object`.\n",
    "\n",
    "Согласно документации к данным:\n",
    "* `userID` — идентификатор пользователя;\n",
    "* `Track` — название трека;  \n",
    "* `artist` — имя исполнителя;\n",
    "* `genre` — название жанра;\n",
    "* `City` — город пользователя;\n",
    "* `time` — время начала прослушивания;\n",
    "* `Day` — день недели.\n",
    "\n",
    "Количество значений в столбцах различается. Значит, в данных есть пропущенные значения."
   ]
  },
  {
   "cell_type": "markdown",
   "metadata": {
    "deletable": false,
    "editable": false,
    "id": "rAfziTBDmf2h",
    "tags": [
     "start_task"
    ]
   },
   "source": [
    "**Задание 5**\n",
    "\n",
    "**Вопрос со свободной формой ответа**\n",
    "\n",
    "В названиях колонок видны нарушения стиля:\n",
    "* Строчные буквы сочетаются с прописными.\n",
    "* Встречаются пробелы.\n",
    "\n",
    "Какое третье нарушение?"
   ]
  },
  {
   "cell_type": "code",
   "execution_count": 5,
   "metadata": {
    "id": "jD8EXEIvmf2h"
   },
   "outputs": [],
   "source": [
    "# Напишите ваш ответ здесь комментарием. Не удаляйте символ #. Не меняйте тип этой ячейки на Markdown.\n",
    "# В названиях колонок не используется змеиный регистр. "
   ]
  },
  {
   "cell_type": "markdown",
   "metadata": {
    "deletable": false,
    "editable": false,
    "id": "MCB6-dXG_Zct"
   },
   "source": [
    "**Выводы**\n",
    "\n",
    "В каждой строке таблицы — данные о прослушанном треке. Часть колонок описывает саму композицию: название, исполнителя и жанр. Остальные данные рассказывают о пользователе: из какого он города, когда он слушал музыку. \n",
    "\n",
    "Предварительно можно утверждать, что данных достаточно для проверки гипотез. Но встречаются пропуски в данных, а в названиях колонок — расхождения с хорошим стилем.\n",
    "\n",
    "Чтобы двигаться дальше, нужно устранить проблемы в данных."
   ]
  },
  {
   "cell_type": "markdown",
   "metadata": {
    "deletable": false,
    "editable": false,
    "id": "SjYF6Ub9_Zct"
   },
   "source": [
    "## Предобработка данных\n",
    "Исправьте стиль в заголовках столбцов, исключите пропуски. Затем проверьте данные на дубликаты."
   ]
  },
  {
   "cell_type": "markdown",
   "metadata": {
    "deletable": false,
    "editable": false,
    "id": "dIaKXr29_Zct",
    "tags": [
     "start_task"
    ]
   },
   "source": [
    "### Стиль заголовков\n",
    "\n",
    "**Задание 6**\n",
    "\n",
    "Выведите на экран названия столбцов:"
   ]
  },
  {
   "cell_type": "code",
   "execution_count": 6,
   "metadata": {
    "deletable": false,
    "id": "oKOTdF_Q_Zct"
   },
   "outputs": [
    {
     "name": "stdout",
     "output_type": "stream",
     "text": [
      "Index(['  userID', 'Track', 'artist', 'genre', '  City  ', 'time', 'Day'], dtype='object')\n"
     ]
    }
   ],
   "source": [
    "# перечень названий столбцов таблицы df\n",
    "print(df.columns)"
   ]
  },
  {
   "cell_type": "markdown",
   "metadata": {
    "deletable": false,
    "editable": false,
    "id": "zj5534cv_Zct",
    "tags": [
     "start_task"
    ]
   },
   "source": [
    "**Задание 7**\n",
    "\n",
    "\n",
    "Приведите названия в соответствие с хорошим стилем:\n",
    "* несколько слов в названии запишите в «змеином_регистре»,\n",
    "* все символы сделайте строчными,\n",
    "* устраните пробелы.\n",
    "\n",
    "Для этого переименуйте колонки так:\n",
    "* `'  userID'` → `'user_id'`;\n",
    "* `'Track'` → `'track'`;\n",
    "* `'  City  '` → `'city'`;\n",
    "* `'Day'` → `'day'`."
   ]
  },
  {
   "cell_type": "code",
   "execution_count": 7,
   "metadata": {
    "deletable": false,
    "id": "ISlFqs5y_Zct"
   },
   "outputs": [],
   "source": [
    "# переименование столбцов\n",
    "df = df.rename(columns = {'  userID' : 'user_id', 'Track' : 'track', '  City  ' : 'city' , 'Day' : 'day'})"
   ]
  },
  {
   "cell_type": "markdown",
   "metadata": {
    "deletable": false,
    "editable": false,
    "id": "1dqbh00J_Zct",
    "tags": [
     "start_task"
    ]
   },
   "source": [
    "**Задание 8**\n",
    "\n",
    "\n",
    "Проверьте результат. Для этого ещё раз выведите на экран названия столбцов:"
   ]
  },
  {
   "cell_type": "code",
   "execution_count": 8,
   "metadata": {
    "deletable": false,
    "id": "d4NOAmTW_Zct"
   },
   "outputs": [
    {
     "name": "stdout",
     "output_type": "stream",
     "text": [
      "Index(['user_id', 'track', 'artist', 'genre', 'city', 'time', 'day'], dtype='object')\n"
     ]
    }
   ],
   "source": [
    "# проверка результатов - перечень названий столбцов\n",
    "print(df.columns)"
   ]
  },
  {
   "cell_type": "markdown",
   "metadata": {
    "deletable": false,
    "editable": false,
    "id": "5ISfbcfY_Zct",
    "tags": [
     "start_task"
    ]
   },
   "source": [
    "### Пропуски значений\n",
    "\n",
    "**Задание 9**\n",
    "\n",
    "Сначала посчитайте, сколько в таблице пропущенных значений. Для этого достаточно двух методов `pandas`:"
   ]
  },
  {
   "cell_type": "code",
   "execution_count": 9,
   "metadata": {
    "deletable": false,
    "id": "RskX29qr_Zct"
   },
   "outputs": [
    {
     "data": {
      "text/plain": [
       "user_id       0\n",
       "track      1231\n",
       "artist     7203\n",
       "genre      1198\n",
       "city          0\n",
       "time          0\n",
       "day           0\n",
       "dtype: int64"
      ]
     },
     "execution_count": 9,
     "metadata": {},
     "output_type": "execute_result"
    }
   ],
   "source": [
    "# подсчёт пропусков\n",
    "df.isna().sum()"
   ]
  },
  {
   "cell_type": "markdown",
   "metadata": {
    "deletable": false,
    "editable": false,
    "id": "qubhgnlO_Zct"
   },
   "source": [
    "Не все пропущенные значения влияют на исследование. Так в `track` и `artist` пропуски не важны для вашей работы. Достаточно заменить их явными обозначениями.\n",
    "\n",
    "Но пропуски в `genre` могут помешать сравнению музыкальных вкусов в Москве и Санкт-Петербурге. На практике было бы правильно установить причину пропусков и восстановить данные. Такой возможности нет в учебном проекте. Придётся:\n",
    "* заполнить и эти пропуски явными обозначениями;\n",
    "* оценить, насколько они повредят расчётам. "
   ]
  },
  {
   "cell_type": "markdown",
   "metadata": {
    "deletable": false,
    "editable": false,
    "id": "fSv2laPA_Zct",
    "tags": [
     "start_task"
    ]
   },
   "source": [
    "**Задание 10**\n",
    "\n",
    "Замените пропущенные значения в столбцах `track`, `artist` и `genre` на строку `'unknown'`. Для этого создайте список `columns_to_replace`, переберите его элементы циклом `for` и для каждого столбца выполните замену пропущенных значений:"
   ]
  },
  {
   "cell_type": "code",
   "execution_count": 10,
   "metadata": {
    "deletable": false,
    "id": "KplB5qWs_Zct"
   },
   "outputs": [],
   "source": [
    "# перебор названий столбцов в цикле и замена пропущенных значений на 'unknown'\n",
    "columns_to_replace = ['track' , 'artist' , 'genre']\n",
    "for column in columns_to_replace:\n",
    "    df[column] = df[column].fillna('unknown')"
   ]
  },
  {
   "cell_type": "markdown",
   "metadata": {
    "deletable": false,
    "editable": false,
    "id": "Ilsm-MZo_Zct",
    "tags": [
     "start_task"
    ]
   },
   "source": [
    "**Задание 11**\n",
    "\n",
    "Убедитесь, что в таблице не осталось пропусков. Для этого ещё раз посчитайте пропущенные значения."
   ]
  },
  {
   "cell_type": "code",
   "execution_count": 11,
   "metadata": {
    "deletable": false,
    "id": "Tq4nYRX4_Zct"
   },
   "outputs": [
    {
     "data": {
      "text/plain": [
       "user_id    0\n",
       "track      0\n",
       "artist     0\n",
       "genre      0\n",
       "city       0\n",
       "time       0\n",
       "day        0\n",
       "dtype: int64"
      ]
     },
     "execution_count": 11,
     "metadata": {},
     "output_type": "execute_result"
    }
   ],
   "source": [
    "# подсчёт пропусков\n",
    "df.isna().sum()"
   ]
  },
  {
   "cell_type": "markdown",
   "metadata": {
    "deletable": false,
    "editable": false,
    "id": "BWKRtBJ3_Zct",
    "tags": [
     "start_task"
    ]
   },
   "source": [
    "### Дубликаты\n",
    "\n",
    "**Задание 12**\n",
    "\n",
    "Посчитайте явные дубликаты в таблице одной командой:"
   ]
  },
  {
   "cell_type": "code",
   "execution_count": 12,
   "metadata": {
    "deletable": false,
    "id": "36eES_S0_Zct"
   },
   "outputs": [
    {
     "data": {
      "text/plain": [
       "3826"
      ]
     },
     "execution_count": 12,
     "metadata": {},
     "output_type": "execute_result"
    }
   ],
   "source": [
    "# подсчёт явных дубликатов\n",
    "df.duplicated().sum()"
   ]
  },
  {
   "cell_type": "markdown",
   "metadata": {
    "deletable": false,
    "editable": false,
    "id": "Ot25h6XR_Zct",
    "tags": [
     "start_task"
    ]
   },
   "source": [
    "**Задание 13**\n",
    "\n",
    "Вызовите специальный метод `pandas`, чтобы удалить явные дубликаты:"
   ]
  },
  {
   "cell_type": "code",
   "execution_count": 13,
   "metadata": {
    "deletable": false,
    "id": "exFHq6tt_Zct",
    "scrolled": true
   },
   "outputs": [],
   "source": [
    "# удаление явных дубликатов\n",
    "df = df.drop_duplicates()"
   ]
  },
  {
   "cell_type": "markdown",
   "metadata": {
    "deletable": false,
    "editable": false,
    "id": "Im2YwBEG_Zct",
    "tags": [
     "start_task"
    ]
   },
   "source": [
    "**Задание 14**\n",
    "\n",
    "Ещё раз посчитайте явные дубликаты в таблице — убедитесь, что полностью от них избавились:"
   ]
  },
  {
   "cell_type": "code",
   "execution_count": 14,
   "metadata": {
    "deletable": false,
    "id": "-8PuNWQ0_Zct"
   },
   "outputs": [
    {
     "data": {
      "text/plain": [
       "0"
      ]
     },
     "execution_count": 14,
     "metadata": {},
     "output_type": "execute_result"
    }
   ],
   "source": [
    "# проверка на отсутствие дубликатов\n",
    "df.duplicated().sum()"
   ]
  },
  {
   "cell_type": "markdown",
   "metadata": {
    "deletable": false,
    "editable": false,
    "id": "QlFBsxAr_Zct"
   },
   "source": [
    "Теперь избавьтесь от неявных дубликатов в колонке `genre`. Например, название одного и того же жанра может быть записано немного по-разному. Такие ошибки тоже повлияют на результат исследования."
   ]
  },
  {
   "cell_type": "markdown",
   "metadata": {
    "deletable": false,
    "editable": false,
    "id": "eSjWwsOh_Zct",
    "tags": [
     "start_task"
    ]
   },
   "source": [
    "**Задание 15**\n",
    "\n",
    "Выведите на экран список уникальных названий жанров, отсортированный в алфавитном порядке. Для этого:\n",
    "1. извлеките нужный столбец датафрейма; \n",
    "2. примените к нему метод сортировки;\n",
    "3. для отсортированного столбца вызовите метод, который вернёт уникальные значения из столбца."
   ]
  },
  {
   "cell_type": "code",
   "execution_count": 15,
   "metadata": {
    "deletable": false,
    "id": "JIUcqzZN_Zct"
   },
   "outputs": [
    {
     "name": "stdout",
     "output_type": "stream",
     "text": [
      "['acid' 'acoustic' 'action' 'adult' 'africa' 'afrikaans' 'alternative'\n",
      " 'alternativepunk' 'ambient' 'americana' 'animated' 'anime' 'arabesk'\n",
      " 'arabic' 'arena' 'argentinetango' 'art' 'audiobook' 'author' 'avantgarde'\n",
      " 'axé' 'baile' 'balkan' 'beats' 'bigroom' 'black' 'bluegrass' 'blues'\n",
      " 'bollywood' 'bossa' 'brazilian' 'breakbeat' 'breaks' 'broadway'\n",
      " 'cantautori' 'cantopop' 'canzone' 'caribbean' 'caucasian' 'celtic'\n",
      " 'chamber' 'chanson' 'children' 'chill' 'chinese' 'choral' 'christian'\n",
      " 'christmas' 'classical' 'classicmetal' 'club' 'colombian' 'comedy'\n",
      " 'conjazz' 'contemporary' 'country' 'cuban' 'dance' 'dancehall' 'dancepop'\n",
      " 'dark' 'death' 'deep' 'deutschrock' 'deutschspr' 'dirty' 'disco' 'dnb'\n",
      " 'documentary' 'downbeat' 'downtempo' 'drum' 'dub' 'dubstep' 'eastern'\n",
      " 'easy' 'electronic' 'electropop' 'emo' 'entehno' 'epicmetal' 'estrada'\n",
      " 'ethnic' 'eurofolk' 'european' 'experimental' 'extrememetal' 'fado'\n",
      " 'fairytail' 'film' 'fitness' 'flamenco' 'folk' 'folklore' 'folkmetal'\n",
      " 'folkrock' 'folktronica' 'forró' 'frankreich' 'französisch' 'french'\n",
      " 'funk' 'future' 'gangsta' 'garage' 'german' 'ghazal' 'gitarre' 'glitch'\n",
      " 'gospel' 'gothic' 'grime' 'grunge' 'gypsy' 'handsup' \"hard'n'heavy\"\n",
      " 'hardcore' 'hardstyle' 'hardtechno' 'hip' 'hip-hop' 'hiphop' 'historisch'\n",
      " 'holiday' 'hop' 'horror' 'house' 'hymn' 'idm' 'independent' 'indian'\n",
      " 'indie' 'indipop' 'industrial' 'inspirational' 'instrumental'\n",
      " 'international' 'irish' 'jam' 'japanese' 'jazz' 'jewish' 'jpop' 'jungle'\n",
      " 'k-pop' 'karadeniz' 'karaoke' 'kayokyoku' 'korean' 'laiko' 'latin'\n",
      " 'latino' 'leftfield' 'local' 'lounge' 'loungeelectronic' 'lovers'\n",
      " 'malaysian' 'mandopop' 'marschmusik' 'meditative' 'mediterranean'\n",
      " 'melodic' 'metal' 'metalcore' 'mexican' 'middle' 'minimal'\n",
      " 'miscellaneous' 'modern' 'mood' 'mpb' 'muslim' 'native' 'neoklassik'\n",
      " 'neue' 'new' 'newage' 'newwave' 'nu' 'nujazz' 'numetal' 'oceania' 'old'\n",
      " 'opera' 'orchestral' 'other' 'piano' 'podcasts' 'pop' 'popdance'\n",
      " 'popelectronic' 'popeurodance' 'poprussian' 'post' 'posthardcore'\n",
      " 'postrock' 'power' 'progmetal' 'progressive' 'psychedelic' 'punjabi'\n",
      " 'punk' 'quebecois' 'ragga' 'ram' 'rancheras' 'rap' 'rave' 'reggae'\n",
      " 'reggaeton' 'regional' 'relax' 'religious' 'retro' 'rhythm' 'rnb' 'rnr'\n",
      " 'rock' 'rockabilly' 'rockalternative' 'rockindie' 'rockother' 'romance'\n",
      " 'roots' 'ruspop' 'rusrap' 'rusrock' 'russian' 'salsa' 'samba' 'scenic'\n",
      " 'schlager' 'self' 'sertanejo' 'shanson' 'shoegazing' 'showtunes' 'singer'\n",
      " 'ska' 'skarock' 'slow' 'smooth' 'soft' 'soul' 'soulful' 'sound'\n",
      " 'soundtrack' 'southern' 'specialty' 'speech' 'spiritual' 'sport'\n",
      " 'stonerrock' 'surf' 'swing' 'synthpop' 'synthrock' 'sängerportrait'\n",
      " 'tango' 'tanzorchester' 'taraftar' 'tatar' 'tech' 'techno' 'teen'\n",
      " 'thrash' 'top' 'traditional' 'tradjazz' 'trance' 'tribal' 'trip'\n",
      " 'triphop' 'tropical' 'türk' 'türkçe' 'ukrrock' 'unknown' 'urban' 'uzbek'\n",
      " 'variété' 'vi' 'videogame' 'vocal' 'western' 'world' 'worldbeat' 'ïîï'\n",
      " 'электроника']\n"
     ]
    }
   ],
   "source": [
    "# Просмотр уникальных названий жанров\n",
    "print(df['genre'].sort_values().unique())"
   ]
  },
  {
   "cell_type": "markdown",
   "metadata": {
    "deletable": false,
    "editable": false,
    "id": "qej-Qmuo_Zct",
    "tags": [
     "start_task"
    ]
   },
   "source": [
    "**Задание 16**\n",
    "\n",
    "Просмотрите список и найдите неявные дубликаты названия `hiphop`. Это могут быть названия с ошибками или альтернативные названия того же жанра.\n",
    "\n",
    "Вы увидите следующие неявные дубликаты:\n",
    "* *hip*,\n",
    "* *hop*,\n",
    "* *hip-hop*.\n",
    "\n",
    "Чтобы очистить от них таблицу используйте метод `replace()` с двумя аргументами: списком строк-дубликатов (включащий *hip*, *hop* и *hip-hop*) и строкой с правильным значением. Вам нужно исправить колонку `genre` в таблице `df`: заменить каждое значение из списка дубликатов на верное. Вместо `hip`, `hop` и `hip-hop` в таблице должно быть значение `hiphop`:"
   ]
  },
  {
   "cell_type": "code",
   "execution_count": 16,
   "metadata": {
    "deletable": false,
    "id": "ErNDkmns_Zct"
   },
   "outputs": [],
   "source": [
    "# Устранение неявных дубликатов\n",
    "df['genre'] = df['genre'].replace(['hip','hop','hip-hop'],'hiphop')"
   ]
  },
  {
   "cell_type": "markdown",
   "metadata": {
    "deletable": false,
    "editable": false,
    "id": "zQKF16_RG15m",
    "tags": [
     "start_task"
    ]
   },
   "source": [
    "**Задание 17**\n",
    "\n",
    "Проверьте, что заменили неправильные названия:\n",
    "\n",
    "*   hip,\n",
    "*   hop,\n",
    "*   hip-hop.\n",
    "\n",
    "Выведите отсортированный список уникальных значений столбца `genre`:"
   ]
  },
  {
   "cell_type": "code",
   "execution_count": 17,
   "metadata": {
    "deletable": false,
    "id": "wvixALnFG15m"
   },
   "outputs": [
    {
     "name": "stdout",
     "output_type": "stream",
     "text": [
      "['acid' 'acoustic' 'action' 'adult' 'africa' 'afrikaans' 'alternative'\n",
      " 'alternativepunk' 'ambient' 'americana' 'animated' 'anime' 'arabesk'\n",
      " 'arabic' 'arena' 'argentinetango' 'art' 'audiobook' 'author' 'avantgarde'\n",
      " 'axé' 'baile' 'balkan' 'beats' 'bigroom' 'black' 'bluegrass' 'blues'\n",
      " 'bollywood' 'bossa' 'brazilian' 'breakbeat' 'breaks' 'broadway'\n",
      " 'cantautori' 'cantopop' 'canzone' 'caribbean' 'caucasian' 'celtic'\n",
      " 'chamber' 'chanson' 'children' 'chill' 'chinese' 'choral' 'christian'\n",
      " 'christmas' 'classical' 'classicmetal' 'club' 'colombian' 'comedy'\n",
      " 'conjazz' 'contemporary' 'country' 'cuban' 'dance' 'dancehall' 'dancepop'\n",
      " 'dark' 'death' 'deep' 'deutschrock' 'deutschspr' 'dirty' 'disco' 'dnb'\n",
      " 'documentary' 'downbeat' 'downtempo' 'drum' 'dub' 'dubstep' 'eastern'\n",
      " 'easy' 'electronic' 'electropop' 'emo' 'entehno' 'epicmetal' 'estrada'\n",
      " 'ethnic' 'eurofolk' 'european' 'experimental' 'extrememetal' 'fado'\n",
      " 'fairytail' 'film' 'fitness' 'flamenco' 'folk' 'folklore' 'folkmetal'\n",
      " 'folkrock' 'folktronica' 'forró' 'frankreich' 'französisch' 'french'\n",
      " 'funk' 'future' 'gangsta' 'garage' 'german' 'ghazal' 'gitarre' 'glitch'\n",
      " 'gospel' 'gothic' 'grime' 'grunge' 'gypsy' 'handsup' \"hard'n'heavy\"\n",
      " 'hardcore' 'hardstyle' 'hardtechno' 'hiphop' 'historisch' 'holiday'\n",
      " 'horror' 'house' 'hymn' 'idm' 'independent' 'indian' 'indie' 'indipop'\n",
      " 'industrial' 'inspirational' 'instrumental' 'international' 'irish' 'jam'\n",
      " 'japanese' 'jazz' 'jewish' 'jpop' 'jungle' 'k-pop' 'karadeniz' 'karaoke'\n",
      " 'kayokyoku' 'korean' 'laiko' 'latin' 'latino' 'leftfield' 'local'\n",
      " 'lounge' 'loungeelectronic' 'lovers' 'malaysian' 'mandopop' 'marschmusik'\n",
      " 'meditative' 'mediterranean' 'melodic' 'metal' 'metalcore' 'mexican'\n",
      " 'middle' 'minimal' 'miscellaneous' 'modern' 'mood' 'mpb' 'muslim'\n",
      " 'native' 'neoklassik' 'neue' 'new' 'newage' 'newwave' 'nu' 'nujazz'\n",
      " 'numetal' 'oceania' 'old' 'opera' 'orchestral' 'other' 'piano' 'podcasts'\n",
      " 'pop' 'popdance' 'popelectronic' 'popeurodance' 'poprussian' 'post'\n",
      " 'posthardcore' 'postrock' 'power' 'progmetal' 'progressive' 'psychedelic'\n",
      " 'punjabi' 'punk' 'quebecois' 'ragga' 'ram' 'rancheras' 'rap' 'rave'\n",
      " 'reggae' 'reggaeton' 'regional' 'relax' 'religious' 'retro' 'rhythm'\n",
      " 'rnb' 'rnr' 'rock' 'rockabilly' 'rockalternative' 'rockindie' 'rockother'\n",
      " 'romance' 'roots' 'ruspop' 'rusrap' 'rusrock' 'russian' 'salsa' 'samba'\n",
      " 'scenic' 'schlager' 'self' 'sertanejo' 'shanson' 'shoegazing' 'showtunes'\n",
      " 'singer' 'ska' 'skarock' 'slow' 'smooth' 'soft' 'soul' 'soulful' 'sound'\n",
      " 'soundtrack' 'southern' 'specialty' 'speech' 'spiritual' 'sport'\n",
      " 'stonerrock' 'surf' 'swing' 'synthpop' 'synthrock' 'sängerportrait'\n",
      " 'tango' 'tanzorchester' 'taraftar' 'tatar' 'tech' 'techno' 'teen'\n",
      " 'thrash' 'top' 'traditional' 'tradjazz' 'trance' 'tribal' 'trip'\n",
      " 'triphop' 'tropical' 'türk' 'türkçe' 'ukrrock' 'unknown' 'urban' 'uzbek'\n",
      " 'variété' 'vi' 'videogame' 'vocal' 'western' 'world' 'worldbeat' 'ïîï'\n",
      " 'электроника']\n"
     ]
    }
   ],
   "source": [
    "# Проверка на неявные дубликаты\n",
    "print(df['genre'].sort_values().unique())\n"
   ]
  },
  {
   "cell_type": "markdown",
   "metadata": {
    "deletable": false,
    "editable": false,
    "id": "jz6a9-7HQUDd"
   },
   "source": [
    "**Выводы**\n",
    "\n",
    "Предобработка обнаружила три проблемы в данных:\n",
    "\n",
    "- нарушения в стиле заголовков,\n",
    "- пропущенные значения,\n",
    "- дубликаты — явные и неявные.\n",
    "\n",
    "Вы исправили заголовки, чтобы упростить работу с таблицей. Без дубликатов исследование станет более точным.\n",
    "\n",
    "Пропущенные значения вы заменили на `'unknown'`. Ещё предстоит увидеть, не повредят ли исследованию пропуски в колонке `genre`.\n",
    "\n",
    "Теперь можно перейти к проверке гипотез. "
   ]
  },
  {
   "cell_type": "markdown",
   "metadata": {
    "deletable": false,
    "editable": false,
    "id": "WttZHXH0SqKk"
   },
   "source": [
    "## Проверка гипотез"
   ]
  },
  {
   "cell_type": "markdown",
   "metadata": {
    "deletable": false,
    "editable": false,
    "id": "Im936VVi_Zcu"
   },
   "source": [
    "### Сравнение поведения пользователей двух столиц"
   ]
  },
  {
   "cell_type": "markdown",
   "metadata": {
    "deletable": false,
    "editable": false,
    "id": "nwt_MuaL_Zcu"
   },
   "source": [
    "Первая гипотеза утверждает, что пользователи по-разному слушают музыку в Москве и Санкт-Петербурге. Проверьте это предположение по данным о трёх днях недели — понедельнике, среде и пятнице. Для этого:\n",
    "\n",
    "* Разделите пользователей Москвы и Санкт-Петербурга.\n",
    "* Сравните, сколько треков послушала каждая группа пользователей в понедельник, среду и пятницу.\n"
   ]
  },
  {
   "cell_type": "markdown",
   "metadata": {
    "deletable": false,
    "editable": false,
    "id": "8Dw_YMmT_Zcu",
    "tags": [
     "start_task"
    ]
   },
   "source": [
    "**Задание 18**\n",
    "\n",
    "Для тренировки сначала выполните каждый из расчётов по отдельности. \n",
    "\n",
    "Оцените активность пользователей в каждом городе. Сгруппируйте данные по городу и посчитайте прослушивания в каждой группе.\n",
    "\n"
   ]
  },
  {
   "cell_type": "code",
   "execution_count": 18,
   "metadata": {
    "deletable": false,
    "id": "0_Qs96oh_Zcu"
   },
   "outputs": [
    {
     "data": {
      "text/plain": [
       "city\n",
       "Moscow              42741\n",
       "Saint-Petersburg    18512\n",
       "Name: track, dtype: int64"
      ]
     },
     "execution_count": 18,
     "metadata": {},
     "output_type": "execute_result"
    }
   ],
   "source": [
    "# Подсчёт прослушиваний в каждом городе\n",
    "df.groupby('city')['track'].count()"
   ]
  },
  {
   "cell_type": "markdown",
   "metadata": {
    "deletable": false,
    "editable": false,
    "id": "dzli3w8o_Zcu",
    "tags": [
     "start_task"
    ]
   },
   "source": [
    "В Москве прослушиваний больше, чем в Петербурге. Из этого не следует, что московские пользователи чаще слушают музыку. Просто самих пользователей в Москве больше.\n",
    "\n",
    "**Задание 19**\n",
    "\n",
    "Теперь сгруппируйте данные по дню недели и посчитайте прослушивания в понедельник, среду и пятницу. Учтите, что в данных есть информация о прослушиваниях только за эти дни.\n"
   ]
  },
  {
   "cell_type": "code",
   "execution_count": 19,
   "metadata": {
    "deletable": false,
    "id": "uZMKjiJz_Zcu"
   },
   "outputs": [
    {
     "data": {
      "text/plain": [
       "day\n",
       "Friday       21840\n",
       "Monday       21354\n",
       "Wednesday    18059\n",
       "Name: track, dtype: int64"
      ]
     },
     "execution_count": 19,
     "metadata": {},
     "output_type": "execute_result"
    }
   ],
   "source": [
    "# Подсчёт прослушиваний в каждый из трёх дней\n",
    "df.groupby('day')['track'].count()"
   ]
  },
  {
   "cell_type": "markdown",
   "metadata": {
    "deletable": false,
    "editable": false,
    "id": "cC2tNrlL_Zcu"
   },
   "source": [
    "В среднем пользователи из двух городов менее активны по средам. Но картина может измениться, если рассмотреть каждый город в отдельности."
   ]
  },
  {
   "cell_type": "markdown",
   "metadata": {
    "deletable": false,
    "editable": false,
    "id": "POzs8bGa_Zcu",
    "tags": [
     "start_task"
    ]
   },
   "source": [
    "**Задание 20**\n",
    "\n",
    "\n",
    "Вы видели, как работает группировка по городу и по дням недели. Теперь напишите функцию, которая объединит два эти расчёта.\n",
    "\n",
    "Создайте функцию `number_tracks()`, которая посчитает прослушивания для заданного дня и города. Ей понадобятся два параметра:\n",
    "* день недели,\n",
    "* название города.\n",
    "\n",
    "В функции сохраните в переменную строки исходной таблицы, у которых значение:\n",
    "  * в колонке `day` равно параметру `day`,\n",
    "  * в колонке `city` равно параметру `city`.\n",
    "\n",
    "Для этого примените последовательную фильтрацию с логической индексацией (или сложные логические выражения в одну строку, если вы уже знакомы с ними).\n",
    "\n",
    "Затем посчитайте значения в столбце `user_id` получившейся таблицы. Результат сохраните в новую переменную. Верните эту переменную из функции."
   ]
  },
  {
   "cell_type": "code",
   "execution_count": 20,
   "metadata": {
    "deletable": false,
    "id": "Nz3GdQB1_Zcu"
   },
   "outputs": [],
   "source": [
    "# <создание функции number_tracks()>\n",
    "# Объявляется функция с двумя параметрами: day, city.\n",
    "def number_tracks(day , city):\n",
    "# В переменной track_list сохраняются те строки таблицы df, для которых \n",
    "# значение в столбце 'day' равно параметру day и одновременно значение\n",
    "# в столбце 'city' равно параметру city (используйте последовательную фильтрацию\n",
    "# с помощью логической индексации или сложные логические выражения в одну строку, если вы уже знакомы с ними).\n",
    "    track_list = df[df['day'] == day]\n",
    "    track_list = track_list[track_list['city'] == city]\n",
    "# В переменной track_list_count сохраняется число значений столбца 'user_id',\n",
    "# рассчитанное методом count() для таблицы track_list.\n",
    "    track_list_count = track_list['user_id'].count()\n",
    "# Функция возвращает число - значение track_list_count.\n",
    "    return track_list_count\n",
    "# Функция для подсчёта прослушиваний для конкретного города и дня.\n",
    "# С помощью последовательной фильтрации с логической индексацией она \n",
    "# сначала получит из исходной таблицы строки с нужным днём,\n",
    "# затем из результата отфильтрует строки с нужным городом,\n",
    "# методом count() посчитает количество значений в колонке user_id. \n",
    "# Это количество функция вернёт в качестве результата"
   ]
  },
  {
   "cell_type": "markdown",
   "metadata": {
    "deletable": false,
    "editable": false,
    "id": "ytf7xFrFJQ2r",
    "tags": [
     "start_task"
    ]
   },
   "source": [
    "**Задание 21**\n",
    "\n",
    "Вызовите `number_tracks()` шесть раз, меняя значение параметров — так, чтобы получить данные для каждого города в каждый из трёх дней."
   ]
  },
  {
   "cell_type": "code",
   "execution_count": 21,
   "metadata": {
    "deletable": false,
    "id": "rJcRATNQ_Zcu"
   },
   "outputs": [
    {
     "data": {
      "text/plain": [
       "15740"
      ]
     },
     "execution_count": 21,
     "metadata": {},
     "output_type": "execute_result"
    }
   ],
   "source": [
    "# количество прослушиваний в Москве по понедельникам\n",
    "number_tracks('Monday', 'Moscow')"
   ]
  },
  {
   "cell_type": "code",
   "execution_count": 22,
   "metadata": {
    "deletable": false,
    "id": "hq_ncZ5T_Zcu"
   },
   "outputs": [
    {
     "data": {
      "text/plain": [
       "5614"
      ]
     },
     "execution_count": 22,
     "metadata": {},
     "output_type": "execute_result"
    }
   ],
   "source": [
    "# количество прослушиваний в Санкт-Петербурге по понедельникам\n",
    "number_tracks('Monday', 'Saint-Petersburg')"
   ]
  },
  {
   "cell_type": "code",
   "execution_count": 23,
   "metadata": {
    "deletable": false,
    "id": "_NTy2VPU_Zcu"
   },
   "outputs": [
    {
     "data": {
      "text/plain": [
       "11056"
      ]
     },
     "execution_count": 23,
     "metadata": {},
     "output_type": "execute_result"
    }
   ],
   "source": [
    "# количество прослушиваний в Москве по средам\n",
    "number_tracks('Wednesday', 'Moscow')"
   ]
  },
  {
   "cell_type": "code",
   "execution_count": 24,
   "metadata": {
    "deletable": false,
    "id": "j2y3TAwo_Zcu"
   },
   "outputs": [
    {
     "data": {
      "text/plain": [
       "7003"
      ]
     },
     "execution_count": 24,
     "metadata": {},
     "output_type": "execute_result"
    }
   ],
   "source": [
    "# количество прослушиваний в Санкт-Петербурге по средам\n",
    "number_tracks('Wednesday', 'Saint-Petersburg')"
   ]
  },
  {
   "cell_type": "code",
   "execution_count": 25,
   "metadata": {
    "deletable": false,
    "id": "vYDw5u_K_Zcu"
   },
   "outputs": [
    {
     "data": {
      "text/plain": [
       "15945"
      ]
     },
     "execution_count": 25,
     "metadata": {},
     "output_type": "execute_result"
    }
   ],
   "source": [
    "# количество прослушиваний в Москве по пятницам\n",
    "number_tracks('Friday', 'Moscow')"
   ]
  },
  {
   "cell_type": "code",
   "execution_count": 26,
   "metadata": {
    "deletable": false,
    "id": "8_yzFtW3_Zcu"
   },
   "outputs": [
    {
     "data": {
      "text/plain": [
       "5895"
      ]
     },
     "execution_count": 26,
     "metadata": {},
     "output_type": "execute_result"
    }
   ],
   "source": [
    "# количество прослушиваний в Санкт-Петербурге по пятницам\n",
    "number_tracks('Friday', 'Saint-Petersburg')"
   ]
  },
  {
   "cell_type": "markdown",
   "metadata": {
    "deletable": false,
    "editable": false,
    "id": "7QXffbO-_Zcu",
    "tags": [
     "start_task"
    ]
   },
   "source": [
    "**Задание 22**\n",
    "\n",
    "Создайте c помощью конструктора `pd.DataFrame` таблицу, где\n",
    "* названия колонок — `['city', 'monday', 'wednesday', 'friday']`;\n",
    "* данные — результаты, которые вы получили с помощью `number_tracks`."
   ]
  },
  {
   "cell_type": "code",
   "execution_count": 27,
   "metadata": {
    "deletable": false,
    "id": "APAcLpOr_Zcu"
   },
   "outputs": [],
   "source": [
    "# Таблица с результатами\n",
    "info = pd.DataFrame(data=[['Moscow','Monday','Wednesday','Friday'] , ['Saint-Petersburg','Monday','Wednesday','Friday']] , columns =['city', 'monday', 'wednesday', 'friday'])\n"
   ]
  },
  {
   "cell_type": "markdown",
   "metadata": {
    "deletable": false,
    "editable": false,
    "id": "-EgPIHYu_Zcu"
   },
   "source": [
    "**Выводы**\n",
    "\n",
    "Данные показывают разницу поведения пользователей:\n",
    "\n",
    "- В Москве пик прослушиваний приходится на понедельник и пятницу, а в среду заметен спад.\n",
    "- В Петербурге, наоборот, больше слушают музыку по средам. Активность в понедельник и пятницу здесь почти в равной мере уступает среде.\n",
    "\n",
    "Значит, данные говорят в пользу первой гипотезы."
   ]
  },
  {
   "cell_type": "markdown",
   "metadata": {
    "deletable": false,
    "editable": false,
    "id": "atZAxtq4_Zcu"
   },
   "source": [
    "### Музыка в начале и в конце недели"
   ]
  },
  {
   "cell_type": "markdown",
   "metadata": {
    "deletable": false,
    "editable": false,
    "id": "eXrQqXFH_Zcu"
   },
   "source": [
    "Согласно второй гипотезе, утром в понедельник в Москве преобладают одни жанры, а в Петербурге — другие. Так же и вечером пятницы преобладают разные жанры — в зависимости от города."
   ]
  },
  {
   "cell_type": "markdown",
   "metadata": {
    "deletable": false,
    "editable": false,
    "id": "S8UcW6Hw_Zcu",
    "tags": [
     "start_task"
    ]
   },
   "source": [
    "**Задание 23**\n",
    "\n",
    "Сохраните таблицы с данными в две переменные:\n",
    "* по Москве — в `moscow_general`;\n",
    "* по Санкт-Петербургу — в `spb_general`."
   ]
  },
  {
   "cell_type": "code",
   "execution_count": 28,
   "metadata": {
    "deletable": false,
    "id": "qeaFfM_P_Zcu"
   },
   "outputs": [],
   "source": [
    "# получение таблицы moscow_general из тех строк таблицы df, \n",
    "# для которых значение в столбце 'city' равно 'Moscow'\n",
    "moscow_general = df[df['city'] == 'Moscow']"
   ]
  },
  {
   "cell_type": "code",
   "execution_count": 29,
   "metadata": {
    "deletable": false,
    "id": "ORaVRKto_Zcu"
   },
   "outputs": [],
   "source": [
    "# получение таблицы spb_general из тех строк таблицы df,\n",
    "# для которых значение в столбце 'city' равно 'Saint-Petersburg'\n",
    "spb_general = df[df['city'] == 'Saint-Petersburg']"
   ]
  },
  {
   "cell_type": "markdown",
   "metadata": {
    "deletable": false,
    "editable": false,
    "id": "MEJV-CX2_Zcu",
    "tags": [
     "start_task"
    ]
   },
   "source": [
    "**Задание 24**\n",
    "\n",
    "Создайте функцию `genre_weekday()` с четырьмя параметрами:\n",
    "* таблица (датафрейм) с данными,\n",
    "* день недели,\n",
    "* начальная временная метка в формате 'hh:mm', \n",
    "* последняя временная метка в формате 'hh:mm'.\n",
    "\n",
    "Функция должна вернуть информацию о топ-10 жанров тех треков, которые прослушивали в указанный день, в промежутке между двумя отметками времени."
   ]
  },
  {
   "cell_type": "code",
   "execution_count": 30,
   "metadata": {
    "deletable": false,
    "id": "laJT9BYl_Zcu"
   },
   "outputs": [],
   "source": [
    "# Объявление функции genre_weekday() с параметрами table, day, time1, time2,\n",
    "# которая возвращает информацию о самых популярных жанрах в указанный день в\n",
    "# заданное время:\n",
    "# 1) в переменную genre_df сохраняются те строки переданного датафрейма table, для\n",
    "#    которых одновременно:\n",
    "#    - значение в столбце day равно значению аргумента day\n",
    "#    - значение в столбце time больше значения аргумента time1\n",
    "#    - значение в столбце time меньше значения аргумента time2\n",
    "#    Используйте последовательную фильтрацию с помощью логической индексации.\n",
    "    \n",
    "# 2) сгруппировать датафрейм genre_df по столбцу genre, взять один из его\n",
    "#    столбцов и посчитать методом count() количество записей для каждого из\n",
    "#    присутствующих жанров, получившийся Series записать в переменную\n",
    "#    genre_df_count\n",
    "\n",
    "# 3) отсортировать genre_df_count по убыванию встречаемости и сохранить\n",
    "#    в переменную genre_df_sorted\n",
    "# 4) вернуть Series из 10 первых значений genre_df_sorted, это будут топ-10\n",
    "#    популярных жанров (в указанный день, в заданное время)\n",
    "\n",
    "def genre_weekday(df, day, time1, time2):\n",
    "    # последовательная фильтрация\n",
    "    # оставляем в genre_df только те строки df, у которых день равен day\n",
    "    genre_df = df[df['day'] == day]\n",
    "    # оставляем в genre_df только те строки genre_df, у которых время меньше time2\n",
    "    genre_df = genre_df[genre_df['time'] < time2]\n",
    "    # оставляем в genre_df только те строки genre_df, у которых время больше time1\n",
    "    genre_df = genre_df[genre_df['time'] > time1]\n",
    "    # сгруппируем отфильтрованный датафрейм по столбцу с названиями жанров, возьмём столбец genre и посчитаем кол-во строк для каждого жанра методом count()\n",
    "    genre_df_grouped = genre_df.groupby('genre')['genre'].count()\n",
    "    # отсортируем результат по убыванию (чтобы в начале Series оказались самые популярные жанры)\n",
    "    genre_df_sorted = genre_df_grouped.sort_values(ascending=False)  # ваш код здесь\n",
    "    # вернём Series с 10 самыми популярными жанрами в указанный отрезок времени заданного дня\n",
    "    return genre_df_sorted[:10]"
   ]
  },
  {
   "cell_type": "markdown",
   "metadata": {
    "deletable": false,
    "editable": false,
    "id": "la2s2_PF_Zcu",
    "tags": [
     "start_task"
    ]
   },
   "source": [
    "**Задание 25**\n",
    "\n",
    "\n",
    "Cравните результаты функции `genre_weekday()` для Москвы и Санкт-Петербурга в понедельник утром (с 7:00 до 11:00) и в пятницу вечером (с 17:00 до 23:00):"
   ]
  },
  {
   "cell_type": "code",
   "execution_count": 31,
   "metadata": {
    "deletable": false,
    "id": "yz7itPUQ_Zcu"
   },
   "outputs": [
    {
     "data": {
      "text/plain": [
       "genre\n",
       "pop            781\n",
       "dance          549\n",
       "electronic     480\n",
       "rock           474\n",
       "hiphop         286\n",
       "ruspop         186\n",
       "world          181\n",
       "rusrap         175\n",
       "alternative    164\n",
       "unknown        161\n",
       "Name: genre, dtype: int64"
      ]
     },
     "execution_count": 31,
     "metadata": {},
     "output_type": "execute_result"
    }
   ],
   "source": [
    "# вызов функции для утра понедельника в Москве (вместо df — таблица moscow_general)\n",
    "# объекты, хранящие время, являются строками и сравниваются как строки\n",
    "# пример вызова: genre_weekday(moscow_general, 'Monday', '07:00', '11:00')\n",
    "genre_weekday(moscow_general, 'Monday', '07:00', '11:00')"
   ]
  },
  {
   "cell_type": "code",
   "execution_count": null,
   "metadata": {
    "deletable": false,
    "id": "kwUcHPdy_Zcu"
   },
   "outputs": [],
   "source": [
    "# вызов функции для утра понедельника в Петербурге (вместо df — таблица spb_general)\n",
    "genre_weekday(spb_general, 'Monday', '07:00', '11:00')"
   ]
  },
  {
   "cell_type": "code",
   "execution_count": null,
   "metadata": {
    "deletable": false,
    "id": "EzXVRE1o_Zcu"
   },
   "outputs": [],
   "source": [
    "# вызов функции для вечера пятницы в Москве\n",
    "genre_weekday(moscow_general, 'Friday', '17:00', '23:00')"
   ]
  },
  {
   "cell_type": "code",
   "execution_count": null,
   "metadata": {
    "deletable": false,
    "id": "JZaEKu5v_Zcu"
   },
   "outputs": [],
   "source": [
    "# вызов функции для вечера пятницы в Петербурге\n",
    "genre_weekday(spb_general, 'Friday', '17:00', '23:00')"
   ]
  },
  {
   "cell_type": "markdown",
   "metadata": {
    "deletable": false,
    "editable": false,
    "id": "wrCe4MNX_Zcu"
   },
   "source": [
    "**Выводы**\n",
    "\n",
    "Если сравнить топ-10 жанров в понедельник утром, можно сделать такие выводы:\n",
    "\n",
    "1. В Москве и Петербурге слушают похожую музыку. Единственное отличие — в московский рейтинг вошёл жанр “world”, а в петербургский — джаз и классика.\n",
    "\n",
    "2. В Москве пропущенных значений оказалось так много, что значение `'unknown'` заняло десятое место среди самых популярных жанров. Значит, пропущенные значения занимают существенную долю в данных и угрожают достоверности исследования.\n",
    "\n",
    "Вечер пятницы не меняет эту картину. Некоторые жанры поднимаются немного выше, другие спускаются, но в целом топ-10 остаётся тем же самым.\n",
    "\n",
    "Таким образом, вторая гипотеза подтвердилась лишь частично:\n",
    "* Пользователи слушают похожую музыку в начале недели и в конце.\n",
    "* Разница между Москвой и Петербургом не слишком выражена. В Москве чаще слушают русскую популярную музыку, в Петербурге — джаз.\n",
    "\n",
    "Однако пропуски в данных ставят под сомнение этот результат. В Москве их так много, что рейтинг топ-10 мог бы выглядеть иначе, если бы не утерянные  данные о жанрах."
   ]
  },
  {
   "cell_type": "markdown",
   "metadata": {
    "deletable": false,
    "editable": false,
    "id": "JolODAqr_Zcu"
   },
   "source": [
    "### Жанровые предпочтения в Москве и Петербурге\n",
    "\n",
    "Гипотеза: Петербург — столица рэпа, музыку этого жанра там слушают чаще, чем в Москве.  А Москва — город контрастов, в котором, тем не менее, преобладает поп-музыка."
   ]
  },
  {
   "cell_type": "markdown",
   "metadata": {
    "deletable": false,
    "editable": false,
    "id": "DlegSvaT_Zcu",
    "tags": [
     "start_task"
    ]
   },
   "source": [
    "**Задание 26**\n",
    "\n",
    "Сгруппируйте таблицу `moscow_general` по жанру и посчитайте прослушивания треков каждого жанра методом `count()`. Затем отсортируйте результат в порядке убывания и сохраните его в таблице `moscow_genres`."
   ]
  },
  {
   "cell_type": "code",
   "execution_count": null,
   "metadata": {
    "deletable": false,
    "id": "r19lIPke_Zcu"
   },
   "outputs": [],
   "source": [
    "# одной строкой: группировка таблицы moscow_general по столбцу 'genre',\n",
    "moscow_genres = moscow_general.groupby('genre')['genre'].count().sort_values(ascending=False)\n",
    "# подсчёт числа значений 'genre' в этой группировке методом count(), \n",
    "# сортировка получившегося Series в порядке убывания и сохранение в moscow_genres"
   ]
  },
  {
   "cell_type": "markdown",
   "metadata": {
    "deletable": false,
    "editable": false,
    "id": "6kMuomxTiIr8",
    "tags": [
     "start_task"
    ]
   },
   "source": [
    "**Задание 27**\n",
    "\n",
    "Выведите на экран первые десять строк `moscow_genres`:"
   ]
  },
  {
   "cell_type": "code",
   "execution_count": null,
   "metadata": {
    "deletable": false,
    "id": "WhCSooF8_Zcv"
   },
   "outputs": [],
   "source": [
    "# просмотр первых 10 строк moscow_genres\n",
    "print(moscow_genres[:10])"
   ]
  },
  {
   "cell_type": "markdown",
   "metadata": {
    "deletable": false,
    "editable": false,
    "id": "cnPG2vnN_Zcv",
    "tags": [
     "start_task"
    ]
   },
   "source": [
    "**Задание 28**\n",
    "\n",
    "\n",
    "Теперь повторите то же и для Петербурга.\n",
    "\n",
    "Сгруппируйте таблицу `spb_general` по жанру. Посчитайте прослушивания треков каждого жанра. Результат отсортируйте в порядке убывания и сохраните в таблице `spb_genres`:\n"
   ]
  },
  {
   "cell_type": "code",
   "execution_count": null,
   "metadata": {
    "deletable": false,
    "id": "gluLIpE7_Zcv"
   },
   "outputs": [],
   "source": [
    "# одной строкой: группировка таблицы spb_general по столбцу 'genre', \n",
    "# подсчёт числа значений 'genre' в этой группировке методом count(), \n",
    "# сортировка получившегося Series в порядке убывания и сохранение в spb_genres\n",
    "spb_genres = spb_general.groupby('genre')['genre'].count().sort_values(ascending=False)"
   ]
  },
  {
   "cell_type": "markdown",
   "metadata": {
    "deletable": false,
    "editable": false,
    "id": "5Doha_ODgyQ8",
    "tags": [
     "start_task"
    ]
   },
   "source": [
    "**Задание 29**\n",
    "\n",
    "Выведите на экран первые десять строк `spb_genres`:"
   ]
  },
  {
   "cell_type": "code",
   "execution_count": null,
   "metadata": {
    "deletable": false,
    "id": "uaGJHjVU_Zcv"
   },
   "outputs": [],
   "source": [
    "# просмотр первых 10 строк spb_genres\n",
    "print(spb_genres[:10])"
   ]
  },
  {
   "cell_type": "markdown",
   "metadata": {
    "deletable": false,
    "editable": false,
    "id": "RY51YJYu_Zcv"
   },
   "source": [
    "**Выводы**"
   ]
  },
  {
   "cell_type": "markdown",
   "metadata": {
    "deletable": false,
    "editable": false,
    "id": "nVhnJEm__Zcv"
   },
   "source": [
    "Гипотеза частично подтвердилась:\n",
    "* Поп-музыка — самый популярный жанр в Москве, как и предполагала гипотеза. Более того, в топ-10 жанров встречается близкий жанр — русская популярная музыка.\n",
    "* Вопреки ожиданиям, рэп одинаково популярен в Москве и Петербурге. \n"
   ]
  },
  {
   "cell_type": "markdown",
   "metadata": {
    "deletable": false,
    "editable": false,
    "id": "ykKQ0N65_Zcv"
   },
   "source": [
    "## Итоги исследования"
   ]
  },
  {
   "cell_type": "markdown",
   "metadata": {
    "deletable": false,
    "editable": false,
    "id": "tjUwbHb3_Zcv"
   },
   "source": [
    "Вы проверили три гипотезы и установили:\n",
    "\n",
    "1. День недели по-разному влияет на активность пользователей в Москве и Петербурге. \n",
    "\n",
    "Первая гипотеза полностью подтвердилась.\n",
    "\n",
    "2. Музыкальные предпочтения не сильно меняются в течение недели — будь то Москва или Петербург. Небольшие различия заметны в начале недели, по понедельникам:\n",
    "* в Москве слушают музыку жанра “world”,\n",
    "* в Петербурге — джаз и классику.\n",
    "\n",
    "Таким образом, вторая гипотеза подтвердилась лишь отчасти. Этот результат мог оказаться иным, если бы не пропуски в данных.\n",
    "\n",
    "3. Во вкусах пользователей Москвы и Петербурга больше общего чем различий. Вопреки ожиданиям, предпочтения жанров в Петербурге напоминают московские.\n",
    "\n",
    "Третья гипотеза не подтвердилась. Если различия в предпочтениях и существуют, на основной массе пользователей они незаметны.\n",
    "\n",
    "**На практике исследования содержат проверки статистических гипотез.**\n",
    "Из данных одного сервиса не всегда можно сделать вывод о всех жителях города.\n",
    "Проверки статистических гипотез покажут, насколько они достоверны, исходя из имеющихся данных. \n",
    "С методами проверок гипотез вы ещё познакомитесь в следующих темах."
   ]
  },
  {
   "cell_type": "code",
   "execution_count": null,
   "metadata": {},
   "outputs": [],
   "source": []
  }
 ],
 "metadata": {
  "ExecuteTimeLog": [
   {
    "duration": 4,
    "start_time": "2022-08-14T12:12:40.339Z"
   },
   {
    "duration": 14,
    "start_time": "2022-08-14T13:12:55.087Z"
   },
   {
    "duration": 432,
    "start_time": "2022-08-14T13:14:21.602Z"
   },
   {
    "duration": 199,
    "start_time": "2022-08-14T13:14:22.036Z"
   },
   {
    "duration": 28,
    "start_time": "2022-08-14T13:14:22.237Z"
   },
   {
    "duration": 48,
    "start_time": "2022-08-14T13:14:22.269Z"
   },
   {
    "duration": 3,
    "start_time": "2022-08-14T13:14:22.318Z"
   },
   {
    "duration": 7,
    "start_time": "2022-08-14T13:14:22.322Z"
   },
   {
    "duration": 5,
    "start_time": "2022-08-14T13:14:22.330Z"
   },
   {
    "duration": 5,
    "start_time": "2022-08-14T13:14:22.337Z"
   },
   {
    "duration": 5,
    "start_time": "2022-08-14T13:14:22.343Z"
   },
   {
    "duration": 4,
    "start_time": "2022-08-14T13:14:22.351Z"
   },
   {
    "duration": 43,
    "start_time": "2022-08-14T13:14:22.357Z"
   },
   {
    "duration": 5,
    "start_time": "2022-08-14T13:14:22.402Z"
   },
   {
    "duration": 6,
    "start_time": "2022-08-14T13:14:22.408Z"
   },
   {
    "duration": 5,
    "start_time": "2022-08-14T13:14:22.416Z"
   },
   {
    "duration": 4,
    "start_time": "2022-08-14T13:14:22.423Z"
   },
   {
    "duration": 5,
    "start_time": "2022-08-14T13:14:22.429Z"
   },
   {
    "duration": 6,
    "start_time": "2022-08-14T13:14:22.436Z"
   },
   {
    "duration": 7,
    "start_time": "2022-08-14T13:14:22.443Z"
   },
   {
    "duration": 41,
    "start_time": "2022-08-14T13:14:22.452Z"
   },
   {
    "duration": 12,
    "start_time": "2022-08-14T13:14:22.494Z"
   },
   {
    "duration": 7,
    "start_time": "2022-08-14T13:14:22.508Z"
   },
   {
    "duration": 8,
    "start_time": "2022-08-14T13:14:22.517Z"
   },
   {
    "duration": 5,
    "start_time": "2022-08-14T13:14:22.527Z"
   },
   {
    "duration": 5,
    "start_time": "2022-08-14T13:14:22.534Z"
   },
   {
    "duration": 7,
    "start_time": "2022-08-14T13:14:22.541Z"
   },
   {
    "duration": 5,
    "start_time": "2022-08-14T13:14:22.550Z"
   },
   {
    "duration": 40,
    "start_time": "2022-08-14T13:14:22.560Z"
   },
   {
    "duration": 32,
    "start_time": "2022-08-14T13:14:22.604Z"
   },
   {
    "duration": 17,
    "start_time": "2022-08-14T13:14:22.638Z"
   },
   {
    "duration": 83,
    "start_time": "2022-08-14T13:14:22.660Z"
   },
   {
    "duration": 0,
    "start_time": "2022-08-14T13:14:22.745Z"
   },
   {
    "duration": 0,
    "start_time": "2022-08-14T13:14:22.746Z"
   },
   {
    "duration": 0,
    "start_time": "2022-08-14T13:14:22.746Z"
   },
   {
    "duration": 0,
    "start_time": "2022-08-14T13:14:22.748Z"
   },
   {
    "duration": 0,
    "start_time": "2022-08-14T13:14:22.749Z"
   },
   {
    "duration": 0,
    "start_time": "2022-08-14T13:14:22.750Z"
   },
   {
    "duration": 0,
    "start_time": "2022-08-14T13:14:22.750Z"
   },
   {
    "duration": 0,
    "start_time": "2022-08-14T13:14:22.752Z"
   },
   {
    "duration": 14,
    "start_time": "2022-08-14T13:20:13.350Z"
   },
   {
    "duration": 426,
    "start_time": "2022-08-14T13:20:46.172Z"
   },
   {
    "duration": 202,
    "start_time": "2022-08-14T13:20:46.600Z"
   },
   {
    "duration": 17,
    "start_time": "2022-08-14T13:20:46.803Z"
   },
   {
    "duration": 53,
    "start_time": "2022-08-14T13:20:46.822Z"
   },
   {
    "duration": 15,
    "start_time": "2022-08-14T13:20:46.882Z"
   },
   {
    "duration": 19,
    "start_time": "2022-08-14T13:20:46.899Z"
   },
   {
    "duration": 21,
    "start_time": "2022-08-14T13:20:46.919Z"
   },
   {
    "duration": 5,
    "start_time": "2022-08-14T13:20:46.942Z"
   },
   {
    "duration": 39,
    "start_time": "2022-08-14T13:20:46.948Z"
   },
   {
    "duration": 24,
    "start_time": "2022-08-14T13:20:46.990Z"
   },
   {
    "duration": 15,
    "start_time": "2022-08-14T13:20:47.016Z"
   },
   {
    "duration": 21,
    "start_time": "2022-08-14T13:20:47.032Z"
   },
   {
    "duration": 41,
    "start_time": "2022-08-14T13:20:47.054Z"
   },
   {
    "duration": 8,
    "start_time": "2022-08-14T13:20:47.097Z"
   },
   {
    "duration": 35,
    "start_time": "2022-08-14T13:20:47.106Z"
   },
   {
    "duration": 7,
    "start_time": "2022-08-14T13:20:47.143Z"
   },
   {
    "duration": 45,
    "start_time": "2022-08-14T13:20:47.151Z"
   },
   {
    "duration": 22,
    "start_time": "2022-08-14T13:20:47.197Z"
   },
   {
    "duration": 14,
    "start_time": "2022-08-14T13:20:47.221Z"
   },
   {
    "duration": 49,
    "start_time": "2022-08-14T13:20:47.237Z"
   },
   {
    "duration": 17,
    "start_time": "2022-08-14T13:20:47.288Z"
   },
   {
    "duration": 15,
    "start_time": "2022-08-14T13:20:47.307Z"
   },
   {
    "duration": 23,
    "start_time": "2022-08-14T13:20:47.324Z"
   },
   {
    "duration": 38,
    "start_time": "2022-08-14T13:20:47.349Z"
   },
   {
    "duration": 22,
    "start_time": "2022-08-14T13:20:47.389Z"
   },
   {
    "duration": 29,
    "start_time": "2022-08-14T13:20:47.412Z"
   },
   {
    "duration": 6,
    "start_time": "2022-08-14T13:20:47.443Z"
   },
   {
    "duration": 4,
    "start_time": "2022-08-14T13:20:47.452Z"
   },
   {
    "duration": 40,
    "start_time": "2022-08-14T13:20:47.457Z"
   },
   {
    "duration": 56,
    "start_time": "2022-08-14T13:20:47.499Z"
   },
   {
    "duration": 0,
    "start_time": "2022-08-14T13:20:47.557Z"
   },
   {
    "duration": 0,
    "start_time": "2022-08-14T13:20:47.558Z"
   },
   {
    "duration": 0,
    "start_time": "2022-08-14T13:20:47.558Z"
   },
   {
    "duration": 0,
    "start_time": "2022-08-14T13:20:47.559Z"
   },
   {
    "duration": 0,
    "start_time": "2022-08-14T13:20:47.562Z"
   },
   {
    "duration": 0,
    "start_time": "2022-08-14T13:20:47.563Z"
   },
   {
    "duration": 0,
    "start_time": "2022-08-14T13:20:47.564Z"
   },
   {
    "duration": 0,
    "start_time": "2022-08-14T13:20:47.565Z"
   },
   {
    "duration": 13,
    "start_time": "2022-08-14T13:20:55.014Z"
   },
   {
    "duration": 441,
    "start_time": "2022-08-14T13:21:11.704Z"
   },
   {
    "duration": 206,
    "start_time": "2022-08-14T13:21:12.147Z"
   },
   {
    "duration": 34,
    "start_time": "2022-08-14T13:21:12.354Z"
   },
   {
    "duration": 40,
    "start_time": "2022-08-14T13:21:12.393Z"
   },
   {
    "duration": 6,
    "start_time": "2022-08-14T13:21:12.435Z"
   },
   {
    "duration": 16,
    "start_time": "2022-08-14T13:21:12.443Z"
   },
   {
    "duration": 43,
    "start_time": "2022-08-14T13:21:12.464Z"
   },
   {
    "duration": 5,
    "start_time": "2022-08-14T13:21:12.510Z"
   },
   {
    "duration": 6,
    "start_time": "2022-08-14T13:21:12.517Z"
   },
   {
    "duration": 9,
    "start_time": "2022-08-14T13:21:12.526Z"
   },
   {
    "duration": 9,
    "start_time": "2022-08-14T13:21:12.537Z"
   },
   {
    "duration": 44,
    "start_time": "2022-08-14T13:21:12.548Z"
   },
   {
    "duration": 4,
    "start_time": "2022-08-14T13:21:12.594Z"
   },
   {
    "duration": 5,
    "start_time": "2022-08-14T13:21:12.600Z"
   },
   {
    "duration": 5,
    "start_time": "2022-08-14T13:21:12.607Z"
   },
   {
    "duration": 10,
    "start_time": "2022-08-14T13:21:12.614Z"
   },
   {
    "duration": 10,
    "start_time": "2022-08-14T13:21:12.626Z"
   },
   {
    "duration": 4,
    "start_time": "2022-08-14T13:21:12.638Z"
   },
   {
    "duration": 6,
    "start_time": "2022-08-14T13:21:12.644Z"
   },
   {
    "duration": 37,
    "start_time": "2022-08-14T13:21:12.651Z"
   },
   {
    "duration": 7,
    "start_time": "2022-08-14T13:21:12.689Z"
   },
   {
    "duration": 4,
    "start_time": "2022-08-14T13:21:12.698Z"
   },
   {
    "duration": 9,
    "start_time": "2022-08-14T13:21:12.704Z"
   },
   {
    "duration": 7,
    "start_time": "2022-08-14T13:21:12.714Z"
   },
   {
    "duration": 7,
    "start_time": "2022-08-14T13:21:12.723Z"
   },
   {
    "duration": 5,
    "start_time": "2022-08-14T13:21:12.732Z"
   },
   {
    "duration": 12,
    "start_time": "2022-08-14T13:21:12.739Z"
   },
   {
    "duration": 9,
    "start_time": "2022-08-14T13:21:12.754Z"
   },
   {
    "duration": 56,
    "start_time": "2022-08-14T13:21:12.765Z"
   },
   {
    "duration": 65,
    "start_time": "2022-08-14T13:21:12.823Z"
   },
   {
    "duration": 0,
    "start_time": "2022-08-14T13:21:12.890Z"
   },
   {
    "duration": 0,
    "start_time": "2022-08-14T13:21:12.891Z"
   },
   {
    "duration": 0,
    "start_time": "2022-08-14T13:21:12.892Z"
   },
   {
    "duration": 0,
    "start_time": "2022-08-14T13:21:12.893Z"
   },
   {
    "duration": 0,
    "start_time": "2022-08-14T13:21:12.894Z"
   },
   {
    "duration": 0,
    "start_time": "2022-08-14T13:21:12.895Z"
   },
   {
    "duration": 0,
    "start_time": "2022-08-14T13:21:12.896Z"
   },
   {
    "duration": 0,
    "start_time": "2022-08-14T13:21:12.897Z"
   },
   {
    "duration": 13,
    "start_time": "2022-08-14T13:22:24.484Z"
   },
   {
    "duration": 16,
    "start_time": "2022-08-14T13:22:27.386Z"
   },
   {
    "duration": 11,
    "start_time": "2022-08-14T13:22:31.644Z"
   },
   {
    "duration": 447,
    "start_time": "2022-08-14T13:22:40.265Z"
   },
   {
    "duration": 182,
    "start_time": "2022-08-14T13:22:40.714Z"
   },
   {
    "duration": 19,
    "start_time": "2022-08-14T13:22:40.898Z"
   },
   {
    "duration": 48,
    "start_time": "2022-08-14T13:22:40.919Z"
   },
   {
    "duration": 22,
    "start_time": "2022-08-14T13:22:40.969Z"
   },
   {
    "duration": 21,
    "start_time": "2022-08-14T13:22:40.993Z"
   },
   {
    "duration": 25,
    "start_time": "2022-08-14T13:22:41.016Z"
   },
   {
    "duration": 8,
    "start_time": "2022-08-14T13:22:41.043Z"
   },
   {
    "duration": 35,
    "start_time": "2022-08-14T13:22:41.052Z"
   },
   {
    "duration": 7,
    "start_time": "2022-08-14T13:22:41.091Z"
   },
   {
    "duration": 5,
    "start_time": "2022-08-14T13:22:41.099Z"
   },
   {
    "duration": 15,
    "start_time": "2022-08-14T13:22:41.106Z"
   },
   {
    "duration": 14,
    "start_time": "2022-08-14T13:22:41.123Z"
   },
   {
    "duration": 10,
    "start_time": "2022-08-14T13:22:41.138Z"
   },
   {
    "duration": 8,
    "start_time": "2022-08-14T13:22:41.150Z"
   },
   {
    "duration": 34,
    "start_time": "2022-08-14T13:22:41.162Z"
   },
   {
    "duration": 13,
    "start_time": "2022-08-14T13:22:41.198Z"
   },
   {
    "duration": 7,
    "start_time": "2022-08-14T13:22:41.212Z"
   },
   {
    "duration": 6,
    "start_time": "2022-08-14T13:22:41.220Z"
   },
   {
    "duration": 6,
    "start_time": "2022-08-14T13:22:41.228Z"
   },
   {
    "duration": 15,
    "start_time": "2022-08-14T13:22:41.235Z"
   },
   {
    "duration": 45,
    "start_time": "2022-08-14T13:22:41.252Z"
   },
   {
    "duration": 5,
    "start_time": "2022-08-14T13:22:41.298Z"
   },
   {
    "duration": 4,
    "start_time": "2022-08-14T13:22:41.305Z"
   },
   {
    "duration": 7,
    "start_time": "2022-08-14T13:22:41.310Z"
   },
   {
    "duration": 4,
    "start_time": "2022-08-14T13:22:41.318Z"
   },
   {
    "duration": 5,
    "start_time": "2022-08-14T13:22:41.324Z"
   },
   {
    "duration": 12,
    "start_time": "2022-08-14T13:22:41.332Z"
   },
   {
    "duration": 40,
    "start_time": "2022-08-14T13:22:41.345Z"
   },
   {
    "duration": 47,
    "start_time": "2022-08-14T13:22:41.389Z"
   },
   {
    "duration": 0,
    "start_time": "2022-08-14T13:22:41.438Z"
   },
   {
    "duration": 0,
    "start_time": "2022-08-14T13:22:41.439Z"
   },
   {
    "duration": 0,
    "start_time": "2022-08-14T13:22:41.440Z"
   },
   {
    "duration": 0,
    "start_time": "2022-08-14T13:22:41.441Z"
   },
   {
    "duration": 0,
    "start_time": "2022-08-14T13:22:41.442Z"
   },
   {
    "duration": 0,
    "start_time": "2022-08-14T13:22:41.443Z"
   },
   {
    "duration": 0,
    "start_time": "2022-08-14T13:22:41.445Z"
   },
   {
    "duration": 0,
    "start_time": "2022-08-14T13:22:41.446Z"
   },
   {
    "duration": 10,
    "start_time": "2022-08-14T13:24:42.288Z"
   },
   {
    "duration": 12,
    "start_time": "2022-08-14T13:24:45.122Z"
   },
   {
    "duration": 426,
    "start_time": "2022-08-14T13:26:36.067Z"
   },
   {
    "duration": 194,
    "start_time": "2022-08-14T13:26:36.495Z"
   },
   {
    "duration": 19,
    "start_time": "2022-08-14T13:26:36.693Z"
   },
   {
    "duration": 33,
    "start_time": "2022-08-14T13:26:36.714Z"
   },
   {
    "duration": 6,
    "start_time": "2022-08-14T13:26:36.759Z"
   },
   {
    "duration": 32,
    "start_time": "2022-08-14T13:26:36.767Z"
   },
   {
    "duration": 23,
    "start_time": "2022-08-14T13:26:36.801Z"
   },
   {
    "duration": 78,
    "start_time": "2022-08-14T13:26:36.826Z"
   },
   {
    "duration": 0,
    "start_time": "2022-08-14T13:26:36.907Z"
   },
   {
    "duration": 0,
    "start_time": "2022-08-14T13:26:36.908Z"
   },
   {
    "duration": 0,
    "start_time": "2022-08-14T13:26:36.910Z"
   },
   {
    "duration": 0,
    "start_time": "2022-08-14T13:26:36.911Z"
   },
   {
    "duration": 0,
    "start_time": "2022-08-14T13:26:36.913Z"
   },
   {
    "duration": 0,
    "start_time": "2022-08-14T13:26:36.914Z"
   },
   {
    "duration": 0,
    "start_time": "2022-08-14T13:26:36.915Z"
   },
   {
    "duration": 0,
    "start_time": "2022-08-14T13:26:36.916Z"
   },
   {
    "duration": 0,
    "start_time": "2022-08-14T13:26:36.917Z"
   },
   {
    "duration": 0,
    "start_time": "2022-08-14T13:26:36.918Z"
   },
   {
    "duration": 0,
    "start_time": "2022-08-14T13:26:36.920Z"
   },
   {
    "duration": 0,
    "start_time": "2022-08-14T13:26:36.921Z"
   },
   {
    "duration": 0,
    "start_time": "2022-08-14T13:26:36.922Z"
   },
   {
    "duration": 0,
    "start_time": "2022-08-14T13:26:36.924Z"
   },
   {
    "duration": 0,
    "start_time": "2022-08-14T13:26:36.925Z"
   },
   {
    "duration": 0,
    "start_time": "2022-08-14T13:26:36.927Z"
   },
   {
    "duration": 0,
    "start_time": "2022-08-14T13:26:36.928Z"
   },
   {
    "duration": 0,
    "start_time": "2022-08-14T13:26:36.963Z"
   },
   {
    "duration": 0,
    "start_time": "2022-08-14T13:26:36.964Z"
   },
   {
    "duration": 0,
    "start_time": "2022-08-14T13:26:36.965Z"
   },
   {
    "duration": 0,
    "start_time": "2022-08-14T13:26:36.966Z"
   },
   {
    "duration": 0,
    "start_time": "2022-08-14T13:26:36.967Z"
   },
   {
    "duration": 0,
    "start_time": "2022-08-14T13:26:36.968Z"
   },
   {
    "duration": 0,
    "start_time": "2022-08-14T13:26:36.969Z"
   },
   {
    "duration": 0,
    "start_time": "2022-08-14T13:26:36.974Z"
   },
   {
    "duration": 0,
    "start_time": "2022-08-14T13:26:36.975Z"
   },
   {
    "duration": 0,
    "start_time": "2022-08-14T13:26:36.976Z"
   },
   {
    "duration": 0,
    "start_time": "2022-08-14T13:26:36.977Z"
   },
   {
    "duration": 0,
    "start_time": "2022-08-14T13:26:36.980Z"
   },
   {
    "duration": 0,
    "start_time": "2022-08-14T13:26:36.981Z"
   },
   {
    "duration": 12,
    "start_time": "2022-08-14T13:26:58.997Z"
   },
   {
    "duration": 445,
    "start_time": "2022-08-14T13:27:11.949Z"
   },
   {
    "duration": 204,
    "start_time": "2022-08-14T13:27:12.397Z"
   },
   {
    "duration": 18,
    "start_time": "2022-08-14T13:27:12.603Z"
   },
   {
    "duration": 41,
    "start_time": "2022-08-14T13:27:12.623Z"
   },
   {
    "duration": 3,
    "start_time": "2022-08-14T13:27:12.666Z"
   },
   {
    "duration": 26,
    "start_time": "2022-08-14T13:27:12.672Z"
   },
   {
    "duration": 18,
    "start_time": "2022-08-14T13:27:12.700Z"
   },
   {
    "duration": 87,
    "start_time": "2022-08-14T13:27:12.720Z"
   },
   {
    "duration": 0,
    "start_time": "2022-08-14T13:27:12.810Z"
   },
   {
    "duration": 0,
    "start_time": "2022-08-14T13:27:12.812Z"
   },
   {
    "duration": 0,
    "start_time": "2022-08-14T13:27:12.813Z"
   },
   {
    "duration": 0,
    "start_time": "2022-08-14T13:27:12.816Z"
   },
   {
    "duration": 0,
    "start_time": "2022-08-14T13:27:12.818Z"
   },
   {
    "duration": 1,
    "start_time": "2022-08-14T13:27:12.819Z"
   },
   {
    "duration": 0,
    "start_time": "2022-08-14T13:27:12.821Z"
   },
   {
    "duration": 0,
    "start_time": "2022-08-14T13:27:12.822Z"
   },
   {
    "duration": 0,
    "start_time": "2022-08-14T13:27:12.824Z"
   },
   {
    "duration": 0,
    "start_time": "2022-08-14T13:27:12.826Z"
   },
   {
    "duration": 0,
    "start_time": "2022-08-14T13:27:12.827Z"
   },
   {
    "duration": 0,
    "start_time": "2022-08-14T13:27:12.828Z"
   },
   {
    "duration": 0,
    "start_time": "2022-08-14T13:27:12.830Z"
   },
   {
    "duration": 0,
    "start_time": "2022-08-14T13:27:12.858Z"
   },
   {
    "duration": 0,
    "start_time": "2022-08-14T13:27:12.859Z"
   },
   {
    "duration": 0,
    "start_time": "2022-08-14T13:27:12.860Z"
   },
   {
    "duration": 0,
    "start_time": "2022-08-14T13:27:12.861Z"
   },
   {
    "duration": 0,
    "start_time": "2022-08-14T13:27:12.862Z"
   },
   {
    "duration": 0,
    "start_time": "2022-08-14T13:27:12.862Z"
   },
   {
    "duration": 0,
    "start_time": "2022-08-14T13:27:12.863Z"
   },
   {
    "duration": 0,
    "start_time": "2022-08-14T13:27:12.866Z"
   },
   {
    "duration": 0,
    "start_time": "2022-08-14T13:27:12.869Z"
   },
   {
    "duration": 0,
    "start_time": "2022-08-14T13:27:12.870Z"
   },
   {
    "duration": 0,
    "start_time": "2022-08-14T13:27:12.871Z"
   },
   {
    "duration": 0,
    "start_time": "2022-08-14T13:27:12.873Z"
   },
   {
    "duration": 0,
    "start_time": "2022-08-14T13:27:12.874Z"
   },
   {
    "duration": 0,
    "start_time": "2022-08-14T13:27:12.875Z"
   },
   {
    "duration": 0,
    "start_time": "2022-08-14T13:27:12.875Z"
   },
   {
    "duration": 0,
    "start_time": "2022-08-14T13:27:12.876Z"
   },
   {
    "duration": 0,
    "start_time": "2022-08-14T13:27:12.877Z"
   },
   {
    "duration": 433,
    "start_time": "2022-08-14T13:32:32.904Z"
   },
   {
    "duration": 189,
    "start_time": "2022-08-14T13:32:33.339Z"
   },
   {
    "duration": 10,
    "start_time": "2022-08-14T13:32:33.530Z"
   },
   {
    "duration": 56,
    "start_time": "2022-08-14T13:32:33.542Z"
   },
   {
    "duration": 5,
    "start_time": "2022-08-14T13:32:33.601Z"
   },
   {
    "duration": 8,
    "start_time": "2022-08-14T13:32:33.608Z"
   },
   {
    "duration": 17,
    "start_time": "2022-08-14T13:32:33.617Z"
   },
   {
    "duration": 7,
    "start_time": "2022-08-14T13:32:33.635Z"
   },
   {
    "duration": 8,
    "start_time": "2022-08-14T13:32:33.643Z"
   },
   {
    "duration": 12,
    "start_time": "2022-08-14T13:32:33.660Z"
   },
   {
    "duration": 26,
    "start_time": "2022-08-14T13:32:33.681Z"
   },
   {
    "duration": 11,
    "start_time": "2022-08-14T13:32:33.709Z"
   },
   {
    "duration": 6,
    "start_time": "2022-08-14T13:32:33.721Z"
   },
   {
    "duration": 8,
    "start_time": "2022-08-14T13:32:33.728Z"
   },
   {
    "duration": 7,
    "start_time": "2022-08-14T13:32:33.737Z"
   },
   {
    "duration": 8,
    "start_time": "2022-08-14T13:32:33.745Z"
   },
   {
    "duration": 35,
    "start_time": "2022-08-14T13:32:33.755Z"
   },
   {
    "duration": 11,
    "start_time": "2022-08-14T13:32:33.792Z"
   },
   {
    "duration": 10,
    "start_time": "2022-08-14T13:32:33.805Z"
   },
   {
    "duration": 10,
    "start_time": "2022-08-14T13:32:33.817Z"
   },
   {
    "duration": 6,
    "start_time": "2022-08-14T13:32:33.828Z"
   },
   {
    "duration": 9,
    "start_time": "2022-08-14T13:32:33.835Z"
   },
   {
    "duration": 7,
    "start_time": "2022-08-14T13:32:33.845Z"
   },
   {
    "duration": 44,
    "start_time": "2022-08-14T13:32:33.854Z"
   },
   {
    "duration": 9,
    "start_time": "2022-08-14T13:32:33.900Z"
   },
   {
    "duration": 7,
    "start_time": "2022-08-14T13:32:33.911Z"
   },
   {
    "duration": 7,
    "start_time": "2022-08-14T13:32:33.920Z"
   },
   {
    "duration": 5,
    "start_time": "2022-08-14T13:32:33.930Z"
   },
   {
    "duration": 9,
    "start_time": "2022-08-14T13:32:33.936Z"
   },
   {
    "duration": 263,
    "start_time": "2022-08-14T13:32:33.947Z"
   },
   {
    "duration": 0,
    "start_time": "2022-08-14T13:32:34.211Z"
   },
   {
    "duration": 0,
    "start_time": "2022-08-14T13:32:34.212Z"
   },
   {
    "duration": 0,
    "start_time": "2022-08-14T13:32:34.213Z"
   },
   {
    "duration": 0,
    "start_time": "2022-08-14T13:32:34.215Z"
   },
   {
    "duration": 0,
    "start_time": "2022-08-14T13:32:34.216Z"
   },
   {
    "duration": 0,
    "start_time": "2022-08-14T13:32:34.218Z"
   },
   {
    "duration": 0,
    "start_time": "2022-08-14T13:32:34.219Z"
   },
   {
    "duration": 0,
    "start_time": "2022-08-14T13:32:34.221Z"
   },
   {
    "duration": 28,
    "start_time": "2022-08-14T13:37:29.438Z"
   },
   {
    "duration": 18,
    "start_time": "2022-08-14T13:51:52.989Z"
   },
   {
    "duration": 17,
    "start_time": "2022-08-14T13:51:56.327Z"
   },
   {
    "duration": 25,
    "start_time": "2022-08-14T13:51:59.426Z"
   },
   {
    "duration": 72,
    "start_time": "2022-08-14T13:52:07.645Z"
   },
   {
    "duration": 10,
    "start_time": "2022-08-14T13:53:43.582Z"
   },
   {
    "duration": 92,
    "start_time": "2022-08-14T13:55:15.242Z"
   },
   {
    "duration": 79,
    "start_time": "2022-08-14T13:56:19.919Z"
   },
   {
    "duration": 66,
    "start_time": "2022-08-14T13:57:03.906Z"
   },
   {
    "duration": 80,
    "start_time": "2022-08-14T13:57:34.479Z"
   },
   {
    "duration": 72,
    "start_time": "2022-08-14T13:57:41.039Z"
   },
   {
    "duration": 65,
    "start_time": "2022-08-14T13:57:48.249Z"
   },
   {
    "duration": 64,
    "start_time": "2022-08-14T13:57:57.772Z"
   },
   {
    "duration": 67,
    "start_time": "2022-08-14T13:58:02.306Z"
   },
   {
    "duration": 57,
    "start_time": "2022-08-14T13:58:09.502Z"
   },
   {
    "duration": 63,
    "start_time": "2022-08-14T13:58:15.681Z"
   },
   {
    "duration": 64,
    "start_time": "2022-08-14T13:58:18.300Z"
   },
   {
    "duration": 59,
    "start_time": "2022-08-14T13:58:24.991Z"
   },
   {
    "duration": 430,
    "start_time": "2022-08-14T13:58:40.314Z"
   },
   {
    "duration": 184,
    "start_time": "2022-08-14T13:58:40.746Z"
   },
   {
    "duration": 10,
    "start_time": "2022-08-14T13:58:40.931Z"
   },
   {
    "duration": 44,
    "start_time": "2022-08-14T13:58:40.943Z"
   },
   {
    "duration": 2,
    "start_time": "2022-08-14T13:58:40.989Z"
   },
   {
    "duration": 6,
    "start_time": "2022-08-14T13:58:40.993Z"
   },
   {
    "duration": 15,
    "start_time": "2022-08-14T13:58:41.001Z"
   },
   {
    "duration": 7,
    "start_time": "2022-08-14T13:58:41.018Z"
   },
   {
    "duration": 63,
    "start_time": "2022-08-14T13:58:41.026Z"
   },
   {
    "duration": 17,
    "start_time": "2022-08-14T13:58:41.093Z"
   },
   {
    "duration": 23,
    "start_time": "2022-08-14T13:58:41.112Z"
   },
   {
    "duration": 86,
    "start_time": "2022-08-14T13:58:41.158Z"
   },
   {
    "duration": 86,
    "start_time": "2022-08-14T13:58:41.246Z"
   },
   {
    "duration": 66,
    "start_time": "2022-08-14T13:58:41.334Z"
   },
   {
    "duration": 3,
    "start_time": "2022-08-14T13:58:41.402Z"
   },
   {
    "duration": 14,
    "start_time": "2022-08-14T13:58:41.407Z"
   },
   {
    "duration": 7,
    "start_time": "2022-08-14T13:58:41.423Z"
   },
   {
    "duration": 5,
    "start_time": "2022-08-14T13:58:41.431Z"
   },
   {
    "duration": 5,
    "start_time": "2022-08-14T13:58:41.438Z"
   },
   {
    "duration": 8,
    "start_time": "2022-08-14T13:58:41.445Z"
   },
   {
    "duration": 27,
    "start_time": "2022-08-14T13:58:41.456Z"
   },
   {
    "duration": 10,
    "start_time": "2022-08-14T13:58:41.484Z"
   },
   {
    "duration": 15,
    "start_time": "2022-08-14T13:58:41.497Z"
   },
   {
    "duration": 10,
    "start_time": "2022-08-14T13:58:41.514Z"
   },
   {
    "duration": 20,
    "start_time": "2022-08-14T13:58:41.526Z"
   },
   {
    "duration": 11,
    "start_time": "2022-08-14T13:58:41.547Z"
   },
   {
    "duration": 25,
    "start_time": "2022-08-14T13:58:41.565Z"
   },
   {
    "duration": 16,
    "start_time": "2022-08-14T13:58:41.593Z"
   },
   {
    "duration": 18,
    "start_time": "2022-08-14T13:58:41.611Z"
   },
   {
    "duration": 105,
    "start_time": "2022-08-14T13:58:41.632Z"
   },
   {
    "duration": 0,
    "start_time": "2022-08-14T13:58:41.739Z"
   },
   {
    "duration": 0,
    "start_time": "2022-08-14T13:58:41.740Z"
   },
   {
    "duration": 0,
    "start_time": "2022-08-14T13:58:41.742Z"
   },
   {
    "duration": 0,
    "start_time": "2022-08-14T13:58:41.743Z"
   },
   {
    "duration": 0,
    "start_time": "2022-08-14T13:58:41.745Z"
   },
   {
    "duration": 0,
    "start_time": "2022-08-14T13:58:41.746Z"
   },
   {
    "duration": 0,
    "start_time": "2022-08-14T13:58:41.747Z"
   },
   {
    "duration": 0,
    "start_time": "2022-08-14T13:58:41.749Z"
   },
   {
    "duration": 12,
    "start_time": "2022-08-14T13:59:08.870Z"
   },
   {
    "duration": 411,
    "start_time": "2022-08-14T13:59:25.121Z"
   },
   {
    "duration": 183,
    "start_time": "2022-08-14T13:59:25.534Z"
   },
   {
    "duration": 7,
    "start_time": "2022-08-14T13:59:25.719Z"
   },
   {
    "duration": 43,
    "start_time": "2022-08-14T13:59:25.728Z"
   },
   {
    "duration": 10,
    "start_time": "2022-08-14T13:59:25.774Z"
   },
   {
    "duration": 7,
    "start_time": "2022-08-14T13:59:25.786Z"
   },
   {
    "duration": 17,
    "start_time": "2022-08-14T13:59:25.794Z"
   },
   {
    "duration": 5,
    "start_time": "2022-08-14T13:59:25.812Z"
   },
   {
    "duration": 29,
    "start_time": "2022-08-14T13:59:25.818Z"
   },
   {
    "duration": 32,
    "start_time": "2022-08-14T13:59:25.850Z"
   },
   {
    "duration": 23,
    "start_time": "2022-08-14T13:59:25.884Z"
   },
   {
    "duration": 79,
    "start_time": "2022-08-14T13:59:25.909Z"
   },
   {
    "duration": 81,
    "start_time": "2022-08-14T13:59:25.989Z"
   },
   {
    "duration": 59,
    "start_time": "2022-08-14T13:59:26.072Z"
   },
   {
    "duration": 2,
    "start_time": "2022-08-14T13:59:26.133Z"
   },
   {
    "duration": 4,
    "start_time": "2022-08-14T13:59:26.137Z"
   },
   {
    "duration": 2,
    "start_time": "2022-08-14T13:59:26.169Z"
   },
   {
    "duration": 7,
    "start_time": "2022-08-14T13:59:26.173Z"
   },
   {
    "duration": 4,
    "start_time": "2022-08-14T13:59:26.181Z"
   },
   {
    "duration": 4,
    "start_time": "2022-08-14T13:59:26.187Z"
   },
   {
    "duration": 13,
    "start_time": "2022-08-14T13:59:26.192Z"
   },
   {
    "duration": 5,
    "start_time": "2022-08-14T13:59:26.207Z"
   },
   {
    "duration": 4,
    "start_time": "2022-08-14T13:59:26.214Z"
   },
   {
    "duration": 5,
    "start_time": "2022-08-14T13:59:26.219Z"
   },
   {
    "duration": 9,
    "start_time": "2022-08-14T13:59:26.225Z"
   },
   {
    "duration": 6,
    "start_time": "2022-08-14T13:59:26.235Z"
   },
   {
    "duration": 4,
    "start_time": "2022-08-14T13:59:26.242Z"
   },
   {
    "duration": 5,
    "start_time": "2022-08-14T13:59:26.249Z"
   },
   {
    "duration": 20,
    "start_time": "2022-08-14T13:59:26.255Z"
   },
   {
    "duration": 51,
    "start_time": "2022-08-14T13:59:26.277Z"
   },
   {
    "duration": 0,
    "start_time": "2022-08-14T13:59:26.330Z"
   },
   {
    "duration": 0,
    "start_time": "2022-08-14T13:59:26.331Z"
   },
   {
    "duration": 0,
    "start_time": "2022-08-14T13:59:26.333Z"
   },
   {
    "duration": 0,
    "start_time": "2022-08-14T13:59:26.334Z"
   },
   {
    "duration": 0,
    "start_time": "2022-08-14T13:59:26.335Z"
   },
   {
    "duration": 0,
    "start_time": "2022-08-14T13:59:26.337Z"
   },
   {
    "duration": 0,
    "start_time": "2022-08-14T13:59:26.338Z"
   },
   {
    "duration": 0,
    "start_time": "2022-08-14T13:59:26.340Z"
   },
   {
    "duration": 11,
    "start_time": "2022-08-14T13:59:48.487Z"
   },
   {
    "duration": 64,
    "start_time": "2022-08-14T14:00:20.389Z"
   },
   {
    "duration": 61,
    "start_time": "2022-08-14T14:05:18.985Z"
   },
   {
    "duration": 13,
    "start_time": "2022-08-14T14:05:45.661Z"
   },
   {
    "duration": 8,
    "start_time": "2022-08-14T14:08:58.598Z"
   },
   {
    "duration": 8,
    "start_time": "2022-08-14T14:13:38.130Z"
   },
   {
    "duration": 427,
    "start_time": "2022-08-14T14:13:56.254Z"
   },
   {
    "duration": 162,
    "start_time": "2022-08-14T14:13:56.683Z"
   },
   {
    "duration": 22,
    "start_time": "2022-08-14T14:13:56.847Z"
   },
   {
    "duration": 33,
    "start_time": "2022-08-14T14:13:56.872Z"
   },
   {
    "duration": 2,
    "start_time": "2022-08-14T14:13:56.907Z"
   },
   {
    "duration": 9,
    "start_time": "2022-08-14T14:13:56.910Z"
   },
   {
    "duration": 17,
    "start_time": "2022-08-14T14:13:56.921Z"
   },
   {
    "duration": 9,
    "start_time": "2022-08-14T14:13:56.939Z"
   },
   {
    "duration": 26,
    "start_time": "2022-08-14T14:13:56.957Z"
   },
   {
    "duration": 17,
    "start_time": "2022-08-14T14:13:56.985Z"
   },
   {
    "duration": 21,
    "start_time": "2022-08-14T14:13:57.003Z"
   },
   {
    "duration": 82,
    "start_time": "2022-08-14T14:13:57.025Z"
   },
   {
    "duration": 76,
    "start_time": "2022-08-14T14:13:57.108Z"
   },
   {
    "duration": 59,
    "start_time": "2022-08-14T14:13:57.186Z"
   },
   {
    "duration": 73,
    "start_time": "2022-08-14T14:13:57.247Z"
   },
   {
    "duration": 0,
    "start_time": "2022-08-14T14:13:57.322Z"
   },
   {
    "duration": 0,
    "start_time": "2022-08-14T14:13:57.323Z"
   },
   {
    "duration": 0,
    "start_time": "2022-08-14T14:13:57.324Z"
   },
   {
    "duration": 0,
    "start_time": "2022-08-14T14:13:57.325Z"
   },
   {
    "duration": 0,
    "start_time": "2022-08-14T14:13:57.326Z"
   },
   {
    "duration": 0,
    "start_time": "2022-08-14T14:13:57.327Z"
   },
   {
    "duration": 0,
    "start_time": "2022-08-14T14:13:57.328Z"
   },
   {
    "duration": 0,
    "start_time": "2022-08-14T14:13:57.330Z"
   },
   {
    "duration": 0,
    "start_time": "2022-08-14T14:13:57.331Z"
   },
   {
    "duration": 0,
    "start_time": "2022-08-14T14:13:57.332Z"
   },
   {
    "duration": 0,
    "start_time": "2022-08-14T14:13:57.333Z"
   },
   {
    "duration": 0,
    "start_time": "2022-08-14T14:13:57.334Z"
   },
   {
    "duration": 0,
    "start_time": "2022-08-14T14:13:57.359Z"
   },
   {
    "duration": 0,
    "start_time": "2022-08-14T14:13:57.360Z"
   },
   {
    "duration": 0,
    "start_time": "2022-08-14T14:13:57.361Z"
   },
   {
    "duration": 0,
    "start_time": "2022-08-14T14:13:57.362Z"
   },
   {
    "duration": 0,
    "start_time": "2022-08-14T14:13:57.363Z"
   },
   {
    "duration": 0,
    "start_time": "2022-08-14T14:13:57.364Z"
   },
   {
    "duration": 0,
    "start_time": "2022-08-14T14:13:57.364Z"
   },
   {
    "duration": 0,
    "start_time": "2022-08-14T14:13:57.365Z"
   },
   {
    "duration": 0,
    "start_time": "2022-08-14T14:13:57.366Z"
   },
   {
    "duration": 0,
    "start_time": "2022-08-14T14:13:57.366Z"
   },
   {
    "duration": 0,
    "start_time": "2022-08-14T14:13:57.367Z"
   },
   {
    "duration": 8,
    "start_time": "2022-08-14T14:14:28.580Z"
   },
   {
    "duration": 46,
    "start_time": "2022-08-14T14:29:24.483Z"
   },
   {
    "duration": 7,
    "start_time": "2022-08-14T14:29:41.914Z"
   },
   {
    "duration": 5,
    "start_time": "2022-08-14T14:33:33.548Z"
   },
   {
    "duration": 38,
    "start_time": "2022-08-14T14:34:21.955Z"
   },
   {
    "duration": 57,
    "start_time": "2022-08-14T14:35:04.346Z"
   },
   {
    "duration": 8,
    "start_time": "2022-08-14T14:35:30.669Z"
   },
   {
    "duration": 9,
    "start_time": "2022-08-14T14:36:25.415Z"
   },
   {
    "duration": 7,
    "start_time": "2022-08-14T14:36:45.007Z"
   },
   {
    "duration": 9,
    "start_time": "2022-08-14T14:37:12.557Z"
   },
   {
    "duration": 9,
    "start_time": "2022-08-14T14:37:21.876Z"
   },
   {
    "duration": 48,
    "start_time": "2022-08-14T14:40:49.947Z"
   },
   {
    "duration": 4,
    "start_time": "2022-08-14T14:41:14.063Z"
   },
   {
    "duration": 586,
    "start_time": "2022-08-14T14:42:28.435Z"
   },
   {
    "duration": 653,
    "start_time": "2022-08-14T14:43:26.841Z"
   },
   {
    "duration": 624,
    "start_time": "2022-08-14T14:43:58.054Z"
   },
   {
    "duration": 666,
    "start_time": "2022-08-14T14:44:09.424Z"
   },
   {
    "duration": 716,
    "start_time": "2022-08-14T14:44:27.158Z"
   },
   {
    "duration": 581,
    "start_time": "2022-08-14T14:44:40.143Z"
   },
   {
    "duration": 395,
    "start_time": "2022-08-14T14:44:49.218Z"
   },
   {
    "duration": 159,
    "start_time": "2022-08-14T14:44:49.615Z"
   },
   {
    "duration": 9,
    "start_time": "2022-08-14T14:44:49.776Z"
   },
   {
    "duration": 29,
    "start_time": "2022-08-14T14:44:49.787Z"
   },
   {
    "duration": 3,
    "start_time": "2022-08-14T14:44:49.817Z"
   },
   {
    "duration": 10,
    "start_time": "2022-08-14T14:44:49.822Z"
   },
   {
    "duration": 30,
    "start_time": "2022-08-14T14:44:49.834Z"
   },
   {
    "duration": 14,
    "start_time": "2022-08-14T14:44:49.866Z"
   },
   {
    "duration": 33,
    "start_time": "2022-08-14T14:44:49.882Z"
   },
   {
    "duration": 24,
    "start_time": "2022-08-14T14:44:49.917Z"
   },
   {
    "duration": 21,
    "start_time": "2022-08-14T14:44:49.943Z"
   },
   {
    "duration": 67,
    "start_time": "2022-08-14T14:44:49.966Z"
   },
   {
    "duration": 78,
    "start_time": "2022-08-14T14:44:50.035Z"
   },
   {
    "duration": 72,
    "start_time": "2022-08-14T14:44:50.115Z"
   },
   {
    "duration": 2,
    "start_time": "2022-08-14T14:44:50.189Z"
   },
   {
    "duration": 9,
    "start_time": "2022-08-14T14:44:50.193Z"
   },
   {
    "duration": 9,
    "start_time": "2022-08-14T14:44:50.204Z"
   },
   {
    "duration": 7,
    "start_time": "2022-08-14T14:44:50.215Z"
   },
   {
    "duration": 22,
    "start_time": "2022-08-14T14:44:50.223Z"
   },
   {
    "duration": 21,
    "start_time": "2022-08-14T14:44:50.246Z"
   },
   {
    "duration": 24,
    "start_time": "2022-08-14T14:44:50.269Z"
   },
   {
    "duration": 10,
    "start_time": "2022-08-14T14:44:50.294Z"
   },
   {
    "duration": 7,
    "start_time": "2022-08-14T14:44:50.305Z"
   },
   {
    "duration": 7,
    "start_time": "2022-08-14T14:44:50.313Z"
   },
   {
    "duration": 6,
    "start_time": "2022-08-14T14:44:50.322Z"
   },
   {
    "duration": 6,
    "start_time": "2022-08-14T14:44:50.329Z"
   },
   {
    "duration": 28,
    "start_time": "2022-08-14T14:44:50.337Z"
   },
   {
    "duration": 16,
    "start_time": "2022-08-14T14:44:50.368Z"
   },
   {
    "duration": 29,
    "start_time": "2022-08-14T14:44:50.386Z"
   },
   {
    "duration": 65,
    "start_time": "2022-08-14T14:44:50.417Z"
   },
   {
    "duration": 0,
    "start_time": "2022-08-14T14:44:50.484Z"
   },
   {
    "duration": 0,
    "start_time": "2022-08-14T14:44:50.485Z"
   },
   {
    "duration": 0,
    "start_time": "2022-08-14T14:44:50.486Z"
   },
   {
    "duration": 0,
    "start_time": "2022-08-14T14:44:50.487Z"
   },
   {
    "duration": 0,
    "start_time": "2022-08-14T14:44:50.488Z"
   },
   {
    "duration": 0,
    "start_time": "2022-08-14T14:44:50.490Z"
   },
   {
    "duration": 0,
    "start_time": "2022-08-14T14:44:50.491Z"
   },
   {
    "duration": 0,
    "start_time": "2022-08-14T14:44:50.492Z"
   },
   {
    "duration": 735,
    "start_time": "2022-08-14T14:45:10.637Z"
   },
   {
    "duration": 591,
    "start_time": "2022-08-14T14:45:49.470Z"
   },
   {
    "duration": 1083,
    "start_time": "2022-08-14T14:47:10.454Z"
   },
   {
    "duration": 1001,
    "start_time": "2022-08-14T14:47:54.625Z"
   },
   {
    "duration": 59,
    "start_time": "2022-08-14T14:51:43.212Z"
   },
   {
    "duration": 1092,
    "start_time": "2022-08-14T14:52:02.938Z"
   },
   {
    "duration": 686,
    "start_time": "2022-08-14T14:52:33.106Z"
   },
   {
    "duration": 3310,
    "start_time": "2022-08-14T14:53:35.393Z"
   },
   {
    "duration": 580,
    "start_time": "2022-08-14T14:53:53.391Z"
   },
   {
    "duration": 688,
    "start_time": "2022-08-14T14:54:42.743Z"
   },
   {
    "duration": 689,
    "start_time": "2022-08-14T14:58:54.050Z"
   },
   {
    "duration": 700,
    "start_time": "2022-08-14T14:59:14.809Z"
   },
   {
    "duration": 7,
    "start_time": "2022-08-14T14:59:45.056Z"
   },
   {
    "duration": 1294,
    "start_time": "2022-08-14T14:59:58.293Z"
   },
   {
    "duration": 142,
    "start_time": "2022-08-14T15:00:49.551Z"
   },
   {
    "duration": 1826,
    "start_time": "2022-08-14T15:00:58.021Z"
   },
   {
    "duration": 76,
    "start_time": "2022-08-14T15:01:21.518Z"
   },
   {
    "duration": 99,
    "start_time": "2022-08-14T15:01:36.730Z"
   },
   {
    "duration": 98,
    "start_time": "2022-08-14T15:01:43.151Z"
   },
   {
    "duration": 390,
    "start_time": "2022-08-14T15:03:45.510Z"
   },
   {
    "duration": 178,
    "start_time": "2022-08-14T15:03:45.902Z"
   },
   {
    "duration": 8,
    "start_time": "2022-08-14T15:03:46.082Z"
   },
   {
    "duration": 41,
    "start_time": "2022-08-14T15:03:46.092Z"
   },
   {
    "duration": 4,
    "start_time": "2022-08-14T15:03:46.134Z"
   },
   {
    "duration": 17,
    "start_time": "2022-08-14T15:03:46.139Z"
   },
   {
    "duration": 30,
    "start_time": "2022-08-14T15:03:46.158Z"
   },
   {
    "duration": 24,
    "start_time": "2022-08-14T15:03:46.190Z"
   },
   {
    "duration": 48,
    "start_time": "2022-08-14T15:03:46.215Z"
   },
   {
    "duration": 25,
    "start_time": "2022-08-14T15:03:46.266Z"
   },
   {
    "duration": 33,
    "start_time": "2022-08-14T15:03:46.292Z"
   },
   {
    "duration": 81,
    "start_time": "2022-08-14T15:03:46.329Z"
   },
   {
    "duration": 81,
    "start_time": "2022-08-14T15:03:46.412Z"
   },
   {
    "duration": 78,
    "start_time": "2022-08-14T15:03:46.495Z"
   },
   {
    "duration": 53,
    "start_time": "2022-08-14T15:03:46.575Z"
   },
   {
    "duration": 0,
    "start_time": "2022-08-14T15:03:46.630Z"
   },
   {
    "duration": 0,
    "start_time": "2022-08-14T15:03:46.631Z"
   },
   {
    "duration": 0,
    "start_time": "2022-08-14T15:03:46.633Z"
   },
   {
    "duration": 0,
    "start_time": "2022-08-14T15:03:46.635Z"
   },
   {
    "duration": 0,
    "start_time": "2022-08-14T15:03:46.636Z"
   },
   {
    "duration": 0,
    "start_time": "2022-08-14T15:03:46.637Z"
   },
   {
    "duration": 0,
    "start_time": "2022-08-14T15:03:46.638Z"
   },
   {
    "duration": 0,
    "start_time": "2022-08-14T15:03:46.639Z"
   },
   {
    "duration": 0,
    "start_time": "2022-08-14T15:03:46.640Z"
   },
   {
    "duration": 0,
    "start_time": "2022-08-14T15:03:46.641Z"
   },
   {
    "duration": 0,
    "start_time": "2022-08-14T15:03:46.642Z"
   },
   {
    "duration": 0,
    "start_time": "2022-08-14T15:03:46.643Z"
   },
   {
    "duration": 0,
    "start_time": "2022-08-14T15:03:46.644Z"
   },
   {
    "duration": 0,
    "start_time": "2022-08-14T15:03:46.645Z"
   },
   {
    "duration": 0,
    "start_time": "2022-08-14T15:03:46.646Z"
   },
   {
    "duration": 0,
    "start_time": "2022-08-14T15:03:46.647Z"
   },
   {
    "duration": 0,
    "start_time": "2022-08-14T15:03:46.648Z"
   },
   {
    "duration": 0,
    "start_time": "2022-08-14T15:03:46.649Z"
   },
   {
    "duration": 0,
    "start_time": "2022-08-14T15:03:46.650Z"
   },
   {
    "duration": 0,
    "start_time": "2022-08-14T15:03:46.651Z"
   },
   {
    "duration": 0,
    "start_time": "2022-08-14T15:03:46.652Z"
   },
   {
    "duration": 0,
    "start_time": "2022-08-14T15:03:46.653Z"
   },
   {
    "duration": 0,
    "start_time": "2022-08-14T15:03:46.653Z"
   },
   {
    "duration": 56,
    "start_time": "2022-08-14T15:04:41.978Z"
   },
   {
    "duration": 65,
    "start_time": "2022-08-14T15:05:46.647Z"
   },
   {
    "duration": 87,
    "start_time": "2022-08-14T15:06:14.952Z"
   },
   {
    "duration": 22,
    "start_time": "2022-08-14T15:07:35.921Z"
   },
   {
    "duration": 430,
    "start_time": "2022-08-14T15:08:10.739Z"
   },
   {
    "duration": 161,
    "start_time": "2022-08-14T15:08:11.171Z"
   },
   {
    "duration": 8,
    "start_time": "2022-08-14T15:08:11.333Z"
   },
   {
    "duration": 56,
    "start_time": "2022-08-14T15:08:11.342Z"
   },
   {
    "duration": 6,
    "start_time": "2022-08-14T15:08:11.400Z"
   },
   {
    "duration": 22,
    "start_time": "2022-08-14T15:08:11.407Z"
   },
   {
    "duration": 22,
    "start_time": "2022-08-14T15:08:11.431Z"
   },
   {
    "duration": 21,
    "start_time": "2022-08-14T15:08:11.455Z"
   },
   {
    "duration": 38,
    "start_time": "2022-08-14T15:08:11.477Z"
   },
   {
    "duration": 26,
    "start_time": "2022-08-14T15:08:11.518Z"
   },
   {
    "duration": 48,
    "start_time": "2022-08-14T15:08:11.546Z"
   },
   {
    "duration": 76,
    "start_time": "2022-08-14T15:08:11.596Z"
   },
   {
    "duration": 61,
    "start_time": "2022-08-14T15:08:11.674Z"
   },
   {
    "duration": 58,
    "start_time": "2022-08-14T15:08:11.736Z"
   },
   {
    "duration": 82,
    "start_time": "2022-08-14T15:08:11.796Z"
   },
   {
    "duration": 0,
    "start_time": "2022-08-14T15:08:11.882Z"
   },
   {
    "duration": 0,
    "start_time": "2022-08-14T15:08:11.882Z"
   },
   {
    "duration": 0,
    "start_time": "2022-08-14T15:08:11.883Z"
   },
   {
    "duration": 0,
    "start_time": "2022-08-14T15:08:11.884Z"
   },
   {
    "duration": 0,
    "start_time": "2022-08-14T15:08:11.885Z"
   },
   {
    "duration": 0,
    "start_time": "2022-08-14T15:08:11.885Z"
   },
   {
    "duration": 0,
    "start_time": "2022-08-14T15:08:11.886Z"
   },
   {
    "duration": 0,
    "start_time": "2022-08-14T15:08:11.887Z"
   },
   {
    "duration": 0,
    "start_time": "2022-08-14T15:08:11.888Z"
   },
   {
    "duration": 0,
    "start_time": "2022-08-14T15:08:11.889Z"
   },
   {
    "duration": 0,
    "start_time": "2022-08-14T15:08:11.889Z"
   },
   {
    "duration": 0,
    "start_time": "2022-08-14T15:08:11.890Z"
   },
   {
    "duration": 0,
    "start_time": "2022-08-14T15:08:11.891Z"
   },
   {
    "duration": 0,
    "start_time": "2022-08-14T15:08:11.892Z"
   },
   {
    "duration": 0,
    "start_time": "2022-08-14T15:08:11.893Z"
   },
   {
    "duration": 0,
    "start_time": "2022-08-14T15:08:11.894Z"
   },
   {
    "duration": 0,
    "start_time": "2022-08-14T15:08:11.894Z"
   },
   {
    "duration": 0,
    "start_time": "2022-08-14T15:08:11.895Z"
   },
   {
    "duration": 0,
    "start_time": "2022-08-14T15:08:11.896Z"
   },
   {
    "duration": 0,
    "start_time": "2022-08-14T15:08:11.897Z"
   },
   {
    "duration": 0,
    "start_time": "2022-08-14T15:08:11.898Z"
   },
   {
    "duration": 0,
    "start_time": "2022-08-14T15:08:11.899Z"
   },
   {
    "duration": 0,
    "start_time": "2022-08-14T15:08:11.900Z"
   },
   {
    "duration": 7,
    "start_time": "2022-08-14T15:11:56.144Z"
   },
   {
    "duration": 34,
    "start_time": "2022-08-14T15:12:26.970Z"
   },
   {
    "duration": 4,
    "start_time": "2022-08-14T15:14:18.987Z"
   },
   {
    "duration": 33,
    "start_time": "2022-08-14T15:15:13.994Z"
   },
   {
    "duration": 33,
    "start_time": "2022-08-14T15:15:37.470Z"
   },
   {
    "duration": 11,
    "start_time": "2022-08-14T15:16:21.226Z"
   },
   {
    "duration": 37,
    "start_time": "2022-08-14T15:18:21.614Z"
   },
   {
    "duration": 955,
    "start_time": "2022-08-14T15:23:10.081Z"
   },
   {
    "duration": 981,
    "start_time": "2022-08-14T15:25:48.692Z"
   },
   {
    "duration": 66,
    "start_time": "2022-08-14T15:28:52.304Z"
   },
   {
    "duration": 10,
    "start_time": "2022-08-14T15:30:16.095Z"
   },
   {
    "duration": 68,
    "start_time": "2022-08-14T15:32:48.521Z"
   },
   {
    "duration": 10,
    "start_time": "2022-08-14T15:33:25.877Z"
   },
   {
    "duration": 103,
    "start_time": "2022-08-14T15:35:02.931Z"
   },
   {
    "duration": 49,
    "start_time": "2022-08-14T15:35:42.373Z"
   },
   {
    "duration": 92,
    "start_time": "2022-08-14T15:36:07.223Z"
   },
   {
    "duration": 10,
    "start_time": "2022-08-14T15:36:26.276Z"
   },
   {
    "duration": 87,
    "start_time": "2022-08-14T15:36:55.311Z"
   },
   {
    "duration": 9,
    "start_time": "2022-08-14T15:37:29.758Z"
   },
   {
    "duration": 62,
    "start_time": "2022-08-14T15:38:44.031Z"
   },
   {
    "duration": 9,
    "start_time": "2022-08-14T15:38:49.586Z"
   },
   {
    "duration": 12,
    "start_time": "2022-08-14T15:39:38.908Z"
   },
   {
    "duration": 35,
    "start_time": "2022-08-14T15:41:32.967Z"
   },
   {
    "duration": 10,
    "start_time": "2022-08-14T15:47:23.502Z"
   },
   {
    "duration": 10,
    "start_time": "2022-08-14T15:52:18.722Z"
   },
   {
    "duration": 10,
    "start_time": "2022-08-14T15:52:27.013Z"
   },
   {
    "duration": 13,
    "start_time": "2022-08-14T15:52:36.442Z"
   },
   {
    "duration": 18,
    "start_time": "2022-08-14T15:53:53.379Z"
   },
   {
    "duration": 411,
    "start_time": "2022-08-14T15:56:41.887Z"
   },
   {
    "duration": 179,
    "start_time": "2022-08-14T15:56:42.300Z"
   },
   {
    "duration": 9,
    "start_time": "2022-08-14T15:56:42.481Z"
   },
   {
    "duration": 31,
    "start_time": "2022-08-14T15:56:42.493Z"
   },
   {
    "duration": 35,
    "start_time": "2022-08-14T15:56:42.526Z"
   },
   {
    "duration": 6,
    "start_time": "2022-08-14T15:56:42.571Z"
   },
   {
    "duration": 15,
    "start_time": "2022-08-14T15:56:42.579Z"
   },
   {
    "duration": 5,
    "start_time": "2022-08-14T15:56:42.596Z"
   },
   {
    "duration": 54,
    "start_time": "2022-08-14T15:56:42.603Z"
   },
   {
    "duration": 18,
    "start_time": "2022-08-14T15:56:42.666Z"
   },
   {
    "duration": 26,
    "start_time": "2022-08-14T15:56:42.686Z"
   },
   {
    "duration": 75,
    "start_time": "2022-08-14T15:56:42.714Z"
   },
   {
    "duration": 86,
    "start_time": "2022-08-14T15:56:42.791Z"
   },
   {
    "duration": 58,
    "start_time": "2022-08-14T15:56:42.879Z"
   },
   {
    "duration": 51,
    "start_time": "2022-08-14T15:56:42.939Z"
   },
   {
    "duration": 13,
    "start_time": "2022-08-14T15:56:42.992Z"
   },
   {
    "duration": 57,
    "start_time": "2022-08-14T15:56:43.006Z"
   },
   {
    "duration": 20,
    "start_time": "2022-08-14T15:56:43.067Z"
   },
   {
    "duration": 13,
    "start_time": "2022-08-14T15:56:43.089Z"
   },
   {
    "duration": 98,
    "start_time": "2022-08-14T15:56:43.103Z"
   },
   {
    "duration": 0,
    "start_time": "2022-08-14T15:56:43.204Z"
   },
   {
    "duration": 0,
    "start_time": "2022-08-14T15:56:43.206Z"
   },
   {
    "duration": 0,
    "start_time": "2022-08-14T15:56:43.208Z"
   },
   {
    "duration": 0,
    "start_time": "2022-08-14T15:56:43.209Z"
   },
   {
    "duration": 0,
    "start_time": "2022-08-14T15:56:43.211Z"
   },
   {
    "duration": 0,
    "start_time": "2022-08-14T15:56:43.213Z"
   },
   {
    "duration": 0,
    "start_time": "2022-08-14T15:56:43.215Z"
   },
   {
    "duration": 0,
    "start_time": "2022-08-14T15:56:43.216Z"
   },
   {
    "duration": 0,
    "start_time": "2022-08-14T15:56:43.218Z"
   },
   {
    "duration": 0,
    "start_time": "2022-08-14T15:56:43.220Z"
   },
   {
    "duration": 0,
    "start_time": "2022-08-14T15:56:43.221Z"
   },
   {
    "duration": 0,
    "start_time": "2022-08-14T15:56:43.222Z"
   },
   {
    "duration": 1,
    "start_time": "2022-08-14T15:56:43.223Z"
   },
   {
    "duration": 0,
    "start_time": "2022-08-14T15:56:43.225Z"
   },
   {
    "duration": 0,
    "start_time": "2022-08-14T15:56:43.260Z"
   },
   {
    "duration": 0,
    "start_time": "2022-08-14T15:56:43.261Z"
   },
   {
    "duration": 0,
    "start_time": "2022-08-14T15:56:43.262Z"
   },
   {
    "duration": 0,
    "start_time": "2022-08-14T15:56:43.265Z"
   },
   {
    "duration": 53,
    "start_time": "2022-08-14T16:12:05.018Z"
   },
   {
    "duration": 43,
    "start_time": "2022-08-14T16:18:06.391Z"
   },
   {
    "duration": 49,
    "start_time": "2022-08-14T16:18:59.385Z"
   },
   {
    "duration": 393,
    "start_time": "2022-08-14T16:27:39.298Z"
   },
   {
    "duration": 182,
    "start_time": "2022-08-14T16:27:39.693Z"
   },
   {
    "duration": 9,
    "start_time": "2022-08-14T16:27:39.877Z"
   },
   {
    "duration": 30,
    "start_time": "2022-08-14T16:27:39.888Z"
   },
   {
    "duration": 2,
    "start_time": "2022-08-14T16:27:39.920Z"
   },
   {
    "duration": 7,
    "start_time": "2022-08-14T16:27:39.924Z"
   },
   {
    "duration": 31,
    "start_time": "2022-08-14T16:27:39.933Z"
   },
   {
    "duration": 15,
    "start_time": "2022-08-14T16:27:39.965Z"
   },
   {
    "duration": 33,
    "start_time": "2022-08-14T16:27:39.982Z"
   },
   {
    "duration": 54,
    "start_time": "2022-08-14T16:27:40.017Z"
   },
   {
    "duration": 23,
    "start_time": "2022-08-14T16:27:40.073Z"
   },
   {
    "duration": 80,
    "start_time": "2022-08-14T16:27:40.097Z"
   },
   {
    "duration": 71,
    "start_time": "2022-08-14T16:27:40.179Z"
   },
   {
    "duration": 72,
    "start_time": "2022-08-14T16:27:40.252Z"
   },
   {
    "duration": 50,
    "start_time": "2022-08-14T16:27:40.326Z"
   },
   {
    "duration": 11,
    "start_time": "2022-08-14T16:27:40.378Z"
   },
   {
    "duration": 33,
    "start_time": "2022-08-14T16:27:40.390Z"
   },
   {
    "duration": 13,
    "start_time": "2022-08-14T16:27:40.424Z"
   },
   {
    "duration": 18,
    "start_time": "2022-08-14T16:27:40.464Z"
   },
   {
    "duration": 83,
    "start_time": "2022-08-14T16:27:40.484Z"
   },
   {
    "duration": 0,
    "start_time": "2022-08-14T16:27:40.571Z"
   },
   {
    "duration": 0,
    "start_time": "2022-08-14T16:27:40.573Z"
   },
   {
    "duration": 0,
    "start_time": "2022-08-14T16:27:40.574Z"
   },
   {
    "duration": 0,
    "start_time": "2022-08-14T16:27:40.575Z"
   },
   {
    "duration": 0,
    "start_time": "2022-08-14T16:27:40.577Z"
   },
   {
    "duration": 0,
    "start_time": "2022-08-14T16:27:40.578Z"
   },
   {
    "duration": 0,
    "start_time": "2022-08-14T16:27:40.579Z"
   },
   {
    "duration": 0,
    "start_time": "2022-08-14T16:27:40.581Z"
   },
   {
    "duration": 0,
    "start_time": "2022-08-14T16:27:40.582Z"
   },
   {
    "duration": 0,
    "start_time": "2022-08-14T16:27:40.584Z"
   },
   {
    "duration": 0,
    "start_time": "2022-08-14T16:27:40.585Z"
   },
   {
    "duration": 0,
    "start_time": "2022-08-14T16:27:40.587Z"
   },
   {
    "duration": 0,
    "start_time": "2022-08-14T16:27:40.588Z"
   },
   {
    "duration": 0,
    "start_time": "2022-08-14T16:27:40.589Z"
   },
   {
    "duration": 0,
    "start_time": "2022-08-14T16:27:40.591Z"
   },
   {
    "duration": 0,
    "start_time": "2022-08-14T16:27:40.592Z"
   },
   {
    "duration": 0,
    "start_time": "2022-08-14T16:27:40.594Z"
   },
   {
    "duration": 0,
    "start_time": "2022-08-14T16:27:40.595Z"
   },
   {
    "duration": 70,
    "start_time": "2022-08-14T16:31:17.109Z"
   },
   {
    "duration": 3,
    "start_time": "2022-08-14T16:31:22.188Z"
   },
   {
    "duration": 46,
    "start_time": "2022-08-14T16:31:26.872Z"
   },
   {
    "duration": 49,
    "start_time": "2022-08-14T16:31:42.903Z"
   },
   {
    "duration": 4,
    "start_time": "2022-08-14T16:32:08.372Z"
   },
   {
    "duration": 17,
    "start_time": "2022-08-14T16:34:31.191Z"
   },
   {
    "duration": 23,
    "start_time": "2022-08-14T16:34:56.649Z"
   },
   {
    "duration": 15,
    "start_time": "2022-08-14T16:35:10.715Z"
   },
   {
    "duration": 15,
    "start_time": "2022-08-14T16:35:38.118Z"
   },
   {
    "duration": 20,
    "start_time": "2022-08-14T16:36:06.909Z"
   },
   {
    "duration": 22,
    "start_time": "2022-08-14T16:36:10.283Z"
   },
   {
    "duration": 74,
    "start_time": "2022-08-14T16:38:15.848Z"
   },
   {
    "duration": 12,
    "start_time": "2022-08-14T16:39:34.344Z"
   },
   {
    "duration": 143,
    "start_time": "2022-08-14T16:40:01.678Z"
   },
   {
    "duration": 10,
    "start_time": "2022-08-14T16:40:44.283Z"
   },
   {
    "duration": 9,
    "start_time": "2022-08-14T16:41:11.370Z"
   },
   {
    "duration": 4,
    "start_time": "2022-08-14T16:41:32.782Z"
   },
   {
    "duration": 5,
    "start_time": "2022-08-14T16:41:37.650Z"
   },
   {
    "duration": 8,
    "start_time": "2022-08-14T16:42:06.103Z"
   },
   {
    "duration": 10,
    "start_time": "2022-08-14T16:42:29.816Z"
   },
   {
    "duration": 8,
    "start_time": "2022-08-14T16:42:57.407Z"
   },
   {
    "duration": 8,
    "start_time": "2022-08-14T16:44:27.283Z"
   },
   {
    "duration": 10,
    "start_time": "2022-08-14T16:44:55.378Z"
   },
   {
    "duration": 12,
    "start_time": "2022-08-14T16:45:09.205Z"
   },
   {
    "duration": 10,
    "start_time": "2022-08-14T16:45:34.491Z"
   },
   {
    "duration": 15,
    "start_time": "2022-08-14T16:45:53.957Z"
   },
   {
    "duration": 13,
    "start_time": "2022-08-14T16:46:05.253Z"
   },
   {
    "duration": 7,
    "start_time": "2022-08-14T16:47:53.207Z"
   },
   {
    "duration": 8,
    "start_time": "2022-08-14T16:48:22.647Z"
   },
   {
    "duration": 96,
    "start_time": "2022-08-14T16:51:08.885Z"
   },
   {
    "duration": 5,
    "start_time": "2022-08-14T16:51:49.791Z"
   },
   {
    "duration": 7,
    "start_time": "2022-08-14T16:52:11.264Z"
   },
   {
    "duration": 6,
    "start_time": "2022-08-14T16:52:43.045Z"
   },
   {
    "duration": 15,
    "start_time": "2022-08-14T16:53:43.560Z"
   },
   {
    "duration": 13,
    "start_time": "2022-08-14T16:54:12.571Z"
   },
   {
    "duration": 53,
    "start_time": "2022-08-14T17:07:51.717Z"
   },
   {
    "duration": 4,
    "start_time": "2022-08-14T17:08:30.605Z"
   },
   {
    "duration": 5,
    "start_time": "2022-08-14T17:09:41.888Z"
   },
   {
    "duration": 5,
    "start_time": "2022-08-14T17:10:21.426Z"
   },
   {
    "duration": 7,
    "start_time": "2022-08-14T17:10:26.359Z"
   },
   {
    "duration": 49,
    "start_time": "2022-08-14T17:12:09.509Z"
   },
   {
    "duration": 50,
    "start_time": "2022-08-14T17:12:50.828Z"
   },
   {
    "duration": 53,
    "start_time": "2022-08-14T17:13:13.051Z"
   },
   {
    "duration": 58,
    "start_time": "2022-08-14T17:13:54.464Z"
   },
   {
    "duration": 64,
    "start_time": "2022-08-14T17:14:59.430Z"
   },
   {
    "duration": 316,
    "start_time": "2022-08-14T17:15:02.899Z"
   },
   {
    "duration": 390,
    "start_time": "2022-08-14T17:15:09.391Z"
   },
   {
    "duration": 172,
    "start_time": "2022-08-14T17:15:09.782Z"
   },
   {
    "duration": 11,
    "start_time": "2022-08-14T17:15:09.956Z"
   },
   {
    "duration": 45,
    "start_time": "2022-08-14T17:15:09.970Z"
   },
   {
    "duration": 4,
    "start_time": "2022-08-14T17:15:10.017Z"
   },
   {
    "duration": 15,
    "start_time": "2022-08-14T17:15:10.023Z"
   },
   {
    "duration": 34,
    "start_time": "2022-08-14T17:15:10.040Z"
   },
   {
    "duration": 10,
    "start_time": "2022-08-14T17:15:10.076Z"
   },
   {
    "duration": 52,
    "start_time": "2022-08-14T17:15:10.088Z"
   },
   {
    "duration": 24,
    "start_time": "2022-08-14T17:15:10.143Z"
   },
   {
    "duration": 25,
    "start_time": "2022-08-14T17:15:10.169Z"
   },
   {
    "duration": 86,
    "start_time": "2022-08-14T17:15:10.196Z"
   },
   {
    "duration": 117,
    "start_time": "2022-08-14T17:15:10.285Z"
   },
   {
    "duration": 79,
    "start_time": "2022-08-14T17:15:10.404Z"
   },
   {
    "duration": 35,
    "start_time": "2022-08-14T17:15:10.485Z"
   },
   {
    "duration": 10,
    "start_time": "2022-08-14T17:15:10.522Z"
   },
   {
    "duration": 53,
    "start_time": "2022-08-14T17:15:10.533Z"
   },
   {
    "duration": 12,
    "start_time": "2022-08-14T17:15:10.588Z"
   },
   {
    "duration": 14,
    "start_time": "2022-08-14T17:15:10.602Z"
   },
   {
    "duration": 5,
    "start_time": "2022-08-14T17:15:10.618Z"
   },
   {
    "duration": 50,
    "start_time": "2022-08-14T17:15:10.625Z"
   },
   {
    "duration": 14,
    "start_time": "2022-08-14T17:15:10.676Z"
   },
   {
    "duration": 20,
    "start_time": "2022-08-14T17:15:10.693Z"
   },
   {
    "duration": 19,
    "start_time": "2022-08-14T17:15:10.715Z"
   },
   {
    "duration": 18,
    "start_time": "2022-08-14T17:15:10.758Z"
   },
   {
    "duration": 14,
    "start_time": "2022-08-14T17:15:10.778Z"
   },
   {
    "duration": 6,
    "start_time": "2022-08-14T17:15:10.793Z"
   },
   {
    "duration": 12,
    "start_time": "2022-08-14T17:15:10.802Z"
   },
   {
    "duration": 11,
    "start_time": "2022-08-14T17:15:10.816Z"
   },
   {
    "duration": 34,
    "start_time": "2022-08-14T17:15:10.829Z"
   },
   {
    "duration": 59,
    "start_time": "2022-08-14T17:15:10.865Z"
   },
   {
    "duration": 0,
    "start_time": "2022-08-14T17:15:10.927Z"
   },
   {
    "duration": 0,
    "start_time": "2022-08-14T17:15:10.928Z"
   },
   {
    "duration": 0,
    "start_time": "2022-08-14T17:15:10.929Z"
   },
   {
    "duration": 0,
    "start_time": "2022-08-14T17:15:10.930Z"
   },
   {
    "duration": 0,
    "start_time": "2022-08-14T17:15:10.932Z"
   },
   {
    "duration": 0,
    "start_time": "2022-08-14T17:15:10.933Z"
   },
   {
    "duration": 0,
    "start_time": "2022-08-14T17:15:10.934Z"
   },
   {
    "duration": 13,
    "start_time": "2022-08-14T17:16:04.048Z"
   },
   {
    "duration": 24,
    "start_time": "2022-08-14T17:17:03.469Z"
   },
   {
    "duration": 15,
    "start_time": "2022-08-14T17:17:08.369Z"
   },
   {
    "duration": 26,
    "start_time": "2022-08-14T17:17:10.900Z"
   },
   {
    "duration": 11,
    "start_time": "2022-08-14T17:21:57.052Z"
   },
   {
    "duration": 65,
    "start_time": "2022-08-14T17:23:22.293Z"
   },
   {
    "duration": 11,
    "start_time": "2022-08-14T17:23:46.956Z"
   },
   {
    "duration": 9,
    "start_time": "2022-08-14T17:26:21.643Z"
   },
   {
    "duration": 8,
    "start_time": "2022-08-14T17:27:38.207Z"
   },
   {
    "duration": 13,
    "start_time": "2022-08-14T17:28:10.635Z"
   },
   {
    "duration": 7,
    "start_time": "2022-08-14T17:28:56.995Z"
   },
   {
    "duration": 10,
    "start_time": "2022-08-14T17:29:15.077Z"
   },
   {
    "duration": 9,
    "start_time": "2022-08-14T17:30:53.507Z"
   },
   {
    "duration": 8,
    "start_time": "2022-08-14T17:32:08.907Z"
   },
   {
    "duration": 8,
    "start_time": "2022-08-14T17:32:15.494Z"
   },
   {
    "duration": 8,
    "start_time": "2022-08-14T17:32:37.971Z"
   },
   {
    "duration": 47,
    "start_time": "2022-08-14T17:32:49.452Z"
   },
   {
    "duration": 376,
    "start_time": "2022-08-14T17:33:04.716Z"
   },
   {
    "duration": 201,
    "start_time": "2022-08-14T17:33:05.094Z"
   },
   {
    "duration": 9,
    "start_time": "2022-08-14T17:33:05.297Z"
   },
   {
    "duration": 64,
    "start_time": "2022-08-14T17:33:05.309Z"
   },
   {
    "duration": 18,
    "start_time": "2022-08-14T17:33:05.375Z"
   },
   {
    "duration": 19,
    "start_time": "2022-08-14T17:33:05.395Z"
   },
   {
    "duration": 41,
    "start_time": "2022-08-14T17:33:05.417Z"
   },
   {
    "duration": 30,
    "start_time": "2022-08-14T17:33:05.463Z"
   },
   {
    "duration": 53,
    "start_time": "2022-08-14T17:33:05.495Z"
   },
   {
    "duration": 31,
    "start_time": "2022-08-14T17:33:05.551Z"
   },
   {
    "duration": 28,
    "start_time": "2022-08-14T17:33:05.584Z"
   },
   {
    "duration": 102,
    "start_time": "2022-08-14T17:33:05.613Z"
   },
   {
    "duration": 80,
    "start_time": "2022-08-14T17:33:05.718Z"
   },
   {
    "duration": 69,
    "start_time": "2022-08-14T17:33:05.800Z"
   },
   {
    "duration": 34,
    "start_time": "2022-08-14T17:33:05.871Z"
   },
   {
    "duration": 15,
    "start_time": "2022-08-14T17:33:05.907Z"
   },
   {
    "duration": 53,
    "start_time": "2022-08-14T17:33:05.924Z"
   },
   {
    "duration": 12,
    "start_time": "2022-08-14T17:33:05.978Z"
   },
   {
    "duration": 18,
    "start_time": "2022-08-14T17:33:05.992Z"
   },
   {
    "duration": 4,
    "start_time": "2022-08-14T17:33:06.012Z"
   },
   {
    "duration": 38,
    "start_time": "2022-08-14T17:33:06.017Z"
   },
   {
    "duration": 15,
    "start_time": "2022-08-14T17:33:06.057Z"
   },
   {
    "duration": 25,
    "start_time": "2022-08-14T17:33:06.073Z"
   },
   {
    "duration": 12,
    "start_time": "2022-08-14T17:33:06.100Z"
   },
   {
    "duration": 15,
    "start_time": "2022-08-14T17:33:06.114Z"
   },
   {
    "duration": 40,
    "start_time": "2022-08-14T17:33:06.131Z"
   },
   {
    "duration": 8,
    "start_time": "2022-08-14T17:33:06.172Z"
   },
   {
    "duration": 24,
    "start_time": "2022-08-14T17:33:06.183Z"
   },
   {
    "duration": 19,
    "start_time": "2022-08-14T17:33:06.209Z"
   },
   {
    "duration": 13,
    "start_time": "2022-08-14T17:33:06.230Z"
   },
   {
    "duration": 48,
    "start_time": "2022-08-14T17:33:06.245Z"
   },
   {
    "duration": 11,
    "start_time": "2022-08-14T17:33:06.295Z"
   },
   {
    "duration": 33,
    "start_time": "2022-08-14T17:33:06.307Z"
   },
   {
    "duration": 37,
    "start_time": "2022-08-14T17:33:06.342Z"
   },
   {
    "duration": 23,
    "start_time": "2022-08-14T17:33:06.380Z"
   },
   {
    "duration": 28,
    "start_time": "2022-08-14T17:33:06.405Z"
   },
   {
    "duration": 23,
    "start_time": "2022-08-14T17:33:06.435Z"
   },
   {
    "duration": 112,
    "start_time": "2022-08-14T17:33:06.460Z"
   },
   {
    "duration": 9,
    "start_time": "2022-08-14T17:33:16.673Z"
   },
   {
    "duration": 60,
    "start_time": "2022-08-14T17:34:52.681Z"
   },
   {
    "duration": 450,
    "start_time": "2022-08-14T17:35:04.991Z"
   },
   {
    "duration": 175,
    "start_time": "2022-08-14T17:35:05.444Z"
   },
   {
    "duration": 10,
    "start_time": "2022-08-14T17:35:05.621Z"
   },
   {
    "duration": 38,
    "start_time": "2022-08-14T17:35:05.635Z"
   },
   {
    "duration": 14,
    "start_time": "2022-08-14T17:35:05.676Z"
   },
   {
    "duration": 14,
    "start_time": "2022-08-14T17:35:05.692Z"
   },
   {
    "duration": 19,
    "start_time": "2022-08-14T17:35:05.708Z"
   },
   {
    "duration": 8,
    "start_time": "2022-08-14T17:35:05.729Z"
   },
   {
    "duration": 46,
    "start_time": "2022-08-14T17:35:05.738Z"
   },
   {
    "duration": 17,
    "start_time": "2022-08-14T17:35:05.787Z"
   },
   {
    "duration": 24,
    "start_time": "2022-08-14T17:35:05.806Z"
   },
   {
    "duration": 76,
    "start_time": "2022-08-14T17:35:05.832Z"
   },
   {
    "duration": 78,
    "start_time": "2022-08-14T17:35:05.910Z"
   },
   {
    "duration": 71,
    "start_time": "2022-08-14T17:35:05.989Z"
   },
   {
    "duration": 33,
    "start_time": "2022-08-14T17:35:06.062Z"
   },
   {
    "duration": 11,
    "start_time": "2022-08-14T17:35:06.096Z"
   },
   {
    "duration": 55,
    "start_time": "2022-08-14T17:35:06.109Z"
   },
   {
    "duration": 12,
    "start_time": "2022-08-14T17:35:06.165Z"
   },
   {
    "duration": 12,
    "start_time": "2022-08-14T17:35:06.179Z"
   },
   {
    "duration": 4,
    "start_time": "2022-08-14T17:35:06.192Z"
   },
   {
    "duration": 30,
    "start_time": "2022-08-14T17:35:06.198Z"
   },
   {
    "duration": 37,
    "start_time": "2022-08-14T17:35:06.230Z"
   },
   {
    "duration": 15,
    "start_time": "2022-08-14T17:35:06.269Z"
   },
   {
    "duration": 15,
    "start_time": "2022-08-14T17:35:06.285Z"
   },
   {
    "duration": 20,
    "start_time": "2022-08-14T17:35:06.302Z"
   },
   {
    "duration": 44,
    "start_time": "2022-08-14T17:35:06.324Z"
   },
   {
    "duration": 4,
    "start_time": "2022-08-14T17:35:06.369Z"
   },
   {
    "duration": 11,
    "start_time": "2022-08-14T17:35:06.376Z"
   },
   {
    "duration": 9,
    "start_time": "2022-08-14T17:35:06.389Z"
   },
   {
    "duration": 5,
    "start_time": "2022-08-14T17:35:06.399Z"
   },
   {
    "duration": 24,
    "start_time": "2022-08-14T17:35:06.406Z"
   },
   {
    "duration": 36,
    "start_time": "2022-08-14T17:35:06.432Z"
   },
   {
    "duration": 19,
    "start_time": "2022-08-14T17:35:06.470Z"
   },
   {
    "duration": 12,
    "start_time": "2022-08-14T17:35:06.491Z"
   },
   {
    "duration": 9,
    "start_time": "2022-08-14T17:35:06.505Z"
   },
   {
    "duration": 5,
    "start_time": "2022-08-14T17:35:06.515Z"
   },
   {
    "duration": 39,
    "start_time": "2022-08-14T17:35:06.522Z"
   },
   {
    "duration": 4,
    "start_time": "2022-08-14T17:35:06.563Z"
   }
  ],
  "colab": {
   "collapsed_sections": [
    "E0vqbgi9ay0H",
    "VUC88oWjTJw2"
   ],
   "name": "automatization_template_upd4.ipynb",
   "provenance": []
  },
  "kernelspec": {
   "display_name": "Python 3 (ipykernel)",
   "language": "python",
   "name": "python3"
  },
  "language_info": {
   "codemirror_mode": {
    "name": "ipython",
    "version": 3
   },
   "file_extension": ".py",
   "mimetype": "text/x-python",
   "name": "python",
   "nbconvert_exporter": "python",
   "pygments_lexer": "ipython3",
   "version": "3.9.12"
  },
  "toc": {
   "base_numbering": 1,
   "nav_menu": {
    "height": "215px",
    "width": "403px"
   },
   "number_sections": true,
   "sideBar": true,
   "skip_h1_title": true,
   "title_cell": "Table of Contents",
   "title_sidebar": "Contents",
   "toc_cell": false,
   "toc_position": {
    "height": "calc(100% - 180px)",
    "left": "10px",
    "top": "150px",
    "width": "285.825px"
   },
   "toc_section_display": true,
   "toc_window_display": false
  }
 },
 "nbformat": 4,
 "nbformat_minor": 1
}
