{
 "cells": [
  {
   "cell_type": "markdown",
   "metadata": {},
   "source": [
    "# Исследование объявлений о продаже квартир\n",
    "\n",
    "#### Описание проекта\n",
    "\n",
    "В распоряжении данные сервиса Яндекс Недвижимость — архив объявлений за несколько лет о продаже квартир в Санкт-Петербурге и соседних населённых пунктах.<br><br>\n",
    "<b>Задача исследования</b> — выполнить предобработку данных и изучить их, чтобы найти интересные особенности и зависимости, которые существуют на рынке недвижимости.<br><br>\n",
    "О каждой квартире в базе содержится два типа данных: добавленные пользователем и картографические. Например, к первому типу относятся площадь квартиры, её этаж и количество балконов, ко второму — расстояния до центра города, аэропорта и ближайшего парка. "
   ]
  },
  {
   "cell_type": "markdown",
   "metadata": {},
   "source": [
    "<div>\n",
    "<b>Описание данных</b><br>\n",
    "\n",
    "* `airports_nearest` — расстояние до ближайшего аэропорта в метрах (м)\n",
    "* `balcony` — число балконов\n",
    "* `ceiling_height` — высота потолков (м)\n",
    "* `cityCenters_nearest` — расстояние до центра города (м)\n",
    "* `days_exposition` — сколько дней было размещено объявление (от публикации до снятия)\n",
    "* `first_day_exposition` — дата публикации\n",
    "* `floor` — этаж\n",
    "* `floors_total` — всего этажей в доме\n",
    "* `is_apartment` — апартаменты (булев тип)\n",
    "* `kitchen_area` — площадь кухни в квадратных метрах (м²)\n",
    "* `last_price` — цена на момент снятия с публикации\n",
    "* `living_area` — жилая площадь в квадратных метрах (м²)\n",
    "* `locality_name` — название населённого пункта\n",
    "* `open_plan` — свободная планировка (булев тип)\n",
    "* `parks_around3000` — число парков в радиусе 3 км\n",
    "* `parks_nearest` — расстояние до ближайшего парка (м)\n",
    "* `ponds_around3000` — число водоёмов в радиусе 3 км\n",
    "* `ponds_nearest` — расстояние до ближайшего водоёма (м)\n",
    "* `rooms` — число комнат\n",
    "* `studio` — квартира-студия (булев тип)\n",
    "* `total_area` — общая площадь квартиры в квадратных метрах (м²)\n",
    "* `total_images` — число фотографий квартиры в объявлении"
   ]
  },
  {
   "cell_type": "markdown",
   "metadata": {},
   "source": [
    "### Откройте файл с данными и изучите общую информацию. "
   ]
  },
  {
   "cell_type": "code",
   "execution_count": 1,
   "metadata": {},
   "outputs": [],
   "source": [
    "import pandas as pd\n",
    "data = pd.read_csv('/datasets/real_estate_data.csv', sep = '\\t')"
   ]
  },
  {
   "cell_type": "markdown",
   "metadata": {},
   "source": [
    "**1.1. Первые 20 строчек датафрейма**"
   ]
  },
  {
   "cell_type": "code",
   "execution_count": 2,
   "metadata": {},
   "outputs": [
    {
     "data": {
      "text/html": [
       "<div>\n",
       "<style scoped>\n",
       "    .dataframe tbody tr th:only-of-type {\n",
       "        vertical-align: middle;\n",
       "    }\n",
       "\n",
       "    .dataframe tbody tr th {\n",
       "        vertical-align: top;\n",
       "    }\n",
       "\n",
       "    .dataframe thead th {\n",
       "        text-align: right;\n",
       "    }\n",
       "</style>\n",
       "<table border=\"1\" class=\"dataframe\">\n",
       "  <thead>\n",
       "    <tr style=\"text-align: right;\">\n",
       "      <th></th>\n",
       "      <th>total_images</th>\n",
       "      <th>last_price</th>\n",
       "      <th>total_area</th>\n",
       "      <th>first_day_exposition</th>\n",
       "      <th>rooms</th>\n",
       "      <th>ceiling_height</th>\n",
       "      <th>floors_total</th>\n",
       "      <th>living_area</th>\n",
       "      <th>floor</th>\n",
       "      <th>is_apartment</th>\n",
       "      <th>...</th>\n",
       "      <th>kitchen_area</th>\n",
       "      <th>balcony</th>\n",
       "      <th>locality_name</th>\n",
       "      <th>airports_nearest</th>\n",
       "      <th>cityCenters_nearest</th>\n",
       "      <th>parks_around3000</th>\n",
       "      <th>parks_nearest</th>\n",
       "      <th>ponds_around3000</th>\n",
       "      <th>ponds_nearest</th>\n",
       "      <th>days_exposition</th>\n",
       "    </tr>\n",
       "  </thead>\n",
       "  <tbody>\n",
       "    <tr>\n",
       "      <th>0</th>\n",
       "      <td>20</td>\n",
       "      <td>13000000.0</td>\n",
       "      <td>108.00</td>\n",
       "      <td>2019-03-07T00:00:00</td>\n",
       "      <td>3</td>\n",
       "      <td>2.70</td>\n",
       "      <td>16.0</td>\n",
       "      <td>51.00</td>\n",
       "      <td>8</td>\n",
       "      <td>NaN</td>\n",
       "      <td>...</td>\n",
       "      <td>25.00</td>\n",
       "      <td>NaN</td>\n",
       "      <td>Санкт-Петербург</td>\n",
       "      <td>18863.0</td>\n",
       "      <td>16028.0</td>\n",
       "      <td>1.0</td>\n",
       "      <td>482.0</td>\n",
       "      <td>2.0</td>\n",
       "      <td>755.0</td>\n",
       "      <td>NaN</td>\n",
       "    </tr>\n",
       "    <tr>\n",
       "      <th>1</th>\n",
       "      <td>7</td>\n",
       "      <td>3350000.0</td>\n",
       "      <td>40.40</td>\n",
       "      <td>2018-12-04T00:00:00</td>\n",
       "      <td>1</td>\n",
       "      <td>NaN</td>\n",
       "      <td>11.0</td>\n",
       "      <td>18.60</td>\n",
       "      <td>1</td>\n",
       "      <td>NaN</td>\n",
       "      <td>...</td>\n",
       "      <td>11.00</td>\n",
       "      <td>2.0</td>\n",
       "      <td>посёлок Шушары</td>\n",
       "      <td>12817.0</td>\n",
       "      <td>18603.0</td>\n",
       "      <td>0.0</td>\n",
       "      <td>NaN</td>\n",
       "      <td>0.0</td>\n",
       "      <td>NaN</td>\n",
       "      <td>81.0</td>\n",
       "    </tr>\n",
       "    <tr>\n",
       "      <th>2</th>\n",
       "      <td>10</td>\n",
       "      <td>5196000.0</td>\n",
       "      <td>56.00</td>\n",
       "      <td>2015-08-20T00:00:00</td>\n",
       "      <td>2</td>\n",
       "      <td>NaN</td>\n",
       "      <td>5.0</td>\n",
       "      <td>34.30</td>\n",
       "      <td>4</td>\n",
       "      <td>NaN</td>\n",
       "      <td>...</td>\n",
       "      <td>8.30</td>\n",
       "      <td>0.0</td>\n",
       "      <td>Санкт-Петербург</td>\n",
       "      <td>21741.0</td>\n",
       "      <td>13933.0</td>\n",
       "      <td>1.0</td>\n",
       "      <td>90.0</td>\n",
       "      <td>2.0</td>\n",
       "      <td>574.0</td>\n",
       "      <td>558.0</td>\n",
       "    </tr>\n",
       "    <tr>\n",
       "      <th>3</th>\n",
       "      <td>0</td>\n",
       "      <td>64900000.0</td>\n",
       "      <td>159.00</td>\n",
       "      <td>2015-07-24T00:00:00</td>\n",
       "      <td>3</td>\n",
       "      <td>NaN</td>\n",
       "      <td>14.0</td>\n",
       "      <td>NaN</td>\n",
       "      <td>9</td>\n",
       "      <td>NaN</td>\n",
       "      <td>...</td>\n",
       "      <td>NaN</td>\n",
       "      <td>0.0</td>\n",
       "      <td>Санкт-Петербург</td>\n",
       "      <td>28098.0</td>\n",
       "      <td>6800.0</td>\n",
       "      <td>2.0</td>\n",
       "      <td>84.0</td>\n",
       "      <td>3.0</td>\n",
       "      <td>234.0</td>\n",
       "      <td>424.0</td>\n",
       "    </tr>\n",
       "    <tr>\n",
       "      <th>4</th>\n",
       "      <td>2</td>\n",
       "      <td>10000000.0</td>\n",
       "      <td>100.00</td>\n",
       "      <td>2018-06-19T00:00:00</td>\n",
       "      <td>2</td>\n",
       "      <td>3.03</td>\n",
       "      <td>14.0</td>\n",
       "      <td>32.00</td>\n",
       "      <td>13</td>\n",
       "      <td>NaN</td>\n",
       "      <td>...</td>\n",
       "      <td>41.00</td>\n",
       "      <td>NaN</td>\n",
       "      <td>Санкт-Петербург</td>\n",
       "      <td>31856.0</td>\n",
       "      <td>8098.0</td>\n",
       "      <td>2.0</td>\n",
       "      <td>112.0</td>\n",
       "      <td>1.0</td>\n",
       "      <td>48.0</td>\n",
       "      <td>121.0</td>\n",
       "    </tr>\n",
       "    <tr>\n",
       "      <th>5</th>\n",
       "      <td>10</td>\n",
       "      <td>2890000.0</td>\n",
       "      <td>30.40</td>\n",
       "      <td>2018-09-10T00:00:00</td>\n",
       "      <td>1</td>\n",
       "      <td>NaN</td>\n",
       "      <td>12.0</td>\n",
       "      <td>14.40</td>\n",
       "      <td>5</td>\n",
       "      <td>NaN</td>\n",
       "      <td>...</td>\n",
       "      <td>9.10</td>\n",
       "      <td>NaN</td>\n",
       "      <td>городской посёлок Янино-1</td>\n",
       "      <td>NaN</td>\n",
       "      <td>NaN</td>\n",
       "      <td>NaN</td>\n",
       "      <td>NaN</td>\n",
       "      <td>NaN</td>\n",
       "      <td>NaN</td>\n",
       "      <td>55.0</td>\n",
       "    </tr>\n",
       "    <tr>\n",
       "      <th>6</th>\n",
       "      <td>6</td>\n",
       "      <td>3700000.0</td>\n",
       "      <td>37.30</td>\n",
       "      <td>2017-11-02T00:00:00</td>\n",
       "      <td>1</td>\n",
       "      <td>NaN</td>\n",
       "      <td>26.0</td>\n",
       "      <td>10.60</td>\n",
       "      <td>6</td>\n",
       "      <td>NaN</td>\n",
       "      <td>...</td>\n",
       "      <td>14.40</td>\n",
       "      <td>1.0</td>\n",
       "      <td>посёлок Парголово</td>\n",
       "      <td>52996.0</td>\n",
       "      <td>19143.0</td>\n",
       "      <td>0.0</td>\n",
       "      <td>NaN</td>\n",
       "      <td>0.0</td>\n",
       "      <td>NaN</td>\n",
       "      <td>155.0</td>\n",
       "    </tr>\n",
       "    <tr>\n",
       "      <th>7</th>\n",
       "      <td>5</td>\n",
       "      <td>7915000.0</td>\n",
       "      <td>71.60</td>\n",
       "      <td>2019-04-18T00:00:00</td>\n",
       "      <td>2</td>\n",
       "      <td>NaN</td>\n",
       "      <td>24.0</td>\n",
       "      <td>NaN</td>\n",
       "      <td>22</td>\n",
       "      <td>NaN</td>\n",
       "      <td>...</td>\n",
       "      <td>18.90</td>\n",
       "      <td>2.0</td>\n",
       "      <td>Санкт-Петербург</td>\n",
       "      <td>23982.0</td>\n",
       "      <td>11634.0</td>\n",
       "      <td>0.0</td>\n",
       "      <td>NaN</td>\n",
       "      <td>0.0</td>\n",
       "      <td>NaN</td>\n",
       "      <td>NaN</td>\n",
       "    </tr>\n",
       "    <tr>\n",
       "      <th>8</th>\n",
       "      <td>20</td>\n",
       "      <td>2900000.0</td>\n",
       "      <td>33.16</td>\n",
       "      <td>2018-05-23T00:00:00</td>\n",
       "      <td>1</td>\n",
       "      <td>NaN</td>\n",
       "      <td>27.0</td>\n",
       "      <td>15.43</td>\n",
       "      <td>26</td>\n",
       "      <td>NaN</td>\n",
       "      <td>...</td>\n",
       "      <td>8.81</td>\n",
       "      <td>NaN</td>\n",
       "      <td>посёлок Мурино</td>\n",
       "      <td>NaN</td>\n",
       "      <td>NaN</td>\n",
       "      <td>NaN</td>\n",
       "      <td>NaN</td>\n",
       "      <td>NaN</td>\n",
       "      <td>NaN</td>\n",
       "      <td>189.0</td>\n",
       "    </tr>\n",
       "    <tr>\n",
       "      <th>9</th>\n",
       "      <td>18</td>\n",
       "      <td>5400000.0</td>\n",
       "      <td>61.00</td>\n",
       "      <td>2017-02-26T00:00:00</td>\n",
       "      <td>3</td>\n",
       "      <td>2.50</td>\n",
       "      <td>9.0</td>\n",
       "      <td>43.60</td>\n",
       "      <td>7</td>\n",
       "      <td>NaN</td>\n",
       "      <td>...</td>\n",
       "      <td>6.50</td>\n",
       "      <td>2.0</td>\n",
       "      <td>Санкт-Петербург</td>\n",
       "      <td>50898.0</td>\n",
       "      <td>15008.0</td>\n",
       "      <td>0.0</td>\n",
       "      <td>NaN</td>\n",
       "      <td>0.0</td>\n",
       "      <td>NaN</td>\n",
       "      <td>289.0</td>\n",
       "    </tr>\n",
       "    <tr>\n",
       "      <th>10</th>\n",
       "      <td>5</td>\n",
       "      <td>5050000.0</td>\n",
       "      <td>39.60</td>\n",
       "      <td>2017-11-16T00:00:00</td>\n",
       "      <td>1</td>\n",
       "      <td>2.67</td>\n",
       "      <td>12.0</td>\n",
       "      <td>20.30</td>\n",
       "      <td>3</td>\n",
       "      <td>NaN</td>\n",
       "      <td>...</td>\n",
       "      <td>8.50</td>\n",
       "      <td>NaN</td>\n",
       "      <td>Санкт-Петербург</td>\n",
       "      <td>38357.0</td>\n",
       "      <td>13878.0</td>\n",
       "      <td>1.0</td>\n",
       "      <td>310.0</td>\n",
       "      <td>2.0</td>\n",
       "      <td>553.0</td>\n",
       "      <td>137.0</td>\n",
       "    </tr>\n",
       "    <tr>\n",
       "      <th>11</th>\n",
       "      <td>9</td>\n",
       "      <td>3300000.0</td>\n",
       "      <td>44.00</td>\n",
       "      <td>2018-08-27T00:00:00</td>\n",
       "      <td>2</td>\n",
       "      <td>NaN</td>\n",
       "      <td>5.0</td>\n",
       "      <td>31.00</td>\n",
       "      <td>4</td>\n",
       "      <td>False</td>\n",
       "      <td>...</td>\n",
       "      <td>6.00</td>\n",
       "      <td>1.0</td>\n",
       "      <td>Ломоносов</td>\n",
       "      <td>48252.0</td>\n",
       "      <td>51677.0</td>\n",
       "      <td>0.0</td>\n",
       "      <td>NaN</td>\n",
       "      <td>0.0</td>\n",
       "      <td>NaN</td>\n",
       "      <td>7.0</td>\n",
       "    </tr>\n",
       "    <tr>\n",
       "      <th>12</th>\n",
       "      <td>10</td>\n",
       "      <td>3890000.0</td>\n",
       "      <td>54.00</td>\n",
       "      <td>2016-06-30T00:00:00</td>\n",
       "      <td>2</td>\n",
       "      <td>NaN</td>\n",
       "      <td>5.0</td>\n",
       "      <td>30.00</td>\n",
       "      <td>5</td>\n",
       "      <td>NaN</td>\n",
       "      <td>...</td>\n",
       "      <td>9.00</td>\n",
       "      <td>0.0</td>\n",
       "      <td>Сертолово</td>\n",
       "      <td>NaN</td>\n",
       "      <td>NaN</td>\n",
       "      <td>NaN</td>\n",
       "      <td>NaN</td>\n",
       "      <td>NaN</td>\n",
       "      <td>NaN</td>\n",
       "      <td>90.0</td>\n",
       "    </tr>\n",
       "    <tr>\n",
       "      <th>13</th>\n",
       "      <td>20</td>\n",
       "      <td>3550000.0</td>\n",
       "      <td>42.80</td>\n",
       "      <td>2017-07-01T00:00:00</td>\n",
       "      <td>2</td>\n",
       "      <td>2.56</td>\n",
       "      <td>5.0</td>\n",
       "      <td>27.00</td>\n",
       "      <td>5</td>\n",
       "      <td>NaN</td>\n",
       "      <td>...</td>\n",
       "      <td>5.20</td>\n",
       "      <td>1.0</td>\n",
       "      <td>Петергоф</td>\n",
       "      <td>37868.0</td>\n",
       "      <td>33058.0</td>\n",
       "      <td>1.0</td>\n",
       "      <td>294.0</td>\n",
       "      <td>3.0</td>\n",
       "      <td>298.0</td>\n",
       "      <td>366.0</td>\n",
       "    </tr>\n",
       "    <tr>\n",
       "      <th>14</th>\n",
       "      <td>1</td>\n",
       "      <td>4400000.0</td>\n",
       "      <td>36.00</td>\n",
       "      <td>2016-06-23T00:00:00</td>\n",
       "      <td>1</td>\n",
       "      <td>NaN</td>\n",
       "      <td>6.0</td>\n",
       "      <td>17.00</td>\n",
       "      <td>1</td>\n",
       "      <td>NaN</td>\n",
       "      <td>...</td>\n",
       "      <td>8.00</td>\n",
       "      <td>0.0</td>\n",
       "      <td>Пушкин</td>\n",
       "      <td>20782.0</td>\n",
       "      <td>30759.0</td>\n",
       "      <td>0.0</td>\n",
       "      <td>NaN</td>\n",
       "      <td>1.0</td>\n",
       "      <td>96.0</td>\n",
       "      <td>203.0</td>\n",
       "    </tr>\n",
       "    <tr>\n",
       "      <th>15</th>\n",
       "      <td>16</td>\n",
       "      <td>4650000.0</td>\n",
       "      <td>39.00</td>\n",
       "      <td>2017-11-18T00:00:00</td>\n",
       "      <td>1</td>\n",
       "      <td>NaN</td>\n",
       "      <td>14.0</td>\n",
       "      <td>20.50</td>\n",
       "      <td>5</td>\n",
       "      <td>NaN</td>\n",
       "      <td>...</td>\n",
       "      <td>7.60</td>\n",
       "      <td>1.0</td>\n",
       "      <td>Санкт-Петербург</td>\n",
       "      <td>12900.0</td>\n",
       "      <td>14259.0</td>\n",
       "      <td>1.0</td>\n",
       "      <td>590.0</td>\n",
       "      <td>1.0</td>\n",
       "      <td>296.0</td>\n",
       "      <td>19.0</td>\n",
       "    </tr>\n",
       "    <tr>\n",
       "      <th>16</th>\n",
       "      <td>11</td>\n",
       "      <td>6700000.0</td>\n",
       "      <td>82.00</td>\n",
       "      <td>2017-11-23T00:00:00</td>\n",
       "      <td>3</td>\n",
       "      <td>3.05</td>\n",
       "      <td>5.0</td>\n",
       "      <td>55.60</td>\n",
       "      <td>1</td>\n",
       "      <td>NaN</td>\n",
       "      <td>...</td>\n",
       "      <td>9.00</td>\n",
       "      <td>NaN</td>\n",
       "      <td>Санкт-Петербург</td>\n",
       "      <td>22108.0</td>\n",
       "      <td>10698.0</td>\n",
       "      <td>3.0</td>\n",
       "      <td>420.0</td>\n",
       "      <td>0.0</td>\n",
       "      <td>NaN</td>\n",
       "      <td>397.0</td>\n",
       "    </tr>\n",
       "    <tr>\n",
       "      <th>17</th>\n",
       "      <td>6</td>\n",
       "      <td>4180000.0</td>\n",
       "      <td>36.00</td>\n",
       "      <td>2016-09-09T00:00:00</td>\n",
       "      <td>1</td>\n",
       "      <td>NaN</td>\n",
       "      <td>17.0</td>\n",
       "      <td>16.50</td>\n",
       "      <td>7</td>\n",
       "      <td>NaN</td>\n",
       "      <td>...</td>\n",
       "      <td>11.00</td>\n",
       "      <td>1.0</td>\n",
       "      <td>Санкт-Петербург</td>\n",
       "      <td>33564.0</td>\n",
       "      <td>14616.0</td>\n",
       "      <td>0.0</td>\n",
       "      <td>NaN</td>\n",
       "      <td>1.0</td>\n",
       "      <td>859.0</td>\n",
       "      <td>571.0</td>\n",
       "    </tr>\n",
       "    <tr>\n",
       "      <th>18</th>\n",
       "      <td>8</td>\n",
       "      <td>3250000.0</td>\n",
       "      <td>31.00</td>\n",
       "      <td>2017-01-27T00:00:00</td>\n",
       "      <td>1</td>\n",
       "      <td>2.50</td>\n",
       "      <td>5.0</td>\n",
       "      <td>19.40</td>\n",
       "      <td>2</td>\n",
       "      <td>NaN</td>\n",
       "      <td>...</td>\n",
       "      <td>5.60</td>\n",
       "      <td>1.0</td>\n",
       "      <td>Санкт-Петербург</td>\n",
       "      <td>44060.0</td>\n",
       "      <td>10842.0</td>\n",
       "      <td>1.0</td>\n",
       "      <td>759.0</td>\n",
       "      <td>0.0</td>\n",
       "      <td>NaN</td>\n",
       "      <td>168.0</td>\n",
       "    </tr>\n",
       "    <tr>\n",
       "      <th>19</th>\n",
       "      <td>16</td>\n",
       "      <td>14200000.0</td>\n",
       "      <td>121.00</td>\n",
       "      <td>2019-01-09T00:00:00</td>\n",
       "      <td>3</td>\n",
       "      <td>2.75</td>\n",
       "      <td>16.0</td>\n",
       "      <td>76.00</td>\n",
       "      <td>8</td>\n",
       "      <td>NaN</td>\n",
       "      <td>...</td>\n",
       "      <td>12.00</td>\n",
       "      <td>NaN</td>\n",
       "      <td>Санкт-Петербург</td>\n",
       "      <td>38900.0</td>\n",
       "      <td>12843.0</td>\n",
       "      <td>0.0</td>\n",
       "      <td>NaN</td>\n",
       "      <td>0.0</td>\n",
       "      <td>NaN</td>\n",
       "      <td>97.0</td>\n",
       "    </tr>\n",
       "  </tbody>\n",
       "</table>\n",
       "<p>20 rows × 22 columns</p>\n",
       "</div>"
      ],
      "text/plain": [
       "    total_images  last_price  total_area first_day_exposition  rooms  \\\n",
       "0             20  13000000.0      108.00  2019-03-07T00:00:00      3   \n",
       "1              7   3350000.0       40.40  2018-12-04T00:00:00      1   \n",
       "2             10   5196000.0       56.00  2015-08-20T00:00:00      2   \n",
       "3              0  64900000.0      159.00  2015-07-24T00:00:00      3   \n",
       "4              2  10000000.0      100.00  2018-06-19T00:00:00      2   \n",
       "5             10   2890000.0       30.40  2018-09-10T00:00:00      1   \n",
       "6              6   3700000.0       37.30  2017-11-02T00:00:00      1   \n",
       "7              5   7915000.0       71.60  2019-04-18T00:00:00      2   \n",
       "8             20   2900000.0       33.16  2018-05-23T00:00:00      1   \n",
       "9             18   5400000.0       61.00  2017-02-26T00:00:00      3   \n",
       "10             5   5050000.0       39.60  2017-11-16T00:00:00      1   \n",
       "11             9   3300000.0       44.00  2018-08-27T00:00:00      2   \n",
       "12            10   3890000.0       54.00  2016-06-30T00:00:00      2   \n",
       "13            20   3550000.0       42.80  2017-07-01T00:00:00      2   \n",
       "14             1   4400000.0       36.00  2016-06-23T00:00:00      1   \n",
       "15            16   4650000.0       39.00  2017-11-18T00:00:00      1   \n",
       "16            11   6700000.0       82.00  2017-11-23T00:00:00      3   \n",
       "17             6   4180000.0       36.00  2016-09-09T00:00:00      1   \n",
       "18             8   3250000.0       31.00  2017-01-27T00:00:00      1   \n",
       "19            16  14200000.0      121.00  2019-01-09T00:00:00      3   \n",
       "\n",
       "    ceiling_height  floors_total  living_area  floor is_apartment  ...  \\\n",
       "0             2.70          16.0        51.00      8          NaN  ...   \n",
       "1              NaN          11.0        18.60      1          NaN  ...   \n",
       "2              NaN           5.0        34.30      4          NaN  ...   \n",
       "3              NaN          14.0          NaN      9          NaN  ...   \n",
       "4             3.03          14.0        32.00     13          NaN  ...   \n",
       "5              NaN          12.0        14.40      5          NaN  ...   \n",
       "6              NaN          26.0        10.60      6          NaN  ...   \n",
       "7              NaN          24.0          NaN     22          NaN  ...   \n",
       "8              NaN          27.0        15.43     26          NaN  ...   \n",
       "9             2.50           9.0        43.60      7          NaN  ...   \n",
       "10            2.67          12.0        20.30      3          NaN  ...   \n",
       "11             NaN           5.0        31.00      4        False  ...   \n",
       "12             NaN           5.0        30.00      5          NaN  ...   \n",
       "13            2.56           5.0        27.00      5          NaN  ...   \n",
       "14             NaN           6.0        17.00      1          NaN  ...   \n",
       "15             NaN          14.0        20.50      5          NaN  ...   \n",
       "16            3.05           5.0        55.60      1          NaN  ...   \n",
       "17             NaN          17.0        16.50      7          NaN  ...   \n",
       "18            2.50           5.0        19.40      2          NaN  ...   \n",
       "19            2.75          16.0        76.00      8          NaN  ...   \n",
       "\n",
       "    kitchen_area  balcony              locality_name  airports_nearest  \\\n",
       "0          25.00      NaN            Санкт-Петербург           18863.0   \n",
       "1          11.00      2.0             посёлок Шушары           12817.0   \n",
       "2           8.30      0.0            Санкт-Петербург           21741.0   \n",
       "3            NaN      0.0            Санкт-Петербург           28098.0   \n",
       "4          41.00      NaN            Санкт-Петербург           31856.0   \n",
       "5           9.10      NaN  городской посёлок Янино-1               NaN   \n",
       "6          14.40      1.0          посёлок Парголово           52996.0   \n",
       "7          18.90      2.0            Санкт-Петербург           23982.0   \n",
       "8           8.81      NaN             посёлок Мурино               NaN   \n",
       "9           6.50      2.0            Санкт-Петербург           50898.0   \n",
       "10          8.50      NaN            Санкт-Петербург           38357.0   \n",
       "11          6.00      1.0                  Ломоносов           48252.0   \n",
       "12          9.00      0.0                  Сертолово               NaN   \n",
       "13          5.20      1.0                   Петергоф           37868.0   \n",
       "14          8.00      0.0                     Пушкин           20782.0   \n",
       "15          7.60      1.0            Санкт-Петербург           12900.0   \n",
       "16          9.00      NaN            Санкт-Петербург           22108.0   \n",
       "17         11.00      1.0            Санкт-Петербург           33564.0   \n",
       "18          5.60      1.0            Санкт-Петербург           44060.0   \n",
       "19         12.00      NaN            Санкт-Петербург           38900.0   \n",
       "\n",
       "   cityCenters_nearest  parks_around3000  parks_nearest  ponds_around3000  \\\n",
       "0              16028.0               1.0          482.0               2.0   \n",
       "1              18603.0               0.0            NaN               0.0   \n",
       "2              13933.0               1.0           90.0               2.0   \n",
       "3               6800.0               2.0           84.0               3.0   \n",
       "4               8098.0               2.0          112.0               1.0   \n",
       "5                  NaN               NaN            NaN               NaN   \n",
       "6              19143.0               0.0            NaN               0.0   \n",
       "7              11634.0               0.0            NaN               0.0   \n",
       "8                  NaN               NaN            NaN               NaN   \n",
       "9              15008.0               0.0            NaN               0.0   \n",
       "10             13878.0               1.0          310.0               2.0   \n",
       "11             51677.0               0.0            NaN               0.0   \n",
       "12                 NaN               NaN            NaN               NaN   \n",
       "13             33058.0               1.0          294.0               3.0   \n",
       "14             30759.0               0.0            NaN               1.0   \n",
       "15             14259.0               1.0          590.0               1.0   \n",
       "16             10698.0               3.0          420.0               0.0   \n",
       "17             14616.0               0.0            NaN               1.0   \n",
       "18             10842.0               1.0          759.0               0.0   \n",
       "19             12843.0               0.0            NaN               0.0   \n",
       "\n",
       "    ponds_nearest  days_exposition  \n",
       "0           755.0              NaN  \n",
       "1             NaN             81.0  \n",
       "2           574.0            558.0  \n",
       "3           234.0            424.0  \n",
       "4            48.0            121.0  \n",
       "5             NaN             55.0  \n",
       "6             NaN            155.0  \n",
       "7             NaN              NaN  \n",
       "8             NaN            189.0  \n",
       "9             NaN            289.0  \n",
       "10          553.0            137.0  \n",
       "11            NaN              7.0  \n",
       "12            NaN             90.0  \n",
       "13          298.0            366.0  \n",
       "14           96.0            203.0  \n",
       "15          296.0             19.0  \n",
       "16            NaN            397.0  \n",
       "17          859.0            571.0  \n",
       "18            NaN            168.0  \n",
       "19            NaN             97.0  \n",
       "\n",
       "[20 rows x 22 columns]"
      ]
     },
     "execution_count": 2,
     "metadata": {},
     "output_type": "execute_result"
    }
   ],
   "source": [
    "data.head(20)"
   ]
  },
  {
   "cell_type": "markdown",
   "metadata": {},
   "source": [
    "**1.2. Основная информация о датафрейме**"
   ]
  },
  {
   "cell_type": "code",
   "execution_count": 3,
   "metadata": {},
   "outputs": [
    {
     "name": "stdout",
     "output_type": "stream",
     "text": [
      "<class 'pandas.core.frame.DataFrame'>\n",
      "RangeIndex: 23699 entries, 0 to 23698\n",
      "Data columns (total 22 columns):\n",
      " #   Column                Non-Null Count  Dtype  \n",
      "---  ------                --------------  -----  \n",
      " 0   total_images          23699 non-null  int64  \n",
      " 1   last_price            23699 non-null  float64\n",
      " 2   total_area            23699 non-null  float64\n",
      " 3   first_day_exposition  23699 non-null  object \n",
      " 4   rooms                 23699 non-null  int64  \n",
      " 5   ceiling_height        14504 non-null  float64\n",
      " 6   floors_total          23613 non-null  float64\n",
      " 7   living_area           21796 non-null  float64\n",
      " 8   floor                 23699 non-null  int64  \n",
      " 9   is_apartment          2775 non-null   object \n",
      " 10  studio                23699 non-null  bool   \n",
      " 11  open_plan             23699 non-null  bool   \n",
      " 12  kitchen_area          21421 non-null  float64\n",
      " 13  balcony               12180 non-null  float64\n",
      " 14  locality_name         23650 non-null  object \n",
      " 15  airports_nearest      18157 non-null  float64\n",
      " 16  cityCenters_nearest   18180 non-null  float64\n",
      " 17  parks_around3000      18181 non-null  float64\n",
      " 18  parks_nearest         8079 non-null   float64\n",
      " 19  ponds_around3000      18181 non-null  float64\n",
      " 20  ponds_nearest         9110 non-null   float64\n",
      " 21  days_exposition       20518 non-null  float64\n",
      "dtypes: bool(2), float64(14), int64(3), object(3)\n",
      "memory usage: 3.7+ MB\n"
     ]
    }
   ],
   "source": [
    "data.info()"
   ]
  },
  {
   "cell_type": "markdown",
   "metadata": {},
   "source": [
    "**1.3. Построение общей гистограммы для всех столбцов датафрейма**"
   ]
  },
  {
   "cell_type": "code",
   "execution_count": 4,
   "metadata": {
    "scrolled": true
   },
   "outputs": [
    {
     "data": {
      "image/png": "[encoded data removed]",
      "text/plain": [
       "<Figure size 1080x1440 with 20 Axes>"
      ]
     },
     "metadata": {
      "needs_background": "light"
     },
     "output_type": "display_data"
    }
   ],
   "source": [
    "import matplotlib.pyplot as plt\n",
    "data.hist(figsize=(15,20))\n",
    "plt.show()"
   ]
  },
  {
   "cell_type": "markdown",
   "metadata": {},
   "source": [
    "### Предобработка данных"
   ]
  },
  {
   "cell_type": "markdown",
   "metadata": {},
   "source": [
    "**2.1. Исследование и заполнение пропусков в данных**"
   ]
  },
  {
   "cell_type": "code",
   "execution_count": 5,
   "metadata": {},
   "outputs": [
    {
     "data": {
      "text/html": [
       "<style  type=\"text/css\" >\n",
       "#T_7d0b2_row0_col0,#T_7d0b2_row1_col0,#T_7d0b2_row2_col0,#T_7d0b2_row3_col0,#T_7d0b2_row4_col0,#T_7d0b2_row6_col0,#T_7d0b2_row8_col0,#T_7d0b2_row10_col0,#T_7d0b2_row11_col0,#T_7d0b2_row14_col0{\n",
       "            background-color:  #3b4cc0;\n",
       "            color:  #f1f1f1;\n",
       "        }#T_7d0b2_row5_col0{\n",
       "            background-color:  #cdd9ec;\n",
       "            color:  #000000;\n",
       "        }#T_7d0b2_row7_col0{\n",
       "            background-color:  #5673e0;\n",
       "            color:  #000000;\n",
       "        }#T_7d0b2_row9_col0{\n",
       "            background-color:  #b40426;\n",
       "            color:  #f1f1f1;\n",
       "        }#T_7d0b2_row12_col0{\n",
       "            background-color:  #5e7de7;\n",
       "            color:  #000000;\n",
       "        }#T_7d0b2_row13_col0{\n",
       "            background-color:  #ead4c8;\n",
       "            color:  #000000;\n",
       "        }#T_7d0b2_row15_col0,#T_7d0b2_row16_col0,#T_7d0b2_row17_col0,#T_7d0b2_row19_col0{\n",
       "            background-color:  #90b2fe;\n",
       "            color:  #000000;\n",
       "        }#T_7d0b2_row18_col0{\n",
       "            background-color:  #f4987a;\n",
       "            color:  #000000;\n",
       "        }#T_7d0b2_row20_col0{\n",
       "            background-color:  #f7aa8c;\n",
       "            color:  #000000;\n",
       "        }#T_7d0b2_row21_col0{\n",
       "            background-color:  #688aef;\n",
       "            color:  #000000;\n",
       "        }</style><table id=\"T_7d0b2_\" ><thead>    <tr>        <th class=\"blank level0\" ></th>        <th class=\"col_heading level0 col0\" >0</th>    </tr></thead><tbody>\n",
       "                <tr>\n",
       "                        <th id=\"T_7d0b2_level0_row0\" class=\"row_heading level0 row0\" >total_images</th>\n",
       "                        <td id=\"T_7d0b2_row0_col0\" class=\"data row0 col0\" >0.000000</td>\n",
       "            </tr>\n",
       "            <tr>\n",
       "                        <th id=\"T_7d0b2_level0_row1\" class=\"row_heading level0 row1\" >last_price</th>\n",
       "                        <td id=\"T_7d0b2_row1_col0\" class=\"data row1 col0\" >0.000000</td>\n",
       "            </tr>\n",
       "            <tr>\n",
       "                        <th id=\"T_7d0b2_level0_row2\" class=\"row_heading level0 row2\" >total_area</th>\n",
       "                        <td id=\"T_7d0b2_row2_col0\" class=\"data row2 col0\" >0.000000</td>\n",
       "            </tr>\n",
       "            <tr>\n",
       "                        <th id=\"T_7d0b2_level0_row3\" class=\"row_heading level0 row3\" >first_day_exposition</th>\n",
       "                        <td id=\"T_7d0b2_row3_col0\" class=\"data row3 col0\" >0.000000</td>\n",
       "            </tr>\n",
       "            <tr>\n",
       "                        <th id=\"T_7d0b2_level0_row4\" class=\"row_heading level0 row4\" >rooms</th>\n",
       "                        <td id=\"T_7d0b2_row4_col0\" class=\"data row4 col0\" >0.000000</td>\n",
       "            </tr>\n",
       "            <tr>\n",
       "                        <th id=\"T_7d0b2_level0_row5\" class=\"row_heading level0 row5\" >ceiling_height</th>\n",
       "                        <td id=\"T_7d0b2_row5_col0\" class=\"data row5 col0\" >39.000000</td>\n",
       "            </tr>\n",
       "            <tr>\n",
       "                        <th id=\"T_7d0b2_level0_row6\" class=\"row_heading level0 row6\" >floors_total</th>\n",
       "                        <td id=\"T_7d0b2_row6_col0\" class=\"data row6 col0\" >0.000000</td>\n",
       "            </tr>\n",
       "            <tr>\n",
       "                        <th id=\"T_7d0b2_level0_row7\" class=\"row_heading level0 row7\" >living_area</th>\n",
       "                        <td id=\"T_7d0b2_row7_col0\" class=\"data row7 col0\" >8.000000</td>\n",
       "            </tr>\n",
       "            <tr>\n",
       "                        <th id=\"T_7d0b2_level0_row8\" class=\"row_heading level0 row8\" >floor</th>\n",
       "                        <td id=\"T_7d0b2_row8_col0\" class=\"data row8 col0\" >0.000000</td>\n",
       "            </tr>\n",
       "            <tr>\n",
       "                        <th id=\"T_7d0b2_level0_row9\" class=\"row_heading level0 row9\" >is_apartment</th>\n",
       "                        <td id=\"T_7d0b2_row9_col0\" class=\"data row9 col0\" >88.000000</td>\n",
       "            </tr>\n",
       "            <tr>\n",
       "                        <th id=\"T_7d0b2_level0_row10\" class=\"row_heading level0 row10\" >studio</th>\n",
       "                        <td id=\"T_7d0b2_row10_col0\" class=\"data row10 col0\" >0.000000</td>\n",
       "            </tr>\n",
       "            <tr>\n",
       "                        <th id=\"T_7d0b2_level0_row11\" class=\"row_heading level0 row11\" >open_plan</th>\n",
       "                        <td id=\"T_7d0b2_row11_col0\" class=\"data row11 col0\" >0.000000</td>\n",
       "            </tr>\n",
       "            <tr>\n",
       "                        <th id=\"T_7d0b2_level0_row12\" class=\"row_heading level0 row12\" >kitchen_area</th>\n",
       "                        <td id=\"T_7d0b2_row12_col0\" class=\"data row12 col0\" >10.000000</td>\n",
       "            </tr>\n",
       "            <tr>\n",
       "                        <th id=\"T_7d0b2_level0_row13\" class=\"row_heading level0 row13\" >balcony</th>\n",
       "                        <td id=\"T_7d0b2_row13_col0\" class=\"data row13 col0\" >49.000000</td>\n",
       "            </tr>\n",
       "            <tr>\n",
       "                        <th id=\"T_7d0b2_level0_row14\" class=\"row_heading level0 row14\" >locality_name</th>\n",
       "                        <td id=\"T_7d0b2_row14_col0\" class=\"data row14 col0\" >0.000000</td>\n",
       "            </tr>\n",
       "            <tr>\n",
       "                        <th id=\"T_7d0b2_level0_row15\" class=\"row_heading level0 row15\" >airports_nearest</th>\n",
       "                        <td id=\"T_7d0b2_row15_col0\" class=\"data row15 col0\" >23.000000</td>\n",
       "            </tr>\n",
       "            <tr>\n",
       "                        <th id=\"T_7d0b2_level0_row16\" class=\"row_heading level0 row16\" >cityCenters_nearest</th>\n",
       "                        <td id=\"T_7d0b2_row16_col0\" class=\"data row16 col0\" >23.000000</td>\n",
       "            </tr>\n",
       "            <tr>\n",
       "                        <th id=\"T_7d0b2_level0_row17\" class=\"row_heading level0 row17\" >parks_around3000</th>\n",
       "                        <td id=\"T_7d0b2_row17_col0\" class=\"data row17 col0\" >23.000000</td>\n",
       "            </tr>\n",
       "            <tr>\n",
       "                        <th id=\"T_7d0b2_level0_row18\" class=\"row_heading level0 row18\" >parks_nearest</th>\n",
       "                        <td id=\"T_7d0b2_row18_col0\" class=\"data row18 col0\" >66.000000</td>\n",
       "            </tr>\n",
       "            <tr>\n",
       "                        <th id=\"T_7d0b2_level0_row19\" class=\"row_heading level0 row19\" >ponds_around3000</th>\n",
       "                        <td id=\"T_7d0b2_row19_col0\" class=\"data row19 col0\" >23.000000</td>\n",
       "            </tr>\n",
       "            <tr>\n",
       "                        <th id=\"T_7d0b2_level0_row20\" class=\"row_heading level0 row20\" >ponds_nearest</th>\n",
       "                        <td id=\"T_7d0b2_row20_col0\" class=\"data row20 col0\" >62.000000</td>\n",
       "            </tr>\n",
       "            <tr>\n",
       "                        <th id=\"T_7d0b2_level0_row21\" class=\"row_heading level0 row21\" >days_exposition</th>\n",
       "                        <td id=\"T_7d0b2_row21_col0\" class=\"data row21 col0\" >13.000000</td>\n",
       "            </tr>\n",
       "    </tbody></table>"
      ],
      "text/plain": [
       "<pandas.io.formats.style.Styler at 0x7fd133eddaf0>"
      ]
     },
     "execution_count": 5,
     "metadata": {},
     "output_type": "execute_result"
    }
   ],
   "source": [
    "#data.isna().sum() #посчитаем количество пропусков в каждом столбце датафрейма\n",
    "pd.DataFrame(round(data.isna().mean()*100,)).style.background_gradient('coolwarm')"
   ]
  },
  {
   "cell_type": "code",
   "execution_count": 6,
   "metadata": {},
   "outputs": [],
   "source": [
    "#в столбце \"living_area\" 8% пропусков, удалим выявленные пропуски\n",
    "#data = data.dropna(subset=['living_area']) \n",
    "#проверим удалились ли пропуски в столбце \"living_area\"\n",
    "#pd.DataFrame(round(data.isna().mean()*100,)).style.background_gradient('coolwarm')"
   ]
  },
  {
   "cell_type": "markdown",
   "metadata": {},
   "source": [
    "**Вывод**\n",
    "\n",
    "<p></p>\n",
    "\n",
    "<div style=\"border:solid green 2px; padding: 20px\">\n",
    "В 14 столбцах выявлены пропущенные значения. Заменим пропуски в столбце количество балконов `balcony` на значение \"0\".\n",
    "\n",
    "\n",
    "</div>"
   ]
  },
  {
   "cell_type": "code",
   "execution_count": 7,
   "metadata": {},
   "outputs": [],
   "source": [
    "#заменяем все пропуски в столбце количество балконов на значение \"0\"\n",
    "data['balcony'] = data['balcony'].fillna('0').astype('int')\n",
    "#заменим пропуски в days_exposition и заменим тип данных\n",
    "data['days_exposition'] = data['days_exposition'].fillna('0').astype('int')"
   ]
  },
  {
   "cell_type": "markdown",
   "metadata": {},
   "source": [
    "**Вывод**\n",
    "\n",
    "<p></p>\n",
    "\n",
    "<div style=\"border:solid green 2px; padding: 20px\">\n",
    "Причины, которые могли привести к пропускам в исходных данных: человеческий фактор (например при внесении данных, могли случайно нажать пробел, скопировать лишние символы, удалить значения ячеек). \n",
    "<br>   \n",
    "Также могут быть технические причины появления пропусков (например, неудачно написанный код, по которому происходила загрузка данных с сервера). \n",
    "<br>   \n",
    "Также, например, пользователь не указал о себе какие-нибудь сведения или автоматизированная система сбора информации дала сбой. Иногда пропуски оставляют умышленно, рассчитывая на автозаполнение спецсимволами. \n",
    "<br> \n",
    "Также пользователи могут заполнить в анкетах не все данные. \n",
    "\n",
    "</div>"
   ]
  },
  {
   "cell_type": "markdown",
   "metadata": {},
   "source": [
    "**2.2. Изменение типов данных.**"
   ]
  },
  {
   "cell_type": "code",
   "execution_count": 8,
   "metadata": {},
   "outputs": [],
   "source": [
    "# Меняем тип данных в столбце `is_apartment` с object на bool\n",
    "data['is_apartment'] = data['is_apartment'].astype('boolean')"
   ]
  },
  {
   "cell_type": "code",
   "execution_count": 9,
   "metadata": {},
   "outputs": [
    {
     "data": {
      "text/plain": [
       "0       2019-03-07\n",
       "1       2018-12-04\n",
       "2       2015-08-20\n",
       "3       2015-07-24\n",
       "4       2018-06-19\n",
       "           ...    \n",
       "23694   2017-03-21\n",
       "23695   2018-01-15\n",
       "23696   2018-02-11\n",
       "23697   2017-03-28\n",
       "23698   2017-07-21\n",
       "Name: first_day_exposition, Length: 23699, dtype: datetime64[ns]"
      ]
     },
     "metadata": {},
     "output_type": "display_data"
    }
   ],
   "source": [
    "# Меняем тип данных с object в столбце `first_day_exposition` на datetime64[ns] \n",
    "data['first_day_exposition'] = pd.to_datetime(data['first_day_exposition'] , format='%Y-%m-%d')\n",
    "display(data['first_day_exposition'])"
   ]
  },
  {
   "cell_type": "code",
   "execution_count": 10,
   "metadata": {},
   "outputs": [
    {
     "data": {
      "text/plain": [
       "0        16028\n",
       "1        18603\n",
       "2        13933\n",
       "3         6800\n",
       "4         8098\n",
       "         ...  \n",
       "23694     4232\n",
       "23695     <NA>\n",
       "23696     <NA>\n",
       "23697    10364\n",
       "23698     <NA>\n",
       "Name: cityCenters_nearest, Length: 23699, dtype: Int64"
      ]
     },
     "metadata": {},
     "output_type": "display_data"
    }
   ],
   "source": [
    "#Меняем тип данных с float на int в столбце 'cityCenters_nearest'\n",
    "data['cityCenters_nearest'] = data['cityCenters_nearest'].astype('Int64')\n",
    "display(data['cityCenters_nearest'])"
   ]
  },
  {
   "cell_type": "code",
   "execution_count": 11,
   "metadata": {},
   "outputs": [
    {
     "data": {
      "text/plain": [
       "0        13000000\n",
       "1         3350000\n",
       "2         5196000\n",
       "3        64900000\n",
       "4        10000000\n",
       "           ...   \n",
       "23694     9700000\n",
       "23695     3100000\n",
       "23696     2500000\n",
       "23697    11475000\n",
       "23698     1350000\n",
       "Name: last_price, Length: 23699, dtype: Int64"
      ]
     },
     "metadata": {},
     "output_type": "display_data"
    }
   ],
   "source": [
    "#Меняем тип данных с float на int в столбце 'last_price'\n",
    "data['last_price'] = data['last_price'].astype('Int64')\n",
    "display(data['last_price'])"
   ]
  },
  {
   "cell_type": "markdown",
   "metadata": {},
   "source": [
    "**Вывод**\n",
    "\n",
    "<p></p>\n",
    "\n",
    "<div style=\"border:solid green 2px; padding: 20px\">\n",
    "Изменять тип данных необходимо, так как при дальнейшем исследовании может возникнуть необходимость выполнения каких-либо арифметических действий с различными ячейками. А в Pytnon есть определенные правила, при несоблюдении которых возникнут ошибки и код не будет выполняться. Например, при int + flot = код выполнится, при int + str = код выдаст ошибку. Любая операция со значением float дает результат того же типа. \n",
    "<br>\n",
    "Также следует отдельно проверять тип данных в столбцах с датой или временем. Нельзя будет выполнить исследовательские действия, если в столбце с форматом дата будет тип данных object, вместо datetime64[ns]. \n",
    "\n",
    "</div>"
   ]
  },
  {
   "cell_type": "code",
   "execution_count": 12,
   "metadata": {},
   "outputs": [],
   "source": [
    "# for locality_name in data['locality_name'].unique():\n",
    "#     median = data.loc[data['locality_name'] == locality_name,'cityCenters_nearest'].median()\n",
    "#     data.loc[(data['cityCenters_nearest'].isna()) & (data['locality_name'] == locality_name), 'cityCenters_nearest'] = median\n",
    "# data.loc[data['cityCenters_nearest'].isna(), 'cityCenters_nearest'] = data['cityCenters_nearest'].median()    "
   ]
  },
  {
   "cell_type": "code",
   "execution_count": 13,
   "metadata": {},
   "outputs": [],
   "source": [
    "# for locality_name in data['locality_name'].unique():\n",
    "#     median = data.loc[data['locality_name'] == locality_name,'ceiling_height'].median()\n",
    "#     data.loc[(data['ceiling_height'].isna()) & (data['locality_name'] == locality_name), 'ceiling_height'] = median\n",
    "# data.loc[data['ceiling_height'].isna(), 'ceiling_height'] = data['ceiling_height'].median()    "
   ]
  },
  {
   "cell_type": "markdown",
   "metadata": {},
   "source": [
    "**2.3. Обработка явных дубликатов.**"
   ]
  },
  {
   "cell_type": "code",
   "execution_count": 14,
   "metadata": {},
   "outputs": [
    {
     "data": {
      "text/plain": [
       "0"
      ]
     },
     "execution_count": 14,
     "metadata": {},
     "output_type": "execute_result"
    }
   ],
   "source": [
    "#посчитаем явные дубликаты \n",
    "data.duplicated().sum()"
   ]
  },
  {
   "cell_type": "markdown",
   "metadata": {},
   "source": [
    "**2.4. Обработка неявных дубликатов.**"
   ]
  },
  {
   "cell_type": "code",
   "execution_count": 56,
   "metadata": {},
   "outputs": [
    {
     "data": {
      "text/plain": [
       "23381"
      ]
     },
     "execution_count": 56,
     "metadata": {},
     "output_type": "execute_result"
    }
   ],
   "source": [
    "# считаем количество строк-дубликатов в данных locality_name - название населенного пункта\n",
    "data['locality_name'].duplicated().sum()"
   ]
  },
  {
   "cell_type": "code",
   "execution_count": 16,
   "metadata": {
    "scrolled": false
   },
   "outputs": [
    {
     "data": {
      "text/plain": [
       "array(['Санкт-Петербург', 'посёлок Шушары', 'городской посёлок Янино-1',\n",
       "       'посёлок Парголово', 'посёлок Мурино', 'Ломоносов', 'Сертолово',\n",
       "       'Петергоф', 'Пушкин', 'деревня Кудрово', 'Коммунар', 'Колпино',\n",
       "       'поселок городского типа Красный Бор', 'Гатчина', 'поселок Мурино',\n",
       "       'деревня Фёдоровское', 'Выборг', 'Кронштадт', 'Кировск',\n",
       "       'деревня Новое Девяткино', 'посёлок Металлострой',\n",
       "       'посёлок городского типа Лебяжье',\n",
       "       'посёлок городского типа Сиверский', 'поселок Молодцово',\n",
       "       'поселок городского типа Кузьмоловский',\n",
       "       'садовое товарищество Новая Ропша', 'Павловск',\n",
       "       'деревня Пикколово', 'Всеволожск', 'Волхов', 'Кингисепп',\n",
       "       'Приозерск', 'Сестрорецк', 'деревня Куттузи', 'посёлок Аннино',\n",
       "       'поселок городского типа Ефимовский', 'посёлок Плодовое',\n",
       "       'деревня Заклинье', 'поселок Торковичи', 'поселок Первомайское',\n",
       "       'Красное Село', 'посёлок Понтонный', 'Сясьстрой', 'деревня Старая',\n",
       "       'деревня Лесколово', 'посёлок Новый Свет', 'Сланцы',\n",
       "       'село Путилово', 'Ивангород', 'Мурино', 'Шлиссельбург',\n",
       "       'Никольское', 'Зеленогорск', 'Сосновый Бор', 'поселок Новый Свет',\n",
       "       'деревня Оржицы', 'деревня Кальтино', 'Кудрово',\n",
       "       'поселок Романовка', 'посёлок Бугры', 'поселок Бугры',\n",
       "       'поселок городского типа Рощино', 'Кириши', 'Луга', 'Волосово',\n",
       "       'Отрадное', 'село Павлово', 'поселок Оредеж', 'село Копорье',\n",
       "       'посёлок городского типа Красный Бор', 'посёлок Молодёжное',\n",
       "       'Тихвин', 'посёлок Победа', 'деревня Нурма',\n",
       "       'поселок городского типа Синявино', 'Тосно',\n",
       "       'посёлок городского типа Кузьмоловский', 'посёлок Стрельна',\n",
       "       'Бокситогорск', 'посёлок Александровская', 'деревня Лопухинка',\n",
       "       'Пикалёво', 'поселок Терволово',\n",
       "       'поселок городского типа Советский', 'Подпорожье',\n",
       "       'посёлок Петровское', 'посёлок городского типа Токсово',\n",
       "       'поселок Сельцо', 'посёлок городского типа Вырица',\n",
       "       'деревня Кипень', 'деревня Келози', 'деревня Вартемяги',\n",
       "       'посёлок Тельмана', 'поселок Севастьяново',\n",
       "       'городской поселок Большая Ижора', nan,\n",
       "       'городской посёлок Павлово', 'деревня Агалатово',\n",
       "       'посёлок Новогорелово', 'городской посёлок Лесогорский',\n",
       "       'деревня Лаголово', 'поселок Цвелодубово',\n",
       "       'поселок городского типа Рахья', 'поселок городского типа Вырица',\n",
       "       'деревня Белогорка', 'поселок Заводской',\n",
       "       'городской посёлок Новоселье', 'деревня Большие Колпаны',\n",
       "       'деревня Горбунки', 'деревня Батово', 'деревня Заневка',\n",
       "       'деревня Иссад', 'Приморск', 'городской посёлок Фёдоровское',\n",
       "       'деревня Мистолово', 'Новая Ладога', 'поселок Зимитицы',\n",
       "       'поселок Барышево', 'деревня Разметелево',\n",
       "       'поселок городского типа имени Свердлова', 'деревня Пеники',\n",
       "       'поселок Рябово', 'деревня Пудомяги', 'поселок станции Корнево',\n",
       "       'деревня Низино', 'деревня Бегуницы', 'посёлок Поляны',\n",
       "       'городской посёлок Мга', 'поселок Елизаветино',\n",
       "       'посёлок городского типа Кузнечное', 'деревня Колтуши',\n",
       "       'поселок Запорожское', 'посёлок городского типа Рощино',\n",
       "       'деревня Гостилицы', 'деревня Малое Карлино',\n",
       "       'посёлок Мичуринское', 'посёлок городского типа имени Морозова',\n",
       "       'посёлок Песочный', 'посёлок Сосново', 'деревня Аро',\n",
       "       'поселок Ильичёво', 'посёлок городского типа Тайцы',\n",
       "       'деревня Малое Верево', 'деревня Извара', 'поселок станции Вещево',\n",
       "       'село Паша', 'деревня Калитино',\n",
       "       'посёлок городского типа Ульяновка', 'деревня Чудской Бор',\n",
       "       'поселок городского типа Дубровка', 'деревня Мины',\n",
       "       'поселок Войсковицы', 'посёлок городского типа имени Свердлова',\n",
       "       'деревня Коркино', 'посёлок Ропша',\n",
       "       'поселок городского типа Приладожский', 'посёлок Щеглово',\n",
       "       'посёлок Гаврилово', 'Лодейное Поле', 'деревня Рабитицы',\n",
       "       'поселок городского типа Никольский', 'деревня Кузьмолово',\n",
       "       'деревня Малые Колпаны', 'поселок Тельмана',\n",
       "       'посёлок Петро-Славянка', 'городской посёлок Назия',\n",
       "       'посёлок Репино', 'посёлок Ильичёво', 'поселок Углово',\n",
       "       'поселок Старая Малукса', 'садовое товарищество Рахья',\n",
       "       'поселок Аннино', 'поселок Победа', 'деревня Меньково',\n",
       "       'деревня Старые Бегуницы', 'посёлок Сапёрный', 'поселок Семрино',\n",
       "       'поселок Гаврилово', 'поселок Глажево', 'поселок Кобринское',\n",
       "       'деревня Гарболово', 'деревня Юкки',\n",
       "       'поселок станции Приветнинское', 'деревня Мануйлово',\n",
       "       'деревня Пчева', 'поселок Поляны', 'поселок Цвылёво',\n",
       "       'поселок Мельниково', 'посёлок Пудость', 'посёлок Усть-Луга',\n",
       "       'Светогорск', 'Любань', 'поселок Селезнёво',\n",
       "       'поселок городского типа Рябово', 'Каменногорск', 'деревня Кривко',\n",
       "       'поселок Глебычево', 'деревня Парицы', 'поселок Жилпосёлок',\n",
       "       'посёлок городского типа Мга', 'городской поселок Янино-1',\n",
       "       'посёлок Войскорово', 'село Никольское', 'посёлок Терволово',\n",
       "       'поселок Стеклянный', 'посёлок городского типа Важины',\n",
       "       'посёлок Мыза-Ивановка', 'село Русско-Высоцкое',\n",
       "       'поселок городского типа Лебяжье',\n",
       "       'поселок городского типа Форносово', 'село Старая Ладога',\n",
       "       'поселок Житково', 'городской посёлок Виллози', 'деревня Лампово',\n",
       "       'деревня Шпаньково', 'деревня Лаврики', 'посёлок Сумино',\n",
       "       'посёлок Возрождение', 'деревня Старосиверская',\n",
       "       'посёлок Кикерино', 'поселок Возрождение',\n",
       "       'деревня Старое Хинколово', 'посёлок Пригородный',\n",
       "       'посёлок Торфяное', 'городской посёлок Будогощь',\n",
       "       'поселок Суходолье', 'поселок Красная Долина', 'деревня Хапо-Ое',\n",
       "       'поселок городского типа Дружная Горка', 'поселок Лисий Нос',\n",
       "       'деревня Яльгелево', 'посёлок Стеклянный', 'село Рождествено',\n",
       "       'деревня Старополье', 'посёлок Левашово', 'деревня Сяськелево',\n",
       "       'деревня Камышовка',\n",
       "       'садоводческое некоммерческое товарищество Лесная Поляна',\n",
       "       'деревня Хязельки', 'поселок Жилгородок',\n",
       "       'посёлок городского типа Павлово', 'деревня Ялгино',\n",
       "       'поселок Новый Учхоз', 'городской посёлок Рощино',\n",
       "       'поселок Гончарово', 'поселок Почап', 'посёлок Сапёрное',\n",
       "       'посёлок Платформа 69-й километр', 'поселок Каложицы',\n",
       "       'деревня Фалилеево', 'деревня Пельгора',\n",
       "       'поселок городского типа Лесогорский', 'деревня Торошковичи',\n",
       "       'посёлок Белоостров', 'посёлок Алексеевка', 'поселок Серебрянский',\n",
       "       'поселок Лукаши', 'поселок Петровское', 'деревня Щеглово',\n",
       "       'поселок Мичуринское', 'деревня Тарасово', 'поселок Кингисеппский',\n",
       "       'посёлок при железнодорожной станции Вещево', 'поселок Ушаки',\n",
       "       'деревня Котлы', 'деревня Сижно', 'деревня Торосово',\n",
       "       'посёлок Форт Красная Горка', 'поселок городского типа Токсово',\n",
       "       'деревня Новолисино', 'посёлок станции Громово', 'деревня Глинка',\n",
       "       'посёлок Мельниково', 'поселок городского типа Назия',\n",
       "       'деревня Старая Пустошь', 'поселок Коммунары', 'поселок Починок',\n",
       "       'посёлок городского типа Вознесенье', 'деревня Разбегаево',\n",
       "       'посёлок городского типа Рябово', 'поселок Гладкое',\n",
       "       'посёлок при железнодорожной станции Приветнинское',\n",
       "       'поселок Тёсово-4', 'посёлок Жилгородок', 'деревня Бор',\n",
       "       'посёлок Коробицыно', 'деревня Большая Вруда', 'деревня Курковицы',\n",
       "       'посёлок Лисий Нос', 'городской посёлок Советский',\n",
       "       'посёлок Кобралово', 'деревня Суоранда', 'поселок Кобралово',\n",
       "       'поселок городского типа Кондратьево',\n",
       "       'коттеджный поселок Счастье', 'поселок Любань', 'деревня Реброво',\n",
       "       'деревня Зимитицы', 'деревня Тойворово', 'поселок Семиозерье',\n",
       "       'поселок Лесное', 'поселок Совхозный', 'поселок Усть-Луга',\n",
       "       'посёлок Ленинское', 'посёлок Суйда',\n",
       "       'посёлок городского типа Форносово', 'деревня Нижние Осельки',\n",
       "       'посёлок станции Свирь', 'поселок Перово', 'Высоцк',\n",
       "       'поселок Гарболово', 'село Шум', 'поселок Котельский',\n",
       "       'поселок станции Лужайка', 'деревня Большая Пустомержа',\n",
       "       'поселок Красносельское', 'деревня Вахнова Кара', 'деревня Пижма',\n",
       "       'коттеджный поселок Кивеннапа Север', 'поселок Коробицыно',\n",
       "       'поселок Ромашки', 'посёлок Перово', 'деревня Каськово',\n",
       "       'деревня Куровицы', 'посёлок Плоское', 'поселок Сумино',\n",
       "       'поселок городского типа Большая Ижора', 'поселок Кирпичное',\n",
       "       'деревня Ям-Тесово', 'деревня Раздолье', 'деревня Терпилицы',\n",
       "       'посёлок Шугозеро', 'деревня Ваганово', 'поселок Пушное',\n",
       "       'садовое товарищество Садко', 'посёлок Усть-Ижора',\n",
       "       'деревня Выскатка', 'городской посёлок Свирьстрой',\n",
       "       'поселок Громово', 'деревня Кисельня', 'посёлок Старая Малукса',\n",
       "       'деревня Трубников Бор', 'поселок Калитино',\n",
       "       'посёлок Высокоключевой', 'садовое товарищество Приладожский',\n",
       "       'посёлок Пансионат Зелёный Бор', 'деревня Ненимяки',\n",
       "       'поселок Пансионат Зелёный Бор', 'деревня Снегирёвка',\n",
       "       'деревня Рапполово', 'деревня Пустынка', 'поселок Рабитицы',\n",
       "       'деревня Большой Сабск', 'деревня Русско', 'деревня Лупполово',\n",
       "       'деревня Большое Рейзино', 'деревня Малая Романовка',\n",
       "       'поселок Дружноселье', 'поселок Пчевжа', 'поселок Володарское',\n",
       "       'деревня Нижняя', 'коттеджный посёлок Лесное', 'деревня Тихковицы',\n",
       "       'деревня Борисова Грива', 'посёлок Дзержинского'], dtype=object)"
      ]
     },
     "execution_count": 16,
     "metadata": {},
     "output_type": "execute_result"
    }
   ],
   "source": [
    "#выведем уникальные значения по столбцу название населенного пункта\n",
    "data['locality_name'].unique() "
   ]
  },
  {
   "cell_type": "code",
   "execution_count": 17,
   "metadata": {},
   "outputs": [
    {
     "data": {
      "text/plain": [
       "array(['Санкт-Петербург', 'посёлок Шушары', 'городской посёлок Янино-1',\n",
       "       'посёлок Парголово', 'посёлок Мурино', 'Ломоносов', 'Сертолово',\n",
       "       'Петергоф', 'Пушкин', 'Кудрово', 'Коммунар', 'Колпино',\n",
       "       'посёлок городского типа Красный Бор', 'Гатчина',\n",
       "       'деревня Фёдоровское', 'Выборг', 'Кронштадт', 'Кировск',\n",
       "       'деревня Новое Девяткино', 'посёлок Металлострой',\n",
       "       'посёлок городского типа Лебяжье',\n",
       "       'посёлок городского типа Сиверский', 'посёлок Молодцово',\n",
       "       'посёлок городского типа Кузьмоловский',\n",
       "       'садовое товарищество Новая Ропша', 'Павловск',\n",
       "       'деревня Пикколово', 'Всеволожск', 'Волхов', 'Кингисепп',\n",
       "       'Приозерск', 'Сестрорецк', 'деревня Куттузи', 'посёлок Аннино',\n",
       "       'посёлок городского типа Ефимовский', 'посёлок Плодовое',\n",
       "       'деревня Заклинье', 'посёлок Торковичи', 'посёлок Первомайское',\n",
       "       'Красное Село', 'посёлок Понтонный', 'Сясьстрой', 'деревня Старая',\n",
       "       'деревня Лесколово', 'посёлок Новый Свет', 'Сланцы',\n",
       "       'село Путилово', 'Ивангород', 'Шлиссельбург', 'село Никольское',\n",
       "       'Зеленогорск', 'Сосновый Бор', 'деревня Оржицы',\n",
       "       'деревня Кальтино', 'посёлок Романовка', 'посёлок Бугры',\n",
       "       'посёлок городского типа Рощино', 'Кириши', 'Луга', 'Волосово',\n",
       "       'Отрадное', 'село Павлово', 'посёлок Оредеж', 'село Копорье',\n",
       "       'посёлок Молодёжное', 'Тихвин', 'посёлок Победа', 'деревня Нурма',\n",
       "       'посёлок городского типа Синявино', 'Тосно', 'посёлок Стрельна',\n",
       "       'Бокситогорск', 'посёлок Александровская', 'деревня Лопухинка',\n",
       "       'Пикалёво', 'посёлок Терволово',\n",
       "       'посёлок городского типа Советский', 'Подпорожье',\n",
       "       'посёлок Петровское', 'посёлок городского типа Токсово',\n",
       "       'посёлок Сельцо', 'посёлок городского типа Вырица',\n",
       "       'деревня Кипень', 'деревня Келози', 'деревня Вартемяги',\n",
       "       'посёлок Тельмана', 'посёлок Севастьяново',\n",
       "       'посёлок городского типа Большая Ижора', nan,\n",
       "       'посёлок городского типа Павлово', 'деревня Агалатово',\n",
       "       'посёлок Новогорелово', 'посёлок городского типа Лесогорский',\n",
       "       'деревня Лаголово', 'посёлок Цвелодубово',\n",
       "       'посёлок городского типа Рахья', 'деревня Белогорка',\n",
       "       'посёлок Заводской', 'городской посёлок Новоселье',\n",
       "       'деревня Большие Колпаны', 'деревня Горбунки', 'деревня Батово',\n",
       "       'деревня Заневка', 'деревня Иссад', 'Приморск',\n",
       "       'городской посёлок Фёдоровское', 'деревня Мистолово',\n",
       "       'Новая Ладога', 'посёлок Зимитицы', 'посёлок Барышево',\n",
       "       'деревня Разметелево', 'посёлок городского типа имени Свердлова',\n",
       "       'деревня Пеники', 'посёлок городского типа Рябово',\n",
       "       'деревня Пудомяги', 'посёлок станции Корнево', 'деревня Низино',\n",
       "       'деревня Бегуницы', 'посёлок Поляны',\n",
       "       'посёлок городского типа Мга', 'посёлок Елизаветино',\n",
       "       'посёлок городского типа Кузнечное', 'деревня Колтуши',\n",
       "       'посёлок Запорожское', 'деревня Гостилицы',\n",
       "       'деревня Малое Карлино', 'посёлок Мичуринское',\n",
       "       'посёлок городского типа имени Морозова', 'посёлок Песочный',\n",
       "       'посёлок Сосново', 'деревня Аро', 'посёлок Ильичёво',\n",
       "       'посёлок городского типа Тайцы', 'деревня Малое Верево',\n",
       "       'деревня Извара', 'посёлок станции Вещево', 'село Паша',\n",
       "       'деревня Калитино', 'посёлок городского типа Ульяновка',\n",
       "       'деревня Чудской Бор', 'посёлок городского типа Дубровка',\n",
       "       'деревня Мины', 'посёлок Войсковицы', 'деревня Коркино',\n",
       "       'посёлок Ропша', 'посёлок городского типа Приладожский',\n",
       "       'посёлок Щеглово', 'посёлок Гаврилово', 'Лодейное Поле',\n",
       "       'деревня Рабитицы', 'посёлок городского типа Никольский',\n",
       "       'деревня Кузьмолово', 'деревня Малые Колпаны',\n",
       "       'посёлок Петро-Славянка', 'посёлок городского типа Назия',\n",
       "       'посёлок Репино', 'посёлок Углово', 'посёлок Старая Малукса',\n",
       "       'садовое товарищество Рахья', 'деревня Меньково',\n",
       "       'деревня Старые Бегуницы', 'посёлок Сапёрный', 'посёлок Семрино',\n",
       "       'посёлок Глажево', 'посёлок Кобринское', 'деревня Гарболово',\n",
       "       'деревня Юкки', 'посёлок станции Приветнинское',\n",
       "       'деревня Мануйлово', 'деревня Пчева', 'посёлок Цвылёво',\n",
       "       'посёлок Мельниково', 'посёлок Пудость', 'посёлок Усть-Луга',\n",
       "       'Светогорск', 'посёлок Любань', 'посёлок Селезнёво',\n",
       "       'Каменногорск', 'деревня Кривко', 'посёлок Глебычево',\n",
       "       'деревня Парицы', 'посёлок Жилпосёлок', 'посёлок Войскорово',\n",
       "       'посёлок Стеклянный', 'посёлок городского типа Важины',\n",
       "       'посёлок Мыза-Ивановка', 'село Русско-Высоцкое',\n",
       "       'посёлок городского типа Форносово', 'село Старая Ладога',\n",
       "       'посёлок Житково', 'городской посёлок Виллози', 'деревня Лампово',\n",
       "       'деревня Шпаньково', 'деревня Лаврики', 'посёлок Сумино',\n",
       "       'посёлок Возрождение', 'деревня Старосиверская',\n",
       "       'посёлок Кикерино', 'деревня Старое Хинколово',\n",
       "       'посёлок Пригородный', 'посёлок Торфяное',\n",
       "       'городской посёлок Будогощь', 'посёлок Суходолье',\n",
       "       'посёлок Красная Долина', 'деревня Хапо-Ое',\n",
       "       'посёлок городского типа Дружная Горка', 'посёлок Лисий Нос',\n",
       "       'деревня Яльгелево', 'село Рождествено', 'деревня Старополье',\n",
       "       'посёлок Левашово', 'деревня Сяськелево', 'деревня Камышовка',\n",
       "       'садоводческое некоммерческое товарищество Лесная Поляна',\n",
       "       'деревня Хязельки', 'посёлок Жилгородок', 'деревня Ялгино',\n",
       "       'посёлок Новый Учхоз', 'посёлок Гончарово', 'посёлок Почап',\n",
       "       'посёлок Сапёрное', 'посёлок Платформа 69-й километр',\n",
       "       'посёлок Каложицы', 'деревня Фалилеево', 'деревня Пельгора',\n",
       "       'деревня Торошковичи', 'посёлок Белоостров', 'посёлок Алексеевка',\n",
       "       'посёлок Серебрянский', 'посёлок Лукаши', 'деревня Щеглово',\n",
       "       'деревня Тарасово', 'посёлок Кингисеппский',\n",
       "       'посёлок при железнодорожной станции Вещево', 'посёлок Ушаки',\n",
       "       'деревня Котлы', 'деревня Сижно', 'деревня Торосово',\n",
       "       'посёлок Форт Красная Горка', 'деревня Новолисино',\n",
       "       'посёлок станции Громово', 'деревня Глинка',\n",
       "       'деревня Старая Пустошь', 'посёлок Коммунары', 'посёлок Починок',\n",
       "       'посёлок городского типа Вознесенье', 'деревня Разбегаево',\n",
       "       'посёлок Гладкое',\n",
       "       'посёлок при железнодорожной станции Приветнинское',\n",
       "       'посёлок Тёсово-4', 'деревня Бор', 'посёлок Коробицыно',\n",
       "       'деревня Большая Вруда', 'деревня Курковицы', 'посёлок Кобралово',\n",
       "       'деревня Суоранда', 'посёлок городского типа Кондратьево',\n",
       "       'коттеджный посёлок Счастье', 'деревня Реброво',\n",
       "       'деревня Зимитицы', 'деревня Тойворово', 'посёлок Семиозерье',\n",
       "       'посёлок Лесное', 'посёлок Совхозный', 'посёлок Ленинское',\n",
       "       'посёлок Суйда', 'деревня Нижние Осельки', 'посёлок станции Свирь',\n",
       "       'посёлок Перово', 'Высоцк', 'посёлок Гарболово', 'село Шум',\n",
       "       'посёлок Котельский', 'посёлок станции Лужайка',\n",
       "       'деревня Большая Пустомержа', 'посёлок Красносельское',\n",
       "       'деревня Вахнова Кара', 'деревня Пижма',\n",
       "       'коттеджный посёлок Кивеннапа Север', 'посёлок Ромашки',\n",
       "       'деревня Каськово', 'деревня Куровицы', 'посёлок Плоское',\n",
       "       'посёлок Кирпичное', 'деревня Ям-Тесово', 'деревня Раздолье',\n",
       "       'деревня Терпилицы', 'посёлок Шугозеро', 'деревня Ваганово',\n",
       "       'посёлок Пушное', 'садовое товарищество Садко',\n",
       "       'посёлок Усть-Ижора', 'деревня Выскатка',\n",
       "       'городской посёлок Свирьстрой', 'посёлок Громово',\n",
       "       'деревня Кисельня', 'деревня Трубников Бор', 'посёлок Калитино',\n",
       "       'посёлок Высокоключевой', 'садовое товарищество Приладожский',\n",
       "       'посёлок Пансионат Зелёный Бор', 'деревня Ненимяки',\n",
       "       'деревня Снегирёвка', 'деревня Рапполово', 'деревня Пустынка',\n",
       "       'посёлок Рабитицы', 'деревня Большой Сабск', 'деревня Русско',\n",
       "       'деревня Лупполово', 'деревня Большое Рейзино',\n",
       "       'деревня Малая Романовка', 'посёлок Дружноселье', 'посёлок Пчевжа',\n",
       "       'посёлок Володарское', 'деревня Нижняя', 'деревня Тихковицы',\n",
       "       'деревня Борисова Грива', 'посёлок Дзержинского'], dtype=object)"
      ]
     },
     "execution_count": 17,
     "metadata": {},
     "output_type": "execute_result"
    }
   ],
   "source": [
    "# меняем часть строки с поселками\n",
    "data['locality_name'] = data['locality_name'].str.replace('поселок','посёлок')\n",
    "# меняем все населенные пункты с дубликатами\n",
    "data['locality_name'] = data['locality_name'].replace({'Никольское': 'село Никольское', 'городской посёлок Советский': 'посёлок городского типа Советский', 'городской посёлок Большая Ижора': 'посёлок городского типа Большая Ижора', 'городской посёлок Лесогорский': 'посёлок городского типа Лесогорский', 'посёлок Рябово': 'посёлок городского типа Рябово', 'городской посёлок Мга': 'посёлок городского типа Мга', 'городской посёлок Павлово': 'посёлок городского типа Павлово', 'городской посёлок Назия': 'посёлок городского типа Назия', 'коттеджный посёлок Лесное': 'посёлок Лесное', 'Мурино': 'посёлок Мурино', 'Любань': 'посёлок Любань', 'городской посёлок Рощино': 'посёлок городского типа Рощино', 'деревня Кудрово': 'Кудрово'})\n",
    "data['locality_name'].unique()"
   ]
  },
  {
   "cell_type": "markdown",
   "metadata": {},
   "source": [
    "**2.5. Обработка и удаление аномалий(редких значений)**"
   ]
  },
  {
   "cell_type": "code",
   "execution_count": 18,
   "metadata": {},
   "outputs": [
    {
     "data": {
      "text/plain": [
       "(0.0, 35.0)"
      ]
     },
     "execution_count": 18,
     "metadata": {},
     "output_type": "execute_result"
    },
    {
     "data": {
      "image/png": "[encoded data removed]",
      "text/plain": [
       "<Figure size 432x288 with 1 Axes>"
      ]
     },
     "metadata": {
      "needs_background": "light"
     },
     "output_type": "display_data"
    }
   ],
   "source": [
    "data.boxplot('ceiling_height')\n",
    "plt.ylim(0, 35)"
   ]
  },
  {
   "cell_type": "code",
   "execution_count": 19,
   "metadata": {},
   "outputs": [
    {
     "name": "stdout",
     "output_type": "stream",
     "text": [
      "1.0\n",
      "10.0\n"
     ]
    }
   ],
   "source": [
    "data['ceiling_height'] = data['ceiling_height'].apply(lambda x: x/10  if x>10 else x)\n",
    "print(data['ceiling_height'].min())\n",
    "print(data['ceiling_height'].max())"
   ]
  },
  {
   "cell_type": "markdown",
   "metadata": {},
   "source": [
    "**Вывод**\n",
    "\n",
    "<p></p>\n",
    "\n",
    "<div style=\"border:solid green 2px; padding: 20px\">\n",
    "В столбце 'ceiling_height' - высота потолков, были обнаружены аномальные данные (25 м или 35 м). Аномалии были обработаны и переведены из целочисленных значений в вещественные. Минимальная высота потолка составила 1 м, максимальная высота 10 м. \n",
    "\n",
    "</div>"
   ]
  },
  {
   "cell_type": "code",
   "execution_count": 20,
   "metadata": {},
   "outputs": [
    {
     "data": {
      "text/plain": [
       "(0.0, 100.0)"
      ]
     },
     "execution_count": 20,
     "metadata": {},
     "output_type": "execute_result"
    },
    {
     "data": {
      "image/png": "[encoded data removed]",
      "text/plain": [
       "<Figure size 432x288 with 1 Axes>"
      ]
     },
     "metadata": {
      "needs_background": "light"
     },
     "output_type": "display_data"
    }
   ],
   "source": [
    "data.boxplot('floors_total')\n",
    "plt.ylim(0, 100)"
   ]
  },
  {
   "cell_type": "code",
   "execution_count": 21,
   "metadata": {
    "scrolled": true
   },
   "outputs": [
    {
     "data": {
      "text/html": [
       "<div>\n",
       "<style scoped>\n",
       "    .dataframe tbody tr th:only-of-type {\n",
       "        vertical-align: middle;\n",
       "    }\n",
       "\n",
       "    .dataframe tbody tr th {\n",
       "        vertical-align: top;\n",
       "    }\n",
       "\n",
       "    .dataframe thead th {\n",
       "        text-align: right;\n",
       "    }\n",
       "</style>\n",
       "<table border=\"1\" class=\"dataframe\">\n",
       "  <thead>\n",
       "    <tr style=\"text-align: right;\">\n",
       "      <th></th>\n",
       "      <th>total_images</th>\n",
       "      <th>last_price</th>\n",
       "      <th>total_area</th>\n",
       "      <th>first_day_exposition</th>\n",
       "      <th>rooms</th>\n",
       "      <th>ceiling_height</th>\n",
       "      <th>floors_total</th>\n",
       "      <th>living_area</th>\n",
       "      <th>floor</th>\n",
       "      <th>is_apartment</th>\n",
       "      <th>...</th>\n",
       "      <th>kitchen_area</th>\n",
       "      <th>balcony</th>\n",
       "      <th>locality_name</th>\n",
       "      <th>airports_nearest</th>\n",
       "      <th>cityCenters_nearest</th>\n",
       "      <th>parks_around3000</th>\n",
       "      <th>parks_nearest</th>\n",
       "      <th>ponds_around3000</th>\n",
       "      <th>ponds_nearest</th>\n",
       "      <th>days_exposition</th>\n",
       "    </tr>\n",
       "  </thead>\n",
       "  <tbody>\n",
       "    <tr>\n",
       "      <th>0</th>\n",
       "      <td>20</td>\n",
       "      <td>13000000</td>\n",
       "      <td>108.00</td>\n",
       "      <td>2019-03-07</td>\n",
       "      <td>3</td>\n",
       "      <td>2.70</td>\n",
       "      <td>16.0</td>\n",
       "      <td>51.0</td>\n",
       "      <td>8</td>\n",
       "      <td>&lt;NA&gt;</td>\n",
       "      <td>...</td>\n",
       "      <td>25.00</td>\n",
       "      <td>0</td>\n",
       "      <td>Санкт-Петербург</td>\n",
       "      <td>18863.0</td>\n",
       "      <td>16028</td>\n",
       "      <td>1.0</td>\n",
       "      <td>482.0</td>\n",
       "      <td>2.0</td>\n",
       "      <td>755.0</td>\n",
       "      <td>0</td>\n",
       "    </tr>\n",
       "    <tr>\n",
       "      <th>1</th>\n",
       "      <td>7</td>\n",
       "      <td>3350000</td>\n",
       "      <td>40.40</td>\n",
       "      <td>2018-12-04</td>\n",
       "      <td>1</td>\n",
       "      <td>NaN</td>\n",
       "      <td>11.0</td>\n",
       "      <td>18.6</td>\n",
       "      <td>1</td>\n",
       "      <td>&lt;NA&gt;</td>\n",
       "      <td>...</td>\n",
       "      <td>11.00</td>\n",
       "      <td>2</td>\n",
       "      <td>посёлок Шушары</td>\n",
       "      <td>12817.0</td>\n",
       "      <td>18603</td>\n",
       "      <td>0.0</td>\n",
       "      <td>NaN</td>\n",
       "      <td>0.0</td>\n",
       "      <td>NaN</td>\n",
       "      <td>81</td>\n",
       "    </tr>\n",
       "    <tr>\n",
       "      <th>2</th>\n",
       "      <td>10</td>\n",
       "      <td>5196000</td>\n",
       "      <td>56.00</td>\n",
       "      <td>2015-08-20</td>\n",
       "      <td>2</td>\n",
       "      <td>NaN</td>\n",
       "      <td>5.0</td>\n",
       "      <td>34.3</td>\n",
       "      <td>4</td>\n",
       "      <td>&lt;NA&gt;</td>\n",
       "      <td>...</td>\n",
       "      <td>8.30</td>\n",
       "      <td>0</td>\n",
       "      <td>Санкт-Петербург</td>\n",
       "      <td>21741.0</td>\n",
       "      <td>13933</td>\n",
       "      <td>1.0</td>\n",
       "      <td>90.0</td>\n",
       "      <td>2.0</td>\n",
       "      <td>574.0</td>\n",
       "      <td>558</td>\n",
       "    </tr>\n",
       "    <tr>\n",
       "      <th>3</th>\n",
       "      <td>0</td>\n",
       "      <td>64900000</td>\n",
       "      <td>159.00</td>\n",
       "      <td>2015-07-24</td>\n",
       "      <td>3</td>\n",
       "      <td>NaN</td>\n",
       "      <td>14.0</td>\n",
       "      <td>NaN</td>\n",
       "      <td>9</td>\n",
       "      <td>&lt;NA&gt;</td>\n",
       "      <td>...</td>\n",
       "      <td>NaN</td>\n",
       "      <td>0</td>\n",
       "      <td>Санкт-Петербург</td>\n",
       "      <td>28098.0</td>\n",
       "      <td>6800</td>\n",
       "      <td>2.0</td>\n",
       "      <td>84.0</td>\n",
       "      <td>3.0</td>\n",
       "      <td>234.0</td>\n",
       "      <td>424</td>\n",
       "    </tr>\n",
       "    <tr>\n",
       "      <th>4</th>\n",
       "      <td>2</td>\n",
       "      <td>10000000</td>\n",
       "      <td>100.00</td>\n",
       "      <td>2018-06-19</td>\n",
       "      <td>2</td>\n",
       "      <td>3.03</td>\n",
       "      <td>14.0</td>\n",
       "      <td>32.0</td>\n",
       "      <td>13</td>\n",
       "      <td>&lt;NA&gt;</td>\n",
       "      <td>...</td>\n",
       "      <td>41.00</td>\n",
       "      <td>0</td>\n",
       "      <td>Санкт-Петербург</td>\n",
       "      <td>31856.0</td>\n",
       "      <td>8098</td>\n",
       "      <td>2.0</td>\n",
       "      <td>112.0</td>\n",
       "      <td>1.0</td>\n",
       "      <td>48.0</td>\n",
       "      <td>121</td>\n",
       "    </tr>\n",
       "    <tr>\n",
       "      <th>...</th>\n",
       "      <td>...</td>\n",
       "      <td>...</td>\n",
       "      <td>...</td>\n",
       "      <td>...</td>\n",
       "      <td>...</td>\n",
       "      <td>...</td>\n",
       "      <td>...</td>\n",
       "      <td>...</td>\n",
       "      <td>...</td>\n",
       "      <td>...</td>\n",
       "      <td>...</td>\n",
       "      <td>...</td>\n",
       "      <td>...</td>\n",
       "      <td>...</td>\n",
       "      <td>...</td>\n",
       "      <td>...</td>\n",
       "      <td>...</td>\n",
       "      <td>...</td>\n",
       "      <td>...</td>\n",
       "      <td>...</td>\n",
       "      <td>...</td>\n",
       "    </tr>\n",
       "    <tr>\n",
       "      <th>23694</th>\n",
       "      <td>9</td>\n",
       "      <td>9700000</td>\n",
       "      <td>133.81</td>\n",
       "      <td>2017-03-21</td>\n",
       "      <td>3</td>\n",
       "      <td>3.70</td>\n",
       "      <td>5.0</td>\n",
       "      <td>73.3</td>\n",
       "      <td>3</td>\n",
       "      <td>&lt;NA&gt;</td>\n",
       "      <td>...</td>\n",
       "      <td>13.83</td>\n",
       "      <td>0</td>\n",
       "      <td>Санкт-Петербург</td>\n",
       "      <td>24665.0</td>\n",
       "      <td>4232</td>\n",
       "      <td>1.0</td>\n",
       "      <td>796.0</td>\n",
       "      <td>3.0</td>\n",
       "      <td>381.0</td>\n",
       "      <td>0</td>\n",
       "    </tr>\n",
       "    <tr>\n",
       "      <th>23695</th>\n",
       "      <td>14</td>\n",
       "      <td>3100000</td>\n",
       "      <td>59.00</td>\n",
       "      <td>2018-01-15</td>\n",
       "      <td>3</td>\n",
       "      <td>NaN</td>\n",
       "      <td>5.0</td>\n",
       "      <td>38.0</td>\n",
       "      <td>4</td>\n",
       "      <td>&lt;NA&gt;</td>\n",
       "      <td>...</td>\n",
       "      <td>8.50</td>\n",
       "      <td>0</td>\n",
       "      <td>Тосно</td>\n",
       "      <td>NaN</td>\n",
       "      <td>&lt;NA&gt;</td>\n",
       "      <td>NaN</td>\n",
       "      <td>NaN</td>\n",
       "      <td>NaN</td>\n",
       "      <td>NaN</td>\n",
       "      <td>45</td>\n",
       "    </tr>\n",
       "    <tr>\n",
       "      <th>23696</th>\n",
       "      <td>18</td>\n",
       "      <td>2500000</td>\n",
       "      <td>56.70</td>\n",
       "      <td>2018-02-11</td>\n",
       "      <td>2</td>\n",
       "      <td>NaN</td>\n",
       "      <td>3.0</td>\n",
       "      <td>29.7</td>\n",
       "      <td>1</td>\n",
       "      <td>&lt;NA&gt;</td>\n",
       "      <td>...</td>\n",
       "      <td>NaN</td>\n",
       "      <td>0</td>\n",
       "      <td>село Рождествено</td>\n",
       "      <td>NaN</td>\n",
       "      <td>&lt;NA&gt;</td>\n",
       "      <td>NaN</td>\n",
       "      <td>NaN</td>\n",
       "      <td>NaN</td>\n",
       "      <td>NaN</td>\n",
       "      <td>0</td>\n",
       "    </tr>\n",
       "    <tr>\n",
       "      <th>23697</th>\n",
       "      <td>13</td>\n",
       "      <td>11475000</td>\n",
       "      <td>76.75</td>\n",
       "      <td>2017-03-28</td>\n",
       "      <td>2</td>\n",
       "      <td>3.00</td>\n",
       "      <td>17.0</td>\n",
       "      <td>NaN</td>\n",
       "      <td>12</td>\n",
       "      <td>&lt;NA&gt;</td>\n",
       "      <td>...</td>\n",
       "      <td>23.30</td>\n",
       "      <td>2</td>\n",
       "      <td>Санкт-Петербург</td>\n",
       "      <td>39140.0</td>\n",
       "      <td>10364</td>\n",
       "      <td>2.0</td>\n",
       "      <td>173.0</td>\n",
       "      <td>3.0</td>\n",
       "      <td>196.0</td>\n",
       "      <td>602</td>\n",
       "    </tr>\n",
       "    <tr>\n",
       "      <th>23698</th>\n",
       "      <td>4</td>\n",
       "      <td>1350000</td>\n",
       "      <td>32.30</td>\n",
       "      <td>2017-07-21</td>\n",
       "      <td>1</td>\n",
       "      <td>2.50</td>\n",
       "      <td>5.0</td>\n",
       "      <td>12.3</td>\n",
       "      <td>1</td>\n",
       "      <td>&lt;NA&gt;</td>\n",
       "      <td>...</td>\n",
       "      <td>9.00</td>\n",
       "      <td>0</td>\n",
       "      <td>посёлок Новый Учхоз</td>\n",
       "      <td>NaN</td>\n",
       "      <td>&lt;NA&gt;</td>\n",
       "      <td>NaN</td>\n",
       "      <td>NaN</td>\n",
       "      <td>NaN</td>\n",
       "      <td>NaN</td>\n",
       "      <td>0</td>\n",
       "    </tr>\n",
       "  </tbody>\n",
       "</table>\n",
       "<p>23667 rows × 22 columns</p>\n",
       "</div>"
      ],
      "text/plain": [
       "       total_images  last_price  total_area first_day_exposition  rooms  \\\n",
       "0                20    13000000      108.00           2019-03-07      3   \n",
       "1                 7     3350000       40.40           2018-12-04      1   \n",
       "2                10     5196000       56.00           2015-08-20      2   \n",
       "3                 0    64900000      159.00           2015-07-24      3   \n",
       "4                 2    10000000      100.00           2018-06-19      2   \n",
       "...             ...         ...         ...                  ...    ...   \n",
       "23694             9     9700000      133.81           2017-03-21      3   \n",
       "23695            14     3100000       59.00           2018-01-15      3   \n",
       "23696            18     2500000       56.70           2018-02-11      2   \n",
       "23697            13    11475000       76.75           2017-03-28      2   \n",
       "23698             4     1350000       32.30           2017-07-21      1   \n",
       "\n",
       "       ceiling_height  floors_total  living_area  floor  is_apartment  ...  \\\n",
       "0                2.70          16.0         51.0      8          <NA>  ...   \n",
       "1                 NaN          11.0         18.6      1          <NA>  ...   \n",
       "2                 NaN           5.0         34.3      4          <NA>  ...   \n",
       "3                 NaN          14.0          NaN      9          <NA>  ...   \n",
       "4                3.03          14.0         32.0     13          <NA>  ...   \n",
       "...               ...           ...          ...    ...           ...  ...   \n",
       "23694            3.70           5.0         73.3      3          <NA>  ...   \n",
       "23695             NaN           5.0         38.0      4          <NA>  ...   \n",
       "23696             NaN           3.0         29.7      1          <NA>  ...   \n",
       "23697            3.00          17.0          NaN     12          <NA>  ...   \n",
       "23698            2.50           5.0         12.3      1          <NA>  ...   \n",
       "\n",
       "       kitchen_area  balcony        locality_name  airports_nearest  \\\n",
       "0             25.00        0      Санкт-Петербург           18863.0   \n",
       "1             11.00        2       посёлок Шушары           12817.0   \n",
       "2              8.30        0      Санкт-Петербург           21741.0   \n",
       "3               NaN        0      Санкт-Петербург           28098.0   \n",
       "4             41.00        0      Санкт-Петербург           31856.0   \n",
       "...             ...      ...                  ...               ...   \n",
       "23694         13.83        0      Санкт-Петербург           24665.0   \n",
       "23695          8.50        0                Тосно               NaN   \n",
       "23696           NaN        0     село Рождествено               NaN   \n",
       "23697         23.30        2      Санкт-Петербург           39140.0   \n",
       "23698          9.00        0  посёлок Новый Учхоз               NaN   \n",
       "\n",
       "      cityCenters_nearest  parks_around3000  parks_nearest  ponds_around3000  \\\n",
       "0                   16028               1.0          482.0               2.0   \n",
       "1                   18603               0.0            NaN               0.0   \n",
       "2                   13933               1.0           90.0               2.0   \n",
       "3                    6800               2.0           84.0               3.0   \n",
       "4                    8098               2.0          112.0               1.0   \n",
       "...                   ...               ...            ...               ...   \n",
       "23694                4232               1.0          796.0               3.0   \n",
       "23695                <NA>               NaN            NaN               NaN   \n",
       "23696                <NA>               NaN            NaN               NaN   \n",
       "23697               10364               2.0          173.0               3.0   \n",
       "23698                <NA>               NaN            NaN               NaN   \n",
       "\n",
       "       ponds_nearest  days_exposition  \n",
       "0              755.0                0  \n",
       "1                NaN               81  \n",
       "2              574.0              558  \n",
       "3              234.0              424  \n",
       "4               48.0              121  \n",
       "...              ...              ...  \n",
       "23694          381.0                0  \n",
       "23695            NaN               45  \n",
       "23696            NaN                0  \n",
       "23697          196.0              602  \n",
       "23698            NaN                0  \n",
       "\n",
       "[23667 rows x 22 columns]"
      ]
     },
     "execution_count": 21,
     "metadata": {},
     "output_type": "execute_result"
    }
   ],
   "source": [
    "# удаляем строки с количеством этажей более 30\n",
    "data.query('floors_total < 30 or floors_total.isna()', engine = 'python')"
   ]
  },
  {
   "cell_type": "markdown",
   "metadata": {},
   "source": [
    "**Вывод**\n",
    "\n",
    "<p></p>\n",
    "\n",
    "<div style=\"border:solid green 2px; padding: 20px\">\n",
    "При предобработке данных были выявлены пропуски в процентном соотношении. Пропуски в столбце \"balcony\"  - число балконов были заполнены значением 0. Также была произведена проверка на аномальные значения, которая показала, что в столбце \"ceiling_height\" имеются аномальные значения с высотой потолков 25 и 35 м (были исправлены). Проверка на явные дубликаты показала, что их нет. Но были выявлены неявные дубликаты в столбце \"locality_name\". Дубликаты в столбце \"locality_name\" также устранены. В данном разделе в необходимых столбцах были изменены типы данных с float на int.\n",
    "</div>"
   ]
  },
  {
   "cell_type": "markdown",
   "metadata": {},
   "source": [
    "### Посчитайте и добавьте в таблицу новые столбцы"
   ]
  },
  {
   "cell_type": "markdown",
   "metadata": {},
   "source": [
    "**3.1. Расчет цены одного квадратного метра**"
   ]
  },
  {
   "cell_type": "code",
   "execution_count": 22,
   "metadata": {},
   "outputs": [],
   "source": [
    "# рассчитаем цену одного квадратного метра. Затем переводим полученные данные из типа float в int.\n",
    "data['price_per_square_metr'] = (data['last_price'] / data['total_area']).astype('int')"
   ]
  },
  {
   "cell_type": "markdown",
   "metadata": {},
   "source": [
    "**3.2. День недели публикации объявления**"
   ]
  },
  {
   "cell_type": "code",
   "execution_count": 23,
   "metadata": {},
   "outputs": [],
   "source": [
    "# выведем день недели публикации объявления\n",
    "data['weekday_exposition'] = data['first_day_exposition'].dt.weekday"
   ]
  },
  {
   "cell_type": "markdown",
   "metadata": {},
   "source": [
    "**3.3. Месяц и год публикации объявления**"
   ]
  },
  {
   "cell_type": "code",
   "execution_count": 24,
   "metadata": {},
   "outputs": [],
   "source": [
    "# добавляю столбец с месяцем публикации объявления\n",
    "data['month_exposition']=pd.DatetimeIndex(data['first_day_exposition']).month\n",
    "# добавляю столбец с годом публикации объявления\n",
    "data['year_exposition']=pd.DatetimeIndex(data['first_day_exposition']).year \n",
    "# добавляю столбец с днем публикации объявления\n",
    "data['day_exposition']=pd.DatetimeIndex(data['first_day_exposition']).day\n",
    "#data['month_exposition'] = data['month_exposition'].astype('datetime64[M]')"
   ]
  },
  {
   "cell_type": "markdown",
   "metadata": {},
   "source": [
    "**3.4. Тип этажа квартиры**"
   ]
  },
  {
   "cell_type": "code",
   "execution_count": 25,
   "metadata": {},
   "outputs": [],
   "source": [
    "def category_floor(row): # используя функцию добавим новый столбец с типами этажей согласно условию по столбцу 'floor'\n",
    "    \n",
    "    floors_total = row['floors_total']\n",
    "    floor = row['floor']\n",
    "    \n",
    "    if floor == 1:\n",
    "        return 'первый'\n",
    "    elif floor == floors_total:\n",
    "        return 'последний'\n",
    "    return 'другой'\n",
    "data['category_floor'] = data.apply(category_floor, axis=1) #добавляем столбец тип этажа квартиры"
   ]
  },
  {
   "cell_type": "markdown",
   "metadata": {},
   "source": [
    "**3.5. Расстояние до центра города в километрах (переведите из м в км и округлите до целых значений)**"
   ]
  },
  {
   "cell_type": "code",
   "execution_count": 26,
   "metadata": {
    "scrolled": true
   },
   "outputs": [],
   "source": [
    "data['cityCenters_nearest_km'] = (data['cityCenters_nearest']/1000).astype('Int64')"
   ]
  },
  {
   "cell_type": "markdown",
   "metadata": {},
   "source": [
    "**3.6. Проверим все добавленные столбцы из пунктов 3.1-3.5**"
   ]
  },
  {
   "cell_type": "code",
   "execution_count": 27,
   "metadata": {
    "scrolled": true
   },
   "outputs": [
    {
     "data": {
      "text/html": [
       "<div>\n",
       "<style scoped>\n",
       "    .dataframe tbody tr th:only-of-type {\n",
       "        vertical-align: middle;\n",
       "    }\n",
       "\n",
       "    .dataframe tbody tr th {\n",
       "        vertical-align: top;\n",
       "    }\n",
       "\n",
       "    .dataframe thead th {\n",
       "        text-align: right;\n",
       "    }\n",
       "</style>\n",
       "<table border=\"1\" class=\"dataframe\">\n",
       "  <thead>\n",
       "    <tr style=\"text-align: right;\">\n",
       "      <th></th>\n",
       "      <th>total_images</th>\n",
       "      <th>last_price</th>\n",
       "      <th>total_area</th>\n",
       "      <th>first_day_exposition</th>\n",
       "      <th>rooms</th>\n",
       "      <th>ceiling_height</th>\n",
       "      <th>floors_total</th>\n",
       "      <th>living_area</th>\n",
       "      <th>floor</th>\n",
       "      <th>is_apartment</th>\n",
       "      <th>...</th>\n",
       "      <th>ponds_around3000</th>\n",
       "      <th>ponds_nearest</th>\n",
       "      <th>days_exposition</th>\n",
       "      <th>price_per_square_metr</th>\n",
       "      <th>weekday_exposition</th>\n",
       "      <th>month_exposition</th>\n",
       "      <th>year_exposition</th>\n",
       "      <th>day_exposition</th>\n",
       "      <th>category_floor</th>\n",
       "      <th>cityCenters_nearest_km</th>\n",
       "    </tr>\n",
       "  </thead>\n",
       "  <tbody>\n",
       "    <tr>\n",
       "      <th>0</th>\n",
       "      <td>20</td>\n",
       "      <td>13000000</td>\n",
       "      <td>108.00</td>\n",
       "      <td>2019-03-07</td>\n",
       "      <td>3</td>\n",
       "      <td>2.70</td>\n",
       "      <td>16.0</td>\n",
       "      <td>51.0</td>\n",
       "      <td>8</td>\n",
       "      <td>&lt;NA&gt;</td>\n",
       "      <td>...</td>\n",
       "      <td>2.0</td>\n",
       "      <td>755.0</td>\n",
       "      <td>0</td>\n",
       "      <td>120370</td>\n",
       "      <td>3</td>\n",
       "      <td>3</td>\n",
       "      <td>2019</td>\n",
       "      <td>7</td>\n",
       "      <td>другой</td>\n",
       "      <td>16</td>\n",
       "    </tr>\n",
       "    <tr>\n",
       "      <th>1</th>\n",
       "      <td>7</td>\n",
       "      <td>3350000</td>\n",
       "      <td>40.40</td>\n",
       "      <td>2018-12-04</td>\n",
       "      <td>1</td>\n",
       "      <td>NaN</td>\n",
       "      <td>11.0</td>\n",
       "      <td>18.6</td>\n",
       "      <td>1</td>\n",
       "      <td>&lt;NA&gt;</td>\n",
       "      <td>...</td>\n",
       "      <td>0.0</td>\n",
       "      <td>NaN</td>\n",
       "      <td>81</td>\n",
       "      <td>82920</td>\n",
       "      <td>1</td>\n",
       "      <td>12</td>\n",
       "      <td>2018</td>\n",
       "      <td>4</td>\n",
       "      <td>первый</td>\n",
       "      <td>18</td>\n",
       "    </tr>\n",
       "    <tr>\n",
       "      <th>2</th>\n",
       "      <td>10</td>\n",
       "      <td>5196000</td>\n",
       "      <td>56.00</td>\n",
       "      <td>2015-08-20</td>\n",
       "      <td>2</td>\n",
       "      <td>NaN</td>\n",
       "      <td>5.0</td>\n",
       "      <td>34.3</td>\n",
       "      <td>4</td>\n",
       "      <td>&lt;NA&gt;</td>\n",
       "      <td>...</td>\n",
       "      <td>2.0</td>\n",
       "      <td>574.0</td>\n",
       "      <td>558</td>\n",
       "      <td>92785</td>\n",
       "      <td>3</td>\n",
       "      <td>8</td>\n",
       "      <td>2015</td>\n",
       "      <td>20</td>\n",
       "      <td>другой</td>\n",
       "      <td>13</td>\n",
       "    </tr>\n",
       "    <tr>\n",
       "      <th>3</th>\n",
       "      <td>0</td>\n",
       "      <td>64900000</td>\n",
       "      <td>159.00</td>\n",
       "      <td>2015-07-24</td>\n",
       "      <td>3</td>\n",
       "      <td>NaN</td>\n",
       "      <td>14.0</td>\n",
       "      <td>NaN</td>\n",
       "      <td>9</td>\n",
       "      <td>&lt;NA&gt;</td>\n",
       "      <td>...</td>\n",
       "      <td>3.0</td>\n",
       "      <td>234.0</td>\n",
       "      <td>424</td>\n",
       "      <td>408176</td>\n",
       "      <td>4</td>\n",
       "      <td>7</td>\n",
       "      <td>2015</td>\n",
       "      <td>24</td>\n",
       "      <td>другой</td>\n",
       "      <td>6</td>\n",
       "    </tr>\n",
       "    <tr>\n",
       "      <th>4</th>\n",
       "      <td>2</td>\n",
       "      <td>10000000</td>\n",
       "      <td>100.00</td>\n",
       "      <td>2018-06-19</td>\n",
       "      <td>2</td>\n",
       "      <td>3.03</td>\n",
       "      <td>14.0</td>\n",
       "      <td>32.0</td>\n",
       "      <td>13</td>\n",
       "      <td>&lt;NA&gt;</td>\n",
       "      <td>...</td>\n",
       "      <td>1.0</td>\n",
       "      <td>48.0</td>\n",
       "      <td>121</td>\n",
       "      <td>100000</td>\n",
       "      <td>1</td>\n",
       "      <td>6</td>\n",
       "      <td>2018</td>\n",
       "      <td>19</td>\n",
       "      <td>другой</td>\n",
       "      <td>8</td>\n",
       "    </tr>\n",
       "    <tr>\n",
       "      <th>...</th>\n",
       "      <td>...</td>\n",
       "      <td>...</td>\n",
       "      <td>...</td>\n",
       "      <td>...</td>\n",
       "      <td>...</td>\n",
       "      <td>...</td>\n",
       "      <td>...</td>\n",
       "      <td>...</td>\n",
       "      <td>...</td>\n",
       "      <td>...</td>\n",
       "      <td>...</td>\n",
       "      <td>...</td>\n",
       "      <td>...</td>\n",
       "      <td>...</td>\n",
       "      <td>...</td>\n",
       "      <td>...</td>\n",
       "      <td>...</td>\n",
       "      <td>...</td>\n",
       "      <td>...</td>\n",
       "      <td>...</td>\n",
       "      <td>...</td>\n",
       "    </tr>\n",
       "    <tr>\n",
       "      <th>23694</th>\n",
       "      <td>9</td>\n",
       "      <td>9700000</td>\n",
       "      <td>133.81</td>\n",
       "      <td>2017-03-21</td>\n",
       "      <td>3</td>\n",
       "      <td>3.70</td>\n",
       "      <td>5.0</td>\n",
       "      <td>73.3</td>\n",
       "      <td>3</td>\n",
       "      <td>&lt;NA&gt;</td>\n",
       "      <td>...</td>\n",
       "      <td>3.0</td>\n",
       "      <td>381.0</td>\n",
       "      <td>0</td>\n",
       "      <td>72490</td>\n",
       "      <td>1</td>\n",
       "      <td>3</td>\n",
       "      <td>2017</td>\n",
       "      <td>21</td>\n",
       "      <td>другой</td>\n",
       "      <td>4</td>\n",
       "    </tr>\n",
       "    <tr>\n",
       "      <th>23695</th>\n",
       "      <td>14</td>\n",
       "      <td>3100000</td>\n",
       "      <td>59.00</td>\n",
       "      <td>2018-01-15</td>\n",
       "      <td>3</td>\n",
       "      <td>NaN</td>\n",
       "      <td>5.0</td>\n",
       "      <td>38.0</td>\n",
       "      <td>4</td>\n",
       "      <td>&lt;NA&gt;</td>\n",
       "      <td>...</td>\n",
       "      <td>NaN</td>\n",
       "      <td>NaN</td>\n",
       "      <td>45</td>\n",
       "      <td>52542</td>\n",
       "      <td>0</td>\n",
       "      <td>1</td>\n",
       "      <td>2018</td>\n",
       "      <td>15</td>\n",
       "      <td>другой</td>\n",
       "      <td>&lt;NA&gt;</td>\n",
       "    </tr>\n",
       "    <tr>\n",
       "      <th>23696</th>\n",
       "      <td>18</td>\n",
       "      <td>2500000</td>\n",
       "      <td>56.70</td>\n",
       "      <td>2018-02-11</td>\n",
       "      <td>2</td>\n",
       "      <td>NaN</td>\n",
       "      <td>3.0</td>\n",
       "      <td>29.7</td>\n",
       "      <td>1</td>\n",
       "      <td>&lt;NA&gt;</td>\n",
       "      <td>...</td>\n",
       "      <td>NaN</td>\n",
       "      <td>NaN</td>\n",
       "      <td>0</td>\n",
       "      <td>44091</td>\n",
       "      <td>6</td>\n",
       "      <td>2</td>\n",
       "      <td>2018</td>\n",
       "      <td>11</td>\n",
       "      <td>первый</td>\n",
       "      <td>&lt;NA&gt;</td>\n",
       "    </tr>\n",
       "    <tr>\n",
       "      <th>23697</th>\n",
       "      <td>13</td>\n",
       "      <td>11475000</td>\n",
       "      <td>76.75</td>\n",
       "      <td>2017-03-28</td>\n",
       "      <td>2</td>\n",
       "      <td>3.00</td>\n",
       "      <td>17.0</td>\n",
       "      <td>NaN</td>\n",
       "      <td>12</td>\n",
       "      <td>&lt;NA&gt;</td>\n",
       "      <td>...</td>\n",
       "      <td>3.0</td>\n",
       "      <td>196.0</td>\n",
       "      <td>602</td>\n",
       "      <td>149511</td>\n",
       "      <td>1</td>\n",
       "      <td>3</td>\n",
       "      <td>2017</td>\n",
       "      <td>28</td>\n",
       "      <td>другой</td>\n",
       "      <td>10</td>\n",
       "    </tr>\n",
       "    <tr>\n",
       "      <th>23698</th>\n",
       "      <td>4</td>\n",
       "      <td>1350000</td>\n",
       "      <td>32.30</td>\n",
       "      <td>2017-07-21</td>\n",
       "      <td>1</td>\n",
       "      <td>2.50</td>\n",
       "      <td>5.0</td>\n",
       "      <td>12.3</td>\n",
       "      <td>1</td>\n",
       "      <td>&lt;NA&gt;</td>\n",
       "      <td>...</td>\n",
       "      <td>NaN</td>\n",
       "      <td>NaN</td>\n",
       "      <td>0</td>\n",
       "      <td>41795</td>\n",
       "      <td>4</td>\n",
       "      <td>7</td>\n",
       "      <td>2017</td>\n",
       "      <td>21</td>\n",
       "      <td>первый</td>\n",
       "      <td>&lt;NA&gt;</td>\n",
       "    </tr>\n",
       "  </tbody>\n",
       "</table>\n",
       "<p>23699 rows × 29 columns</p>\n",
       "</div>"
      ],
      "text/plain": [
       "       total_images  last_price  total_area first_day_exposition  rooms  \\\n",
       "0                20    13000000      108.00           2019-03-07      3   \n",
       "1                 7     3350000       40.40           2018-12-04      1   \n",
       "2                10     5196000       56.00           2015-08-20      2   \n",
       "3                 0    64900000      159.00           2015-07-24      3   \n",
       "4                 2    10000000      100.00           2018-06-19      2   \n",
       "...             ...         ...         ...                  ...    ...   \n",
       "23694             9     9700000      133.81           2017-03-21      3   \n",
       "23695            14     3100000       59.00           2018-01-15      3   \n",
       "23696            18     2500000       56.70           2018-02-11      2   \n",
       "23697            13    11475000       76.75           2017-03-28      2   \n",
       "23698             4     1350000       32.30           2017-07-21      1   \n",
       "\n",
       "       ceiling_height  floors_total  living_area  floor  is_apartment  ...  \\\n",
       "0                2.70          16.0         51.0      8          <NA>  ...   \n",
       "1                 NaN          11.0         18.6      1          <NA>  ...   \n",
       "2                 NaN           5.0         34.3      4          <NA>  ...   \n",
       "3                 NaN          14.0          NaN      9          <NA>  ...   \n",
       "4                3.03          14.0         32.0     13          <NA>  ...   \n",
       "...               ...           ...          ...    ...           ...  ...   \n",
       "23694            3.70           5.0         73.3      3          <NA>  ...   \n",
       "23695             NaN           5.0         38.0      4          <NA>  ...   \n",
       "23696             NaN           3.0         29.7      1          <NA>  ...   \n",
       "23697            3.00          17.0          NaN     12          <NA>  ...   \n",
       "23698            2.50           5.0         12.3      1          <NA>  ...   \n",
       "\n",
       "       ponds_around3000  ponds_nearest  days_exposition  \\\n",
       "0                   2.0          755.0                0   \n",
       "1                   0.0            NaN               81   \n",
       "2                   2.0          574.0              558   \n",
       "3                   3.0          234.0              424   \n",
       "4                   1.0           48.0              121   \n",
       "...                 ...            ...              ...   \n",
       "23694               3.0          381.0                0   \n",
       "23695               NaN            NaN               45   \n",
       "23696               NaN            NaN                0   \n",
       "23697               3.0          196.0              602   \n",
       "23698               NaN            NaN                0   \n",
       "\n",
       "       price_per_square_metr weekday_exposition  month_exposition  \\\n",
       "0                     120370                  3                 3   \n",
       "1                      82920                  1                12   \n",
       "2                      92785                  3                 8   \n",
       "3                     408176                  4                 7   \n",
       "4                     100000                  1                 6   \n",
       "...                      ...                ...               ...   \n",
       "23694                  72490                  1                 3   \n",
       "23695                  52542                  0                 1   \n",
       "23696                  44091                  6                 2   \n",
       "23697                 149511                  1                 3   \n",
       "23698                  41795                  4                 7   \n",
       "\n",
       "       year_exposition  day_exposition  category_floor  cityCenters_nearest_km  \n",
       "0                 2019               7          другой                      16  \n",
       "1                 2018               4          первый                      18  \n",
       "2                 2015              20          другой                      13  \n",
       "3                 2015              24          другой                       6  \n",
       "4                 2018              19          другой                       8  \n",
       "...                ...             ...             ...                     ...  \n",
       "23694             2017              21          другой                       4  \n",
       "23695             2018              15          другой                    <NA>  \n",
       "23696             2018              11          первый                    <NA>  \n",
       "23697             2017              28          другой                      10  \n",
       "23698             2017              21          первый                    <NA>  \n",
       "\n",
       "[23699 rows x 29 columns]"
      ]
     },
     "metadata": {},
     "output_type": "display_data"
    }
   ],
   "source": [
    "display(data)"
   ]
  },
  {
   "cell_type": "markdown",
   "metadata": {},
   "source": [
    "### Проведите исследовательский анализ данных"
   ]
  },
  {
   "cell_type": "markdown",
   "metadata": {},
   "source": [
    "**4.1.1 Изучим общую площадь**"
   ]
  },
  {
   "cell_type": "code",
   "execution_count": 28,
   "metadata": {},
   "outputs": [
    {
     "data": {
      "text/plain": [
       "count    23699.000000\n",
       "mean        60.348651\n",
       "std         35.654083\n",
       "min         12.000000\n",
       "25%         40.000000\n",
       "50%         52.000000\n",
       "75%         69.900000\n",
       "max        900.000000\n",
       "Name: total_area, dtype: float64"
      ]
     },
     "execution_count": 28,
     "metadata": {},
     "output_type": "execute_result"
    },
    {
     "data": {
      "image/png": "[encoded data removed]",
      "text/plain": [
       "<Figure size 432x288 with 1 Axes>"
      ]
     },
     "metadata": {
      "needs_background": "light"
     },
     "output_type": "display_data"
    }
   ],
   "source": [
    "#построим гистограмму по общей площади квартир\n",
    "data.plot(title = 'Общая площадь', y = 'total_area', kind = 'hist', bins = 100, grid=True, figsize = (6,4), range = (0,300))\n",
    "data['total_area'].describe()"
   ]
  },
  {
   "cell_type": "markdown",
   "metadata": {},
   "source": [
    "**Вывод**\n",
    "\n",
    "<p></p>\n",
    "\n",
    "<div style=\"border:solid green 2px; padding: 20px\">\n",
    "По построенной гистограмме можно заметить, что распределение общей площади нормальное. Общая площадь у большинства квартир находится в диапазоне 40-60 квадратных метров. Общая выборка по площади имеет большой размах, от 12 до 900 квадратных метров. Медианное значение не значительно отличается от среднего, медиана составила 52 кв метра, среднее 60,3 кв метра. \n",
    "\n",
    "</div>"
   ]
  },
  {
   "cell_type": "markdown",
   "metadata": {},
   "source": [
    "**4.1.2. Изучим жилую площадь**"
   ]
  },
  {
   "cell_type": "code",
   "execution_count": 29,
   "metadata": {},
   "outputs": [
    {
     "data": {
      "text/plain": [
       "count    21796.000000\n",
       "mean        34.457852\n",
       "std         22.030445\n",
       "min          2.000000\n",
       "25%         18.600000\n",
       "50%         30.000000\n",
       "75%         42.300000\n",
       "max        409.700000\n",
       "Name: living_area, dtype: float64"
      ]
     },
     "execution_count": 29,
     "metadata": {},
     "output_type": "execute_result"
    },
    {
     "data": {
      "image/png": "[encoded data removed]",
      "text/plain": [
       "<Figure size 432x288 with 1 Axes>"
      ]
     },
     "metadata": {
      "needs_background": "light"
     },
     "output_type": "display_data"
    }
   ],
   "source": [
    "data.plot(title = 'Жилая площадь', y = 'living_area', kind = 'hist', bins = 100, grid=True, figsize = (6,4), range = (0,150)) \n",
    "data['living_area'].describe()"
   ]
  },
  {
   "cell_type": "markdown",
   "metadata": {},
   "source": [
    "**Вывод**\n",
    "\n",
    "<p></p>\n",
    "\n",
    "<div style=\"border:solid green 2px; padding: 20px\">\n",
    "По построенной гистограмме можно заметить, что распределение жилой площади имеет выбросы. С жилой площадью от 60 квадратных метров квартир незначительное количество. В данных имеются отклонения, так как минимальная жилая площадь не может составлять 2 квадратных метра. Средняя жилая площадь составила 30 квадратных метров, что статистически похоже на правду. \n",
    "\n",
    "</div>"
   ]
  },
  {
   "cell_type": "markdown",
   "metadata": {},
   "source": [
    "**4.1.3. Изучим площадь кухни**"
   ]
  },
  {
   "cell_type": "code",
   "execution_count": 30,
   "metadata": {
    "scrolled": true
   },
   "outputs": [
    {
     "data": {
      "text/plain": [
       "count    21421.000000\n",
       "mean        10.569807\n",
       "std          5.905438\n",
       "min          1.300000\n",
       "25%          7.000000\n",
       "50%          9.100000\n",
       "75%         12.000000\n",
       "max        112.000000\n",
       "Name: kitchen_area, dtype: float64"
      ]
     },
     "execution_count": 30,
     "metadata": {},
     "output_type": "execute_result"
    },
    {
     "data": {
      "image/png": "[encoded data removed]",
      "text/plain": [
       "<Figure size 432x288 with 1 Axes>"
      ]
     },
     "metadata": {
      "needs_background": "light"
     },
     "output_type": "display_data"
    }
   ],
   "source": [
    "data.plot(title = 'Площадь кухни', y = 'kitchen_area', kind = 'hist', bins = 100, grid=True, figsize = (6,4), range = (0,60)) \n",
    "data['kitchen_area'].describe()"
   ]
  },
  {
   "cell_type": "markdown",
   "metadata": {},
   "source": [
    "**Вывод**\n",
    "\n",
    "<p></p>\n",
    "\n",
    "<div style=\"border:solid green 2px; padding: 20px\">\n",
    "Площадь кухни находится в диапазоне от 1,3 квадратных метра до 112 квадратных метров. В данных имеются выбросы, минимальное значение площади не является реалистичным. Медианное значение составляет кухня с площадью 9,1 квадратный метр. Кухни с площадью от 30 квадратных метров не репрезентативны для анализа, т.к. доля таких квартир, очень маленькая среди предоставленных данных. \n",
    "\n",
    "</div>"
   ]
  },
  {
   "cell_type": "markdown",
   "metadata": {},
   "source": [
    "**4.1.4. Цена объекта**"
   ]
  },
  {
   "cell_type": "code",
   "execution_count": 31,
   "metadata": {},
   "outputs": [
    {
     "data": {
      "text/plain": [
       "count    2.369900e+04\n",
       "mean     6.541549e+06\n",
       "std      1.088701e+07\n",
       "min      1.219000e+04\n",
       "25%      3.400000e+06\n",
       "50%      4.650000e+06\n",
       "75%      6.800000e+06\n",
       "max      7.630000e+08\n",
       "Name: last_price, dtype: float64"
      ]
     },
     "execution_count": 31,
     "metadata": {},
     "output_type": "execute_result"
    },
    {
     "data": {
      "image/png": "[encoded data removed]",
      "text/plain": [
       "<Figure size 432x288 with 1 Axes>"
      ]
     },
     "metadata": {
      "needs_background": "light"
     },
     "output_type": "display_data"
    }
   ],
   "source": [
    "data.plot(title = 'Цена объекта', y = 'last_price', kind = 'hist', bins = 100, grid=True, figsize = (6,4), range = (0,15000000)) \n",
    "data['last_price'].describe()"
   ]
  },
  {
   "cell_type": "markdown",
   "metadata": {},
   "source": [
    "**Вывод**\n",
    "\n",
    "<p></p>\n",
    "\n",
    "<div style=\"border:solid green 2px; padding: 20px\">\n",
    "Цены на недвижимость находятся в диапазоне от 1,2 млн до 7,6 млн руб. Средняя стоимость квартиры составила 6,5 млн руб., медианное значение 4,6 млн.руб.\n",
    "\n",
    "</div>"
   ]
  },
  {
   "cell_type": "markdown",
   "metadata": {},
   "source": [
    "**4.1.5. Количество комнат**"
   ]
  },
  {
   "cell_type": "code",
   "execution_count": 32,
   "metadata": {},
   "outputs": [
    {
     "data": {
      "text/plain": [
       "count    23699.000000\n",
       "mean         2.070636\n",
       "std          1.078405\n",
       "min          0.000000\n",
       "25%          1.000000\n",
       "50%          2.000000\n",
       "75%          3.000000\n",
       "max         19.000000\n",
       "Name: rooms, dtype: float64"
      ]
     },
     "execution_count": 32,
     "metadata": {},
     "output_type": "execute_result"
    },
    {
     "data": {
      "image/png": "[encoded data removed]",
      "text/plain": [
       "<Figure size 360x216 with 1 Axes>"
      ]
     },
     "metadata": {
      "needs_background": "light"
     },
     "output_type": "display_data"
    }
   ],
   "source": [
    "data.plot(title = 'Количество комнат', y = 'rooms', kind = 'hist', bins = 40, grid=True, figsize = (5,3), range = (0,7)) \n",
    "data['rooms'].describe()"
   ]
  },
  {
   "cell_type": "markdown",
   "metadata": {},
   "source": [
    "**Вывод**\n",
    "\n",
    "<p></p>\n",
    "\n",
    "<div style=\"border:solid green 2px; padding: 20px\">\n",
    "По диаграмее можно увидеть, что имеются выбросы, например минимальное значение комнат равно 0. Общее количество комнат находится в диапазоне от 1 до 19. Больше всего однокомнатных квартир, что является реалистичным. Недвижимость с количеством комнат от 6 и более, не является репрезентативной для анализа. \n",
    "</div"
   ]
  },
  {
   "cell_type": "markdown",
   "metadata": {},
   "source": [
    "**4.1.6. Высота потолков**"
   ]
  },
  {
   "cell_type": "code",
   "execution_count": 33,
   "metadata": {},
   "outputs": [
    {
     "data": {
      "text/plain": [
       "count    14504.000000\n",
       "mean         2.728100\n",
       "std          0.299855\n",
       "min          1.000000\n",
       "25%          2.510000\n",
       "50%          2.650000\n",
       "75%          2.800000\n",
       "max         10.000000\n",
       "Name: ceiling_height, dtype: float64"
      ]
     },
     "execution_count": 33,
     "metadata": {},
     "output_type": "execute_result"
    },
    {
     "data": {
      "image/png": "[encoded data removed]",
      "text/plain": [
       "<Figure size 360x216 with 1 Axes>"
      ]
     },
     "metadata": {
      "needs_background": "light"
     },
     "output_type": "display_data"
    }
   ],
   "source": [
    "data.plot(title = 'Высота потолков', y = 'ceiling_height', kind = 'hist', bins = 20, grid=True, figsize = (5,3), range = (0,5)) \n",
    "data['ceiling_height'].describe()"
   ]
  },
  {
   "cell_type": "markdown",
   "metadata": {},
   "source": [
    "**Вывод**\n",
    "\n",
    "<p></p>\n",
    "\n",
    "<div style=\"border:solid green 2px; padding: 20px\">\n",
    "Высота потолков в среднем составляет 2,73 м, медиана 2,65 м. Также имеются нереалистичные данные, высота потолков по исходным данным в квартирах не может составлять 1 м.\n",
    "</div\n"
   ]
  },
  {
   "cell_type": "markdown",
   "metadata": {},
   "source": [
    "**4.1.7. Этаж квартиры**"
   ]
  },
  {
   "cell_type": "code",
   "execution_count": 34,
   "metadata": {},
   "outputs": [
    {
     "data": {
      "text/plain": [
       "count    23699.000000\n",
       "mean         5.892358\n",
       "std          4.885249\n",
       "min          1.000000\n",
       "25%          2.000000\n",
       "50%          4.000000\n",
       "75%          8.000000\n",
       "max         33.000000\n",
       "Name: floor, dtype: float64"
      ]
     },
     "execution_count": 34,
     "metadata": {},
     "output_type": "execute_result"
    },
    {
     "data": {
      "image/png": "[encoded data removed]",
      "text/plain": [
       "<Figure size 360x216 with 1 Axes>"
      ]
     },
     "metadata": {
      "needs_background": "light"
     },
     "output_type": "display_data"
    }
   ],
   "source": [
    "data.plot(title = 'Этаж квартиры', y = 'floor', kind = 'hist', bins = 20, grid=True, figsize = (5,3), range = (0,20)) \n",
    "data['floor'].describe()"
   ]
  },
  {
   "cell_type": "markdown",
   "metadata": {},
   "source": [
    "**Вывод**\n",
    "\n",
    "<p></p>\n",
    "\n",
    "<div style=\"border:solid green 2px; padding: 20px\">\n",
    "Максимальное количество квартир находится примерно до 6 этажа включительно. Разброс по этажам с 1-33. \n",
    "</div"
   ]
  },
  {
   "cell_type": "markdown",
   "metadata": {},
   "source": [
    "**4.1.8. Тип этажа квартиры («первый», «последний», «другой»)**"
   ]
  },
  {
   "cell_type": "code",
   "execution_count": 35,
   "metadata": {},
   "outputs": [
    {
     "data": {
      "text/plain": [
       "<AxesSubplot:>"
      ]
     },
     "execution_count": 35,
     "metadata": {},
     "output_type": "execute_result"
    },
    {
     "data": {
      "image/png": "[encoded data removed]",
      "text/plain": [
       "<Figure size 432x288 with 1 Axes>"
      ]
     },
     "metadata": {
      "needs_background": "light"
     },
     "output_type": "display_data"
    }
   ],
   "source": [
    "data['category_floor'].value_counts().plot.bar()"
   ]
  },
  {
   "cell_type": "markdown",
   "metadata": {},
   "source": [
    "**Вывод**\n",
    "\n",
    "<p></p>\n",
    "\n",
    "<div style=\"border:solid green 2px; padding: 20px\">\n",
    "Максимальное количество квартир с типом не первый этаж и не последний, а \"другой\". Количество квартир на первых этажах и на последних отличается незначительно. \n",
    "</div"
   ]
  },
  {
   "cell_type": "markdown",
   "metadata": {},
   "source": [
    "**4.1.9. Общее количество этажей в доме**"
   ]
  },
  {
   "cell_type": "code",
   "execution_count": 36,
   "metadata": {},
   "outputs": [
    {
     "data": {
      "text/plain": [
       "count    23613.000000\n",
       "mean        10.673824\n",
       "std          6.597173\n",
       "min          1.000000\n",
       "25%          5.000000\n",
       "50%          9.000000\n",
       "75%         16.000000\n",
       "max         60.000000\n",
       "Name: floors_total, dtype: float64"
      ]
     },
     "execution_count": 36,
     "metadata": {},
     "output_type": "execute_result"
    },
    {
     "data": {
      "image/png": "[encoded data removed]",
      "text/plain": [
       "<Figure size 360x216 with 1 Axes>"
      ]
     },
     "metadata": {
      "needs_background": "light"
     },
     "output_type": "display_data"
    }
   ],
   "source": [
    "data.plot(title = 'Общее количество этажей в доме', y = 'floors_total', kind = 'hist', bins = 20, grid=True, figsize = (5,3), range = (0,30)) \n",
    "data['floors_total'].describe()"
   ]
  },
  {
   "cell_type": "markdown",
   "metadata": {},
   "source": [
    "**Вывод**\n",
    "\n",
    "<p></p>\n",
    "\n",
    "<div style=\"border:solid green 2px; padding: 20px\">\n",
    "Общее количество этажей в доме в диапазоне от 1 до 60. Максимальное количество квартир в пятиэтажных домах. Квартир в домах с этажностью от 25 и более несущественное количество.\n",
    "</div"
   ]
  },
  {
   "cell_type": "markdown",
   "metadata": {},
   "source": [
    "**4.1.10. Расстояние до центра города в метрах**"
   ]
  },
  {
   "cell_type": "code",
   "execution_count": 37,
   "metadata": {},
   "outputs": [
    {
     "data": {
      "text/plain": [
       "count    18180.000000\n",
       "mean     14191.277833\n",
       "std       8608.386210\n",
       "min        181.000000\n",
       "25%       9238.000000\n",
       "50%      13098.500000\n",
       "75%      16293.000000\n",
       "max      65968.000000\n",
       "Name: cityCenters_nearest, dtype: float64"
      ]
     },
     "execution_count": 37,
     "metadata": {},
     "output_type": "execute_result"
    },
    {
     "data": {
      "image/png": "[encoded data removed]",
      "text/plain": [
       "<Figure size 360x216 with 1 Axes>"
      ]
     },
     "metadata": {
      "needs_background": "light"
     },
     "output_type": "display_data"
    }
   ],
   "source": [
    "data.plot(title = 'Расстояние до центра города в метрах', y = 'cityCenters_nearest', kind = 'hist', bins = 20, grid=True, figsize = (5,3), range = (0,66000)) \n",
    "data['cityCenters_nearest'].describe()"
   ]
  },
  {
   "cell_type": "markdown",
   "metadata": {},
   "source": [
    "**Вывод**\n",
    "\n",
    "<p></p>\n",
    "\n",
    "<div style=\"border:solid green 2px; padding: 20px\">\n",
    "Среднее расстояние до центра города составляет 13098,5 м. Наибольшее количество объявлений о продаже квартир находится по расстоянию до центра города в диапазоне от 10 000 до 14 000 м. \n",
    "</div"
   ]
  },
  {
   "cell_type": "markdown",
   "metadata": {},
   "source": [
    "**4.1.11. Расстояние до ближайшего аэропорта**"
   ]
  },
  {
   "cell_type": "code",
   "execution_count": 38,
   "metadata": {},
   "outputs": [
    {
     "data": {
      "text/plain": [
       "count    18157.000000\n",
       "mean     28793.672193\n",
       "std      12630.880622\n",
       "min          0.000000\n",
       "25%      18585.000000\n",
       "50%      26726.000000\n",
       "75%      37273.000000\n",
       "max      84869.000000\n",
       "Name: airports_nearest, dtype: float64"
      ]
     },
     "execution_count": 38,
     "metadata": {},
     "output_type": "execute_result"
    },
    {
     "data": {
      "image/png": "[encoded data removed]",
      "text/plain": [
       "<Figure size 360x216 with 1 Axes>"
      ]
     },
     "metadata": {
      "needs_background": "light"
     },
     "output_type": "display_data"
    }
   ],
   "source": [
    "data.plot(title = 'Расстояние до ближайшего аэропорта', y = 'airports_nearest', kind = 'hist', bins = 20, grid=True, figsize = (5,3), range = (0,66000)) \n",
    "data['airports_nearest'].describe()"
   ]
  },
  {
   "cell_type": "markdown",
   "metadata": {},
   "source": [
    "**Вывод**\n",
    "\n",
    "<p></p>\n",
    "\n",
    "<div style=\"border:solid green 2px; padding: 20px\">\n",
    "Среднее расстояние до ближайшего аэропорта составляет 28793.6 м. Наибольшее количество объявлений о продаже квартир находится по расстоянию до ближайшего аэропорта в диапазоне от 24 000 до 26 000 м. \n",
    "</div"
   ]
  },
  {
   "cell_type": "markdown",
   "metadata": {},
   "source": [
    "**4.1.12. Расстояние до ближайшего парка**"
   ]
  },
  {
   "cell_type": "code",
   "execution_count": 39,
   "metadata": {},
   "outputs": [
    {
     "data": {
      "text/plain": [
       "count    8079.000000\n",
       "mean      490.804555\n",
       "std       342.317995\n",
       "min         1.000000\n",
       "25%       288.000000\n",
       "50%       455.000000\n",
       "75%       612.000000\n",
       "max      3190.000000\n",
       "Name: parks_nearest, dtype: float64"
      ]
     },
     "execution_count": 39,
     "metadata": {},
     "output_type": "execute_result"
    },
    {
     "data": {
      "image/png": "[encoded data removed]",
      "text/plain": [
       "<Figure size 360x216 with 1 Axes>"
      ]
     },
     "metadata": {
      "needs_background": "light"
     },
     "output_type": "display_data"
    }
   ],
   "source": [
    "data.plot(title = 'Расстояние до ближайшего парка', y = 'parks_nearest', kind = 'hist', bins = 20, grid=True, figsize = (5,3), range = (0,3000)) \n",
    "data['parks_nearest'].describe()"
   ]
  },
  {
   "cell_type": "markdown",
   "metadata": {},
   "source": [
    "**Вывод**\n",
    "\n",
    "<p></p>\n",
    "\n",
    "<div style=\"border:solid green 2px; padding: 20px\">\n",
    "Среднее расстояние до ближайшего парка составляет 490,8 метров. При удаленности квартир от 700 метров и больше, выявлено незначительное количество размещенных объявлений.\n",
    "</div"
   ]
  },
  {
   "cell_type": "markdown",
   "metadata": {},
   "source": [
    "**4.1.13. День и месяц публикации объявления**"
   ]
  },
  {
   "cell_type": "code",
   "execution_count": 40,
   "metadata": {},
   "outputs": [
    {
     "data": {
      "text/plain": [
       "count    23699.000000\n",
       "mean         6.400101\n",
       "std          3.491561\n",
       "min          1.000000\n",
       "25%          3.000000\n",
       "50%          6.000000\n",
       "75%         10.000000\n",
       "max         12.000000\n",
       "Name: month_exposition, dtype: float64"
      ]
     },
     "execution_count": 40,
     "metadata": {},
     "output_type": "execute_result"
    },
    {
     "data": {
      "image/png": "[encoded data removed]",
      "text/plain": [
       "<Figure size 360x216 with 1 Axes>"
      ]
     },
     "metadata": {
      "needs_background": "light"
     },
     "output_type": "display_data"
    }
   ],
   "source": [
    "data.plot(title = 'Месяц публикации объявления', y = 'month_exposition', kind = 'hist', bins = 20, grid=True, figsize = (5,3), range = (1,12)) \n",
    "data['month_exposition'].describe()"
   ]
  },
  {
   "cell_type": "code",
   "execution_count": 41,
   "metadata": {},
   "outputs": [
    {
     "data": {
      "text/plain": [
       "count    23699.000000\n",
       "mean        15.481582\n",
       "std          8.642389\n",
       "min          1.000000\n",
       "25%          8.000000\n",
       "50%         15.000000\n",
       "75%         23.000000\n",
       "max         31.000000\n",
       "Name: day_exposition, dtype: float64"
      ]
     },
     "execution_count": 41,
     "metadata": {},
     "output_type": "execute_result"
    },
    {
     "data": {
      "image/png": "[encoded data removed]",
      "text/plain": [
       "<Figure size 360x216 with 1 Axes>"
      ]
     },
     "metadata": {
      "needs_background": "light"
     },
     "output_type": "display_data"
    }
   ],
   "source": [
    "data.plot(title = 'День публикации объявления', y = 'day_exposition', kind = 'hist', bins = 20, grid=True, figsize = (5,3), range = (1,31)) \n",
    "data['day_exposition'].describe()"
   ]
  },
  {
   "cell_type": "markdown",
   "metadata": {},
   "source": [
    "**Вывод**\n",
    "\n",
    "<p></p>\n",
    "\n",
    "<div style=\"border:solid green 2px; padding: 20px\">\n",
    "По построенным гистограммам можно сделать следующий вывод: наибольшее количество объявлений в среднем было размещено в феврале-марте-апреле. В летний период наблюдается спад, скорее всего связанный с большим количеством отпусков и отсутствием части людей в городах. Затем в осенне - зимний период (до ноября включительно) наблюдается рост публикаций объявлений о продаже квартир. В предновогодний период (декабрь) наблюдается спад по публикациям объявлений.\n",
    "</div>"
   ]
  },
  {
   "cell_type": "markdown",
   "metadata": {},
   "source": [
    "**4.2. Исследование количества дней для продажи квартиры**"
   ]
  },
  {
   "cell_type": "code",
   "execution_count": 42,
   "metadata": {
    "scrolled": false
   },
   "outputs": [
    {
     "data": {
      "text/plain": [
       "count    23699.000000\n",
       "mean       156.608844\n",
       "std        213.546873\n",
       "min          0.000000\n",
       "25%         22.000000\n",
       "50%         74.000000\n",
       "75%        199.000000\n",
       "max       1580.000000\n",
       "Name: days_exposition, dtype: float64"
      ]
     },
     "execution_count": 42,
     "metadata": {},
     "output_type": "execute_result"
    },
    {
     "data": {
      "image/png": "[encoded data removed]",
      "text/plain": [
       "<Figure size 432x288 with 1 Axes>"
      ]
     },
     "metadata": {
      "needs_background": "light"
     },
     "output_type": "display_data"
    }
   ],
   "source": [
    "data.plot(title = 'Количество дней для продажи квартиры', y = 'days_exposition', kind = 'hist', bins = 100, grid=True, range = (1,100)) \n",
    "data['days_exposition'].describe()"
   ]
  },
  {
   "cell_type": "markdown",
   "metadata": {},
   "source": [
    "**Вывод**\n",
    "\n",
    "<p></p>\n",
    "\n",
    "<div style=\"border:solid green 2px; padding: 20px\">\n",
    "Построив гистограмму со значениями до 200 и с количеством корзин 200, выявились аномалии. Согласно графику, выбивающиеся значения примерно на 7, 32, 48, 60 и 90 днях. Именно эти дни являются самыми популярными в количестве дней до снятия объявления.\n",
    "<br> Также некоторые квартиры продаются за 0 дней, что является аномалией в большинстве случаев. Предполагаю, что такое возможно, если пользователь опубликовал объявление и сразу же в этот день его снял с публикации. Исключим данные о продаже за 0 дней и построим гистрограмму повторно.\n",
    "<br>\n",
    "\n",
    "</div>"
   ]
  },
  {
   "cell_type": "code",
   "execution_count": 43,
   "metadata": {},
   "outputs": [
    {
     "data": {
      "text/plain": [
       "count    20518.000000\n",
       "mean       180.888634\n",
       "std        219.727988\n",
       "min          1.000000\n",
       "25%         45.000000\n",
       "50%         95.000000\n",
       "75%        232.000000\n",
       "max       1580.000000\n",
       "Name: days_exposition, dtype: float64"
      ]
     },
     "execution_count": 43,
     "metadata": {},
     "output_type": "execute_result"
    },
    {
     "data": {
      "image/png": "[encoded data removed]",
      "text/plain": [
       "<Figure size 360x216 with 1 Axes>"
      ]
     },
     "metadata": {
      "needs_background": "light"
     },
     "output_type": "display_data"
    }
   ],
   "source": [
    "data.plot(title = 'Количество дней для продажи квартиры', y = 'days_exposition', kind = 'hist', bins = 20, grid=True, figsize = (5,3), range = (1,1400)) \n",
    "data[data['days_exposition']!=0]['days_exposition'].describe()"
   ]
  },
  {
   "cell_type": "code",
   "execution_count": 44,
   "metadata": {},
   "outputs": [
    {
     "data": {
      "text/plain": [
       "(1.0, 1300.0)"
      ]
     },
     "execution_count": 44,
     "metadata": {},
     "output_type": "execute_result"
    },
    {
     "data": {
      "image/png": "[encoded data removed]",
      "text/plain": [
       "<Figure size 432x288 with 1 Axes>"
      ]
     },
     "metadata": {
      "needs_background": "light"
     },
     "output_type": "display_data"
    }
   ],
   "source": [
    "import matplotlib.pyplot as plt\n",
    "plt.boxplot(data[data['days_exposition']!=0]['days_exposition'])\n",
    "plt.ylim(1, 1300)"
   ]
  },
  {
   "cell_type": "markdown",
   "metadata": {},
   "source": [
    "**Вывод**\n",
    "\n",
    "<p></p>\n",
    "\n",
    "<div style=\"border:solid green 2px; padding: 20px\">\n",
    "Среднее значение продажи квартиры 180 дней. Медианное значение - 95 дней. Эти данные стали более приближенными к реальности после очистки аномалии в 0 дней. Быстрыми продажи можно считать до 25% квартиль (то есть до 45 дней). Самыми долгими можно считать продажи от 75% квартиль (то есть от 232 дней до 1580 дней). Получено распределение Пуассона.\n",
    "</div>"
   ]
  },
  {
   "cell_type": "markdown",
   "metadata": {},
   "source": [
    "**4.3. Исследование факторов, влияющих на полную стоимость квартиры**"
   ]
  },
  {
   "cell_type": "markdown",
   "metadata": {},
   "source": [
    "**4.3.1. Исследование зависимости общей площади от цены**"
   ]
  },
  {
   "cell_type": "code",
   "execution_count": 45,
   "metadata": {},
   "outputs": [
    {
     "name": "stdout",
     "output_type": "stream",
     "text": [
      "Корреляция: 0.6536750579657242\n"
     ]
    },
    {
     "data": {
      "image/png": "[encoded data removed]",
      "text/plain": [
       "<Figure size 432x288 with 1 Axes>"
      ]
     },
     "metadata": {
      "needs_background": "light"
     },
     "output_type": "display_data"
    }
   ],
   "source": [
    "#строим сводную таблицу с применением агрегирующих функций\n",
    "data['last_price'] = data['last_price'].astype('float')\n",
    "pivot_table_total_area = data.pivot_table(index='total_area', values = 'last_price', aggfunc = ['mean', 'count', 'median'])\n",
    "# убираем задвоенные названия столбцов\n",
    "pivot_table_total_area.columns=['mean', 'count', 'median'] \n",
    "pivot_table_total_area.plot(y='median', style = 'o', alpha =0.5)\n",
    "print('Корреляция:',data['total_area'].corr(data['last_price']))"
   ]
  },
  {
   "cell_type": "markdown",
   "metadata": {},
   "source": [
    "**Вывод**\n",
    "\n",
    "<p></p>\n",
    "\n",
    "<div style=\"border:solid green 2px; padding: 20px\">\n",
    "Зависимость полной (общей стоимости) квартиры от общей площади имеется. Коэффициент корреляции Пирсона = 0,65. Так как с ростом первой величины растет и вторая, то корреляция положительная. Чем ближе коэффициент корреляции к 1, тем теснее линейная взаимосвязь.\n",
    "</div>\n"
   ]
  },
  {
   "cell_type": "markdown",
   "metadata": {},
   "source": [
    "**4.3.2. Исследование зависимости жилой площади от цены**"
   ]
  },
  {
   "cell_type": "code",
   "execution_count": 46,
   "metadata": {},
   "outputs": [
    {
     "name": "stdout",
     "output_type": "stream",
     "text": [
      "Корреляция: 0.5664915336952651\n"
     ]
    },
    {
     "data": {
      "image/png": "[encoded data removed]",
      "text/plain": [
       "<Figure size 432x288 with 1 Axes>"
      ]
     },
     "metadata": {
      "needs_background": "light"
     },
     "output_type": "display_data"
    }
   ],
   "source": [
    "#строим сводную таблицу с применением агрегирующих функций\n",
    "pivot_living_area = data.pivot_table(index='living_area', values = 'last_price', aggfunc = ['mean', 'count', 'median'])\n",
    "# убираем задвоенные названия столбцов\n",
    "pivot_living_area.columns=['mean', 'count', 'median']\n",
    "pivot_living_area.plot(y='median', style = 'o', alpha =0.5)\n",
    "print('Корреляция:',data['living_area'].corr(data['last_price']))"
   ]
  },
  {
   "cell_type": "markdown",
   "metadata": {},
   "source": [
    "**Вывод**\n",
    "\n",
    "<p></p>\n",
    "\n",
    "<div style=\"border:solid green 2px; padding: 20px\">\n",
    "Зависимость полной (общей стоимости) квартиры от жилой площади имеется. Коэффициент корреляции Пирсона = 0,57. Так как с ростом первой величины растет и вторая, то корреляция положительная. Чем ближе коэффициент корреляции к 1, тем теснее линейная взаимосвязь.\n",
    "</div>"
   ]
  },
  {
   "cell_type": "markdown",
   "metadata": {},
   "source": [
    "**4.3.3. Исследование зависимости площади кухни от цены**"
   ]
  },
  {
   "cell_type": "code",
   "execution_count": 47,
   "metadata": {},
   "outputs": [
    {
     "name": "stdout",
     "output_type": "stream",
     "text": [
      "Корреляция: 0.5198690130216392\n"
     ]
    },
    {
     "data": {
      "image/png": "[encoded data removed]",
      "text/plain": [
       "<Figure size 432x288 with 1 Axes>"
      ]
     },
     "metadata": {
      "needs_background": "light"
     },
     "output_type": "display_data"
    }
   ],
   "source": [
    "#строим сводную таблицу с применением агрегирующих функций\n",
    "pivot_kitchen_area = data.pivot_table(index='kitchen_area', values = 'last_price', aggfunc = ['mean', 'count', 'median']) \n",
    "# убираем задвоенные названия столбцов\n",
    "pivot_kitchen_area.columns=['mean', 'count', 'median']\n",
    "pivot_kitchen_area.plot(y='median', style = 'o', alpha =0.5)\n",
    "print('Корреляция:',data['kitchen_area'].corr(data['last_price']))"
   ]
  },
  {
   "cell_type": "markdown",
   "metadata": {},
   "source": [
    "**Вывод**\n",
    "\n",
    "<p></p>\n",
    "\n",
    "<div style=\"border:solid green 2px; padding: 20px\">\n",
    "Зависимость общей площади квартиры от цены самая сильная (коэффициент корреляции 0,65), зависимость площади кухни от цены слабее (коэффициент корреляции 0,52).\n",
    "</div>"
   ]
  },
  {
   "cell_type": "markdown",
   "metadata": {},
   "source": [
    "**4.3.4. Исследование зависимости количества комнат от цены**"
   ]
  },
  {
   "cell_type": "code",
   "execution_count": 48,
   "metadata": {},
   "outputs": [
    {
     "data": {
      "text/html": [
       "<div>\n",
       "<style scoped>\n",
       "    .dataframe tbody tr th:only-of-type {\n",
       "        vertical-align: middle;\n",
       "    }\n",
       "\n",
       "    .dataframe tbody tr th {\n",
       "        vertical-align: top;\n",
       "    }\n",
       "\n",
       "    .dataframe thead th {\n",
       "        text-align: right;\n",
       "    }\n",
       "</style>\n",
       "<table border=\"1\" class=\"dataframe\">\n",
       "  <thead>\n",
       "    <tr style=\"text-align: right;\">\n",
       "      <th></th>\n",
       "      <th>mean</th>\n",
       "      <th>count</th>\n",
       "      <th>median</th>\n",
       "    </tr>\n",
       "    <tr>\n",
       "      <th>rooms</th>\n",
       "      <th></th>\n",
       "      <th></th>\n",
       "      <th></th>\n",
       "    </tr>\n",
       "  </thead>\n",
       "  <tbody>\n",
       "    <tr>\n",
       "      <th>0</th>\n",
       "      <td>3.337724e+06</td>\n",
       "      <td>197</td>\n",
       "      <td>2700000.0</td>\n",
       "    </tr>\n",
       "    <tr>\n",
       "      <th>1</th>\n",
       "      <td>3.835362e+06</td>\n",
       "      <td>8047</td>\n",
       "      <td>3600000.0</td>\n",
       "    </tr>\n",
       "    <tr>\n",
       "      <th>2</th>\n",
       "      <td>5.591605e+06</td>\n",
       "      <td>7940</td>\n",
       "      <td>4770169.0</td>\n",
       "    </tr>\n",
       "    <tr>\n",
       "      <th>3</th>\n",
       "      <td>8.179119e+06</td>\n",
       "      <td>5814</td>\n",
       "      <td>6200000.0</td>\n",
       "    </tr>\n",
       "    <tr>\n",
       "      <th>4</th>\n",
       "      <td>1.342350e+07</td>\n",
       "      <td>1180</td>\n",
       "      <td>9000000.0</td>\n",
       "    </tr>\n",
       "    <tr>\n",
       "      <th>5</th>\n",
       "      <td>2.376208e+07</td>\n",
       "      <td>326</td>\n",
       "      <td>14000000.0</td>\n",
       "    </tr>\n",
       "    <tr>\n",
       "      <th>6</th>\n",
       "      <td>3.170975e+07</td>\n",
       "      <td>105</td>\n",
       "      <td>19000000.0</td>\n",
       "    </tr>\n",
       "    <tr>\n",
       "      <th>7</th>\n",
       "      <td>5.147007e+07</td>\n",
       "      <td>59</td>\n",
       "      <td>24900000.0</td>\n",
       "    </tr>\n",
       "    <tr>\n",
       "      <th>8</th>\n",
       "      <td>5.022417e+07</td>\n",
       "      <td>12</td>\n",
       "      <td>23095000.0</td>\n",
       "    </tr>\n",
       "    <tr>\n",
       "      <th>9</th>\n",
       "      <td>3.415236e+07</td>\n",
       "      <td>8</td>\n",
       "      <td>23750000.0</td>\n",
       "    </tr>\n",
       "    <tr>\n",
       "      <th>10</th>\n",
       "      <td>2.616667e+07</td>\n",
       "      <td>3</td>\n",
       "      <td>23000000.0</td>\n",
       "    </tr>\n",
       "    <tr>\n",
       "      <th>11</th>\n",
       "      <td>2.525000e+07</td>\n",
       "      <td>2</td>\n",
       "      <td>25250000.0</td>\n",
       "    </tr>\n",
       "    <tr>\n",
       "      <th>12</th>\n",
       "      <td>4.200000e+08</td>\n",
       "      <td>1</td>\n",
       "      <td>420000000.0</td>\n",
       "    </tr>\n",
       "    <tr>\n",
       "      <th>14</th>\n",
       "      <td>2.682950e+07</td>\n",
       "      <td>2</td>\n",
       "      <td>26829500.0</td>\n",
       "    </tr>\n",
       "    <tr>\n",
       "      <th>15</th>\n",
       "      <td>6.500000e+07</td>\n",
       "      <td>1</td>\n",
       "      <td>65000000.0</td>\n",
       "    </tr>\n",
       "    <tr>\n",
       "      <th>16</th>\n",
       "      <td>2.850000e+07</td>\n",
       "      <td>1</td>\n",
       "      <td>28500000.0</td>\n",
       "    </tr>\n",
       "    <tr>\n",
       "      <th>19</th>\n",
       "      <td>3.225000e+07</td>\n",
       "      <td>1</td>\n",
       "      <td>32250000.0</td>\n",
       "    </tr>\n",
       "  </tbody>\n",
       "</table>\n",
       "</div>"
      ],
      "text/plain": [
       "               mean  count       median\n",
       "rooms                                  \n",
       "0      3.337724e+06    197    2700000.0\n",
       "1      3.835362e+06   8047    3600000.0\n",
       "2      5.591605e+06   7940    4770169.0\n",
       "3      8.179119e+06   5814    6200000.0\n",
       "4      1.342350e+07   1180    9000000.0\n",
       "5      2.376208e+07    326   14000000.0\n",
       "6      3.170975e+07    105   19000000.0\n",
       "7      5.147007e+07     59   24900000.0\n",
       "8      5.022417e+07     12   23095000.0\n",
       "9      3.415236e+07      8   23750000.0\n",
       "10     2.616667e+07      3   23000000.0\n",
       "11     2.525000e+07      2   25250000.0\n",
       "12     4.200000e+08      1  420000000.0\n",
       "14     2.682950e+07      2   26829500.0\n",
       "15     6.500000e+07      1   65000000.0\n",
       "16     2.850000e+07      1   28500000.0\n",
       "19     3.225000e+07      1   32250000.0"
      ]
     },
     "metadata": {},
     "output_type": "display_data"
    },
    {
     "data": {
      "text/plain": [
       "0.3633428499648948"
      ]
     },
     "execution_count": 48,
     "metadata": {},
     "output_type": "execute_result"
    },
    {
     "data": {
      "image/png": "[encoded data removed]",
      "text/plain": [
       "<Figure size 432x288 with 1 Axes>"
      ]
     },
     "metadata": {
      "needs_background": "light"
     },
     "output_type": "display_data"
    }
   ],
   "source": [
    "# Делаем сводную таблицу с зависимостью стоимость/количество комнат\n",
    "pivot_rooms = data.pivot_table(index = 'rooms', values = 'last_price', aggfunc = ['mean', 'count', 'median'])\n",
    "# Переименовываем столбцы в сводной таблице\n",
    "pivot_rooms.columns = ['mean', 'count', 'median'] \n",
    "# Изучаем данные, есть аномалия с 12-и комнатной квартирой\n",
    "display(pivot_rooms)\n",
    "#Строим график с исключением аномалии\n",
    "pivot_rooms.query('rooms < 12').plot(y = 'median')\n",
    "# Считаем коэффициент корреляции Пирсона\n",
    "data['rooms'].corr(data['last_price'])"
   ]
  },
  {
   "cell_type": "markdown",
   "metadata": {},
   "source": [
    "**Вывод**\n",
    "\n",
    "<p></p>\n",
    "\n",
    "<div style=\"border:solid green 2px; padding: 20px\">\n",
    "Зависимость количества комнат от цены высокая. Цены на квартиры от 1-7 комнат растут, а дальше от 7 комнат и выше рост в цене не наблюдается. Коэффициент корреляции Пирсона равен 0,36, так как не были исключены аномальные значения при расчете. График строили с условием меньше 12 комнат, так как в процессе построения сводной таблицы была выялена аномалия в данных по стоимости квартиры. \n",
    "</div>"
   ]
  },
  {
   "cell_type": "markdown",
   "metadata": {},
   "source": [
    "**4.3.5. Исследование зависимости этажа, на котором расположена квартира от цены**"
   ]
  },
  {
   "cell_type": "code",
   "execution_count": 49,
   "metadata": {},
   "outputs": [
    {
     "data": {
      "text/html": [
       "<div>\n",
       "<style scoped>\n",
       "    .dataframe tbody tr th:only-of-type {\n",
       "        vertical-align: middle;\n",
       "    }\n",
       "\n",
       "    .dataframe tbody tr th {\n",
       "        vertical-align: top;\n",
       "    }\n",
       "\n",
       "    .dataframe thead th {\n",
       "        text-align: right;\n",
       "    }\n",
       "</style>\n",
       "<table border=\"1\" class=\"dataframe\">\n",
       "  <thead>\n",
       "    <tr style=\"text-align: right;\">\n",
       "      <th></th>\n",
       "      <th>mean</th>\n",
       "      <th>median</th>\n",
       "    </tr>\n",
       "    <tr>\n",
       "      <th>category_floor</th>\n",
       "      <th></th>\n",
       "      <th></th>\n",
       "    </tr>\n",
       "  </thead>\n",
       "  <tbody>\n",
       "    <tr>\n",
       "      <th>другой</th>\n",
       "      <td>6.675444e+06</td>\n",
       "      <td>4850000.0</td>\n",
       "    </tr>\n",
       "    <tr>\n",
       "      <th>первый</th>\n",
       "      <td>4.803560e+06</td>\n",
       "      <td>3900000.0</td>\n",
       "    </tr>\n",
       "    <tr>\n",
       "      <th>последний</th>\n",
       "      <td>7.361025e+06</td>\n",
       "      <td>4300000.0</td>\n",
       "    </tr>\n",
       "  </tbody>\n",
       "</table>\n",
       "</div>"
      ],
      "text/plain": [
       "                        mean     median\n",
       "category_floor                         \n",
       "другой          6.675444e+06  4850000.0\n",
       "первый          4.803560e+06  3900000.0\n",
       "последний       7.361025e+06  4300000.0"
      ]
     },
     "metadata": {},
     "output_type": "display_data"
    },
    {
     "data": {
      "text/plain": [
       "<AxesSubplot:xlabel='category_floor'>"
      ]
     },
     "execution_count": 49,
     "metadata": {},
     "output_type": "execute_result"
    },
    {
     "data": {
      "image/png": "[encoded data removed]",
      "text/plain": [
       "<Figure size 432x288 with 1 Axes>"
      ]
     },
     "metadata": {
      "needs_background": "light"
     },
     "output_type": "display_data"
    }
   ],
   "source": [
    "pivot_category_floor = data.pivot_table(index = 'category_floor', values = 'last_price', aggfunc = ['mean', 'median'])\n",
    "pivot_category_floor.columns = ['mean', 'median']\n",
    "display(pivot_category_floor)\n",
    "pivot_category_floor.plot(y='median', style = 'o-', alpha =0.5)"
   ]
  },
  {
   "cell_type": "markdown",
   "metadata": {},
   "source": [
    "**Вывод**\n",
    "\n",
    "<p></p>\n",
    "\n",
    "<div style=\"border:solid green 2px; padding: 20px\">\n",
    "В завивисимости от этажа, на котором расположена квартира, цена на неё меняется. Так, на первом этаже в среднем стоимость квартиры самая низкая, составляет 3,9. На последнем этаже квартиры стоят дороже - 4,3. На \"другом\" этаже стоимость 4,85. По сводной таблице можно сделать вывод, что зависимость имеется.\n",
    "</div>"
   ]
  },
  {
   "cell_type": "markdown",
   "metadata": {},
   "source": [
    "**4.3.6. Исследование зависимости даты размещения объявления (день недели) от цены**"
   ]
  },
  {
   "cell_type": "code",
   "execution_count": 50,
   "metadata": {},
   "outputs": [
    {
     "data": {
      "text/html": [
       "<div>\n",
       "<style scoped>\n",
       "    .dataframe tbody tr th:only-of-type {\n",
       "        vertical-align: middle;\n",
       "    }\n",
       "\n",
       "    .dataframe tbody tr th {\n",
       "        vertical-align: top;\n",
       "    }\n",
       "\n",
       "    .dataframe thead th {\n",
       "        text-align: right;\n",
       "    }\n",
       "</style>\n",
       "<table border=\"1\" class=\"dataframe\">\n",
       "  <thead>\n",
       "    <tr style=\"text-align: right;\">\n",
       "      <th></th>\n",
       "      <th>mean</th>\n",
       "      <th>count</th>\n",
       "      <th>median</th>\n",
       "    </tr>\n",
       "    <tr>\n",
       "      <th>weekday_exposition</th>\n",
       "      <th></th>\n",
       "      <th></th>\n",
       "      <th></th>\n",
       "    </tr>\n",
       "  </thead>\n",
       "  <tbody>\n",
       "    <tr>\n",
       "      <th>1</th>\n",
       "      <td>6.394233e+06</td>\n",
       "      <td>4183</td>\n",
       "      <td>4730000.0</td>\n",
       "    </tr>\n",
       "    <tr>\n",
       "      <th>2</th>\n",
       "      <td>6.627970e+06</td>\n",
       "      <td>3974</td>\n",
       "      <td>4700000.0</td>\n",
       "    </tr>\n",
       "    <tr>\n",
       "      <th>0</th>\n",
       "      <td>6.511613e+06</td>\n",
       "      <td>3612</td>\n",
       "      <td>4650000.0</td>\n",
       "    </tr>\n",
       "    <tr>\n",
       "      <th>3</th>\n",
       "      <td>6.708663e+06</td>\n",
       "      <td>4295</td>\n",
       "      <td>4650000.0</td>\n",
       "    </tr>\n",
       "    <tr>\n",
       "      <th>4</th>\n",
       "      <td>6.372131e+06</td>\n",
       "      <td>4000</td>\n",
       "      <td>4585000.0</td>\n",
       "    </tr>\n",
       "    <tr>\n",
       "      <th>5</th>\n",
       "      <td>6.976804e+06</td>\n",
       "      <td>1936</td>\n",
       "      <td>4555000.0</td>\n",
       "    </tr>\n",
       "    <tr>\n",
       "      <th>6</th>\n",
       "      <td>6.246180e+06</td>\n",
       "      <td>1699</td>\n",
       "      <td>4550000.0</td>\n",
       "    </tr>\n",
       "  </tbody>\n",
       "</table>\n",
       "</div>"
      ],
      "text/plain": [
       "                            mean  count     median\n",
       "weekday_exposition                                \n",
       "1                   6.394233e+06   4183  4730000.0\n",
       "2                   6.627970e+06   3974  4700000.0\n",
       "0                   6.511613e+06   3612  4650000.0\n",
       "3                   6.708663e+06   4295  4650000.0\n",
       "4                   6.372131e+06   4000  4585000.0\n",
       "5                   6.976804e+06   1936  4555000.0\n",
       "6                   6.246180e+06   1699  4550000.0"
      ]
     },
     "execution_count": 50,
     "metadata": {},
     "output_type": "execute_result"
    },
    {
     "data": {
      "image/png": "[encoded data removed]",
      "text/plain": [
       "<Figure size 432x288 with 1 Axes>"
      ]
     },
     "metadata": {
      "needs_background": "light"
     },
     "output_type": "display_data"
    }
   ],
   "source": [
    "pivot_weekday_exposition = data.pivot_table(index = 'weekday_exposition', values = 'last_price', aggfunc = ['mean', 'count', 'median'])\n",
    "pivot_weekday_exposition.columns = ['mean', 'count', 'median']\n",
    "pivot_weekday_exposition.plot(y = 'median')\n",
    "\n",
    "pivot_weekday_exposition.sort_values('median', ascending = False)"
   ]
  },
  {
   "cell_type": "markdown",
   "metadata": {},
   "source": [
    "**Вывод**\n",
    "\n",
    "<p></p>\n",
    "\n",
    "<div style=\"border:solid green 2px; padding: 20px\">\n",
    "Согласно построенному графику и сводной таблице можно сделать следующие выводы:\n",
    "<br>1. Cамая низкая стоимость на квартиры зафиксирована в воскресенье.\n",
    "<br>2. Cамая высокая стоимость на квартиры зафиксирована во вторник. \n",
    "<br>То есть заметна тенденция, в начале недели квартиры стоят, как правило, дороже, к выходным снижение стоимости наблюдается. \n",
    "</div>"
   ]
  },
  {
   "cell_type": "markdown",
   "metadata": {},
   "source": [
    "**4.3.7. Исследование зависимости даты размещения объявления (месяц) от цены**"
   ]
  },
  {
   "cell_type": "code",
   "execution_count": 51,
   "metadata": {},
   "outputs": [
    {
     "data": {
      "text/html": [
       "<div>\n",
       "<style scoped>\n",
       "    .dataframe tbody tr th:only-of-type {\n",
       "        vertical-align: middle;\n",
       "    }\n",
       "\n",
       "    .dataframe tbody tr th {\n",
       "        vertical-align: top;\n",
       "    }\n",
       "\n",
       "    .dataframe thead th {\n",
       "        text-align: right;\n",
       "    }\n",
       "</style>\n",
       "<table border=\"1\" class=\"dataframe\">\n",
       "  <thead>\n",
       "    <tr style=\"text-align: right;\">\n",
       "      <th></th>\n",
       "      <th>mean</th>\n",
       "      <th>count</th>\n",
       "      <th>median</th>\n",
       "    </tr>\n",
       "    <tr>\n",
       "      <th>month_exposition</th>\n",
       "      <th></th>\n",
       "      <th></th>\n",
       "      <th></th>\n",
       "    </tr>\n",
       "  </thead>\n",
       "  <tbody>\n",
       "    <tr>\n",
       "      <th>4</th>\n",
       "      <td>6.737198e+06</td>\n",
       "      <td>2379</td>\n",
       "      <td>4800000.0</td>\n",
       "    </tr>\n",
       "    <tr>\n",
       "      <th>9</th>\n",
       "      <td>6.825470e+06</td>\n",
       "      <td>1981</td>\n",
       "      <td>4700000.0</td>\n",
       "    </tr>\n",
       "    <tr>\n",
       "      <th>11</th>\n",
       "      <td>6.461363e+06</td>\n",
       "      <td>2371</td>\n",
       "      <td>4700000.0</td>\n",
       "    </tr>\n",
       "    <tr>\n",
       "      <th>12</th>\n",
       "      <td>7.011731e+06</td>\n",
       "      <td>1641</td>\n",
       "      <td>4700000.0</td>\n",
       "    </tr>\n",
       "    <tr>\n",
       "      <th>2</th>\n",
       "      <td>6.468500e+06</td>\n",
       "      <td>2640</td>\n",
       "      <td>4650000.0</td>\n",
       "    </tr>\n",
       "    <tr>\n",
       "      <th>3</th>\n",
       "      <td>6.359275e+06</td>\n",
       "      <td>2587</td>\n",
       "      <td>4650000.0</td>\n",
       "    </tr>\n",
       "    <tr>\n",
       "      <th>7</th>\n",
       "      <td>6.649337e+06</td>\n",
       "      <td>1695</td>\n",
       "      <td>4650000.0</td>\n",
       "    </tr>\n",
       "    <tr>\n",
       "      <th>1</th>\n",
       "      <td>6.668233e+06</td>\n",
       "      <td>1500</td>\n",
       "      <td>4600000.0</td>\n",
       "    </tr>\n",
       "    <tr>\n",
       "      <th>8</th>\n",
       "      <td>6.350233e+06</td>\n",
       "      <td>1744</td>\n",
       "      <td>4570000.0</td>\n",
       "    </tr>\n",
       "    <tr>\n",
       "      <th>10</th>\n",
       "      <td>6.235013e+06</td>\n",
       "      <td>2127</td>\n",
       "      <td>4570000.0</td>\n",
       "    </tr>\n",
       "    <tr>\n",
       "      <th>5</th>\n",
       "      <td>6.600435e+06</td>\n",
       "      <td>1274</td>\n",
       "      <td>4515000.0</td>\n",
       "    </tr>\n",
       "    <tr>\n",
       "      <th>6</th>\n",
       "      <td>6.310269e+06</td>\n",
       "      <td>1760</td>\n",
       "      <td>4400000.0</td>\n",
       "    </tr>\n",
       "  </tbody>\n",
       "</table>\n",
       "</div>"
      ],
      "text/plain": [
       "                          mean  count     median\n",
       "month_exposition                                \n",
       "4                 6.737198e+06   2379  4800000.0\n",
       "9                 6.825470e+06   1981  4700000.0\n",
       "11                6.461363e+06   2371  4700000.0\n",
       "12                7.011731e+06   1641  4700000.0\n",
       "2                 6.468500e+06   2640  4650000.0\n",
       "3                 6.359275e+06   2587  4650000.0\n",
       "7                 6.649337e+06   1695  4650000.0\n",
       "1                 6.668233e+06   1500  4600000.0\n",
       "8                 6.350233e+06   1744  4570000.0\n",
       "10                6.235013e+06   2127  4570000.0\n",
       "5                 6.600435e+06   1274  4515000.0\n",
       "6                 6.310269e+06   1760  4400000.0"
      ]
     },
     "execution_count": 51,
     "metadata": {},
     "output_type": "execute_result"
    },
    {
     "data": {
      "image/png": "[encoded data removed]",
      "text/plain": [
       "<Figure size 432x288 with 1 Axes>"
      ]
     },
     "metadata": {
      "needs_background": "light"
     },
     "output_type": "display_data"
    }
   ],
   "source": [
    "pivot_month_exposition = data.pivot_table(index = 'month_exposition', values = 'last_price', aggfunc = ['mean', 'count', 'median'])\n",
    "pivot_month_exposition.columns = ['mean', 'count', 'median']\n",
    "pivot_month_exposition.plot(y = 'median')\n",
    "\n",
    "pivot_month_exposition.sort_values('median', ascending = False)"
   ]
  },
  {
   "cell_type": "markdown",
   "metadata": {},
   "source": [
    "**Вывод**\n",
    "\n",
    "<p></p>\n",
    "\n",
    "<div style=\"border:solid green 2px; padding: 20px\">\n",
    "Согласно построенному графику и сводной таблице можно сделать следующие выводы:\n",
    "<br>1. Cамая низкая стоимость на квартиры зафиксирована в мае и июне.\n",
    "<br>2. Cамая высокая стоимость на квартиры зафиксирована в апреле и сентябре. \n",
    "<br>Как правило, на практике, стоимость квартир ближе к осени всегда увеличивается, как и количество объявлений на рынке недвижимости. \n",
    "</div>"
   ]
  },
  {
   "cell_type": "markdown",
   "metadata": {},
   "source": [
    "**4.3.8. Исследование зависимости даты размещения объявления (год) от цены**"
   ]
  },
  {
   "cell_type": "code",
   "execution_count": 52,
   "metadata": {},
   "outputs": [
    {
     "data": {
      "text/html": [
       "<div>\n",
       "<style scoped>\n",
       "    .dataframe tbody tr th:only-of-type {\n",
       "        vertical-align: middle;\n",
       "    }\n",
       "\n",
       "    .dataframe tbody tr th {\n",
       "        vertical-align: top;\n",
       "    }\n",
       "\n",
       "    .dataframe thead th {\n",
       "        text-align: right;\n",
       "    }\n",
       "</style>\n",
       "<table border=\"1\" class=\"dataframe\">\n",
       "  <thead>\n",
       "    <tr style=\"text-align: right;\">\n",
       "      <th></th>\n",
       "      <th>mean</th>\n",
       "      <th>count</th>\n",
       "      <th>median</th>\n",
       "    </tr>\n",
       "    <tr>\n",
       "      <th>year_exposition</th>\n",
       "      <th></th>\n",
       "      <th></th>\n",
       "      <th></th>\n",
       "    </tr>\n",
       "  </thead>\n",
       "  <tbody>\n",
       "    <tr>\n",
       "      <th>2014</th>\n",
       "      <td>1.208714e+07</td>\n",
       "      <td>137</td>\n",
       "      <td>7700000.0</td>\n",
       "    </tr>\n",
       "    <tr>\n",
       "      <th>2015</th>\n",
       "      <td>8.572833e+06</td>\n",
       "      <td>1191</td>\n",
       "      <td>5350000.0</td>\n",
       "    </tr>\n",
       "    <tr>\n",
       "      <th>2019</th>\n",
       "      <td>6.782388e+06</td>\n",
       "      <td>2879</td>\n",
       "      <td>5050000.0</td>\n",
       "    </tr>\n",
       "    <tr>\n",
       "      <th>2016</th>\n",
       "      <td>6.827912e+06</td>\n",
       "      <td>2783</td>\n",
       "      <td>4550000.0</td>\n",
       "    </tr>\n",
       "    <tr>\n",
       "      <th>2018</th>\n",
       "      <td>5.950966e+06</td>\n",
       "      <td>8519</td>\n",
       "      <td>4550000.0</td>\n",
       "    </tr>\n",
       "    <tr>\n",
       "      <th>2017</th>\n",
       "      <td>6.585729e+06</td>\n",
       "      <td>8190</td>\n",
       "      <td>4500000.0</td>\n",
       "    </tr>\n",
       "  </tbody>\n",
       "</table>\n",
       "</div>"
      ],
      "text/plain": [
       "                         mean  count     median\n",
       "year_exposition                                \n",
       "2014             1.208714e+07    137  7700000.0\n",
       "2015             8.572833e+06   1191  5350000.0\n",
       "2019             6.782388e+06   2879  5050000.0\n",
       "2016             6.827912e+06   2783  4550000.0\n",
       "2018             5.950966e+06   8519  4550000.0\n",
       "2017             6.585729e+06   8190  4500000.0"
      ]
     },
     "execution_count": 52,
     "metadata": {},
     "output_type": "execute_result"
    },
    {
     "data": {
      "image/png": "[encoded data removed]",
      "text/plain": [
       "<Figure size 432x288 with 1 Axes>"
      ]
     },
     "metadata": {
      "needs_background": "light"
     },
     "output_type": "display_data"
    }
   ],
   "source": [
    "pivot_year_exposition = data.pivot_table(index = 'year_exposition', values = 'last_price', aggfunc = ['mean', 'count', 'median'])\n",
    "pivot_year_exposition.columns = ['mean', 'count', 'median']\n",
    "pivot_year_exposition.plot(y = 'median')\n",
    "\n",
    "pivot_year_exposition.sort_values('median', ascending = False)"
   ]
  },
  {
   "cell_type": "code",
   "execution_count": 53,
   "metadata": {},
   "outputs": [
    {
     "data": {
      "text/html": [
       "<div>\n",
       "<style scoped>\n",
       "    .dataframe tbody tr th:only-of-type {\n",
       "        vertical-align: middle;\n",
       "    }\n",
       "\n",
       "    .dataframe tbody tr th {\n",
       "        vertical-align: top;\n",
       "    }\n",
       "\n",
       "    .dataframe thead th {\n",
       "        text-align: right;\n",
       "    }\n",
       "</style>\n",
       "<table border=\"1\" class=\"dataframe\">\n",
       "  <thead>\n",
       "    <tr style=\"text-align: right;\">\n",
       "      <th></th>\n",
       "      <th>mean</th>\n",
       "      <th>count</th>\n",
       "      <th>median</th>\n",
       "    </tr>\n",
       "    <tr>\n",
       "      <th>year_exposition</th>\n",
       "      <th></th>\n",
       "      <th></th>\n",
       "      <th></th>\n",
       "    </tr>\n",
       "  </thead>\n",
       "  <tbody>\n",
       "    <tr>\n",
       "      <th>2014</th>\n",
       "      <td>86.249854</td>\n",
       "      <td>137</td>\n",
       "      <td>76.26</td>\n",
       "    </tr>\n",
       "    <tr>\n",
       "      <th>2015</th>\n",
       "      <td>71.558371</td>\n",
       "      <td>1191</td>\n",
       "      <td>60.00</td>\n",
       "    </tr>\n",
       "    <tr>\n",
       "      <th>2016</th>\n",
       "      <td>62.156144</td>\n",
       "      <td>2783</td>\n",
       "      <td>53.10</td>\n",
       "    </tr>\n",
       "    <tr>\n",
       "      <th>2017</th>\n",
       "      <td>60.759249</td>\n",
       "      <td>8190</td>\n",
       "      <td>52.00</td>\n",
       "    </tr>\n",
       "    <tr>\n",
       "      <th>2019</th>\n",
       "      <td>59.467864</td>\n",
       "      <td>2879</td>\n",
       "      <td>52.00</td>\n",
       "    </tr>\n",
       "    <tr>\n",
       "      <th>2018</th>\n",
       "      <td>57.677386</td>\n",
       "      <td>8519</td>\n",
       "      <td>50.50</td>\n",
       "    </tr>\n",
       "  </tbody>\n",
       "</table>\n",
       "</div>"
      ],
      "text/plain": [
       "                      mean  count  median\n",
       "year_exposition                          \n",
       "2014             86.249854    137   76.26\n",
       "2015             71.558371   1191   60.00\n",
       "2016             62.156144   2783   53.10\n",
       "2017             60.759249   8190   52.00\n",
       "2019             59.467864   2879   52.00\n",
       "2018             57.677386   8519   50.50"
      ]
     },
     "execution_count": 53,
     "metadata": {},
     "output_type": "execute_result"
    },
    {
     "data": {
      "image/png": "[encoded data removed]",
      "text/plain": [
       "<Figure size 432x288 with 1 Axes>"
      ]
     },
     "metadata": {
      "needs_background": "light"
     },
     "output_type": "display_data"
    }
   ],
   "source": [
    "#рассмотрим динамику цены и площади продаваемых квартир также по годам\n",
    "pivot_year_exposition = data.pivot_table(index = 'year_exposition', values = 'total_area', aggfunc = ['mean', 'count', 'median'])\n",
    "pivot_year_exposition.columns = ['mean', 'count', 'median']\n",
    "pivot_year_exposition.plot(y = 'median')\n",
    "\n",
    "pivot_year_exposition.sort_values('median', ascending = False)"
   ]
  },
  {
   "cell_type": "markdown",
   "metadata": {},
   "source": [
    "**Вывод**\n",
    "\n",
    "<p></p>\n",
    "\n",
    "<div style=\"border:solid green 2px; padding: 20px\">\n",
    "Согласно построенному графику и сводной таблице можно сделать следующие выводы:\n",
    "<br>1. Cамая низкая стоимость на квартиры зафиксирована в 2017 году, так как стали покупать квартиры с маленькой площадью (52 кв.м), по сравнению с периодом в 2014 году (средняя площадь продаваемых квартир составляла 76,2 кв. м.) \n",
    "<br>2. Cамая высокая стоимость на квартиры зафиксирована в среднем в 2014 году (7,7), также как и площадь продаваемых квартиры самая большая зафиксирована в 2014 году (76,2 кв. м.)\n",
    "\n",
    "</div>"
   ]
  },
  {
   "cell_type": "markdown",
   "metadata": {},
   "source": [
    "**4.4. Анализ десяти населенных пунктов с наибольшим числом объявлений, анализ стоимости квадратного метра**"
   ]
  },
  {
   "cell_type": "code",
   "execution_count": 54,
   "metadata": {},
   "outputs": [
    {
     "data": {
      "text/html": [
       "<div>\n",
       "<style scoped>\n",
       "    .dataframe tbody tr th:only-of-type {\n",
       "        vertical-align: middle;\n",
       "    }\n",
       "\n",
       "    .dataframe tbody tr th {\n",
       "        vertical-align: top;\n",
       "    }\n",
       "\n",
       "    .dataframe thead th {\n",
       "        text-align: right;\n",
       "    }\n",
       "</style>\n",
       "<table border=\"1\" class=\"dataframe\">\n",
       "  <thead>\n",
       "    <tr style=\"text-align: right;\">\n",
       "      <th></th>\n",
       "      <th>count</th>\n",
       "      <th>median</th>\n",
       "    </tr>\n",
       "    <tr>\n",
       "      <th>locality_name</th>\n",
       "      <th></th>\n",
       "      <th></th>\n",
       "    </tr>\n",
       "  </thead>\n",
       "  <tbody>\n",
       "    <tr>\n",
       "      <th>Санкт-Петербург</th>\n",
       "      <td>15721</td>\n",
       "      <td>104761.0</td>\n",
       "    </tr>\n",
       "    <tr>\n",
       "      <th>посёлок Мурино</th>\n",
       "      <td>590</td>\n",
       "      <td>86175.0</td>\n",
       "    </tr>\n",
       "    <tr>\n",
       "      <th>Кудрово</th>\n",
       "      <td>472</td>\n",
       "      <td>95675.0</td>\n",
       "    </tr>\n",
       "    <tr>\n",
       "      <th>посёлок Шушары</th>\n",
       "      <td>440</td>\n",
       "      <td>76876.0</td>\n",
       "    </tr>\n",
       "    <tr>\n",
       "      <th>Всеволожск</th>\n",
       "      <td>398</td>\n",
       "      <td>65789.0</td>\n",
       "    </tr>\n",
       "    <tr>\n",
       "      <th>Пушкин</th>\n",
       "      <td>369</td>\n",
       "      <td>100000.0</td>\n",
       "    </tr>\n",
       "    <tr>\n",
       "      <th>Колпино</th>\n",
       "      <td>338</td>\n",
       "      <td>74723.5</td>\n",
       "    </tr>\n",
       "    <tr>\n",
       "      <th>посёлок Парголово</th>\n",
       "      <td>327</td>\n",
       "      <td>91642.0</td>\n",
       "    </tr>\n",
       "    <tr>\n",
       "      <th>Гатчина</th>\n",
       "      <td>307</td>\n",
       "      <td>67796.0</td>\n",
       "    </tr>\n",
       "    <tr>\n",
       "      <th>Выборг</th>\n",
       "      <td>237</td>\n",
       "      <td>58158.0</td>\n",
       "    </tr>\n",
       "  </tbody>\n",
       "</table>\n",
       "</div>"
      ],
      "text/plain": [
       "                   count    median\n",
       "locality_name                     \n",
       "Санкт-Петербург    15721  104761.0\n",
       "посёлок Мурино       590   86175.0\n",
       "Кудрово              472   95675.0\n",
       "посёлок Шушары       440   76876.0\n",
       "Всеволожск           398   65789.0\n",
       "Пушкин               369  100000.0\n",
       "Колпино              338   74723.5\n",
       "посёлок Парголово    327   91642.0\n",
       "Гатчина              307   67796.0\n",
       "Выборг               237   58158.0"
      ]
     },
     "metadata": {},
     "output_type": "display_data"
    }
   ],
   "source": [
    "# Делаем сводную таблицу с зависимостью название населенного пункта /цена одного квадратного метра\n",
    "pivot_locality_name = data.pivot_table(index='locality_name', values='price_per_square_metr' , aggfunc=['count', 'median'])\n",
    "# Переименовываем столбцы и избавляемся от двойных названий столбцов\n",
    "pivot_locality_name.columns = ['count', 'median']\n",
    "# Сортируем сводную таблицу по количеству объявлений\n",
    "pivot_locality_name = pivot_locality_name.sort_values('count', ascending = False).head(10)\n",
    "display(pivot_locality_name)"
   ]
  },
  {
   "cell_type": "markdown",
   "metadata": {},
   "source": [
    "**Вывод**\n",
    "\n",
    "<p></p>\n",
    "\n",
    "<div style=\"border:solid green 2px; padding: 20px\">\n",
    "Согласно построенной сводной таблице можно сделать следующие выводы:\n",
    "<br>1. Cамая низкая стоимость квадратного метра из 10 населенных пунктов с самым большим количеством объявлений зафиксирована в городе Выборг.\n",
    "<br>2. Cамая высокая стоимость квадратного метра из 10 населённых пунктов с самым большим количеством объявлений зафиксирована в городе Санкт-Петербург. \n",
    "<br> \n",
    "</div>"
   ]
  },
  {
   "cell_type": "markdown",
   "metadata": {},
   "source": [
    "**4.5. Анализ изменения цены квадратного метра в Санкт-Петербурге для каждого километра по степени удаленности от центра**"
   ]
  },
  {
   "cell_type": "code",
   "execution_count": 55,
   "metadata": {},
   "outputs": [
    {
     "data": {
      "text/html": [
       "<div>\n",
       "<style scoped>\n",
       "    .dataframe tbody tr th:only-of-type {\n",
       "        vertical-align: middle;\n",
       "    }\n",
       "\n",
       "    .dataframe tbody tr th {\n",
       "        vertical-align: top;\n",
       "    }\n",
       "\n",
       "    .dataframe thead th {\n",
       "        text-align: right;\n",
       "    }\n",
       "</style>\n",
       "<table border=\"1\" class=\"dataframe\">\n",
       "  <thead>\n",
       "    <tr style=\"text-align: right;\">\n",
       "      <th></th>\n",
       "      <th>price_per_square_metr</th>\n",
       "    </tr>\n",
       "    <tr>\n",
       "      <th>cityCenters_nearest_km</th>\n",
       "      <th></th>\n",
       "    </tr>\n",
       "  </thead>\n",
       "  <tbody>\n",
       "    <tr>\n",
       "      <th>0</th>\n",
       "      <td>138536.5</td>\n",
       "    </tr>\n",
       "    <tr>\n",
       "      <th>1</th>\n",
       "      <td>123966.0</td>\n",
       "    </tr>\n",
       "    <tr>\n",
       "      <th>2</th>\n",
       "      <td>116363.0</td>\n",
       "    </tr>\n",
       "    <tr>\n",
       "      <th>3</th>\n",
       "      <td>110079.5</td>\n",
       "    </tr>\n",
       "    <tr>\n",
       "      <th>4</th>\n",
       "      <td>126086.0</td>\n",
       "    </tr>\n",
       "    <tr>\n",
       "      <th>5</th>\n",
       "      <td>126041.0</td>\n",
       "    </tr>\n",
       "    <tr>\n",
       "      <th>6</th>\n",
       "      <td>134117.0</td>\n",
       "    </tr>\n",
       "    <tr>\n",
       "      <th>7</th>\n",
       "      <td>125000.0</td>\n",
       "    </tr>\n",
       "    <tr>\n",
       "      <th>8</th>\n",
       "      <td>114137.0</td>\n",
       "    </tr>\n",
       "    <tr>\n",
       "      <th>9</th>\n",
       "      <td>105317.0</td>\n",
       "    </tr>\n",
       "    <tr>\n",
       "      <th>10</th>\n",
       "      <td>105655.5</td>\n",
       "    </tr>\n",
       "    <tr>\n",
       "      <th>11</th>\n",
       "      <td>103225.0</td>\n",
       "    </tr>\n",
       "    <tr>\n",
       "      <th>12</th>\n",
       "      <td>103921.0</td>\n",
       "    </tr>\n",
       "    <tr>\n",
       "      <th>13</th>\n",
       "      <td>104296.0</td>\n",
       "    </tr>\n",
       "    <tr>\n",
       "      <th>14</th>\n",
       "      <td>102473.0</td>\n",
       "    </tr>\n",
       "    <tr>\n",
       "      <th>15</th>\n",
       "      <td>98571.0</td>\n",
       "    </tr>\n",
       "    <tr>\n",
       "      <th>16</th>\n",
       "      <td>97727.0</td>\n",
       "    </tr>\n",
       "    <tr>\n",
       "      <th>17</th>\n",
       "      <td>91494.0</td>\n",
       "    </tr>\n",
       "    <tr>\n",
       "      <th>18</th>\n",
       "      <td>93208.0</td>\n",
       "    </tr>\n",
       "    <tr>\n",
       "      <th>19</th>\n",
       "      <td>93736.5</td>\n",
       "    </tr>\n",
       "    <tr>\n",
       "      <th>20</th>\n",
       "      <td>107021.5</td>\n",
       "    </tr>\n",
       "    <tr>\n",
       "      <th>21</th>\n",
       "      <td>88288.0</td>\n",
       "    </tr>\n",
       "    <tr>\n",
       "      <th>22</th>\n",
       "      <td>85106.0</td>\n",
       "    </tr>\n",
       "    <tr>\n",
       "      <th>23</th>\n",
       "      <td>90590.5</td>\n",
       "    </tr>\n",
       "    <tr>\n",
       "      <th>24</th>\n",
       "      <td>86132.5</td>\n",
       "    </tr>\n",
       "    <tr>\n",
       "      <th>25</th>\n",
       "      <td>90163.0</td>\n",
       "    </tr>\n",
       "    <tr>\n",
       "      <th>26</th>\n",
       "      <td>56521.0</td>\n",
       "    </tr>\n",
       "    <tr>\n",
       "      <th>27</th>\n",
       "      <td>132115.0</td>\n",
       "    </tr>\n",
       "    <tr>\n",
       "      <th>28</th>\n",
       "      <td>79631.0</td>\n",
       "    </tr>\n",
       "    <tr>\n",
       "      <th>29</th>\n",
       "      <td>56976.0</td>\n",
       "    </tr>\n",
       "  </tbody>\n",
       "</table>\n",
       "</div>"
      ],
      "text/plain": [
       "                        price_per_square_metr\n",
       "cityCenters_nearest_km                       \n",
       "0                                    138536.5\n",
       "1                                    123966.0\n",
       "2                                    116363.0\n",
       "3                                    110079.5\n",
       "4                                    126086.0\n",
       "5                                    126041.0\n",
       "6                                    134117.0\n",
       "7                                    125000.0\n",
       "8                                    114137.0\n",
       "9                                    105317.0\n",
       "10                                   105655.5\n",
       "11                                   103225.0\n",
       "12                                   103921.0\n",
       "13                                   104296.0\n",
       "14                                   102473.0\n",
       "15                                    98571.0\n",
       "16                                    97727.0\n",
       "17                                    91494.0\n",
       "18                                    93208.0\n",
       "19                                    93736.5\n",
       "20                                   107021.5\n",
       "21                                    88288.0\n",
       "22                                    85106.0\n",
       "23                                    90590.5\n",
       "24                                    86132.5\n",
       "25                                    90163.0\n",
       "26                                    56521.0\n",
       "27                                   132115.0\n",
       "28                                    79631.0\n",
       "29                                    56976.0"
      ]
     },
     "metadata": {},
     "output_type": "display_data"
    },
    {
     "data": {
      "text/plain": [
       "<AxesSubplot:title={'center':'Изменение цены объекта по удаленности от центра в км'}, xlabel='cityCenters_nearest_km'>"
      ]
     },
     "execution_count": 55,
     "metadata": {},
     "output_type": "execute_result"
    },
    {
     "data": {
      "image/png": "[encoded data removed]",
      "text/plain": [
       "<Figure size 432x288 with 1 Axes>"
      ]
     },
     "metadata": {
      "needs_background": "light"
     },
     "output_type": "display_data"
    }
   ],
   "source": [
    "km_pivot = data.query('locality_name == \"Санкт-Петербург\"').pivot_table(index = 'cityCenters_nearest_km', values = 'price_per_square_metr', aggfunc = 'median')\n",
    "display(km_pivot)\n",
    "km_pivot.plot(grid = True, title = 'Изменение цены объекта по удаленности от центра в км')"
   ]
  },
  {
   "cell_type": "markdown",
   "metadata": {},
   "source": [
    "**Вывод**\n",
    "\n",
    "<p></p>\n",
    "\n",
    "<div style=\"border:solid green 2px; padding: 20px\">\n",
    "Согласно построенной сводной таблице и графику можно сделать следующие выводы:\n",
    "<br> Чем дальше квартира в Санкт-Петербурге расположена от центра, тем дешевле стоимость квадратного метра. Так, при удаленности от центра на 29 км стоимость одного квадратного метра в среднем составила 56976.0. Тогда как, стоимость квартиры при удаленности от центра в среднем на 1 км составила 138536.5, что почти в 2,5 раза дороже. Самые дорогие квартиры находятся в трех-четырех километрах от центра (данный вывод основан на построенном графике). \n",
    "</div>"
   ]
  },
  {
   "cell_type": "markdown",
   "metadata": {},
   "source": [
    "### Общий вывод"
   ]
  },
  {
   "cell_type": "markdown",
   "metadata": {},
   "source": [
    "**Вывод**\n",
    "\n",
    "<p></p>\n",
    "\n",
    "<div style=\"border:solid green 2px; padding: 20px\">\n",
    "<br>Предобработка данных:\n",
    "<br><br>В ходе проведенного исследования был изучен весь датафрейм, выявлены пропуски, которые затем заполнили, по возможности, необходимыми данными. Также была проведена проверка на типы данных в каждом столбце. \n",
    "<br>При предобработке данных были выявлены неявные дубликаты в столбце с названиями пунктов населения. При исследовании были выявлены аномальные значения в различных столбцах, такие как, квартиры с нулевым количеством комнат, данные с незаполненным количеством балконов (такие данные были заполнены нулевыми значениями), проданные квартиры за 0 дней с даты размещения объявления, высота потолков 25 м и 32м и другие.\n",
    "<br>Исходный датафрейм был дополнен новыми расчетами, добавлены столбцы с ценой одного квадратного метра, с днем недели, годом и месяцем публикации и другие.\n",
    "<br><br>Исследовательский анализ данных показал:\n",
    "<br><br>1. На общую стоимость квартиры больше всего влияют количество комнат, близость по расстоянию от центра города, а также этаж квартиры. Соответственно, чем ближе квартира расположена к центру города (в радиусе от 3-4 км, тем стоимость квартиры выше), чем выше этаж, на котором размещается квартира, тем дороже квартира (самые дешевые квартиры в среднем расположены на первых этажах).\n",
    "<br>2.Cамая низкая стоимость на квартиры зафиксирована в 2017 году, так как стали покупать квартиры с маленькой площадью (52 кв.м), по сравнению с периодом в 2014 году (средняя площадь продаваемых квартир составляла 76,2 кв. м.) \n",
    "<br>Cамая высокая стоимость на квартиры зафиксирована в среднем в 2014 году (7,7), также как и площадь продаваемых квартиры самая большая зафиксирована в 2014 году (76,2 кв. м.). Наблюдается высокая корреляция, чем меньше площадь квартиры, тем она дешевле и наоборот, что соответствует действительности.\n",
    "<br>3. Cамая низкая стоимость на квартиры зафиксирована в мае и июне. Тогда как рост стоимости наблюдается в осенний период. \n",
    "<br> 4. Анализ десяти населенных пунктов с наибольшим числом объявлений показал, что самая высокая стоимость квадратного метра из 10 населённых пунктов зафиксирована в городе Санкт-Петербург, самая низкая в Выборге.\n",
    "<br> 5. Анализ изменения цены квадратного метра в Санкт-Петербурге для каждого километра по степени удаленности от центра, показал, чем дальше квартира в Санкт-Петербурге расположена от центра, тем дешевле стоимость квадратного метра. Так, при удаленности от центра на 29 км стоимость одного квадратного метра составила всего 56976.0.\n",
    "</div>\n"
   ]
  }
 ],
 "metadata": {
  "ExecuteTimeLog": [
   {
    "duration": 600,
    "start_time": "2022-09-12T17:04:34.177Z"
   },
   {
    "duration": 80,
    "start_time": "2022-09-12T17:04:44.614Z"
   },
   {
    "duration": 110,
    "start_time": "2022-09-12T17:05:56.278Z"
   },
   {
    "duration": 91,
    "start_time": "2022-09-12T17:13:02.198Z"
   },
   {
    "duration": 36,
    "start_time": "2022-09-12T17:16:51.642Z"
   },
   {
    "duration": 140,
    "start_time": "2022-09-12T17:43:17.383Z"
   },
   {
    "duration": 32,
    "start_time": "2022-09-12T17:43:56.816Z"
   },
   {
    "duration": 15,
    "start_time": "2022-09-12T17:44:12.261Z"
   },
   {
    "duration": 99,
    "start_time": "2022-09-12T17:45:21.284Z"
   },
   {
    "duration": 40,
    "start_time": "2022-09-12T17:45:29.382Z"
   },
   {
    "duration": 2078,
    "start_time": "2022-09-12T17:47:47.549Z"
   },
   {
    "duration": 72,
    "start_time": "2022-09-12T17:49:31.051Z"
   },
   {
    "duration": 71,
    "start_time": "2022-09-12T17:49:34.869Z"
   },
   {
    "duration": 9,
    "start_time": "2022-09-12T17:53:49.474Z"
   },
   {
    "duration": 29,
    "start_time": "2022-09-12T18:11:17.921Z"
   },
   {
    "duration": 10,
    "start_time": "2022-09-12T18:11:34.731Z"
   },
   {
    "duration": 83,
    "start_time": "2022-09-12T18:27:13.706Z"
   },
   {
    "duration": 75,
    "start_time": "2022-09-12T18:27:23.872Z"
   },
   {
    "duration": 10,
    "start_time": "2022-09-12T18:27:38.465Z"
   },
   {
    "duration": 17,
    "start_time": "2022-09-12T18:27:47.339Z"
   },
   {
    "duration": 5,
    "start_time": "2022-09-12T18:27:56.422Z"
   },
   {
    "duration": 9,
    "start_time": "2022-09-12T18:28:04.236Z"
   },
   {
    "duration": 12,
    "start_time": "2022-09-12T18:28:23.222Z"
   },
   {
    "duration": 8,
    "start_time": "2022-09-12T18:53:26.380Z"
   },
   {
    "duration": 10,
    "start_time": "2022-09-12T18:55:42.967Z"
   },
   {
    "duration": 11,
    "start_time": "2022-09-12T18:55:57.205Z"
   },
   {
    "duration": 9,
    "start_time": "2022-09-12T18:56:17.950Z"
   },
   {
    "duration": 14,
    "start_time": "2022-09-12T18:56:36.198Z"
   },
   {
    "duration": 5,
    "start_time": "2022-09-12T18:57:21.452Z"
   },
   {
    "duration": 13,
    "start_time": "2022-09-12T18:57:27.127Z"
   },
   {
    "duration": 3,
    "start_time": "2022-09-12T18:57:38.651Z"
   },
   {
    "duration": 6,
    "start_time": "2022-09-12T18:57:50.747Z"
   },
   {
    "duration": 5,
    "start_time": "2022-09-12T18:58:00.933Z"
   },
   {
    "duration": 19,
    "start_time": "2022-09-12T18:58:33.053Z"
   },
   {
    "duration": 11,
    "start_time": "2022-09-12T18:58:44.039Z"
   },
   {
    "duration": 7,
    "start_time": "2022-09-12T19:12:43.237Z"
   },
   {
    "duration": 8,
    "start_time": "2022-09-12T19:12:53.622Z"
   },
   {
    "duration": 17,
    "start_time": "2022-09-12T19:13:06.399Z"
   },
   {
    "duration": 11,
    "start_time": "2022-09-12T19:17:26.984Z"
   },
   {
    "duration": 6,
    "start_time": "2022-09-12T19:23:26.263Z"
   },
   {
    "duration": 5,
    "start_time": "2022-09-12T19:24:05.336Z"
   },
   {
    "duration": 5,
    "start_time": "2022-09-12T19:25:23.901Z"
   },
   {
    "duration": 6,
    "start_time": "2022-09-12T19:25:27.202Z"
   },
   {
    "duration": 14,
    "start_time": "2022-09-12T19:26:45.420Z"
   },
   {
    "duration": 101,
    "start_time": "2022-09-12T19:59:15.504Z"
   },
   {
    "duration": 8,
    "start_time": "2022-09-12T20:02:30.422Z"
   },
   {
    "duration": 36,
    "start_time": "2022-09-12T20:02:56.920Z"
   },
   {
    "duration": 7,
    "start_time": "2022-09-12T20:03:03.688Z"
   },
   {
    "duration": 6,
    "start_time": "2022-09-12T20:05:02.862Z"
   },
   {
    "duration": 19,
    "start_time": "2022-09-12T20:14:28.073Z"
   },
   {
    "duration": 31,
    "start_time": "2022-09-12T20:14:37.104Z"
   },
   {
    "duration": 17,
    "start_time": "2022-09-12T20:15:30.057Z"
   },
   {
    "duration": 29,
    "start_time": "2022-09-12T20:17:34.850Z"
   },
   {
    "duration": 55,
    "start_time": "2022-09-12T20:17:52.583Z"
   },
   {
    "duration": 18,
    "start_time": "2022-09-12T20:18:42.784Z"
   },
   {
    "duration": 7,
    "start_time": "2022-09-12T20:39:03.750Z"
   },
   {
    "duration": 4,
    "start_time": "2022-09-12T20:40:07.471Z"
   },
   {
    "duration": 6,
    "start_time": "2022-09-12T20:43:07.068Z"
   },
   {
    "duration": 6,
    "start_time": "2022-09-12T20:43:12.320Z"
   },
   {
    "duration": 6,
    "start_time": "2022-09-12T20:43:16.939Z"
   },
   {
    "duration": 6,
    "start_time": "2022-09-12T20:43:20.758Z"
   },
   {
    "duration": 6,
    "start_time": "2022-09-12T20:43:29.123Z"
   },
   {
    "duration": 444,
    "start_time": "2022-09-12T20:43:36.243Z"
   },
   {
    "duration": 43,
    "start_time": "2022-09-12T20:43:36.689Z"
   },
   {
    "duration": 13,
    "start_time": "2022-09-12T20:43:36.733Z"
   },
   {
    "duration": 2167,
    "start_time": "2022-09-12T20:43:36.748Z"
   },
   {
    "duration": 9,
    "start_time": "2022-09-12T20:43:38.917Z"
   },
   {
    "duration": 9,
    "start_time": "2022-09-12T20:43:38.927Z"
   },
   {
    "duration": 6,
    "start_time": "2022-09-12T20:43:38.938Z"
   },
   {
    "duration": 10,
    "start_time": "2022-09-12T20:43:38.945Z"
   },
   {
    "duration": 5,
    "start_time": "2022-09-12T20:43:38.957Z"
   },
   {
    "duration": 7,
    "start_time": "2022-09-12T20:43:38.964Z"
   },
   {
    "duration": 39,
    "start_time": "2022-09-12T20:43:38.972Z"
   },
   {
    "duration": 5,
    "start_time": "2022-09-12T20:43:39.013Z"
   },
   {
    "duration": 9,
    "start_time": "2022-09-12T20:43:39.020Z"
   },
   {
    "duration": 7,
    "start_time": "2022-09-12T20:43:51.292Z"
   },
   {
    "duration": 3,
    "start_time": "2022-09-12T20:45:36.026Z"
   },
   {
    "duration": 7,
    "start_time": "2022-09-12T20:45:39.384Z"
   },
   {
    "duration": 3,
    "start_time": "2022-09-12T20:46:23.269Z"
   },
   {
    "duration": 1259,
    "start_time": "2022-09-12T20:54:02.665Z"
   },
   {
    "duration": 1183,
    "start_time": "2022-09-12T20:57:55.707Z"
   },
   {
    "duration": 1159,
    "start_time": "2022-09-12T20:59:23.732Z"
   },
   {
    "duration": 1213,
    "start_time": "2022-09-12T21:01:51.268Z"
   },
   {
    "duration": 1181,
    "start_time": "2022-09-12T21:01:53.605Z"
   },
   {
    "duration": 5,
    "start_time": "2022-09-12T21:05:26.365Z"
   },
   {
    "duration": 19,
    "start_time": "2022-09-12T21:06:34.042Z"
   },
   {
    "duration": 13,
    "start_time": "2022-09-12T21:06:48.483Z"
   },
   {
    "duration": 17,
    "start_time": "2022-09-12T21:07:12.975Z"
   },
   {
    "duration": 16,
    "start_time": "2022-09-12T21:07:37.190Z"
   },
   {
    "duration": 31,
    "start_time": "2022-09-12T21:07:54.792Z"
   },
   {
    "duration": 15,
    "start_time": "2022-09-12T21:08:11.335Z"
   },
   {
    "duration": 17,
    "start_time": "2022-09-12T21:08:21.436Z"
   },
   {
    "duration": 16,
    "start_time": "2022-09-12T21:08:27.046Z"
   },
   {
    "duration": 19,
    "start_time": "2022-09-12T21:08:43.433Z"
   },
   {
    "duration": 19,
    "start_time": "2022-09-12T21:08:49.452Z"
   },
   {
    "duration": 21,
    "start_time": "2022-09-12T21:09:07.782Z"
   },
   {
    "duration": 4,
    "start_time": "2022-09-12T21:09:13.016Z"
   },
   {
    "duration": 18,
    "start_time": "2022-09-12T21:09:30.947Z"
   },
   {
    "duration": 3,
    "start_time": "2022-09-12T21:10:14.771Z"
   },
   {
    "duration": 2,
    "start_time": "2022-09-12T21:24:35.026Z"
   },
   {
    "duration": 475,
    "start_time": "2022-09-12T21:25:32.866Z"
   },
   {
    "duration": 44,
    "start_time": "2022-09-12T21:25:33.343Z"
   },
   {
    "duration": 26,
    "start_time": "2022-09-12T21:25:33.388Z"
   },
   {
    "duration": 1991,
    "start_time": "2022-09-12T21:25:33.416Z"
   },
   {
    "duration": 9,
    "start_time": "2022-09-12T21:25:35.409Z"
   },
   {
    "duration": 10,
    "start_time": "2022-09-12T21:25:35.419Z"
   },
   {
    "duration": 7,
    "start_time": "2022-09-12T21:25:35.431Z"
   },
   {
    "duration": 10,
    "start_time": "2022-09-12T21:25:35.439Z"
   },
   {
    "duration": 6,
    "start_time": "2022-09-12T21:25:35.451Z"
   },
   {
    "duration": 6,
    "start_time": "2022-09-12T21:25:35.460Z"
   },
   {
    "duration": 52,
    "start_time": "2022-09-12T21:25:35.467Z"
   },
   {
    "duration": 2,
    "start_time": "2022-09-12T21:25:35.521Z"
   },
   {
    "duration": 10,
    "start_time": "2022-09-12T21:25:35.525Z"
   },
   {
    "duration": 7,
    "start_time": "2022-09-12T21:25:35.537Z"
   },
   {
    "duration": 44,
    "start_time": "2022-09-13T17:40:37.531Z"
   },
   {
    "duration": 710,
    "start_time": "2022-09-13T17:40:48.667Z"
   },
   {
    "duration": 47,
    "start_time": "2022-09-13T17:40:49.380Z"
   },
   {
    "duration": 16,
    "start_time": "2022-09-13T17:40:49.428Z"
   },
   {
    "duration": 2290,
    "start_time": "2022-09-13T17:40:49.446Z"
   },
   {
    "duration": 10,
    "start_time": "2022-09-13T17:40:51.739Z"
   },
   {
    "duration": 9,
    "start_time": "2022-09-13T17:40:51.750Z"
   },
   {
    "duration": 6,
    "start_time": "2022-09-13T17:40:51.760Z"
   },
   {
    "duration": 14,
    "start_time": "2022-09-13T17:40:51.767Z"
   },
   {
    "duration": 7,
    "start_time": "2022-09-13T17:40:51.783Z"
   },
   {
    "duration": 4,
    "start_time": "2022-09-13T17:40:51.793Z"
   },
   {
    "duration": 8,
    "start_time": "2022-09-13T17:40:51.799Z"
   },
   {
    "duration": 19,
    "start_time": "2022-09-13T17:40:51.808Z"
   },
   {
    "duration": 3,
    "start_time": "2022-09-13T17:40:51.828Z"
   },
   {
    "duration": 45,
    "start_time": "2022-09-13T17:40:51.833Z"
   },
   {
    "duration": 5,
    "start_time": "2022-09-13T17:40:51.879Z"
   },
   {
    "duration": 7,
    "start_time": "2022-09-13T17:42:26.344Z"
   },
   {
    "duration": 71,
    "start_time": "2022-09-13T17:47:01.523Z"
   },
   {
    "duration": 482,
    "start_time": "2022-09-13T17:49:52.452Z"
   },
   {
    "duration": 42,
    "start_time": "2022-09-13T17:49:52.936Z"
   },
   {
    "duration": 14,
    "start_time": "2022-09-13T17:49:52.979Z"
   },
   {
    "duration": 2066,
    "start_time": "2022-09-13T17:49:52.994Z"
   },
   {
    "duration": 9,
    "start_time": "2022-09-13T17:49:55.062Z"
   },
   {
    "duration": 12,
    "start_time": "2022-09-13T17:49:55.072Z"
   },
   {
    "duration": 6,
    "start_time": "2022-09-13T17:50:26.591Z"
   },
   {
    "duration": 11,
    "start_time": "2022-09-13T17:50:26.599Z"
   },
   {
    "duration": 7,
    "start_time": "2022-09-13T17:50:26.612Z"
   },
   {
    "duration": 5,
    "start_time": "2022-09-13T17:50:26.620Z"
   },
   {
    "duration": 11,
    "start_time": "2022-09-13T17:50:26.626Z"
   },
   {
    "duration": 45,
    "start_time": "2022-09-13T17:50:26.639Z"
   },
   {
    "duration": 3,
    "start_time": "2022-09-13T17:50:26.685Z"
   },
   {
    "duration": 10,
    "start_time": "2022-09-13T17:50:26.690Z"
   },
   {
    "duration": 5,
    "start_time": "2022-09-13T17:50:26.701Z"
   },
   {
    "duration": 31290,
    "start_time": "2022-09-13T17:50:26.708Z"
   },
   {
    "duration": 6,
    "start_time": "2022-09-13T17:54:24.641Z"
   },
   {
    "duration": 14,
    "start_time": "2022-09-13T18:03:41.627Z"
   },
   {
    "duration": 12,
    "start_time": "2022-09-13T18:04:03.829Z"
   },
   {
    "duration": 52,
    "start_time": "2022-09-13T18:07:03.365Z"
   },
   {
    "duration": 58,
    "start_time": "2022-09-13T18:10:00.055Z"
   },
   {
    "duration": 20,
    "start_time": "2022-09-13T18:10:35.266Z"
   },
   {
    "duration": 15,
    "start_time": "2022-09-13T18:13:26.879Z"
   },
   {
    "duration": 17,
    "start_time": "2022-09-13T18:14:05.041Z"
   },
   {
    "duration": 450,
    "start_time": "2022-09-13T18:17:08.009Z"
   },
   {
    "duration": 48,
    "start_time": "2022-09-13T18:17:08.461Z"
   },
   {
    "duration": 14,
    "start_time": "2022-09-13T18:17:08.511Z"
   },
   {
    "duration": 2223,
    "start_time": "2022-09-13T18:17:08.529Z"
   },
   {
    "duration": 10,
    "start_time": "2022-09-13T18:17:10.754Z"
   },
   {
    "duration": 9,
    "start_time": "2022-09-13T18:17:10.766Z"
   },
   {
    "duration": 7,
    "start_time": "2022-09-13T18:17:10.777Z"
   },
   {
    "duration": 11,
    "start_time": "2022-09-13T18:17:10.786Z"
   },
   {
    "duration": 11,
    "start_time": "2022-09-13T18:17:10.800Z"
   },
   {
    "duration": 6,
    "start_time": "2022-09-13T18:17:10.815Z"
   },
   {
    "duration": 9,
    "start_time": "2022-09-13T18:17:10.824Z"
   },
   {
    "duration": 55,
    "start_time": "2022-09-13T18:17:10.835Z"
   },
   {
    "duration": 2,
    "start_time": "2022-09-13T18:17:10.891Z"
   },
   {
    "duration": 11,
    "start_time": "2022-09-13T18:20:48.127Z"
   },
   {
    "duration": 10,
    "start_time": "2022-09-13T18:21:04.283Z"
   },
   {
    "duration": 70,
    "start_time": "2022-09-13T18:21:23.443Z"
   },
   {
    "duration": 9,
    "start_time": "2022-09-13T18:22:09.867Z"
   },
   {
    "duration": 11,
    "start_time": "2022-09-13T18:23:31.574Z"
   },
   {
    "duration": 10,
    "start_time": "2022-09-13T18:24:39.443Z"
   },
   {
    "duration": 93,
    "start_time": "2022-09-13T18:27:50.309Z"
   },
   {
    "duration": 12,
    "start_time": "2022-09-13T18:28:05.389Z"
   },
   {
    "duration": 93,
    "start_time": "2022-09-13T18:28:19.886Z"
   },
   {
    "duration": 168,
    "start_time": "2022-09-13T18:28:26.865Z"
   },
   {
    "duration": 488,
    "start_time": "2022-09-13T18:28:59.788Z"
   },
   {
    "duration": 46,
    "start_time": "2022-09-13T18:29:00.278Z"
   },
   {
    "duration": 15,
    "start_time": "2022-09-13T18:29:00.325Z"
   },
   {
    "duration": 2270,
    "start_time": "2022-09-13T18:29:00.343Z"
   },
   {
    "duration": 10,
    "start_time": "2022-09-13T18:29:02.614Z"
   },
   {
    "duration": 12,
    "start_time": "2022-09-13T18:29:02.625Z"
   },
   {
    "duration": 6,
    "start_time": "2022-09-13T18:29:02.638Z"
   },
   {
    "duration": 11,
    "start_time": "2022-09-13T18:29:02.646Z"
   },
   {
    "duration": 12,
    "start_time": "2022-09-13T18:29:02.658Z"
   },
   {
    "duration": 6,
    "start_time": "2022-09-13T18:29:02.672Z"
   },
   {
    "duration": 9,
    "start_time": "2022-09-13T18:29:02.680Z"
   },
   {
    "duration": 7,
    "start_time": "2022-09-13T18:29:02.691Z"
   },
   {
    "duration": 4,
    "start_time": "2022-09-13T18:29:46.480Z"
   },
   {
    "duration": 5,
    "start_time": "2022-09-13T18:30:05.731Z"
   },
   {
    "duration": 3,
    "start_time": "2022-09-13T18:32:02.617Z"
   },
   {
    "duration": 77,
    "start_time": "2022-09-13T18:32:17.144Z"
   },
   {
    "duration": 15,
    "start_time": "2022-09-13T18:32:26.546Z"
   },
   {
    "duration": 99,
    "start_time": "2022-09-13T18:32:43.292Z"
   },
   {
    "duration": 13,
    "start_time": "2022-09-13T18:32:59.143Z"
   },
   {
    "duration": 4,
    "start_time": "2022-09-13T18:33:53.501Z"
   },
   {
    "duration": 4,
    "start_time": "2022-09-13T18:34:14.250Z"
   },
   {
    "duration": 4,
    "start_time": "2022-09-13T18:34:31.589Z"
   },
   {
    "duration": 5,
    "start_time": "2022-09-13T18:34:36.695Z"
   },
   {
    "duration": 458,
    "start_time": "2022-09-13T18:34:48.302Z"
   },
   {
    "duration": 44,
    "start_time": "2022-09-13T18:34:48.762Z"
   },
   {
    "duration": 14,
    "start_time": "2022-09-13T18:34:48.808Z"
   },
   {
    "duration": 2028,
    "start_time": "2022-09-13T18:34:48.824Z"
   },
   {
    "duration": 10,
    "start_time": "2022-09-13T18:34:50.854Z"
   },
   {
    "duration": 9,
    "start_time": "2022-09-13T18:34:50.865Z"
   },
   {
    "duration": 30,
    "start_time": "2022-09-13T18:34:50.876Z"
   },
   {
    "duration": 23,
    "start_time": "2022-09-13T18:34:50.908Z"
   },
   {
    "duration": 14,
    "start_time": "2022-09-13T18:34:50.932Z"
   },
   {
    "duration": 12,
    "start_time": "2022-09-13T18:34:50.948Z"
   },
   {
    "duration": 27,
    "start_time": "2022-09-13T18:34:50.962Z"
   },
   {
    "duration": 23,
    "start_time": "2022-09-13T18:34:50.990Z"
   },
   {
    "duration": 8,
    "start_time": "2022-09-13T18:34:51.015Z"
   },
   {
    "duration": 5,
    "start_time": "2022-09-13T18:35:30.205Z"
   },
   {
    "duration": 482,
    "start_time": "2022-09-13T18:37:36.697Z"
   },
   {
    "duration": 43,
    "start_time": "2022-09-13T18:37:37.181Z"
   },
   {
    "duration": 17,
    "start_time": "2022-09-13T18:37:37.225Z"
   },
   {
    "duration": 2151,
    "start_time": "2022-09-13T18:37:37.245Z"
   },
   {
    "duration": 9,
    "start_time": "2022-09-13T18:37:39.398Z"
   },
   {
    "duration": 9,
    "start_time": "2022-09-13T18:37:39.409Z"
   },
   {
    "duration": 6,
    "start_time": "2022-09-13T18:37:39.420Z"
   },
   {
    "duration": 10,
    "start_time": "2022-09-13T18:37:39.427Z"
   },
   {
    "duration": 8,
    "start_time": "2022-09-13T18:37:39.439Z"
   },
   {
    "duration": 5,
    "start_time": "2022-09-13T18:37:39.449Z"
   },
   {
    "duration": 6,
    "start_time": "2022-09-13T18:37:39.476Z"
   },
   {
    "duration": 8,
    "start_time": "2022-09-13T18:37:39.483Z"
   },
   {
    "duration": 5,
    "start_time": "2022-09-13T18:37:39.492Z"
   },
   {
    "duration": 50,
    "start_time": "2022-09-13T18:38:49.572Z"
   },
   {
    "duration": 59,
    "start_time": "2022-09-13T18:39:07.934Z"
   },
   {
    "duration": 9,
    "start_time": "2022-09-13T18:40:02.904Z"
   },
   {
    "duration": 71,
    "start_time": "2022-09-13T18:40:42.035Z"
   },
   {
    "duration": 9,
    "start_time": "2022-09-13T18:40:49.160Z"
   },
   {
    "duration": 482,
    "start_time": "2022-09-13T18:41:01.597Z"
   },
   {
    "duration": 43,
    "start_time": "2022-09-13T18:41:02.081Z"
   },
   {
    "duration": 26,
    "start_time": "2022-09-13T18:41:02.125Z"
   },
   {
    "duration": 2187,
    "start_time": "2022-09-13T18:41:02.153Z"
   },
   {
    "duration": 9,
    "start_time": "2022-09-13T18:41:04.342Z"
   },
   {
    "duration": 9,
    "start_time": "2022-09-13T18:41:04.353Z"
   },
   {
    "duration": 6,
    "start_time": "2022-09-13T18:41:04.364Z"
   },
   {
    "duration": 13,
    "start_time": "2022-09-13T18:41:04.371Z"
   },
   {
    "duration": 10,
    "start_time": "2022-09-13T18:41:04.386Z"
   },
   {
    "duration": 4,
    "start_time": "2022-09-13T18:41:04.399Z"
   },
   {
    "duration": 9,
    "start_time": "2022-09-13T18:41:04.404Z"
   },
   {
    "duration": 9,
    "start_time": "2022-09-13T18:41:04.414Z"
   },
   {
    "duration": 4,
    "start_time": "2022-09-13T18:41:04.425Z"
   },
   {
    "duration": 78,
    "start_time": "2022-09-13T18:41:53.500Z"
   },
   {
    "duration": 481,
    "start_time": "2022-09-13T18:42:22.785Z"
   },
   {
    "duration": 44,
    "start_time": "2022-09-13T18:42:23.268Z"
   },
   {
    "duration": 13,
    "start_time": "2022-09-13T18:42:23.316Z"
   },
   {
    "duration": 2167,
    "start_time": "2022-09-13T18:42:23.330Z"
   },
   {
    "duration": 11,
    "start_time": "2022-09-13T18:42:25.499Z"
   },
   {
    "duration": 21,
    "start_time": "2022-09-13T18:42:25.512Z"
   },
   {
    "duration": 14,
    "start_time": "2022-09-13T18:42:25.536Z"
   },
   {
    "duration": 20,
    "start_time": "2022-09-13T18:42:25.552Z"
   },
   {
    "duration": 11,
    "start_time": "2022-09-13T18:42:25.574Z"
   },
   {
    "duration": 12,
    "start_time": "2022-09-13T18:42:25.587Z"
   },
   {
    "duration": 9,
    "start_time": "2022-09-13T18:42:25.601Z"
   },
   {
    "duration": 13,
    "start_time": "2022-09-13T18:42:25.612Z"
   },
   {
    "duration": 8,
    "start_time": "2022-09-13T18:42:25.627Z"
   },
   {
    "duration": 20,
    "start_time": "2022-09-13T18:43:18.335Z"
   },
   {
    "duration": 492,
    "start_time": "2022-09-13T18:44:07.753Z"
   },
   {
    "duration": 38,
    "start_time": "2022-09-13T18:44:08.247Z"
   },
   {
    "duration": 13,
    "start_time": "2022-09-13T18:44:08.287Z"
   },
   {
    "duration": 2251,
    "start_time": "2022-09-13T18:44:08.302Z"
   },
   {
    "duration": 11,
    "start_time": "2022-09-13T18:44:10.554Z"
   },
   {
    "duration": 14,
    "start_time": "2022-09-13T18:44:10.568Z"
   },
   {
    "duration": 15,
    "start_time": "2022-09-13T18:44:10.584Z"
   },
   {
    "duration": 24,
    "start_time": "2022-09-13T18:44:10.601Z"
   },
   {
    "duration": 17,
    "start_time": "2022-09-13T18:44:10.627Z"
   },
   {
    "duration": 15,
    "start_time": "2022-09-13T18:44:10.647Z"
   },
   {
    "duration": 8,
    "start_time": "2022-09-13T18:44:10.664Z"
   },
   {
    "duration": 81,
    "start_time": "2022-09-13T18:44:10.673Z"
   },
   {
    "duration": 0,
    "start_time": "2022-09-13T18:44:10.756Z"
   },
   {
    "duration": 6,
    "start_time": "2022-09-13T18:47:57.484Z"
   },
   {
    "duration": 16,
    "start_time": "2022-09-13T18:48:49.453Z"
   },
   {
    "duration": 492,
    "start_time": "2022-09-13T18:48:58.452Z"
   },
   {
    "duration": 44,
    "start_time": "2022-09-13T18:48:58.946Z"
   },
   {
    "duration": 13,
    "start_time": "2022-09-13T18:48:58.992Z"
   },
   {
    "duration": 2157,
    "start_time": "2022-09-13T18:48:59.007Z"
   },
   {
    "duration": 10,
    "start_time": "2022-09-13T18:49:01.166Z"
   },
   {
    "duration": 21,
    "start_time": "2022-09-13T18:49:01.178Z"
   },
   {
    "duration": 29,
    "start_time": "2022-09-13T18:49:01.201Z"
   },
   {
    "duration": 21,
    "start_time": "2022-09-13T18:49:01.232Z"
   },
   {
    "duration": 18,
    "start_time": "2022-09-13T18:49:01.254Z"
   },
   {
    "duration": 11,
    "start_time": "2022-09-13T18:49:01.274Z"
   },
   {
    "duration": 14,
    "start_time": "2022-09-13T18:49:01.286Z"
   },
   {
    "duration": 34,
    "start_time": "2022-09-13T18:49:01.301Z"
   },
   {
    "duration": 11,
    "start_time": "2022-09-13T18:49:01.337Z"
   },
   {
    "duration": 11,
    "start_time": "2022-09-13T18:50:03.102Z"
   },
   {
    "duration": 4,
    "start_time": "2022-09-13T18:50:47.985Z"
   },
   {
    "duration": 3,
    "start_time": "2022-09-13T18:55:08.770Z"
   },
   {
    "duration": 5,
    "start_time": "2022-09-13T18:55:23.250Z"
   },
   {
    "duration": 6,
    "start_time": "2022-09-13T18:56:28.040Z"
   },
   {
    "duration": 9,
    "start_time": "2022-09-13T18:56:55.291Z"
   },
   {
    "duration": 88,
    "start_time": "2022-09-13T18:57:02.738Z"
   },
   {
    "duration": 8,
    "start_time": "2022-09-13T18:57:28.881Z"
   },
   {
    "duration": 14,
    "start_time": "2022-09-13T18:58:44.031Z"
   },
   {
    "duration": 477,
    "start_time": "2022-09-13T18:58:49.575Z"
   },
   {
    "duration": 44,
    "start_time": "2022-09-13T18:58:50.054Z"
   },
   {
    "duration": 14,
    "start_time": "2022-09-13T18:58:50.099Z"
   },
   {
    "duration": 2173,
    "start_time": "2022-09-13T18:58:50.115Z"
   },
   {
    "duration": 9,
    "start_time": "2022-09-13T18:58:52.290Z"
   },
   {
    "duration": 9,
    "start_time": "2022-09-13T18:58:52.301Z"
   },
   {
    "duration": 7,
    "start_time": "2022-09-13T18:58:52.312Z"
   },
   {
    "duration": 10,
    "start_time": "2022-09-13T18:58:52.321Z"
   },
   {
    "duration": 13,
    "start_time": "2022-09-13T18:58:52.332Z"
   },
   {
    "duration": 4,
    "start_time": "2022-09-13T18:58:52.347Z"
   },
   {
    "duration": 27,
    "start_time": "2022-09-13T18:58:52.353Z"
   },
   {
    "duration": 15,
    "start_time": "2022-09-13T18:58:52.382Z"
   },
   {
    "duration": 3,
    "start_time": "2022-09-13T18:58:52.398Z"
   },
   {
    "duration": 16,
    "start_time": "2022-09-13T18:59:21.318Z"
   },
   {
    "duration": 475,
    "start_time": "2022-09-13T19:00:57.475Z"
   },
   {
    "duration": 43,
    "start_time": "2022-09-13T19:00:57.952Z"
   },
   {
    "duration": 13,
    "start_time": "2022-09-13T19:00:57.996Z"
   },
   {
    "duration": 2077,
    "start_time": "2022-09-13T19:00:58.011Z"
   },
   {
    "duration": 10,
    "start_time": "2022-09-13T19:01:00.090Z"
   },
   {
    "duration": 35,
    "start_time": "2022-09-13T19:01:00.102Z"
   },
   {
    "duration": 15,
    "start_time": "2022-09-13T19:01:00.139Z"
   },
   {
    "duration": 34,
    "start_time": "2022-09-13T19:01:00.155Z"
   },
   {
    "duration": 21,
    "start_time": "2022-09-13T19:01:00.190Z"
   },
   {
    "duration": 23,
    "start_time": "2022-09-13T19:01:00.213Z"
   },
   {
    "duration": 36,
    "start_time": "2022-09-13T19:01:00.238Z"
   },
   {
    "duration": 37,
    "start_time": "2022-09-13T19:01:00.275Z"
   },
   {
    "duration": 29,
    "start_time": "2022-09-13T19:01:00.313Z"
   },
   {
    "duration": 15,
    "start_time": "2022-09-13T19:02:23.319Z"
   },
   {
    "duration": 503,
    "start_time": "2022-09-13T19:02:30.765Z"
   },
   {
    "duration": 49,
    "start_time": "2022-09-13T19:02:31.271Z"
   },
   {
    "duration": 14,
    "start_time": "2022-09-13T19:02:31.322Z"
   },
   {
    "duration": 2142,
    "start_time": "2022-09-13T19:02:31.338Z"
   },
   {
    "duration": 10,
    "start_time": "2022-09-13T19:02:33.482Z"
   },
   {
    "duration": 10,
    "start_time": "2022-09-13T19:02:33.493Z"
   },
   {
    "duration": 7,
    "start_time": "2022-09-13T19:02:33.505Z"
   },
   {
    "duration": 15,
    "start_time": "2022-09-13T19:02:33.513Z"
   },
   {
    "duration": 16,
    "start_time": "2022-09-13T19:02:33.530Z"
   },
   {
    "duration": 5,
    "start_time": "2022-09-13T19:02:33.549Z"
   },
   {
    "duration": 9,
    "start_time": "2022-09-13T19:02:33.577Z"
   },
   {
    "duration": 21,
    "start_time": "2022-09-13T19:02:33.588Z"
   },
   {
    "duration": 2,
    "start_time": "2022-09-13T19:02:33.610Z"
   },
   {
    "duration": 94,
    "start_time": "2022-09-13T19:02:53.587Z"
   },
   {
    "duration": 16,
    "start_time": "2022-09-13T19:03:31.311Z"
   },
   {
    "duration": 9,
    "start_time": "2022-09-13T19:04:57.415Z"
   },
   {
    "duration": 42,
    "start_time": "2022-09-13T19:05:38.249Z"
   },
   {
    "duration": 14,
    "start_time": "2022-09-13T19:06:05.655Z"
   },
   {
    "duration": 88,
    "start_time": "2022-09-13T19:06:25.719Z"
   },
   {
    "duration": 97,
    "start_time": "2022-09-13T19:06:58.545Z"
   },
   {
    "duration": 94,
    "start_time": "2022-09-13T19:07:10.709Z"
   },
   {
    "duration": 14,
    "start_time": "2022-09-13T19:07:27.936Z"
   },
   {
    "duration": 446,
    "start_time": "2022-09-13T19:07:33.209Z"
   },
   {
    "duration": 42,
    "start_time": "2022-09-13T19:07:33.658Z"
   },
   {
    "duration": 14,
    "start_time": "2022-09-13T19:07:33.702Z"
   },
   {
    "duration": 2274,
    "start_time": "2022-09-13T19:07:33.718Z"
   },
   {
    "duration": 11,
    "start_time": "2022-09-13T19:07:35.994Z"
   },
   {
    "duration": 11,
    "start_time": "2022-09-13T19:07:36.007Z"
   },
   {
    "duration": 6,
    "start_time": "2022-09-13T19:07:36.019Z"
   },
   {
    "duration": 14,
    "start_time": "2022-09-13T19:07:36.026Z"
   },
   {
    "duration": 8,
    "start_time": "2022-09-13T19:07:36.042Z"
   },
   {
    "duration": 5,
    "start_time": "2022-09-13T19:07:36.052Z"
   },
   {
    "duration": 22,
    "start_time": "2022-09-13T19:07:36.058Z"
   },
   {
    "duration": 13,
    "start_time": "2022-09-13T19:07:36.082Z"
   },
   {
    "duration": 3,
    "start_time": "2022-09-13T19:07:36.097Z"
   },
   {
    "duration": 9,
    "start_time": "2022-09-13T19:07:53.507Z"
   },
   {
    "duration": 9,
    "start_time": "2022-09-13T19:08:48.366Z"
   },
   {
    "duration": 136,
    "start_time": "2022-09-13T19:09:11.612Z"
   },
   {
    "duration": 160,
    "start_time": "2022-09-13T19:10:16.774Z"
   },
   {
    "duration": 171,
    "start_time": "2022-09-13T19:10:27.214Z"
   },
   {
    "duration": 103,
    "start_time": "2022-09-13T19:10:46.228Z"
   },
   {
    "duration": 487,
    "start_time": "2022-09-13T19:19:38.364Z"
   },
   {
    "duration": 40,
    "start_time": "2022-09-13T19:19:38.853Z"
   },
   {
    "duration": 13,
    "start_time": "2022-09-13T19:19:38.894Z"
   },
   {
    "duration": 2104,
    "start_time": "2022-09-13T19:19:38.908Z"
   },
   {
    "duration": 8,
    "start_time": "2022-09-13T19:19:41.014Z"
   },
   {
    "duration": 14,
    "start_time": "2022-09-13T19:19:41.024Z"
   },
   {
    "duration": 6,
    "start_time": "2022-09-13T19:19:41.040Z"
   },
   {
    "duration": 16,
    "start_time": "2022-09-13T19:19:41.048Z"
   },
   {
    "duration": 7,
    "start_time": "2022-09-13T19:19:41.066Z"
   },
   {
    "duration": 5,
    "start_time": "2022-09-13T19:19:41.076Z"
   },
   {
    "duration": 9,
    "start_time": "2022-09-13T19:19:41.082Z"
   },
   {
    "duration": 106,
    "start_time": "2022-09-13T19:19:41.093Z"
   },
   {
    "duration": 2,
    "start_time": "2022-09-13T19:19:41.201Z"
   },
   {
    "duration": 464,
    "start_time": "2022-09-13T19:27:25.415Z"
   },
   {
    "duration": 7,
    "start_time": "2022-09-13T19:27:42.205Z"
   },
   {
    "duration": 8,
    "start_time": "2022-09-13T19:29:30.297Z"
   },
   {
    "duration": 470,
    "start_time": "2022-09-13T19:29:43.343Z"
   },
   {
    "duration": 42,
    "start_time": "2022-09-13T19:29:43.815Z"
   },
   {
    "duration": 19,
    "start_time": "2022-09-13T19:29:43.859Z"
   },
   {
    "duration": 2169,
    "start_time": "2022-09-13T19:29:43.880Z"
   },
   {
    "duration": 9,
    "start_time": "2022-09-13T19:29:46.051Z"
   },
   {
    "duration": 22,
    "start_time": "2022-09-13T19:29:46.062Z"
   },
   {
    "duration": 5,
    "start_time": "2022-09-13T19:29:46.085Z"
   },
   {
    "duration": 11,
    "start_time": "2022-09-13T19:29:46.092Z"
   },
   {
    "duration": 8,
    "start_time": "2022-09-13T19:29:46.105Z"
   },
   {
    "duration": 8,
    "start_time": "2022-09-13T19:29:46.114Z"
   },
   {
    "duration": 9,
    "start_time": "2022-09-13T19:29:46.124Z"
   },
   {
    "duration": 10,
    "start_time": "2022-09-13T19:29:46.134Z"
   },
   {
    "duration": 4,
    "start_time": "2022-09-13T19:29:46.146Z"
   },
   {
    "duration": 71,
    "start_time": "2022-09-13T19:30:12.049Z"
   },
   {
    "duration": 6,
    "start_time": "2022-09-13T19:30:21.988Z"
   },
   {
    "duration": 8,
    "start_time": "2022-09-13T19:31:46.399Z"
   },
   {
    "duration": 7,
    "start_time": "2022-09-13T19:31:54.335Z"
   },
   {
    "duration": 8,
    "start_time": "2022-09-13T19:32:02.077Z"
   },
   {
    "duration": 473,
    "start_time": "2022-09-13T19:33:56.180Z"
   },
   {
    "duration": 46,
    "start_time": "2022-09-13T19:33:56.655Z"
   },
   {
    "duration": 17,
    "start_time": "2022-09-13T19:33:56.703Z"
   },
   {
    "duration": 2118,
    "start_time": "2022-09-13T19:33:56.722Z"
   },
   {
    "duration": 9,
    "start_time": "2022-09-13T19:33:58.842Z"
   },
   {
    "duration": 13,
    "start_time": "2022-09-13T19:33:58.852Z"
   },
   {
    "duration": 5,
    "start_time": "2022-09-13T19:33:58.866Z"
   },
   {
    "duration": 13,
    "start_time": "2022-09-13T19:33:58.873Z"
   },
   {
    "duration": 8,
    "start_time": "2022-09-13T19:33:58.888Z"
   },
   {
    "duration": 5,
    "start_time": "2022-09-13T19:33:58.897Z"
   },
   {
    "duration": 11,
    "start_time": "2022-09-13T19:33:58.904Z"
   },
   {
    "duration": 8,
    "start_time": "2022-09-13T19:33:58.917Z"
   },
   {
    "duration": 3,
    "start_time": "2022-09-13T19:33:58.927Z"
   },
   {
    "duration": 76,
    "start_time": "2022-09-13T19:34:45.044Z"
   },
   {
    "duration": 9,
    "start_time": "2022-09-13T19:35:03.270Z"
   },
   {
    "duration": 11,
    "start_time": "2022-09-13T19:35:25.413Z"
   },
   {
    "duration": 95,
    "start_time": "2022-09-13T19:36:28.382Z"
   },
   {
    "duration": 8,
    "start_time": "2022-09-13T19:36:36.752Z"
   },
   {
    "duration": 18,
    "start_time": "2022-09-13T19:36:53.045Z"
   },
   {
    "duration": 59,
    "start_time": "2022-09-13T19:37:19.899Z"
   },
   {
    "duration": 19,
    "start_time": "2022-09-13T19:37:24.747Z"
   },
   {
    "duration": 19,
    "start_time": "2022-09-13T19:37:32.295Z"
   },
   {
    "duration": 20,
    "start_time": "2022-09-13T19:37:46.291Z"
   },
   {
    "duration": 25,
    "start_time": "2022-09-13T19:38:25.206Z"
   },
   {
    "duration": 21,
    "start_time": "2022-09-13T19:38:33.103Z"
   },
   {
    "duration": 18,
    "start_time": "2022-09-13T19:39:12.854Z"
   },
   {
    "duration": 460,
    "start_time": "2022-09-13T19:39:18.701Z"
   },
   {
    "duration": 45,
    "start_time": "2022-09-13T19:39:19.163Z"
   },
   {
    "duration": 14,
    "start_time": "2022-09-13T19:39:19.210Z"
   },
   {
    "duration": 2161,
    "start_time": "2022-09-13T19:39:19.226Z"
   },
   {
    "duration": 9,
    "start_time": "2022-09-13T19:39:21.389Z"
   },
   {
    "duration": 13,
    "start_time": "2022-09-13T19:39:21.399Z"
   },
   {
    "duration": 6,
    "start_time": "2022-09-13T19:39:21.414Z"
   },
   {
    "duration": 12,
    "start_time": "2022-09-13T19:39:21.421Z"
   },
   {
    "duration": 8,
    "start_time": "2022-09-13T19:39:21.434Z"
   },
   {
    "duration": 5,
    "start_time": "2022-09-13T19:39:21.444Z"
   },
   {
    "duration": 31,
    "start_time": "2022-09-13T19:39:21.450Z"
   },
   {
    "duration": 20,
    "start_time": "2022-09-13T19:39:21.482Z"
   },
   {
    "duration": 5,
    "start_time": "2022-09-13T19:39:21.503Z"
   },
   {
    "duration": 75,
    "start_time": "2022-09-13T19:40:51.982Z"
   },
   {
    "duration": 19,
    "start_time": "2022-09-13T19:41:47.689Z"
   },
   {
    "duration": 19,
    "start_time": "2022-09-13T19:42:03.153Z"
   },
   {
    "duration": 21,
    "start_time": "2022-09-13T19:42:20.765Z"
   },
   {
    "duration": 20,
    "start_time": "2022-09-13T19:42:30.923Z"
   },
   {
    "duration": 26,
    "start_time": "2022-09-13T19:43:39.197Z"
   },
   {
    "duration": 24,
    "start_time": "2022-09-13T19:45:58.992Z"
   },
   {
    "duration": 550,
    "start_time": "2022-09-13T19:46:22.566Z"
   },
   {
    "duration": 44,
    "start_time": "2022-09-13T19:46:23.118Z"
   },
   {
    "duration": 22,
    "start_time": "2022-09-13T19:46:23.164Z"
   },
   {
    "duration": 2192,
    "start_time": "2022-09-13T19:46:23.188Z"
   },
   {
    "duration": 10,
    "start_time": "2022-09-13T19:46:25.382Z"
   },
   {
    "duration": 16,
    "start_time": "2022-09-13T19:46:25.393Z"
   },
   {
    "duration": 7,
    "start_time": "2022-09-13T19:46:25.411Z"
   },
   {
    "duration": 11,
    "start_time": "2022-09-13T19:46:25.419Z"
   },
   {
    "duration": 8,
    "start_time": "2022-09-13T19:46:25.431Z"
   },
   {
    "duration": 5,
    "start_time": "2022-09-13T19:46:25.441Z"
   },
   {
    "duration": 35,
    "start_time": "2022-09-13T19:46:25.447Z"
   },
   {
    "duration": 29,
    "start_time": "2022-09-13T19:46:25.483Z"
   },
   {
    "duration": 3,
    "start_time": "2022-09-13T19:46:25.513Z"
   },
   {
    "duration": 146,
    "start_time": "2022-09-13T19:50:17.650Z"
   },
   {
    "duration": 44,
    "start_time": "2022-09-13T19:50:25.646Z"
   },
   {
    "duration": 46,
    "start_time": "2022-09-13T20:39:49.750Z"
   },
   {
    "duration": 54,
    "start_time": "2022-09-13T20:40:51.113Z"
   },
   {
    "duration": 47,
    "start_time": "2022-09-13T20:41:04.186Z"
   },
   {
    "duration": 281,
    "start_time": "2022-09-13T20:41:27.484Z"
   },
   {
    "duration": 198,
    "start_time": "2022-09-13T20:48:55.723Z"
   },
   {
    "duration": 295,
    "start_time": "2022-09-13T20:53:23.357Z"
   },
   {
    "duration": 399,
    "start_time": "2022-09-13T20:55:01.485Z"
   },
   {
    "duration": 6,
    "start_time": "2022-09-13T20:55:23.351Z"
   },
   {
    "duration": 228,
    "start_time": "2022-09-13T20:56:02.380Z"
   },
   {
    "duration": 195,
    "start_time": "2022-09-13T20:57:33.911Z"
   },
   {
    "duration": 195,
    "start_time": "2022-09-13T20:58:47.833Z"
   },
   {
    "duration": 167,
    "start_time": "2022-09-13T20:58:59.504Z"
   },
   {
    "duration": 9,
    "start_time": "2022-09-13T20:59:45.360Z"
   },
   {
    "duration": 64,
    "start_time": "2022-09-13T21:00:03.620Z"
   },
   {
    "duration": 11,
    "start_time": "2022-09-13T21:00:49.021Z"
   },
   {
    "duration": 11,
    "start_time": "2022-09-13T21:01:35.071Z"
   },
   {
    "duration": 9,
    "start_time": "2022-09-13T21:01:43.096Z"
   },
   {
    "duration": 9,
    "start_time": "2022-09-13T21:01:55.118Z"
   },
   {
    "duration": 9,
    "start_time": "2022-09-13T21:03:13.915Z"
   },
   {
    "duration": 9,
    "start_time": "2022-09-13T21:03:20.232Z"
   },
   {
    "duration": 44,
    "start_time": "2022-09-13T21:06:12.454Z"
   },
   {
    "duration": 65,
    "start_time": "2022-09-13T21:06:15.577Z"
   },
   {
    "duration": 68,
    "start_time": "2022-09-13T21:06:22.663Z"
   },
   {
    "duration": 65,
    "start_time": "2022-09-13T21:07:07.001Z"
   },
   {
    "duration": 62,
    "start_time": "2022-09-13T21:07:13.819Z"
   },
   {
    "duration": 492,
    "start_time": "2022-09-13T21:07:45.758Z"
   },
   {
    "duration": 39,
    "start_time": "2022-09-13T21:07:46.251Z"
   },
   {
    "duration": 13,
    "start_time": "2022-09-13T21:07:46.292Z"
   },
   {
    "duration": 2013,
    "start_time": "2022-09-13T21:07:46.307Z"
   },
   {
    "duration": 10,
    "start_time": "2022-09-13T21:07:48.322Z"
   },
   {
    "duration": 14,
    "start_time": "2022-09-13T21:07:48.333Z"
   },
   {
    "duration": 5,
    "start_time": "2022-09-13T21:07:48.349Z"
   },
   {
    "duration": 10,
    "start_time": "2022-09-13T21:07:48.355Z"
   },
   {
    "duration": 7,
    "start_time": "2022-09-13T21:07:48.377Z"
   },
   {
    "duration": 5,
    "start_time": "2022-09-13T21:07:48.386Z"
   },
   {
    "duration": 7,
    "start_time": "2022-09-13T21:07:48.393Z"
   },
   {
    "duration": 29,
    "start_time": "2022-09-13T21:07:48.401Z"
   },
   {
    "duration": 10,
    "start_time": "2022-09-13T21:07:48.431Z"
   },
   {
    "duration": 85,
    "start_time": "2022-09-13T21:07:48.442Z"
   },
   {
    "duration": 76,
    "start_time": "2022-09-13T21:08:11.667Z"
   },
   {
    "duration": 77,
    "start_time": "2022-09-13T21:09:10.252Z"
   },
   {
    "duration": 91,
    "start_time": "2022-09-13T21:09:16.636Z"
   },
   {
    "duration": 72,
    "start_time": "2022-09-13T21:09:34.597Z"
   },
   {
    "duration": 188,
    "start_time": "2022-09-13T21:10:01.727Z"
   },
   {
    "duration": 10,
    "start_time": "2022-09-13T21:10:52.219Z"
   },
   {
    "duration": 10,
    "start_time": "2022-09-13T21:10:59.350Z"
   },
   {
    "duration": 10,
    "start_time": "2022-09-13T21:11:39.638Z"
   },
   {
    "duration": 11,
    "start_time": "2022-09-13T21:11:49.577Z"
   },
   {
    "duration": 10,
    "start_time": "2022-09-13T21:11:54.352Z"
   },
   {
    "duration": 472,
    "start_time": "2022-09-13T21:12:04.406Z"
   },
   {
    "duration": 42,
    "start_time": "2022-09-13T21:12:04.879Z"
   },
   {
    "duration": 13,
    "start_time": "2022-09-13T21:12:04.923Z"
   },
   {
    "duration": 2150,
    "start_time": "2022-09-13T21:12:04.938Z"
   },
   {
    "duration": 9,
    "start_time": "2022-09-13T21:12:07.090Z"
   },
   {
    "duration": 14,
    "start_time": "2022-09-13T21:12:07.101Z"
   },
   {
    "duration": 6,
    "start_time": "2022-09-13T21:12:07.116Z"
   },
   {
    "duration": 11,
    "start_time": "2022-09-13T21:12:07.124Z"
   },
   {
    "duration": 8,
    "start_time": "2022-09-13T21:12:07.136Z"
   },
   {
    "duration": 5,
    "start_time": "2022-09-13T21:12:07.146Z"
   },
   {
    "duration": 29,
    "start_time": "2022-09-13T21:12:07.152Z"
   },
   {
    "duration": 28,
    "start_time": "2022-09-13T21:12:07.182Z"
   },
   {
    "duration": 9,
    "start_time": "2022-09-13T21:12:07.212Z"
   },
   {
    "duration": 48,
    "start_time": "2022-09-13T21:15:27.119Z"
   },
   {
    "duration": 5,
    "start_time": "2022-09-13T21:20:22.540Z"
   },
   {
    "duration": 4,
    "start_time": "2022-09-13T21:20:33.068Z"
   },
   {
    "duration": 5,
    "start_time": "2022-09-13T21:20:45.872Z"
   },
   {
    "duration": 4,
    "start_time": "2022-09-13T21:20:53.425Z"
   },
   {
    "duration": 45,
    "start_time": "2022-09-13T21:20:58.662Z"
   },
   {
    "duration": 4,
    "start_time": "2022-09-13T21:24:48.284Z"
   },
   {
    "duration": 25,
    "start_time": "2022-09-13T21:26:04.700Z"
   },
   {
    "duration": 20,
    "start_time": "2022-09-13T21:26:50.779Z"
   },
   {
    "duration": 5,
    "start_time": "2022-09-13T21:28:03.820Z"
   },
   {
    "duration": 45,
    "start_time": "2022-09-13T21:30:41.297Z"
   },
   {
    "duration": 64,
    "start_time": "2022-09-13T21:30:55.381Z"
   },
   {
    "duration": 55,
    "start_time": "2022-09-14T15:48:37.673Z"
   },
   {
    "duration": 1152,
    "start_time": "2022-09-14T15:48:50.233Z"
   },
   {
    "duration": 49,
    "start_time": "2022-09-14T15:48:51.387Z"
   },
   {
    "duration": 14,
    "start_time": "2022-09-14T15:48:51.438Z"
   },
   {
    "duration": 2252,
    "start_time": "2022-09-14T15:48:51.453Z"
   },
   {
    "duration": 16,
    "start_time": "2022-09-14T15:48:53.707Z"
   },
   {
    "duration": 17,
    "start_time": "2022-09-14T15:48:53.725Z"
   },
   {
    "duration": 5,
    "start_time": "2022-09-14T15:48:53.743Z"
   },
   {
    "duration": 11,
    "start_time": "2022-09-14T15:48:53.749Z"
   },
   {
    "duration": 11,
    "start_time": "2022-09-14T15:48:53.761Z"
   },
   {
    "duration": 6,
    "start_time": "2022-09-14T15:48:53.774Z"
   },
   {
    "duration": 9,
    "start_time": "2022-09-14T15:48:53.781Z"
   },
   {
    "duration": 50,
    "start_time": "2022-09-14T15:48:53.792Z"
   },
   {
    "duration": 11,
    "start_time": "2022-09-14T15:48:53.844Z"
   },
   {
    "duration": 72,
    "start_time": "2022-09-14T15:48:53.857Z"
   },
   {
    "duration": 4,
    "start_time": "2022-09-14T15:48:53.931Z"
   },
   {
    "duration": 4,
    "start_time": "2022-09-14T15:49:23.792Z"
   },
   {
    "duration": 13,
    "start_time": "2022-09-14T15:51:25.120Z"
   },
   {
    "duration": 12,
    "start_time": "2022-09-14T15:55:08.174Z"
   },
   {
    "duration": 9,
    "start_time": "2022-09-14T15:55:21.349Z"
   },
   {
    "duration": 5,
    "start_time": "2022-09-14T16:01:54.340Z"
   },
   {
    "duration": 8,
    "start_time": "2022-09-14T16:03:29.052Z"
   },
   {
    "duration": 22,
    "start_time": "2022-09-14T16:03:40.229Z"
   },
   {
    "duration": 24,
    "start_time": "2022-09-14T16:04:33.537Z"
   },
   {
    "duration": 2005,
    "start_time": "2022-09-14T16:10:38.677Z"
   },
   {
    "duration": 1494,
    "start_time": "2022-09-14T16:10:49.492Z"
   },
   {
    "duration": 7,
    "start_time": "2022-09-14T16:11:03.550Z"
   },
   {
    "duration": 5,
    "start_time": "2022-09-14T16:11:59.983Z"
   },
   {
    "duration": 7,
    "start_time": "2022-09-14T16:12:09.925Z"
   },
   {
    "duration": 87,
    "start_time": "2022-09-14T16:32:45.701Z"
   },
   {
    "duration": 3,
    "start_time": "2022-09-14T16:33:24.047Z"
   },
   {
    "duration": 275,
    "start_time": "2022-09-14T16:38:08.607Z"
   },
   {
    "duration": 20,
    "start_time": "2022-09-14T16:42:34.599Z"
   },
   {
    "duration": 6,
    "start_time": "2022-09-14T16:42:53.940Z"
   },
   {
    "duration": 17,
    "start_time": "2022-09-14T16:44:02.280Z"
   },
   {
    "duration": 485,
    "start_time": "2022-09-14T16:44:28.757Z"
   },
   {
    "duration": 40,
    "start_time": "2022-09-14T16:44:29.243Z"
   },
   {
    "duration": 24,
    "start_time": "2022-09-14T16:44:29.285Z"
   },
   {
    "duration": 2010,
    "start_time": "2022-09-14T16:44:29.311Z"
   },
   {
    "duration": 8,
    "start_time": "2022-09-14T16:44:31.323Z"
   },
   {
    "duration": 14,
    "start_time": "2022-09-14T16:44:31.333Z"
   },
   {
    "duration": 5,
    "start_time": "2022-09-14T16:44:31.349Z"
   },
   {
    "duration": 22,
    "start_time": "2022-09-14T16:44:31.356Z"
   },
   {
    "duration": 7,
    "start_time": "2022-09-14T16:44:31.380Z"
   },
   {
    "duration": 9,
    "start_time": "2022-09-14T16:44:31.390Z"
   },
   {
    "duration": 25,
    "start_time": "2022-09-14T16:44:31.400Z"
   },
   {
    "duration": 38,
    "start_time": "2022-09-14T16:44:31.427Z"
   },
   {
    "duration": 10,
    "start_time": "2022-09-14T16:44:31.466Z"
   },
   {
    "duration": 54,
    "start_time": "2022-09-14T16:44:31.477Z"
   },
   {
    "duration": 4,
    "start_time": "2022-09-14T16:44:31.532Z"
   },
   {
    "duration": 11,
    "start_time": "2022-09-14T16:44:31.538Z"
   },
   {
    "duration": 11,
    "start_time": "2022-09-14T16:44:31.550Z"
   },
   {
    "duration": 282,
    "start_time": "2022-09-14T16:44:31.563Z"
   },
   {
    "duration": 16,
    "start_time": "2022-09-14T16:44:31.847Z"
   },
   {
    "duration": 6,
    "start_time": "2022-09-14T16:49:48.248Z"
   },
   {
    "duration": 4,
    "start_time": "2022-09-14T16:50:19.886Z"
   },
   {
    "duration": 87,
    "start_time": "2022-09-14T16:58:50.414Z"
   },
   {
    "duration": 12,
    "start_time": "2022-09-14T16:59:09.863Z"
   },
   {
    "duration": 9,
    "start_time": "2022-09-14T16:59:24.337Z"
   },
   {
    "duration": 8,
    "start_time": "2022-09-14T17:00:40.736Z"
   },
   {
    "duration": 8,
    "start_time": "2022-09-14T17:01:28.279Z"
   },
   {
    "duration": 10,
    "start_time": "2022-09-14T17:03:15.156Z"
   },
   {
    "duration": 10,
    "start_time": "2022-09-14T17:03:36.461Z"
   },
   {
    "duration": 4,
    "start_time": "2022-09-14T17:03:45.113Z"
   },
   {
    "duration": 9,
    "start_time": "2022-09-14T17:06:37.188Z"
   },
   {
    "duration": 11,
    "start_time": "2022-09-14T17:07:04.713Z"
   },
   {
    "duration": 452,
    "start_time": "2022-09-14T17:07:14.737Z"
   },
   {
    "duration": 49,
    "start_time": "2022-09-14T17:07:15.191Z"
   },
   {
    "duration": 19,
    "start_time": "2022-09-14T17:07:15.242Z"
   },
   {
    "duration": 1934,
    "start_time": "2022-09-14T17:07:15.263Z"
   },
   {
    "duration": 9,
    "start_time": "2022-09-14T17:07:17.198Z"
   },
   {
    "duration": 14,
    "start_time": "2022-09-14T17:07:17.208Z"
   },
   {
    "duration": 7,
    "start_time": "2022-09-14T17:07:17.223Z"
   },
   {
    "duration": 11,
    "start_time": "2022-09-14T17:07:17.231Z"
   },
   {
    "duration": 7,
    "start_time": "2022-09-14T17:07:17.243Z"
   },
   {
    "duration": 9,
    "start_time": "2022-09-14T17:07:17.252Z"
   },
   {
    "duration": 7,
    "start_time": "2022-09-14T17:07:17.262Z"
   },
   {
    "duration": 56,
    "start_time": "2022-09-14T17:07:17.270Z"
   },
   {
    "duration": 9,
    "start_time": "2022-09-14T17:07:17.327Z"
   },
   {
    "duration": 64,
    "start_time": "2022-09-14T17:07:17.338Z"
   },
   {
    "duration": 4,
    "start_time": "2022-09-14T17:07:17.404Z"
   },
   {
    "duration": 10,
    "start_time": "2022-09-14T17:07:17.409Z"
   },
   {
    "duration": 7,
    "start_time": "2022-09-14T17:07:17.420Z"
   },
   {
    "duration": 289,
    "start_time": "2022-09-14T17:07:17.428Z"
   },
   {
    "duration": 74,
    "start_time": "2022-09-14T17:07:17.719Z"
   },
   {
    "duration": 0,
    "start_time": "2022-09-14T17:07:17.794Z"
   },
   {
    "duration": 4,
    "start_time": "2022-09-14T17:07:31.385Z"
   },
   {
    "duration": 276,
    "start_time": "2022-09-14T17:20:32.172Z"
   },
   {
    "duration": 300,
    "start_time": "2022-09-14T17:21:21.450Z"
   },
   {
    "duration": 251,
    "start_time": "2022-09-14T17:21:30.192Z"
   },
   {
    "duration": 242,
    "start_time": "2022-09-14T17:22:28.289Z"
   },
   {
    "duration": 115,
    "start_time": "2022-09-14T17:33:29.061Z"
   },
   {
    "duration": 304,
    "start_time": "2022-09-14T17:34:06.507Z"
   },
   {
    "duration": 248,
    "start_time": "2022-09-14T17:34:41.233Z"
   },
   {
    "duration": 264,
    "start_time": "2022-09-14T17:38:07.668Z"
   },
   {
    "duration": 376,
    "start_time": "2022-09-14T17:38:19.810Z"
   },
   {
    "duration": 250,
    "start_time": "2022-09-14T17:39:15.095Z"
   },
   {
    "duration": 266,
    "start_time": "2022-09-14T17:39:24.887Z"
   },
   {
    "duration": 253,
    "start_time": "2022-09-14T17:39:35.338Z"
   },
   {
    "duration": 337,
    "start_time": "2022-09-14T17:39:42.553Z"
   },
   {
    "duration": 339,
    "start_time": "2022-09-14T17:40:00.704Z"
   },
   {
    "duration": 497,
    "start_time": "2022-09-14T17:40:39.260Z"
   },
   {
    "duration": 42,
    "start_time": "2022-09-14T17:40:39.759Z"
   },
   {
    "duration": 26,
    "start_time": "2022-09-14T17:40:39.803Z"
   },
   {
    "duration": 2086,
    "start_time": "2022-09-14T17:40:39.831Z"
   },
   {
    "duration": 11,
    "start_time": "2022-09-14T17:40:41.919Z"
   },
   {
    "duration": 18,
    "start_time": "2022-09-14T17:40:41.932Z"
   },
   {
    "duration": 7,
    "start_time": "2022-09-14T17:40:41.952Z"
   },
   {
    "duration": 12,
    "start_time": "2022-09-14T17:40:41.961Z"
   },
   {
    "duration": 10,
    "start_time": "2022-09-14T17:40:41.974Z"
   },
   {
    "duration": 26,
    "start_time": "2022-09-14T17:40:41.986Z"
   },
   {
    "duration": 9,
    "start_time": "2022-09-14T17:40:42.013Z"
   },
   {
    "duration": 26,
    "start_time": "2022-09-14T17:40:42.024Z"
   },
   {
    "duration": 10,
    "start_time": "2022-09-14T17:40:42.051Z"
   },
   {
    "duration": 76,
    "start_time": "2022-09-14T17:40:42.063Z"
   },
   {
    "duration": 5,
    "start_time": "2022-09-14T17:40:42.141Z"
   },
   {
    "duration": 8,
    "start_time": "2022-09-14T17:40:42.147Z"
   },
   {
    "duration": 8,
    "start_time": "2022-09-14T17:40:42.156Z"
   },
   {
    "duration": 297,
    "start_time": "2022-09-14T17:40:42.165Z"
   },
   {
    "duration": 91,
    "start_time": "2022-09-14T17:40:42.464Z"
   },
   {
    "duration": 0,
    "start_time": "2022-09-14T17:40:42.556Z"
   },
   {
    "duration": 0,
    "start_time": "2022-09-14T17:40:42.558Z"
   },
   {
    "duration": 0,
    "start_time": "2022-09-14T17:40:42.560Z"
   },
   {
    "duration": 64,
    "start_time": "2022-09-14T17:41:15.784Z"
   },
   {
    "duration": 12,
    "start_time": "2022-09-14T17:41:59.104Z"
   },
   {
    "duration": 11,
    "start_time": "2022-09-14T17:45:39.111Z"
   },
   {
    "duration": 11,
    "start_time": "2022-09-14T17:46:07.861Z"
   },
   {
    "duration": 9,
    "start_time": "2022-09-14T17:47:05.228Z"
   },
   {
    "duration": 9,
    "start_time": "2022-09-14T17:48:15.650Z"
   },
   {
    "duration": 11,
    "start_time": "2022-09-14T17:48:24.182Z"
   },
   {
    "duration": 12,
    "start_time": "2022-09-14T17:49:36.747Z"
   },
   {
    "duration": 51,
    "start_time": "2022-09-14T17:50:53.627Z"
   },
   {
    "duration": 890,
    "start_time": "2022-09-14T17:51:05.624Z"
   },
   {
    "duration": 480,
    "start_time": "2022-09-14T17:51:18.372Z"
   },
   {
    "duration": 41,
    "start_time": "2022-09-14T17:51:18.854Z"
   },
   {
    "duration": 23,
    "start_time": "2022-09-14T17:51:18.896Z"
   },
   {
    "duration": 1919,
    "start_time": "2022-09-14T17:51:18.921Z"
   },
   {
    "duration": 10,
    "start_time": "2022-09-14T17:51:20.842Z"
   },
   {
    "duration": 30,
    "start_time": "2022-09-14T17:51:20.853Z"
   },
   {
    "duration": 5,
    "start_time": "2022-09-14T17:51:20.885Z"
   },
   {
    "duration": 20,
    "start_time": "2022-09-14T17:51:20.892Z"
   },
   {
    "duration": 7,
    "start_time": "2022-09-14T17:51:20.914Z"
   },
   {
    "duration": 6,
    "start_time": "2022-09-14T17:51:20.924Z"
   },
   {
    "duration": 14,
    "start_time": "2022-09-14T17:51:20.931Z"
   },
   {
    "duration": 40,
    "start_time": "2022-09-14T17:51:20.947Z"
   },
   {
    "duration": 28,
    "start_time": "2022-09-14T17:51:20.989Z"
   },
   {
    "duration": 46,
    "start_time": "2022-09-14T17:51:21.019Z"
   },
   {
    "duration": 4,
    "start_time": "2022-09-14T17:51:21.067Z"
   },
   {
    "duration": 17,
    "start_time": "2022-09-14T17:51:21.073Z"
   },
   {
    "duration": 17,
    "start_time": "2022-09-14T17:51:21.092Z"
   },
   {
    "duration": 304,
    "start_time": "2022-09-14T17:51:21.111Z"
   },
   {
    "duration": 829,
    "start_time": "2022-09-14T17:51:21.416Z"
   },
   {
    "duration": 0,
    "start_time": "2022-09-14T17:51:22.247Z"
   },
   {
    "duration": 0,
    "start_time": "2022-09-14T17:51:22.248Z"
   },
   {
    "duration": 0,
    "start_time": "2022-09-14T17:51:22.250Z"
   },
   {
    "duration": 3,
    "start_time": "2022-09-14T17:51:34.718Z"
   },
   {
    "duration": 15,
    "start_time": "2022-09-14T17:53:11.564Z"
   },
   {
    "duration": 477,
    "start_time": "2022-09-14T17:53:23.845Z"
   },
   {
    "duration": 39,
    "start_time": "2022-09-14T17:53:24.325Z"
   },
   {
    "duration": 14,
    "start_time": "2022-09-14T17:53:24.366Z"
   },
   {
    "duration": 2040,
    "start_time": "2022-09-14T17:53:24.381Z"
   },
   {
    "duration": 13,
    "start_time": "2022-09-14T17:53:26.423Z"
   },
   {
    "duration": 20,
    "start_time": "2022-09-14T17:53:26.438Z"
   },
   {
    "duration": 8,
    "start_time": "2022-09-14T17:53:26.460Z"
   },
   {
    "duration": 17,
    "start_time": "2022-09-14T17:53:26.469Z"
   },
   {
    "duration": 21,
    "start_time": "2022-09-14T17:53:26.488Z"
   },
   {
    "duration": 5,
    "start_time": "2022-09-14T17:53:26.512Z"
   },
   {
    "duration": 7,
    "start_time": "2022-09-14T17:53:26.519Z"
   },
   {
    "duration": 32,
    "start_time": "2022-09-14T17:53:26.528Z"
   },
   {
    "duration": 10,
    "start_time": "2022-09-14T17:53:26.562Z"
   },
   {
    "duration": 75,
    "start_time": "2022-09-14T17:53:26.573Z"
   },
   {
    "duration": 4,
    "start_time": "2022-09-14T17:53:26.650Z"
   },
   {
    "duration": 13,
    "start_time": "2022-09-14T17:53:26.655Z"
   },
   {
    "duration": 12,
    "start_time": "2022-09-14T17:53:26.670Z"
   },
   {
    "duration": 341,
    "start_time": "2022-09-14T17:53:26.684Z"
   },
   {
    "duration": 86,
    "start_time": "2022-09-14T17:53:27.026Z"
   },
   {
    "duration": 0,
    "start_time": "2022-09-14T17:53:27.114Z"
   },
   {
    "duration": 0,
    "start_time": "2022-09-14T17:53:27.115Z"
   },
   {
    "duration": 0,
    "start_time": "2022-09-14T17:53:27.117Z"
   },
   {
    "duration": 11,
    "start_time": "2022-09-14T17:55:31.280Z"
   },
   {
    "duration": 13,
    "start_time": "2022-09-14T17:56:30.689Z"
   },
   {
    "duration": 8,
    "start_time": "2022-09-14T17:57:26.307Z"
   },
   {
    "duration": 1015,
    "start_time": "2022-09-14T17:58:37.926Z"
   },
   {
    "duration": 1334,
    "start_time": "2022-09-14T17:58:53.738Z"
   },
   {
    "duration": 1168,
    "start_time": "2022-09-14T18:00:32.595Z"
   },
   {
    "duration": 9,
    "start_time": "2022-09-14T18:01:11.109Z"
   },
   {
    "duration": 4,
    "start_time": "2022-09-14T18:01:23.376Z"
   },
   {
    "duration": 6,
    "start_time": "2022-09-14T18:01:38.704Z"
   },
   {
    "duration": 20,
    "start_time": "2022-09-14T18:03:43.754Z"
   },
   {
    "duration": 10,
    "start_time": "2022-09-14T18:04:08.595Z"
   },
   {
    "duration": 9,
    "start_time": "2022-09-14T18:07:33.567Z"
   },
   {
    "duration": 10,
    "start_time": "2022-09-14T18:07:40.080Z"
   },
   {
    "duration": 13,
    "start_time": "2022-09-14T18:07:44.859Z"
   },
   {
    "duration": 6,
    "start_time": "2022-09-14T18:11:12.437Z"
   },
   {
    "duration": 6,
    "start_time": "2022-09-14T18:12:22.138Z"
   },
   {
    "duration": 3,
    "start_time": "2022-09-14T18:12:44.467Z"
   },
   {
    "duration": 12,
    "start_time": "2022-09-14T18:12:58.294Z"
   },
   {
    "duration": 9,
    "start_time": "2022-09-14T18:14:30.995Z"
   },
   {
    "duration": 6,
    "start_time": "2022-09-14T18:14:43.522Z"
   },
   {
    "duration": 254,
    "start_time": "2022-09-14T18:16:30.024Z"
   },
   {
    "duration": 312,
    "start_time": "2022-09-14T18:19:37.681Z"
   },
   {
    "duration": 348,
    "start_time": "2022-09-14T18:23:37.187Z"
   },
   {
    "duration": 267,
    "start_time": "2022-09-14T18:24:00.791Z"
   },
   {
    "duration": 249,
    "start_time": "2022-09-14T18:24:17.286Z"
   },
   {
    "duration": 285,
    "start_time": "2022-09-14T18:25:58.922Z"
   },
   {
    "duration": 275,
    "start_time": "2022-09-14T18:26:20.696Z"
   },
   {
    "duration": 263,
    "start_time": "2022-09-14T18:28:48.623Z"
   },
   {
    "duration": 343,
    "start_time": "2022-09-14T18:29:07.087Z"
   },
   {
    "duration": 242,
    "start_time": "2022-09-14T18:29:59.993Z"
   },
   {
    "duration": 2134,
    "start_time": "2022-09-14T18:43:39.297Z"
   },
   {
    "duration": 250,
    "start_time": "2022-09-14T18:43:52.798Z"
   },
   {
    "duration": 241,
    "start_time": "2022-09-14T18:44:06.943Z"
   },
   {
    "duration": 260,
    "start_time": "2022-09-14T18:44:59.870Z"
   },
   {
    "duration": 39,
    "start_time": "2022-09-14T18:49:20.412Z"
   },
   {
    "duration": 335,
    "start_time": "2022-09-14T18:50:17.703Z"
   },
   {
    "duration": 184,
    "start_time": "2022-09-14T18:50:52.271Z"
   },
   {
    "duration": 218,
    "start_time": "2022-09-14T18:51:12.705Z"
   },
   {
    "duration": 159,
    "start_time": "2022-09-14T18:51:20.096Z"
   },
   {
    "duration": 171,
    "start_time": "2022-09-14T18:51:27.655Z"
   },
   {
    "duration": 67,
    "start_time": "2022-09-14T18:54:23.367Z"
   },
   {
    "duration": 58,
    "start_time": "2022-09-14T18:55:11.294Z"
   },
   {
    "duration": 166,
    "start_time": "2022-09-14T18:57:29.229Z"
   },
   {
    "duration": 2971,
    "start_time": "2022-09-14T18:58:58.900Z"
   },
   {
    "duration": 861,
    "start_time": "2022-09-14T18:59:34.735Z"
   },
   {
    "duration": 180,
    "start_time": "2022-09-14T18:59:49.236Z"
   },
   {
    "duration": 179,
    "start_time": "2022-09-14T19:00:00.297Z"
   },
   {
    "duration": 140,
    "start_time": "2022-09-14T19:00:30.046Z"
   },
   {
    "duration": 164,
    "start_time": "2022-09-14T19:00:40.556Z"
   },
   {
    "duration": 158,
    "start_time": "2022-09-14T19:00:47.987Z"
   },
   {
    "duration": 75,
    "start_time": "2022-09-14T19:06:00.196Z"
   },
   {
    "duration": 234,
    "start_time": "2022-09-14T19:08:43.407Z"
   },
   {
    "duration": 167,
    "start_time": "2022-09-14T19:08:55.910Z"
   },
   {
    "duration": 76,
    "start_time": "2022-09-14T19:14:26.250Z"
   },
   {
    "duration": 15,
    "start_time": "2022-09-14T19:15:38.930Z"
   },
   {
    "duration": 501,
    "start_time": "2022-09-14T19:19:02.109Z"
   },
   {
    "duration": 53,
    "start_time": "2022-09-14T19:19:02.612Z"
   },
   {
    "duration": 17,
    "start_time": "2022-09-14T19:19:02.667Z"
   },
   {
    "duration": 1918,
    "start_time": "2022-09-14T19:19:02.687Z"
   },
   {
    "duration": 9,
    "start_time": "2022-09-14T19:19:04.606Z"
   },
   {
    "duration": 14,
    "start_time": "2022-09-14T19:19:04.616Z"
   },
   {
    "duration": 5,
    "start_time": "2022-09-14T19:19:04.631Z"
   },
   {
    "duration": 11,
    "start_time": "2022-09-14T19:19:04.637Z"
   },
   {
    "duration": 7,
    "start_time": "2022-09-14T19:19:04.649Z"
   },
   {
    "duration": 4,
    "start_time": "2022-09-14T19:19:04.658Z"
   },
   {
    "duration": 9,
    "start_time": "2022-09-14T19:19:04.664Z"
   },
   {
    "duration": 44,
    "start_time": "2022-09-14T19:19:04.674Z"
   },
   {
    "duration": 9,
    "start_time": "2022-09-14T19:19:04.720Z"
   },
   {
    "duration": 53,
    "start_time": "2022-09-14T19:19:04.730Z"
   },
   {
    "duration": 4,
    "start_time": "2022-09-14T19:19:04.784Z"
   },
   {
    "duration": 20,
    "start_time": "2022-09-14T19:19:04.789Z"
   },
   {
    "duration": 7,
    "start_time": "2022-09-14T19:19:04.810Z"
   },
   {
    "duration": 283,
    "start_time": "2022-09-14T19:19:04.819Z"
   },
   {
    "duration": 7,
    "start_time": "2022-09-14T19:19:05.104Z"
   },
   {
    "duration": 18,
    "start_time": "2022-09-14T19:19:05.113Z"
   },
   {
    "duration": 269,
    "start_time": "2022-09-14T19:19:05.132Z"
   },
   {
    "duration": 326,
    "start_time": "2022-09-14T19:19:05.403Z"
   },
   {
    "duration": 246,
    "start_time": "2022-09-14T19:19:05.731Z"
   },
   {
    "duration": 266,
    "start_time": "2022-09-14T19:19:05.979Z"
   },
   {
    "duration": 179,
    "start_time": "2022-09-14T19:19:06.247Z"
   },
   {
    "duration": 149,
    "start_time": "2022-09-14T19:19:06.428Z"
   },
   {
    "duration": 164,
    "start_time": "2022-09-14T19:19:06.579Z"
   },
   {
    "duration": 118,
    "start_time": "2022-09-14T19:19:06.747Z"
   },
   {
    "duration": 102,
    "start_time": "2022-09-14T19:21:08.009Z"
   },
   {
    "duration": 158,
    "start_time": "2022-09-14T19:24:58.563Z"
   },
   {
    "duration": 233,
    "start_time": "2022-09-14T19:26:58.063Z"
   },
   {
    "duration": 151,
    "start_time": "2022-09-14T19:27:04.902Z"
   },
   {
    "duration": 46,
    "start_time": "2022-09-14T19:39:17.249Z"
   },
   {
    "duration": 1436,
    "start_time": "2022-09-14T19:40:38.515Z"
   },
   {
    "duration": 167,
    "start_time": "2022-09-14T19:40:53.739Z"
   },
   {
    "duration": 165,
    "start_time": "2022-09-14T19:41:18.839Z"
   },
   {
    "duration": 146,
    "start_time": "2022-09-14T19:43:09.604Z"
   },
   {
    "duration": 65,
    "start_time": "2022-09-14T19:43:45.132Z"
   },
   {
    "duration": 146,
    "start_time": "2022-09-14T19:44:30.096Z"
   },
   {
    "duration": 157,
    "start_time": "2022-09-14T19:44:40.528Z"
   },
   {
    "duration": 8,
    "start_time": "2022-09-14T19:47:54.755Z"
   },
   {
    "duration": 443,
    "start_time": "2022-09-14T19:47:59.671Z"
   },
   {
    "duration": 39,
    "start_time": "2022-09-14T19:48:00.115Z"
   },
   {
    "duration": 12,
    "start_time": "2022-09-14T19:48:00.156Z"
   },
   {
    "duration": 1931,
    "start_time": "2022-09-14T19:48:00.170Z"
   },
   {
    "duration": 9,
    "start_time": "2022-09-14T19:48:02.102Z"
   },
   {
    "duration": 20,
    "start_time": "2022-09-14T19:48:02.112Z"
   },
   {
    "duration": 5,
    "start_time": "2022-09-14T19:48:02.134Z"
   },
   {
    "duration": 17,
    "start_time": "2022-09-14T19:48:02.140Z"
   },
   {
    "duration": 7,
    "start_time": "2022-09-14T19:48:02.158Z"
   },
   {
    "duration": 9,
    "start_time": "2022-09-14T19:48:02.167Z"
   },
   {
    "duration": 15,
    "start_time": "2022-09-14T19:48:02.177Z"
   },
   {
    "duration": 32,
    "start_time": "2022-09-14T19:48:02.194Z"
   },
   {
    "duration": 9,
    "start_time": "2022-09-14T19:48:02.227Z"
   },
   {
    "duration": 75,
    "start_time": "2022-09-14T19:48:02.238Z"
   },
   {
    "duration": 4,
    "start_time": "2022-09-14T19:48:02.314Z"
   },
   {
    "duration": 51,
    "start_time": "2022-09-14T19:48:02.320Z"
   },
   {
    "duration": 30,
    "start_time": "2022-09-14T19:48:02.373Z"
   },
   {
    "duration": 318,
    "start_time": "2022-09-14T19:48:02.404Z"
   },
   {
    "duration": 6,
    "start_time": "2022-09-14T19:48:02.724Z"
   },
   {
    "duration": 17,
    "start_time": "2022-09-14T19:48:02.732Z"
   },
   {
    "duration": 278,
    "start_time": "2022-09-14T19:48:02.750Z"
   },
   {
    "duration": 327,
    "start_time": "2022-09-14T19:48:03.030Z"
   },
   {
    "duration": 253,
    "start_time": "2022-09-14T19:48:03.359Z"
   },
   {
    "duration": 274,
    "start_time": "2022-09-14T19:48:03.614Z"
   },
   {
    "duration": 174,
    "start_time": "2022-09-14T19:48:03.890Z"
   },
   {
    "duration": 155,
    "start_time": "2022-09-14T19:48:04.066Z"
   },
   {
    "duration": 169,
    "start_time": "2022-09-14T19:48:04.223Z"
   },
   {
    "duration": 101,
    "start_time": "2022-09-14T19:48:04.395Z"
   },
   {
    "duration": 161,
    "start_time": "2022-09-14T19:48:04.497Z"
   },
   {
    "duration": 167,
    "start_time": "2022-09-14T19:48:04.660Z"
   },
   {
    "duration": 237,
    "start_time": "2022-09-14T19:48:04.829Z"
   },
   {
    "duration": 162,
    "start_time": "2022-09-14T19:48:05.067Z"
   },
   {
    "duration": 165,
    "start_time": "2022-09-14T19:48:05.231Z"
   },
   {
    "duration": 147,
    "start_time": "2022-09-14T19:50:21.010Z"
   },
   {
    "duration": 141,
    "start_time": "2022-09-14T19:50:31.296Z"
   },
   {
    "duration": 156,
    "start_time": "2022-09-14T19:50:38.215Z"
   },
   {
    "duration": 155,
    "start_time": "2022-09-14T19:50:44.487Z"
   },
   {
    "duration": 162,
    "start_time": "2022-09-14T19:50:53.188Z"
   },
   {
    "duration": 151,
    "start_time": "2022-09-14T20:09:11.837Z"
   },
   {
    "duration": 471,
    "start_time": "2022-09-14T20:10:27.375Z"
   },
   {
    "duration": 55,
    "start_time": "2022-09-14T20:10:27.849Z"
   },
   {
    "duration": 13,
    "start_time": "2022-09-14T20:10:27.909Z"
   },
   {
    "duration": 1869,
    "start_time": "2022-09-14T20:10:27.924Z"
   },
   {
    "duration": 9,
    "start_time": "2022-09-14T20:10:29.794Z"
   },
   {
    "duration": 14,
    "start_time": "2022-09-14T20:10:29.805Z"
   },
   {
    "duration": 5,
    "start_time": "2022-09-14T20:10:29.820Z"
   },
   {
    "duration": 9,
    "start_time": "2022-09-14T20:10:29.827Z"
   },
   {
    "duration": 12,
    "start_time": "2022-09-14T20:10:29.838Z"
   },
   {
    "duration": 5,
    "start_time": "2022-09-14T20:10:29.852Z"
   },
   {
    "duration": 7,
    "start_time": "2022-09-14T20:10:29.858Z"
   },
   {
    "duration": 44,
    "start_time": "2022-09-14T20:10:29.866Z"
   },
   {
    "duration": 10,
    "start_time": "2022-09-14T20:10:29.912Z"
   },
   {
    "duration": 46,
    "start_time": "2022-09-14T20:10:29.923Z"
   },
   {
    "duration": 4,
    "start_time": "2022-09-14T20:10:29.970Z"
   },
   {
    "duration": 12,
    "start_time": "2022-09-14T20:10:29.975Z"
   },
   {
    "duration": 24,
    "start_time": "2022-09-14T20:10:29.988Z"
   },
   {
    "duration": 280,
    "start_time": "2022-09-14T20:10:30.014Z"
   },
   {
    "duration": 5,
    "start_time": "2022-09-14T20:10:30.296Z"
   },
   {
    "duration": 27,
    "start_time": "2022-09-14T20:10:30.302Z"
   },
   {
    "duration": 265,
    "start_time": "2022-09-14T20:10:30.331Z"
   },
   {
    "duration": 328,
    "start_time": "2022-09-14T20:10:30.598Z"
   },
   {
    "duration": 238,
    "start_time": "2022-09-14T20:10:30.927Z"
   },
   {
    "duration": 279,
    "start_time": "2022-09-14T20:10:31.167Z"
   },
   {
    "duration": 172,
    "start_time": "2022-09-14T20:10:31.448Z"
   },
   {
    "duration": 146,
    "start_time": "2022-09-14T20:10:31.621Z"
   },
   {
    "duration": 167,
    "start_time": "2022-09-14T20:10:31.769Z"
   },
   {
    "duration": 109,
    "start_time": "2022-09-14T20:10:31.939Z"
   },
   {
    "duration": 160,
    "start_time": "2022-09-14T20:10:32.050Z"
   },
   {
    "duration": 166,
    "start_time": "2022-09-14T20:10:32.212Z"
   },
   {
    "duration": 260,
    "start_time": "2022-09-14T20:10:32.380Z"
   },
   {
    "duration": 158,
    "start_time": "2022-09-14T20:10:32.642Z"
   },
   {
    "duration": 162,
    "start_time": "2022-09-14T20:10:32.802Z"
   },
   {
    "duration": 135,
    "start_time": "2022-09-14T20:17:41.198Z"
   },
   {
    "duration": 63,
    "start_time": "2022-09-14T20:20:12.845Z"
   },
   {
    "duration": 92,
    "start_time": "2022-09-14T20:23:37.483Z"
   },
   {
    "duration": 46,
    "start_time": "2022-09-14T20:23:37.576Z"
   },
   {
    "duration": 16,
    "start_time": "2022-09-14T20:23:37.624Z"
   },
   {
    "duration": 1807,
    "start_time": "2022-09-14T20:23:37.641Z"
   },
   {
    "duration": 8,
    "start_time": "2022-09-14T20:23:39.450Z"
   },
   {
    "duration": 15,
    "start_time": "2022-09-14T20:23:39.460Z"
   },
   {
    "duration": 6,
    "start_time": "2022-09-14T20:23:39.476Z"
   },
   {
    "duration": 45,
    "start_time": "2022-09-14T20:23:39.618Z"
   },
   {
    "duration": 4,
    "start_time": "2022-09-14T20:23:39.665Z"
   },
   {
    "duration": 14,
    "start_time": "2022-09-14T20:23:39.670Z"
   },
   {
    "duration": 6,
    "start_time": "2022-09-14T20:23:39.686Z"
   },
   {
    "duration": 295,
    "start_time": "2022-09-14T20:23:39.708Z"
   },
   {
    "duration": 9,
    "start_time": "2022-09-14T20:23:40.004Z"
   },
   {
    "duration": 25,
    "start_time": "2022-09-14T20:23:40.014Z"
   },
   {
    "duration": 278,
    "start_time": "2022-09-14T20:23:40.040Z"
   },
   {
    "duration": 286,
    "start_time": "2022-09-14T20:23:40.320Z"
   },
   {
    "duration": 261,
    "start_time": "2022-09-14T20:23:40.609Z"
   },
   {
    "duration": 373,
    "start_time": "2022-09-14T20:23:40.872Z"
   },
   {
    "duration": 186,
    "start_time": "2022-09-14T20:23:41.246Z"
   },
   {
    "duration": 160,
    "start_time": "2022-09-14T20:23:41.433Z"
   },
   {
    "duration": 195,
    "start_time": "2022-09-14T20:23:41.594Z"
   },
   {
    "duration": 111,
    "start_time": "2022-09-14T20:23:41.790Z"
   },
   {
    "duration": 164,
    "start_time": "2022-09-14T20:23:41.909Z"
   },
   {
    "duration": 172,
    "start_time": "2022-09-14T20:23:42.075Z"
   },
   {
    "duration": 164,
    "start_time": "2022-09-14T20:23:42.249Z"
   },
   {
    "duration": 180,
    "start_time": "2022-09-14T20:23:42.414Z"
   },
   {
    "duration": 191,
    "start_time": "2022-09-14T20:23:42.597Z"
   },
   {
    "duration": 116,
    "start_time": "2022-09-14T20:25:02.246Z"
   },
   {
    "duration": 49,
    "start_time": "2022-09-14T20:25:49.889Z"
   },
   {
    "duration": 474,
    "start_time": "2022-09-14T20:27:50.132Z"
   },
   {
    "duration": 41,
    "start_time": "2022-09-14T20:27:50.607Z"
   },
   {
    "duration": 15,
    "start_time": "2022-09-14T20:27:50.649Z"
   },
   {
    "duration": 1895,
    "start_time": "2022-09-14T20:27:50.666Z"
   },
   {
    "duration": 14,
    "start_time": "2022-09-14T20:27:52.563Z"
   },
   {
    "duration": 20,
    "start_time": "2022-09-14T20:27:52.579Z"
   },
   {
    "duration": 11,
    "start_time": "2022-09-14T20:27:52.601Z"
   },
   {
    "duration": 20,
    "start_time": "2022-09-14T20:27:52.615Z"
   },
   {
    "duration": 23,
    "start_time": "2022-09-14T20:27:52.637Z"
   },
   {
    "duration": 6,
    "start_time": "2022-09-14T20:27:52.663Z"
   },
   {
    "duration": 14,
    "start_time": "2022-09-14T20:27:52.671Z"
   },
   {
    "duration": 38,
    "start_time": "2022-09-14T20:27:52.687Z"
   },
   {
    "duration": 10,
    "start_time": "2022-09-14T20:27:52.726Z"
   },
   {
    "duration": 54,
    "start_time": "2022-09-14T20:27:52.737Z"
   },
   {
    "duration": 4,
    "start_time": "2022-09-14T20:27:52.792Z"
   },
   {
    "duration": 15,
    "start_time": "2022-09-14T20:27:52.797Z"
   },
   {
    "duration": 6,
    "start_time": "2022-09-14T20:27:52.813Z"
   },
   {
    "duration": 309,
    "start_time": "2022-09-14T20:27:52.820Z"
   },
   {
    "duration": 5,
    "start_time": "2022-09-14T20:27:53.131Z"
   },
   {
    "duration": 21,
    "start_time": "2022-09-14T20:27:53.138Z"
   },
   {
    "duration": 284,
    "start_time": "2022-09-14T20:27:53.160Z"
   },
   {
    "duration": 326,
    "start_time": "2022-09-14T20:27:53.445Z"
   },
   {
    "duration": 259,
    "start_time": "2022-09-14T20:27:53.772Z"
   },
   {
    "duration": 303,
    "start_time": "2022-09-14T20:27:54.032Z"
   },
   {
    "duration": 189,
    "start_time": "2022-09-14T20:27:54.337Z"
   },
   {
    "duration": 148,
    "start_time": "2022-09-14T20:27:54.528Z"
   },
   {
    "duration": 171,
    "start_time": "2022-09-14T20:27:54.678Z"
   },
   {
    "duration": 111,
    "start_time": "2022-09-14T20:27:54.851Z"
   },
   {
    "duration": 157,
    "start_time": "2022-09-14T20:27:54.963Z"
   },
   {
    "duration": 172,
    "start_time": "2022-09-14T20:27:55.122Z"
   },
   {
    "duration": 229,
    "start_time": "2022-09-14T20:27:55.296Z"
   },
   {
    "duration": 155,
    "start_time": "2022-09-14T20:27:55.527Z"
   },
   {
    "duration": 166,
    "start_time": "2022-09-14T20:27:55.683Z"
   },
   {
    "duration": 5,
    "start_time": "2022-09-14T20:39:55.049Z"
   },
   {
    "duration": 50,
    "start_time": "2022-09-15T16:36:37.124Z"
   },
   {
    "duration": 7,
    "start_time": "2022-09-15T16:39:37.179Z"
   },
   {
    "duration": 737,
    "start_time": "2022-09-15T16:39:41.280Z"
   },
   {
    "duration": 61,
    "start_time": "2022-09-15T16:39:42.019Z"
   },
   {
    "duration": 15,
    "start_time": "2022-09-15T16:39:42.082Z"
   },
   {
    "duration": 2752,
    "start_time": "2022-09-15T16:39:42.099Z"
   },
   {
    "duration": 10,
    "start_time": "2022-09-15T16:39:44.853Z"
   },
   {
    "duration": 25,
    "start_time": "2022-09-15T16:39:44.864Z"
   },
   {
    "duration": 7,
    "start_time": "2022-09-15T16:39:44.891Z"
   },
   {
    "duration": 13,
    "start_time": "2022-09-15T16:39:44.899Z"
   },
   {
    "duration": 9,
    "start_time": "2022-09-15T16:39:44.915Z"
   },
   {
    "duration": 5,
    "start_time": "2022-09-15T16:39:44.928Z"
   },
   {
    "duration": 24,
    "start_time": "2022-09-15T16:39:44.934Z"
   },
   {
    "duration": 51,
    "start_time": "2022-09-15T16:39:44.959Z"
   },
   {
    "duration": 30,
    "start_time": "2022-09-15T16:39:45.012Z"
   },
   {
    "duration": 81,
    "start_time": "2022-09-15T16:39:45.043Z"
   },
   {
    "duration": 5,
    "start_time": "2022-09-15T16:39:45.126Z"
   },
   {
    "duration": 35,
    "start_time": "2022-09-15T16:39:45.133Z"
   },
   {
    "duration": 17,
    "start_time": "2022-09-15T16:39:45.171Z"
   },
   {
    "duration": 320,
    "start_time": "2022-09-15T16:39:45.191Z"
   },
   {
    "duration": 4,
    "start_time": "2022-09-15T16:39:45.513Z"
   },
   {
    "duration": 30,
    "start_time": "2022-09-15T16:39:45.521Z"
   },
   {
    "duration": 346,
    "start_time": "2022-09-15T16:39:45.552Z"
   },
   {
    "duration": 414,
    "start_time": "2022-09-15T16:39:45.900Z"
   },
   {
    "duration": 320,
    "start_time": "2022-09-15T16:39:46.320Z"
   },
   {
    "duration": 355,
    "start_time": "2022-09-15T16:39:46.643Z"
   },
   {
    "duration": 238,
    "start_time": "2022-09-15T16:39:46.999Z"
   },
   {
    "duration": 185,
    "start_time": "2022-09-15T16:39:47.239Z"
   },
   {
    "duration": 205,
    "start_time": "2022-09-15T16:39:47.425Z"
   },
   {
    "duration": 139,
    "start_time": "2022-09-15T16:39:47.634Z"
   },
   {
    "duration": 207,
    "start_time": "2022-09-15T16:39:47.775Z"
   },
   {
    "duration": 320,
    "start_time": "2022-09-15T16:39:47.984Z"
   },
   {
    "duration": 195,
    "start_time": "2022-09-15T16:39:48.306Z"
   },
   {
    "duration": 189,
    "start_time": "2022-09-15T16:39:48.502Z"
   },
   {
    "duration": 221,
    "start_time": "2022-09-15T16:39:48.694Z"
   },
   {
    "duration": 297,
    "start_time": "2022-09-15T16:39:48.920Z"
   },
   {
    "duration": 196,
    "start_time": "2022-09-15T16:40:07.842Z"
   },
   {
    "duration": 198,
    "start_time": "2022-09-15T16:40:16.695Z"
   },
   {
    "duration": 46,
    "start_time": "2022-09-15T16:58:51.717Z"
   },
   {
    "duration": 195,
    "start_time": "2022-09-15T16:59:26.516Z"
   },
   {
    "duration": 194,
    "start_time": "2022-09-15T17:01:19.897Z"
   },
   {
    "duration": 205,
    "start_time": "2022-09-15T17:02:32.238Z"
   },
   {
    "duration": 186,
    "start_time": "2022-09-15T17:02:54.684Z"
   },
   {
    "duration": 1042,
    "start_time": "2022-09-15T17:14:59.103Z"
   },
   {
    "duration": 186,
    "start_time": "2022-09-15T17:15:38.472Z"
   },
   {
    "duration": 744,
    "start_time": "2022-09-15T17:15:41.868Z"
   },
   {
    "duration": 713,
    "start_time": "2022-09-15T17:15:51.095Z"
   },
   {
    "duration": 558,
    "start_time": "2022-09-15T17:16:07.993Z"
   },
   {
    "duration": 48,
    "start_time": "2022-09-15T17:16:08.553Z"
   },
   {
    "duration": 27,
    "start_time": "2022-09-15T17:16:08.602Z"
   },
   {
    "duration": 2432,
    "start_time": "2022-09-15T17:16:08.631Z"
   },
   {
    "duration": 10,
    "start_time": "2022-09-15T17:16:11.065Z"
   },
   {
    "duration": 35,
    "start_time": "2022-09-15T17:16:11.077Z"
   },
   {
    "duration": 15,
    "start_time": "2022-09-15T17:16:11.114Z"
   },
   {
    "duration": 39,
    "start_time": "2022-09-15T17:16:11.131Z"
   },
   {
    "duration": 15,
    "start_time": "2022-09-15T17:16:11.172Z"
   },
   {
    "duration": 29,
    "start_time": "2022-09-15T17:16:11.190Z"
   },
   {
    "duration": 127,
    "start_time": "2022-09-15T17:16:11.225Z"
   },
   {
    "duration": 51,
    "start_time": "2022-09-15T17:16:11.354Z"
   },
   {
    "duration": 37,
    "start_time": "2022-09-15T17:16:11.407Z"
   },
   {
    "duration": 73,
    "start_time": "2022-09-15T17:16:11.446Z"
   },
   {
    "duration": 6,
    "start_time": "2022-09-15T17:16:11.521Z"
   },
   {
    "duration": 22,
    "start_time": "2022-09-15T17:16:11.529Z"
   },
   {
    "duration": 39,
    "start_time": "2022-09-15T17:16:11.553Z"
   },
   {
    "duration": 331,
    "start_time": "2022-09-15T17:16:11.594Z"
   },
   {
    "duration": 5,
    "start_time": "2022-09-15T17:16:11.927Z"
   },
   {
    "duration": 39,
    "start_time": "2022-09-15T17:16:11.934Z"
   },
   {
    "duration": 378,
    "start_time": "2022-09-15T17:16:11.975Z"
   },
   {
    "duration": 445,
    "start_time": "2022-09-15T17:16:12.355Z"
   },
   {
    "duration": 337,
    "start_time": "2022-09-15T17:16:12.802Z"
   },
   {
    "duration": 389,
    "start_time": "2022-09-15T17:16:13.141Z"
   },
   {
    "duration": 231,
    "start_time": "2022-09-15T17:16:13.532Z"
   },
   {
    "duration": 202,
    "start_time": "2022-09-15T17:16:13.765Z"
   },
   {
    "duration": 218,
    "start_time": "2022-09-15T17:16:13.969Z"
   },
   {
    "duration": 155,
    "start_time": "2022-09-15T17:16:14.192Z"
   },
   {
    "duration": 222,
    "start_time": "2022-09-15T17:16:14.349Z"
   },
   {
    "duration": 250,
    "start_time": "2022-09-15T17:16:14.573Z"
   },
   {
    "duration": 337,
    "start_time": "2022-09-15T17:16:14.825Z"
   },
   {
    "duration": 215,
    "start_time": "2022-09-15T17:16:15.164Z"
   },
   {
    "duration": 224,
    "start_time": "2022-09-15T17:16:15.381Z"
   },
   {
    "duration": 234,
    "start_time": "2022-09-15T17:16:15.607Z"
   },
   {
    "duration": 212,
    "start_time": "2022-09-15T17:16:15.843Z"
   },
   {
    "duration": 884,
    "start_time": "2022-09-15T17:16:16.057Z"
   },
   {
    "duration": 743,
    "start_time": "2022-09-15T17:16:46.441Z"
   },
   {
    "duration": 865,
    "start_time": "2022-09-15T17:17:24.269Z"
   },
   {
    "duration": 714,
    "start_time": "2022-09-15T17:17:34.367Z"
   },
   {
    "duration": 13,
    "start_time": "2022-09-15T17:18:23.492Z"
   },
   {
    "duration": 14,
    "start_time": "2022-09-15T17:19:51.269Z"
   },
   {
    "duration": 14,
    "start_time": "2022-09-15T17:21:03.874Z"
   },
   {
    "duration": 124,
    "start_time": "2022-09-15T17:21:17.241Z"
   },
   {
    "duration": 97,
    "start_time": "2022-09-15T17:22:26.267Z"
   },
   {
    "duration": 98,
    "start_time": "2022-09-15T17:22:44.346Z"
   },
   {
    "duration": 111,
    "start_time": "2022-09-15T17:22:58.141Z"
   },
   {
    "duration": 454,
    "start_time": "2022-09-15T17:24:19.912Z"
   },
   {
    "duration": 103,
    "start_time": "2022-09-15T17:24:48.002Z"
   },
   {
    "duration": 15,
    "start_time": "2022-09-15T18:00:00.697Z"
   },
   {
    "duration": 10,
    "start_time": "2022-09-15T18:01:54.818Z"
   },
   {
    "duration": 14,
    "start_time": "2022-09-15T18:02:05.440Z"
   },
   {
    "duration": 14,
    "start_time": "2022-09-15T18:02:41.163Z"
   },
   {
    "duration": 15,
    "start_time": "2022-09-15T18:02:53.746Z"
   },
   {
    "duration": 14,
    "start_time": "2022-09-15T18:03:03.027Z"
   },
   {
    "duration": 13,
    "start_time": "2022-09-15T18:03:09.290Z"
   },
   {
    "duration": 17,
    "start_time": "2022-09-15T18:03:51.813Z"
   },
   {
    "duration": 33,
    "start_time": "2022-09-15T18:07:06.448Z"
   },
   {
    "duration": 29,
    "start_time": "2022-09-15T18:15:19.528Z"
   },
   {
    "duration": 160,
    "start_time": "2022-09-15T18:27:30.700Z"
   },
   {
    "duration": 155,
    "start_time": "2022-09-15T18:29:23.568Z"
   },
   {
    "duration": 170,
    "start_time": "2022-09-15T18:31:41.793Z"
   },
   {
    "duration": 1095,
    "start_time": "2022-09-15T18:33:35.823Z"
   },
   {
    "duration": 164,
    "start_time": "2022-09-15T18:33:57.191Z"
   },
   {
    "duration": 164,
    "start_time": "2022-09-15T18:34:39.838Z"
   },
   {
    "duration": 958,
    "start_time": "2022-09-15T18:35:43.852Z"
   },
   {
    "duration": 155,
    "start_time": "2022-09-15T18:36:05.288Z"
   },
   {
    "duration": 157,
    "start_time": "2022-09-15T18:40:23.131Z"
   },
   {
    "duration": 100,
    "start_time": "2022-09-15T18:41:08.618Z"
   },
   {
    "duration": 89,
    "start_time": "2022-09-15T18:42:39.208Z"
   },
   {
    "duration": 66,
    "start_time": "2022-09-15T18:43:03.400Z"
   },
   {
    "duration": 154,
    "start_time": "2022-09-15T18:43:13.533Z"
   },
   {
    "duration": 100,
    "start_time": "2022-09-15T18:45:19.417Z"
   },
   {
    "duration": 54,
    "start_time": "2022-09-15T18:45:29.883Z"
   },
   {
    "duration": 79,
    "start_time": "2022-09-15T18:46:12.238Z"
   },
   {
    "duration": 60,
    "start_time": "2022-09-15T18:46:16.524Z"
   },
   {
    "duration": 58,
    "start_time": "2022-09-15T18:49:27.127Z"
   },
   {
    "duration": 169,
    "start_time": "2022-09-15T18:50:43.233Z"
   },
   {
    "duration": 53,
    "start_time": "2022-09-15T18:52:47.958Z"
   },
   {
    "duration": 54,
    "start_time": "2022-09-15T18:53:50.720Z"
   },
   {
    "duration": 2215,
    "start_time": "2022-09-15T18:54:59.237Z"
   },
   {
    "duration": 259,
    "start_time": "2022-09-15T18:55:10.944Z"
   },
   {
    "duration": 58,
    "start_time": "2022-09-15T18:57:12.771Z"
   },
   {
    "duration": 72,
    "start_time": "2022-09-15T18:59:36.785Z"
   },
   {
    "duration": 207,
    "start_time": "2022-09-15T19:01:01.243Z"
   },
   {
    "duration": 512,
    "start_time": "2022-09-15T19:03:29.250Z"
   },
   {
    "duration": 47,
    "start_time": "2022-09-15T19:03:29.764Z"
   },
   {
    "duration": 19,
    "start_time": "2022-09-15T19:03:29.820Z"
   },
   {
    "duration": 2461,
    "start_time": "2022-09-15T19:03:29.842Z"
   },
   {
    "duration": 12,
    "start_time": "2022-09-15T19:03:32.305Z"
   },
   {
    "duration": 26,
    "start_time": "2022-09-15T19:03:32.319Z"
   },
   {
    "duration": 12,
    "start_time": "2022-09-15T19:03:32.346Z"
   },
   {
    "duration": 14,
    "start_time": "2022-09-15T19:03:32.360Z"
   },
   {
    "duration": 13,
    "start_time": "2022-09-15T19:03:32.376Z"
   },
   {
    "duration": 11,
    "start_time": "2022-09-15T19:03:32.393Z"
   },
   {
    "duration": 22,
    "start_time": "2022-09-15T19:03:32.406Z"
   },
   {
    "duration": 50,
    "start_time": "2022-09-15T19:03:32.430Z"
   },
   {
    "duration": 16,
    "start_time": "2022-09-15T19:03:32.482Z"
   },
   {
    "duration": 87,
    "start_time": "2022-09-15T19:03:32.499Z"
   },
   {
    "duration": 5,
    "start_time": "2022-09-15T19:03:32.588Z"
   },
   {
    "duration": 18,
    "start_time": "2022-09-15T19:03:32.595Z"
   },
   {
    "duration": 10,
    "start_time": "2022-09-15T19:03:32.615Z"
   },
   {
    "duration": 322,
    "start_time": "2022-09-15T19:03:32.626Z"
   },
   {
    "duration": 5,
    "start_time": "2022-09-15T19:03:32.950Z"
   },
   {
    "duration": 23,
    "start_time": "2022-09-15T19:03:32.956Z"
   },
   {
    "duration": 371,
    "start_time": "2022-09-15T19:03:32.982Z"
   },
   {
    "duration": 429,
    "start_time": "2022-09-15T19:03:33.355Z"
   },
   {
    "duration": 323,
    "start_time": "2022-09-15T19:03:33.786Z"
   },
   {
    "duration": 348,
    "start_time": "2022-09-15T19:03:34.111Z"
   },
   {
    "duration": 265,
    "start_time": "2022-09-15T19:03:34.462Z"
   },
   {
    "duration": 193,
    "start_time": "2022-09-15T19:03:34.729Z"
   },
   {
    "duration": 209,
    "start_time": "2022-09-15T19:03:34.924Z"
   },
   {
    "duration": 140,
    "start_time": "2022-09-15T19:03:35.136Z"
   },
   {
    "duration": 198,
    "start_time": "2022-09-15T19:03:35.278Z"
   },
   {
    "duration": 209,
    "start_time": "2022-09-15T19:03:35.478Z"
   },
   {
    "duration": 305,
    "start_time": "2022-09-15T19:03:35.689Z"
   },
   {
    "duration": 192,
    "start_time": "2022-09-15T19:03:35.996Z"
   },
   {
    "duration": 208,
    "start_time": "2022-09-15T19:03:36.189Z"
   },
   {
    "duration": 203,
    "start_time": "2022-09-15T19:03:36.400Z"
   },
   {
    "duration": 215,
    "start_time": "2022-09-15T19:03:36.605Z"
   },
   {
    "duration": 129,
    "start_time": "2022-09-15T19:03:36.823Z"
   },
   {
    "duration": 179,
    "start_time": "2022-09-15T19:03:36.954Z"
   },
   {
    "duration": 188,
    "start_time": "2022-09-15T19:03:37.135Z"
   },
   {
    "duration": 222,
    "start_time": "2022-09-15T19:03:37.325Z"
   },
   {
    "duration": 185,
    "start_time": "2022-09-15T19:03:37.549Z"
   },
   {
    "duration": 202,
    "start_time": "2022-09-15T19:04:00.689Z"
   },
   {
    "duration": 90,
    "start_time": "2022-09-15T19:10:25.363Z"
   },
   {
    "duration": 20,
    "start_time": "2022-09-15T19:11:14.243Z"
   },
   {
    "duration": 154,
    "start_time": "2022-09-15T19:11:38.432Z"
   },
   {
    "duration": 51,
    "start_time": "2022-09-15T19:12:23.870Z"
   },
   {
    "duration": 49,
    "start_time": "2022-09-15T19:13:02.853Z"
   },
   {
    "duration": 20,
    "start_time": "2022-09-15T19:13:07.434Z"
   },
   {
    "duration": 256,
    "start_time": "2022-09-15T19:14:01.453Z"
   },
   {
    "duration": 13,
    "start_time": "2022-09-15T19:24:01.008Z"
   },
   {
    "duration": 169,
    "start_time": "2022-09-15T19:24:19.301Z"
   },
   {
    "duration": 48,
    "start_time": "2022-09-15T19:24:41.382Z"
   },
   {
    "duration": 228,
    "start_time": "2022-09-15T19:24:58.936Z"
   },
   {
    "duration": 25,
    "start_time": "2022-09-15T19:25:04.966Z"
   },
   {
    "duration": 28,
    "start_time": "2022-09-15T19:25:11.142Z"
   },
   {
    "duration": 78,
    "start_time": "2022-09-15T19:25:28.452Z"
   },
   {
    "duration": 163,
    "start_time": "2022-09-15T19:25:33.494Z"
   },
   {
    "duration": 16,
    "start_time": "2022-09-15T19:26:20.961Z"
   },
   {
    "duration": 197,
    "start_time": "2022-09-15T19:26:39.648Z"
   },
   {
    "duration": 36,
    "start_time": "2022-09-15T19:27:52.299Z"
   },
   {
    "duration": 159,
    "start_time": "2022-09-15T19:28:37.641Z"
   },
   {
    "duration": 167,
    "start_time": "2022-09-15T19:30:46.728Z"
   },
   {
    "duration": 19,
    "start_time": "2022-09-15T19:31:39.411Z"
   },
   {
    "duration": 24,
    "start_time": "2022-09-15T19:31:57.546Z"
   },
   {
    "duration": 25,
    "start_time": "2022-09-15T19:32:35.058Z"
   },
   {
    "duration": 172,
    "start_time": "2022-09-15T19:35:05.493Z"
   },
   {
    "duration": 184,
    "start_time": "2022-09-15T19:35:31.758Z"
   },
   {
    "duration": 162,
    "start_time": "2022-09-15T19:36:33.894Z"
   },
   {
    "duration": 173,
    "start_time": "2022-09-15T19:37:22.275Z"
   },
   {
    "duration": 168,
    "start_time": "2022-09-15T19:40:58.275Z"
   },
   {
    "duration": 214,
    "start_time": "2022-09-15T19:41:29.351Z"
   },
   {
    "duration": 205,
    "start_time": "2022-09-15T19:45:07.841Z"
   },
   {
    "duration": 57,
    "start_time": "2022-09-15T19:46:17.366Z"
   },
   {
    "duration": 173,
    "start_time": "2022-09-15T19:50:17.585Z"
   },
   {
    "duration": 159,
    "start_time": "2022-09-15T19:50:30.634Z"
   },
   {
    "duration": 299,
    "start_time": "2022-09-15T19:50:51.682Z"
   },
   {
    "duration": 165,
    "start_time": "2022-09-15T19:51:56.894Z"
   },
   {
    "duration": 23,
    "start_time": "2022-09-15T19:52:15.882Z"
   },
   {
    "duration": 24,
    "start_time": "2022-09-15T19:52:21.861Z"
   },
   {
    "duration": 28,
    "start_time": "2022-09-15T19:52:56.592Z"
   },
   {
    "duration": 27,
    "start_time": "2022-09-15T19:55:18.294Z"
   },
   {
    "duration": 28,
    "start_time": "2022-09-15T19:55:58.991Z"
   },
   {
    "duration": 101,
    "start_time": "2022-09-15T19:59:02.244Z"
   },
   {
    "duration": 159,
    "start_time": "2022-09-15T20:00:03.997Z"
   },
   {
    "duration": 21,
    "start_time": "2022-09-15T20:05:51.895Z"
   },
   {
    "duration": 194,
    "start_time": "2022-09-15T20:06:35.542Z"
   },
   {
    "duration": 68,
    "start_time": "2022-09-15T20:10:46.804Z"
   },
   {
    "duration": 57,
    "start_time": "2022-09-15T20:10:53.997Z"
   },
   {
    "duration": 54,
    "start_time": "2022-09-15T20:11:01.369Z"
   },
   {
    "duration": 52,
    "start_time": "2022-09-15T20:11:20.268Z"
   },
   {
    "duration": 49,
    "start_time": "2022-09-15T20:12:09.339Z"
   },
   {
    "duration": 172,
    "start_time": "2022-09-15T20:14:26.265Z"
   },
   {
    "duration": 67,
    "start_time": "2022-09-15T20:17:26.830Z"
   },
   {
    "duration": 176,
    "start_time": "2022-09-15T20:20:11.863Z"
   },
   {
    "duration": 45,
    "start_time": "2022-09-15T20:23:44.128Z"
   },
   {
    "duration": 53,
    "start_time": "2022-09-15T20:23:47.814Z"
   },
   {
    "duration": 71,
    "start_time": "2022-09-15T20:23:51.976Z"
   },
   {
    "duration": 77,
    "start_time": "2022-09-15T20:24:01.325Z"
   },
   {
    "duration": 199,
    "start_time": "2022-09-15T20:25:59.928Z"
   },
   {
    "duration": 205,
    "start_time": "2022-09-15T20:26:26.025Z"
   },
   {
    "duration": 212,
    "start_time": "2022-09-15T20:27:01.714Z"
   },
   {
    "duration": 200,
    "start_time": "2022-09-15T20:27:24.342Z"
   },
   {
    "duration": 13,
    "start_time": "2022-09-15T20:33:49.521Z"
   },
   {
    "duration": 498,
    "start_time": "2022-09-15T20:33:56.562Z"
   },
   {
    "duration": 49,
    "start_time": "2022-09-15T20:33:57.062Z"
   },
   {
    "duration": 25,
    "start_time": "2022-09-15T20:33:57.113Z"
   },
   {
    "duration": 2383,
    "start_time": "2022-09-15T20:33:57.140Z"
   },
   {
    "duration": 10,
    "start_time": "2022-09-15T20:33:59.524Z"
   },
   {
    "duration": 16,
    "start_time": "2022-09-15T20:33:59.536Z"
   },
   {
    "duration": 6,
    "start_time": "2022-09-15T20:33:59.553Z"
   },
   {
    "duration": 13,
    "start_time": "2022-09-15T20:33:59.561Z"
   },
   {
    "duration": 8,
    "start_time": "2022-09-15T20:33:59.575Z"
   },
   {
    "duration": 34,
    "start_time": "2022-09-15T20:33:59.586Z"
   },
   {
    "duration": 7,
    "start_time": "2022-09-15T20:33:59.622Z"
   },
   {
    "duration": 30,
    "start_time": "2022-09-15T20:33:59.630Z"
   },
   {
    "duration": 10,
    "start_time": "2022-09-15T20:33:59.662Z"
   },
   {
    "duration": 79,
    "start_time": "2022-09-15T20:33:59.674Z"
   },
   {
    "duration": 5,
    "start_time": "2022-09-15T20:33:59.754Z"
   },
   {
    "duration": 12,
    "start_time": "2022-09-15T20:33:59.760Z"
   },
   {
    "duration": 12,
    "start_time": "2022-09-15T20:33:59.773Z"
   },
   {
    "duration": 324,
    "start_time": "2022-09-15T20:33:59.786Z"
   },
   {
    "duration": 4,
    "start_time": "2022-09-15T20:34:00.112Z"
   },
   {
    "duration": 22,
    "start_time": "2022-09-15T20:34:00.120Z"
   },
   {
    "duration": 367,
    "start_time": "2022-09-15T20:34:00.144Z"
   },
   {
    "duration": 418,
    "start_time": "2022-09-15T20:34:00.513Z"
   },
   {
    "duration": 325,
    "start_time": "2022-09-15T20:34:00.933Z"
   },
   {
    "duration": 360,
    "start_time": "2022-09-15T20:34:01.261Z"
   },
   {
    "duration": 222,
    "start_time": "2022-09-15T20:34:01.622Z"
   },
   {
    "duration": 197,
    "start_time": "2022-09-15T20:34:01.846Z"
   },
   {
    "duration": 249,
    "start_time": "2022-09-15T20:34:02.045Z"
   },
   {
    "duration": 134,
    "start_time": "2022-09-15T20:34:02.298Z"
   },
   {
    "duration": 212,
    "start_time": "2022-09-15T20:34:02.435Z"
   },
   {
    "duration": 224,
    "start_time": "2022-09-15T20:34:02.649Z"
   },
   {
    "duration": 307,
    "start_time": "2022-09-15T20:34:02.875Z"
   },
   {
    "duration": 212,
    "start_time": "2022-09-15T20:34:03.183Z"
   },
   {
    "duration": 198,
    "start_time": "2022-09-15T20:34:03.397Z"
   },
   {
    "duration": 207,
    "start_time": "2022-09-15T20:34:03.597Z"
   },
   {
    "duration": 214,
    "start_time": "2022-09-15T20:34:03.806Z"
   },
   {
    "duration": 207,
    "start_time": "2022-09-15T20:34:04.022Z"
   },
   {
    "duration": 106,
    "start_time": "2022-09-15T20:34:04.231Z"
   },
   {
    "duration": 187,
    "start_time": "2022-09-15T20:34:04.339Z"
   },
   {
    "duration": 175,
    "start_time": "2022-09-15T20:34:04.528Z"
   },
   {
    "duration": 164,
    "start_time": "2022-09-15T20:34:04.705Z"
   },
   {
    "duration": 156,
    "start_time": "2022-09-15T20:34:04.871Z"
   },
   {
    "duration": 77,
    "start_time": "2022-09-15T20:34:05.029Z"
   },
   {
    "duration": 0,
    "start_time": "2022-09-15T20:34:05.107Z"
   },
   {
    "duration": 0,
    "start_time": "2022-09-15T20:34:05.109Z"
   },
   {
    "duration": 1,
    "start_time": "2022-09-15T20:34:05.110Z"
   },
   {
    "duration": 0,
    "start_time": "2022-09-15T20:34:05.112Z"
   },
   {
    "duration": 192,
    "start_time": "2022-09-15T20:35:46.356Z"
   },
   {
    "duration": 304,
    "start_time": "2022-09-15T20:36:07.392Z"
   },
   {
    "duration": 172,
    "start_time": "2022-09-15T20:36:15.651Z"
   },
   {
    "duration": 54,
    "start_time": "2022-09-15T20:37:24.683Z"
   },
   {
    "duration": 21,
    "start_time": "2022-09-15T20:37:46.499Z"
   },
   {
    "duration": 168,
    "start_time": "2022-09-15T20:37:53.662Z"
   },
   {
    "duration": 175,
    "start_time": "2022-09-15T20:37:59.780Z"
   },
   {
    "duration": 191,
    "start_time": "2022-09-15T20:38:02.705Z"
   },
   {
    "duration": 58,
    "start_time": "2022-09-15T20:40:25.205Z"
   },
   {
    "duration": 68,
    "start_time": "2022-09-15T20:41:26.345Z"
   },
   {
    "duration": 173,
    "start_time": "2022-09-15T20:44:46.100Z"
   },
   {
    "duration": 19,
    "start_time": "2022-09-15T21:13:10.261Z"
   },
   {
    "duration": 26,
    "start_time": "2022-09-15T21:14:27.451Z"
   },
   {
    "duration": 23,
    "start_time": "2022-09-15T21:17:13.512Z"
   },
   {
    "duration": 30,
    "start_time": "2022-09-15T21:21:16.699Z"
   },
   {
    "duration": 26,
    "start_time": "2022-09-15T21:21:41.851Z"
   },
   {
    "duration": 156,
    "start_time": "2022-09-15T21:21:56.963Z"
   },
   {
    "duration": 42,
    "start_time": "2022-09-15T21:22:37.992Z"
   },
   {
    "duration": 9,
    "start_time": "2022-09-15T21:22:52.452Z"
   },
   {
    "duration": 15,
    "start_time": "2022-09-15T21:22:59.933Z"
   },
   {
    "duration": 26,
    "start_time": "2022-09-15T21:26:08.455Z"
   },
   {
    "duration": 180,
    "start_time": "2022-09-15T21:32:22.414Z"
   },
   {
    "duration": 186,
    "start_time": "2022-09-15T21:32:42.578Z"
   },
   {
    "duration": 213,
    "start_time": "2022-09-15T21:32:58.857Z"
   },
   {
    "duration": 79,
    "start_time": "2022-09-15T21:38:30.282Z"
   },
   {
    "duration": 299,
    "start_time": "2022-09-15T21:39:10.916Z"
   },
   {
    "duration": 76,
    "start_time": "2022-09-15T21:47:29.425Z"
   },
   {
    "duration": 522,
    "start_time": "2022-09-15T22:20:38.261Z"
   },
   {
    "duration": 65,
    "start_time": "2022-09-15T22:20:38.785Z"
   },
   {
    "duration": 20,
    "start_time": "2022-09-15T22:20:38.852Z"
   },
   {
    "duration": 2485,
    "start_time": "2022-09-15T22:20:38.874Z"
   },
   {
    "duration": 10,
    "start_time": "2022-09-15T22:20:41.361Z"
   },
   {
    "duration": 17,
    "start_time": "2022-09-15T22:20:41.373Z"
   },
   {
    "duration": 6,
    "start_time": "2022-09-15T22:20:41.391Z"
   },
   {
    "duration": 24,
    "start_time": "2022-09-15T22:20:41.399Z"
   },
   {
    "duration": 15,
    "start_time": "2022-09-15T22:20:41.426Z"
   },
   {
    "duration": 6,
    "start_time": "2022-09-15T22:20:41.445Z"
   },
   {
    "duration": 11,
    "start_time": "2022-09-15T22:20:41.453Z"
   },
   {
    "duration": 31,
    "start_time": "2022-09-15T22:20:41.465Z"
   },
   {
    "duration": 29,
    "start_time": "2022-09-15T22:20:41.498Z"
   },
   {
    "duration": 66,
    "start_time": "2022-09-15T22:20:41.530Z"
   },
   {
    "duration": 27,
    "start_time": "2022-09-15T22:20:41.598Z"
   },
   {
    "duration": 32,
    "start_time": "2022-09-15T22:20:41.628Z"
   },
   {
    "duration": 14,
    "start_time": "2022-09-15T22:20:41.662Z"
   },
   {
    "duration": 314,
    "start_time": "2022-09-15T22:20:41.677Z"
   },
   {
    "duration": 5,
    "start_time": "2022-09-15T22:20:41.992Z"
   },
   {
    "duration": 48,
    "start_time": "2022-09-15T22:20:41.999Z"
   },
   {
    "duration": 344,
    "start_time": "2022-09-15T22:20:42.049Z"
   },
   {
    "duration": 449,
    "start_time": "2022-09-15T22:20:42.395Z"
   },
   {
    "duration": 356,
    "start_time": "2022-09-15T22:20:42.846Z"
   },
   {
    "duration": 363,
    "start_time": "2022-09-15T22:20:43.204Z"
   },
   {
    "duration": 227,
    "start_time": "2022-09-15T22:20:43.569Z"
   },
   {
    "duration": 191,
    "start_time": "2022-09-15T22:20:43.798Z"
   },
   {
    "duration": 221,
    "start_time": "2022-09-15T22:20:43.991Z"
   },
   {
    "duration": 141,
    "start_time": "2022-09-15T22:20:44.220Z"
   },
   {
    "duration": 209,
    "start_time": "2022-09-15T22:20:44.363Z"
   },
   {
    "duration": 212,
    "start_time": "2022-09-15T22:20:44.573Z"
   },
   {
    "duration": 300,
    "start_time": "2022-09-15T22:20:44.786Z"
   },
   {
    "duration": 190,
    "start_time": "2022-09-15T22:20:45.088Z"
   },
   {
    "duration": 196,
    "start_time": "2022-09-15T22:20:45.280Z"
   },
   {
    "duration": 195,
    "start_time": "2022-09-15T22:20:45.478Z"
   },
   {
    "duration": 212,
    "start_time": "2022-09-15T22:20:45.675Z"
   },
   {
    "duration": 203,
    "start_time": "2022-09-15T22:20:45.889Z"
   },
   {
    "duration": 116,
    "start_time": "2022-09-15T22:20:46.094Z"
   },
   {
    "duration": 169,
    "start_time": "2022-09-15T22:20:46.212Z"
   },
   {
    "duration": 189,
    "start_time": "2022-09-15T22:20:46.383Z"
   },
   {
    "duration": 181,
    "start_time": "2022-09-15T22:20:46.574Z"
   },
   {
    "duration": 182,
    "start_time": "2022-09-15T22:20:46.757Z"
   },
   {
    "duration": 25,
    "start_time": "2022-09-15T22:20:46.941Z"
   },
   {
    "duration": 224,
    "start_time": "2022-09-15T22:20:46.968Z"
   },
   {
    "duration": 307,
    "start_time": "2022-09-15T22:20:47.194Z"
   },
   {
    "duration": 188,
    "start_time": "2022-09-15T22:20:47.503Z"
   },
   {
    "duration": 36,
    "start_time": "2022-09-15T22:20:47.693Z"
   },
   {
    "duration": 205,
    "start_time": "2022-09-15T22:20:47.731Z"
   },
   {
    "duration": 18,
    "start_time": "2022-09-15T22:33:11.559Z"
   },
   {
    "duration": 8,
    "start_time": "2022-09-15T22:33:34.014Z"
   },
   {
    "duration": 5,
    "start_time": "2022-09-15T22:33:52.400Z"
   },
   {
    "duration": 30,
    "start_time": "2022-09-15T22:34:44.521Z"
   },
   {
    "duration": 48,
    "start_time": "2022-09-15T22:35:16.254Z"
   },
   {
    "duration": 560,
    "start_time": "2022-09-15T22:41:17.919Z"
   },
   {
    "duration": 62,
    "start_time": "2022-09-15T22:41:18.481Z"
   },
   {
    "duration": 21,
    "start_time": "2022-09-15T22:41:18.545Z"
   },
   {
    "duration": 2634,
    "start_time": "2022-09-15T22:41:18.569Z"
   },
   {
    "duration": 10,
    "start_time": "2022-09-15T22:41:21.205Z"
   },
   {
    "duration": 32,
    "start_time": "2022-09-15T22:41:21.216Z"
   },
   {
    "duration": 8,
    "start_time": "2022-09-15T22:41:21.251Z"
   },
   {
    "duration": 17,
    "start_time": "2022-09-15T22:41:21.261Z"
   },
   {
    "duration": 9,
    "start_time": "2022-09-15T22:41:21.280Z"
   },
   {
    "duration": 5,
    "start_time": "2022-09-15T22:41:21.292Z"
   },
   {
    "duration": 9,
    "start_time": "2022-09-15T22:41:21.298Z"
   },
   {
    "duration": 46,
    "start_time": "2022-09-15T22:41:21.320Z"
   },
   {
    "duration": 12,
    "start_time": "2022-09-15T22:41:21.368Z"
   },
   {
    "duration": 86,
    "start_time": "2022-09-15T22:41:21.382Z"
   },
   {
    "duration": 5,
    "start_time": "2022-09-15T22:41:21.471Z"
   },
   {
    "duration": 19,
    "start_time": "2022-09-15T22:41:21.478Z"
   },
   {
    "duration": 32,
    "start_time": "2022-09-15T22:41:21.499Z"
   },
   {
    "duration": 340,
    "start_time": "2022-09-15T22:41:21.536Z"
   },
   {
    "duration": 5,
    "start_time": "2022-09-15T22:41:21.877Z"
   },
   {
    "duration": 49,
    "start_time": "2022-09-15T22:41:21.884Z"
   },
   {
    "duration": 407,
    "start_time": "2022-09-15T22:41:21.934Z"
   },
   {
    "duration": 454,
    "start_time": "2022-09-15T22:41:22.343Z"
   },
   {
    "duration": 365,
    "start_time": "2022-09-15T22:41:22.798Z"
   },
   {
    "duration": 375,
    "start_time": "2022-09-15T22:41:23.165Z"
   },
   {
    "duration": 236,
    "start_time": "2022-09-15T22:41:23.542Z"
   },
   {
    "duration": 195,
    "start_time": "2022-09-15T22:41:23.780Z"
   },
   {
    "duration": 223,
    "start_time": "2022-09-15T22:41:23.977Z"
   },
   {
    "duration": 134,
    "start_time": "2022-09-15T22:41:24.203Z"
   },
   {
    "duration": 210,
    "start_time": "2022-09-15T22:41:24.340Z"
   },
   {
    "duration": 214,
    "start_time": "2022-09-15T22:41:24.552Z"
   },
   {
    "duration": 303,
    "start_time": "2022-09-15T22:41:24.768Z"
   },
   {
    "duration": 192,
    "start_time": "2022-09-15T22:41:25.073Z"
   },
   {
    "duration": 202,
    "start_time": "2022-09-15T22:41:25.267Z"
   },
   {
    "duration": 206,
    "start_time": "2022-09-15T22:41:25.471Z"
   },
   {
    "duration": 214,
    "start_time": "2022-09-15T22:41:25.678Z"
   },
   {
    "duration": 231,
    "start_time": "2022-09-15T22:41:25.894Z"
   },
   {
    "duration": 110,
    "start_time": "2022-09-15T22:41:26.131Z"
   },
   {
    "duration": 166,
    "start_time": "2022-09-15T22:41:26.245Z"
   },
   {
    "duration": 199,
    "start_time": "2022-09-15T22:41:26.413Z"
   },
   {
    "duration": 194,
    "start_time": "2022-09-15T22:41:26.614Z"
   },
   {
    "duration": 192,
    "start_time": "2022-09-15T22:41:26.810Z"
   },
   {
    "duration": 40,
    "start_time": "2022-09-15T22:41:27.004Z"
   },
   {
    "duration": 198,
    "start_time": "2022-09-15T22:41:27.047Z"
   },
   {
    "duration": 308,
    "start_time": "2022-09-15T22:41:27.247Z"
   },
   {
    "duration": 182,
    "start_time": "2022-09-15T22:41:27.557Z"
   },
   {
    "duration": 26,
    "start_time": "2022-09-15T22:41:27.743Z"
   },
   {
    "duration": 197,
    "start_time": "2022-09-15T22:41:27.770Z"
   },
   {
    "duration": 497,
    "start_time": "2022-09-15T23:54:58.126Z"
   },
   {
    "duration": 40,
    "start_time": "2022-09-15T23:54:58.625Z"
   },
   {
    "duration": 22,
    "start_time": "2022-09-15T23:54:58.667Z"
   },
   {
    "duration": 2276,
    "start_time": "2022-09-15T23:54:58.692Z"
   },
   {
    "duration": 19,
    "start_time": "2022-09-15T23:55:00.970Z"
   },
   {
    "duration": 32,
    "start_time": "2022-09-15T23:55:00.991Z"
   },
   {
    "duration": 5,
    "start_time": "2022-09-15T23:55:01.025Z"
   },
   {
    "duration": 38,
    "start_time": "2022-09-15T23:55:01.031Z"
   },
   {
    "duration": 20,
    "start_time": "2022-09-15T23:55:01.071Z"
   },
   {
    "duration": 16,
    "start_time": "2022-09-15T23:55:01.096Z"
   },
   {
    "duration": 25,
    "start_time": "2022-09-15T23:55:01.113Z"
   },
   {
    "duration": 47,
    "start_time": "2022-09-15T23:55:01.140Z"
   },
   {
    "duration": 19,
    "start_time": "2022-09-15T23:55:01.189Z"
   },
   {
    "duration": 64,
    "start_time": "2022-09-15T23:55:01.210Z"
   },
   {
    "duration": 14,
    "start_time": "2022-09-15T23:55:01.276Z"
   },
   {
    "duration": 32,
    "start_time": "2022-09-15T23:55:01.292Z"
   },
   {
    "duration": 20,
    "start_time": "2022-09-15T23:55:01.326Z"
   },
   {
    "duration": 314,
    "start_time": "2022-09-15T23:55:01.348Z"
   },
   {
    "duration": 5,
    "start_time": "2022-09-15T23:55:01.663Z"
   },
   {
    "duration": 42,
    "start_time": "2022-09-15T23:55:01.669Z"
   },
   {
    "duration": 357,
    "start_time": "2022-09-15T23:55:01.713Z"
   },
   {
    "duration": 404,
    "start_time": "2022-09-15T23:55:02.072Z"
   },
   {
    "duration": 302,
    "start_time": "2022-09-15T23:55:02.478Z"
   },
   {
    "duration": 341,
    "start_time": "2022-09-15T23:55:02.782Z"
   },
   {
    "duration": 213,
    "start_time": "2022-09-15T23:55:03.125Z"
   },
   {
    "duration": 188,
    "start_time": "2022-09-15T23:55:03.340Z"
   },
   {
    "duration": 203,
    "start_time": "2022-09-15T23:55:03.530Z"
   },
   {
    "duration": 129,
    "start_time": "2022-09-15T23:55:03.737Z"
   },
   {
    "duration": 205,
    "start_time": "2022-09-15T23:55:03.868Z"
   },
   {
    "duration": 209,
    "start_time": "2022-09-15T23:55:04.075Z"
   },
   {
    "duration": 297,
    "start_time": "2022-09-15T23:55:04.288Z"
   },
   {
    "duration": 176,
    "start_time": "2022-09-15T23:55:04.587Z"
   },
   {
    "duration": 183,
    "start_time": "2022-09-15T23:55:04.765Z"
   },
   {
    "duration": 190,
    "start_time": "2022-09-15T23:55:04.949Z"
   },
   {
    "duration": 210,
    "start_time": "2022-09-15T23:55:05.141Z"
   },
   {
    "duration": 198,
    "start_time": "2022-09-15T23:55:05.353Z"
   },
   {
    "duration": 102,
    "start_time": "2022-09-15T23:55:05.553Z"
   },
   {
    "duration": 157,
    "start_time": "2022-09-15T23:55:05.656Z"
   },
   {
    "duration": 155,
    "start_time": "2022-09-15T23:55:05.815Z"
   },
   {
    "duration": 173,
    "start_time": "2022-09-15T23:55:05.971Z"
   },
   {
    "duration": 169,
    "start_time": "2022-09-15T23:55:06.146Z"
   },
   {
    "duration": 22,
    "start_time": "2022-09-15T23:55:06.316Z"
   },
   {
    "duration": 191,
    "start_time": "2022-09-15T23:55:06.339Z"
   },
   {
    "duration": 278,
    "start_time": "2022-09-15T23:55:06.531Z"
   },
   {
    "duration": 167,
    "start_time": "2022-09-15T23:55:06.811Z"
   },
   {
    "duration": 36,
    "start_time": "2022-09-15T23:55:06.979Z"
   },
   {
    "duration": 181,
    "start_time": "2022-09-15T23:55:07.017Z"
   },
   {
    "duration": 13,
    "start_time": "2022-09-15T23:58:59.651Z"
   },
   {
    "duration": 164,
    "start_time": "2022-09-16T00:02:29.499Z"
   },
   {
    "duration": 371,
    "start_time": "2022-09-16T18:51:24.494Z"
   },
   {
    "duration": 6,
    "start_time": "2022-09-16T18:51:44.813Z"
   },
   {
    "duration": 699,
    "start_time": "2022-09-16T18:51:51.258Z"
   },
   {
    "duration": 41,
    "start_time": "2022-09-16T18:51:51.958Z"
   },
   {
    "duration": 12,
    "start_time": "2022-09-16T18:51:52.001Z"
   },
   {
    "duration": 2170,
    "start_time": "2022-09-16T18:51:52.015Z"
   },
   {
    "duration": 0,
    "start_time": "2022-09-16T18:51:54.187Z"
   },
   {
    "duration": 0,
    "start_time": "2022-09-16T18:51:54.188Z"
   },
   {
    "duration": 0,
    "start_time": "2022-09-16T18:51:54.190Z"
   },
   {
    "duration": 0,
    "start_time": "2022-09-16T18:51:54.191Z"
   },
   {
    "duration": 0,
    "start_time": "2022-09-16T18:51:54.192Z"
   },
   {
    "duration": 0,
    "start_time": "2022-09-16T18:51:54.193Z"
   },
   {
    "duration": 0,
    "start_time": "2022-09-16T18:51:54.194Z"
   },
   {
    "duration": 0,
    "start_time": "2022-09-16T18:51:54.195Z"
   },
   {
    "duration": 0,
    "start_time": "2022-09-16T18:51:54.196Z"
   },
   {
    "duration": 0,
    "start_time": "2022-09-16T18:51:54.197Z"
   },
   {
    "duration": 0,
    "start_time": "2022-09-16T18:51:54.198Z"
   },
   {
    "duration": 0,
    "start_time": "2022-09-16T18:51:54.199Z"
   },
   {
    "duration": 0,
    "start_time": "2022-09-16T18:51:54.201Z"
   },
   {
    "duration": 0,
    "start_time": "2022-09-16T18:51:54.201Z"
   },
   {
    "duration": 0,
    "start_time": "2022-09-16T18:51:54.202Z"
   },
   {
    "duration": 0,
    "start_time": "2022-09-16T18:51:54.203Z"
   },
   {
    "duration": 0,
    "start_time": "2022-09-16T18:51:54.205Z"
   },
   {
    "duration": 0,
    "start_time": "2022-09-16T18:51:54.205Z"
   },
   {
    "duration": 0,
    "start_time": "2022-09-16T18:51:54.221Z"
   },
   {
    "duration": 0,
    "start_time": "2022-09-16T18:51:54.222Z"
   },
   {
    "duration": 0,
    "start_time": "2022-09-16T18:51:54.224Z"
   },
   {
    "duration": 0,
    "start_time": "2022-09-16T18:51:54.225Z"
   },
   {
    "duration": 0,
    "start_time": "2022-09-16T18:51:54.226Z"
   },
   {
    "duration": 0,
    "start_time": "2022-09-16T18:51:54.227Z"
   },
   {
    "duration": 0,
    "start_time": "2022-09-16T18:51:54.228Z"
   },
   {
    "duration": 0,
    "start_time": "2022-09-16T18:51:54.230Z"
   },
   {
    "duration": 0,
    "start_time": "2022-09-16T18:51:54.230Z"
   },
   {
    "duration": 0,
    "start_time": "2022-09-16T18:51:54.232Z"
   },
   {
    "duration": 0,
    "start_time": "2022-09-16T18:51:54.233Z"
   },
   {
    "duration": 0,
    "start_time": "2022-09-16T18:51:54.234Z"
   },
   {
    "duration": 0,
    "start_time": "2022-09-16T18:51:54.235Z"
   },
   {
    "duration": 0,
    "start_time": "2022-09-16T18:51:54.236Z"
   },
   {
    "duration": 0,
    "start_time": "2022-09-16T18:51:54.237Z"
   },
   {
    "duration": 0,
    "start_time": "2022-09-16T18:51:54.238Z"
   },
   {
    "duration": 0,
    "start_time": "2022-09-16T18:51:54.239Z"
   },
   {
    "duration": 0,
    "start_time": "2022-09-16T18:51:54.240Z"
   },
   {
    "duration": 0,
    "start_time": "2022-09-16T18:51:54.241Z"
   },
   {
    "duration": 0,
    "start_time": "2022-09-16T18:51:54.242Z"
   },
   {
    "duration": 0,
    "start_time": "2022-09-16T18:51:54.243Z"
   },
   {
    "duration": 0,
    "start_time": "2022-09-16T18:51:54.244Z"
   },
   {
    "duration": 0,
    "start_time": "2022-09-16T18:51:54.245Z"
   },
   {
    "duration": 0,
    "start_time": "2022-09-16T18:51:54.246Z"
   },
   {
    "duration": 0,
    "start_time": "2022-09-16T18:51:54.248Z"
   },
   {
    "duration": 1810,
    "start_time": "2022-09-16T18:53:10.558Z"
   },
   {
    "duration": 44,
    "start_time": "2022-09-16T18:54:52.373Z"
   },
   {
    "duration": 9,
    "start_time": "2022-09-16T18:59:39.534Z"
   },
   {
    "duration": 12,
    "start_time": "2022-09-16T18:59:56.552Z"
   },
   {
    "duration": 52,
    "start_time": "2022-09-16T19:00:08.690Z"
   },
   {
    "duration": 15,
    "start_time": "2022-09-16T19:00:44.556Z"
   },
   {
    "duration": 19,
    "start_time": "2022-09-16T19:00:49.547Z"
   },
   {
    "duration": 8,
    "start_time": "2022-09-16T19:01:48.609Z"
   },
   {
    "duration": 21,
    "start_time": "2022-09-16T19:02:09.277Z"
   },
   {
    "duration": 14,
    "start_time": "2022-09-16T19:11:34.685Z"
   },
   {
    "duration": 527,
    "start_time": "2022-09-16T19:14:38.999Z"
   },
   {
    "duration": 43,
    "start_time": "2022-09-16T19:14:39.528Z"
   },
   {
    "duration": 15,
    "start_time": "2022-09-16T19:14:39.573Z"
   },
   {
    "duration": 2195,
    "start_time": "2022-09-16T19:14:39.590Z"
   },
   {
    "duration": 61,
    "start_time": "2022-09-16T19:14:41.787Z"
   },
   {
    "duration": 19,
    "start_time": "2022-09-16T19:14:41.849Z"
   },
   {
    "duration": 5,
    "start_time": "2022-09-16T19:14:41.870Z"
   },
   {
    "duration": 20,
    "start_time": "2022-09-16T19:14:41.877Z"
   },
   {
    "duration": 24,
    "start_time": "2022-09-16T19:14:41.899Z"
   },
   {
    "duration": 4,
    "start_time": "2022-09-16T19:14:41.927Z"
   },
   {
    "duration": 8,
    "start_time": "2022-09-16T19:14:41.933Z"
   },
   {
    "duration": 30,
    "start_time": "2022-09-16T19:14:41.943Z"
   },
   {
    "duration": 10,
    "start_time": "2022-09-16T19:14:41.974Z"
   },
   {
    "duration": 73,
    "start_time": "2022-09-16T19:14:41.985Z"
   },
   {
    "duration": 4,
    "start_time": "2022-09-16T19:14:42.060Z"
   },
   {
    "duration": 9,
    "start_time": "2022-09-16T19:14:42.065Z"
   },
   {
    "duration": 11,
    "start_time": "2022-09-16T19:14:42.076Z"
   },
   {
    "duration": 281,
    "start_time": "2022-09-16T19:14:42.089Z"
   },
   {
    "duration": 4,
    "start_time": "2022-09-16T19:14:42.372Z"
   },
   {
    "duration": 41,
    "start_time": "2022-09-16T19:14:42.377Z"
   },
   {
    "duration": 288,
    "start_time": "2022-09-16T19:14:42.421Z"
   },
   {
    "duration": 388,
    "start_time": "2022-09-16T19:14:42.711Z"
   },
   {
    "duration": 271,
    "start_time": "2022-09-16T19:14:43.101Z"
   },
   {
    "duration": 302,
    "start_time": "2022-09-16T19:14:43.374Z"
   },
   {
    "duration": 185,
    "start_time": "2022-09-16T19:14:43.678Z"
   },
   {
    "duration": 164,
    "start_time": "2022-09-16T19:14:43.865Z"
   },
   {
    "duration": 177,
    "start_time": "2022-09-16T19:14:44.031Z"
   },
   {
    "duration": 106,
    "start_time": "2022-09-16T19:14:44.222Z"
   },
   {
    "duration": 169,
    "start_time": "2022-09-16T19:14:44.330Z"
   },
   {
    "duration": 247,
    "start_time": "2022-09-16T19:14:44.501Z"
   },
   {
    "duration": 164,
    "start_time": "2022-09-16T19:14:44.750Z"
   },
   {
    "duration": 163,
    "start_time": "2022-09-16T19:14:44.916Z"
   },
   {
    "duration": 164,
    "start_time": "2022-09-16T19:14:45.081Z"
   },
   {
    "duration": 156,
    "start_time": "2022-09-16T19:14:45.247Z"
   },
   {
    "duration": 181,
    "start_time": "2022-09-16T19:14:45.405Z"
   },
   {
    "duration": 183,
    "start_time": "2022-09-16T19:14:45.588Z"
   },
   {
    "duration": 94,
    "start_time": "2022-09-16T19:14:45.772Z"
   },
   {
    "duration": 135,
    "start_time": "2022-09-16T19:14:45.867Z"
   },
   {
    "duration": 150,
    "start_time": "2022-09-16T19:14:46.004Z"
   },
   {
    "duration": 138,
    "start_time": "2022-09-16T19:14:46.155Z"
   },
   {
    "duration": 219,
    "start_time": "2022-09-16T19:14:46.295Z"
   },
   {
    "duration": 19,
    "start_time": "2022-09-16T19:14:46.522Z"
   },
   {
    "duration": 155,
    "start_time": "2022-09-16T19:14:46.543Z"
   },
   {
    "duration": 161,
    "start_time": "2022-09-16T19:14:46.699Z"
   },
   {
    "duration": 154,
    "start_time": "2022-09-16T19:14:46.861Z"
   },
   {
    "duration": 22,
    "start_time": "2022-09-16T19:14:47.017Z"
   },
   {
    "duration": 177,
    "start_time": "2022-09-16T19:14:47.041Z"
   },
   {
    "duration": 5,
    "start_time": "2022-09-16T19:23:17.617Z"
   },
   {
    "duration": 67,
    "start_time": "2022-09-16T19:23:34.449Z"
   },
   {
    "duration": 8,
    "start_time": "2022-09-16T19:23:56.539Z"
   },
   {
    "duration": 9,
    "start_time": "2022-09-16T19:25:28.259Z"
   },
   {
    "duration": 1221,
    "start_time": "2022-09-16T19:26:18.465Z"
   },
   {
    "duration": 1105,
    "start_time": "2022-09-16T19:27:31.666Z"
   },
   {
    "duration": 1149,
    "start_time": "2022-09-16T19:27:36.922Z"
   },
   {
    "duration": 473,
    "start_time": "2022-09-16T19:27:50.041Z"
   },
   {
    "duration": 41,
    "start_time": "2022-09-16T19:27:50.516Z"
   },
   {
    "duration": 18,
    "start_time": "2022-09-16T19:27:50.558Z"
   },
   {
    "duration": 1967,
    "start_time": "2022-09-16T19:27:50.578Z"
   },
   {
    "duration": 50,
    "start_time": "2022-09-16T19:27:52.546Z"
   },
   {
    "duration": 15,
    "start_time": "2022-09-16T19:27:52.598Z"
   },
   {
    "duration": 11,
    "start_time": "2022-09-16T19:27:52.615Z"
   },
   {
    "duration": 12,
    "start_time": "2022-09-16T19:27:52.628Z"
   },
   {
    "duration": 9,
    "start_time": "2022-09-16T19:27:52.641Z"
   },
   {
    "duration": 1415,
    "start_time": "2022-09-16T19:27:52.654Z"
   },
   {
    "duration": 5,
    "start_time": "2022-09-16T19:27:54.070Z"
   },
   {
    "duration": 24,
    "start_time": "2022-09-16T19:27:54.076Z"
   },
   {
    "duration": 36,
    "start_time": "2022-09-16T19:27:54.102Z"
   },
   {
    "duration": 12,
    "start_time": "2022-09-16T19:27:54.139Z"
   },
   {
    "duration": 83,
    "start_time": "2022-09-16T19:27:54.153Z"
   },
   {
    "duration": 5,
    "start_time": "2022-09-16T19:27:54.238Z"
   },
   {
    "duration": 20,
    "start_time": "2022-09-16T19:27:54.245Z"
   },
   {
    "duration": 24,
    "start_time": "2022-09-16T19:27:54.267Z"
   },
   {
    "duration": 273,
    "start_time": "2022-09-16T19:27:54.293Z"
   },
   {
    "duration": 4,
    "start_time": "2022-09-16T19:27:54.567Z"
   },
   {
    "duration": 35,
    "start_time": "2022-09-16T19:27:54.573Z"
   },
   {
    "duration": 291,
    "start_time": "2022-09-16T19:27:54.609Z"
   },
   {
    "duration": 377,
    "start_time": "2022-09-16T19:27:54.902Z"
   },
   {
    "duration": 267,
    "start_time": "2022-09-16T19:27:55.280Z"
   },
   {
    "duration": 305,
    "start_time": "2022-09-16T19:27:55.549Z"
   },
   {
    "duration": 184,
    "start_time": "2022-09-16T19:27:55.856Z"
   },
   {
    "duration": 184,
    "start_time": "2022-09-16T19:27:56.042Z"
   },
   {
    "duration": 179,
    "start_time": "2022-09-16T19:27:56.230Z"
   },
   {
    "duration": 116,
    "start_time": "2022-09-16T19:27:56.410Z"
   },
   {
    "duration": 169,
    "start_time": "2022-09-16T19:27:56.527Z"
   },
   {
    "duration": 240,
    "start_time": "2022-09-16T19:27:56.697Z"
   },
   {
    "duration": 166,
    "start_time": "2022-09-16T19:27:56.939Z"
   },
   {
    "duration": 175,
    "start_time": "2022-09-16T19:27:57.107Z"
   },
   {
    "duration": 167,
    "start_time": "2022-09-16T19:27:57.284Z"
   },
   {
    "duration": 181,
    "start_time": "2022-09-16T19:27:57.452Z"
   },
   {
    "duration": 173,
    "start_time": "2022-09-16T19:27:57.634Z"
   },
   {
    "duration": 169,
    "start_time": "2022-09-16T19:27:57.809Z"
   },
   {
    "duration": 93,
    "start_time": "2022-09-16T19:27:57.980Z"
   },
   {
    "duration": 151,
    "start_time": "2022-09-16T19:27:58.074Z"
   },
   {
    "duration": 169,
    "start_time": "2022-09-16T19:27:58.227Z"
   },
   {
    "duration": 149,
    "start_time": "2022-09-16T19:27:58.398Z"
   },
   {
    "duration": 226,
    "start_time": "2022-09-16T19:27:58.549Z"
   },
   {
    "duration": 21,
    "start_time": "2022-09-16T19:27:58.777Z"
   },
   {
    "duration": 206,
    "start_time": "2022-09-16T19:27:58.800Z"
   },
   {
    "duration": 169,
    "start_time": "2022-09-16T19:27:59.009Z"
   },
   {
    "duration": 153,
    "start_time": "2022-09-16T19:27:59.179Z"
   },
   {
    "duration": 22,
    "start_time": "2022-09-16T19:27:59.333Z"
   },
   {
    "duration": 156,
    "start_time": "2022-09-16T19:27:59.357Z"
   },
   {
    "duration": 1064,
    "start_time": "2022-09-16T19:39:56.760Z"
   },
   {
    "duration": 449,
    "start_time": "2022-09-16T19:40:17.272Z"
   },
   {
    "duration": 41,
    "start_time": "2022-09-16T19:40:17.723Z"
   },
   {
    "duration": 14,
    "start_time": "2022-09-16T19:40:17.765Z"
   },
   {
    "duration": 2049,
    "start_time": "2022-09-16T19:40:17.780Z"
   },
   {
    "duration": 48,
    "start_time": "2022-09-16T19:40:19.830Z"
   },
   {
    "duration": 15,
    "start_time": "2022-09-16T19:40:19.880Z"
   },
   {
    "duration": 5,
    "start_time": "2022-09-16T19:40:19.897Z"
   },
   {
    "duration": 22,
    "start_time": "2022-09-16T19:40:19.903Z"
   },
   {
    "duration": 7,
    "start_time": "2022-09-16T19:40:19.927Z"
   },
   {
    "duration": 1245,
    "start_time": "2022-09-16T19:40:19.938Z"
   },
   {
    "duration": 5,
    "start_time": "2022-09-16T19:40:21.184Z"
   },
   {
    "duration": 7,
    "start_time": "2022-09-16T19:40:21.191Z"
   },
   {
    "duration": 45,
    "start_time": "2022-09-16T19:40:21.199Z"
   },
   {
    "duration": 9,
    "start_time": "2022-09-16T19:40:21.245Z"
   },
   {
    "duration": 54,
    "start_time": "2022-09-16T19:40:21.256Z"
   },
   {
    "duration": 4,
    "start_time": "2022-09-16T19:40:21.321Z"
   },
   {
    "duration": 11,
    "start_time": "2022-09-16T19:40:21.327Z"
   },
   {
    "duration": 11,
    "start_time": "2022-09-16T19:40:21.339Z"
   },
   {
    "duration": 263,
    "start_time": "2022-09-16T19:40:21.351Z"
   },
   {
    "duration": 6,
    "start_time": "2022-09-16T19:40:21.616Z"
   },
   {
    "duration": 34,
    "start_time": "2022-09-16T19:40:21.623Z"
   },
   {
    "duration": 287,
    "start_time": "2022-09-16T19:40:21.658Z"
   },
   {
    "duration": 381,
    "start_time": "2022-09-16T19:40:21.946Z"
   },
   {
    "duration": 263,
    "start_time": "2022-09-16T19:40:22.329Z"
   },
   {
    "duration": 281,
    "start_time": "2022-09-16T19:40:22.594Z"
   },
   {
    "duration": 184,
    "start_time": "2022-09-16T19:40:22.877Z"
   },
   {
    "duration": 163,
    "start_time": "2022-09-16T19:40:23.063Z"
   },
   {
    "duration": 172,
    "start_time": "2022-09-16T19:40:23.228Z"
   },
   {
    "duration": 108,
    "start_time": "2022-09-16T19:40:23.402Z"
   },
   {
    "duration": 169,
    "start_time": "2022-09-16T19:40:23.521Z"
   },
   {
    "duration": 246,
    "start_time": "2022-09-16T19:40:23.692Z"
   },
   {
    "duration": 163,
    "start_time": "2022-09-16T19:40:23.940Z"
   },
   {
    "duration": 162,
    "start_time": "2022-09-16T19:40:24.105Z"
   },
   {
    "duration": 161,
    "start_time": "2022-09-16T19:40:24.268Z"
   },
   {
    "duration": 150,
    "start_time": "2022-09-16T19:40:24.431Z"
   },
   {
    "duration": 169,
    "start_time": "2022-09-16T19:40:24.582Z"
   },
   {
    "duration": 175,
    "start_time": "2022-09-16T19:40:24.753Z"
   },
   {
    "duration": 80,
    "start_time": "2022-09-16T19:40:24.929Z"
   },
   {
    "duration": 161,
    "start_time": "2022-09-16T19:40:25.010Z"
   },
   {
    "duration": 152,
    "start_time": "2022-09-16T19:40:25.172Z"
   },
   {
    "duration": 139,
    "start_time": "2022-09-16T19:40:25.325Z"
   },
   {
    "duration": 234,
    "start_time": "2022-09-16T19:40:25.466Z"
   },
   {
    "duration": 36,
    "start_time": "2022-09-16T19:40:25.701Z"
   },
   {
    "duration": 168,
    "start_time": "2022-09-16T19:40:25.739Z"
   },
   {
    "duration": 159,
    "start_time": "2022-09-16T19:40:25.909Z"
   },
   {
    "duration": 151,
    "start_time": "2022-09-16T19:40:26.070Z"
   },
   {
    "duration": 22,
    "start_time": "2022-09-16T19:40:26.223Z"
   },
   {
    "duration": 165,
    "start_time": "2022-09-16T19:40:26.246Z"
   },
   {
    "duration": 1021,
    "start_time": "2022-09-16T19:42:49.920Z"
   },
   {
    "duration": 1018,
    "start_time": "2022-09-16T19:43:22.472Z"
   },
   {
    "duration": 5,
    "start_time": "2022-09-16T19:43:24.340Z"
   },
   {
    "duration": 511,
    "start_time": "2022-09-16T19:43:30.519Z"
   },
   {
    "duration": 42,
    "start_time": "2022-09-16T19:43:31.032Z"
   },
   {
    "duration": 35,
    "start_time": "2022-09-16T19:43:31.076Z"
   },
   {
    "duration": 2012,
    "start_time": "2022-09-16T19:43:31.113Z"
   },
   {
    "duration": 52,
    "start_time": "2022-09-16T19:43:33.127Z"
   },
   {
    "duration": 16,
    "start_time": "2022-09-16T19:43:33.181Z"
   },
   {
    "duration": 5,
    "start_time": "2022-09-16T19:43:33.198Z"
   },
   {
    "duration": 10,
    "start_time": "2022-09-16T19:43:33.222Z"
   },
   {
    "duration": 10,
    "start_time": "2022-09-16T19:43:33.234Z"
   },
   {
    "duration": 1246,
    "start_time": "2022-09-16T19:43:33.248Z"
   },
   {
    "duration": 4,
    "start_time": "2022-09-16T19:43:34.496Z"
   },
   {
    "duration": 11,
    "start_time": "2022-09-16T19:43:34.501Z"
   },
   {
    "duration": 6,
    "start_time": "2022-09-16T19:43:34.522Z"
   },
   {
    "duration": 42,
    "start_time": "2022-09-16T19:43:34.530Z"
   },
   {
    "duration": 9,
    "start_time": "2022-09-16T19:43:34.574Z"
   },
   {
    "duration": 64,
    "start_time": "2022-09-16T19:43:34.585Z"
   },
   {
    "duration": 4,
    "start_time": "2022-09-16T19:43:34.650Z"
   },
   {
    "duration": 13,
    "start_time": "2022-09-16T19:43:34.655Z"
   },
   {
    "duration": 12,
    "start_time": "2022-09-16T19:43:34.669Z"
   },
   {
    "duration": 281,
    "start_time": "2022-09-16T19:43:34.682Z"
   },
   {
    "duration": 4,
    "start_time": "2022-09-16T19:43:34.965Z"
   },
   {
    "duration": 35,
    "start_time": "2022-09-16T19:43:34.970Z"
   },
   {
    "duration": 306,
    "start_time": "2022-09-16T19:43:35.007Z"
   },
   {
    "duration": 394,
    "start_time": "2022-09-16T19:43:35.315Z"
   },
   {
    "duration": 275,
    "start_time": "2022-09-16T19:43:35.711Z"
   },
   {
    "duration": 294,
    "start_time": "2022-09-16T19:43:35.988Z"
   },
   {
    "duration": 192,
    "start_time": "2022-09-16T19:43:36.284Z"
   },
   {
    "duration": 176,
    "start_time": "2022-09-16T19:43:36.479Z"
   },
   {
    "duration": 180,
    "start_time": "2022-09-16T19:43:36.656Z"
   },
   {
    "duration": 111,
    "start_time": "2022-09-16T19:43:36.837Z"
   },
   {
    "duration": 178,
    "start_time": "2022-09-16T19:43:36.950Z"
   },
   {
    "duration": 243,
    "start_time": "2022-09-16T19:43:37.130Z"
   },
   {
    "duration": 162,
    "start_time": "2022-09-16T19:43:37.375Z"
   },
   {
    "duration": 161,
    "start_time": "2022-09-16T19:43:37.538Z"
   },
   {
    "duration": 163,
    "start_time": "2022-09-16T19:43:37.701Z"
   },
   {
    "duration": 158,
    "start_time": "2022-09-16T19:43:37.866Z"
   },
   {
    "duration": 165,
    "start_time": "2022-09-16T19:43:38.025Z"
   },
   {
    "duration": 172,
    "start_time": "2022-09-16T19:43:38.192Z"
   },
   {
    "duration": 91,
    "start_time": "2022-09-16T19:43:38.366Z"
   },
   {
    "duration": 130,
    "start_time": "2022-09-16T19:43:38.458Z"
   },
   {
    "duration": 149,
    "start_time": "2022-09-16T19:43:38.589Z"
   },
   {
    "duration": 156,
    "start_time": "2022-09-16T19:43:38.739Z"
   },
   {
    "duration": 266,
    "start_time": "2022-09-16T19:43:38.897Z"
   },
   {
    "duration": 20,
    "start_time": "2022-09-16T19:43:39.165Z"
   },
   {
    "duration": 163,
    "start_time": "2022-09-16T19:43:39.187Z"
   },
   {
    "duration": 154,
    "start_time": "2022-09-16T19:43:39.351Z"
   },
   {
    "duration": 147,
    "start_time": "2022-09-16T19:43:39.507Z"
   },
   {
    "duration": 20,
    "start_time": "2022-09-16T19:43:39.656Z"
   },
   {
    "duration": 158,
    "start_time": "2022-09-16T19:43:39.678Z"
   },
   {
    "duration": 1030,
    "start_time": "2022-09-16T19:44:35.347Z"
   },
   {
    "duration": 83,
    "start_time": "2022-09-16T19:45:29.540Z"
   },
   {
    "duration": 711,
    "start_time": "2022-09-16T19:49:34.575Z"
   },
   {
    "duration": 684,
    "start_time": "2022-09-16T19:49:55.229Z"
   },
   {
    "duration": 10,
    "start_time": "2022-09-16T19:50:27.732Z"
   },
   {
    "duration": 175,
    "start_time": "2022-09-16T19:50:44.504Z"
   },
   {
    "duration": 113,
    "start_time": "2022-09-16T19:50:54.455Z"
   },
   {
    "duration": 112,
    "start_time": "2022-09-16T19:51:12.472Z"
   },
   {
    "duration": 549,
    "start_time": "2022-09-16T19:54:38.608Z"
   },
   {
    "duration": 40,
    "start_time": "2022-09-16T19:54:39.159Z"
   },
   {
    "duration": 28,
    "start_time": "2022-09-16T19:54:39.201Z"
   },
   {
    "duration": 1897,
    "start_time": "2022-09-16T19:54:39.232Z"
   },
   {
    "duration": 48,
    "start_time": "2022-09-16T19:54:41.131Z"
   },
   {
    "duration": 16,
    "start_time": "2022-09-16T19:54:41.180Z"
   },
   {
    "duration": 5,
    "start_time": "2022-09-16T19:54:41.197Z"
   },
   {
    "duration": 22,
    "start_time": "2022-09-16T19:54:41.204Z"
   },
   {
    "duration": 9,
    "start_time": "2022-09-16T19:54:41.228Z"
   },
   {
    "duration": 93,
    "start_time": "2022-09-16T19:54:41.241Z"
   },
   {
    "duration": 0,
    "start_time": "2022-09-16T19:54:41.337Z"
   },
   {
    "duration": 0,
    "start_time": "2022-09-16T19:54:41.338Z"
   },
   {
    "duration": 0,
    "start_time": "2022-09-16T19:54:41.339Z"
   },
   {
    "duration": 0,
    "start_time": "2022-09-16T19:54:41.340Z"
   },
   {
    "duration": 0,
    "start_time": "2022-09-16T19:54:41.341Z"
   },
   {
    "duration": 0,
    "start_time": "2022-09-16T19:54:41.342Z"
   },
   {
    "duration": 0,
    "start_time": "2022-09-16T19:54:41.342Z"
   },
   {
    "duration": 0,
    "start_time": "2022-09-16T19:54:41.344Z"
   },
   {
    "duration": 0,
    "start_time": "2022-09-16T19:54:41.345Z"
   },
   {
    "duration": 0,
    "start_time": "2022-09-16T19:54:41.346Z"
   },
   {
    "duration": 0,
    "start_time": "2022-09-16T19:54:41.346Z"
   },
   {
    "duration": 0,
    "start_time": "2022-09-16T19:54:41.347Z"
   },
   {
    "duration": 0,
    "start_time": "2022-09-16T19:54:41.348Z"
   },
   {
    "duration": 0,
    "start_time": "2022-09-16T19:54:41.349Z"
   },
   {
    "duration": 0,
    "start_time": "2022-09-16T19:54:41.350Z"
   },
   {
    "duration": 0,
    "start_time": "2022-09-16T19:54:41.351Z"
   },
   {
    "duration": 0,
    "start_time": "2022-09-16T19:54:41.352Z"
   },
   {
    "duration": 0,
    "start_time": "2022-09-16T19:54:41.353Z"
   },
   {
    "duration": 0,
    "start_time": "2022-09-16T19:54:41.354Z"
   },
   {
    "duration": 0,
    "start_time": "2022-09-16T19:54:41.355Z"
   },
   {
    "duration": 0,
    "start_time": "2022-09-16T19:54:41.356Z"
   },
   {
    "duration": 0,
    "start_time": "2022-09-16T19:54:41.357Z"
   },
   {
    "duration": 0,
    "start_time": "2022-09-16T19:54:41.358Z"
   },
   {
    "duration": 0,
    "start_time": "2022-09-16T19:54:41.359Z"
   },
   {
    "duration": 0,
    "start_time": "2022-09-16T19:54:41.360Z"
   },
   {
    "duration": 0,
    "start_time": "2022-09-16T19:54:41.361Z"
   },
   {
    "duration": 0,
    "start_time": "2022-09-16T19:54:41.361Z"
   },
   {
    "duration": 0,
    "start_time": "2022-09-16T19:54:41.363Z"
   },
   {
    "duration": 0,
    "start_time": "2022-09-16T19:54:41.364Z"
   },
   {
    "duration": 0,
    "start_time": "2022-09-16T19:54:41.365Z"
   },
   {
    "duration": 0,
    "start_time": "2022-09-16T19:54:41.365Z"
   },
   {
    "duration": 0,
    "start_time": "2022-09-16T19:54:41.367Z"
   },
   {
    "duration": 0,
    "start_time": "2022-09-16T19:54:41.367Z"
   },
   {
    "duration": 0,
    "start_time": "2022-09-16T19:54:41.422Z"
   },
   {
    "duration": 0,
    "start_time": "2022-09-16T19:54:41.423Z"
   },
   {
    "duration": 0,
    "start_time": "2022-09-16T19:54:41.424Z"
   },
   {
    "duration": 0,
    "start_time": "2022-09-16T19:54:41.425Z"
   },
   {
    "duration": 0,
    "start_time": "2022-09-16T19:54:41.426Z"
   },
   {
    "duration": 0,
    "start_time": "2022-09-16T19:54:41.427Z"
   },
   {
    "duration": 106,
    "start_time": "2022-09-16T19:55:07.955Z"
   },
   {
    "duration": 101,
    "start_time": "2022-09-16T19:55:19.061Z"
   },
   {
    "duration": 9,
    "start_time": "2022-09-16T20:03:52.312Z"
   },
   {
    "duration": 11,
    "start_time": "2022-09-16T20:04:34.206Z"
   },
   {
    "duration": 10,
    "start_time": "2022-09-16T20:04:42.921Z"
   },
   {
    "duration": 11,
    "start_time": "2022-09-16T20:05:02.440Z"
   },
   {
    "duration": 10,
    "start_time": "2022-09-16T20:05:09.877Z"
   },
   {
    "duration": 10,
    "start_time": "2022-09-16T20:05:14.137Z"
   },
   {
    "duration": 10,
    "start_time": "2022-09-16T20:05:32.655Z"
   },
   {
    "duration": 11,
    "start_time": "2022-09-16T20:05:43.059Z"
   },
   {
    "duration": 11,
    "start_time": "2022-09-16T20:05:49.068Z"
   },
   {
    "duration": 10,
    "start_time": "2022-09-16T20:09:42.662Z"
   },
   {
    "duration": 14,
    "start_time": "2022-09-16T20:09:48.866Z"
   },
   {
    "duration": 11,
    "start_time": "2022-09-16T20:09:52.983Z"
   },
   {
    "duration": 9,
    "start_time": "2022-09-16T20:10:15.191Z"
   },
   {
    "duration": 70,
    "start_time": "2022-09-16T20:10:35.533Z"
   },
   {
    "duration": 101,
    "start_time": "2022-09-16T20:10:44.649Z"
   },
   {
    "duration": 10,
    "start_time": "2022-09-16T20:10:56.195Z"
   },
   {
    "duration": 92,
    "start_time": "2022-09-16T20:14:33.924Z"
   },
   {
    "duration": 7,
    "start_time": "2022-09-16T20:15:59.435Z"
   },
   {
    "duration": 121,
    "start_time": "2022-09-16T20:41:58.090Z"
   },
   {
    "duration": 95,
    "start_time": "2022-09-16T20:42:06.534Z"
   },
   {
    "duration": 8,
    "start_time": "2022-09-16T20:44:28.907Z"
   },
   {
    "duration": 5,
    "start_time": "2022-09-16T20:49:56.732Z"
   },
   {
    "duration": 4,
    "start_time": "2022-09-16T20:53:24.500Z"
   },
   {
    "duration": 47,
    "start_time": "2022-09-16T20:53:26.344Z"
   },
   {
    "duration": 21,
    "start_time": "2022-09-16T20:55:33.214Z"
   },
   {
    "duration": 500,
    "start_time": "2022-09-16T21:01:21.317Z"
   },
   {
    "duration": 43,
    "start_time": "2022-09-16T21:01:21.819Z"
   },
   {
    "duration": 13,
    "start_time": "2022-09-16T21:01:21.863Z"
   },
   {
    "duration": 2010,
    "start_time": "2022-09-16T21:01:21.878Z"
   },
   {
    "duration": 53,
    "start_time": "2022-09-16T21:01:23.890Z"
   },
   {
    "duration": 14,
    "start_time": "2022-09-16T21:01:23.944Z"
   },
   {
    "duration": 19,
    "start_time": "2022-09-16T21:01:23.960Z"
   },
   {
    "duration": 18,
    "start_time": "2022-09-16T21:01:23.980Z"
   },
   {
    "duration": 42,
    "start_time": "2022-09-16T21:01:24.000Z"
   },
   {
    "duration": 27,
    "start_time": "2022-09-16T21:01:24.046Z"
   },
   {
    "duration": 123,
    "start_time": "2022-09-16T21:01:24.074Z"
   },
   {
    "duration": 0,
    "start_time": "2022-09-16T21:01:24.200Z"
   },
   {
    "duration": 0,
    "start_time": "2022-09-16T21:01:24.201Z"
   },
   {
    "duration": 0,
    "start_time": "2022-09-16T21:01:24.203Z"
   },
   {
    "duration": 0,
    "start_time": "2022-09-16T21:01:24.204Z"
   },
   {
    "duration": 0,
    "start_time": "2022-09-16T21:01:24.205Z"
   },
   {
    "duration": 0,
    "start_time": "2022-09-16T21:01:24.206Z"
   },
   {
    "duration": 0,
    "start_time": "2022-09-16T21:01:24.207Z"
   },
   {
    "duration": 0,
    "start_time": "2022-09-16T21:01:24.208Z"
   },
   {
    "duration": 0,
    "start_time": "2022-09-16T21:01:24.209Z"
   },
   {
    "duration": 0,
    "start_time": "2022-09-16T21:01:24.221Z"
   },
   {
    "duration": 0,
    "start_time": "2022-09-16T21:01:24.222Z"
   },
   {
    "duration": 0,
    "start_time": "2022-09-16T21:01:24.225Z"
   },
   {
    "duration": 0,
    "start_time": "2022-09-16T21:01:24.226Z"
   },
   {
    "duration": 0,
    "start_time": "2022-09-16T21:01:24.227Z"
   },
   {
    "duration": 0,
    "start_time": "2022-09-16T21:01:24.227Z"
   },
   {
    "duration": 0,
    "start_time": "2022-09-16T21:01:24.228Z"
   },
   {
    "duration": 0,
    "start_time": "2022-09-16T21:01:24.228Z"
   },
   {
    "duration": 0,
    "start_time": "2022-09-16T21:01:24.229Z"
   },
   {
    "duration": 0,
    "start_time": "2022-09-16T21:01:24.230Z"
   },
   {
    "duration": 0,
    "start_time": "2022-09-16T21:01:24.233Z"
   },
   {
    "duration": 0,
    "start_time": "2022-09-16T21:01:24.234Z"
   },
   {
    "duration": 0,
    "start_time": "2022-09-16T21:01:24.234Z"
   },
   {
    "duration": 0,
    "start_time": "2022-09-16T21:01:24.235Z"
   },
   {
    "duration": 0,
    "start_time": "2022-09-16T21:01:24.236Z"
   },
   {
    "duration": 0,
    "start_time": "2022-09-16T21:01:24.236Z"
   },
   {
    "duration": 0,
    "start_time": "2022-09-16T21:01:24.237Z"
   },
   {
    "duration": 0,
    "start_time": "2022-09-16T21:01:24.238Z"
   },
   {
    "duration": 0,
    "start_time": "2022-09-16T21:01:24.238Z"
   },
   {
    "duration": 0,
    "start_time": "2022-09-16T21:01:24.239Z"
   },
   {
    "duration": 0,
    "start_time": "2022-09-16T21:01:24.243Z"
   },
   {
    "duration": 0,
    "start_time": "2022-09-16T21:01:24.245Z"
   },
   {
    "duration": 0,
    "start_time": "2022-09-16T21:01:24.246Z"
   },
   {
    "duration": 0,
    "start_time": "2022-09-16T21:01:24.248Z"
   },
   {
    "duration": 0,
    "start_time": "2022-09-16T21:01:24.250Z"
   },
   {
    "duration": 0,
    "start_time": "2022-09-16T21:01:24.251Z"
   },
   {
    "duration": 0,
    "start_time": "2022-09-16T21:01:24.253Z"
   },
   {
    "duration": 0,
    "start_time": "2022-09-16T21:01:24.254Z"
   },
   {
    "duration": 0,
    "start_time": "2022-09-16T21:01:24.255Z"
   },
   {
    "duration": 0,
    "start_time": "2022-09-16T21:01:24.256Z"
   },
   {
    "duration": 0,
    "start_time": "2022-09-16T21:01:24.257Z"
   },
   {
    "duration": 0,
    "start_time": "2022-09-16T21:01:24.258Z"
   },
   {
    "duration": 0,
    "start_time": "2022-09-16T21:01:24.259Z"
   },
   {
    "duration": 1217,
    "start_time": "2022-09-16T21:10:04.316Z"
   },
   {
    "duration": 21,
    "start_time": "2022-09-16T21:16:30.933Z"
   },
   {
    "duration": 3,
    "start_time": "2022-09-16T21:17:40.496Z"
   },
   {
    "duration": 2,
    "start_time": "2022-09-16T21:19:01.566Z"
   },
   {
    "duration": 2,
    "start_time": "2022-09-16T21:19:04.747Z"
   },
   {
    "duration": 9,
    "start_time": "2022-09-16T21:29:01.092Z"
   },
   {
    "duration": 9,
    "start_time": "2022-09-16T21:29:04.006Z"
   },
   {
    "duration": 18,
    "start_time": "2022-09-16T21:29:17.104Z"
   },
   {
    "duration": 21,
    "start_time": "2022-09-16T21:36:30.982Z"
   },
   {
    "duration": 5,
    "start_time": "2022-09-16T21:36:36.245Z"
   },
   {
    "duration": 5,
    "start_time": "2022-09-16T21:36:38.428Z"
   },
   {
    "duration": 67,
    "start_time": "2022-09-16T21:42:33.620Z"
   },
   {
    "duration": 3,
    "start_time": "2022-09-16T21:46:44.065Z"
   },
   {
    "duration": 108,
    "start_time": "2022-09-16T21:48:14.210Z"
   },
   {
    "duration": 10,
    "start_time": "2022-09-16T21:48:19.143Z"
   },
   {
    "duration": 102,
    "start_time": "2022-09-16T21:48:33.041Z"
   },
   {
    "duration": 1617,
    "start_time": "2022-09-16T22:02:03.543Z"
   },
   {
    "duration": 480,
    "start_time": "2022-09-16T22:02:39.036Z"
   },
   {
    "duration": 40,
    "start_time": "2022-09-16T22:02:39.518Z"
   },
   {
    "duration": 13,
    "start_time": "2022-09-16T22:02:39.559Z"
   },
   {
    "duration": 1991,
    "start_time": "2022-09-16T22:02:39.574Z"
   },
   {
    "duration": 54,
    "start_time": "2022-09-16T22:02:41.566Z"
   },
   {
    "duration": 3,
    "start_time": "2022-09-16T22:02:41.622Z"
   },
   {
    "duration": 19,
    "start_time": "2022-09-16T22:02:41.626Z"
   },
   {
    "duration": 6,
    "start_time": "2022-09-16T22:02:41.647Z"
   },
   {
    "duration": 12,
    "start_time": "2022-09-16T22:02:41.655Z"
   },
   {
    "duration": 9,
    "start_time": "2022-09-16T22:02:41.670Z"
   },
   {
    "duration": 6,
    "start_time": "2022-09-16T22:02:41.681Z"
   },
   {
    "duration": 3,
    "start_time": "2022-09-16T22:02:41.688Z"
   },
   {
    "duration": 2,
    "start_time": "2022-09-16T22:02:41.722Z"
   },
   {
    "duration": 24,
    "start_time": "2022-09-16T22:02:41.726Z"
   },
   {
    "duration": 4,
    "start_time": "2022-09-16T22:02:41.752Z"
   },
   {
    "duration": 7,
    "start_time": "2022-09-16T22:02:41.758Z"
   },
   {
    "duration": 28,
    "start_time": "2022-09-16T22:02:41.767Z"
   },
   {
    "duration": 135,
    "start_time": "2022-09-16T22:02:41.796Z"
   },
   {
    "duration": 10,
    "start_time": "2022-09-16T22:02:41.932Z"
   },
   {
    "duration": 113,
    "start_time": "2022-09-16T22:02:41.943Z"
   },
   {
    "duration": 46,
    "start_time": "2022-09-16T22:02:42.058Z"
   },
   {
    "duration": 4,
    "start_time": "2022-09-16T22:02:42.106Z"
   },
   {
    "duration": 8,
    "start_time": "2022-09-16T22:02:42.122Z"
   },
   {
    "duration": 1016,
    "start_time": "2022-09-16T22:02:42.132Z"
   },
   {
    "duration": 0,
    "start_time": "2022-09-16T22:02:43.151Z"
   },
   {
    "duration": 0,
    "start_time": "2022-09-16T22:02:43.152Z"
   },
   {
    "duration": 0,
    "start_time": "2022-09-16T22:02:43.153Z"
   },
   {
    "duration": 0,
    "start_time": "2022-09-16T22:02:43.154Z"
   },
   {
    "duration": 0,
    "start_time": "2022-09-16T22:02:43.155Z"
   },
   {
    "duration": 0,
    "start_time": "2022-09-16T22:02:43.156Z"
   },
   {
    "duration": 0,
    "start_time": "2022-09-16T22:02:43.157Z"
   },
   {
    "duration": 0,
    "start_time": "2022-09-16T22:02:43.158Z"
   },
   {
    "duration": 0,
    "start_time": "2022-09-16T22:02:43.159Z"
   },
   {
    "duration": 0,
    "start_time": "2022-09-16T22:02:43.160Z"
   },
   {
    "duration": 0,
    "start_time": "2022-09-16T22:02:43.161Z"
   },
   {
    "duration": 0,
    "start_time": "2022-09-16T22:02:43.162Z"
   },
   {
    "duration": 0,
    "start_time": "2022-09-16T22:02:43.163Z"
   },
   {
    "duration": 0,
    "start_time": "2022-09-16T22:02:43.163Z"
   },
   {
    "duration": 0,
    "start_time": "2022-09-16T22:02:43.165Z"
   },
   {
    "duration": 0,
    "start_time": "2022-09-16T22:02:43.165Z"
   },
   {
    "duration": 0,
    "start_time": "2022-09-16T22:02:43.167Z"
   },
   {
    "duration": 0,
    "start_time": "2022-09-16T22:02:43.168Z"
   },
   {
    "duration": 0,
    "start_time": "2022-09-16T22:02:43.169Z"
   },
   {
    "duration": 0,
    "start_time": "2022-09-16T22:02:43.170Z"
   },
   {
    "duration": 0,
    "start_time": "2022-09-16T22:02:43.171Z"
   },
   {
    "duration": 0,
    "start_time": "2022-09-16T22:02:43.172Z"
   },
   {
    "duration": 0,
    "start_time": "2022-09-16T22:02:43.173Z"
   },
   {
    "duration": 0,
    "start_time": "2022-09-16T22:02:43.174Z"
   },
   {
    "duration": 0,
    "start_time": "2022-09-16T22:02:43.175Z"
   },
   {
    "duration": 0,
    "start_time": "2022-09-16T22:02:43.176Z"
   },
   {
    "duration": 0,
    "start_time": "2022-09-16T22:02:43.177Z"
   },
   {
    "duration": 0,
    "start_time": "2022-09-16T22:02:43.178Z"
   },
   {
    "duration": 0,
    "start_time": "2022-09-16T22:02:43.178Z"
   },
   {
    "duration": 0,
    "start_time": "2022-09-16T22:02:43.179Z"
   },
   {
    "duration": 8,
    "start_time": "2022-09-16T22:08:17.502Z"
   },
   {
    "duration": 11,
    "start_time": "2022-09-16T22:08:23.634Z"
   },
   {
    "duration": 11,
    "start_time": "2022-09-16T22:10:24.618Z"
   },
   {
    "duration": 10,
    "start_time": "2022-09-16T22:13:23.474Z"
   },
   {
    "duration": 497,
    "start_time": "2022-09-16T22:13:36.492Z"
   },
   {
    "duration": 47,
    "start_time": "2022-09-16T22:13:36.990Z"
   },
   {
    "duration": 13,
    "start_time": "2022-09-16T22:13:37.038Z"
   },
   {
    "duration": 2024,
    "start_time": "2022-09-16T22:13:37.053Z"
   },
   {
    "duration": 48,
    "start_time": "2022-09-16T22:13:39.079Z"
   },
   {
    "duration": 2,
    "start_time": "2022-09-16T22:13:39.129Z"
   },
   {
    "duration": 27,
    "start_time": "2022-09-16T22:13:39.133Z"
   },
   {
    "duration": 8,
    "start_time": "2022-09-16T22:13:39.162Z"
   },
   {
    "duration": 20,
    "start_time": "2022-09-16T22:13:39.172Z"
   },
   {
    "duration": 13,
    "start_time": "2022-09-16T22:13:39.195Z"
   },
   {
    "duration": 12,
    "start_time": "2022-09-16T22:13:39.210Z"
   },
   {
    "duration": 2,
    "start_time": "2022-09-16T22:13:39.224Z"
   },
   {
    "duration": 5,
    "start_time": "2022-09-16T22:13:39.227Z"
   },
   {
    "duration": 26,
    "start_time": "2022-09-16T22:13:39.234Z"
   },
   {
    "duration": 6,
    "start_time": "2022-09-16T22:13:39.262Z"
   },
   {
    "duration": 11,
    "start_time": "2022-09-16T22:13:39.270Z"
   },
   {
    "duration": 45,
    "start_time": "2022-09-16T22:13:39.283Z"
   },
   {
    "duration": 114,
    "start_time": "2022-09-16T22:13:39.330Z"
   },
   {
    "duration": 10,
    "start_time": "2022-09-16T22:13:39.446Z"
   },
   {
    "duration": 112,
    "start_time": "2022-09-16T22:13:39.458Z"
   },
   {
    "duration": 59,
    "start_time": "2022-09-16T22:13:39.571Z"
   },
   {
    "duration": 4,
    "start_time": "2022-09-16T22:13:39.632Z"
   },
   {
    "duration": 29,
    "start_time": "2022-09-16T22:13:39.638Z"
   },
   {
    "duration": 811,
    "start_time": "2022-09-16T22:13:39.668Z"
   },
   {
    "duration": 0,
    "start_time": "2022-09-16T22:13:40.482Z"
   },
   {
    "duration": 0,
    "start_time": "2022-09-16T22:13:40.483Z"
   },
   {
    "duration": 0,
    "start_time": "2022-09-16T22:13:40.484Z"
   },
   {
    "duration": 0,
    "start_time": "2022-09-16T22:13:40.485Z"
   },
   {
    "duration": 0,
    "start_time": "2022-09-16T22:13:40.486Z"
   },
   {
    "duration": 0,
    "start_time": "2022-09-16T22:13:40.488Z"
   },
   {
    "duration": 0,
    "start_time": "2022-09-16T22:13:40.489Z"
   },
   {
    "duration": 0,
    "start_time": "2022-09-16T22:13:40.490Z"
   },
   {
    "duration": 0,
    "start_time": "2022-09-16T22:13:40.491Z"
   },
   {
    "duration": 0,
    "start_time": "2022-09-16T22:13:40.493Z"
   },
   {
    "duration": 0,
    "start_time": "2022-09-16T22:13:40.493Z"
   },
   {
    "duration": 0,
    "start_time": "2022-09-16T22:13:40.494Z"
   },
   {
    "duration": 0,
    "start_time": "2022-09-16T22:13:40.496Z"
   },
   {
    "duration": 0,
    "start_time": "2022-09-16T22:13:40.497Z"
   },
   {
    "duration": 0,
    "start_time": "2022-09-16T22:13:40.498Z"
   },
   {
    "duration": 0,
    "start_time": "2022-09-16T22:13:40.499Z"
   },
   {
    "duration": 0,
    "start_time": "2022-09-16T22:13:40.500Z"
   },
   {
    "duration": 0,
    "start_time": "2022-09-16T22:13:40.501Z"
   },
   {
    "duration": 0,
    "start_time": "2022-09-16T22:13:40.503Z"
   },
   {
    "duration": 0,
    "start_time": "2022-09-16T22:13:40.504Z"
   },
   {
    "duration": 0,
    "start_time": "2022-09-16T22:13:40.505Z"
   },
   {
    "duration": 0,
    "start_time": "2022-09-16T22:13:40.506Z"
   },
   {
    "duration": 0,
    "start_time": "2022-09-16T22:13:40.507Z"
   },
   {
    "duration": 0,
    "start_time": "2022-09-16T22:13:40.508Z"
   },
   {
    "duration": 0,
    "start_time": "2022-09-16T22:13:40.509Z"
   },
   {
    "duration": 0,
    "start_time": "2022-09-16T22:13:40.510Z"
   },
   {
    "duration": 0,
    "start_time": "2022-09-16T22:13:40.511Z"
   },
   {
    "duration": 0,
    "start_time": "2022-09-16T22:13:40.512Z"
   },
   {
    "duration": 0,
    "start_time": "2022-09-16T22:13:40.513Z"
   },
   {
    "duration": 0,
    "start_time": "2022-09-16T22:13:40.513Z"
   },
   {
    "duration": 13,
    "start_time": "2022-09-16T22:14:07.218Z"
   },
   {
    "duration": 163,
    "start_time": "2022-09-16T22:19:14.526Z"
   },
   {
    "duration": 286,
    "start_time": "2022-09-16T22:21:07.432Z"
   },
   {
    "duration": 247,
    "start_time": "2022-09-16T22:21:59.105Z"
   },
   {
    "duration": 241,
    "start_time": "2022-09-16T22:22:15.073Z"
   },
   {
    "duration": 252,
    "start_time": "2022-09-16T22:22:27.724Z"
   },
   {
    "duration": 267,
    "start_time": "2022-09-16T22:23:06.601Z"
   },
   {
    "duration": 394,
    "start_time": "2022-09-16T22:25:14.300Z"
   },
   {
    "duration": 468,
    "start_time": "2022-09-16T22:25:47.000Z"
   },
   {
    "duration": 176,
    "start_time": "2022-09-16T22:25:57.697Z"
   },
   {
    "duration": 396,
    "start_time": "2022-09-16T22:26:09.662Z"
   },
   {
    "duration": 148,
    "start_time": "2022-09-16T22:26:28.569Z"
   },
   {
    "duration": 155,
    "start_time": "2022-09-16T22:26:40.348Z"
   },
   {
    "duration": 4652,
    "start_time": "2022-09-16T22:26:55.998Z"
   },
   {
    "duration": 164,
    "start_time": "2022-09-16T22:27:09.261Z"
   },
   {
    "duration": 260,
    "start_time": "2022-09-16T22:27:26.437Z"
   },
   {
    "duration": 157,
    "start_time": "2022-09-16T22:27:34.090Z"
   },
   {
    "duration": 415,
    "start_time": "2022-09-16T22:36:36.986Z"
   },
   {
    "duration": 699,
    "start_time": "2022-09-16T22:36:54.203Z"
   },
   {
    "duration": 19,
    "start_time": "2022-09-16T22:41:48.999Z"
   },
   {
    "duration": 504,
    "start_time": "2022-09-16T22:41:56.797Z"
   },
   {
    "duration": 51,
    "start_time": "2022-09-16T22:41:57.303Z"
   },
   {
    "duration": 14,
    "start_time": "2022-09-16T22:41:57.356Z"
   },
   {
    "duration": 2132,
    "start_time": "2022-09-16T22:41:57.372Z"
   },
   {
    "duration": 49,
    "start_time": "2022-09-16T22:41:59.506Z"
   },
   {
    "duration": 3,
    "start_time": "2022-09-16T22:41:59.557Z"
   },
   {
    "duration": 25,
    "start_time": "2022-09-16T22:41:59.561Z"
   },
   {
    "duration": 5,
    "start_time": "2022-09-16T22:41:59.588Z"
   },
   {
    "duration": 17,
    "start_time": "2022-09-16T22:41:59.594Z"
   },
   {
    "duration": 18,
    "start_time": "2022-09-16T22:41:59.613Z"
   },
   {
    "duration": 10,
    "start_time": "2022-09-16T22:41:59.632Z"
   },
   {
    "duration": 9,
    "start_time": "2022-09-16T22:41:59.643Z"
   },
   {
    "duration": 14,
    "start_time": "2022-09-16T22:41:59.653Z"
   },
   {
    "duration": 45,
    "start_time": "2022-09-16T22:41:59.668Z"
   },
   {
    "duration": 5,
    "start_time": "2022-09-16T22:41:59.714Z"
   },
   {
    "duration": 19,
    "start_time": "2022-09-16T22:41:59.721Z"
   },
   {
    "duration": 35,
    "start_time": "2022-09-16T22:41:59.742Z"
   },
   {
    "duration": 106,
    "start_time": "2022-09-16T22:41:59.779Z"
   },
   {
    "duration": 10,
    "start_time": "2022-09-16T22:41:59.887Z"
   },
   {
    "duration": 101,
    "start_time": "2022-09-16T22:41:59.898Z"
   },
   {
    "duration": 57,
    "start_time": "2022-09-16T22:42:00.001Z"
   },
   {
    "duration": 4,
    "start_time": "2022-09-16T22:42:00.059Z"
   },
   {
    "duration": 17,
    "start_time": "2022-09-16T22:42:00.064Z"
   },
   {
    "duration": 10,
    "start_time": "2022-09-16T22:42:00.082Z"
   },
   {
    "duration": 266,
    "start_time": "2022-09-16T22:42:00.094Z"
   },
   {
    "duration": 4,
    "start_time": "2022-09-16T22:42:00.362Z"
   },
   {
    "duration": 57,
    "start_time": "2022-09-16T22:42:00.368Z"
   },
   {
    "duration": 350,
    "start_time": "2022-09-16T22:42:00.429Z"
   },
   {
    "duration": 290,
    "start_time": "2022-09-16T22:42:00.781Z"
   },
   {
    "duration": 269,
    "start_time": "2022-09-16T22:42:01.073Z"
   },
   {
    "duration": 313,
    "start_time": "2022-09-16T22:42:01.343Z"
   },
   {
    "duration": 192,
    "start_time": "2022-09-16T22:42:01.658Z"
   },
   {
    "duration": 166,
    "start_time": "2022-09-16T22:42:01.852Z"
   },
   {
    "duration": 177,
    "start_time": "2022-09-16T22:42:02.020Z"
   },
   {
    "duration": 194,
    "start_time": "2022-09-16T22:42:02.200Z"
   },
   {
    "duration": 175,
    "start_time": "2022-09-16T22:42:02.396Z"
   },
   {
    "duration": 180,
    "start_time": "2022-09-16T22:42:02.573Z"
   },
   {
    "duration": 169,
    "start_time": "2022-09-16T22:42:02.755Z"
   },
   {
    "duration": 162,
    "start_time": "2022-09-16T22:42:02.926Z"
   },
   {
    "duration": 160,
    "start_time": "2022-09-16T22:42:03.090Z"
   },
   {
    "duration": 155,
    "start_time": "2022-09-16T22:42:03.252Z"
   },
   {
    "duration": 399,
    "start_time": "2022-09-16T22:42:03.409Z"
   },
   {
    "duration": 176,
    "start_time": "2022-09-16T22:42:03.810Z"
   },
   {
    "duration": 175,
    "start_time": "2022-09-16T22:42:03.988Z"
   },
   {
    "duration": 358,
    "start_time": "2022-09-16T22:42:04.165Z"
   },
   {
    "duration": 0,
    "start_time": "2022-09-16T22:42:04.524Z"
   },
   {
    "duration": 0,
    "start_time": "2022-09-16T22:42:04.525Z"
   },
   {
    "duration": 0,
    "start_time": "2022-09-16T22:42:04.526Z"
   },
   {
    "duration": 0,
    "start_time": "2022-09-16T22:42:04.527Z"
   },
   {
    "duration": 0,
    "start_time": "2022-09-16T22:42:04.528Z"
   },
   {
    "duration": 0,
    "start_time": "2022-09-16T22:42:04.529Z"
   },
   {
    "duration": 0,
    "start_time": "2022-09-16T22:42:04.530Z"
   },
   {
    "duration": 0,
    "start_time": "2022-09-16T22:42:04.531Z"
   },
   {
    "duration": 0,
    "start_time": "2022-09-16T22:42:04.532Z"
   },
   {
    "duration": 153,
    "start_time": "2022-09-16T22:42:59.611Z"
   },
   {
    "duration": 151,
    "start_time": "2022-09-16T22:43:32.910Z"
   },
   {
    "duration": 153,
    "start_time": "2022-09-16T22:44:04.952Z"
   },
   {
    "duration": 323,
    "start_time": "2022-09-16T22:45:08.862Z"
   },
   {
    "duration": 440,
    "start_time": "2022-09-16T22:45:25.573Z"
   },
   {
    "duration": 41,
    "start_time": "2022-09-16T22:45:26.014Z"
   },
   {
    "duration": 13,
    "start_time": "2022-09-16T22:45:26.056Z"
   },
   {
    "duration": 1993,
    "start_time": "2022-09-16T22:45:26.071Z"
   },
   {
    "duration": 49,
    "start_time": "2022-09-16T22:45:28.066Z"
   },
   {
    "duration": 2,
    "start_time": "2022-09-16T22:45:28.117Z"
   },
   {
    "duration": 18,
    "start_time": "2022-09-16T22:45:28.121Z"
   },
   {
    "duration": 6,
    "start_time": "2022-09-16T22:45:28.140Z"
   },
   {
    "duration": 12,
    "start_time": "2022-09-16T22:45:28.147Z"
   },
   {
    "duration": 16,
    "start_time": "2022-09-16T22:45:28.161Z"
   },
   {
    "duration": 6,
    "start_time": "2022-09-16T22:45:28.179Z"
   },
   {
    "duration": 7,
    "start_time": "2022-09-16T22:45:28.187Z"
   },
   {
    "duration": 10,
    "start_time": "2022-09-16T22:45:28.195Z"
   },
   {
    "duration": 31,
    "start_time": "2022-09-16T22:45:28.206Z"
   },
   {
    "duration": 5,
    "start_time": "2022-09-16T22:45:28.239Z"
   },
   {
    "duration": 16,
    "start_time": "2022-09-16T22:45:28.245Z"
   },
   {
    "duration": 30,
    "start_time": "2022-09-16T22:45:28.262Z"
   },
   {
    "duration": 111,
    "start_time": "2022-09-16T22:45:28.294Z"
   },
   {
    "duration": 17,
    "start_time": "2022-09-16T22:45:28.407Z"
   },
   {
    "duration": 110,
    "start_time": "2022-09-16T22:45:28.425Z"
   },
   {
    "duration": 47,
    "start_time": "2022-09-16T22:45:28.537Z"
   },
   {
    "duration": 4,
    "start_time": "2022-09-16T22:45:28.585Z"
   },
   {
    "duration": 14,
    "start_time": "2022-09-16T22:45:28.590Z"
   },
   {
    "duration": 22,
    "start_time": "2022-09-16T22:45:28.606Z"
   },
   {
    "duration": 277,
    "start_time": "2022-09-16T22:45:28.630Z"
   },
   {
    "duration": 5,
    "start_time": "2022-09-16T22:45:28.909Z"
   },
   {
    "duration": 57,
    "start_time": "2022-09-16T22:45:28.915Z"
   },
   {
    "duration": 361,
    "start_time": "2022-09-16T22:45:28.977Z"
   },
   {
    "duration": 300,
    "start_time": "2022-09-16T22:45:29.340Z"
   },
   {
    "duration": 269,
    "start_time": "2022-09-16T22:45:29.641Z"
   },
   {
    "duration": 300,
    "start_time": "2022-09-16T22:45:29.911Z"
   },
   {
    "duration": 182,
    "start_time": "2022-09-16T22:45:30.213Z"
   },
   {
    "duration": 155,
    "start_time": "2022-09-16T22:45:30.396Z"
   },
   {
    "duration": 172,
    "start_time": "2022-09-16T22:45:30.553Z"
   },
   {
    "duration": 186,
    "start_time": "2022-09-16T22:45:30.726Z"
   },
   {
    "duration": 179,
    "start_time": "2022-09-16T22:45:30.914Z"
   },
   {
    "duration": 180,
    "start_time": "2022-09-16T22:45:31.094Z"
   },
   {
    "duration": 160,
    "start_time": "2022-09-16T22:45:31.276Z"
   },
   {
    "duration": 160,
    "start_time": "2022-09-16T22:45:31.438Z"
   },
   {
    "duration": 163,
    "start_time": "2022-09-16T22:45:31.600Z"
   },
   {
    "duration": 153,
    "start_time": "2022-09-16T22:45:31.765Z"
   },
   {
    "duration": 399,
    "start_time": "2022-09-16T22:45:31.919Z"
   },
   {
    "duration": 179,
    "start_time": "2022-09-16T22:45:32.321Z"
   },
   {
    "duration": 167,
    "start_time": "2022-09-16T22:45:32.502Z"
   },
   {
    "duration": 376,
    "start_time": "2022-09-16T22:45:32.670Z"
   },
   {
    "duration": 0,
    "start_time": "2022-09-16T22:45:33.048Z"
   },
   {
    "duration": 0,
    "start_time": "2022-09-16T22:45:33.049Z"
   },
   {
    "duration": 0,
    "start_time": "2022-09-16T22:45:33.050Z"
   },
   {
    "duration": 0,
    "start_time": "2022-09-16T22:45:33.051Z"
   },
   {
    "duration": 0,
    "start_time": "2022-09-16T22:45:33.052Z"
   },
   {
    "duration": 0,
    "start_time": "2022-09-16T22:45:33.054Z"
   },
   {
    "duration": 0,
    "start_time": "2022-09-16T22:45:33.055Z"
   },
   {
    "duration": 0,
    "start_time": "2022-09-16T22:45:33.057Z"
   },
   {
    "duration": 0,
    "start_time": "2022-09-16T22:45:33.059Z"
   },
   {
    "duration": 322,
    "start_time": "2022-09-16T22:46:55.405Z"
   },
   {
    "duration": 23,
    "start_time": "2022-09-16T22:47:50.864Z"
   },
   {
    "duration": 163,
    "start_time": "2022-09-16T22:52:40.852Z"
   },
   {
    "duration": 147,
    "start_time": "2022-09-16T22:53:28.077Z"
   },
   {
    "duration": 145,
    "start_time": "2022-09-16T22:58:54.700Z"
   },
   {
    "duration": 164,
    "start_time": "2022-09-16T22:59:01.625Z"
   },
   {
    "duration": 23,
    "start_time": "2022-09-16T22:59:18.858Z"
   },
   {
    "duration": 269,
    "start_time": "2022-09-16T22:59:46.196Z"
   },
   {
    "duration": 298,
    "start_time": "2022-09-16T22:59:49.624Z"
   },
   {
    "duration": 82,
    "start_time": "2022-09-16T23:00:16.805Z"
   },
   {
    "duration": 169,
    "start_time": "2022-09-16T23:00:20.318Z"
   },
   {
    "duration": 480,
    "start_time": "2022-09-16T23:00:29.671Z"
   },
   {
    "duration": 461,
    "start_time": "2022-09-16T23:00:45.265Z"
   },
   {
    "duration": 416,
    "start_time": "2022-09-16T23:00:52.233Z"
   },
   {
    "duration": 452,
    "start_time": "2022-09-16T23:04:57.475Z"
   },
   {
    "duration": 42,
    "start_time": "2022-09-16T23:04:57.928Z"
   },
   {
    "duration": 13,
    "start_time": "2022-09-16T23:04:57.972Z"
   },
   {
    "duration": 2146,
    "start_time": "2022-09-16T23:04:57.987Z"
   },
   {
    "duration": 51,
    "start_time": "2022-09-16T23:05:00.134Z"
   },
   {
    "duration": 3,
    "start_time": "2022-09-16T23:05:00.186Z"
   },
   {
    "duration": 30,
    "start_time": "2022-09-16T23:05:00.190Z"
   },
   {
    "duration": 11,
    "start_time": "2022-09-16T23:05:00.221Z"
   },
   {
    "duration": 18,
    "start_time": "2022-09-16T23:05:00.234Z"
   },
   {
    "duration": 27,
    "start_time": "2022-09-16T23:05:00.254Z"
   },
   {
    "duration": 16,
    "start_time": "2022-09-16T23:05:00.283Z"
   },
   {
    "duration": 4,
    "start_time": "2022-09-16T23:05:00.300Z"
   },
   {
    "duration": 10,
    "start_time": "2022-09-16T23:05:00.305Z"
   },
   {
    "duration": 30,
    "start_time": "2022-09-16T23:05:00.316Z"
   },
   {
    "duration": 4,
    "start_time": "2022-09-16T23:05:00.347Z"
   },
   {
    "duration": 17,
    "start_time": "2022-09-16T23:05:00.353Z"
   },
   {
    "duration": 31,
    "start_time": "2022-09-16T23:05:00.372Z"
   },
   {
    "duration": 106,
    "start_time": "2022-09-16T23:05:00.404Z"
   },
   {
    "duration": 16,
    "start_time": "2022-09-16T23:05:00.511Z"
   },
   {
    "duration": 108,
    "start_time": "2022-09-16T23:05:00.528Z"
   },
   {
    "duration": 46,
    "start_time": "2022-09-16T23:05:00.638Z"
   },
   {
    "duration": 4,
    "start_time": "2022-09-16T23:05:00.686Z"
   },
   {
    "duration": 44,
    "start_time": "2022-09-16T23:05:00.691Z"
   },
   {
    "duration": 24,
    "start_time": "2022-09-16T23:05:00.736Z"
   },
   {
    "duration": 272,
    "start_time": "2022-09-16T23:05:00.762Z"
   },
   {
    "duration": 4,
    "start_time": "2022-09-16T23:05:01.035Z"
   },
   {
    "duration": 48,
    "start_time": "2022-09-16T23:05:01.041Z"
   },
   {
    "duration": 378,
    "start_time": "2022-09-16T23:05:01.093Z"
   },
   {
    "duration": 310,
    "start_time": "2022-09-16T23:05:01.473Z"
   },
   {
    "duration": 292,
    "start_time": "2022-09-16T23:05:01.785Z"
   },
   {
    "duration": 305,
    "start_time": "2022-09-16T23:05:02.078Z"
   },
   {
    "duration": 192,
    "start_time": "2022-09-16T23:05:02.385Z"
   },
   {
    "duration": 166,
    "start_time": "2022-09-16T23:05:02.579Z"
   },
   {
    "duration": 181,
    "start_time": "2022-09-16T23:05:02.747Z"
   },
   {
    "duration": 207,
    "start_time": "2022-09-16T23:05:02.930Z"
   },
   {
    "duration": 170,
    "start_time": "2022-09-16T23:05:03.139Z"
   },
   {
    "duration": 178,
    "start_time": "2022-09-16T23:05:03.310Z"
   },
   {
    "duration": 164,
    "start_time": "2022-09-16T23:05:03.490Z"
   },
   {
    "duration": 172,
    "start_time": "2022-09-16T23:05:03.656Z"
   },
   {
    "duration": 160,
    "start_time": "2022-09-16T23:05:03.830Z"
   },
   {
    "duration": 161,
    "start_time": "2022-09-16T23:05:03.992Z"
   },
   {
    "duration": 423,
    "start_time": "2022-09-16T23:05:04.154Z"
   },
   {
    "duration": 171,
    "start_time": "2022-09-16T23:05:04.578Z"
   },
   {
    "duration": 161,
    "start_time": "2022-09-16T23:05:04.750Z"
   },
   {
    "duration": 501,
    "start_time": "2022-09-16T23:05:04.913Z"
   },
   {
    "duration": 0,
    "start_time": "2022-09-16T23:05:05.422Z"
   },
   {
    "duration": 0,
    "start_time": "2022-09-16T23:05:05.423Z"
   },
   {
    "duration": 0,
    "start_time": "2022-09-16T23:05:05.424Z"
   },
   {
    "duration": 0,
    "start_time": "2022-09-16T23:05:05.425Z"
   },
   {
    "duration": 0,
    "start_time": "2022-09-16T23:05:05.425Z"
   },
   {
    "duration": 0,
    "start_time": "2022-09-16T23:05:05.426Z"
   },
   {
    "duration": 0,
    "start_time": "2022-09-16T23:05:05.427Z"
   },
   {
    "duration": 0,
    "start_time": "2022-09-16T23:05:05.428Z"
   },
   {
    "duration": 0,
    "start_time": "2022-09-16T23:05:05.429Z"
   },
   {
    "duration": 134,
    "start_time": "2022-09-16T23:06:34.214Z"
   },
   {
    "duration": 141,
    "start_time": "2022-09-16T23:06:50.429Z"
   },
   {
    "duration": 130,
    "start_time": "2022-09-16T23:06:54.353Z"
   },
   {
    "duration": 27,
    "start_time": "2022-09-16T23:07:16.019Z"
   },
   {
    "duration": 123,
    "start_time": "2022-09-16T23:07:36.761Z"
   },
   {
    "duration": 131,
    "start_time": "2022-09-16T23:11:49.836Z"
   },
   {
    "duration": 503,
    "start_time": "2022-09-16T23:15:17.397Z"
   },
   {
    "duration": 42,
    "start_time": "2022-09-16T23:15:17.901Z"
   },
   {
    "duration": 14,
    "start_time": "2022-09-16T23:15:17.945Z"
   },
   {
    "duration": 2272,
    "start_time": "2022-09-16T23:15:17.961Z"
   },
   {
    "duration": 50,
    "start_time": "2022-09-16T23:15:20.234Z"
   },
   {
    "duration": 2,
    "start_time": "2022-09-16T23:15:20.286Z"
   },
   {
    "duration": 18,
    "start_time": "2022-09-16T23:15:20.289Z"
   },
   {
    "duration": 6,
    "start_time": "2022-09-16T23:15:20.309Z"
   },
   {
    "duration": 17,
    "start_time": "2022-09-16T23:15:20.316Z"
   },
   {
    "duration": 10,
    "start_time": "2022-09-16T23:15:20.335Z"
   },
   {
    "duration": 7,
    "start_time": "2022-09-16T23:15:20.347Z"
   },
   {
    "duration": 5,
    "start_time": "2022-09-16T23:15:20.355Z"
   },
   {
    "duration": 4,
    "start_time": "2022-09-16T23:15:20.361Z"
   },
   {
    "duration": 22,
    "start_time": "2022-09-16T23:15:20.367Z"
   },
   {
    "duration": 9,
    "start_time": "2022-09-16T23:15:20.391Z"
   },
   {
    "duration": 18,
    "start_time": "2022-09-16T23:15:20.412Z"
   },
   {
    "duration": 34,
    "start_time": "2022-09-16T23:15:20.432Z"
   },
   {
    "duration": 176,
    "start_time": "2022-09-16T23:15:20.467Z"
   },
   {
    "duration": 13,
    "start_time": "2022-09-16T23:15:20.645Z"
   },
   {
    "duration": 276,
    "start_time": "2022-09-16T23:15:20.660Z"
   },
   {
    "duration": 48,
    "start_time": "2022-09-16T23:15:20.938Z"
   },
   {
    "duration": 4,
    "start_time": "2022-09-16T23:15:20.988Z"
   },
   {
    "duration": 11,
    "start_time": "2022-09-16T23:15:20.993Z"
   },
   {
    "duration": 26,
    "start_time": "2022-09-16T23:15:21.006Z"
   },
   {
    "duration": 271,
    "start_time": "2022-09-16T23:15:21.033Z"
   },
   {
    "duration": 5,
    "start_time": "2022-09-16T23:15:21.305Z"
   },
   {
    "duration": 34,
    "start_time": "2022-09-16T23:15:21.312Z"
   },
   {
    "duration": 383,
    "start_time": "2022-09-16T23:15:21.351Z"
   },
   {
    "duration": 319,
    "start_time": "2022-09-16T23:15:21.736Z"
   },
   {
    "duration": 273,
    "start_time": "2022-09-16T23:15:22.056Z"
   },
   {
    "duration": 310,
    "start_time": "2022-09-16T23:15:22.331Z"
   },
   {
    "duration": 192,
    "start_time": "2022-09-16T23:15:22.642Z"
   },
   {
    "duration": 160,
    "start_time": "2022-09-16T23:15:22.836Z"
   },
   {
    "duration": 187,
    "start_time": "2022-09-16T23:15:22.998Z"
   },
   {
    "duration": 183,
    "start_time": "2022-09-16T23:15:23.187Z"
   },
   {
    "duration": 168,
    "start_time": "2022-09-16T23:15:23.372Z"
   },
   {
    "duration": 182,
    "start_time": "2022-09-16T23:15:23.542Z"
   },
   {
    "duration": 168,
    "start_time": "2022-09-16T23:15:23.725Z"
   },
   {
    "duration": 168,
    "start_time": "2022-09-16T23:15:23.895Z"
   },
   {
    "duration": 162,
    "start_time": "2022-09-16T23:15:24.064Z"
   },
   {
    "duration": 161,
    "start_time": "2022-09-16T23:15:24.228Z"
   },
   {
    "duration": 406,
    "start_time": "2022-09-16T23:15:24.390Z"
   },
   {
    "duration": 170,
    "start_time": "2022-09-16T23:15:24.797Z"
   },
   {
    "duration": 180,
    "start_time": "2022-09-16T23:15:24.969Z"
   },
   {
    "duration": 137,
    "start_time": "2022-09-16T23:15:25.151Z"
   },
   {
    "duration": 150,
    "start_time": "2022-09-16T23:15:25.289Z"
   },
   {
    "duration": 147,
    "start_time": "2022-09-16T23:15:25.441Z"
   },
   {
    "duration": 173,
    "start_time": "2022-09-16T23:15:25.589Z"
   },
   {
    "duration": 133,
    "start_time": "2022-09-16T23:15:25.763Z"
   },
   {
    "duration": 164,
    "start_time": "2022-09-16T23:15:25.897Z"
   },
   {
    "duration": 198,
    "start_time": "2022-09-16T23:15:26.062Z"
   },
   {
    "duration": 160,
    "start_time": "2022-09-16T23:15:26.263Z"
   },
   {
    "duration": 29,
    "start_time": "2022-09-16T23:15:26.425Z"
   },
   {
    "duration": 177,
    "start_time": "2022-09-16T23:15:26.456Z"
   },
   {
    "duration": 20,
    "start_time": "2022-09-16T23:28:09.475Z"
   },
   {
    "duration": 20,
    "start_time": "2022-09-16T23:28:12.869Z"
   },
   {
    "duration": 20,
    "start_time": "2022-09-16T23:28:29.014Z"
   },
   {
    "duration": 20,
    "start_time": "2022-09-16T23:28:32.794Z"
   },
   {
    "duration": 23,
    "start_time": "2022-09-16T23:28:43.965Z"
   },
   {
    "duration": 137,
    "start_time": "2022-09-16T23:32:10.302Z"
   },
   {
    "duration": 196,
    "start_time": "2022-09-16T23:32:46.295Z"
   },
   {
    "duration": 49,
    "start_time": "2022-09-16T23:35:04.604Z"
   },
   {
    "duration": 158,
    "start_time": "2022-09-16T23:35:39.000Z"
   },
   {
    "duration": 157,
    "start_time": "2022-09-16T23:35:48.713Z"
   },
   {
    "duration": 489,
    "start_time": "2022-09-16T23:48:57.428Z"
   },
   {
    "duration": 48,
    "start_time": "2022-09-16T23:48:57.919Z"
   },
   {
    "duration": 15,
    "start_time": "2022-09-16T23:48:57.969Z"
   },
   {
    "duration": 2151,
    "start_time": "2022-09-16T23:48:57.986Z"
   },
   {
    "duration": 51,
    "start_time": "2022-09-16T23:49:00.139Z"
   },
   {
    "duration": 2,
    "start_time": "2022-09-16T23:49:00.192Z"
   },
   {
    "duration": 31,
    "start_time": "2022-09-16T23:49:00.196Z"
   },
   {
    "duration": 20,
    "start_time": "2022-09-16T23:49:00.229Z"
   },
   {
    "duration": 25,
    "start_time": "2022-09-16T23:49:00.250Z"
   },
   {
    "duration": 37,
    "start_time": "2022-09-16T23:49:00.277Z"
   },
   {
    "duration": 8,
    "start_time": "2022-09-16T23:49:00.316Z"
   },
   {
    "duration": 11,
    "start_time": "2022-09-16T23:49:00.325Z"
   },
   {
    "duration": 26,
    "start_time": "2022-09-16T23:49:00.338Z"
   },
   {
    "duration": 49,
    "start_time": "2022-09-16T23:49:00.366Z"
   },
   {
    "duration": 4,
    "start_time": "2022-09-16T23:49:00.417Z"
   },
   {
    "duration": 44,
    "start_time": "2022-09-16T23:49:00.423Z"
   },
   {
    "duration": 43,
    "start_time": "2022-09-16T23:49:00.468Z"
   },
   {
    "duration": 100,
    "start_time": "2022-09-16T23:49:00.513Z"
   },
   {
    "duration": 16,
    "start_time": "2022-09-16T23:49:00.622Z"
   },
   {
    "duration": 122,
    "start_time": "2022-09-16T23:49:00.639Z"
   },
   {
    "duration": 47,
    "start_time": "2022-09-16T23:49:00.763Z"
   },
   {
    "duration": 13,
    "start_time": "2022-09-16T23:49:00.811Z"
   },
   {
    "duration": 29,
    "start_time": "2022-09-16T23:49:00.826Z"
   },
   {
    "duration": 21,
    "start_time": "2022-09-16T23:49:00.857Z"
   },
   {
    "duration": 267,
    "start_time": "2022-09-16T23:49:00.880Z"
   },
   {
    "duration": 4,
    "start_time": "2022-09-16T23:49:01.149Z"
   },
   {
    "duration": 145,
    "start_time": "2022-09-16T23:49:01.154Z"
   },
   {
    "duration": 411,
    "start_time": "2022-09-16T23:49:01.303Z"
   },
   {
    "duration": 323,
    "start_time": "2022-09-16T23:49:01.715Z"
   },
   {
    "duration": 297,
    "start_time": "2022-09-16T23:49:02.041Z"
   },
   {
    "duration": 329,
    "start_time": "2022-09-16T23:49:02.340Z"
   },
   {
    "duration": 199,
    "start_time": "2022-09-16T23:49:02.671Z"
   },
   {
    "duration": 157,
    "start_time": "2022-09-16T23:49:02.871Z"
   },
   {
    "duration": 187,
    "start_time": "2022-09-16T23:49:03.030Z"
   },
   {
    "duration": 189,
    "start_time": "2022-09-16T23:49:03.219Z"
   },
   {
    "duration": 185,
    "start_time": "2022-09-16T23:49:03.409Z"
   },
   {
    "duration": 183,
    "start_time": "2022-09-16T23:49:03.595Z"
   },
   {
    "duration": 172,
    "start_time": "2022-09-16T23:49:03.780Z"
   },
   {
    "duration": 181,
    "start_time": "2022-09-16T23:49:03.953Z"
   },
   {
    "duration": 184,
    "start_time": "2022-09-16T23:49:04.136Z"
   },
   {
    "duration": 174,
    "start_time": "2022-09-16T23:49:04.324Z"
   },
   {
    "duration": 425,
    "start_time": "2022-09-16T23:49:04.499Z"
   },
   {
    "duration": 193,
    "start_time": "2022-09-16T23:49:04.928Z"
   },
   {
    "duration": 176,
    "start_time": "2022-09-16T23:49:05.123Z"
   },
   {
    "duration": 162,
    "start_time": "2022-09-16T23:49:05.300Z"
   },
   {
    "duration": 158,
    "start_time": "2022-09-16T23:49:05.464Z"
   },
   {
    "duration": 159,
    "start_time": "2022-09-16T23:49:05.624Z"
   },
   {
    "duration": 175,
    "start_time": "2022-09-16T23:49:05.785Z"
   },
   {
    "duration": 152,
    "start_time": "2022-09-16T23:49:05.961Z"
   },
   {
    "duration": 174,
    "start_time": "2022-09-16T23:49:06.115Z"
   },
   {
    "duration": 193,
    "start_time": "2022-09-16T23:49:06.291Z"
   },
   {
    "duration": 163,
    "start_time": "2022-09-16T23:49:06.485Z"
   },
   {
    "duration": 151,
    "start_time": "2022-09-16T23:49:06.650Z"
   },
   {
    "duration": 41,
    "start_time": "2022-09-16T23:49:06.803Z"
   },
   {
    "duration": 172,
    "start_time": "2022-09-16T23:49:06.846Z"
   },
   {
    "duration": 510,
    "start_time": "2022-09-16T23:49:50.240Z"
   },
   {
    "duration": 40,
    "start_time": "2022-09-16T23:49:50.751Z"
   },
   {
    "duration": 32,
    "start_time": "2022-09-16T23:49:50.792Z"
   },
   {
    "duration": 2054,
    "start_time": "2022-09-16T23:49:50.827Z"
   },
   {
    "duration": 54,
    "start_time": "2022-09-16T23:49:52.882Z"
   },
   {
    "duration": 3,
    "start_time": "2022-09-16T23:49:52.939Z"
   },
   {
    "duration": 29,
    "start_time": "2022-09-16T23:49:52.944Z"
   },
   {
    "duration": 6,
    "start_time": "2022-09-16T23:49:52.974Z"
   },
   {
    "duration": 16,
    "start_time": "2022-09-16T23:49:52.982Z"
   },
   {
    "duration": 23,
    "start_time": "2022-09-16T23:49:53.002Z"
   },
   {
    "duration": 9,
    "start_time": "2022-09-16T23:49:53.027Z"
   },
   {
    "duration": 10,
    "start_time": "2022-09-16T23:49:53.038Z"
   },
   {
    "duration": 11,
    "start_time": "2022-09-16T23:49:53.050Z"
   },
   {
    "duration": 25,
    "start_time": "2022-09-16T23:49:53.063Z"
   },
   {
    "duration": 4,
    "start_time": "2022-09-16T23:49:53.090Z"
   },
   {
    "duration": 12,
    "start_time": "2022-09-16T23:49:53.096Z"
   },
   {
    "duration": 37,
    "start_time": "2022-09-16T23:49:53.110Z"
   },
   {
    "duration": 126,
    "start_time": "2022-09-16T23:49:53.149Z"
   },
   {
    "duration": 10,
    "start_time": "2022-09-16T23:49:53.277Z"
   },
   {
    "duration": 141,
    "start_time": "2022-09-16T23:49:53.288Z"
   },
   {
    "duration": 50,
    "start_time": "2022-09-16T23:49:53.431Z"
   },
   {
    "duration": 5,
    "start_time": "2022-09-16T23:49:53.482Z"
   },
   {
    "duration": 10,
    "start_time": "2022-09-16T23:49:53.488Z"
   },
   {
    "duration": 32,
    "start_time": "2022-09-16T23:49:53.500Z"
   },
   {
    "duration": 288,
    "start_time": "2022-09-16T23:49:53.534Z"
   },
   {
    "duration": 6,
    "start_time": "2022-09-16T23:49:53.825Z"
   },
   {
    "duration": 37,
    "start_time": "2022-09-16T23:49:53.833Z"
   },
   {
    "duration": 382,
    "start_time": "2022-09-16T23:49:53.874Z"
   },
   {
    "duration": 308,
    "start_time": "2022-09-16T23:49:54.258Z"
   },
   {
    "duration": 298,
    "start_time": "2022-09-16T23:49:54.567Z"
   },
   {
    "duration": 352,
    "start_time": "2022-09-16T23:49:54.866Z"
   },
   {
    "duration": 223,
    "start_time": "2022-09-16T23:49:55.221Z"
   },
   {
    "duration": 163,
    "start_time": "2022-09-16T23:49:55.448Z"
   },
   {
    "duration": 202,
    "start_time": "2022-09-16T23:49:55.612Z"
   },
   {
    "duration": 193,
    "start_time": "2022-09-16T23:49:55.821Z"
   },
   {
    "duration": 175,
    "start_time": "2022-09-16T23:49:56.023Z"
   },
   {
    "duration": 178,
    "start_time": "2022-09-16T23:49:56.199Z"
   },
   {
    "duration": 185,
    "start_time": "2022-09-16T23:49:56.379Z"
   },
   {
    "duration": 166,
    "start_time": "2022-09-16T23:49:56.566Z"
   },
   {
    "duration": 171,
    "start_time": "2022-09-16T23:49:56.735Z"
   },
   {
    "duration": 172,
    "start_time": "2022-09-16T23:49:56.908Z"
   },
   {
    "duration": 496,
    "start_time": "2022-09-16T23:49:57.082Z"
   },
   {
    "duration": 181,
    "start_time": "2022-09-16T23:49:57.580Z"
   },
   {
    "duration": 187,
    "start_time": "2022-09-16T23:49:57.762Z"
   },
   {
    "duration": 146,
    "start_time": "2022-09-16T23:49:57.950Z"
   },
   {
    "duration": 177,
    "start_time": "2022-09-16T23:49:58.098Z"
   },
   {
    "duration": 158,
    "start_time": "2022-09-16T23:49:58.277Z"
   },
   {
    "duration": 164,
    "start_time": "2022-09-16T23:49:58.437Z"
   },
   {
    "duration": 150,
    "start_time": "2022-09-16T23:49:58.602Z"
   },
   {
    "duration": 188,
    "start_time": "2022-09-16T23:49:58.754Z"
   },
   {
    "duration": 208,
    "start_time": "2022-09-16T23:49:58.946Z"
   },
   {
    "duration": 169,
    "start_time": "2022-09-16T23:49:59.156Z"
   },
   {
    "duration": 157,
    "start_time": "2022-09-16T23:49:59.327Z"
   },
   {
    "duration": 23,
    "start_time": "2022-09-16T23:49:59.486Z"
   },
   {
    "duration": 176,
    "start_time": "2022-09-16T23:49:59.511Z"
   },
   {
    "duration": 483,
    "start_time": "2022-09-17T00:17:02.850Z"
   },
   {
    "duration": 43,
    "start_time": "2022-09-17T00:17:03.336Z"
   },
   {
    "duration": 13,
    "start_time": "2022-09-17T00:17:03.381Z"
   },
   {
    "duration": 2220,
    "start_time": "2022-09-17T00:17:03.406Z"
   },
   {
    "duration": 50,
    "start_time": "2022-09-17T00:17:05.627Z"
   },
   {
    "duration": 2,
    "start_time": "2022-09-17T00:17:05.679Z"
   },
   {
    "duration": 37,
    "start_time": "2022-09-17T00:17:05.682Z"
   },
   {
    "duration": 9,
    "start_time": "2022-09-17T00:17:05.722Z"
   },
   {
    "duration": 27,
    "start_time": "2022-09-17T00:17:05.733Z"
   },
   {
    "duration": 8,
    "start_time": "2022-09-17T00:17:05.762Z"
   },
   {
    "duration": 6,
    "start_time": "2022-09-17T00:17:05.772Z"
   },
   {
    "duration": 6,
    "start_time": "2022-09-17T00:17:05.779Z"
   },
   {
    "duration": 4,
    "start_time": "2022-09-17T00:17:05.786Z"
   },
   {
    "duration": 44,
    "start_time": "2022-09-17T00:17:05.792Z"
   },
   {
    "duration": 15,
    "start_time": "2022-09-17T00:17:05.839Z"
   },
   {
    "duration": 8,
    "start_time": "2022-09-17T00:17:05.855Z"
   },
   {
    "duration": 27,
    "start_time": "2022-09-17T00:17:05.865Z"
   },
   {
    "duration": 155,
    "start_time": "2022-09-17T00:17:05.894Z"
   },
   {
    "duration": 11,
    "start_time": "2022-09-17T00:17:06.051Z"
   },
   {
    "duration": 127,
    "start_time": "2022-09-17T00:17:06.064Z"
   },
   {
    "duration": 77,
    "start_time": "2022-09-17T00:17:06.193Z"
   },
   {
    "duration": 5,
    "start_time": "2022-09-17T00:17:06.271Z"
   },
   {
    "duration": 14,
    "start_time": "2022-09-17T00:17:06.277Z"
   },
   {
    "duration": 29,
    "start_time": "2022-09-17T00:17:06.292Z"
   },
   {
    "duration": 311,
    "start_time": "2022-09-17T00:17:06.323Z"
   },
   {
    "duration": 7,
    "start_time": "2022-09-17T00:17:06.639Z"
   },
   {
    "duration": 40,
    "start_time": "2022-09-17T00:17:06.648Z"
   },
   {
    "duration": 437,
    "start_time": "2022-09-17T00:17:06.691Z"
   },
   {
    "duration": 367,
    "start_time": "2022-09-17T00:17:07.129Z"
   },
   {
    "duration": 305,
    "start_time": "2022-09-17T00:17:07.497Z"
   },
   {
    "duration": 404,
    "start_time": "2022-09-17T00:17:07.805Z"
   },
   {
    "duration": 239,
    "start_time": "2022-09-17T00:17:08.211Z"
   },
   {
    "duration": 200,
    "start_time": "2022-09-17T00:17:08.452Z"
   },
   {
    "duration": 208,
    "start_time": "2022-09-17T00:17:08.654Z"
   },
   {
    "duration": 220,
    "start_time": "2022-09-17T00:17:08.863Z"
   },
   {
    "duration": 203,
    "start_time": "2022-09-17T00:17:09.085Z"
   },
   {
    "duration": 197,
    "start_time": "2022-09-17T00:17:09.289Z"
   },
   {
    "duration": 189,
    "start_time": "2022-09-17T00:17:09.487Z"
   },
   {
    "duration": 183,
    "start_time": "2022-09-17T00:17:09.678Z"
   },
   {
    "duration": 189,
    "start_time": "2022-09-17T00:17:09.862Z"
   },
   {
    "duration": 193,
    "start_time": "2022-09-17T00:17:10.052Z"
   },
   {
    "duration": 474,
    "start_time": "2022-09-17T00:17:10.252Z"
   },
   {
    "duration": 179,
    "start_time": "2022-09-17T00:17:10.730Z"
   },
   {
    "duration": 173,
    "start_time": "2022-09-17T00:17:10.918Z"
   },
   {
    "duration": 175,
    "start_time": "2022-09-17T00:17:11.092Z"
   },
   {
    "duration": 180,
    "start_time": "2022-09-17T00:17:11.271Z"
   },
   {
    "duration": 174,
    "start_time": "2022-09-17T00:17:11.453Z"
   },
   {
    "duration": 169,
    "start_time": "2022-09-17T00:17:11.628Z"
   },
   {
    "duration": 162,
    "start_time": "2022-09-17T00:17:11.798Z"
   },
   {
    "duration": 182,
    "start_time": "2022-09-17T00:17:11.961Z"
   },
   {
    "duration": 203,
    "start_time": "2022-09-17T00:17:12.145Z"
   },
   {
    "duration": 172,
    "start_time": "2022-09-17T00:17:12.349Z"
   },
   {
    "duration": 156,
    "start_time": "2022-09-17T00:17:12.527Z"
   },
   {
    "duration": 40,
    "start_time": "2022-09-17T00:17:12.684Z"
   },
   {
    "duration": 189,
    "start_time": "2022-09-17T00:17:12.732Z"
   },
   {
    "duration": 109,
    "start_time": "2022-09-17T00:23:17.163Z"
   },
   {
    "duration": 4,
    "start_time": "2022-09-17T00:23:47.124Z"
   },
   {
    "duration": 369,
    "start_time": "2022-09-17T00:27:13.805Z"
   },
   {
    "duration": 55,
    "start_time": "2022-10-04T18:02:21.583Z"
   },
   {
    "duration": 681,
    "start_time": "2022-10-04T18:02:43.487Z"
   },
   {
    "duration": 45,
    "start_time": "2022-10-04T18:02:44.170Z"
   },
   {
    "duration": 15,
    "start_time": "2022-10-04T18:02:44.216Z"
   },
   {
    "duration": 2343,
    "start_time": "2022-10-04T18:02:44.233Z"
   },
   {
    "duration": 82,
    "start_time": "2022-10-04T18:02:46.579Z"
   },
   {
    "duration": 14,
    "start_time": "2022-10-04T18:02:46.663Z"
   },
   {
    "duration": 17,
    "start_time": "2022-10-04T18:02:46.679Z"
   },
   {
    "duration": 6,
    "start_time": "2022-10-04T18:02:46.697Z"
   },
   {
    "duration": 10,
    "start_time": "2022-10-04T18:02:46.705Z"
   },
   {
    "duration": 14,
    "start_time": "2022-10-04T18:02:46.718Z"
   },
   {
    "duration": 6,
    "start_time": "2022-10-04T18:02:46.734Z"
   },
   {
    "duration": 35,
    "start_time": "2022-10-04T18:02:46.742Z"
   },
   {
    "duration": 4,
    "start_time": "2022-10-04T18:02:46.778Z"
   },
   {
    "duration": 30,
    "start_time": "2022-10-04T18:02:46.784Z"
   },
   {
    "duration": 5,
    "start_time": "2022-10-04T18:02:46.816Z"
   },
   {
    "duration": 9,
    "start_time": "2022-10-04T18:02:46.822Z"
   },
   {
    "duration": 58,
    "start_time": "2022-10-04T18:02:46.833Z"
   },
   {
    "duration": 151,
    "start_time": "2022-10-04T18:02:46.892Z"
   },
   {
    "duration": 16,
    "start_time": "2022-10-04T18:02:47.045Z"
   },
   {
    "duration": 132,
    "start_time": "2022-10-04T18:02:47.062Z"
   },
   {
    "duration": 53,
    "start_time": "2022-10-04T18:02:47.196Z"
   },
   {
    "duration": 5,
    "start_time": "2022-10-04T18:02:47.251Z"
   },
   {
    "duration": 7,
    "start_time": "2022-10-04T18:02:47.276Z"
   },
   {
    "duration": 13,
    "start_time": "2022-10-04T18:02:47.284Z"
   },
   {
    "duration": 298,
    "start_time": "2022-10-04T18:02:47.298Z"
   },
   {
    "duration": 6,
    "start_time": "2022-10-04T18:02:47.597Z"
   },
   {
    "duration": 43,
    "start_time": "2022-10-04T18:02:47.604Z"
   },
   {
    "duration": 418,
    "start_time": "2022-10-04T18:02:47.651Z"
   },
   {
    "duration": 333,
    "start_time": "2022-10-04T18:02:48.070Z"
   },
   {
    "duration": 301,
    "start_time": "2022-10-04T18:02:48.405Z"
   },
   {
    "duration": 340,
    "start_time": "2022-10-04T18:02:48.708Z"
   },
   {
    "duration": 203,
    "start_time": "2022-10-04T18:02:49.050Z"
   },
   {
    "duration": 166,
    "start_time": "2022-10-04T18:02:49.255Z"
   },
   {
    "duration": 199,
    "start_time": "2022-10-04T18:02:49.422Z"
   },
   {
    "duration": 197,
    "start_time": "2022-10-04T18:02:49.622Z"
   },
   {
    "duration": 186,
    "start_time": "2022-10-04T18:02:49.821Z"
   },
   {
    "duration": 192,
    "start_time": "2022-10-04T18:02:50.009Z"
   },
   {
    "duration": 187,
    "start_time": "2022-10-04T18:02:50.203Z"
   },
   {
    "duration": 196,
    "start_time": "2022-10-04T18:02:50.392Z"
   },
   {
    "duration": 188,
    "start_time": "2022-10-04T18:02:50.590Z"
   },
   {
    "duration": 172,
    "start_time": "2022-10-04T18:02:50.780Z"
   },
   {
    "duration": 344,
    "start_time": "2022-10-04T18:02:50.954Z"
   },
   {
    "duration": 186,
    "start_time": "2022-10-04T18:02:51.300Z"
   },
   {
    "duration": 110,
    "start_time": "2022-10-04T18:02:51.488Z"
   },
   {
    "duration": 222,
    "start_time": "2022-10-04T18:02:51.599Z"
   },
   {
    "duration": 190,
    "start_time": "2022-10-04T18:02:51.823Z"
   },
   {
    "duration": 145,
    "start_time": "2022-10-04T18:02:52.015Z"
   },
   {
    "duration": 163,
    "start_time": "2022-10-04T18:02:52.162Z"
   },
   {
    "duration": 152,
    "start_time": "2022-10-04T18:02:52.326Z"
   },
   {
    "duration": 173,
    "start_time": "2022-10-04T18:02:52.480Z"
   },
   {
    "duration": 179,
    "start_time": "2022-10-04T18:02:52.655Z"
   },
   {
    "duration": 168,
    "start_time": "2022-10-04T18:02:52.835Z"
   },
   {
    "duration": 153,
    "start_time": "2022-10-04T18:02:53.005Z"
   },
   {
    "duration": 30,
    "start_time": "2022-10-04T18:02:53.160Z"
   },
   {
    "duration": 167,
    "start_time": "2022-10-04T18:02:53.192Z"
   },
   {
    "duration": 6,
    "start_time": "2022-10-04T18:09:38.536Z"
   }
  ],
  "kernelspec": {
   "display_name": "Python 3 (ipykernel)",
   "language": "python",
   "name": "python3"
  },
  "language_info": {
   "codemirror_mode": {
    "name": "ipython",
    "version": 3
   },
   "file_extension": ".py",
   "mimetype": "text/x-python",
   "name": "python",
   "nbconvert_exporter": "python",
   "pygments_lexer": "ipython3",
   "version": "3.9.12"
  },
  "toc": {
   "base_numbering": 1,
   "nav_menu": {},
   "number_sections": true,
   "sideBar": true,
   "skip_h1_title": true,
   "title_cell": "Table of Contents",
   "title_sidebar": "Contents",
   "toc_cell": false,
   "toc_position": {},
   "toc_section_display": true,
   "toc_window_display": false
  }
 },
 "nbformat": 4,
 "nbformat_minor": 2
}
